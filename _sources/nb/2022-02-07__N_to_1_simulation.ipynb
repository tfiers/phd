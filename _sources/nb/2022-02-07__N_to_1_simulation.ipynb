{
 "cells": [
  {
   "cell_type": "markdown",
   "id": "57ab3994",
   "metadata": {},
   "source": [
    "# 2022-02-07 • Big-N-to-1 simulation"
   ]
  },
  {
   "cell_type": "markdown",
   "id": "c99fa4fd",
   "metadata": {},
   "source": [
    "## Setup"
   ]
  },
  {
   "cell_type": "code",
   "execution_count": 1,
   "id": "e8899c91",
   "metadata": {},
   "outputs": [],
   "source": [
    "# Pkg.resolve()"
   ]
  },
  {
   "cell_type": "code",
   "execution_count": 2,
   "id": "87685370",
   "metadata": {
    "scrolled": true
   },
   "outputs": [
    {
     "name": "stdout",
     "output_type": "stream",
     "text": [
      "\u001b[36m\u001b[1m[ \u001b[22m\u001b[39m\u001b[36m\u001b[1mInfo: \u001b[22m\u001b[39musing Revise\n",
      "\u001b[36m\u001b[1m[ \u001b[22m\u001b[39m\u001b[36m\u001b[1mInfo: \u001b[22m\u001b[39mimport Distributions\n",
      "\u001b[36m\u001b[1m[ \u001b[22m\u001b[39m\u001b[36m\u001b[1mInfo: \u001b[22m\u001b[39mimport MyToolbox\n",
      "\u001b[36m\u001b[1m[ \u001b[22m\u001b[39m\u001b[36m\u001b[1mInfo: \u001b[22m\u001b[39mPrecompiling MyToolbox [54cd1024-cafd-4d62-948d-ced4874502bf]\n",
      "\u001b[36m\u001b[1m[ \u001b[22m\u001b[39m\u001b[36m\u001b[1mInfo: \u001b[22m\u001b[39musing VoltageToMap\n",
      "\u001b[36m\u001b[1m[ \u001b[22m\u001b[39m\u001b[36m\u001b[1mInfo: \u001b[22m\u001b[39mPrecompiling VoltageToMap [b3b8fdc5-3c26-4000-a0c8-f17415fdf48e]\n"
     ]
    }
   ],
   "source": [
    "include(\"nb_init.jl\")"
   ]
  },
  {
   "cell_type": "code",
   "execution_count": 3,
   "id": "f91aa092",
   "metadata": {},
   "outputs": [],
   "source": [
    "using Parameters, ComponentArrays\n",
    "@alias CVec = ComponentVector;"
   ]
  },
  {
   "cell_type": "markdown",
   "id": "9de0f05e",
   "metadata": {},
   "source": [
    "## Parameters"
   ]
  },
  {
   "cell_type": "markdown",
   "id": "bd8add07",
   "metadata": {},
   "source": [
    "### Simulation duration"
   ]
  },
  {
   "cell_type": "code",
   "execution_count": 4,
   "id": "25409882",
   "metadata": {},
   "outputs": [],
   "source": [
    "sim_duration = 1.2 * seconds;"
   ]
  },
  {
   "cell_type": "markdown",
   "id": "fe9b00fd",
   "metadata": {},
   "source": [
    "### Input spike trains"
   ]
  },
  {
   "cell_type": "code",
   "execution_count": 5,
   "id": "55a40ebc",
   "metadata": {},
   "outputs": [
    {
     "data": {
      "text/plain": [
       "200"
      ]
     },
     "execution_count": 5,
     "metadata": {},
     "output_type": "execute_result"
    }
   ],
   "source": [
    "N_unconn = 100\n",
    "N_exc    = 800\n",
    "# N_exc    = 5200\n",
    "N_inh    = N_exc ÷ 4"
   ]
  },
  {
   "cell_type": "code",
   "execution_count": 6,
   "id": "d20af118",
   "metadata": {},
   "outputs": [
    {
     "data": {
      "text/plain": [
       "1000"
      ]
     },
     "execution_count": 6,
     "metadata": {},
     "output_type": "execute_result"
    }
   ],
   "source": [
    "N_conn = N_inh + N_exc"
   ]
  },
  {
   "cell_type": "code",
   "execution_count": 7,
   "id": "f4ef6c40",
   "metadata": {},
   "outputs": [
    {
     "data": {
      "text/plain": [
       "1100"
      ]
     },
     "execution_count": 7,
     "metadata": {},
     "output_type": "execute_result"
    }
   ],
   "source": [
    "N = N_conn + N_unconn"
   ]
  },
  {
   "cell_type": "code",
   "execution_count": 8,
   "id": "7abaf6cd",
   "metadata": {},
   "outputs": [
    {
     "data": {
      "text/plain": [
       "LogNormal{Float64}(μ=1.0862943611198905, σ=0.7745966692414834)"
      ]
     },
     "execution_count": 8,
     "metadata": {},
     "output_type": "execute_result"
    }
   ],
   "source": [
    "input_spike_rate = LogNormal_with_mean(4Hz, √0.6)  # See the previous notebook"
   ]
  },
  {
   "cell_type": "markdown",
   "id": "32e10fe4",
   "metadata": {},
   "source": [
    "### Synapses"
   ]
  },
  {
   "cell_type": "markdown",
   "id": "388fa39a",
   "metadata": {},
   "source": [
    "Reversal potential at excitatory and inhibitory synapses,\n",
    "as in the report [`2021-11-11__synaptic_conductance_ratio.pdf`](https://github.com/tfiers/phd-thesis/blob/main/reports/2021-11-11__synaptic_conductance_ratio.pdf):"
   ]
  },
  {
   "cell_type": "code",
   "execution_count": 9,
   "id": "642d4520",
   "metadata": {},
   "outputs": [],
   "source": [
    "E_exc =   0 * mV\n",
    "E_inh = -65 * mV;"
   ]
  },
  {
   "cell_type": "markdown",
   "id": "fe1bb8a3",
   "metadata": {},
   "source": [
    "Synaptic conductances `g` at `t = 0`"
   ]
  },
  {
   "cell_type": "code",
   "execution_count": 10,
   "id": "0e74fd47",
   "metadata": {},
   "outputs": [],
   "source": [
    "g_t0 = 0 * nS;"
   ]
  },
  {
   "cell_type": "markdown",
   "id": "36f1bbd3",
   "metadata": {},
   "source": [
    "Exponential decay time constant of synaptic conductance, $τ_{s}$ (`s` for \"synaptic\")"
   ]
  },
  {
   "cell_type": "code",
   "execution_count": 11,
   "id": "09eea508",
   "metadata": {},
   "outputs": [],
   "source": [
    "τ_s = 7 * ms;"
   ]
  },
  {
   "cell_type": "markdown",
   "id": "1e767fb0",
   "metadata": {},
   "source": [
    "Increase in synaptic conductance on a presynaptic spike"
   ]
  },
  {
   "cell_type": "code",
   "execution_count": 12,
   "id": "ac83741d",
   "metadata": {},
   "outputs": [],
   "source": [
    "Δg_exc = 0.1 * nS\n",
    "Δg_inh = 0.4 * nS;"
   ]
  },
  {
   "cell_type": "markdown",
   "id": "4e135c5c",
   "metadata": {},
   "source": [
    "### Izhikevich neuron"
   ]
  },
  {
   "cell_type": "markdown",
   "id": "e02dc031",
   "metadata": {},
   "source": [
    "Initial membrane potential `v` and adaptation variable `u` values"
   ]
  },
  {
   "cell_type": "code",
   "execution_count": 13,
   "id": "ffc8771e",
   "metadata": {},
   "outputs": [],
   "source": [
    "v_t0  = -80 * mV\n",
    "u_t0  =   0 * pA;"
   ]
  },
  {
   "cell_type": "markdown",
   "id": "608dfd37",
   "metadata": {},
   "source": [
    "Izhikevich's neuron model parameters for a cortical regular spiking neuron:"
   ]
  },
  {
   "cell_type": "code",
   "execution_count": 14,
   "id": "704fe985",
   "metadata": {},
   "outputs": [],
   "source": [
    "cortical_RS = CVec(\n",
    "    C      = 100 * pF,\n",
    "    k      = 0.7 * (nS/mV),  # steepness of dv/dt's parabola\n",
    "    vr     = -60 * mV,\n",
    "    vt     = -40 * mV,\n",
    "    a      = 0.03 / ms,      # 1 / time constant of `u`\n",
    "    b      = -2 * nS,        # how strongly `v` deviations from `vr` increase `u`.\n",
    "    v_peak =  35 * mV,\n",
    "    c      = -50 * mV,       # reset voltage.\n",
    "    d      = 100 * pA,       # `u` increase on spike. Free parameter.\n",
    ");"
   ]
  },
  {
   "cell_type": "markdown",
   "id": "e7dc3944",
   "metadata": {},
   "source": [
    "### Numerics"
   ]
  },
  {
   "cell_type": "markdown",
   "id": "f1d73960",
   "metadata": {},
   "source": [
    "Whether to use a fixed (`false`) or [adaptive](https://www.wikiwand.com/en/Adaptive_step_size) timestep (`true`)."
   ]
  },
  {
   "cell_type": "code",
   "execution_count": 15,
   "id": "23e0637c",
   "metadata": {},
   "outputs": [],
   "source": [
    "adaptive = true;"
   ]
  },
  {
   "cell_type": "markdown",
   "id": "cd48f06a",
   "metadata": {},
   "source": [
    "Timestep. If `adaptive`, size of first time step."
   ]
  },
  {
   "cell_type": "code",
   "execution_count": 16,
   "id": "237c9025",
   "metadata": {},
   "outputs": [],
   "source": [
    "dt    = 0.1 * ms;"
   ]
  },
  {
   "cell_type": "markdown",
   "id": "817524d3",
   "metadata": {},
   "source": [
    "Minimum and maximum step sizes"
   ]
  },
  {
   "cell_type": "code",
   "execution_count": 17,
   "id": "1ffa425d",
   "metadata": {},
   "outputs": [],
   "source": [
    "dtmax = 0.5  * ms  # solution unstable if not set\n",
    "dtmin = 0.01 * ms;  # don't spend too much time finding thr crossing or spike arrival"
   ]
  },
  {
   "cell_type": "markdown",
   "id": "5a4999f5",
   "metadata": {},
   "source": [
    "Error tolerances used for determining step size, if `adaptive`.\n",
    "\n",
    "The solver guarantees that the (estimated) difference between\n",
    "the numerical solution and the true solution at any time step\n",
    "is not larger than `abstol + reltol * |y|`\n",
    "(where `y` ≈ the numerical solution at that time step)."
   ]
  },
  {
   "cell_type": "code",
   "execution_count": 18,
   "id": "75c6af60",
   "metadata": {},
   "outputs": [],
   "source": [
    "abstol_v = 0.1 * mV\n",
    "abstol_u = 0.1 * pA\n",
    "abstol_g = 0.01 * nS;"
   ]
  },
  {
   "cell_type": "code",
   "execution_count": 19,
   "id": "b19c23fb",
   "metadata": {},
   "outputs": [],
   "source": [
    "reltol = 1e-3;  # e.g. if true sol is -80 mV, then max error of 0.08 mV\n",
    "reltol = 1;     # only use abstol"
   ]
  },
  {
   "cell_type": "markdown",
   "id": "5b946e87",
   "metadata": {},
   "source": [
    "From the manual: \"These tolerances are local tolerances and thus are not global guarantees. However, a good rule of thumb is that the total solution accuracy is 1-2 digits less than the relative tolerances.\" [[1]](https://diffeq.sciml.ai/stable/basics/faq/#What-does-tolerance-mean-and-how-much-error-should-I-expect)"
   ]
  },
  {
   "cell_type": "code",
   "execution_count": 20,
   "id": "28153750",
   "metadata": {},
   "outputs": [],
   "source": [
    "tol_correction = 0.1;"
   ]
  },
  {
   "cell_type": "code",
   "execution_count": 21,
   "id": "9f143aeb",
   "metadata": {},
   "outputs": [
    {
     "data": {
      "text/plain": [
       "(1.0e-5, 1.0000000000000002e-14, 1.0000000000000002e-12)"
      ]
     },
     "execution_count": 21,
     "metadata": {},
     "output_type": "execute_result"
    }
   ],
   "source": [
    "(abstol_v, abstol_u, abstol_g) .* tol_correction"
   ]
  },
  {
   "cell_type": "markdown",
   "id": "0bbb2f31",
   "metadata": {},
   "source": [
    "For comparison, the default tolerances for ODEs in DifferentialEquations.jl are\n",
    "- `reltol = 1e-2`\n",
    "- `abstol = 1e-6`."
   ]
  },
  {
   "cell_type": "markdown",
   "id": "62ad293e",
   "metadata": {},
   "source": [
    "## IDs"
   ]
  },
  {
   "cell_type": "markdown",
   "id": "955eded5",
   "metadata": {},
   "source": [
    "Neuron, synapse & simulated variable IDs."
   ]
  },
  {
   "cell_type": "markdown",
   "id": "f0ccb8c1",
   "metadata": {},
   "source": [
    "IDs and connections are simple here for the N-to-1 case: only input 'neurons' get an ID, and there is only one synapse for every (connected) neuron."
   ]
  },
  {
   "cell_type": "markdown",
   "id": "cd36d1a3",
   "metadata": {},
   "source": [
    "A utility function. See below for its usage."
   ]
  },
  {
   "cell_type": "code",
   "execution_count": 22,
   "id": "158714be",
   "metadata": {},
   "outputs": [],
   "source": [
    "\"\"\"\n",
    "    idvec(A = 4, B = 2, …)\n",
    "\n",
    "Build a `ComponentVector` (CVec) with the given group names and\n",
    "as many elements per group as specified. Each element gets a\n",
    "unique ID within the CVec, which is also its index in the CVec.\n",
    "I.e. the above call yields `CVec(A = [1,2,3,4], B = [5,6])`.\n",
    "\"\"\"\n",
    "function idvec(; kw...)\n",
    "    cvec = CVec(; (name => _expand(val) for (name, val) in kw)...)\n",
    "    cvec .= 1:length(cvec)\n",
    "    return cvec\n",
    "end;\n",
    "\n",
    "temp = -1  # value does not matter; they get overwritten by UnitRange\n",
    "_expand(val::Nothing) = temp\n",
    "_expand(val::Integer) = fill(temp, val)\n",
    "_expand(val::CVec)    = val              # allow nested idvecs\n",
    ";"
   ]
  },
  {
   "cell_type": "code",
   "execution_count": 23,
   "id": "6ad76f06",
   "metadata": {},
   "outputs": [
    {
     "data": {
      "text/plain": [
       "\u001b[0mComponentVector{Int64}(conn = (exc = [1, 2, 3, 4, 5, 6, 7, 8, 9, 10  …  791, 792, 793, 794, 795, 796, 797, 798, 799, 800], inh = [801, 802, 803, 804, 805, 806, 807, 808, 809, 810  …  991, 992, 993, 994, 995, 996, 997, 998, 999, 1000]), unconn = [1001, 1002, 1003, 1004, 1005, 1006, 1007, 1008, 1009, 1010  …  1091, 1092, 1093, 1094, 1095, 1096, 1097, 1098, 1099, 1100])"
      ]
     },
     "execution_count": 23,
     "metadata": {},
     "output_type": "execute_result"
    }
   ],
   "source": [
    "input_neurons = idvec(conn = idvec(exc = N_exc, inh = N_inh), unconn = N_unconn)"
   ]
  },
  {
   "cell_type": "code",
   "execution_count": 24,
   "id": "6a126c71",
   "metadata": {},
   "outputs": [
    {
     "data": {
      "text/plain": [
       "\u001b[0mComponentVector{Int64}(exc = [1, 2, 3, 4, 5, 6, 7, 8, 9, 10  …  791, 792, 793, 794, 795, 796, 797, 798, 799, 800], inh = [801, 802, 803, 804, 805, 806, 807, 808, 809, 810  …  991, 992, 993, 994, 995, 996, 997, 998, 999, 1000])"
      ]
     },
     "execution_count": 24,
     "metadata": {},
     "output_type": "execute_result"
    }
   ],
   "source": [
    "synapses = idvec(exc = N_exc, inh = N_inh)"
   ]
  },
  {
   "cell_type": "code",
   "execution_count": 25,
   "id": "d646bc50",
   "metadata": {},
   "outputs": [
    {
     "data": {
      "text/plain": [
       "\u001b[0mComponentVector{Int64}(v = 1, u = 2, g = (exc = [3, 4, 5, 6, 7, 8, 9, 10, 11, 12  …  793, 794, 795, 796, 797, 798, 799, 800, 801, 802], inh = [803, 804, 805, 806, 807, 808, 809, 810, 811, 812  …  993, 994, 995, 996, 997, 998, 999, 1000, 1001, 1002]))"
      ]
     },
     "execution_count": 25,
     "metadata": {},
     "output_type": "execute_result"
    }
   ],
   "source": [
    "simulated_vars = idvec(v = nothing, u = nothing, g = synapses)"
   ]
  },
  {
   "cell_type": "markdown",
   "id": "24778f43",
   "metadata": {},
   "source": [
    "Example usage of these objects:"
   ]
  },
  {
   "cell_type": "markdown",
   "id": "d92181a8",
   "metadata": {},
   "source": [
    "Pick some global input neuron ID"
   ]
  },
  {
   "cell_type": "code",
   "execution_count": 26,
   "id": "65d87a01",
   "metadata": {},
   "outputs": [
    {
     "data": {
      "text/plain": [
       "802"
      ]
     },
     "execution_count": 26,
     "metadata": {},
     "output_type": "execute_result"
    }
   ],
   "source": [
    "n = N_exc + 2"
   ]
  },
  {
   "cell_type": "markdown",
   "id": "70f9a818",
   "metadata": {},
   "source": [
    "We can index globally, or locally: we want the second connected inhibitory neuron"
   ]
  },
  {
   "cell_type": "code",
   "execution_count": 27,
   "id": "0f670b17",
   "metadata": {},
   "outputs": [
    {
     "data": {
      "text/plain": [
       "(802, 802)"
      ]
     },
     "execution_count": 27,
     "metadata": {},
     "output_type": "execute_result"
    }
   ],
   "source": [
    "input_neurons[n], input_neurons.conn.inh[2]"
   ]
  },
  {
   "cell_type": "markdown",
   "id": "ed0b54f5",
   "metadata": {},
   "source": [
    "Some introspection, useful for printing & plotting:"
   ]
  },
  {
   "cell_type": "code",
   "execution_count": 28,
   "id": "08e9b3c8",
   "metadata": {},
   "outputs": [
    {
     "data": {
      "text/plain": [
       "\"conn.inh[2]\""
      ]
     },
     "execution_count": 28,
     "metadata": {},
     "output_type": "execute_result"
    }
   ],
   "source": [
    "labels(input_neurons)[n]"
   ]
  },
  {
   "cell_type": "markdown",
   "id": "66502b1e",
   "metadata": {},
   "source": [
    "## Connections"
   ]
  },
  {
   "cell_type": "code",
   "execution_count": 29,
   "id": "62a6bdde",
   "metadata": {},
   "outputs": [],
   "source": [
    "postsynapses = Dict{Int, Vector{Int}}()  # input_neuron_ID => [synapse_IDs...]\n",
    "\n",
    "for (n, s) in zip(input_neurons.conn, synapses)\n",
    "    postsynapses[n] = [s]\n",
    "end\n",
    "for n in input_neurons.unconn\n",
    "    postsynapses[n] = []\n",
    "end"
   ]
  },
  {
   "cell_type": "markdown",
   "id": "0c13b13e",
   "metadata": {},
   "source": [
    "## Broadcast parameters"
   ]
  },
  {
   "cell_type": "markdown",
   "id": "a857ac6a",
   "metadata": {},
   "source": [
    "A bunch of synaptic parameters are given as scalars, but pertain to multiple synapses at once.\n",
    "Here we broadcast these scalars to vectors"
   ]
  },
  {
   "cell_type": "code",
   "execution_count": 30,
   "id": "26ef609e",
   "metadata": {},
   "outputs": [],
   "source": [
    "Δg = similar(synapses, Float64)\n",
    "Δg.exc .= Δg_exc\n",
    "Δg.inh .= Δg_inh;"
   ]
  },
  {
   "cell_type": "code",
   "execution_count": 31,
   "id": "5a36b6e5",
   "metadata": {},
   "outputs": [],
   "source": [
    "E = similar(synapses, Float64)\n",
    "E.exc .= E_exc\n",
    "E.inh .= E_inh;"
   ]
  },
  {
   "cell_type": "markdown",
   "id": "424658a3",
   "metadata": {},
   "source": [
    "Initial conditions"
   ]
  },
  {
   "cell_type": "code",
   "execution_count": 32,
   "id": "f734dc87",
   "metadata": {},
   "outputs": [],
   "source": [
    "vars_t0 = similar(simulated_vars, Float64)\n",
    "vars_t0.v = v_t0\n",
    "vars_t0.u = u_t0\n",
    "vars_t0.g .= g_t0;"
   ]
  },
  {
   "cell_type": "markdown",
   "id": "c9e74050",
   "metadata": {},
   "source": [
    "Maximum error"
   ]
  },
  {
   "cell_type": "code",
   "execution_count": 33,
   "id": "7bf02297",
   "metadata": {},
   "outputs": [],
   "source": [
    "abstol = similar(simulated_vars, Float64)\n",
    "abstol.v = abstol_v\n",
    "abstol.u = abstol_u\n",
    "abstol.g .= abstol_g\n",
    "abstol = abstol .* tol_correction;"
   ]
  },
  {
   "cell_type": "markdown",
   "id": "4c111fa6",
   "metadata": {},
   "source": [
    "## ISI distributions"
   ]
  },
  {
   "cell_type": "markdown",
   "id": "912807c0",
   "metadata": {},
   "source": [
    "Generate firing rates $λ$ by sampling from the input spike rate distribution."
   ]
  },
  {
   "cell_type": "code",
   "execution_count": 58,
   "id": "05b1d316",
   "metadata": {},
   "outputs": [],
   "source": [
    "λ = similar(input_neurons, Float64)\n",
    "λ .= rand(input_spike_rate, length(λ));\n",
    "# showsome(λ)"
   ]
  },
  {
   "cell_type": "markdown",
   "id": "da893593",
   "metadata": {},
   "source": [
    "`Distributions.jl` uses an alternative `Exp` parametrization, namely scale $β$ = 1 / rate."
   ]
  },
  {
   "cell_type": "code",
   "execution_count": 35,
   "id": "9e8713b9",
   "metadata": {},
   "outputs": [],
   "source": [
    "β = 1 ./ λ;"
   ]
  },
  {
   "cell_type": "code",
   "execution_count": 36,
   "id": "2ff447ce",
   "metadata": {},
   "outputs": [],
   "source": [
    "ISI_distributions = similar(input_neurons, Exponential{Float64})\n",
    "ISI_distributions .= Exponential.(β);"
   ]
  },
  {
   "cell_type": "markdown",
   "id": "a66cfef7",
   "metadata": {},
   "source": [
    "## Initialize spiking"
   ]
  },
  {
   "cell_type": "markdown",
   "id": "954215e5",
   "metadata": {},
   "source": [
    "Generate the first spike time for every input neuron by sampling once from its ISI distribution."
   ]
  },
  {
   "cell_type": "code",
   "execution_count": 37,
   "id": "b21763fa",
   "metadata": {},
   "outputs": [],
   "source": [
    "first_spike_times = rand.(ISI_distributions);"
   ]
  },
  {
   "cell_type": "markdown",
   "id": "06625d12",
   "metadata": {},
   "source": [
    "Sort these initial spike times by building a priority queue."
   ]
  },
  {
   "cell_type": "code",
   "execution_count": 38,
   "id": "ea66d7cf",
   "metadata": {},
   "outputs": [],
   "source": [
    "upcoming_input_spikes = PriorityQueue{Int, Float64}()\n",
    "\n",
    "for (neuron, first_spike_time) in enumerate(first_spike_times)\n",
    "    enqueue!(upcoming_input_spikes, neuron => first_spike_time)\n",
    "end"
   ]
  },
  {
   "cell_type": "markdown",
   "id": "3c1fae39",
   "metadata": {},
   "source": [
    "## Parameter object"
   ]
  },
  {
   "cell_type": "markdown",
   "id": "6b7e351c",
   "metadata": {},
   "source": [
    "Encapsulate all 'parameters' used in the differential equation function\n",
    "and the event callback functions in one `NamedTuple`,\n",
    "which is passed through to these functions by DiffEq.jl.\n",
    "\n",
    "This is so that we don't need to read these variables\n",
    "from the global scope (closure), which slows type inference i.e. compilation time.\n",
    "\n",
    "'parameters' in quotes, cause some values are mutated."
   ]
  },
  {
   "cell_type": "code",
   "execution_count": 39,
   "id": "a51a2d28",
   "metadata": {},
   "outputs": [],
   "source": [
    "params = (;\n",
    "    E, Δg, τ_s,\n",
    "    izh = cortical_RS,\n",
    "    postsynapses,\n",
    "    ISI_distributions,\n",
    "    upcoming_input_spikes,\n",
    ");"
   ]
  },
  {
   "cell_type": "markdown",
   "id": "0abd479a",
   "metadata": {},
   "source": [
    "## Differential equations"
   ]
  },
  {
   "cell_type": "markdown",
   "id": "bf84b46b",
   "metadata": {},
   "source": [
    "The derivative functions that define the differential equations.  \n",
    "Note that discontinuities are defined in the next section."
   ]
  },
  {
   "cell_type": "code",
   "execution_count": 40,
   "id": "4d22c924",
   "metadata": {},
   "outputs": [],
   "source": [
    "function f(D, vars, params, _)\n",
    "    @unpack v, u, g = vars\n",
    "    @unpack izh, E, τ_s = params\n",
    "    @unpack C, k, vr, vt, a, b = izh\n",
    "    I_s = 0.0\n",
    "    for (gi, Ei) in zip(g, E)\n",
    "        I_s += gi * (v - Ei)\n",
    "    end\n",
    "    D.v = (k * (v - vr) * (v - vt) - u - I_s) / C\n",
    "    D.u = a * (b * (v - vr) - u)\n",
    "    D.g .= .-g ./ τ_s\n",
    "    return nothing\n",
    "end;"
   ]
  },
  {
   "cell_type": "markdown",
   "id": "cbf18a78",
   "metadata": {},
   "source": [
    "Applied performance optimizations:\n",
    "- Don't use `I_s = sum(g .* (v .- E))`, which allocates a new array. Rather, we use an accumulating loop.\n",
    "- `D.g .= …`: elementwise assignment; instead of overwriting `D.g` with a new array that needs to be allocated.\n",
    "- Parameters via function argument, and not closure of global variables: to speed up type inference (apparently)."
   ]
  },
  {
   "cell_type": "markdown",
   "id": "5b48eda3",
   "metadata": {},
   "source": [
    "About the sign of the synaptic current `I_s`:\n",
    "membrane current is by convention positive\n",
    "if positive charges are flowing _out_ of the cell.\n",
    "\n",
    "For *e.g.* `v = -80 mV` and `Ei = 0 mV` (*i.e.* an excitatory synapse),\n",
    "we get negative `I_si` (namely `gi * -80 mV`), *i.e.* positive charges flowing in ✔."
   ]
  },
  {
   "cell_type": "markdown",
   "id": "70eb31c5",
   "metadata": {},
   "source": [
    "## Events"
   ]
  },
  {
   "cell_type": "code",
   "execution_count": 41,
   "id": "971f6164",
   "metadata": {},
   "outputs": [],
   "source": [
    "\"\"\"\n",
    "An `Event` encapsulates two functions that determine when and\n",
    "how to introduce discontinuities in the differential equations:\n",
    "\n",
    "- `distance` returns some distance to the next event.\n",
    "   An event occurs when this distance hits zero.\n",
    "- `on_event!` is called at each event and may modify\n",
    "   the simulated variables and the parameter object.\n",
    "\n",
    "Both functions take the parameters `(vars, params, t)`: the simulated\n",
    "variables, the parameter object, and the current simulation time.\n",
    "\"\"\"\n",
    "struct Event\n",
    "    distance\n",
    "    on_event!\n",
    "end;"
   ]
  },
  {
   "cell_type": "markdown",
   "id": "378ad6f7",
   "metadata": {},
   "source": [
    "Input spike generation (== arrival, because no transmission delay):"
   ]
  },
  {
   "cell_type": "code",
   "execution_count": 43,
   "id": "2169a8a6",
   "metadata": {},
   "outputs": [],
   "source": [
    "function time_to_next_input_spike(vars, params, t)\n",
    "    _, next_input_spike_time = peek(params.upcoming_input_spikes)\n",
    "        # `peek(pq)` simply returns `pq.xs[1]`; i.e. it's fast.\n",
    "    return t - next_input_spike_time\n",
    "end\n",
    "\n",
    "function on_input_spike!(vars, params, t)\n",
    "    # Process the neuron that just fired.\n",
    "    # Start by removing it from the queue.\n",
    "    fired_neuron = dequeue!(params.upcoming_input_spikes)\n",
    "    \n",
    "    # Generate a new spike time, and add it to the queue.\n",
    "    new_spike_time = t + rand(params.ISI_distributions[fired_neuron])\n",
    "    enqueue!(params.upcoming_input_spikes, fired_neuron => new_spike_time)\n",
    "    \n",
    "    # Update the downstream synapses\n",
    "    # (number of these synapses in the N-to-1 case: 0 or 1).\n",
    "    for synapse in params.postsynapses[fired_neuron]\n",
    "        vars.g[synapse] += params.Δg[synapse]\n",
    "    end\n",
    "\n",
    "end\n",
    "\n",
    "input_spike = Event(time_to_next_input_spike, on_input_spike!);"
   ]
  },
  {
   "cell_type": "markdown",
   "id": "38772241",
   "metadata": {},
   "source": [
    "Spiking threshold crossing of Izhikevich neuron:"
   ]
  },
  {
   "cell_type": "code",
   "execution_count": 44,
   "id": "ac8cc02c",
   "metadata": {},
   "outputs": [],
   "source": [
    "distance_to_spiking_threshold(vars, params, _) = vars.v - params.izh.v_peak\n",
    "\n",
    "function on_spiking_threshold_crossing!(vars, params, _)\n",
    "    # The discontinuous LIF/Izhikevich/AdEx update\n",
    "    vars.v = params.izh.c\n",
    "    vars.u += params.izh.d\n",
    "end\n",
    "\n",
    "spiking_threshold_crossing = Event(distance_to_spiking_threshold, on_spiking_threshold_crossing!);"
   ]
  },
  {
   "cell_type": "code",
   "execution_count": 45,
   "id": "286d59e7",
   "metadata": {},
   "outputs": [],
   "source": [
    "events = [input_spike, spiking_threshold_crossing];"
   ]
  },
  {
   "cell_type": "markdown",
   "id": "77b310aa",
   "metadata": {},
   "source": [
    "## diffeq.jl API"
   ]
  },
  {
   "cell_type": "markdown",
   "id": "f5db9d2a",
   "metadata": {},
   "source": [
    "Set-up problem and solution in DifferentialEquations.jl's API."
   ]
  },
  {
   "cell_type": "code",
   "execution_count": 46,
   "id": "8acf93e8",
   "metadata": {},
   "outputs": [
    {
     "name": "stdout",
     "output_type": "stream",
     "text": [
      "\u001b[36m\u001b[1m[ \u001b[22m\u001b[39m\u001b[36m\u001b[1mInfo: \u001b[22m\u001b[39musing OrdinaryDiffEq\n"
     ]
    }
   ],
   "source": [
    "@withfeedback using OrdinaryDiffEq"
   ]
  },
  {
   "cell_type": "code",
   "execution_count": 47,
   "id": "7db8d667",
   "metadata": {},
   "outputs": [
    {
     "data": {
      "text/plain": [
       "\u001b[36mODEProblem\u001b[0m with uType \u001b[36mComponentVector{Float64, Vector{Float64}, Tuple{Axis{(v = 1, u = 2, g = ViewAxis(3:1002, Axis(exc = 1:800, inh = 801:1000)))}}}\u001b[0m and tType \u001b[36mFloat64\u001b[0m. In-place: \u001b[36mtrue\u001b[0m\n",
       "timespan: (0.0, 1.2)\n",
       "u0: \u001b[0mComponentVector{Float64}(v = -0.08, u = 0.0, g = (exc = [0.0, 0.0, 0.0, 0.0, 0.0, 0.0, 0.0, 0.0, 0.0, 0.0  …  0.0, 0.0, 0.0, 0.0, 0.0, 0.0, 0.0, 0.0, 0.0, 0.0], inh = [0.0, 0.0, 0.0, 0.0, 0.0, 0.0, 0.0, 0.0, 0.0, 0.0  …  0.0, 0.0, 0.0, 0.0, 0.0, 0.0, 0.0, 0.0, 0.0, 0.0]))"
      ]
     },
     "execution_count": 47,
     "metadata": {},
     "output_type": "execute_result"
    }
   ],
   "source": [
    "prob = ODEProblem(f, vars_t0, float(sim_duration), params)\n",
    "    # Duration must be float, so that `t` variable is float."
   ]
  },
  {
   "cell_type": "code",
   "execution_count": 48,
   "id": "0ad0e4c4",
   "metadata": {},
   "outputs": [],
   "source": [
    "function condition(distance, vars, t, integrator)\n",
    "    for (i, event) in enumerate(events)\n",
    "        distance[i] = event.distance(vars, integrator.p, t)\n",
    "    end\n",
    "end\n",
    "\n",
    "function affect!(integrator, i)\n",
    "    events[i].on_event!(integrator.u, integrator.p, integrator.t)\n",
    "end\n",
    "\n",
    "callback = VectorContinuousCallback(condition, affect!, length(events));"
   ]
  },
  {
   "cell_type": "markdown",
   "id": "318323ce",
   "metadata": {},
   "source": [
    "The default and recommended solver. A Runge-Kutta method. Refers to Tsitouras 2011.\n",
    "See http://www.peterstone.name/Maplepgs/Maple/nmthds/RKcoeff/Runge_Kutta_schemes/RK5/RKcoeff5n_1.pdf"
   ]
  },
  {
   "cell_type": "code",
   "execution_count": 49,
   "id": "a5241d2e",
   "metadata": {},
   "outputs": [
    {
     "data": {
      "text/plain": [
       "Tsit5(stage_limiter! = trivial_limiter!, step_limiter! = trivial_limiter!, thread = static(false))"
      ]
     },
     "execution_count": 49,
     "metadata": {},
     "output_type": "execute_result"
    }
   ],
   "source": [
    "solver = Tsit5()"
   ]
  },
  {
   "cell_type": "markdown",
   "id": "553dddab",
   "metadata": {},
   "source": [
    "Don't save all the synaptic conductances, only save `v` and `u`."
   ]
  },
  {
   "cell_type": "code",
   "execution_count": 50,
   "id": "683155f7",
   "metadata": {},
   "outputs": [],
   "source": [
    "save_idxs = [simulated_vars.v, simulated_vars.u];"
   ]
  },
  {
   "cell_type": "markdown",
   "id": "fc3dfdac",
   "metadata": {},
   "source": [
    "Log progress (only relevant in REPL; not visible in nb)"
   ]
  },
  {
   "cell_type": "code",
   "execution_count": 51,
   "id": "ba7f617e",
   "metadata": {},
   "outputs": [],
   "source": [
    "progress = true;"
   ]
  },
  {
   "cell_type": "code",
   "execution_count": 52,
   "id": "ab44a038",
   "metadata": {},
   "outputs": [],
   "source": [
    "solve_() = solve(\n",
    "    prob, solver;\n",
    "    callback, save_idxs, progress,\n",
    "    adaptive, dt, dtmax, dtmin, abstol, reltol,\n",
    ");"
   ]
  },
  {
   "cell_type": "markdown",
   "id": "3c5a5043",
   "metadata": {},
   "source": [
    "## Solve"
   ]
  },
  {
   "cell_type": "code",
   "execution_count": 53,
   "id": "a3030359",
   "metadata": {
    "scrolled": true
   },
   "outputs": [
    {
     "name": "stdout",
     "output_type": "stream",
     "text": [
      " 12.388856 seconds (23.88 M allocations: 1.152 GiB, 4.50% gc time, 89.20% compilation time)\n"
     ]
    }
   ],
   "source": [
    "sol = @time solve_();"
   ]
  },
  {
   "cell_type": "markdown",
   "id": "92838062",
   "metadata": {},
   "source": [
    "## Plot"
   ]
  },
  {
   "cell_type": "code",
   "execution_count": 54,
   "id": "4e69c1a4",
   "metadata": {
    "scrolled": false
   },
   "outputs": [
    {
     "name": "stdout",
     "output_type": "stream",
     "text": [
      "\u001b[36m\u001b[1m[ \u001b[22m\u001b[39m\u001b[36m\u001b[1mInfo: \u001b[22m\u001b[39mimport PyPlot\n"
     ]
    }
   ],
   "source": [
    "@withfeedback import PyPlot\n",
    "using Sciplotlib"
   ]
  },
  {
   "cell_type": "code",
   "execution_count": 55,
   "id": "6d50911c",
   "metadata": {},
   "outputs": [],
   "source": [
    "\"\"\" tzoom = [200ms, 600ms] e.g. \"\"\"\n",
    "function Sciplotlib.plot(sol::ODESolution; tzoom = nothing)\n",
    "    isnothing(tzoom) && (tzoom = sol.t[[1,end]])\n",
    "    izoom = first(tzoom) .< sol.t .< last(tzoom)\n",
    "    plot(\n",
    "        sol.t[izoom] / ms,\n",
    "        sol[1,izoom] / mV,\n",
    "        clip_on = false,\n",
    "        marker = \".\", ms = 1.2, lw = 0.4,\n",
    "        #  xlim = tzoom,  # haha lolwut, adding this causes fig to no longer display.\n",
    "    )\n",
    "end;"
   ]
  },
  {
   "cell_type": "code",
   "execution_count": 56,
   "id": "80f21910",
   "metadata": {},
   "outputs": [
    {
     "data": {
      "image/png": "[encoded data removed]",
      "text/plain": [
       "PyPlot.Figure(PyObject <Figure size 800x480 with 1 Axes>)"
      ]
     },
     "metadata": {
      "image/png": {
       "height": 240,
       "width": 400
      }
     },
     "output_type": "display_data"
    }
   ],
   "source": [
    "plot(sol);"
   ]
  }
 ],
 "metadata": {
  "jupytext": {
   "encoding": "# -*- coding: utf-8 -*-",
   "formats": "ipynb,jl:light"
  },
  "kernelspec": {
   "display_name": "Julia 1.7.0",
   "language": "julia",
   "name": "julia-1.7"
  },
  "language_info": {
   "file_extension": ".jl",
   "mimetype": "application/julia",
   "name": "julia",
   "version": "1.7.0"
  },
  "toc": {
   "base_numbering": 1,
   "nav_menu": {},
   "number_sections": false,
   "sideBar": true,
   "skip_h1_title": true,
   "title_cell": "Table of Contents",
   "title_sidebar": "Contents",
   "toc_cell": false,
   "toc_position": {
    "height": "513.807px",
    "left": "25.3523px",
    "top": "123px",
    "width": "212px"
   },
   "toc_section_display": true,
   "toc_window_display": true
  }
 },
 "nbformat": 4,
 "nbformat_minor": 5
}
