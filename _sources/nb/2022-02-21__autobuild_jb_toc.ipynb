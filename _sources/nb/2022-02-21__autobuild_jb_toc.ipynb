{
 "cells": [
  {
   "cell_type": "markdown",
   "id": "ef962a27",
   "metadata": {},
   "source": [
    "# 2022-02-21 • Build jb toc automatically"
   ]
  },
  {
   "cell_type": "code",
   "execution_count": 1,
   "id": "07f180f7",
   "metadata": {},
   "outputs": [
    {
     "name": "stdout",
     "output_type": "stream",
     "text": [
      "Running `C:\\Users\\lpxtf3\\.ipython\\profile_default\\startup\\startup.py`\n",
      "Imported some stdlib names: `sys`, `re`, `Path`, etc. See `dir()` for full list.\n"
     ]
    }
   ],
   "source": [
    "show_startup_log()"
   ]
  },
  {
   "cell_type": "markdown",
   "id": "d27e7d47",
   "metadata": {},
   "source": [
    "## Regen current contents"
   ]
  },
  {
   "cell_type": "code",
   "execution_count": 3,
   "id": "76f6ee85",
   "metadata": {},
   "outputs": [],
   "source": [
    "cur = \"\"\"\n",
    "- file: index\n",
    "\n",
    "- part: Notebooks\n",
    "  chapters:\n",
    "    - file: nb/2022-02-21b__FENS_abstract\n",
    "    - file: nb/2022-02-21__image_window_test\n",
    "    - file: nb/2022-02-20__vanilla_julia_fixed_dt_solver\n",
    "    - file: nb/2022-02-07__N_to_1_simulation\n",
    "    - file: nb/2022-01-08__lognormal_firing_rates\n",
    "    - file: nb/2021-12-08__biology_vs_Izh_subhtr\n",
    "    - file: nb/2021-12-06__local_HH_dV_shape\n",
    "    - file: nb/2021-12-02__LIF_vs_Izh_subthreshold\n",
    "    - file: nb/2021-11-11__vary_both_inh_strength_and_proportion\n",
    "    - file: nb/2021-11-05__vary_syncond_ratio\n",
    "    - file: nb/2021-09-16__vary_E_vs_I\n",
    "    - file: nb/2021-07-30__inhibitory\n",
    "    - file: nb/2021-01-13__multiple_ROC\n",
    "    - file: nb/2021-01-06__ROC\n",
    "    - file: nb/2021-01-01__vary_params\n",
    "    - file: nb/2020-12-30__test_all_connections\n",
    "    - file: nb/2020-12-11__KS_test_exponential_distribution\n",
    "    - file: nb/2020-11-27__permutation_test\n",
    "    - file: nb/2020-10-23__Delete_around_spike\n",
    "    - file: nb/2020-09-18__Clip_spikes_before_STA\n",
    "    - file: nb/2020-09-10__STA_for_different_PSP_shapes\n",
    "    - file: nb/2020-07-29__STA\n",
    "    - file: nb/2020-07-27__Synaptic_conductances\n",
    "    - file: nb/2020-07-06__Single_neuron_sim\n",
    "\n",
    "- part: Unpolished Notebooks\n",
    "  chapters:\n",
    "    - file: unpolished_intro\n",
    "    - file: nb/2022-02-18__scale_up_N_and_duration\n",
    "    - file: nb/2022-01-04__Hello_Julia\n",
    "    - file: nb/2021-11-18__prototype_new_sim\n",
    "    - file: nb/2021-11-18__constant_input_spikes\n",
    "    - file: nb/2021-12-08__cortical_HH_vs_Izh_dV_shape\n",
    "    - file: nb/2021-11-04__control_for_output_rate\n",
    "    - file: nb/2021-03-10__cond_prob\n",
    "    - file: nb/2021-01-13__conntest_in_codebase\n",
    "    - file: nb/2021-01-02__full_network_sim_tryout\n",
    "    - file: nb/2021-01-01__debug_parallel_calc_STA\n",
    "    - file: nb/2020-11-30__speedup__spike_indices\n",
    "    - file: nb/2020-11-30__speedup\n",
    "    - file: nb/2020-11-27__factor_out_STA\n",
    "    - file: nb/2020-11-16__analytical_PSP\n",
    "    - file: nb/2020-07-28__Storing_in_base_units\n",
    "    - file: nb/2020-07-05__Izhikevich_paper_accomp\n",
    "\"\"\""
   ]
  },
  {
   "cell_type": "code",
   "execution_count": 4,
   "id": "5d56d753",
   "metadata": {},
   "outputs": [],
   "source": [
    "import yaml"
   ]
  },
  {
   "cell_type": "code",
   "execution_count": 7,
   "id": "17d14ccd",
   "metadata": {
    "scrolled": false
   },
   "outputs": [
    {
     "data": {
      "text/plain": [
       "[{'file': 'index'},\n",
       " {'part': 'Notebooks',\n",
       "  'chapters': [{'file': 'nb/2022-02-21b__FENS_abstract'},\n",
       "   {'file': 'nb/2022-02-21__image_window_test'},\n",
       "   {'file': 'nb/2022-02-20__vanilla_julia_fixed_dt_solver'},\n",
       "   {'file': 'nb/2022-02-07__N_to_1_simulation'},\n",
       "   {'file': 'nb/2022-01-08__lognormal_firing_rates'},\n",
       "   {'file': 'nb/2021-12-08__biology_vs_Izh_subhtr'},\n",
       "   {'file': 'nb/2021-12-06__local_HH_dV_shape'},\n",
       "   {'file': 'nb/2021-12-02__LIF_vs_Izh_subthreshold'},\n",
       "   {'file': 'nb/2021-11-11__vary_both_inh_strength_and_proportion'},\n",
       "   {'file': 'nb/2021-11-05__vary_syncond_ratio'},\n",
       "   {'file': 'nb/2021-09-16__vary_E_vs_I'},\n",
       "   {'file': 'nb/2021-07-30__inhibitory'},\n",
       "   {'file': 'nb/2021-01-13__multiple_ROC'},\n",
       "   {'file': 'nb/2021-01-06__ROC'},\n",
       "   {'file': 'nb/2021-01-01__vary_params'},\n",
       "   {'file': 'nb/2020-12-30__test_all_connections'},\n",
       "   {'file': 'nb/2020-12-11__KS_test_exponential_distribution'},\n",
       "   {'file': 'nb/2020-11-27__permutation_test'},\n",
       "   {'file': 'nb/2020-10-23__Delete_around_spike'},\n",
       "   {'file': 'nb/2020-09-18__Clip_spikes_before_STA'},\n",
       "   {'file': 'nb/2020-09-10__STA_for_different_PSP_shapes'},\n",
       "   {'file': 'nb/2020-07-29__STA'},\n",
       "   {'file': 'nb/2020-07-27__Synaptic_conductances'},\n",
       "   {'file': 'nb/2020-07-06__Single_neuron_sim'}]},\n",
       " {'part': 'Unpolished Notebooks',\n",
       "  'chapters': [{'file': 'unpolished_intro'},\n",
       "   {'file': 'nb/2022-02-18__scale_up_N_and_duration'},\n",
       "   {'file': 'nb/2022-01-04__Hello_Julia'},\n",
       "   {'file': 'nb/2021-11-18__prototype_new_sim'},\n",
       "   {'file': 'nb/2021-11-18__constant_input_spikes'},\n",
       "   {'file': 'nb/2021-12-08__cortical_HH_vs_Izh_dV_shape'},\n",
       "   {'file': 'nb/2021-11-04__control_for_output_rate'},\n",
       "   {'file': 'nb/2021-03-10__cond_prob'},\n",
       "   {'file': 'nb/2021-01-13__conntest_in_codebase'},\n",
       "   {'file': 'nb/2021-01-02__full_network_sim_tryout'},\n",
       "   {'file': 'nb/2021-01-01__debug_parallel_calc_STA'},\n",
       "   {'file': 'nb/2020-11-30__speedup__spike_indices'},\n",
       "   {'file': 'nb/2020-11-30__speedup'},\n",
       "   {'file': 'nb/2020-11-27__factor_out_STA'},\n",
       "   {'file': 'nb/2020-11-16__analytical_PSP'},\n",
       "   {'file': 'nb/2020-07-28__Storing_in_base_units'},\n",
       "   {'file': 'nb/2020-07-05__Izhikevich_paper_accomp'}]}]"
      ]
     },
     "execution_count": 7,
     "metadata": {},
     "output_type": "execute_result"
    }
   ],
   "source": [
    "yaml.safe_load(cur)"
   ]
  },
  {
   "cell_type": "markdown",
   "id": "176c50b4",
   "metadata": {},
   "source": [
    "### Polished nb names"
   ]
  },
  {
   "cell_type": "code",
   "execution_count": 22,
   "id": "1bf5a683",
   "metadata": {},
   "outputs": [],
   "source": [
    "polished_nb_names = (\n",
    "    \"2022-02-21b__FENS_abstract\",\n",
    "    \"2022-02-21__image_window_test\",\n",
    "    \"2022-02-20__vanilla_julia_fixed_dt_solver\",\n",
    "    \"2022-02-07__N_to_1_simulation\",\n",
    "    \"2022-01-08__lognormal_firing_rates\",\n",
    "    \"2021-12-08__biology_vs_Izh_subhtr\",\n",
    "    \"2021-12-06__local_HH_dV_shape\",\n",
    "    \"2021-12-02__LIF_vs_Izh_subthreshold\",\n",
    "    \"2021-11-11__vary_both_inh_strength_and_proportion\",\n",
    "    \"2021-11-05__vary_syncond_ratio\",\n",
    "    \"2021-09-16__vary_E_vs_I\",\n",
    "    \"2021-07-30__inhibitory\",\n",
    "    \"2021-01-13__multiple_ROC\",\n",
    "    \"2021-01-06__ROC\",\n",
    "    \"2021-01-01__vary_params\",\n",
    "    \"2020-12-30__test_all_connections\",\n",
    "    \"2020-12-11__KS_test_exponential_distribution\",\n",
    "    \"2020-11-27__permutation_test\",\n",
    "    \"2020-10-23__Delete_around_spike\",\n",
    "    \"2020-09-18__Clip_spikes_before_STA\",\n",
    "    \"2020-09-10__STA_for_different_PSP_shapes\",\n",
    "    \"2020-07-29__STA\",\n",
    "    \"2020-07-27__Synaptic_conductances\",\n",
    "    \"2020-07-06__Single_neuron_sim\",\n",
    ")"
   ]
  },
  {
   "cell_type": "markdown",
   "id": "abba937a",
   "metadata": {},
   "source": [
    "### Read nb dir"
   ]
  },
  {
   "cell_type": "code",
   "execution_count": 24,
   "id": "95a6f630",
   "metadata": {},
   "outputs": [],
   "source": [
    "from pathlib import Path"
   ]
  },
  {
   "cell_type": "code",
   "execution_count": 25,
   "id": "06163bdf",
   "metadata": {},
   "outputs": [
    {
     "data": {
      "text/plain": [
       "[WindowsPath('2020-07-05__Izhikevich_paper_accomp.ipynb'),\n",
       " WindowsPath('2020-07-06__Single_neuron_sim.ipynb'),\n",
       " WindowsPath('2020-07-27__Synaptic_conductances.ipynb'),\n",
       " WindowsPath('2020-07-28__Storing_in_base_units.ipynb'),\n",
       " WindowsPath('2020-07-29__STA.ipynb'),\n",
       " WindowsPath('2020-09-10__STA_for_different_PSP_shapes.ipynb'),\n",
       " WindowsPath('2020-09-18__Clip_spikes_before_STA.ipynb'),\n",
       " WindowsPath('2020-10-23__Delete_around_spike.ipynb'),\n",
       " WindowsPath('2020-11-16__analytical_PSP.ipynb'),\n",
       " WindowsPath('2020-11-27__factor_out_STA.ipynb'),\n",
       " WindowsPath('2020-11-27__permutation_test.ipynb'),\n",
       " WindowsPath('2020-11-30__speedup.ipynb'),\n",
       " WindowsPath('2020-11-30__speedup__spike_indices.ipynb'),\n",
       " WindowsPath('2020-12-11__KS_test_exponential_distribution.ipynb'),\n",
       " WindowsPath('2020-12-30__test_all_connections.ipynb'),\n",
       " WindowsPath('2021-01-01__debug_parallel_calc_STA.ipynb'),\n",
       " WindowsPath('2021-01-01__vary_params.ipynb'),\n",
       " WindowsPath('2021-01-02__full_network_sim_tryout.ipynb'),\n",
       " WindowsPath('2021-01-06__ROC.ipynb'),\n",
       " WindowsPath('2021-01-13__conntest_in_codebase.ipynb'),\n",
       " WindowsPath('2021-01-13__multiple_ROC.ipynb'),\n",
       " WindowsPath('2021-02-22__spikes_only_conntests.ipynb'),\n",
       " WindowsPath('2021-03-10__cond_prob.ipynb'),\n",
       " WindowsPath('2021-05-25__PGR_conf.ipynb'),\n",
       " WindowsPath('2021-07-30__inhibitory.ipynb'),\n",
       " WindowsPath('2021-09-16__vary_E_vs_I.ipynb'),\n",
       " WindowsPath('2021-11-04__control_for_output_rate.ipynb'),\n",
       " WindowsPath('2021-11-05__vary_syncond_ratio.ipynb'),\n",
       " WindowsPath('2021-11-11__vary_both_inh_strength_and_proportion.ipynb'),\n",
       " WindowsPath('2021-11-18__constant_input_spikes.ipynb'),\n",
       " WindowsPath('2021-11-18__prototype_new_sim.ipynb'),\n",
       " WindowsPath('2021-12-02__LIF_vs_Izh_subthreshold.ipynb'),\n",
       " WindowsPath('2021-12-06__local_HH_dV_shape.ipynb'),\n",
       " WindowsPath('2021-12-08__biology_vs_Izh_subhtr.ipynb'),\n",
       " WindowsPath('2021-12-08__cortical_HH_vs_Izh_dV_shape.ipynb'),\n",
       " WindowsPath('2022-01-04__Hello_Julia.ipynb'),\n",
       " WindowsPath('2022-01-08__lognormal_firing_rates.ipynb'),\n",
       " WindowsPath('2022-02-07__N_to_1_simulation.ipynb'),\n",
       " WindowsPath('2022-02-18__scale_up_N_and_duration.ipynb'),\n",
       " WindowsPath('2022-02-20__vanilla_julia_fixed_dt_solver.ipynb'),\n",
       " WindowsPath('2022-02-21b__FENS_abstract.ipynb'),\n",
       " WindowsPath('2022-02-21__autobuild_jb_toc.ipynb'),\n",
       " WindowsPath('2022-02-21__image_window_test.ipynb'),\n",
       " WindowsPath('2022-03-02__factor_out_conntest_eval.ipynb')]"
      ]
     },
     "execution_count": 25,
     "metadata": {},
     "output_type": "execute_result"
    }
   ],
   "source": [
    "all_nb = list(Path(\".\").glob(\"*.ipynb\"))\n",
    "all_nb"
   ]
  },
  {
   "cell_type": "markdown",
   "id": "fdcd2c7b",
   "metadata": {},
   "source": [
    "### Get all nb not in polished list"
   ]
  },
  {
   "cell_type": "markdown",
   "id": "16a20f6c",
   "metadata": {},
   "source": [
    "We can ignore jupytext pairs (.jl), as only .ipynb's are rendered."
   ]
  },
  {
   "cell_type": "code",
   "execution_count": 21,
   "id": "fd70255d",
   "metadata": {},
   "outputs": [
    {
     "data": {
      "text/plain": [
       "'2020-07-05__Izhikevich_paper_accomp.ipynb'"
      ]
     },
     "execution_count": 21,
     "metadata": {},
     "output_type": "execute_result"
    }
   ],
   "source": [
    "all_nb[0].name"
   ]
  },
  {
   "cell_type": "code",
   "execution_count": 27,
   "id": "ef70d686",
   "metadata": {},
   "outputs": [
    {
     "data": {
      "text/plain": [
       "[WindowsPath('2022-02-21b__FENS_abstract.ipynb'),\n",
       " WindowsPath('2022-02-21__image_window_test.ipynb'),\n",
       " WindowsPath('2022-02-20__vanilla_julia_fixed_dt_solver.ipynb'),\n",
       " WindowsPath('2022-02-07__N_to_1_simulation.ipynb'),\n",
       " WindowsPath('2022-01-08__lognormal_firing_rates.ipynb'),\n",
       " WindowsPath('2021-12-08__biology_vs_Izh_subhtr.ipynb'),\n",
       " WindowsPath('2021-12-06__local_HH_dV_shape.ipynb'),\n",
       " WindowsPath('2021-12-02__LIF_vs_Izh_subthreshold.ipynb'),\n",
       " WindowsPath('2021-11-11__vary_both_inh_strength_and_proportion.ipynb'),\n",
       " WindowsPath('2021-11-05__vary_syncond_ratio.ipynb'),\n",
       " WindowsPath('2021-09-16__vary_E_vs_I.ipynb'),\n",
       " WindowsPath('2021-07-30__inhibitory.ipynb'),\n",
       " WindowsPath('2021-01-13__multiple_ROC.ipynb'),\n",
       " WindowsPath('2021-01-06__ROC.ipynb'),\n",
       " WindowsPath('2021-01-01__vary_params.ipynb'),\n",
       " WindowsPath('2020-12-30__test_all_connections.ipynb'),\n",
       " WindowsPath('2020-12-11__KS_test_exponential_distribution.ipynb'),\n",
       " WindowsPath('2020-11-27__permutation_test.ipynb'),\n",
       " WindowsPath('2020-10-23__Delete_around_spike.ipynb'),\n",
       " WindowsPath('2020-09-18__Clip_spikes_before_STA.ipynb'),\n",
       " WindowsPath('2020-09-10__STA_for_different_PSP_shapes.ipynb'),\n",
       " WindowsPath('2020-07-29__STA.ipynb'),\n",
       " WindowsPath('2020-07-27__Synaptic_conductances.ipynb'),\n",
       " WindowsPath('2020-07-06__Single_neuron_sim.ipynb')]"
      ]
     },
     "execution_count": 27,
     "metadata": {},
     "output_type": "execute_result"
    }
   ],
   "source": [
    "polished_nb = [Path(name + \".ipynb\") for name in polished_nb_names]\n",
    "polished_nb"
   ]
  },
  {
   "cell_type": "code",
   "execution_count": 28,
   "id": "e41dd564",
   "metadata": {},
   "outputs": [
    {
     "data": {
      "text/plain": [
       "'C:\\\\Users\\\\lpxtf3\\\\.ipython\\\\profile_default\\\\startup'"
      ]
     },
     "execution_count": 28,
     "metadata": {},
     "output_type": "execute_result"
    }
   ],
   "source": [
    "get_ipython().profile_dir.startup_dir"
   ]
  },
  {
   "cell_type": "code",
   "execution_count": null,
   "id": "3da721ae",
   "metadata": {},
   "outputs": [],
   "source": []
  },
  {
   "cell_type": "markdown",
   "id": "5c9e58a2",
   "metadata": {},
   "source": [
    "## Read tags"
   ]
  },
  {
   "cell_type": "code",
   "execution_count": null,
   "id": "181090b5",
   "metadata": {},
   "outputs": [],
   "source": []
  },
  {
   "cell_type": "code",
   "execution_count": null,
   "id": "09e729c5",
   "metadata": {},
   "outputs": [],
   "source": []
  }
 ],
 "metadata": {
  "kernelspec": {
   "display_name": "Python 3 (ipykernel)",
   "language": "python",
   "name": "python3"
  },
  "language_info": {
   "codemirror_mode": {
    "name": "ipython",
    "version": 3
   },
   "file_extension": ".py",
   "mimetype": "text/x-python",
   "name": "python",
   "nbconvert_exporter": "python",
   "pygments_lexer": "ipython3",
   "version": "3.9.6"
  },
  "toc": {
   "base_numbering": 1,
   "nav_menu": {},
   "number_sections": true,
   "sideBar": true,
   "skip_h1_title": true,
   "title_cell": "Table of Contents",
   "title_sidebar": "Contents",
   "toc_cell": false,
   "toc_position": {
    "height": "calc(100% - 180px)",
    "left": "10px",
    "top": "150px",
    "width": "219.273px"
   },
   "toc_section_display": true,
   "toc_window_display": true
  }
 },
 "nbformat": 4,
 "nbformat_minor": 5
}
