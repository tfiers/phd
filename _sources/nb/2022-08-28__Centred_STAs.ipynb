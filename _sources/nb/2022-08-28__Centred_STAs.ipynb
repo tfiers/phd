{
 "cells": [
  {
   "cell_type": "markdown",
   "id": "57ab3994",
   "metadata": {},
   "source": [
    "# 2022-08-28 • Centred STAs"
   ]
  },
  {
   "cell_type": "markdown",
   "id": "ebb94a2c",
   "metadata": {},
   "source": [
    "Center spike-triggered windows around 0 (mV) before averaging them."
   ]
  },
  {
   "cell_type": "markdown",
   "id": "8807be89",
   "metadata": {},
   "source": [
    "..\n",
    "\n",
    "This is useless (in terms of increasing 'SNR' of the STA):\n",
    "\n",
    "If the current STA is this:\n",
    "\n",
    "$$\n",
    "STA_{cur} = \\frac{1}{N} \\sum_s V[s:s+W]\n",
    "$$\n",
    "\n",
    "(where $s$ is the presynaptic spiketime, $N$ the number of such spikes, $W$ the window length, and $V$ the voltage / VI signal),\n",
    "\n",
    "then the new STA would be:\n",
    "\n",
    "$$\n",
    "STA_{new} = \\frac{1}{N} \\sum_s \\left( V[s:s+W] - V[s] \\right)\n",
    "$$\n",
    "\n",
    "In other words:\n",
    "$$\n",
    "STA_{new} = STA_{cur} - \\frac{1}{N} \\sum_s V[s] \\\\\n",
    "          = STA_{cur} - STA_{cur}[1]\n",
    "$$\n",
    "\n",
    "i.e. the STA waveforms would be the same as the current ones, just shifted vertically by some value (namely the average voltage at the start of the window; or, if we had rather chosen $\\texttt{mean}(V[s:s+W])$ as referencing value instead of $V[s]$: the average voltage of all windows).\n",
    "\n",
    "---\n",
    "\n",
    "(Note that the above notation is more programm-y than mathy, with the $[…:…]$ slicing notation. In usual math notation we'd express it per timepoint: $STA[t] = \\frac{1}{N} \\sum_s V[s+t]$, with $t = 0, 1, …, W$).\n",
    "\n",
    "---\n",
    "\n",
    "This idea would thus have no effect on connection detectability using the peak-to-peak measure (it would stay the same).\n",
    "\n",
    "Neither would it have an effect on the 'exc or inh' test, as that one already uses the $STA[1]$ as reference value."
   ]
  },
  {
   "cell_type": "code",
   "execution_count": null,
   "id": "8ca3fedb",
   "metadata": {},
   "outputs": [],
   "source": []
  }
 ],
 "metadata": {
  "jupytext": {
   "encoding": "# -*- coding: utf-8 -*-",
   "formats": "ipynb,jl:light"
  },
  "kernelspec": {
   "display_name": "Julia 1.7.0",
   "language": "julia",
   "name": "julia-1.7"
  },
  "language_info": {
   "file_extension": ".jl",
   "mimetype": "application/julia",
   "name": "julia",
   "version": "1.7.0"
  },
  "toc": {
   "base_numbering": 1,
   "nav_menu": {},
   "number_sections": false,
   "sideBar": false,
   "skip_h1_title": true,
   "title_cell": "Table of Contents",
   "title_sidebar": "Contents",
   "toc_cell": false,
   "toc_position": {
    "height": "244.688px",
    "left": "1066px",
    "top": "0px",
    "width": "192px"
   },
   "toc_section_display": false,
   "toc_window_display": true
  }
 },
 "nbformat": 4,
 "nbformat_minor": 5
}
