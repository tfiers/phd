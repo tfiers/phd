{
 "cells": [
  {
   "cell_type": "markdown",
   "id": "57ab3994",
   "metadata": {},
   "source": [
    "# 2022-09-30 • Use parametric STA model for connection testing"
   ]
  },
  {
   "cell_type": "markdown",
   "id": "c99fa4fd",
   "metadata": {},
   "source": [
    "## Imports"
   ]
  },
  {
   "cell_type": "code",
   "execution_count": 1,
   "id": "1a27acb6",
   "metadata": {},
   "outputs": [],
   "source": [
    "#"
   ]
  },
  {
   "cell_type": "code",
   "execution_count": 2,
   "id": "3a016087",
   "metadata": {},
   "outputs": [],
   "source": [
    "using MyToolbox"
   ]
  },
  {
   "cell_type": "code",
   "execution_count": 4,
   "id": "ba1f0cec",
   "metadata": {
    "scrolled": false
   },
   "outputs": [],
   "source": [
    "using VoltoMapSim"
   ]
  },
  {
   "cell_type": "markdown",
   "id": "4696dbcf",
   "metadata": {},
   "source": [
    "## Params"
   ]
  },
  {
   "cell_type": "code",
   "execution_count": 5,
   "id": "daa847e7",
   "metadata": {},
   "outputs": [],
   "source": [
    "p = get_params(\n",
    "    duration = 10minutes,\n",
    "    p_conn = 0.04,\n",
    "    g_EE = 1,\n",
    "    g_EI = 1,\n",
    "    g_IE = 4,\n",
    "    g_II = 4,\n",
    "    ext_current = Normal(-0.5 * pA/√seconds, 5 * pA/√seconds),\n",
    "    E_inh = -80 * mV,\n",
    "    record_v = [1:40; 801:810],\n",
    ");"
   ]
  },
  {
   "cell_type": "markdown",
   "id": "3f48a850",
   "metadata": {},
   "source": [
    "## Load STA's"
   ]
  },
  {
   "cell_type": "markdown",
   "id": "9a660701",
   "metadata": {},
   "source": [
    "(They're precalculated)."
   ]
  },
  {
   "cell_type": "code",
   "execution_count": 6,
   "id": "1aa367b3",
   "metadata": {},
   "outputs": [
    {
     "name": "stdout",
     "output_type": "stream",
     "text": [
      "Loading cached output from `C:\\Users\\tfiers\\.phdcache\\calc_all_STAs\\b9353bdd11d8b8cb.jld2` … done (12.9 s)\n"
     ]
    }
   ],
   "source": [
    "out = cached_STAs(p);"
   ]
  },
  {
   "cell_type": "code",
   "execution_count": 7,
   "id": "4798c728",
   "metadata": {},
   "outputs": [],
   "source": [
    "(conns, STAs, shuffled_STAs) = out;"
   ]
  },
  {
   "cell_type": "markdown",
   "id": "e9c2fe64",
   "metadata": {},
   "source": [
    "## Test one conn."
   ]
  },
  {
   "cell_type": "code",
   "execution_count": 8,
   "id": "22cabb14",
   "metadata": {},
   "outputs": [
    {
     "data": {
      "text/plain": [
       "139 => 1"
      ]
     },
     "execution_count": 8,
     "metadata": {},
     "output_type": "execute_result"
    }
   ],
   "source": [
    "conn = (conns.pre .=> conns.post)[1]"
   ]
  },
  {
   "cell_type": "code",
   "execution_count": 10,
   "id": "6369fa38",
   "metadata": {},
   "outputs": [
    {
     "data": {
      "text/plain": [
       "LsqFit.LsqFitResult{Vector{Float64}, Vector{Float64}, Matrix{Float64}, Vector{Float64}}([0.0131, 0.0131, 0.0129, 0.08, 0.08, 0, 0.000357], [4.5E-05, 3.61E-05, 3.74E-05, 5.71E-05, 4.09E-05, 2.78E-05, 2.26E-05, -8.39E-06, -4.39E-05, -1.67E-05  …  -6.25E-05, -8E-05, -7.93E-05, -6.69E-05, -8.25E-05, -0.000109, -0.000101, -0.000101, -0.000119, -0.000119], [0.0105 -0.00452 … 9.85E-05 -0.35; 0.0105 -0.00452 … 9.82E-05 -0.35; … ; 0.011 -0.00273 … -3.13E-05 -0.327; 0.011 -0.00274 … -3.12E-05 -0.327], true, Float64[])"
      ]
     },
     "execution_count": 10,
     "metadata": {},
     "output_type": "execute_result"
    }
   ],
   "source": [
    "fit = fit_STA(STAs[conn], p)"
   ]
  },
  {
   "cell_type": "code",
   "execution_count": null,
   "id": "ad180cf6",
   "metadata": {},
   "outputs": [],
   "source": []
  }
 ],
 "metadata": {
  "jupytext": {
   "encoding": "# -*- coding: utf-8 -*-",
   "formats": "ipynb,jl:light"
  },
  "kernelspec": {
   "display_name": "Julia 1.8.1 mysys",
   "language": "julia",
   "name": "julia-1.8-mysys"
  },
  "language_info": {
   "file_extension": ".jl",
   "mimetype": "application/julia",
   "name": "julia",
   "version": "1.8.1"
  },
  "toc": {
   "base_numbering": 1,
   "nav_menu": {},
   "number_sections": false,
   "sideBar": true,
   "skip_h1_title": true,
   "title_cell": "Table of Contents",
   "title_sidebar": "Contents",
   "toc_cell": false,
   "toc_position": {
    "height": "406.667px",
    "left": "1230.28px",
    "top": "0px",
    "width": "186.938px"
   },
   "toc_section_display": true,
   "toc_window_display": true
  }
 },
 "nbformat": 4,
 "nbformat_minor": 5
}
