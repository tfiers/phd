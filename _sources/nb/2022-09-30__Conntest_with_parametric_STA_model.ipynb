{
 "cells": [
  {
   "cell_type": "markdown",
   "id": "57ab3994",
   "metadata": {},
   "source": [
    "# 2022-09-30 • Use parametric STA model for connection testing"
   ]
  },
  {
   "cell_type": "markdown",
   "id": "c99fa4fd",
   "metadata": {},
   "source": [
    "## Imports"
   ]
  },
  {
   "cell_type": "code",
   "execution_count": 1,
   "id": "1a27acb6",
   "metadata": {},
   "outputs": [],
   "source": [
    "#"
   ]
  },
  {
   "cell_type": "code",
   "execution_count": 5,
   "id": "3a016087",
   "metadata": {},
   "outputs": [],
   "source": [
    "using MyToolbox"
   ]
  },
  {
   "cell_type": "code",
   "execution_count": 6,
   "id": "ba1f0cec",
   "metadata": {
    "scrolled": false
   },
   "outputs": [
    {
     "name": "stdout",
     "output_type": "stream",
     "text": [
      "\u001b[36m\u001b[1m[ \u001b[22m\u001b[39m\u001b[36m\u001b[1mInfo: \u001b[22m\u001b[39mPrecompiling VoltoMapSim [f713100b-c48c-421a-b480-5fcb4c589a9e]\n"
     ]
    }
   ],
   "source": [
    "using VoltoMapSim"
   ]
  },
  {
   "cell_type": "markdown",
   "id": "4696dbcf",
   "metadata": {},
   "source": [
    "## Params"
   ]
  },
  {
   "cell_type": "code",
   "execution_count": 7,
   "id": "daa847e7",
   "metadata": {},
   "outputs": [],
   "source": [
    "p = get_params(\n",
    "    duration = 10minutes,\n",
    "    p_conn = 0.04,\n",
    "    g_EE = 1,\n",
    "    g_EI = 1,\n",
    "    g_IE = 4,\n",
    "    g_II = 4,\n",
    "    ext_current = Normal(-0.5 * pA/√seconds, 5 * pA/√seconds),\n",
    "    E_inh = -80 * mV,\n",
    "    record_v = [1:40; 801:810],\n",
    ");"
   ]
  },
  {
   "cell_type": "markdown",
   "id": "3f48a850",
   "metadata": {},
   "source": [
    "## Load STA's"
   ]
  },
  {
   "cell_type": "markdown",
   "id": "9a660701",
   "metadata": {},
   "source": [
    "(They're precalculated)."
   ]
  },
  {
   "cell_type": "code",
   "execution_count": 8,
   "id": "1aa367b3",
   "metadata": {},
   "outputs": [
    {
     "name": "stdout",
     "output_type": "stream",
     "text": [
      "Loading cached output from `C:\\Users\\tfiers\\.phdcache\\calc_all_STAs\\b9353bdd11d8b8cb.jld2` … done (16.8 s)\n"
     ]
    }
   ],
   "source": [
    "out = cached_STAs(p);"
   ]
  },
  {
   "cell_type": "code",
   "execution_count": 9,
   "id": "4798c728",
   "metadata": {},
   "outputs": [],
   "source": [
    "(conns, STAs, shuffled_STAs) = out;"
   ]
  },
  {
   "cell_type": "code",
   "execution_count": null,
   "id": "c23ccd84",
   "metadata": {},
   "outputs": [],
   "source": []
  }
 ],
 "metadata": {
  "jupytext": {
   "encoding": "# -*- coding: utf-8 -*-",
   "formats": "ipynb,jl:light"
  },
  "kernelspec": {
   "display_name": "Julia 1.8.1 mysys",
   "language": "julia",
   "name": "julia-1.8-mysys"
  },
  "language_info": {
   "file_extension": ".jl",
   "mimetype": "application/julia",
   "name": "julia",
   "version": "1.8.1"
  },
  "toc": {
   "base_numbering": 1,
   "nav_menu": {},
   "number_sections": false,
   "sideBar": true,
   "skip_h1_title": true,
   "title_cell": "Table of Contents",
   "title_sidebar": "Contents",
   "toc_cell": false,
   "toc_position": {
    "height": "406.667px",
    "left": "1230.28px",
    "top": "0px",
    "width": "186.938px"
   },
   "toc_section_display": true,
   "toc_window_display": true
  }
 },
 "nbformat": 4,
 "nbformat_minor": 5
}
