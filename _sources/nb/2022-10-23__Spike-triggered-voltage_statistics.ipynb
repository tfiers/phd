{
 "cells": [
  {
   "cell_type": "markdown",
   "id": "57ab3994",
   "metadata": {},
   "source": [
    "# 2022-10-23 • Spike-triggered voltage statistics"
   ]
  },
  {
   "cell_type": "markdown",
   "id": "c03c88b4",
   "metadata": {},
   "source": [
    "What is the spread of the STA at the different times-after-spike.\n",
    "\n",
    "Motivation: get insight in this signal we're analyzing and fitting / modelling.\n",
    "Most concretely, what should distribution of errors around prediction be (the default i.e. Normal(0, σₓ)?)."
   ]
  },
  {
   "cell_type": "markdown",
   "id": "c99fa4fd",
   "metadata": {},
   "source": [
    "## Imports"
   ]
  },
  {
   "cell_type": "code",
   "execution_count": 1,
   "id": "1a27acb6",
   "metadata": {},
   "outputs": [],
   "source": [
    "#"
   ]
  },
  {
   "cell_type": "code",
   "execution_count": 2,
   "id": "3a016087",
   "metadata": {},
   "outputs": [],
   "source": [
    "using MyToolbox"
   ]
  },
  {
   "cell_type": "code",
   "execution_count": 6,
   "id": "c5f73e95",
   "metadata": {
    "scrolled": false
   },
   "outputs": [],
   "source": [
    "@time_imports using VoltoMapSim"
   ]
  },
  {
   "cell_type": "markdown",
   "id": "0e8e8ed3",
   "metadata": {},
   "source": [
    "## Data indexing order"
   ]
  },
  {
   "cell_type": "markdown",
   "id": "6c14b6eb",
   "metadata": {},
   "source": [
    "We have calculated STA's before.\n",
    "But we don't want those, we want the individual 'windows'.\n",
    "\n",
    "Options to index:\n",
    "1. k → i → tᵣ\n",
    "2. k → tᵣ → i\n",
    "3. tᵣ → k → i\n",
    "\n",
    "where\n",
    "- tᵣ = t_rel = time after spike\n",
    "- k  = k, possible connection\n",
    "- i  = nr of presynaptic spike\n",
    "\n",
    "Our plot will eventually have tᵣ on the x-axis, and postsyn voltage `v` on the y-axis (and the data is a heatmap of probability) (there'll also be slices, there v is the x-axis, and y is the pdf).\n",
    "\n",
    "Both these plot types will aggregate (to estimate the pdf's) over both `k` and `i`."
   ]
  },
  {
   "cell_type": "markdown",
   "id": "3264c8a5",
   "metadata": {},
   "source": [
    "We will separate plots by connection type (inh vs exc vs not-connected).\n",
    "So `k` will go first -- same as it was with STAs."
   ]
  },
  {
   "cell_type": "markdown",
   "id": "0584fa75",
   "metadata": {},
   "source": [
    "Then tᵣ maybe?"
   ]
  },
  {
   "cell_type": "markdown",
   "id": "a7bbbd94",
   "metadata": {},
   "source": [
    "## Estimate disk usage"
   ]
  },
  {
   "cell_type": "markdown",
   "id": "1e134a7d",
   "metadata": {},
   "source": [
    "Estimated filesize (it's already 3GB for all STA's of one 10 min sim...)"
   ]
  },
  {
   "cell_type": "code",
   "execution_count": 9,
   "id": "2e738a1c",
   "metadata": {},
   "outputs": [],
   "source": [
    "set_print_precision(4)"
   ]
  },
  {
   "cell_type": "code",
   "execution_count": 10,
   "id": "e3d3d348",
   "metadata": {},
   "outputs": [
    {
     "data": {
      "text/plain": [
       "2400"
      ]
     },
     "execution_count": 10,
     "metadata": {},
     "output_type": "execute_result"
    }
   ],
   "source": [
    "mean_fr = 4Hz\n",
    "duration = 10minute\n",
    "windows_per_train = mean_fr * duration"
   ]
  },
  {
   "cell_type": "code",
   "execution_count": 78,
   "id": "9e6e5648",
   "metadata": {},
   "outputs": [
    {
     "data": {
      "text/plain": [
       "8"
      ]
     },
     "execution_count": 78,
     "metadata": {},
     "output_type": "execute_result"
    }
   ],
   "source": [
    "samples_per_window = 1000\n",
    "bytes_per_sample = 64bits / bytes\n",
    "(window_disk_size = bytes_per_sample * samples_per_window) / kB"
   ]
  },
  {
   "cell_type": "code",
   "execution_count": 17,
   "id": "e7ff089e",
   "metadata": {},
   "outputs": [
    {
     "data": {
      "text/plain": [
       "6000"
      ]
     },
     "execution_count": 17,
     "metadata": {},
     "output_type": "execute_result"
    }
   ],
   "source": [
    "N_recorded = 50\n",
    "N_pre_per_post = 3*40\n",
    "N_conns = N_recorded * N_pre_per_post"
   ]
  },
  {
   "cell_type": "code",
   "execution_count": 58,
   "id": "ab6c8c3e",
   "metadata": {},
   "outputs": [],
   "source": [
    "# Print with thousands-separator\n",
    "fmt_bigint(x::Int; sep = ' ') =\n",
    "    for (digit, i) in Iterators.reverse(zip(digits(x), 1:ndigits(x)))\n",
    "        if (i % 3 == 0)\n",
    "            print(sep)  # This will currently print \" 100\".\n",
    "        end\n",
    "        print(digit)\n",
    "    end\n",
    "\n",
    "fmt_bigint(x) = Int(x) |> fmt_bigint;"
   ]
  },
  {
   "cell_type": "code",
   "execution_count": 66,
   "id": "7570a630",
   "metadata": {},
   "outputs": [
    {
     "name": "stdout",
     "output_type": "stream",
     "text": [
      "14 400 000"
     ]
    }
   ],
   "source": [
    "(N_windows = N_conns * windows_per_train) |> fmt_bigint"
   ]
  },
  {
   "cell_type": "code",
   "execution_count": 69,
   "id": "b464686e",
   "metadata": {},
   "outputs": [
    {
     "data": {
      "text/plain": [
       "115.2"
      ]
     },
     "execution_count": 69,
     "metadata": {},
     "output_type": "execute_result"
    }
   ],
   "source": [
    "N_windows * window_disk_size / GB"
   ]
  },
  {
   "cell_type": "markdown",
   "id": "0198e874",
   "metadata": {},
   "source": [
    "Haha. yeah."
   ]
  },
  {
   "cell_type": "markdown",
   "id": "f2404a79",
   "metadata": {},
   "source": [
    "So saving them all on disk is not an option."
   ]
  },
  {
   "cell_type": "markdown",
   "id": "3cb67d42",
   "metadata": {},
   "source": [
    "This is annoying.  \n",
    "\n",
    "What can we reduce.\n",
    "\n",
    "Or, we do not save all datapoints, but save some aggregate.\\\n",
    "'The pdf'.\\\n",
    "ig we'd bin then.\\\n",
    "For a given tᵣ, which 1mV wide (e.g.) bin count do we increase."
   ]
  },
  {
   "cell_type": "markdown",
   "id": "5d002dfc",
   "metadata": {},
   "source": [
    "## Binning strategy"
   ]
  },
  {
   "cell_type": "markdown",
   "id": "65306e5e",
   "metadata": {},
   "source": [
    "How many bins?\n",
    "\n",
    "What is the range of a typical STA."
   ]
  },
  {
   "cell_type": "markdown",
   "id": "7cef21fb",
   "metadata": {},
   "source": [
    "Scratch that, the STA has very small range compared to individual windows.\n",
    "Those go all the way to spike peak."
   ]
  },
  {
   "cell_type": "markdown",
   "id": "5fdde75c",
   "metadata": {},
   "source": [
    "But yes we want high density (resolution) in the sta range: -48 mV to -51 mV"
   ]
  },
  {
   "cell_type": "markdown",
   "id": "4d9b62ec",
   "metadata": {},
   "source": [
    "Can we have uniform resolution over whole v range, or is that costly.\n",
    "\n",
    "(The code is easier if uniform resolution)."
   ]
  },
  {
   "cell_type": "markdown",
   "id": "d9c8503e",
   "metadata": {},
   "source": [
    "Algo would look sth like\n",
    "```python\n",
    "\n",
    "for (pre, post) in pairs\n",
    "    for t in pre.spikes\n",
    "        for tᵣ in window_length\n",
    "            v = post.voltage[t + tᵣ]\n",
    "            pdf[pre, post, tᵣ, bin(v)] += 1\n",
    "```"
   ]
  },
  {
   "cell_type": "markdown",
   "id": "0001afeb",
   "metadata": {},
   "source": [
    "Size of this pdf / bincounts on disk?"
   ]
  },
  {
   "cell_type": "code",
   "execution_count": 77,
   "id": "6aae58b8",
   "metadata": {
    "scrolled": true
   },
   "outputs": [
    {
     "name": "stdout",
     "output_type": "stream",
     "text": [
      "6 000 000"
     ]
    }
   ],
   "source": [
    "(N_pdfs = N_conns * samples_per_window) |> fmt_bigint"
   ]
  },
  {
   "cell_type": "code",
   "execution_count": 88,
   "id": "ee6be43c",
   "metadata": {},
   "outputs": [],
   "source": [
    "bytes_per_bin = 64bits/bytes  # Just one Int64. (could be Int32 too but eh not worth).\n",
    "v_peak = 35mV  # Izh parameter\n",
    "v_min = -90mV  # Guess. (Eᵢ = -80mV). We'd need two bins for if out of range.\n",
    "v_range = v_peak - v_min;"
   ]
  },
  {
   "cell_type": "markdown",
   "id": "66971e03",
   "metadata": {},
   "source": [
    "To get good resolution around STAs (-48 to -51 mV, https://tfiers.github.io/phd/nb/2022-09-01__1144_weights.html#average-sta-window)..\n",
    "\n",
    "that range should have maybe 1000 bins?\\\n",
    "So "
   ]
  },
  {
   "cell_type": "code",
   "execution_count": 86,
   "id": "e4c1c363",
   "metadata": {},
   "outputs": [
    {
     "data": {
      "text/plain": [
       "0.003"
      ]
     },
     "execution_count": 86,
     "metadata": {},
     "output_type": "execute_result"
    }
   ],
   "source": [
    "sta_range = -48mV - -51mV\n",
    "(v_resolution = sta_range / 1000) / mV"
   ]
  },
  {
   "cell_type": "code",
   "execution_count": 248,
   "id": "91eabe7c",
   "metadata": {},
   "outputs": [
    {
     "data": {
      "text/plain": [
       "41669"
      ]
     },
     "execution_count": 248,
     "metadata": {},
     "output_type": "execute_result"
    }
   ],
   "source": [
    "N_bins = N_bins__uniform_fine = round(Int, v_range / v_resolution) + 2"
   ]
  },
  {
   "cell_type": "code",
   "execution_count": 91,
   "id": "d232ec37",
   "metadata": {},
   "outputs": [
    {
     "data": {
      "text/plain": [
       "2000"
      ]
     },
     "execution_count": 91,
     "metadata": {},
     "output_type": "execute_result"
    }
   ],
   "source": [
    "(disk_size = N_pdfs * N_bins * bytes_per_bin) / GB"
   ]
  },
  {
   "cell_type": "markdown",
   "id": "58187706",
   "metadata": {},
   "source": [
    "Damn.\n",
    "\n",
    "How is this larger?\\\n",
    "`14 400 000 windows * 8 kB / window`\\\n",
    "vs\\\n",
    "`6 000 000 pdfs * 4 1000 bins * 8 byte / bin`\\\n",
    "\n",
    "Hm, guess it's indeed faster to save values themselves rather than to bin them finely."
   ]
  },
  {
   "cell_type": "markdown",
   "id": "c1210998",
   "metadata": {},
   "source": [
    "We could:\n",
    "- ~~simulate shorter~~\n",
    "    - ..but didn't we find that 10' is needed for conntesting\n",
    "    - ..this won't help for bin disk size, that's already aggregated over spikes (time)\n",
    "- aggregate over connections, by types\n",
    "    - only 1000 * 3 pdf's then: exc, inh, unconn\n",
    "    - you then don't have option to see distr of false-positive conns\n",
    "- have coarser and/or non-uniform bins\n",
    "- bin in time also: not 1000 samples per window but e.g. 100. (1 per ms)."
   ]
  },
  {
   "cell_type": "markdown",
   "id": "5e6cb355",
   "metadata": {},
   "source": [
    "For the non-uniform binning, I'd like to see histogram of *all* voltage."
   ]
  },
  {
   "cell_type": "markdown",
   "id": "946930e3",
   "metadata": {},
   "source": [
    "## Voltage histogram\n",
    "\n",
    "(unconditioned, as in: not external-spike-aligned)."
   ]
  },
  {
   "cell_type": "code",
   "execution_count": 92,
   "id": "b8869fbc",
   "metadata": {},
   "outputs": [],
   "source": [
    "p = get_params(duration = 10minutes, p_conn = 0.04, g_EE = 1, g_EI = 1, g_IE = 4, g_II = 4, ext_current = Normal(-0.5 * pA/√seconds, 5 * pA/√seconds), E_inh = -80 * mV, record_v = [1:40; 801:810]);"
   ]
  },
  {
   "cell_type": "code",
   "execution_count": 93,
   "id": "19771987",
   "metadata": {},
   "outputs": [
    {
     "name": "stdout",
     "output_type": "stream",
     "text": [
      "Loading cached output from `C:\\Users\\tfiers\\.phdcache\\sim\\ce5e30aee45561ed.jld2` … done (32.3 s)\n"
     ]
    }
   ],
   "source": [
    "s = cached(sim, [p.sim]);"
   ]
  },
  {
   "cell_type": "code",
   "execution_count": 94,
   "id": "5806a752",
   "metadata": {},
   "outputs": [],
   "source": [
    "s = augment(s, p);"
   ]
  },
  {
   "cell_type": "code",
   "execution_count": 244,
   "id": "ef1ff972",
   "metadata": {},
   "outputs": [
    {
     "data": {
      "image/png": "[encoded data removed]",
      "text/plain": [
       "PyPlot.Figure(PyObject <Figure size 800x480 with 1 Axes>)"
      ]
     },
     "metadata": {
      "image/png": {
       "height": 240,
       "width": 400
      }
     },
     "output_type": "display_data"
    }
   ],
   "source": [
    "ax, counts, bins, bars = hist(\n",
    "    s.v[1] / mV,\n",
    "    bins = 200,\n",
    "    xlabel = \"Vₘ (mV)\",\n",
    "    hylabel = \"Simulated voltage distribution\"\n",
    ");"
   ]
  },
  {
   "cell_type": "code",
   "execution_count": 240,
   "id": "b935b2f8",
   "metadata": {},
   "outputs": [
    {
     "data": {
      "text/plain": [
       "(201, 200)"
      ]
     },
     "execution_count": 240,
     "metadata": {},
     "output_type": "execute_result"
    }
   ],
   "source": [
    "length(bins), length(counts)"
   ]
  },
  {
   "cell_type": "code",
   "execution_count": 241,
   "id": "307543a6",
   "metadata": {},
   "outputs": [
    {
     "data": {
      "text/plain": [
       "([-70.32, -69.79], 5)"
      ]
     },
     "execution_count": 241,
     "metadata": {},
     "output_type": "execute_result"
    }
   ],
   "source": [
    "bins[1:2], counts[1]"
   ]
  },
  {
   "cell_type": "markdown",
   "id": "fe7a4e6b",
   "metadata": {},
   "source": [
    "Interesting, doesn't reach Eᵢ of -80 mV at all.\n",
    "\n",
    "<br>"
   ]
  },
  {
   "cell_type": "code",
   "execution_count": 103,
   "id": "f18cab71",
   "metadata": {},
   "outputs": [
    {
     "data": {
      "text/plain": [
       "([34.47, 35], 311)"
      ]
     },
     "execution_count": 103,
     "metadata": {},
     "output_type": "execute_result"
    }
   ],
   "source": [
    "bins[end-1:end], counts[end]"
   ]
  },
  {
   "cell_type": "markdown",
   "id": "ffedd30a",
   "metadata": {},
   "source": [
    "Ye that last bin location tracks with izh's v_peak of 35 mV.\n",
    "\n",
    "`v_thr` is -40 mV (and then there's the slow quadratic runaway).\n",
    "This distribution might look different around -40 with a more realistic model, like AdEx (EIF)."
   ]
  },
  {
   "cell_type": "markdown",
   "id": "0d2bb84c",
   "metadata": {},
   "source": [
    "## Non-uniform bins"
   ]
  },
  {
   "cell_type": "markdown",
   "id": "3e99e4f1",
   "metadata": {},
   "source": [
    "To get non uniform bins, we could simply take the ecdf of the above historgram, and invert uniform probability bins.\n",
    "\n",
    "Problem with non-uniform: comparing pdf's between simulations. Say an AdEx simulation would have other bins.\n",
    "\n",
    "So we'd need to save the bins found here and use them for all future simulations.\n",
    "\n",
    "(..but then these bins might not be good for those simulations! They might have a different base-level voltage (say a higher EI input ratio), or have a different tail weight (like exponential vs quadratic spike runoff, presumably))."
   ]
  },
  {
   "cell_type": "code",
   "execution_count": 126,
   "id": "75343711",
   "metadata": {},
   "outputs": [
    {
     "name": "stdout",
     "output_type": "stream",
     "text": [
      "  1.398035 seconds (9 allocations: 91.553 MiB, 2.46% gc time)\n"
     ]
    }
   ],
   "source": [
    "@time vcdf = ecdf(s.v[1]);  # Sorts values. Returns a callable"
   ]
  },
  {
   "cell_type": "code",
   "execution_count": 125,
   "id": "14611bf8",
   "metadata": {},
   "outputs": [
    {
     "data": {
      "text/plain": [
       "(-70.32, 35)"
      ]
     },
     "execution_count": 125,
     "metadata": {},
     "output_type": "execute_result"
    }
   ],
   "source": [
    "extrema(vcdf) ./ mV"
   ]
  },
  {
   "cell_type": "code",
   "execution_count": 118,
   "id": "30971bd5",
   "metadata": {},
   "outputs": [
    {
     "data": {
      "text/plain": [
       "0.9384"
      ]
     },
     "execution_count": 118,
     "metadata": {},
     "output_type": "execute_result"
    }
   ],
   "source": [
    "vcdf(-40mV)"
   ]
  },
  {
   "cell_type": "code",
   "execution_count": 168,
   "id": "fc21c3a6",
   "metadata": {},
   "outputs": [
    {
     "data": {
      "image/png": "[encoded data removed]",
      "text/plain": [
       "PyPlot.Figure(PyObject <Figure size 800x480 with 1 Axes>)"
      ]
     },
     "metadata": {
      "image/png": {
       "height": 240,
       "width": 400
      }
     },
     "output_type": "display_data"
    }
   ],
   "source": [
    "x = range(extrema(vcdf)...; length=100)\n",
    "plot(x / mV, vcdf.(x); xlabel=\"Vₘ (mV)\", hylabel=\"ECDF\");"
   ]
  },
  {
   "cell_type": "markdown",
   "id": "190ef603",
   "metadata": {},
   "source": [
    "We need the inverse, i.e. quantiles, not the ECDF."
   ]
  },
  {
   "cell_type": "code",
   "execution_count": 186,
   "id": "503f8803",
   "metadata": {},
   "outputs": [],
   "source": [
    "nqs = nquantile(s.v[1], 100);"
   ]
  },
  {
   "cell_type": "code",
   "execution_count": 187,
   "id": "fc05dbb1",
   "metadata": {},
   "outputs": [
    {
     "data": {
      "image/png": "[encoded data removed]",
      "text/plain": [
       "PyPlot.Figure(PyObject <Figure size 800x480 with 1 Axes>)"
      ]
     },
     "metadata": {
      "image/png": {
       "height": 240,
       "width": 400
      }
     },
     "output_type": "display_data"
    }
   ],
   "source": [
    "plot(nqs / mV, \".\"; xlabel=\"Quantile nr.\", hylabel=\"mV\");"
   ]
  },
  {
   "cell_type": "code",
   "execution_count": 189,
   "id": "acfa6ac6",
   "metadata": {},
   "outputs": [
    {
     "name": "stdout",
     "output_type": "stream",
     "text": [
      "qbins[1] ./ mV = (-70.32, -63.15)\n",
      "qbins[50] ./ mV = (-54.01, -53.88)\n",
      "qbins[100] ./ mV = (-11.71, 35)\n"
     ]
    }
   ],
   "source": [
    "qbins = collect(zip(nqs[1:end-1], nqs[2:end]));\n",
    "@show qbins[1] ./ mV\n",
    "@show qbins[50] ./ mV\n",
    "@show qbins[100] ./ mV;"
   ]
  },
  {
   "cell_type": "code",
   "execution_count": 190,
   "id": "dc6fc810",
   "metadata": {},
   "outputs": [
    {
     "name": "stdout",
     "output_type": "stream",
     "text": [
      "binsize(qbins[1]) / mV = 7.168\n",
      "binsize(qbins[50]) / mV = 0.1295\n",
      "binsize(qbins[100]) / mV = 46.71\n"
     ]
    }
   ],
   "source": [
    "binsize(bin) = only(diff(collect(bin)))\n",
    "\n",
    "@show binsize(qbins[1]) / mV\n",
    "@show binsize(qbins[50]) / mV\n",
    "@show binsize(qbins[100]) / mV;"
   ]
  },
  {
   "cell_type": "markdown",
   "id": "a7db828f",
   "metadata": {},
   "source": [
    "With 100 bins, how big are pdfs on disk?"
   ]
  },
  {
   "cell_type": "code",
   "execution_count": 191,
   "id": "2e9dc6ee",
   "metadata": {},
   "outputs": [
    {
     "data": {
      "text/plain": [
       "4.8"
      ]
     },
     "execution_count": 191,
     "metadata": {},
     "output_type": "execute_result"
    }
   ],
   "source": [
    "(N_pdfs * 100 * bytes_per_bin) / GB"
   ]
  },
  {
   "cell_type": "markdown",
   "id": "f4cdbb24",
   "metadata": {},
   "source": [
    "Pfoe! still too large :("
   ]
  },
  {
   "cell_type": "markdown",
   "id": "cec8f943",
   "metadata": {},
   "source": [
    "Ok, with aggregating over connection type:"
   ]
  },
  {
   "cell_type": "code",
   "execution_count": 245,
   "id": "caac7ac4",
   "metadata": {},
   "outputs": [
    {
     "data": {
      "text/plain": [
       "3000"
      ]
     },
     "execution_count": 245,
     "metadata": {},
     "output_type": "execute_result"
    }
   ],
   "source": [
    "N_pdf_agg_conn = 3 * samples_per_window"
   ]
  },
  {
   "cell_type": "code",
   "execution_count": 247,
   "id": "e28d7061",
   "metadata": {},
   "outputs": [
    {
     "data": {
      "text/plain": [
       "2.4"
      ]
     },
     "execution_count": 247,
     "metadata": {},
     "output_type": "execute_result"
    }
   ],
   "source": [
    "N_pdf_agg_conn * 100 * bytes_per_bin / MB"
   ]
  },
  {
   "cell_type": "markdown",
   "id": "36b646a5",
   "metadata": {},
   "source": [
    "Ok. That's what we'll do then.\n",
    "\n",
    "We could have 10x (1000) bins, and still have only 20.4 MB."
   ]
  },
  {
   "cell_type": "markdown",
   "id": "4135fe95",
   "metadata": {},
   "source": [
    "What with `N_bins__uniform_fine`? (at 0.003 mV per bin; i.e. so that typical sta range has 1000 bins)"
   ]
  },
  {
   "cell_type": "code",
   "execution_count": 251,
   "id": "7faa4e24",
   "metadata": {},
   "outputs": [
    {
     "data": {
      "text/plain": [
       "41669"
      ]
     },
     "execution_count": 251,
     "metadata": {},
     "output_type": "execute_result"
    }
   ],
   "source": [
    "N_bins__uniform_fine"
   ]
  },
  {
   "cell_type": "code",
   "execution_count": 253,
   "id": "cc82fd66",
   "metadata": {},
   "outputs": [
    {
     "data": {
      "text/plain": [
       "1000"
      ]
     },
     "execution_count": 253,
     "metadata": {},
     "output_type": "execute_result"
    }
   ],
   "source": [
    "N_pdf_agg_conn * N_bins__uniform_fine * bytes_per_bin / MB"
   ]
  },
  {
   "cell_type": "markdown",
   "id": "93f7ef7b",
   "metadata": {},
   "source": [
    "One gig. eh."
   ]
  },
  {
   "cell_type": "markdown",
   "id": "973b6217",
   "metadata": {},
   "source": [
    "I'll go for non-uniform; but more than 100 bins.\n",
    "And then we need to save these bins, so we can reuse for other simulations."
   ]
  },
  {
   "cell_type": "code",
   "execution_count": 288,
   "id": "90a3a445",
   "metadata": {},
   "outputs": [
    {
     "name": "stdout",
     "output_type": "stream",
     "text": [
      "Bin 1:    (-70.32, -65.49) mV. Width: 4.826 mV\n",
      "Bin 2:    (-65.49, -64.87) mV. Width: 0.6177 mV\n",
      "Bin 499:  (-53.9, -53.89)  mV. Width: 0.01327 mV\n",
      "Bin 500:  (-53.89, -53.88) mV. Width: 0.01278 mV\n",
      "Bin 501:  (-53.88, -53.86) mV. Width: 0.01307 mV\n",
      "Bin 999:  (18.29, 25.73)   mV. Width: 7.438 mV\n",
      "Bin 1000: (25.73, 35)      mV. Width: 9.27 mV\n"
     ]
    }
   ],
   "source": [
    "nquantile_bins(x, n) = begin\n",
    "    nqs = nquantile(x, n)\n",
    "    collect(zip(nqs[1:end-1], nqs[2:end]));\n",
    "end\n",
    "\n",
    "binsize(bin) = only(diff(collect(bin)))\n",
    "bin_info(bins, i, unit) = println(\n",
    "    rpad(\"Bin $(i): \", 10), rpad(bins[i], 16), \" $(unit). \",\n",
    "    \"Width: \", binsize(bins[i]), \" $(unit)\",\n",
    ")\n",
    "bin_info(bins, unit) = begin\n",
    "    N = length(bins)\n",
    "    mid = N ÷ 2\n",
    "    for i in [1, 2, mid-1, mid, mid+1, N-1, N]\n",
    "        bin_info(bins, i, unit)\n",
    "    end\n",
    "end\n",
    "\n",
    "bin_info(nquantile_bins(s.v[1] / mV, 1000), \"mV\")"
   ]
  },
  {
   "cell_type": "code",
   "execution_count": null,
   "id": "3027136f",
   "metadata": {},
   "outputs": [],
   "source": []
  }
 ],
 "metadata": {
  "jupytext": {
   "encoding": "# -*- coding: utf-8 -*-",
   "formats": "ipynb,jl:light"
  },
  "kernelspec": {
   "display_name": "Julia 1.8.1 mysys",
   "language": "julia",
   "name": "julia-1.8-mysys"
  },
  "language_info": {
   "file_extension": ".jl",
   "mimetype": "application/julia",
   "name": "julia",
   "version": "1.8.1"
  },
  "toc": {
   "base_numbering": 1,
   "nav_menu": {},
   "number_sections": false,
   "sideBar": true,
   "skip_h1_title": true,
   "title_cell": "Table of Contents",
   "title_sidebar": "Contents",
   "toc_cell": false,
   "toc_position": {
    "height": "100px",
    "left": "48px",
    "top": "36.8333px",
    "width": "212px"
   },
   "toc_section_display": true,
   "toc_window_display": true
  }
 },
 "nbformat": 4,
 "nbformat_minor": 5
}
