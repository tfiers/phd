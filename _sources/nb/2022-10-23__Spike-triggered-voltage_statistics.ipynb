{
 "cells": [
  {
   "cell_type": "markdown",
   "id": "57ab3994",
   "metadata": {},
   "source": [
    "# 2022-10-23 • Spike-triggered voltage statistics"
   ]
  },
  {
   "cell_type": "markdown",
   "id": "608cbf03",
   "metadata": {},
   "source": [
    "What is the spread of the STA at the different times-after-spike.\n",
    "\n",
    "Motivation: get insight in this signal we're analyzing and fitting / modelling.\n",
    "Most concretely, what should distribution of errors around prediction be (the default i.e. Normal(0, σₓ)?)."
   ]
  },
  {
   "cell_type": "markdown",
   "id": "c99fa4fd",
   "metadata": {},
   "source": [
    "## Imports"
   ]
  },
  {
   "cell_type": "code",
   "execution_count": 1,
   "id": "1a27acb6",
   "metadata": {},
   "outputs": [],
   "source": [
    "#"
   ]
  },
  {
   "cell_type": "code",
   "execution_count": 2,
   "id": "3a016087",
   "metadata": {},
   "outputs": [],
   "source": [
    "using MyToolbox"
   ]
  },
  {
   "cell_type": "code",
   "execution_count": 6,
   "id": "c5f73e95",
   "metadata": {
    "scrolled": false
   },
   "outputs": [],
   "source": [
    "@time_imports using VoltoMapSim"
   ]
  },
  {
   "cell_type": "markdown",
   "id": "b0bf6d34",
   "metadata": {},
   "source": [
    "## Data indexing order"
   ]
  },
  {
   "cell_type": "markdown",
   "id": "dfd94dc8",
   "metadata": {},
   "source": [
    "We have calculated STA's before.\n",
    "But we don't want those, we want the individual 'windows'.\n",
    "\n",
    "Options to index:\n",
    "1. k → i → tᵣ\n",
    "2. k → tᵣ → i\n",
    "3. tᵣ → k → i\n",
    "\n",
    "where\n",
    "- tᵣ = t_rel = time after spike\n",
    "- k  = k, possible connection\n",
    "- i  = nr of presynaptic spike\n",
    "\n",
    "Our plot will eventually have tᵣ on the x-axis, and postsyn voltage `v` on the y-axis (and the data is a heatmap of probability) (there'll also be slices, there v is the x-axis, and y is the pdf).\n",
    "\n",
    "Both these plot types will aggregate (to estimate the pdf's) over both `k` and `i`."
   ]
  },
  {
   "cell_type": "markdown",
   "id": "a105409a",
   "metadata": {},
   "source": [
    "We will separate plots by connection type (inh vs exc vs not-connected).\n",
    "So `k` will go first -- same as it was with STAs."
   ]
  },
  {
   "cell_type": "markdown",
   "id": "ccf59bc9",
   "metadata": {},
   "source": [
    "Then tᵣ maybe?"
   ]
  },
  {
   "cell_type": "markdown",
   "id": "1d410cb7",
   "metadata": {},
   "source": [
    "## Estimate disk usage"
   ]
  },
  {
   "cell_type": "markdown",
   "id": "285ce840",
   "metadata": {},
   "source": [
    "Estimated filesize (it's already 3GB for all STA's of one 10 min sim...)"
   ]
  },
  {
   "cell_type": "code",
   "execution_count": 9,
   "id": "6256bbf3",
   "metadata": {},
   "outputs": [],
   "source": [
    "set_print_precision(4)"
   ]
  },
  {
   "cell_type": "code",
   "execution_count": 10,
   "id": "488ccc4f",
   "metadata": {},
   "outputs": [
    {
     "data": {
      "text/plain": [
       "2400"
      ]
     },
     "execution_count": 10,
     "metadata": {},
     "output_type": "execute_result"
    }
   ],
   "source": [
    "mean_fr = 4Hz\n",
    "duration = 10minute\n",
    "windows_per_train = mean_fr * duration"
   ]
  },
  {
   "cell_type": "code",
   "execution_count": 78,
   "id": "1637bce8",
   "metadata": {},
   "outputs": [
    {
     "data": {
      "text/plain": [
       "8"
      ]
     },
     "execution_count": 78,
     "metadata": {},
     "output_type": "execute_result"
    }
   ],
   "source": [
    "samples_per_window = 1000\n",
    "bytes_per_sample = 64bits / bytes\n",
    "(window_disk_size = bytes_per_sample * samples_per_window) / kB"
   ]
  },
  {
   "cell_type": "code",
   "execution_count": 17,
   "id": "d8a8224f",
   "metadata": {},
   "outputs": [
    {
     "data": {
      "text/plain": [
       "6000"
      ]
     },
     "execution_count": 17,
     "metadata": {},
     "output_type": "execute_result"
    }
   ],
   "source": [
    "N_recorded = 50\n",
    "N_pre_per_post = 3*40\n",
    "N_conns = N_recorded * N_pre_per_post"
   ]
  },
  {
   "cell_type": "code",
   "execution_count": 58,
   "id": "9e550ed0",
   "metadata": {},
   "outputs": [],
   "source": [
    "# Print with thousands-separator\n",
    "fmt_bigint(x::Int; sep = ' ') =\n",
    "    for (digit, i) in Iterators.reverse(zip(digits(x), 1:ndigits(x)))\n",
    "        if (i % 3 == 0)\n",
    "            print(sep)\n",
    "        end\n",
    "        print(digit)\n",
    "    end\n",
    "\n",
    "fmt_bigint(x) = Int(x) |> fmt_bigint;"
   ]
  },
  {
   "cell_type": "code",
   "execution_count": 66,
   "id": "479ba0b1",
   "metadata": {},
   "outputs": [
    {
     "name": "stdout",
     "output_type": "stream",
     "text": [
      "14 400 000"
     ]
    }
   ],
   "source": [
    "(N_windows = N_conns * windows_per_train) |> fmt_bigint"
   ]
  },
  {
   "cell_type": "code",
   "execution_count": 69,
   "id": "af3e7efc",
   "metadata": {},
   "outputs": [
    {
     "data": {
      "text/plain": [
       "115.2"
      ]
     },
     "execution_count": 69,
     "metadata": {},
     "output_type": "execute_result"
    }
   ],
   "source": [
    "N_windows * window_disk_size / GB"
   ]
  },
  {
   "cell_type": "markdown",
   "id": "bb0a555e",
   "metadata": {},
   "source": [
    "Haha. yeah."
   ]
  },
  {
   "cell_type": "markdown",
   "id": "f170f1b4",
   "metadata": {},
   "source": [
    "So saving them all on disk is not an option."
   ]
  },
  {
   "cell_type": "markdown",
   "id": "6c205597",
   "metadata": {},
   "source": [
    "This is annoying.  \n",
    "\n",
    "What can we reduce.\n",
    "\n",
    "Or, we do not save all datapoints, but save some aggregate.\\\n",
    "'The pdf'.\\\n",
    "ig we'd bin then.\\\n",
    "For a given tᵣ, which 1mV wide (e.g.) bin count do we increase."
   ]
  },
  {
   "cell_type": "markdown",
   "id": "75626f24",
   "metadata": {},
   "source": [
    "## Binning strategy"
   ]
  },
  {
   "cell_type": "markdown",
   "id": "d8108ae3",
   "metadata": {},
   "source": [
    "How many bins?\n",
    "\n",
    "What is the range of a typical STA."
   ]
  },
  {
   "cell_type": "markdown",
   "id": "612fd049",
   "metadata": {},
   "source": [
    "Scratch that, the STA has very small range compared to individual windows.\n",
    "Those go all the way to spike peak."
   ]
  },
  {
   "cell_type": "markdown",
   "id": "3f19e535",
   "metadata": {},
   "source": [
    "But yes we want high density (resolution) in the sta range: -48 mV to -51 mV"
   ]
  },
  {
   "cell_type": "markdown",
   "id": "a794cec3",
   "metadata": {},
   "source": [
    "Can we have uniform resolution over whole v range, or is that costly.\n",
    "\n",
    "(The code is easier if uniform resolution)."
   ]
  },
  {
   "cell_type": "markdown",
   "id": "b452e03d",
   "metadata": {},
   "source": [
    "Algo would look sth like\n",
    "```python\n",
    "\n",
    "for (pre, post) in pairs\n",
    "    for t in pre.spikes\n",
    "        for tᵣ in window_length\n",
    "            v = post.voltage[t + tᵣ]\n",
    "            pdf[pre, post, tᵣ, bin(v)] += 1\n",
    "```"
   ]
  },
  {
   "cell_type": "markdown",
   "id": "9100d9d8",
   "metadata": {},
   "source": [
    "Size of this pdf / bincounts on disk?"
   ]
  },
  {
   "cell_type": "code",
   "execution_count": 77,
   "id": "7988b3db",
   "metadata": {
    "scrolled": true
   },
   "outputs": [
    {
     "name": "stdout",
     "output_type": "stream",
     "text": [
      "6 000 000"
     ]
    }
   ],
   "source": [
    "(N_pdfs = N_conns * samples_per_window) |> fmt_bigint"
   ]
  },
  {
   "cell_type": "code",
   "execution_count": 88,
   "id": "3c2cd169",
   "metadata": {},
   "outputs": [],
   "source": [
    "bytes_per_bin = 64bits/bytes  # Just one Int64. (could be Int32 too but eh not worth).\n",
    "v_peak = 35mV  # Izh parameter\n",
    "v_min = -90mV  # Guess. (Eᵢ = -80mV). We'd need two bins for if out of range.\n",
    "v_range = v_peak - v_min;"
   ]
  },
  {
   "cell_type": "markdown",
   "id": "598b326b",
   "metadata": {},
   "source": [
    "To get good resolution around STAs (-48 to -51 mV, https://tfiers.github.io/phd/nb/2022-09-01__1144_weights.html#average-sta-window)..\n",
    "\n",
    "that range should have maybe 1000 bins?\\\n",
    "So "
   ]
  },
  {
   "cell_type": "code",
   "execution_count": 86,
   "id": "617da602",
   "metadata": {},
   "outputs": [
    {
     "data": {
      "text/plain": [
       "0.003"
      ]
     },
     "execution_count": 86,
     "metadata": {},
     "output_type": "execute_result"
    }
   ],
   "source": [
    "sta_range = -48mV - -51mV\n",
    "(v_resolution = sta_range / 1000) / mV"
   ]
  },
  {
   "cell_type": "code",
   "execution_count": 89,
   "id": "c81208b6",
   "metadata": {},
   "outputs": [
    {
     "data": {
      "text/plain": [
       "41669"
      ]
     },
     "execution_count": 89,
     "metadata": {},
     "output_type": "execute_result"
    }
   ],
   "source": [
    "N_bins = round(Int, v_range / v_resolution) + 2"
   ]
  },
  {
   "cell_type": "code",
   "execution_count": 91,
   "id": "eb4e9d9b",
   "metadata": {},
   "outputs": [
    {
     "data": {
      "text/plain": [
       "2000"
      ]
     },
     "execution_count": 91,
     "metadata": {},
     "output_type": "execute_result"
    }
   ],
   "source": [
    "(disk_size = N_pdfs * N_bins * bytes_per_bin) / GB"
   ]
  },
  {
   "cell_type": "markdown",
   "id": "5990dc81",
   "metadata": {},
   "source": [
    "Damn.\n",
    "\n",
    "How is this larger?\\\n",
    "`14 400 000 windows * 8 kB / window`\\\n",
    "vs\\\n",
    "`6 000 000 pdfs * 4 1000 bins * 8 byte / bin`\\\n",
    "\n",
    "Hm, guess it's indeed faster to save values themselves rather than to bin them finely."
   ]
  },
  {
   "cell_type": "markdown",
   "id": "a2463c1b",
   "metadata": {},
   "source": [
    "We could:\n",
    "- simulate shorter\n",
    "    - ..but didn't we find that 10' is needed for conntesting\n",
    "- aggregate over connections, by types\n",
    "    - only 1000 * 3 pdf's then: exc, inh, unconn\n",
    "    - you then don't have option to see distr of false-positive conns\n",
    "- have coarser and/or non-uniform bins\n",
    "- bin in time also: not 1000 samples per window but e.g. 100. (1 per ms)."
   ]
  },
  {
   "cell_type": "markdown",
   "id": "2512f99c",
   "metadata": {},
   "source": [
    "For the non-uniform binning, I'd like to see histogram of *all* voltage."
   ]
  },
  {
   "cell_type": "markdown",
   "id": "68f71646",
   "metadata": {},
   "source": [
    "## Voltage histogram\n",
    "\n",
    "(unconditioned, as in: not external-spike-aligned)."
   ]
  },
  {
   "cell_type": "code",
   "execution_count": 92,
   "id": "73951d79",
   "metadata": {},
   "outputs": [],
   "source": [
    "p = get_params(duration = 10minutes, p_conn = 0.04, g_EE = 1, g_EI = 1, g_IE = 4, g_II = 4, ext_current = Normal(-0.5 * pA/√seconds, 5 * pA/√seconds), E_inh = -80 * mV, record_v = [1:40; 801:810]);"
   ]
  },
  {
   "cell_type": "code",
   "execution_count": 93,
   "id": "c1518ef9",
   "metadata": {},
   "outputs": [
    {
     "name": "stdout",
     "output_type": "stream",
     "text": [
      "Loading cached output from `C:\\Users\\tfiers\\.phdcache\\sim\\ce5e30aee45561ed.jld2` … done (32.3 s)\n"
     ]
    }
   ],
   "source": [
    "s = cached(sim, [p.sim]);"
   ]
  },
  {
   "cell_type": "code",
   "execution_count": 94,
   "id": "cc73e86f",
   "metadata": {},
   "outputs": [],
   "source": [
    "s = augment(s, p);"
   ]
  },
  {
   "cell_type": "code",
   "execution_count": 101,
   "id": "72f4964d",
   "metadata": {},
   "outputs": [
    {
     "data": {
      "image/png": "[encoded data removed]",
      "text/plain": [
       "PyPlot.Figure(PyObject <Figure size 800x480 with 1 Axes>)"
      ]
     },
     "metadata": {
      "image/png": {
       "height": 240,
       "width": 400
      }
     },
     "output_type": "display_data"
    }
   ],
   "source": [
    "counts, bins, bars = \n",
    "    \n",
    "    plt.hist(s.v[1] / mV, bins=200);"
   ]
  },
  {
   "cell_type": "code",
   "execution_count": 105,
   "id": "2f097e05",
   "metadata": {},
   "outputs": [
    {
     "data": {
      "text/plain": [
       "(201, 200)"
      ]
     },
     "execution_count": 105,
     "metadata": {},
     "output_type": "execute_result"
    }
   ],
   "source": [
    "length(bins), length(counts)"
   ]
  },
  {
   "cell_type": "code",
   "execution_count": 104,
   "id": "d25fc8a2",
   "metadata": {},
   "outputs": [
    {
     "data": {
      "text/plain": [
       "([-70.32, -69.79], 5)"
      ]
     },
     "execution_count": 104,
     "metadata": {},
     "output_type": "execute_result"
    }
   ],
   "source": [
    "bins[1:2], counts[1]"
   ]
  },
  {
   "cell_type": "markdown",
   "id": "ac803089",
   "metadata": {},
   "source": [
    "Interesting, doesn't reach Eᵢ of -80 mV at all.\n",
    "\n",
    "<br>"
   ]
  },
  {
   "cell_type": "code",
   "execution_count": 103,
   "id": "5d4f799d",
   "metadata": {},
   "outputs": [
    {
     "data": {
      "text/plain": [
       "([34.47, 35], 311)"
      ]
     },
     "execution_count": 103,
     "metadata": {},
     "output_type": "execute_result"
    }
   ],
   "source": [
    "bins[end-1:end], counts[end]"
   ]
  },
  {
   "cell_type": "markdown",
   "id": "56bca407",
   "metadata": {},
   "source": [
    "Ye that last bin location tracks with izh's v_peak of 35 mV.\n",
    "\n",
    "`v_thr` is -40 mV (and then there's the slow quadratic runaway).\n",
    "This distribution might look different around -40 with a more realistic model, like AdEx (EIF)."
   ]
  },
  {
   "cell_type": "code",
   "execution_count": null,
   "id": "fe811e5c",
   "metadata": {},
   "outputs": [],
   "source": []
  }
 ],
 "metadata": {
  "jupytext": {
   "encoding": "# -*- coding: utf-8 -*-",
   "formats": "ipynb,jl:light"
  },
  "kernelspec": {
   "display_name": "Julia 1.8.1 mysys",
   "language": "julia",
   "name": "julia-1.8-mysys"
  },
  "language_info": {
   "file_extension": ".jl",
   "mimetype": "application/julia",
   "name": "julia",
   "version": "1.8.1"
  },
  "toc": {
   "base_numbering": 1,
   "nav_menu": {},
   "number_sections": false,
   "sideBar": true,
   "skip_h1_title": true,
   "title_cell": "Table of Contents",
   "title_sidebar": "Contents",
   "toc_cell": false,
   "toc_position": {
    "height": "100px",
    "left": "48px",
    "top": "36.8333px",
    "width": "212px"
   },
   "toc_section_display": true,
   "toc_window_display": true
  }
 },
 "nbformat": 4,
 "nbformat_minor": 5
}
