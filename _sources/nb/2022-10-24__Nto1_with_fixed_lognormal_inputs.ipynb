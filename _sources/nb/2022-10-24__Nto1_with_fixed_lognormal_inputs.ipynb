{
 "cells": [
  {
   "cell_type": "markdown",
   "id": "57ab3994",
   "metadata": {},
   "source": [
    "# 2022-10-24 • N-to-1 with lognormal inputs (for real now)"
   ]
  },
  {
   "cell_type": "markdown",
   "id": "c99fa4fd",
   "metadata": {},
   "source": [
    "## Imports"
   ]
  },
  {
   "cell_type": "code",
   "execution_count": 1,
   "id": "1a27acb6",
   "metadata": {},
   "outputs": [],
   "source": [
    "#"
   ]
  },
  {
   "cell_type": "code",
   "execution_count": 2,
   "id": "3a016087",
   "metadata": {
    "scrolled": true
   },
   "outputs": [],
   "source": [
    "using MyToolbox"
   ]
  },
  {
   "cell_type": "code",
   "execution_count": 3,
   "id": "fd0f09ee",
   "metadata": {
    "scrolled": false
   },
   "outputs": [
    {
     "name": "stdout",
     "output_type": "stream",
     "text": [
      "   1695.9 ms  Sciplotlib\u001b[36m 46.99% compilation time\u001b[39m\n",
      "      0.5 ms  Adapt\n",
      "     70.0 ms  StructArrays\n",
      "     99.7 ms  Latexify\u001b[36m 47.64% compilation time\u001b[39m\u001b[33m (49% recompilation)\u001b[39m\n",
      "      1.2 ms  SpikeLab\n",
      "     33.4 ms  FiniteDiff\u001b[36m 41.20% compilation time\u001b[39m\u001b[33m (100% recompilation)\u001b[39m\n",
      "    334.4 ms  NLSolversBase\n",
      "      4.3 ms  LsqFit\n",
      "     67.8 ms  VoltoMapSim\u001b[36m 43.76% compilation time\u001b[39m\n",
      "  2.805117 seconds (3.63 M allocations: 204.345 MiB, 14.93% gc time, 38.17% compilation time: 3% of which was recompilation)\n"
     ]
    }
   ],
   "source": [
    "@time @time_imports using VoltoMapSim;  # after precompile & w/o touching src files"
   ]
  },
  {
   "cell_type": "code",
   "execution_count": 3,
   "id": "086f591c",
   "metadata": {
    "scrolled": false
   },
   "outputs": [
    {
     "name": "stdout",
     "output_type": "stream",
     "text": [
      "\u001b[36m\u001b[1m[ \u001b[22m\u001b[39m\u001b[36m\u001b[1mInfo: \u001b[22m\u001b[39mPrecompiling VoltoMapSim [f713100b-c48c-421a-b480-5fcb4c589a9e]\n",
      "   1261.6 ms  Sciplotlib\u001b[36m 60.76% compilation time\u001b[39m\n",
      "      1.1 ms  Adapt\n",
      "     69.0 ms  StructArrays\n",
      "    115.6 ms  Latexify\u001b[36m 43.69% compilation time\u001b[39m\u001b[33m (52% recompilation)\u001b[39m\n",
      "      0.9 ms  SpikeLab\n",
      "     27.8 ms  FiniteDiff\u001b[36m 39.04% compilation time\u001b[39m\u001b[33m (100% recompilation)\u001b[39m\n",
      "    375.5 ms  NLSolversBase\n",
      "      4.9 ms  LsqFit\n",
      "     58.5 ms  VoltoMapSim\u001b[36m 43.12% compilation time\u001b[39m\n",
      "  8.978815 seconds (3.77 M allocations: 211.816 MiB, 0.75% gc time, 13.11% compilation time: 3% of which was recompilation)\n"
     ]
    }
   ],
   "source": [
    "@time @time_imports using VoltoMapSim;  # with precompile on"
   ]
  },
  {
   "cell_type": "code",
   "execution_count": null,
   "id": "602528c8",
   "metadata": {},
   "outputs": [],
   "source": []
  },
  {
   "cell_type": "code",
   "execution_count": 3,
   "id": "85663c20",
   "metadata": {
    "scrolled": false
   },
   "outputs": [
    {
     "name": "stdout",
     "output_type": "stream",
     "text": [
      "\u001b[36m\u001b[1m[ \u001b[22m\u001b[39m\u001b[36m\u001b[1mInfo: \u001b[22m\u001b[39mPrecompiling VoltoMapSim [f713100b-c48c-421a-b480-5fcb4c589a9e]\n",
      "   1285.2 ms  Sciplotlib\u001b[36m 60.61% compilation time\u001b[39m\n",
      "      0.5 ms  Adapt\n",
      "     77.5 ms  StructArrays\n",
      "     90.0 ms  Latexify\u001b[36m 45.25% compilation time\u001b[39m\u001b[33m (50% recompilation)\u001b[39m\n",
      "      1.4 ms  SpikeLab\n",
      "     27.3 ms  FiniteDiff\u001b[36m 39.55% compilation time\u001b[39m\u001b[33m (100% recompilation)\u001b[39m\n",
      "    354.4 ms  NLSolversBase\n",
      "      5.0 ms  LsqFit\n",
      "     60.8 ms  VoltoMapSim\u001b[36m 44.61% compilation time\u001b[39m\n",
      "  9.130961 seconds (3.76 M allocations: 211.648 MiB, 0.67% gc time, 12.65% compilation time: 3% of which was recompilation)\n"
     ]
    }
   ],
   "source": [
    "@time @time_imports using VoltoMapSim;  # no showprogress, match"
   ]
  },
  {
   "cell_type": "code",
   "execution_count": 3,
   "id": "6c724aad",
   "metadata": {
    "scrolled": false
   },
   "outputs": [
    {
     "name": "stdout",
     "output_type": "stream",
     "text": [
      "\u001b[36m\u001b[1m[ \u001b[22m\u001b[39m\u001b[36m\u001b[1mInfo: \u001b[22m\u001b[39mPrecompiling VoltoMapSim [f713100b-c48c-421a-b480-5fcb4c589a9e]\n",
      "\u001b[36m\u001b[1m[ \u001b[22m\u001b[39m\u001b[36m\u001b[1mInfo: \u001b[22m\u001b[39mSkipping precompilation since __precompile__(false). Importing VoltoMapSim [f713100b-c48c-421a-b480-5fcb4c589a9e].\n",
      "   1255.8 ms  Sciplotlib\u001b[36m 61.62% compilation time\u001b[39m\n",
      "      0.5 ms  Adapt\n",
      "     57.9 ms  StructArrays\n",
      "     91.2 ms  Latexify\u001b[36m 43.99% compilation time\u001b[39m\u001b[33m (52% recompilation)\u001b[39m\n",
      "      0.9 ms  SpikeLab\n",
      "     27.4 ms  FiniteDiff\u001b[36m 40.00% compilation time\u001b[39m\u001b[33m (100% recompilation)\u001b[39m\n",
      "    336.6 ms  NLSolversBase\n",
      "      4.6 ms  LsqFit\n",
      "  7.445982 seconds (5.97 M allocations: 328.369 MiB, 4.30% gc time, 42.12% compilation time: 8% of which was recompilation)\n"
     ]
    }
   ],
   "source": [
    "@time @time_imports using VoltoMapSim;  # no showprogress, match"
   ]
  },
  {
   "cell_type": "code",
   "execution_count": 3,
   "id": "ab2756d9",
   "metadata": {
    "scrolled": false
   },
   "outputs": [
    {
     "name": "stdout",
     "output_type": "stream",
     "text": [
      "\u001b[36m\u001b[1m[ \u001b[22m\u001b[39m\u001b[36m\u001b[1mInfo: \u001b[22m\u001b[39mPrecompiling VoltoMapSim [f713100b-c48c-421a-b480-5fcb4c589a9e]\n",
      "\u001b[36m\u001b[1m[ \u001b[22m\u001b[39m\u001b[36m\u001b[1mInfo: \u001b[22m\u001b[39mSkipping precompilation since __precompile__(false). Importing VoltoMapSim [f713100b-c48c-421a-b480-5fcb4c589a9e].\n",
      "   1355.2 ms  Sciplotlib\u001b[36m 59.54% compilation time\u001b[39m\n",
      "      0.7 ms  Adapt\n",
      "     61.8 ms  StructArrays\n",
      "    106.8 ms  Latexify\u001b[36m 42.77% compilation time\u001b[39m\u001b[33m (52% recompilation)\u001b[39m\n",
      "      1.2 ms  SpikeLab\n",
      "     36.3 ms  FiniteDiff\u001b[36m 38.12% compilation time\u001b[39m\u001b[33m (100% recompilation)\u001b[39m\n",
      "    348.8 ms  NLSolversBase\n",
      "      5.8 ms  LsqFit\n",
      " 10.440128 seconds (10.30 M allocations: 566.882 MiB, 5.24% gc time, 55.67% compilation time: 4% of which was recompilation)\n"
     ]
    }
   ],
   "source": [
    "@time @time_imports using VoltoMapSim;  # after vtms cleanup"
   ]
  },
  {
   "cell_type": "code",
   "execution_count": null,
   "id": "dc5f51a0",
   "metadata": {},
   "outputs": [],
   "source": []
  },
  {
   "cell_type": "code",
   "execution_count": null,
   "id": "976af897",
   "metadata": {},
   "outputs": [],
   "source": []
  },
  {
   "cell_type": "code",
   "execution_count": 3,
   "id": "97b253ed",
   "metadata": {},
   "outputs": [],
   "source": [
    "using ProfileView, SnoopCompile"
   ]
  },
  {
   "cell_type": "code",
   "execution_count": 4,
   "id": "93fd7416",
   "metadata": {},
   "outputs": [
    {
     "name": "stdout",
     "output_type": "stream",
     "text": [
      "\u001b[36m\u001b[1m[ \u001b[22m\u001b[39m\u001b[36m\u001b[1mInfo: \u001b[22m\u001b[39mPrecompiling VoltoMapSim [f713100b-c48c-421a-b480-5fcb4c589a9e]\n",
      "\u001b[36m\u001b[1m[ \u001b[22m\u001b[39m\u001b[36m\u001b[1mInfo: \u001b[22m\u001b[39mSkipping precompilation since __precompile__(false). Importing VoltoMapSim [f713100b-c48c-421a-b480-5fcb4c589a9e].\n"
     ]
    }
   ],
   "source": [
    "tinf = @snoopi_deep (using VoltoMapSim);"
   ]
  },
  {
   "cell_type": "code",
   "execution_count": 5,
   "id": "583d0a41",
   "metadata": {
    "scrolled": false
   },
   "outputs": [],
   "source": [
    "ProfileView.view(flamegraph(tinf), windowname=\"snoopcompile\");"
   ]
  },
  {
   "cell_type": "code",
   "execution_count": null,
   "id": "67de5a04",
   "metadata": {},
   "outputs": [],
   "source": []
  },
  {
   "cell_type": "code",
   "execution_count": null,
   "id": "d4d4e76a",
   "metadata": {},
   "outputs": [],
   "source": []
  },
  {
   "cell_type": "code",
   "execution_count": null,
   "id": "10ce6c1b",
   "metadata": {},
   "outputs": [],
   "source": []
  },
  {
   "cell_type": "markdown",
   "id": "4df09d02",
   "metadata": {},
   "source": [
    "## Differential equations"
   ]
  },
  {
   "cell_type": "code",
   "execution_count": 12,
   "id": "1f6d80db",
   "metadata": {},
   "outputs": [
    {
     "data": {
      "text/plain": [
       "SpikeLab.Model_\n",
       " with variables {v, u, I_syn, gₑ, gᵢ}\n",
       " and parameters {C, Eᵢ, Eₑ, a, b, k, vᵣ, vₗ, vₜ, τ}\n"
      ]
     },
     "execution_count": 12,
     "metadata": {},
     "output_type": "execute_result"
    }
   ],
   "source": [
    "izh = @eqs begin\n",
    "    \n",
    "    dv/dt = (k*(v-vₗ)*(v-vₜ) - u - I_syn) / C\n",
    "    du/dt = a*(b*(v-vᵣ) - u)\n",
    "\n",
    "    I_syn = gₑ*(v-Eₑ) + gᵢ*(v-Eᵢ)\n",
    "\n",
    "    dgₑ/dt = -gₑ / τ  # Represents sum over all exc synapses\n",
    "    dgᵢ/dt = -gᵢ / τ\n",
    "end"
   ]
  },
  {
   "cell_type": "markdown",
   "id": "37e3f509",
   "metadata": {},
   "source": [
    "## Parameters"
   ]
  },
  {
   "cell_type": "code",
   "execution_count": 27,
   "id": "c77d72d8",
   "metadata": {},
   "outputs": [],
   "source": [
    "params = (\n",
    "    # Cortical regular spiking (same as always)\n",
    "    C  =  100    * pF,\n",
    "    k  =    0.7  * (nS/mV),\n",
    "    vₗ = - 60    * mV,\n",
    "    vₜ = - 40    * mV,\n",
    "    a  =    0.03 / ms,\n",
    "    b  = -  2    * nS,\n",
    "    # Not in model eqs above (yet)\n",
    "    vₛ =   35    * mV,  # spike\n",
    "    vᵣ = - 50    * mV,  # reset\n",
    "    Δu =  100    * pA,\n",
    "\n",
    "    # Synapses\n",
    "    Eₑ =   0 * mV,\n",
    "    Eᵢ = -80 * mV,  # Higher than Nto1 (was -65); same as nets.\n",
    "    τ  =   7 * ms,\n",
    ");"
   ]
  },
  {
   "cell_type": "markdown",
   "id": "04791546",
   "metadata": {},
   "source": [
    "## Init buffers"
   ]
  },
  {
   "cell_type": "code",
   "execution_count": 30,
   "id": "5ce96960",
   "metadata": {},
   "outputs": [
    {
     "data": {
      "text/plain": [
       "\u001b[0mComponentVector{Float64}(v = 0, u = 0, gₑ = 0, gᵢ = 0, I_syn = 0)"
      ]
     },
     "execution_count": 30,
     "metadata": {},
     "output_type": "execute_result"
    }
   ],
   "source": [
    "init = (\n",
    "    v  = params.vᵣ,\n",
    "    u  = 0 * pA,\n",
    "    gₑ = 0 * nS,\n",
    "    gᵢ = 0 * nS,\n",
    "    I_syn = 0 * nA,\n",
    ")\n",
    "vars = CVec{Float64}(init)\n",
    "diff = similar(vars)\n",
    "diff .= 0"
   ]
  },
  {
   "cell_type": "code",
   "execution_count": null,
   "id": "4fa39a39",
   "metadata": {},
   "outputs": [],
   "source": [
    "init.gᵢ += w"
   ]
  },
  {
   "cell_type": "code",
   "execution_count": 21,
   "id": "35a78d09",
   "metadata": {},
   "outputs": [
    {
     "name": "stdout",
     "output_type": "stream",
     "text": [
      "2381-element Vector{Float64}:\n",
      "    1: 0.206\n",
      "    2: 0.301\n",
      "    ⋮\n",
      " 1391: 352\n",
      "    ⋮\n",
      " 1771: 449\n",
      "    ⋮\n",
      " 2380: 600\n",
      " 2381: 600\n"
     ]
    }
   ],
   "source": [
    "showsome(poisson_spikes(4Hz, 10minutes))"
   ]
  },
  {
   "cell_type": "code",
   "execution_count": 31,
   "id": "913a7922",
   "metadata": {
    "scrolled": true
   },
   "outputs": [
    {
     "data": {
      "text/plain": [
       ":((diff, vars, params)->begin\n",
       "          @unpack (v, u, I_syn, gₑ, gᵢ) = vars\n",
       "          @unpack (C, Eᵢ, Eₑ, a, b, k, vᵣ, vₗ, vₜ, τ) = params\n",
       "          diff.v = ((k * (v - vₗ) * (v - vₜ) - u) - I_syn) / C\n",
       "          diff.u = a * (b * (v - vᵣ) - u)\n",
       "          vars.I_syn = gₑ * (v - Eₑ) + gᵢ * (v - Eᵢ)\n",
       "          diff.gₑ = -gₑ / τ\n",
       "          diff.gᵢ = -gᵢ / τ\n",
       "      end)"
      ]
     },
     "execution_count": 31,
     "metadata": {},
     "output_type": "execute_result"
    }
   ],
   "source": [
    "izh.generated_func"
   ]
  },
  {
   "cell_type": "code",
   "execution_count": 29,
   "id": "12c9a992",
   "metadata": {},
   "outputs": [],
   "source": [
    "# izh.f(diff, vars, params)"
   ]
  },
  {
   "cell_type": "code",
   "execution_count": null,
   "id": "11032a3e",
   "metadata": {},
   "outputs": [],
   "source": []
  }
 ],
 "metadata": {
  "jupytext": {
   "encoding": "# -*- coding: utf-8 -*-",
   "formats": "ipynb,jl:light"
  },
  "kernelspec": {
   "display_name": "Julia 1.8.1 mysys",
   "language": "julia",
   "name": "julia-1.8-mysys"
  },
  "language_info": {
   "file_extension": ".jl",
   "mimetype": "application/julia",
   "name": "julia",
   "version": "1.8.1"
  },
  "toc": {
   "base_numbering": 1,
   "nav_menu": {},
   "number_sections": false,
   "sideBar": false,
   "skip_h1_title": true,
   "title_cell": "Table of Contents",
   "title_sidebar": "Contents",
   "toc_cell": false,
   "toc_position": {
    "height": "47.6979px",
    "left": "1087px",
    "top": "0px",
    "width": "159px"
   },
   "toc_section_display": false,
   "toc_window_display": true
  }
 },
 "nbformat": 4,
 "nbformat_minor": 5
}
