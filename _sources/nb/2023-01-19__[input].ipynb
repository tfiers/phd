{
 "cells": [
  {
   "cell_type": "markdown",
   "id": "57ab3994",
   "metadata": {},
   "source": [
    "# 2023-01-19 • [input] to 'Fit a line'"
   ]
  },
  {
   "cell_type": "markdown",
   "id": "367a748b-c270-4db3-9f8d-e702f34f7f77",
   "metadata": {},
   "source": [
    "A distillation of `2022-10-24 • N-to-1 with lognormal inputs`,\\\n",
    "for use in `2023-01-19 • Fit a line`; so that that notebook can remain concise."
   ]
  },
  {
   "cell_type": "markdown",
   "id": "c99fa4fd",
   "metadata": {},
   "source": [
    "## Imports"
   ]
  },
  {
   "cell_type": "code",
   "execution_count": 1,
   "id": "1a27acb6",
   "metadata": {
    "tags": []
   },
   "outputs": [],
   "source": [
    "#"
   ]
  },
  {
   "cell_type": "code",
   "execution_count": 2,
   "id": "d5fdebd4-77ee-42a8-9497-0532e28a3cd6",
   "metadata": {},
   "outputs": [],
   "source": [
    "@showtime using Revise"
   ]
  },
  {
   "cell_type": "code",
   "execution_count": 3,
   "id": "2fd4d15a",
   "metadata": {},
   "outputs": [
    {
     "name": "stdout",
     "output_type": "stream",
     "text": [
      "WARNING: using MyToolbox.@withfb in module Main conflicts with an existing identifier.\n",
      "using MyToolbox: 3.606175 seconds (3.39 M allocations: 212.212 MiB, 4.14% gc time, 32.11% compilation time: 60% of which was recompilation)\n",
      "using SpikeWorks: 2.186514 seconds (2.65 M allocations: 159.204 MiB, 2.88% gc time, 32.05% compilation time: 85% of which was recompilation)\n",
      "using Sciplotlib: 15.150923 seconds (13.26 M allocations: 747.952 MiB, 4.13% gc time, 58.14% compilation time: 63% of which was recompilation)\n",
      "\u001b[36m\u001b[1m[ \u001b[22m\u001b[39m\u001b[36m\u001b[1mInfo: \u001b[22m\u001b[39mPrecompiling VoltoMapSim [f713100b-c48c-421a-b480-5fcb4c589a9e]\n",
      "using VoltoMapSim: 30.190371 seconds (9.76 M allocations: 622.510 MiB, 0.84% gc time, 2.84% compilation time: 30% of which was recompilation)\n"
     ]
    }
   ],
   "source": [
    "@showtime using MyToolbox\n",
    "@showtime using SpikeWorks\n",
    "@showtime using Sciplotlib\n",
    "@showtime using VoltoMapSim"
   ]
  },
  {
   "cell_type": "markdown",
   "id": "bb0be16c-37cd-4b6a-b013-d5e11494786a",
   "metadata": {
    "tags": []
   },
   "source": [
    "## Start"
   ]
  },
  {
   "cell_type": "markdown",
   "id": "9bdab5ed-74e3-46dd-a881-6fe574e885a1",
   "metadata": {},
   "source": [
    "### Neuron-model parameters"
   ]
  },
  {
   "cell_type": "code",
   "execution_count": 4,
   "id": "10851a03-f0a8-494f-b7d4-bb1a784e0912",
   "metadata": {
    "tags": []
   },
   "outputs": [],
   "source": [
    "@typed begin\n",
    "    # Izhikevich params\n",
    "    C  =  100    * pF        # Cell capacitance\n",
    "    k  =    0.7  * (nS/mV)   # Steepness of parabola in v̇(v)\n",
    "    vₗ = - 60    * mV        # Resting ('leak') membrane potential\n",
    "    vₜ = - 40    * mV        # Spiking threshold (when no syn. & adaptation currents)\n",
    "    a  =    0.03 / ms        # Reciprocal of time constant of adaptation current `u`\n",
    "    b  = -  2    * nS        # (v-vₗ)→u coupling strength\n",
    "    vₛ =   35    * mV        # Spike cutoff (defines spike time)\n",
    "    vᵣ = - 50    * mV        # Reset voltage after spike\n",
    "    Δu =  100    * pA        # Adaptation current inflow on self-spike\n",
    "    # Conductance-based synapses\n",
    "    Eₑ =   0 * mV            # Reversal potential at excitatory synapses\n",
    "    Eᵢ = -80 * mV            # Reversal potential at inhibitory synapses\n",
    "    τ  =   7 * ms            # Time constant for synaptic conductances' decay\n",
    "end;"
   ]
  },
  {
   "cell_type": "markdown",
   "id": "510e9186-23c9-4384-8493-dc636beb8bf6",
   "metadata": {},
   "source": [
    "### Simulated variables and their initial values"
   ]
  },
  {
   "cell_type": "code",
   "execution_count": 5,
   "id": "7c8c3993-ab06-48f3-be87-fce08914d79a",
   "metadata": {},
   "outputs": [],
   "source": [
    "x₀ = (\n",
    "    # Izhikevich variables\n",
    "    v   = vᵣ,      # Membrane potential\n",
    "    u   = 0 * pA,  # Adaptation current\n",
    "    # Synaptic conductances g\n",
    "    gₑ  = 0 * nS,  # = Sum over all exc. synapses\n",
    "    gᵢ  = 0 * nS,  # = Sum over all inh. synapses\n",
    ");"
   ]
  },
  {
   "cell_type": "markdown",
   "id": "ede77e9f-55e1-4fcc-afd7-abf9f4a71489",
   "metadata": {},
   "source": [
    "### Differential equations:\n",
    "calculate time derivatives of simulated vars  \n",
    "(and store them \"in-place\", in `Dₜ`)."
   ]
  },
  {
   "cell_type": "code",
   "execution_count": 6,
   "id": "5ca3758d-8d47-4d13-8937-9e0957889d4f",
   "metadata": {},
   "outputs": [],
   "source": [
    "function f!(Dₜ, vars)\n",
    "    v, u, gₑ, gᵢ = vars\n",
    "\n",
    "    # Conductance-based synaptic current\n",
    "    Iₛ = gₑ*(v-Eₑ) + gᵢ*(v-Eᵢ)\n",
    "\n",
    "    # Izhikevich 2D system\n",
    "    Dₜ.v = (k*(v-vₗ)*(v-vₜ) - u - Iₛ) / C\n",
    "    Dₜ.u = a*(b*(v-vₗ) - u)\n",
    "\n",
    "    # Synaptic conductance decay\n",
    "    Dₜ.gₑ = -gₑ / τ\n",
    "    Dₜ.gᵢ = -gᵢ / τ\n",
    "end;"
   ]
  },
  {
   "cell_type": "markdown",
   "id": "09186aa0-cf54-4e84-ae5b-fc7906f8e478",
   "metadata": {},
   "source": [
    "### Spike discontinuity"
   ]
  },
  {
   "cell_type": "code",
   "execution_count": 7,
   "id": "0682fea8-6271-4ba4-8d45-895abebefc70",
   "metadata": {
    "tags": []
   },
   "outputs": [],
   "source": [
    "has_spiked(vars) = (vars.v ≥ vₛ)\n",
    "\n",
    "function on_self_spike!(vars)\n",
    "    vars.v = vᵣ\n",
    "    vars.u += Δu\n",
    "end;"
   ]
  },
  {
   "cell_type": "markdown",
   "id": "70afd6e6-91ad-4ecf-942a-cb7ba77a0af9",
   "metadata": {},
   "source": [
    "### Conductance-based Izhikevich neuron"
   ]
  },
  {
   "cell_type": "code",
   "execution_count": 8,
   "id": "398ddb8e-51d2-4bf5-a833-53cdc7a73cf2",
   "metadata": {},
   "outputs": [],
   "source": [
    "coba_izh_neuron = NeuronModel(x₀, f!; has_spiked, on_self_spike!);"
   ]
  },
  {
   "cell_type": "markdown",
   "id": "f23ca7f7",
   "metadata": {},
   "source": [
    "### More parameters, and input spikers"
   ]
  },
  {
   "cell_type": "code",
   "execution_count": 9,
   "id": "f6eed3ff",
   "metadata": {},
   "outputs": [],
   "source": [
    "using SpikeWorks.Units\n",
    "using SpikeWorks: LogNormal"
   ]
  },
  {
   "cell_type": "code",
   "execution_count": 10,
   "id": "980d93eb-412d-4038-9139-2e7944945886",
   "metadata": {},
   "outputs": [
    {
     "data": {
      "text/plain": [
       "600"
      ]
     },
     "execution_count": 10,
     "metadata": {},
     "output_type": "execute_result"
    }
   ],
   "source": [
    "@typed begin\n",
    "    Δt = 0.1ms\n",
    "    sim_duration = 10minutes\n",
    "end"
   ]
  },
  {
   "cell_type": "markdown",
   "id": "37f8c7ad",
   "metadata": {},
   "source": [
    "Firing rates λ for the Poisson inputs"
   ]
  },
  {
   "cell_type": "code",
   "execution_count": 11,
   "id": "054672e3-593d-49f4-ad3e-1f66865c885f",
   "metadata": {},
   "outputs": [
    {
     "data": {
      "text/plain": [
       "Distributions.LogNormal{Float64}(μ=1.39, σ=0.693)"
      ]
     },
     "execution_count": 11,
     "metadata": {},
     "output_type": "execute_result"
    }
   ],
   "source": [
    "fr_distr = LogNormal(median = 4Hz, g = 2)"
   ]
  },
  {
   "cell_type": "code",
   "execution_count": 12,
   "id": "4f80a40a-ef4a-4541-9b73-e9e9c89ca65d",
   "metadata": {},
   "outputs": [],
   "source": [
    "@enum NeuronType exc inh"
   ]
  },
  {
   "cell_type": "code",
   "execution_count": 13,
   "id": "f5cfca8a",
   "metadata": {},
   "outputs": [],
   "source": [
    "input(;\n",
    "    N = 100,\n",
    "    EIratio = 4//1,\n",
    "    scaling = N,\n",
    ") = begin\n",
    "    firing_rates = rand(fr_distr, N)\n",
    "    input_IDs = 1:N\n",
    "    inputs = [\n",
    "        Nto1Input(ID, poisson_SpikeTrain(λ, sim_duration))\n",
    "        for (ID, λ) in zip(input_IDs, firing_rates)\n",
    "    ]\n",
    "    # Nₑ, Nᵢ = groupsizes(EIMix(N, EIratio))\n",
    "    EImix = EIMix(N, EIratio)\n",
    "    Nₑ = EImix.Nₑ\n",
    "    Nᵢ = EImix.Nᵢ\n",
    "    neuron_type(ID) = (ID ≤ Nₑ) ? exc : inh\n",
    "    Δgₑ = 60nS / scaling\n",
    "    Δgᵢ = 60nS / scaling * EIratio\n",
    "    on_spike_arrival!(vars, spike) =\n",
    "        if neuron_type(source(spike)) == exc\n",
    "            vars.gₑ += Δgₑ\n",
    "        else\n",
    "            vars.gᵢ += Δgᵢ\n",
    "        end\n",
    "    return (;\n",
    "        firing_rates,\n",
    "        inputs,\n",
    "        on_spike_arrival!,\n",
    "        Nₑ,\n",
    "    )\n",
    "end;"
   ]
  },
  {
   "cell_type": "code",
   "execution_count": 14,
   "id": "ac293ffa",
   "metadata": {},
   "outputs": [],
   "source": [
    "using SpikeWorks: Simulation, step!, run!, unpack, newsim,\n",
    "                  get_new_spikes!, next_spike, index_of_next"
   ]
  },
  {
   "cell_type": "code",
   "execution_count": 15,
   "id": "47480827",
   "metadata": {},
   "outputs": [],
   "source": [
    "new(; kw...) = begin\n",
    "    ip = input(; kw...)\n",
    "    s = newsim(coba_izh_neuron, ip.inputs, ip.on_spike_arrival!, Δt)\n",
    "    (sim=s, input=ip)\n",
    "end;"
   ]
  },
  {
   "cell_type": "markdown",
   "id": "4cf35b6b",
   "metadata": {},
   "source": [
    "## Multi sim"
   ]
  },
  {
   "cell_type": "markdown",
   "id": "f751e0b5-067c-4240-8268-784ab460b448",
   "metadata": {},
   "source": [
    "(These Ns are same as in e.g. https://tfiers.github.io/phd/nb/2022-10-11__Nto1_output_rate__Edit_of_2022-05-02.html)"
   ]
  },
  {
   "cell_type": "code",
   "execution_count": 16,
   "id": "d2fd8924-0e57-478b-9bb3-90d93d4e73a1",
   "metadata": {},
   "outputs": [],
   "source": [
    "using SpikeWorks: spikerate"
   ]
  },
  {
   "cell_type": "code",
   "execution_count": 17,
   "id": "03b25afb-e11a-4647-802f-b9ffc863a152",
   "metadata": {},
   "outputs": [
    {
     "data": {
      "text/plain": [
       "10"
      ]
     },
     "execution_count": 17,
     "metadata": {},
     "output_type": "execute_result"
    }
   ],
   "source": [
    "sim_duration/minutes"
   ]
  },
  {
   "cell_type": "code",
   "execution_count": 18,
   "id": "13e27d7a-ab76-4c0e-8365-e7a557bd4981",
   "metadata": {
    "tags": []
   },
   "outputs": [],
   "source": [
    "using Printf\n",
    "print_Δt(t0) = @printf(\"%.2G seconds\\n\", time()-t0)\n",
    "macro timeh(ex) :( t0=time(); $(esc(ex)); print_Δt(t0) ) end;"
   ]
  },
  {
   "cell_type": "code",
   "execution_count": 20,
   "id": "033b6dd1-c48c-45f8-9b61-49ab021373fd",
   "metadata": {},
   "outputs": [],
   "source": [
    "Ns_and_scalings = [\n",
    "    (5,    2.4),   # => N_inh = 1\n",
    "    (20,   1.3),\n",
    "        # orig: 21.\n",
    "        # But: \"pₑ = 0.8 does not divide N = 21 into integer parts\"\n",
    "        # So voila\n",
    "    (100,  0.8),\n",
    "    (400,  0.6),\n",
    "    (1600, 0.5),\n",
    "    (6500, 0.5),\n",
    "];\n",
    "Ns = first.(Ns_and_scalings);"
   ]
  },
  {
   "cell_type": "code",
   "execution_count": 21,
   "id": "c92e2ac0-3bed-42b5-b599-c58609abd80a",
   "metadata": {},
   "outputs": [
    {
     "data": {
      "text/plain": [
       "\"2023-01-19__[input]__N=6500\""
      ]
     },
     "execution_count": 21,
     "metadata": {},
     "output_type": "execute_result"
    }
   ],
   "source": [
    "nbname = \"2023-01-19__[input]\"\n",
    "# nbname = \"2022-10-24__Nto1_with_fixed_lognormal_inputs\"\n",
    "cachekey(N) = \"$(nbname)__N=$N\";\n",
    "cachekey(Ns[end])"
   ]
  },
  {
   "cell_type": "code",
   "execution_count": 24,
   "id": "37b9c6b4-247c-4ff9-ac10-732b01b3c49c",
   "metadata": {},
   "outputs": [
    {
     "name": "stdout",
     "output_type": "stream",
     "text": [
      "\n",
      "2.7 seconds\n",
      "spikerate(sim) = 3.21\n",
      "Saving output at `C:\\Users\\tfiers\\.phdcache\\runsim\\2023-01-19__[input]__N=5.jld2` … done (6.3 s)\n",
      "\n",
      "2 seconds\n",
      "spikerate(sim) = 13.2\n",
      "Saving output at `C:\\Users\\tfiers\\.phdcache\\runsim\\2023-01-19__[input]__N=20.jld2` … done (0.1 s)\n",
      "\n",
      "1.5 seconds\n",
      "spikerate(sim) = 3.28\n",
      "Saving output at `C:\\Users\\tfiers\\.phdcache\\runsim\\2023-01-19__[input]__N=100.jld2` … done (0.1 s)\n",
      "\n",
      "1.7 seconds\n",
      "spikerate(sim) = 3.69\n",
      "Saving output at `C:\\Users\\tfiers\\.phdcache\\runsim\\2023-01-19__[input]__N=400.jld2` … done (0.1 s)\n",
      "\n",
      "2.8 seconds\n",
      "spikerate(sim) = 6.84\n",
      "Saving output at `C:\\Users\\tfiers\\.phdcache\\runsim\\2023-01-19__[input]__N=1600.jld2` … done (0.5 s)\n",
      "\n",
      "4 seconds\n",
      "spikerate(sim) = 4.9\n",
      "Saving output at `C:\\Users\\tfiers\\.phdcache\\runsim\\2023-01-19__[input]__N=6500.jld2` … done (0.9 s)\n"
     ]
    }
   ],
   "source": [
    "function runsim(N, scaling)\n",
    "    println()\n",
    "    (sim, inp) = new(; N, scaling)\n",
    "    @show N\n",
    "    @timeh run!(sim)\n",
    "    @show spikerate(sim)\n",
    "    return (; sim, input=inp)\n",
    "end \n",
    "\n",
    "simruns = []\n",
    "for (N, f) in Ns_and_scalings\n",
    "    scaling = f*N\n",
    "    simrun = cached(runsim, (N, scaling), key=cachekey(N))\n",
    "    push!(simruns, simrun)\n",
    "end"
   ]
  },
  {
   "cell_type": "code",
   "execution_count": 25,
   "id": "3fc0d570-4b02-4bce-a811-b297e24f85b5",
   "metadata": {},
   "outputs": [],
   "source": [
    "sims = first.(simruns)\n",
    "inps = last.(simruns);"
   ]
  },
  {
   "cell_type": "code",
   "execution_count": 26,
   "id": "5fcc19c4-55cc-4959-8ff1-668c126dcef8",
   "metadata": {},
   "outputs": [
    {
     "data": {
      "text/plain": [
       "0.535"
      ]
     },
     "execution_count": 26,
     "metadata": {},
     "output_type": "execute_result"
    }
   ],
   "source": [
    "Base.summarysize(simruns[6]) / GB"
   ]
  },
  {
   "cell_type": "markdown",
   "id": "eba7a11e-9c83-4dc2-8c5c-1bf21cf39516",
   "metadata": {},
   "source": [
    "### Disentangle"
   ]
  },
  {
   "cell_type": "code",
   "execution_count": 27,
   "id": "ca5ca584-46e5-4a50-abd6-6650a24b50ca",
   "metadata": {},
   "outputs": [],
   "source": [
    "spiketimes(input::Nto1Input) = input.train.spiketimes;"
   ]
  },
  {
   "cell_type": "code",
   "execution_count": 28,
   "id": "370b9aae-e76d-41f4-a0a6-ed7ceef5113f",
   "metadata": {},
   "outputs": [],
   "source": [
    "vrec(s::Simulation{<:Nto1System}) = s.rec.v;"
   ]
  },
  {
   "cell_type": "markdown",
   "id": "ed1411b9",
   "metadata": {},
   "source": [
    "## Conntest"
   ]
  },
  {
   "cell_type": "code",
   "execution_count": 29,
   "id": "7a71324c-c65f-4de7-9fd2-52a32d885d97",
   "metadata": {},
   "outputs": [],
   "source": [
    "winsize = 1000\n",
    "\n",
    "calcSTA(sim, spiketimes) =\n",
    "    calc_STA(vrec(sim), spiketimes, sim.Δt, winsize);"
   ]
  },
  {
   "cell_type": "code",
   "execution_count": 30,
   "id": "4878c0bf-a784-48ae-9220-b7b2dd9c5b9a",
   "metadata": {},
   "outputs": [],
   "source": [
    "# @code_warntype calc_STA(vrec(s), st1, s.Δt, winsize)\n",
    "# all good"
   ]
  },
  {
   "cell_type": "markdown",
   "id": "1ace8c4d-8e00-4b86-89bb-7a589c829a7b",
   "metadata": {},
   "source": [
    "### Cache STA calc"
   ]
  },
  {
   "cell_type": "code",
   "execution_count": 31,
   "id": "252e7dc9-b40a-4206-8730-e776fa379422",
   "metadata": {},
   "outputs": [],
   "source": [
    "function calc_STA_and_shufs(spiketimes, sim)\n",
    "    realSTA = calcSTA(sim, spiketimes)\n",
    "    shufs = [\n",
    "        calcSTA(sim, shuffle_ISIs(spiketimes))\n",
    "        for _ in 1:100\n",
    "    ]\n",
    "    (; realSTA, shufs)\n",
    "end\n",
    "\n",
    "\"calc_all_STAs_and_shufs\"\n",
    "function calc_all_STAz(inputs, sim)\n",
    "    f(input) = calc_STA_and_shufs(spiketimes(input), sim)\n",
    "    @showprogress map(f, inputs)\n",
    "end\n",
    "calc_all_STAz(simrun) = calc_all_STAz(unpakk(simrun)...);\n",
    "unpakk(simrun) = (; simrun.input.inputs, simrun.sim);\n",
    "\n",
    "# out = calc_all_STAz(simruns[1])\n",
    "# print(Base.summary(out))"
   ]
  },
  {
   "cell_type": "code",
   "execution_count": 33,
   "id": "b69494bf-bb65-403c-b843-7e3cecb14f37",
   "metadata": {
    "tags": []
   },
   "outputs": [
    {
     "data": {
      "text/plain": [
       "Any[]"
      ]
     },
     "execution_count": 33,
     "metadata": {},
     "output_type": "execute_result"
    }
   ],
   "source": [
    "calc_all_cached(i) = cached(calc_all_STAz, [simruns[i]], key=cachekey(Ns[i]))\n",
    "\n",
    "out = []\n",
    "# for i in eachindex(simruns)\n",
    "#     push!(out, calc_all_cached(i))\n",
    "# end;"
   ]
  },
  {
   "cell_type": "code",
   "execution_count": 31,
   "id": "f64b38c3-4f24-46cb-b828-e72abe4e6b5d",
   "metadata": {},
   "outputs": [],
   "source": [
    "conntype_vec(i) = begin\n",
    "    sim, inp = simruns[i]\n",
    "    Nₑ = inp.Nₑ\n",
    "    N = Ns[i]\n",
    "    conntype = Vector{Symbol}(undef, N);\n",
    "    conntype[1:Nₑ]     .= :exc\n",
    "    conntype[Nₑ+1:end] .= :inh\n",
    "    conntype\n",
    "end;"
   ]
  },
  {
   "cell_type": "code",
   "execution_count": 32,
   "id": "a322a75c-593a-45fb-a829-2ed1ce2bc9ea",
   "metadata": {},
   "outputs": [],
   "source": [
    "conntestresults(i, teststat = ptp_test; α = 0.05) = begin\n",
    "    \n",
    "    f((sta, shufs)) = test_conn(teststat, sta, shufs; α)\n",
    "    res = @showprogress map(f, out[i])\n",
    "    df = DataFrame(res)\n",
    "    df[!, :conntype] = conntype_vec(i)\n",
    "    df\n",
    "end;\n",
    "\n",
    "# conntestresults(1)"
   ]
  },
  {
   "cell_type": "code",
   "execution_count": 33,
   "id": "8056f89e-3dde-49c5-9da4-77f88cec9616",
   "metadata": {},
   "outputs": [],
   "source": [
    "using Sciplotlib: plot"
   ]
  },
  {
   "cell_type": "code",
   "execution_count": 34,
   "id": "8737a549-4964-4062-a94c-29f5c8109421",
   "metadata": {},
   "outputs": [],
   "source": [
    "spikerate_(spiketimes) = length(spiketimes) / sim_duration;"
   ]
  },
  {
   "cell_type": "code",
   "execution_count": 34,
   "id": "cccbcf93-80bc-4cb4-88e1-f5b29ee19026",
   "metadata": {},
   "outputs": [],
   "source": [
    "spikerate_(inp::Nto1Input) = spikerate_(spiketimes(inp));"
   ]
  },
  {
   "cell_type": "code",
   "execution_count": 35,
   "id": "2f32e175-f368-461b-a1e1-a9e0da2d4fb9",
   "metadata": {},
   "outputs": [],
   "source": [
    "firing_rates(i) = spikerate_.(spiketimes.(inps[i].inputs));"
   ]
  }
 ],
 "metadata": {
  "jupytext": {
   "encoding": "# -*- coding: utf-8 -*-",
   "formats": "ipynb,jl:light"
  },
  "kernelspec": {
   "display_name": "Julia 1.8.1",
   "language": "julia",
   "name": "julia-1.8"
  },
  "language_info": {
   "file_extension": ".jl",
   "mimetype": "application/julia",
   "name": "julia",
   "version": "1.8.1"
  },
  "toc": {
   "base_numbering": 1,
   "nav_menu": {},
   "number_sections": false,
   "sideBar": false,
   "skip_h1_title": true,
   "title_cell": "Table of Contents",
   "title_sidebar": "Contents",
   "toc_cell": false,
   "toc_position": {
    "height": "47.7px",
    "left": "951px",
    "top": "0px",
    "width": "67px"
   },
   "toc_section_display": true,
   "toc_window_display": false
  },
  "toc-autonumbering": false,
  "toc-showcode": false,
  "toc-showmarkdowntxt": false,
  "toc-showtags": false
 },
 "nbformat": 4,
 "nbformat_minor": 5
}
