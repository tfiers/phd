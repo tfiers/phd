{
 "cells": [
  {
   "cell_type": "markdown",
   "id": "f8ce304a",
   "metadata": {},
   "source": [
    "# 2023-02-07 • AdEx ↔ Izhikevich comparison"
   ]
  },
  {
   "cell_type": "code",
   "execution_count": null,
   "id": "18e1ccd3",
   "metadata": {},
   "outputs": [
    {
     "name": "stdout",
     "output_type": "stream",
     "text": [
      "using MyToolbox: 2.824050 seconds (607.32 k allocations: 43.399 MiB, 34.11% gc time)\n",
      "using SpikeWorks: 0.000211 seconds (150 allocations: 14.000 KiB)\n"
     ]
    }
   ],
   "source": [
    "@showtime using MyToolbox\n",
    "@showtime using SpikeWorks"
   ]
  },
  {
   "cell_type": "markdown",
   "id": "0d999197",
   "metadata": {},
   "source": [
    "## Converting Izh to AdEx params"
   ]
  },
  {
   "cell_type": "markdown",
   "id": "4e7f17d6",
   "metadata": {},
   "source": [
    "Equations:"
   ]
  },
  {
   "cell_type": "markdown",
   "id": "451ab764",
   "metadata": {},
   "source": [
    "### AdEx\n",
    "\n",
    "aka aEIF"
   ]
  },
  {
   "cell_type": "markdown",
   "id": "760541e3",
   "metadata": {},
   "source": [
    "https://tfiers.github.io/phd/nb/2021-12-08__biology_vs_Izh_subhtr.html"
   ]
  },
  {
   "cell_type": "markdown",
   "id": "6e892f0a",
   "metadata": {},
   "source": [
    "Richard Naud, Nicolas Marcille, Claudia Clopath, and Wulfram Gerstner,\\\n",
    "‘Firing patterns in the adaptive exponential integrate-and-fire model’,\\\n",
    "Biol Cybern, Nov. 2008, https://doi.org/10.1007/s00422-008-0264-7"
   ]
  },
  {
   "cell_type": "markdown",
   "id": "d6802ea9",
   "metadata": {},
   "source": [
    "$$\n",
    "\\begin{align}\n",
    "C \\frac{dV}{dt}      &= -g_L (V - E_L) + g_L \\Delta_T \\exp \\left( \\frac{V - V_T}{\\Delta_T} \\right) + I - w\\\\\n",
    "\\tau_w \\frac{dw}{dt} &= a (V - E_L) - w\n",
    "\\end{align}\n",
    "$$\n",
    "\n",
    "if $V > 0$ mV, then\n",
    "\n",
    "$$\n",
    "\\begin{align}\n",
    "V &→ V_r\\\\\n",
    "w &→ w + b\n",
    "\\end{align}\n",
    "$$"
   ]
  },
  {
   "cell_type": "markdown",
   "id": "f42dcdf9",
   "metadata": {},
   "source": [
    "### Izhikevich\n",
    "2007 Book, eqs 5.7-5.8 (\"Reduction to Simple model\" → \"Derivation via I-V relations\")\n",
    "\n",
    "(See also https://www.izhikevich.org/publications/spikes.htm for the 2003 version, with 'hardcoded' $C$, $v_r$, $v_t$;\\\n",
    "so that only four params $\\{a, b, c, d\\}$)."
   ]
  },
  {
   "cell_type": "markdown",
   "id": "67daabe2",
   "metadata": {},
   "source": [
    "$$\n",
    "\\begin{align}\n",
    "C \\frac{dv}{dt} &= k(v-v_r)(v-v_t) - u + I\\\\\n",
    "\\frac{du}{dt} &= a(b(v-v_r) - u)\n",
    "\\end{align}\n",
    "$$\n",
    "\n",
    "if $v ≥ v_\\text{peak}$, then\n",
    "\n",
    "$$\n",
    "\\begin{align}\n",
    "v &→ c\\\\\n",
    "u &→ u + d\n",
    "\\end{align}\n",
    "$$"
   ]
  },
  {
   "cell_type": "markdown",
   "id": "10ea1fb2",
   "metadata": {},
   "source": [
    "### Param comparison"
   ]
  },
  {
   "cell_type": "markdown",
   "id": "c65808eb",
   "metadata": {},
   "source": [
    "Exactly equal:\n",
    "\n",
    "| AdEx LIF | Izhikevich | My Izh. code | Units     | Function \n",
    "|----------|:-----------|:-------------|:----------|:--------\n",
    "| $V$      | $v$        | $v$          | [V]       | Membrane voltage\n",
    "| $w$      | $u$        | $u$          | [A]       | Adaptation current\n",
    "| $C$      | $C$        | $C$          | [F]       | Membrane capacitance\n",
    "| $τ_w$    | $1\\ /\\ a$  | $1\\ /\\ a$    | [s]       | Time ct. of adaptation current\n",
    "| $a$      | $b$        | $b$          | [A/V = S] | Sensitivity of adapt. current on v (\\*)\n",
    "| $+I$     | $+I$       | $-I$         | [A]       | Synaptic & electrode current\n",
    "| $0$ mV   | $v_\\text{peak}$ | $v_s$   | [V]       | Spike definition/cutoff threshold\n",
    "| $V_r$    | $c$        | $v_r$        | [V]       | Reset voltage after spike\n",
    "| $b$      | $d$        | $Δu$         | [A]       | Adapt. current bump after spike\n",
    "\n",
    "(\\*) Sensitivity of adapt. current, o or coupling strength of $(V-V_L)$ on it"
   ]
  },
  {
   "cell_type": "markdown",
   "id": "5f76ec09",
   "metadata": {},
   "source": [
    "Same role, approximately same:\n",
    "\n",
    "| AdEx LIF | Izhikevich | My Izh. code | Units | Function \n",
    "|----------|:-----------|:-------------|:------|:--------\n",
    "| $E_L$    | $v_r$      | $v_l$        | [V]   | Resting ('leak') membrane potential\n",
    "| $V_T$    | $v_t$      | $v_t$        | [V]   | Spike run-off threshold (when no adapt. & ext. current)"
   ]
  },
  {
   "cell_type": "markdown",
   "id": "cb97eeac",
   "metadata": {},
   "source": [
    "Approx same role:\n",
    "\n",
    "| AdEx LIF | Izhikevich | Units | Function \n",
    "|----------|:-----------|:------|:--------\n",
    "|   /      | $k$        | [S/V] | Larger: steeper parabola (of v̇) -- and v̇ more sensitive to depolarization\n",
    "| $g_L$    |  /         | [S]   | Larger: steeper exponential (of v̇) -- and v̇ more sensitive to depolarization. (Leak conductance)\n",
    "| $Δ_T$    |  /         | [V]   | Smaller: steeper exponential (of v̇). 'Threshold slope factor'\n",
    "\n",
    "Thus:\n",
    "\n",
    "$$\n",
    "k \\propto \\frac{g_L}{Δ_T}\n",
    "$$\n",
    "\n",
    "---"
   ]
  },
  {
   "cell_type": "markdown",
   "id": "784f1aa0",
   "metadata": {},
   "source": [
    "(Dayan & Abbott book has $V$:\n",
    "\n",
    "$$\n",
    "c_m \\frac{dV}{dt} = -i_m + \\frac{I_e}{A}\n",
    "$$\n",
    "Multiplying out the cell membrane size $A$:\n",
    "\n",
    "$$\n",
    "C \\frac{dV}{dt} = -I_m + I_e\n",
    "$$\n",
    ")\n",
    "\n",
    "On $I$:\\\n",
    "`sign convention for current entering/leaving cell: C v̇ = –Iₘₑₘ +Iₑₓₜ`\\\n",
    "Positive charges flowing **out** of membrane: Iₘₑₘ pos.\\\n",
    "Positive charges flowing from electrode **into** cell: Iₑₓₜ pos.\\\n",
    "(So I made a mistake here). (Which seems to be cancelled out: exc STAs are upwards)."
   ]
  },
  {
   "cell_type": "markdown",
   "id": "add49681",
   "metadata": {},
   "source": [
    "### AdEx has one parameter more than Izhikevich\n",
    "\n",
    "This allows it to decouple the two sensitivities of V̇, around its two fixed points (resting potential and spiking threshold).\\\n",
    "In Izhikevich, you cannot make one more sensitive without also making the other more sensitive."
   ]
  },
  {
   "cell_type": "markdown",
   "id": "9dd5134c",
   "metadata": {},
   "source": [
    "### Parameter reduction"
   ]
  },
  {
   "cell_type": "markdown",
   "id": "e129578b",
   "metadata": {},
   "source": [
    "Naud et al 2008 divide their nine params into:\n",
    "- Scaling parameters: $C, g_L, E_L, Δ_T, V_T$\n",
    "- Bifurcation parameters: $a, τ_w, b, V_r$\n",
    "\n",
    "In Izh reduction, these four bifurcation parameters are:\n",
    "- In the same order: $b, 1/a, d, c$\n",
    "  \n",
    "(Now the other way round:\n",
    "- Izh  $a, b, c, d = $\n",
    "- AdEx $1/τ_w, a, V_r, b$\n",
    "\n",
    ")\n",
    "\n",
    "Note that for both models, when transforming a model in biological units (with all 9 or 8 params)\\\n",
    "to a dimensionless one, with just 4 bifurcation parameters,\\\n",
    "the bifurcation parameters (_with the same names_), will get different values."
   ]
  },
  {
   "cell_type": "markdown",
   "id": "7f0330d1",
   "metadata": {},
   "source": [
    "### I-V relation"
   ]
  },
  {
   "cell_type": "markdown",
   "id": "8b8ee097",
   "metadata": {},
   "source": [
    "Re Izh book, same place as reff'ed above.\n",
    "\n",
    "Guide to the derivation there, and fig 5.24:\n",
    "- \"Instantaneous I-V relation, $I_0(V)$\" is for $\\dot{v} = 0$ and $u = 0$\n",
    "    - $I = -k(v-v_r)(v-v_t)$\n",
    "- \"Steady-state I-V relation, $I_\\infty(V)$\" is for $\\dot{v} = 0$ and $u \\neq 0$; but $\\dot{u} = 0$\n",
    "    - $I = -k(v-v_r)(v-v_t) + u$\n",
    "    - $\\ \\ = -k(v-v_r)(v-v_t) + b(v-v_r)$\n",
    "    - ($\\ \\ = -k v^2 + (kv_t+kv_r+b)v + (bv_r - kv_rv_t)$)\n",
    "\n",
    "indeed around $v_r$ ($= E_L$), the linearization (derivative) of V̇ wrt V gives the input conductance\n",
    "(= 1/R, with R the input resistance).\n",
    "\n",
    "Derivative of steady-state I(V) wrt $v$:\\\n",
    "$-2kv + (kv_t+kv_r+b)$\n",
    "\n",
    "At $v=v_r$:\\\n",
    "$b + k(v_t - v_r)$.\n",
    "\n",
    "Rheobase = smallest current with which cell generates action potential, when applied 'infinitely' (300 ms) long."
   ]
  },
  {
   "cell_type": "markdown",
   "id": "e8bc2b89",
   "metadata": {},
   "source": [
    "### Sign of $b$ (Izh) / $a$ (AdEx)\n",
    "\n",
    "- $b < 0$: positive feedback\n",
    "- $b > 0$: negative feedback\n",
    "\n",
    "Confusing, yes.\\\n",
    "The former is 'amplifying',\\\n",
    "the latter is 'resonant', adaptation."
   ]
  },
  {
   "cell_type": "markdown",
   "id": "ad2edf84",
   "metadata": {},
   "source": [
    "### Same parametrization"
   ]
  },
  {
   "cell_type": "markdown",
   "id": "ec28e2bc",
   "metadata": {},
   "source": [
    "Let's choose AdEx's.\n",
    "\n",
    "i.e. express Izhikevich equation w/ AdEx names for params.\n",
    "\n",
    "As the diff.eq. for the adaptation current is exactly the same, we omit it.\\\n",
    "Idem for the non-continuous spike detection and reset.\\\n",
    "That leaves us the membrane potential diff.eq, from which we leave out the non-membrane currents, as they are also identical.\n",
    "\n",
    "Izh:\n",
    "\n",
    "$$\n",
    "C \\dot{V} = k(V-E_L)(V-V_T)\n",
    "$$\n",
    "\n",
    "AdEx:\n",
    "\n",
    "$$\n",
    "C \\dot{V} = -g_L(V-E_L) + g_L Δ_T \\exp \\left( \\frac{V - V_T}{\\Delta_T} \\right)\n",
    "$$"
   ]
  },
  {
   "cell_type": "markdown",
   "id": "a39fbb87",
   "metadata": {},
   "source": [
    "### $k$ ↔ $g_L$"
   ]
  },
  {
   "cell_type": "markdown",
   "id": "5091b7bb",
   "metadata": {},
   "source": [
    "In Izhikevich, the slope of v̇(v) around the resting potential (= the input conductance)\n",
    "is, for $u = 0$, and at $v = v_r$:\n",
    "\n",
    "$$\n",
    "\\begin{align}\n",
    " & \\frac{d}{dv}\\left( k(v-v_r)(v-v_t) \\right)\\\\\n",
    "=& 2kv - kv_t - kv_r\\\\\n",
    "=& k(v_r - v_t)\n",
    "\\end{align}\n",
    "$$\n",
    "\n",
    "Linearizing AdEx's v̇(v) around the resting potential,\n",
    "ignoring the exponential as it's small:\n",
    "\n",
    "$$\n",
    "\\begin{align}\n",
    " & \\frac{d}{dV}\\left( -g_L (V - E_L) \\right)\\\\\n",
    "=& -g_L\n",
    "\\end{align}\n",
    "$$"
   ]
  },
  {
   "cell_type": "markdown",
   "id": "55af0091",
   "metadata": {},
   "source": [
    "Is input conductance same thing as leak conductance? I suppose so.\\\n",
    "(Yes, caption of table 1 [here] says so, e.g: \"Total leak conductance (a.k.a. input conductance)\").\n",
    "\n",
    "[here]: https://journals.plos.org/ploscompbiol/article?id=10.1371/journal.pcbi.1002550\n",
    "\n",
    "So, we then have our relationship:\n",
    "\n",
    "$$\n",
    "g_L = k(v_t - v_r)\n",
    "$$"
   ]
  },
  {
   "cell_type": "markdown",
   "id": "90204064",
   "metadata": {},
   "source": [
    "For our good old Cortical RS (regular spiking) parameters we've always used, this is:\n",
    "- $k = 0.7$ nS/mV\n",
    "- $v_r = -60$ mV\n",
    "- $v_t = -40$ mV\n",
    "\n",
    "and thus\n",
    "- $v_t - v_r = 20$ mV\n",
    "- $g_L = 14 $ nS"
   ]
  },
  {
   "cell_type": "markdown",
   "id": "3777bae7",
   "metadata": {},
   "source": [
    "Is this realistic?\\\n",
    "Table 1 (after fig 4) in Naud 2008 gives $g_L$ values between 2.9 and 18 nS.\\\n",
    "So yes, totally."
   ]
  },
  {
   "cell_type": "markdown",
   "id": "c0d8e71d",
   "metadata": {},
   "source": [
    "### $k$ ↔ $\\Delta_T$"
   ]
  },
  {
   "cell_type": "markdown",
   "id": "c44c7c2c",
   "metadata": {},
   "source": [
    "We will linearize AdEx's V̇(V) around $V=V_T$\\\n",
    "We cannot ignore the linear (leak) term now, I think.\n",
    "\n",
    "(Given that a parabola has the same slope at both zeros (just inversed sign),\n",
    "we already know it for Izh (namely $k(v_t-v_r)$)).\n",
    "\n",
    "$$\n",
    "\\begin{align}\n",
    " & \\frac{d}{dV}\\left( -g_L (V - E_L) + g_L Δ_T \\exp\\left(\\frac{V - V_T}{Δ_T}\\right) \\right)\\\\\n",
    "=& -g_L + g_L Δ_T\\ \\ \\frac{d}{dV}\\left(\\frac{V - V_T}{Δ_T}\\right)\\ \\  \\exp\\left(\\frac{V - V_T}{Δ_T}\\right)\\\\\n",
    "=& -g_L + g_L Δ_T\\ \\ \\frac{1}{Δ_T} \\ \\ \\ \\ \\ \\  \\exp\\left(\\frac{V - V_T}{Δ_T}\\right)\\\\\n",
    "\\\\\n",
    "& \\text{(substituting $V=V_T$)}\\\\\n",
    "=& -g_L + g_L \\frac{Δ_T}{Δ_T}  \\exp(0)\\\\\n",
    "=& -g_L + g_L\\\\\n",
    "=&\\ 0\n",
    "\\end{align}\n",
    "$$\n",
    "\n",
    "Aha.\\\n",
    "$V_T$ is thus not the approx runaway threshold.\\\n",
    "It's where V̇(V) is minimal.\\\n",
    "(The derivative at $V_T$ is zero)."
   ]
  },
  {
   "cell_type": "markdown",
   "id": "9d35f5a6",
   "metadata": {},
   "source": [
    "---\n",
    "(For Izh, minimum is where $2kv - kv_t - kv_r = 0$,\\\n",
    "or $v = (v_t + v_r)/2$\\.\n",
    "That makes total sense.\n",
    "\n",
    "---"
   ]
  },
  {
   "cell_type": "markdown",
   "id": "17306ff8",
   "metadata": {},
   "source": [
    "So where is the unstable fixed point?\\\n",
    "At V̇=0, or:\n",
    "\n",
    "$$\n",
    "\\begin{align}\n",
    "V - E_L &= Δ_T \\exp\\left(\\frac{V - V_T}{Δ_T}\\right)\\\\\n",
    "\\\\\n",
    "\\left(\\frac{V - E_L}{Δ_T}\\right) &= \\exp\\left(\\frac{V - V_T}{Δ_T}\\right)\n",
    "\\end{align}\n",
    "$$\n",
    "\n",
    "(We can take log; but doesn't help much).\n",
    "\n",
    "WolframAlpha [says] root at:\n",
    "\n",
    "$$\n",
    "V = E_L - Δ_T\\ W(-e^{(E_L/Δ_T - V_T/Δ_T)})\n",
    "$$\n",
    "\n",
    "with W = ProductLog = https://mathworld.wolfram.com/LambertW-Function.html\n",
    "\n",
    "[says]: https://www.wolframalpha.com/input?i=f%28V%29+%3D+-g*%28V-L%29%2Bg*D*exp%28%28V-T%29%2FD%29\n",
    "\n",
    "Evaluating the second term for the Naud's cortical RS (below):"
   ]
  },
  {
   "cell_type": "code",
   "execution_count": 24,
   "id": "e2173559",
   "metadata": {},
   "outputs": [],
   "source": [
    "E_L = -65 # mV\n",
    "V_T = -52 # mV\n",
    "Δ_T = 0.8 # mV\n",
    ";"
   ]
  },
  {
   "cell_type": "markdown",
   "id": "47cf7cb5",
   "metadata": {},
   "source": [
    "The exponent is "
   ]
  },
  {
   "cell_type": "code",
   "execution_count": 23,
   "id": "37daf451",
   "metadata": {},
   "outputs": [
    {
     "data": {
      "text/plain": [
       "-16.2"
      ]
     },
     "execution_count": 23,
     "metadata": {},
     "output_type": "execute_result"
    }
   ],
   "source": [
    "(E_L/Δ_T - V_T/Δ_T)  # mV"
   ]
  },
  {
   "cell_type": "markdown",
   "id": "7007cfcd",
   "metadata": {},
   "source": [
    "The LambertW function passes through 0.\\\n",
    "So this root is just our resting potential.\\\n",
    "(It's $E_L$, minus a tiny correction due to the exponential term; which is nearly 0 there)."
   ]
  },
  {
   "cell_type": "markdown",
   "id": "be4930a4",
   "metadata": {},
   "source": [
    "So where is our second root??"
   ]
  },
  {
   "cell_type": "markdown",
   "id": "64d8afdc",
   "metadata": {},
   "source": [
    "We'll plot it. Above values,\\\n",
    "and g_L = 1.\\\n",
    "[Link](https://www.wolframalpha.com/input?i=plot+f%28V%29+%3D+-%28V%2B65%29%2B0.8*exp%28%28V%2B52%29%2F0.8%29+from+-70+to+-48)\n",
    "\n",
    "Ok so phew, I'm not crazy, there's two roots."
   ]
  },
  {
   "cell_type": "markdown",
   "id": "afac3774",
   "metadata": {},
   "source": [
    "Eh, I guess it just can't be found analytically."
   ]
  },
  {
   "cell_type": "markdown",
   "id": "38ca7f5d",
   "metadata": {},
   "source": [
    "So let's do numerically then.\\\n",
    "Unstable fixed point (firing thr), and slope there:"
   ]
  },
  {
   "cell_type": "markdown",
   "id": "03a7fdbd",
   "metadata": {},
   "source": [
    "Or not, it's fine. Not needed now. (We could do it, if we wanted)."
   ]
  },
  {
   "cell_type": "markdown",
   "id": "3465d2a7",
   "metadata": {},
   "source": [
    "WolframAlpha of the plot above gives -49.6 mV.\n",
    "\n",
    "The slope there is:\n",
    "\n",
    "$$\n",
    "g_L \\left( \\exp\\left(\\frac{V - V_T}{Δ_T}\\right) - 1 \\right)\n",
    "$$\n",
    "\n",
    "Or:"
   ]
  },
  {
   "cell_type": "code",
   "execution_count": 28,
   "id": "656e149a",
   "metadata": {},
   "outputs": [
    {
     "data": {
      "text/plain": [
       "3"
      ]
     },
     "execution_count": 28,
     "metadata": {},
     "output_type": "execute_result"
    }
   ],
   "source": [
    "g_L = 4.3 # nS\n",
    "V = -49.6 # mV\n",
    "\n",
    "exponent = (V-V_T)/Δ_T  # [unitless]"
   ]
  },
  {
   "cell_type": "code",
   "execution_count": 29,
   "id": "35e6188b",
   "metadata": {},
   "outputs": [
    {
     "data": {
      "text/plain": [
       "82.1"
      ]
     },
     "execution_count": 29,
     "metadata": {},
     "output_type": "execute_result"
    }
   ],
   "source": [
    "slope = g_L * (exp(exponent)-1)  # nS"
   ]
  },
  {
   "cell_type": "markdown",
   "id": "77cd6385",
   "metadata": {},
   "source": [
    "That looks about right."
   ]
  },
  {
   "cell_type": "markdown",
   "id": "7b295984",
   "metadata": {},
   "source": [
    "### Value for $\\Delta_T$"
   ]
  },
  {
   "cell_type": "markdown",
   "id": "b6de65ee",
   "metadata": {},
   "source": [
    "They compare with real regular spiking cells, 'RS'.\\\n",
    "Again table 1: $Δ_T = 0.8$ mV (lowest of the table; highest is 5.5 mV)."
   ]
  },
  {
   "cell_type": "markdown",
   "id": "2c367b04",
   "metadata": {},
   "source": [
    "### Param value comparison, for cortical RS neuron\n",
    "Putting it all together, param comparison of AdEx RS of Naud et al, with Izhikevich's RS (Mark's technical report):\n",
    "\n",
    "\n",
    "| Naud 2008 AdEx | Val       | Val         | Izh / report  | What\n",
    "|---------------:|:----------|:------------|:--------------|:----\n",
    "| $C$            | 104 pF    | 100  pF     | $C$           |\n",
    "| $C/g_L$        | 24 ms     | ?           | ?             | Time constant of voltage\n",
    "|                |           | 0.14  ms·mV | $C/k$         | ?\n",
    "| -------------- | --------- | ------------| --------------|\n",
    "| $g_L$          | 4.3 nS    | 14  nS      | $k(v_t-v_r)$  | Slope of V̇(V) at rest\n",
    "| $E_L$          | -65 mV    | -60  mV     | $v_r$         | Rest (stable fixed point)\n",
    "| $V_T$          | -52 mV    | -50  mV     | $(v_t+v_r)/2$ | Minimum of V̇(V)\n",
    "|                | -49.6 mV  | -40  mV     | $v_t$         | Threshold (unstable fixed point)\n",
    "|                | 82 nS     | 14  nS      | $k(v_t-v_r)$  | Slope of V̇(V) at threshold\n",
    "| $Δ_T$          | 0.8 mV    |             |               |\n",
    "| -------------- | --------- | ------------| --------------|\n",
    "| $a$            | -0.8 nS   | -2  nS      | $b$           | Sensitivity of adapt. current\n",
    "| $τ_w$          | 88 ms     | 33 ms       | $a^{-1}$      | Time ct of adapt. current\n",
    "| $b$            | 65 pA     | 100  pA     | $d$           | Adapt. current bump after spike\n",
    "| $V_r$          | -53 mV    | -50  mV     | $c$           | Reset voltage after spike\n"
   ]
  },
  {
   "cell_type": "markdown",
   "id": "658ddfa9",
   "metadata": {},
   "source": [
    "So the Naud RS neuron has a range -65 mV -- -50 mV  (15 mV wide)\\\n",
    "Ours has -60 mV -- -40 mV  (20 mV wide).\n",
    "\n",
    "Their neuron's adaptation current adapts slower, is less influenced by V.\\\n",
    "Ours is less smoothed, and has larger bumps on a spike.\n",
    "\n",
    "They reset quite high: almost at the 'knik' (minimum, $V_T$)\\\n",
    "We reset in the middle of our interval.\n",
    "\n",
    "Around rest, their neuron is less sensitive (more than 3x less).\\\n",
    "I.e. they should have smaller STAs.\\\n",
    "(and conversely, at threshold their V̇ is almost 6x more sensitive).\n",
    "\n",
    "Their V̇ is linear over a large range\\\n",
    "(see [plot] again).\\\n",
    "Ours is linear nowhere.\n",
    "\n",
    "[plot]: https://www.wolframalpha.com/input?i=plot+f%28V%29+%3D+-%28V%2B65%29%2B0.8*exp%28%28V%2B52%29%2F0.8%29+from+-70+to+-48"
   ]
  },
  {
   "cell_type": "markdown",
   "id": "688b7f3a",
   "metadata": {},
   "source": [
    "### Izh time constant for voltage"
   ]
  },
  {
   "cell_type": "markdown",
   "id": "c8bd0770",
   "metadata": {},
   "source": [
    "Can we find it?"
   ]
  },
  {
   "cell_type": "markdown",
   "id": "3db5009c",
   "metadata": {},
   "source": [
    "Not now."
   ]
  },
  {
   "cell_type": "markdown",
   "id": "e61e59c3",
   "metadata": {},
   "source": [
    "### Define params\n",
    "\n",
    "We could write code to convert our current Izh params to AdEx\\\n",
    "(e.g. `g_L = k*(v_t - v_r)`).\\\n",
    "But why not just go with Naud 2008 cortical RS params."
   ]
  },
  {
   "cell_type": "markdown",
   "id": "7e9b4901",
   "metadata": {},
   "source": [
    "[→ Next notebook]"
   ]
  }
 ],
 "metadata": {
  "jupytext": {
   "encoding": "# -*- coding: utf-8 -*-",
   "formats": "ipynb,jl:light"
  },
  "kernelspec": {
   "display_name": "Julia 1.9.0-beta3",
   "language": "julia",
   "name": "julia-1.9"
  },
  "language_info": {
   "file_extension": ".jl",
   "mimetype": "application/julia",
   "name": "julia",
   "version": "1.9.0"
  },
  "toc": {
   "base_numbering": 1,
   "nav_menu": {},
   "number_sections": false,
   "sideBar": false,
   "skip_h1_title": true,
   "title_cell": "Table of Contents",
   "title_sidebar": "Contents",
   "toc_cell": false,
   "toc_position": {
    "height": "47.7px",
    "left": "951px",
    "top": "0px",
    "width": "67px"
   },
   "toc_section_display": true,
   "toc_window_display": false
  },
  "toc-autonumbering": false,
  "toc-showcode": false,
  "toc-showmarkdowntxt": false,
  "toc-showtags": false
 },
 "nbformat": 4,
 "nbformat_minor": 5
}
