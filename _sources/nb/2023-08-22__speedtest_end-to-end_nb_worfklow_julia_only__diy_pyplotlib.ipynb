{
 "cells": [
  {
   "cell_type": "markdown",
   "id": "5faf4614",
   "metadata": {},
   "source": [
    "# 2023-08-22__speedtest_end-to-end_nb_worfklow_julia_only__diy_pyplotlib"
   ]
  },
  {
   "cell_type": "code",
   "execution_count": 1,
   "id": "703b7f41",
   "metadata": {},
   "outputs": [
    {
     "data": {
      "text/plain": [
       "1"
      ]
     },
     "execution_count": 1,
     "metadata": {},
     "output_type": "execute_result"
    }
   ],
   "source": [
    "1"
   ]
  },
  {
   "cell_type": "code",
   "execution_count": 2,
   "id": "6436aa15",
   "metadata": {},
   "outputs": [],
   "source": [
    "# ]st\n",
    "# (right env (.. aka phd) already active)"
   ]
  },
  {
   "cell_type": "code",
   "execution_count": 3,
   "id": "4e3aca63",
   "metadata": {},
   "outputs": [
    {
     "name": "stdout",
     "output_type": "stream",
     "text": [
      "  0.030153 seconds (12.75 k allocations: 865.286 KiB)\n"
     ]
    }
   ],
   "source": [
    "@time using Nto1AdEx"
   ]
  },
  {
   "cell_type": "code",
   "execution_count": 4,
   "id": "6486cbc9",
   "metadata": {},
   "outputs": [],
   "source": [
    "using Units"
   ]
  },
  {
   "cell_type": "code",
   "execution_count": 5,
   "id": "2d17aff3",
   "metadata": {},
   "outputs": [
    {
     "name": "stdout",
     "output_type": "stream",
     "text": [
      "  0.052663 seconds (13.06 k allocations: 31.574 MiB, 27.79% gc time, 12.96% compilation time)\n"
     ]
    }
   ],
   "source": [
    "@time begin\n",
    "    Nto1AdEx.wₑ = 15 * pS\n",
    "    Nto1AdEx.wᵢ = 4 * Nto1AdEx.wₑ\n",
    "    out = Nto1AdEx.sim(6500, 10)\n",
    "end;"
   ]
  },
  {
   "cell_type": "code",
   "execution_count": 6,
   "id": "cb610edb",
   "metadata": {},
   "outputs": [],
   "source": [
    "using WithFeedback"
   ]
  },
  {
   "cell_type": "code",
   "execution_count": 8,
   "id": "09201c06",
   "metadata": {},
   "outputs": [
    {
     "name": "stdout",
     "output_type": "stream",
     "text": [
      "using PythonCall … ✔\n"
     ]
    }
   ],
   "source": [
    "@withfb using PythonCall\n",
    "using IJMatplotlib"
   ]
  },
  {
   "cell_type": "code",
   "execution_count": 9,
   "id": "f4ef8be2",
   "metadata": {},
   "outputs": [
    {
     "name": "stdout",
     "output_type": "stream",
     "text": [
      "  3.833751 seconds (1.49 M allocations: 99.446 MiB, 0.82% gc time)\n"
     ]
    },
    {
     "data": {
      "text/plain": [
       "Python: <module 'pyplotlib' from 'c:\\\\users\\\\tfiers\\\\phd\\\\pkg\\\\pyplotlib\\\\src\\\\pyplotlib\\\\__init__.py'>"
      ]
     },
     "execution_count": 9,
     "metadata": {},
     "output_type": "execute_result"
    }
   ],
   "source": [
    "@time pl = pyimport(\"pyplotlib\")"
   ]
  },
  {
   "cell_type": "code",
   "execution_count": 11,
   "id": "1c73db51",
   "metadata": {},
   "outputs": [],
   "source": [
    "reload = pyimport(\"importlib\").reload\n",
    "reload(pl);"
   ]
  },
  {
   "cell_type": "code",
   "execution_count": 12,
   "id": "4320821c",
   "metadata": {},
   "outputs": [
    {
     "name": "stdout",
     "output_type": "stream",
     "text": [
      "yoyoy\r\n"
     ]
    },
    {
     "ename": "LoadError",
     "evalue": "Python: TypeError: unsupported operand type(s) for /: 'list' and 'float'",
     "output_type": "error",
     "traceback": [
      "Python: TypeError: unsupported operand type(s) for /: 'list' and 'float'",
      "",
      "Stacktrace:",
      " [1] pythrow()",
      "   @ PythonCall C:\\Users\\tfiers\\.julia\\packages\\PythonCall\\qTEA1\\src\\err.jl:94",
      " [2] errcheck",
      "   @ C:\\Users\\tfiers\\.julia\\packages\\PythonCall\\qTEA1\\src\\err.jl:10 [inlined]",
      " [3] pycallargs(f::Py, args::Py)",
      "   @ PythonCall C:\\Users\\tfiers\\.julia\\packages\\PythonCall\\qTEA1\\src\\abstract\\object.jl:210",
      " [4] pycall(::Py, ::Vector{Float64}, ::Vararg{Any}; kwargs::Base.Pairs{Symbol, Union{}, Tuple{}, NamedTuple{(), Tuple{}}})",
      "   @ PythonCall C:\\Users\\tfiers\\.julia\\packages\\PythonCall\\qTEA1\\src\\abstract\\object.jl:228",
      " [5] pycall(::Py, ::Vector{Float64}, ::Vararg{Any})",
      "   @ PythonCall C:\\Users\\tfiers\\.julia\\packages\\PythonCall\\qTEA1\\src\\abstract\\object.jl:218",
      " [6] (::Py)(::Vector{Float64}, ::Vararg{Any}; kwargs::Base.Pairs{Symbol, Union{}, Tuple{}, NamedTuple{(), Tuple{}}})",
      "   @ PythonCall C:\\Users\\tfiers\\.julia\\packages\\PythonCall\\qTEA1\\src\\Py.jl:341",
      " [7] (::Py)(::Vector{Float64}, ::Vararg{Any})",
      "   @ PythonCall C:\\Users\\tfiers\\.julia\\packages\\PythonCall\\qTEA1\\src\\Py.jl:341",
      " [8] top-level scope",
      "   @ .\\timing.jl:273 [inlined]",
      " [9] top-level scope",
      "   @ .\\In[12]:0"
     ]
    }
   ],
   "source": [
    "@time pl.plotsig(out.V / mV, [0, 1000], ms);"
   ]
  },
  {
   "cell_type": "markdown",
   "id": "96ee4e1b",
   "metadata": {},
   "source": [
    "'Restart and run all':  \n",
    "\n",
    "**~28 seconds total**\n",
    "\n",
    "First cell after ~9\"\n",
    "\n",
    "(after a few warm up restarts-and-run-alls).\n",
    "\n",
    "Breakdown of the total:\n",
    "- 9 sec julia/ijulia startup\n",
    "- ~nothing my pkgs import & run :)\n",
    "- 8 sec pycall/mpl import & setup\n",
    "- 3 sec plotcall (before anything on screen)\n",
    "- ~4 sec (estimate) img display"
   ]
  }
 ],
 "metadata": {
  "kernelspec": {
   "display_name": "Julia 1.9.0-beta3",
   "language": "julia",
   "name": "julia-1.9"
  },
  "language_info": {
   "file_extension": ".jl",
   "mimetype": "application/julia",
   "name": "julia",
   "version": "1.9.0"
  },
  "toc": {
   "base_numbering": 1,
   "nav_menu": {},
   "number_sections": false,
   "sideBar": false,
   "skip_h1_title": true,
   "title_cell": "Table of Contents",
   "title_sidebar": "Contents",
   "toc_cell": false,
   "toc_position": {},
   "toc_section_display": true,
   "toc_window_display": false
  }
 },
 "nbformat": 4,
 "nbformat_minor": 5
}
