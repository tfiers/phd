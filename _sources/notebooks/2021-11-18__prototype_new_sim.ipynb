{
 "cells": [
  {
   "cell_type": "markdown",
   "metadata": {},
   "source": [
    "# 2021-11-18 • Prototype new sim"
   ]
  },
  {
   "cell_type": "markdown",
   "metadata": {},
   "source": [
    "One numba-optimised function doing synaptic integration and izhikevich sim.\n",
    "\n",
    "To allow simulations with many neurons / input spike trains to fit in memory, we do not save all signals, only \"recorded\" ones (as the simulators like Brian do)."
   ]
  },
  {
   "cell_type": "markdown",
   "metadata": {},
   "source": [
    "## Prelude"
   ]
  },
  {
   "cell_type": "code",
   "execution_count": 1,
   "metadata": {},
   "outputs": [
    {
     "name": "stdout",
     "output_type": "stream",
     "text": [
      "Preloading: numpy, numba, matplotlib.pyplot, seaborn.\n",
      "Importing from submodules … ✔\n",
      "Imported `np`, `mpl`, `plt`, `sns`, `pd`\n",
      "Imported codebase (`voltage_to_wiring_sim`) as `v`\n",
      "Imported `*` from `v.support.units`\n",
      "Setup autoreload\n"
     ]
    }
   ],
   "source": [
    "from voltage_to_wiring_sim.notebook_init import *"
   ]
  },
  {
   "cell_type": "code",
   "execution_count": 2,
   "metadata": {
    "scrolled": true
   },
   "outputs": [
    {
     "data": {
      "text/markdown": [
       "This cell was last run by `tfiers` on `yoga` on **Mon 03 Jan** 2022, at 16:18 (UTC+0100).<br>\n",
       "[Last git commit](https://github.com/tfiers/voltage-to-wiring-sim/tree/eb3893fc2fd249dfff6f442c0144906c0e8ea417\n",
       ") (Thu 09 Dec 2021, 11:06).\n",
       "Uncommited changes to 3 files."
      ]
     },
     "metadata": {},
     "output_type": "display_data"
    }
   ],
   "source": [
    "v.print_reproducibility_info()"
   ]
  },
  {
   "cell_type": "markdown",
   "metadata": {},
   "source": [
    "## Parameters"
   ]
  },
  {
   "cell_type": "code",
   "execution_count": 112,
   "metadata": {},
   "outputs": [],
   "source": [
    "dt = 0.1 * ms\n",
    "duration = 10 * second\n",
    "\n",
    "N = 4  # number of neurons\n",
    "\n",
    "τ_syn = 7 * ms\n",
    "injected_noise_σ = 3 * mV\n",
    "\n",
    "v_r    = -60 * mV\n",
    "v_t    = -40 * mV\n",
    "v_peak =  35 * mV\n",
    "c      = -50 * mV  # aka v_reset\n",
    "\n",
    "C = 100 * pF\n",
    "k = 0.7 * (nS/mV)\n",
    "b = -2 * nS\n",
    "a = 0.03 / ms\n",
    "d = 100 * pA;"
   ]
  },
  {
   "cell_type": "code",
   "execution_count": 88,
   "metadata": {},
   "outputs": [],
   "source": [
    "v_syn = np.array([0*mV, 0*mV, 0*mV, -65*mV]);\n",
    "# This is the postsynaptic reversal potential for all this neuron's output connections"
   ]
  },
  {
   "cell_type": "code",
   "execution_count": 110,
   "metadata": {},
   "outputs": [],
   "source": [
    "ge = 4 * nS\n",
    "gi = 16 * nS\n",
    "Δg = np.array([\n",
    "    [0, ge,  0,  0],\n",
    "    [0,  0,  0,  0],\n",
    "    [0, ge,  0,  0],\n",
    "    [0,  0,  0,  0],\n",
    "]);  # [from, to]"
   ]
  },
  {
   "cell_type": "code",
   "execution_count": 100,
   "metadata": {},
   "outputs": [],
   "source": [
    "recorded_neurons = [0, 2];"
   ]
  },
  {
   "cell_type": "markdown",
   "metadata": {},
   "source": [
    "## Sim"
   ]
  },
  {
   "cell_type": "code",
   "execution_count": 6,
   "metadata": {},
   "outputs": [
    {
     "data": {
      "text/plain": [
       "100000"
      ]
     },
     "execution_count": 6,
     "metadata": {},
     "output_type": "execute_result"
    }
   ],
   "source": [
    "num_timesteps = v.sim.izhikevich_neuron.to_num_timesteps(duration, dt)"
   ]
  },
  {
   "cell_type": "code",
   "execution_count": 77,
   "metadata": {},
   "outputs": [],
   "source": [
    "from numpy import zeros, ones, newaxis\n",
    "from numpy.random import randn"
   ]
  },
  {
   "cell_type": "code",
   "execution_count": null,
   "metadata": {},
   "outputs": [],
   "source": [
    "v_record = np.empty((num_timesteps, len(recorded_neurons)))\n",
    "\n",
    "recorded_neurons = np.array(recorded_neurons)\n",
    "# The type of this iterable may not be `tuple`. (Because we want to use it to select multiple elements.\n",
    "# See the last example here: https://numpy.org/doc/stable/user/basics.indexing.html)\n",
    "\n",
    "v_syn.shape = (N, 1)\n",
    "# Transform into column vector, to make the subtraction (v_syn - v) below\n",
    "# generate a matrix, via broadcasting.\n",
    "\n",
    "v = ones(N) * v_r\n",
    "u = zeros(N)\n",
    "g = zeros((N, N))\n",
    "\n",
    "spikes = tuple([[] * N])\n",
    "\n",
    "for i in range(num_timesteps):\n",
    "\n",
    "    # Synaptic conductance & current\n",
    "    g -= g / τ_syn * dt\n",
    "    I_syn = g * (v_syn - v)\n",
    "    I_syn_total = np.sum(I_syn, axis=0)\n",
    "    \n",
    "    # todo: make stochastic differential,\n",
    "    # https://brian2.readthedocs.io/en/stable/resources/tutorials/1-intro-to-brian-neurons.html#stochastic-neurons\n",
    "    I_noise = randn(N) * injected_noise_σ\n",
    "\n",
    "    # Izhikevich neuron\n",
    "    v += (k * (v - v_r) * (v - v_t) - u + I_syn_total + I_noise) / C * dt\n",
    "    u += a * (b * (v - v_r) - u) * dt\n",
    "    has_spiked = v >= v_peak\n",
    "    v[has_spiked] = c\n",
    "    u[has_spiked] += d\n",
    "    \n",
    "    # Conductance bumps. The non-spiking rows are zeroed by the multiplication.\n",
    "    # (Hence the transformation of `has_spiked` into a column vector: for broadcasting).\n",
    "    g += Δg * has_spiked[:, newaxis]\n",
    "    \n",
    "    # Record spike times\n",
    "    for j in v.indices_where(has_spiked):\n",
    "        spikes[j].append(i)\n",
    "    \n",
    "    # Record selected signals\n",
    "    v_record[i, :] = v[recorded_neurons]\n",
    "    \n",
    "    # For spikers, retroactively set previous timestep's v to v_peak.\n",
    "    # Goal: consistent spike height.\n",
    "    v_record[i-1, has_spiked[recorded_neurons]] = v_peak\n"
   ]
  },
  {
   "cell_type": "markdown",
   "metadata": {},
   "source": [
    "Current direction is how positive charges move. Ergo positive current = $v_m$ increase (depolarisation)."
   ]
  },
  {
   "cell_type": "markdown",
   "metadata": {},
   "source": [
    "## On discretizing the voltage reset"
   ]
  },
  {
   "cell_type": "markdown",
   "metadata": {},
   "source": [
    "\"We're basically choosing between a slightly too sharp and early peak, and a slightly too late and flat-topped one.\""
   ]
  },
  {
   "cell_type": "code",
   "execution_count": 14,
   "metadata": {},
   "outputs": [
    {
     "name": "stdout",
     "output_type": "stream",
     "text": [
      "________________________________________________________________________________\n",
      "[Memory] Calling voltage_to_wiring_sim.experiments.N_to_1_IE.simulate_and_test_connections...\n",
      "simulate_and_test_connections(Params(sim_duration=600, timestep=0.0001, τ_syn=0.007, neuron_params=IzhikevichParams(C=1e-10, k=7e-07, v_r=-0.06, v_t=-0.04, v_peak=0.035, a=30.0, b=-2e-09, c=-0.05, d=1e-10), imaging_spike_SNR=20, window_duration=0.1, num_spike_trains=30, p_inhibitory=0.2, p_connected=0.7, spike_rate=20.0, Δg_syn_exc=4.0000000000000007e-10, Δg_syn_inh=1.6000000000000003e-09, v_syn_exc=0.0, v_syn_inh=-0.065, rng_seed=0))\n",
      "30/30\n",
      "___________________________________simulate_and_test_connections - 26.4s, 0.4min\n"
     ]
    }
   ],
   "source": [
    "from voltage_to_wiring_sim.experiments.N_to_1_IE import Params, simulate_and_test_connections\n",
    "from dataclasses import replace\n",
    "base_params = Params()\n",
    "sim_and_test = v.cache_to_disk(simulate_and_test_connections)\n",
    "d, td, ts = sim_and_test(base_params)"
   ]
  },
  {
   "cell_type": "code",
   "execution_count": 74,
   "metadata": {},
   "outputs": [
    {
     "data": {
      "image/png": "[encoded data removed]",
      "text/plain": [
       "<Figure size 500x312 with 1 Axes>"
      ]
     },
     "metadata": {
      "image/png": {
       "height": 288,
       "width": 454
      }
     },
     "output_type": "display_data"
    }
   ],
   "source": [
    "ax = v.plot_signal(d.izh_output.V_m.slice(4.75, 0.2) / mV, time_units=ms)\n",
    "zoom_start = 4865 * ms\n",
    "zoom_duration = 7 * ms\n",
    "ax.axvspan(zoom_start / ms, (zoom_start + zoom_duration) / ms, alpha=0.3);\n",
    "ax.set(xlabel=\"Time (ms)\", ylabel=\"$V_m$ (mV)\");"
   ]
  },
  {
   "cell_type": "code",
   "execution_count": 75,
   "metadata": {},
   "outputs": [
    {
     "data": {
      "image/png": "[encoded data removed]",
      "text/plain": [
       "<Figure size 500x312 with 1 Axes>"
      ]
     },
     "metadata": {
      "image/png": {
       "height": 270,
       "width": 436
      }
     },
     "output_type": "display_data"
    }
   ],
   "source": [
    "v.plot_signal(d.izh_output.V_m.slice(zoom_start, zoom_duration) / mV, time_units=ms, marker=\"o\", ms=3);"
   ]
  },
  {
   "cell_type": "markdown",
   "metadata": {},
   "source": [
    "## Reproducibility"
   ]
  },
  {
   "cell_type": "code",
   "execution_count": 5,
   "metadata": {
    "collapsed": true,
    "tags": [
     "output_scroll"
    ]
   },
   "outputs": [
    {
     "data": {
      "text/markdown": [
       "This cell was last run by `lpxtf3` on `DUIP74576`<br>on **Thu 18 Nov** 2021, at 23:21 (UTC+0000)."
      ]
     },
     "metadata": {},
     "output_type": "display_data"
    },
    {
     "data": {
      "text/markdown": [
       "[Last git commit](https://github.com/tfiers/voltage-to-wiring-sim/tree/6034551337c7993a872386a1e0f0278f87fa57e9\n",
       ") (Thu 18 Nov 2021, 17:05)."
      ]
     },
     "metadata": {},
     "output_type": "display_data"
    },
    {
     "data": {
      "text/markdown": [
       "Uncommited changes to:\n",
       "```\n",
       " M codebase/voltage_to_wiring_sim/experiments/N_to_1_IE.py\n",
       " M notebooks/2021-11-11__vary_both_inh_strength_and_proportion.ipynb\n",
       "?? notebooks/2021-11-18__constant_input_spikes-Copy1.ipynb\n",
       "?? notebooks/2021-11-18__constant_input_spikes.ipynb\n",
       "```"
      ]
     },
     "metadata": {},
     "output_type": "display_data"
    },
    {
     "data": {
      "text/markdown": [
       "Platform:"
      ]
     },
     "metadata": {},
     "output_type": "display_data"
    },
    {
     "name": "stdout",
     "output_type": "stream",
     "text": [
      "Windows-10\n",
      "CPython 3.9.6 (C:\\miniforge3\\python.exe)\n",
      "Intel(R) Xeon(R) W-2123 CPU @ 3.60GHz\n"
     ]
    },
    {
     "data": {
      "text/markdown": [
       "Dependencies of `voltage_to_wiring_sim` and their installed versions:"
      ]
     },
     "metadata": {},
     "output_type": "display_data"
    },
    {
     "name": "stdout",
     "output_type": "stream",
     "text": [
      "numpy                1.21.1\n",
      "matplotlib           3.4.2\n",
      "numba                0.53.1\n",
      "joblib               1.0.1\n",
      "seaborn              0.11.1\n",
      "scipy                1.7.0\n",
      "preload              2.2\n",
      "nptyping             1.4.2\n"
     ]
    },
    {
     "data": {
      "text/markdown": [
       "Full conda list:"
      ]
     },
     "metadata": {},
     "output_type": "display_data"
    },
    {
     "data": {
      "text/markdown": [
       "```\n",
       "# packages in environment at C:\\miniforge3:\n",
       "#\n",
       "# Name                    Version                   Build  Channel\n",
       "argon2-cffi               20.1.0           py39hb82d6ee_2    conda-forge\n",
       "async_generator           1.10                       py_0    conda-forge\n",
       "attrs                     21.2.0             pyhd8ed1ab_0    conda-forge\n",
       "backcall                  0.2.0              pyh9f0ad1d_0    conda-forge\n",
       "backports                 1.0                        py_2    conda-forge\n",
       "backports.functools_lru_cache 1.6.4              pyhd8ed1ab_0    conda-forge\n",
       "black                     21.9b0             pyhd8ed1ab_1    conda-forge\n",
       "bleach                    3.3.1              pyhd8ed1ab_0    conda-forge\n",
       "brotlipy                  0.7.0           py39hb82d6ee_1001    conda-forge\n",
       "ca-certificates           2021.10.8            h5b45459_0    conda-forge\n",
       "certifi                   2021.10.8        py39hcbf5309_1    conda-forge\n",
       "cffi                      1.14.6           py39h0878f49_0    conda-forge\n",
       "chardet                   4.0.0            py39hcbf5309_1    conda-forge\n",
       "charset-normalizer        2.0.0              pyhd8ed1ab_0    conda-forge\n",
       "click                     7.1.2                    pypi_0    pypi\n",
       "colorama                  0.4.4              pyh9f0ad1d_0    conda-forge\n",
       "colorful                  0.5.4                    pypi_0    pypi\n",
       "conda                     4.10.3           py39hcbf5309_2    conda-forge\n",
       "conda-package-handling    1.7.3            py39hb3671d1_0    conda-forge\n",
       "cryptography              3.4.7            py39hd8d06c1_0    conda-forge\n",
       "cycler                    0.10.0                   pypi_0    pypi\n",
       "dataclasses               0.8                pyhc8e2a94_3    conda-forge\n",
       "debugpy                   1.4.1            py39h415ef7b_0    conda-forge\n",
       "decorator                 5.0.9              pyhd8ed1ab_0    conda-forge\n",
       "defusedxml                0.7.1              pyhd8ed1ab_0    conda-forge\n",
       "entrypoints               0.3             pyhd8ed1ab_1003    conda-forge\n",
       "icu                       68.2                 h0e60522_0    conda-forge\n",
       "idna                      3.1                pyhd3deb0d_0    conda-forge\n",
       "importlib-metadata        4.6.1            py39hcbf5309_0    conda-forge\n",
       "ipykernel                 6.0.3            py39h832f523_0    conda-forge\n",
       "ipython                   7.25.0           py39h832f523_1    conda-forge\n",
       "ipython_genutils          0.2.0                      py_1    conda-forge\n",
       "jedi                      0.18.0           py39hcbf5309_2    conda-forge\n",
       "jinja2                    3.0.1              pyhd8ed1ab_0    conda-forge\n",
       "joblib                    1.0.1                    pypi_0    pypi\n",
       "jpeg                      9d                   h8ffe710_0    conda-forge\n",
       "jsonschema                3.2.0              pyhd8ed1ab_3    conda-forge\n",
       "jupyter_client            6.1.12             pyhd8ed1ab_0    conda-forge\n",
       "jupyter_contrib_core      0.3.3                      py_2    conda-forge\n",
       "jupyter_contrib_nbextensions 0.5.1              pyhd8ed1ab_2    conda-forge\n",
       "jupyter_core              4.7.1            py39hcbf5309_0    conda-forge\n",
       "jupyter_highlight_selected_word 0.2.0           py39hcbf5309_1002    conda-forge\n",
       "jupyter_latex_envs        1.4.6           pyhd8ed1ab_1002    conda-forge\n",
       "jupyter_nbextensions_configurator 0.4.1            py39hcbf5309_2    conda-forge\n",
       "jupyterlab_pygments       0.1.2              pyh9f0ad1d_0    conda-forge\n",
       "kiwisolver                1.3.1                    pypi_0    pypi\n",
       "libclang                  11.1.0          default_h5c34c98_1    conda-forge\n",
       "libiconv                  1.16                 he774522_0    conda-forge\n",
       "libpng                    1.6.37               h1d00b33_2    conda-forge\n",
       "libsodium                 1.0.18               h8d14728_1    conda-forge\n",
       "libxml2                   2.9.12               hf5bbc77_0    conda-forge\n",
       "libxslt                   1.1.33               h65864e5_2    conda-forge\n",
       "libzlib                   1.2.11            h8ffe710_1013    conda-forge\n",
       "llvmlite                  0.36.0                   pypi_0    pypi\n",
       "lxml                      4.6.3            py39h4fd7cdf_0    conda-forge\n",
       "markupsafe                2.0.1            py39hb82d6ee_0    conda-forge\n",
       "matplotlib                3.4.2                    pypi_0    pypi\n",
       "matplotlib-inline         0.1.2              pyhd8ed1ab_2    conda-forge\n",
       "menuinst                  1.4.17           py39hcbf5309_1    conda-forge\n",
       "miniforge_console_shortcut 2.0                  h57928b3_0    conda-forge\n",
       "mistune                   0.8.4           py39hb82d6ee_1004    conda-forge\n",
       "mypy_extensions           0.4.3            py39hcbf5309_4    conda-forge\n",
       "nbclient                  0.5.3              pyhd8ed1ab_0    conda-forge\n",
       "nbconvert                 6.1.0            py39hcbf5309_0    conda-forge\n",
       "nbformat                  5.1.3              pyhd8ed1ab_0    conda-forge\n",
       "nest-asyncio              1.5.1              pyhd8ed1ab_0    conda-forge\n",
       "notebook                  6.4.0              pyha770c72_0    conda-forge\n",
       "nptyping                  1.4.2                    pypi_0    pypi\n",
       "numba                     0.53.1                   pypi_0    pypi\n",
       "numpy                     1.21.1                   pypi_0    pypi\n",
       "openssl                   1.1.1l               h8ffe710_0    conda-forge\n",
       "packaging                 21.0               pyhd8ed1ab_0    conda-forge\n",
       "pandas                    1.3.1                    pypi_0    pypi\n",
       "pandoc                    2.14.1               h8ffe710_0    conda-forge\n",
       "pandocfilters             1.4.2                      py_1    conda-forge\n",
       "parso                     0.8.2              pyhd8ed1ab_0    conda-forge\n",
       "pathspec                  0.9.0              pyhd8ed1ab_0    conda-forge\n",
       "pickleshare               0.7.5                   py_1003    conda-forge\n",
       "pillow                    8.3.1                    pypi_0    pypi\n",
       "pip                       21.2.1             pyhd8ed1ab_0    conda-forge\n",
       "platformdirs              2.3.0              pyhd8ed1ab_0    conda-forge\n",
       "preload                   2.2                      pypi_0    pypi\n",
       "prettyprinter             0.18.0                   pypi_0    pypi\n",
       "prometheus_client         0.11.0             pyhd8ed1ab_0    conda-forge\n",
       "prompt-toolkit            3.0.19             pyha770c72_0    conda-forge\n",
       "pycosat                   0.6.3           py39hb82d6ee_1006    conda-forge\n",
       "pycparser                 2.20               pyh9f0ad1d_2    conda-forge\n",
       "pygments                  2.9.0              pyhd8ed1ab_0    conda-forge\n",
       "pympler                   0.9                      pypi_0    pypi\n",
       "pyopenssl                 20.0.1             pyhd8ed1ab_0    conda-forge\n",
       "pyparsing                 2.4.7              pyh9f0ad1d_0    conda-forge\n",
       "pyqt                      5.12.3           py39hcbf5309_7    conda-forge\n",
       "pyqt-impl                 5.12.3           py39h415ef7b_7    conda-forge\n",
       "pyqt5-sip                 4.19.18          py39h415ef7b_7    conda-forge\n",
       "pyqtchart                 5.12             py39h415ef7b_7    conda-forge\n",
       "pyqtwebengine             5.12.1           py39h415ef7b_7    conda-forge\n",
       "pyrsistent                0.17.3           py39hb82d6ee_2    conda-forge\n",
       "pysocks                   1.7.1            py39hcbf5309_3    conda-forge\n",
       "python                    3.9.6           h7840368_1_cpython    conda-forge\n",
       "python-dateutil           2.8.2              pyhd8ed1ab_0    conda-forge\n",
       "python_abi                3.9                      2_cp39    conda-forge\n",
       "pytz                      2021.1                   pypi_0    pypi\n",
       "pywin32                   300              py39hb82d6ee_0    conda-forge\n",
       "pywinpty                  1.1.3            py39h99910a6_0    conda-forge\n",
       "pyyaml                    6.0              py39hb82d6ee_0    conda-forge\n",
       "pyzmq                     22.1.0           py39he46f08e_0    conda-forge\n",
       "qt                        5.12.9               h5909a2a_4    conda-forge\n",
       "regex                     2021.10.23       py39hb82d6ee_1    conda-forge\n",
       "requests                  2.26.0             pyhd8ed1ab_0    conda-forge\n",
       "ruamel_yaml               0.15.80         py39hb82d6ee_1004    conda-forge\n",
       "scipy                     1.7.0                    pypi_0    pypi\n",
       "seaborn                   0.11.1                   pypi_0    pypi\n",
       "send2trash                1.7.1              pyhd8ed1ab_0    conda-forge\n",
       "setuptools                49.6.0           py39hcbf5309_3    conda-forge\n",
       "six                       1.16.0             pyh6c4a22f_0    conda-forge\n",
       "sqlite                    3.36.0               h8ffe710_0    conda-forge\n",
       "terminado                 0.10.1           py39hcbf5309_0    conda-forge\n",
       "testpath                  0.5.0              pyhd8ed1ab_0    conda-forge\n",
       "tomli                     1.2.2              pyhd8ed1ab_0    conda-forge\n",
       "tornado                   6.1              py39hb82d6ee_1    conda-forge\n",
       "tqdm                      4.61.2             pyhd8ed1ab_1    conda-forge\n",
       "traitlets                 5.0.5                      py_0    conda-forge\n",
       "typed-ast                 1.4.3            py39hb82d6ee_1    conda-forge\n",
       "typing_extensions         3.10.0.2           pyha770c72_0    conda-forge\n",
       "typish                    1.9.2                    pypi_0    pypi\n",
       "tzdata                    2021a                he74cb21_1    conda-forge\n",
       "ucrt                      10.0.20348.0         h57928b3_0    conda-forge\n",
       "urllib3                   1.26.6             pyhd8ed1ab_0    conda-forge\n",
       "vc                        14.2                 hb210afc_5    conda-forge\n",
       "voltage-to-wiring-sim     0.1                       dev_0    <develop>\n",
       "vs2015_runtime            14.29.30037          h902a5da_5    conda-forge\n",
       "wcwidth                   0.2.5              pyh9f0ad1d_2    conda-forge\n",
       "webencodings              0.5.1                      py_1    conda-forge\n",
       "wheel                     0.36.2             pyhd3deb0d_0    conda-forge\n",
       "win_inet_pton             1.1.0            py39hcbf5309_2    conda-forge\n",
       "wincertstore              0.2             py39hcbf5309_1006    conda-forge\n",
       "winpty                    0.4.3                         4    conda-forge\n",
       "winshell                  0.6                      pypi_0    pypi\n",
       "yaml                      0.2.5                he774522_0    conda-forge\n",
       "zeromq                    4.3.4                h0e60522_0    conda-forge\n",
       "zipp                      3.5.0              pyhd8ed1ab_0    conda-forge\n",
       "zlib                      1.2.11            h8ffe710_1013    conda-forge\n",
       "```"
      ]
     },
     "metadata": {},
     "output_type": "display_data"
    }
   ],
   "source": [
    "v.print_reproducibility_info(verbose=True)"
   ]
  }
 ],
 "metadata": {
  "kernelspec": {
   "display_name": "Python 3 (ipykernel)",
   "language": "python",
   "name": "python3"
  },
  "language_info": {
   "codemirror_mode": {
    "name": "ipython",
    "version": 3
   },
   "file_extension": ".py",
   "mimetype": "text/x-python",
   "name": "python",
   "nbconvert_exporter": "python",
   "pygments_lexer": "ipython3",
   "version": "3.9.7"
  },
  "toc": {
   "base_numbering": 1,
   "nav_menu": {},
   "number_sections": false,
   "sideBar": false,
   "skip_h1_title": true,
   "title_cell": "Table of Contents",
   "title_sidebar": "Contents",
   "toc_cell": false,
   "toc_position": {
    "height": "47.3125px",
    "left": "1121px",
    "top": "0px",
    "width": "159px"
   },
   "toc_section_display": false,
   "toc_window_display": false
  }
 },
 "nbformat": 4,
 "nbformat_minor": 4
}
