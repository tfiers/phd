{
 "cells": [
  {
   "cell_type": "markdown",
   "metadata": {},
   "source": [
    "# 2020-11-16 Searching for an analytical form for the PSP"
   ]
  },
  {
   "cell_type": "markdown",
   "metadata": {},
   "source": [
    "## Imports"
   ]
  },
  {
   "cell_type": "code",
   "execution_count": 1,
   "metadata": {},
   "outputs": [
    {
     "name": "stdout",
     "output_type": "stream",
     "text": [
      "Preloading:\n",
      " - numpy … (0.10 s)\n",
      " - matplotlib.pyplot … (0.20 s)\n",
      " - numba … (0.27 s)\n",
      " - unitlib … (0.01 s)\n",
      "\n",
      "Importing from submodules (compiling numba functions) … ✔\n",
      "\n",
      "Imported `np`, `mpl`, `plt`\n",
      "Imported codebase (`voltage_to_wiring_sim`) as `v`\n",
      "Imported `*` from `v.support.units`\n",
      "Setup autoreload\n"
     ]
    }
   ],
   "source": [
    "from voltage_to_wiring_sim.support.notebook_init import *"
   ]
  },
  {
   "cell_type": "code",
   "execution_count": 2,
   "metadata": {},
   "outputs": [],
   "source": [
    "# We use `v` for v(t) below.\n",
    "vtws = v;"
   ]
  },
  {
   "cell_type": "code",
   "execution_count": 3,
   "metadata": {},
   "outputs": [],
   "source": [
    "from sympy import *"
   ]
  },
  {
   "cell_type": "markdown",
   "metadata": {},
   "source": [
    "## Problem statement"
   ]
  },
  {
   "cell_type": "code",
   "execution_count": 4,
   "metadata": {},
   "outputs": [],
   "source": [
    "a, b, v_r, tau = symbols(\"a, b, v_r, tau\")\n",
    "v, u, g = symbols(\"v, u, g\", cls=Function)\n",
    "t = symbols(\"t\", nonnegative=True);"
   ]
  },
  {
   "cell_type": "code",
   "execution_count": 5,
   "metadata": {},
   "outputs": [
    {
     "data": {
      "text/latex": [
       "$\\displaystyle g{\\left(t \\right)} = e^{- \\frac{t}{\\tau}}$"
      ],
      "text/plain": [
       "Eq(g(t), exp(-t/tau))"
      ]
     },
     "execution_count": 5,
     "metadata": {},
     "output_type": "execute_result"
    }
   ],
   "source": [
    "eq_g = Eq(g(t), exp(-t/tau))"
   ]
  },
  {
   "cell_type": "code",
   "execution_count": 6,
   "metadata": {},
   "outputs": [
    {
     "data": {
      "text/latex": [
       "$\\displaystyle \\frac{d}{d t} v{\\left(t \\right)} = - u{\\left(t \\right)} + v^{2}{\\left(t \\right)} + v{\\left(t \\right)} e^{- \\frac{t}{\\tau}}$"
      ],
      "text/plain": [
       "Eq(Derivative(v(t), t), -u(t) + v(t)**2 + v(t)*exp(-t/tau))"
      ]
     },
     "execution_count": 6,
     "metadata": {},
     "output_type": "execute_result"
    }
   ],
   "source": [
    "eq_v = Eq(Derivative(v(t), t),\n",
    "          v(t)**2 - u(t) + g(t)*v(t)).subs(eq_g.lhs, eq_g.rhs)"
   ]
  },
  {
   "cell_type": "code",
   "execution_count": 7,
   "metadata": {},
   "outputs": [
    {
     "data": {
      "text/latex": [
       "$\\displaystyle \\frac{d}{d t} u{\\left(t \\right)} = a \\left(b v{\\left(t \\right)} - u{\\left(t \\right)}\\right)$"
      ],
      "text/plain": [
       "Eq(Derivative(u(t), t), a*(b*v(t) - u(t)))"
      ]
     },
     "execution_count": 7,
     "metadata": {},
     "output_type": "execute_result"
    }
   ],
   "source": [
    "eq_u = Eq(Derivative(u(t), t),\n",
    "          a*(b*v(t)-u(t)))"
   ]
  },
  {
   "cell_type": "code",
   "execution_count": 8,
   "metadata": {},
   "outputs": [],
   "source": [
    "initial_conditions = {\n",
    "    v(0): v_r,\n",
    "    u(0): 0,\n",
    "};"
   ]
  },
  {
   "cell_type": "markdown",
   "metadata": {},
   "source": [
    "## Solve"
   ]
  },
  {
   "cell_type": "code",
   "execution_count": 9,
   "metadata": {},
   "outputs": [
    {
     "name": "stdout",
     "output_type": "stream",
     "text": [
      "Wall time: 16.1 s\n"
     ]
    }
   ],
   "source": [
    "%%time\n",
    "sol = dsolve((eq_v, eq_u), ics=initial_conditions)"
   ]
  },
  {
   "cell_type": "code",
   "execution_count": 10,
   "metadata": {},
   "outputs": [
    {
     "data": {
      "text/latex": [
       "$\\displaystyle v{\\left(t \\right)} = - v_{r} \\operatorname{x_{0}}{\\left(t \\right)} \\operatorname{y_{0}}{\\left(0 \\right)} e^{\\tau} \\int \\left(- \\frac{\\left(e^{\\int \\left(- a\\right)\\, dt}\\right) e^{\\int e^{- \\frac{t}{\\tau}}\\, dt}}{\\operatorname{x_{0}}^{2}{\\left(t \\right)}}\\right)\\, dt + \\left(- v_{r} \\operatorname{y_{0}}{\\left(0 \\right)} e^{\\tau} \\int\\limits^{0} \\frac{e^{- a t} e^{- \\tau e^{- \\frac{t}{\\tau}}}}{\\operatorname{x_{0}}^{2}{\\left(t \\right)}}\\, dt + \\frac{v_{r}}{\\operatorname{x_{0}}{\\left(0 \\right)}}\\right) \\operatorname{x_{0}}{\\left(t \\right)}$"
      ],
      "text/plain": [
       "Eq(v(t), -v_r*x0(t)*y0(0)*exp(tau)*Integral(-exp(Integral(-a, t))*exp(Integral(exp(-t/tau), t))/x0(t)**2, t) + (-v_r*y0(0)*exp(tau)*Integral(exp(-a*t)*exp(-tau*exp(-t/tau))/x0(t)**2, (t, 0)) + v_r/x0(0))*x0(t))"
      ]
     },
     "execution_count": 10,
     "metadata": {},
     "output_type": "execute_result"
    }
   ],
   "source": [
    "sol[0]"
   ]
  },
  {
   "cell_type": "code",
   "execution_count": 11,
   "metadata": {},
   "outputs": [
    {
     "data": {
      "text/latex": [
       "$\\displaystyle u{\\left(t \\right)} = - v_{r} \\left(\\operatorname{y_{0}}{\\left(t \\right)} \\int \\left(- \\frac{\\left(e^{\\int \\left(- a\\right)\\, dt}\\right) e^{\\int e^{- \\frac{t}{\\tau}}\\, dt}}{\\operatorname{x_{0}}^{2}{\\left(t \\right)}}\\right)\\, dt + \\frac{\\left(e^{\\int \\left(- a\\right)\\, dt}\\right) e^{\\int e^{- \\frac{t}{\\tau}}\\, dt}}{\\operatorname{x_{0}}{\\left(t \\right)}}\\right) \\operatorname{y_{0}}{\\left(0 \\right)} e^{\\tau} + \\left(- v_{r} \\operatorname{y_{0}}{\\left(0 \\right)} e^{\\tau} \\int\\limits^{0} \\frac{e^{- a t} e^{- \\tau e^{- \\frac{t}{\\tau}}}}{\\operatorname{x_{0}}^{2}{\\left(t \\right)}}\\, dt + \\frac{v_{r}}{\\operatorname{x_{0}}{\\left(0 \\right)}}\\right) \\operatorname{y_{0}}{\\left(t \\right)}$"
      ],
      "text/plain": [
       "Eq(u(t), -v_r*(y0(t)*Integral(-exp(Integral(-a, t))*exp(Integral(exp(-t/tau), t))/x0(t)**2, t) + exp(Integral(-a, t))*exp(Integral(exp(-t/tau), t))/x0(t))*y0(0)*exp(tau) + (-v_r*y0(0)*exp(tau)*Integral(exp(-a*t)*exp(-tau*exp(-t/tau))/x0(t)**2, (t, 0)) + v_r/x0(0))*y0(t))"
      ]
     },
     "execution_count": 11,
     "metadata": {},
     "output_type": "execute_result"
    }
   ],
   "source": [
    "sol[1]"
   ]
  },
  {
   "cell_type": "markdown",
   "metadata": {},
   "source": [
    "## Examine 'solution'"
   ]
  },
  {
   "cell_type": "code",
   "execution_count": 12,
   "metadata": {},
   "outputs": [],
   "source": [
    "v_sol = sol[0].rhs;"
   ]
  },
  {
   "cell_type": "markdown",
   "metadata": {},
   "source": [
    "Concrete values for constants:"
   ]
  },
  {
   "cell_type": "code",
   "execution_count": 13,
   "metadata": {},
   "outputs": [
    {
     "data": {
      "text/latex": [
       "$\\displaystyle \\left(e \\operatorname{y_{0}}{\\left(0 \\right)} \\int\\limits^{0} \\frac{e^{- t} e^{- e^{- t}}}{\\operatorname{x_{0}}^{2}{\\left(t \\right)}}\\, dt - \\frac{1}{\\operatorname{x_{0}}{\\left(0 \\right)}}\\right) \\operatorname{x_{0}}{\\left(t \\right)} - e \\operatorname{x_{0}}{\\left(t \\right)} \\operatorname{y_{0}}{\\left(0 \\right)} \\int \\frac{e^{- t} e^{- e^{- t}}}{\\operatorname{x_{0}}^{2}{\\left(t \\right)}}\\, dt$"
      ],
      "text/plain": [
       "(E*y0(0)*Integral(exp(-t)*exp(-exp(-t))/x0(t)**2, (t, 0)) - 1/x0(0))*x0(t) - E*x0(t)*y0(0)*Integral(exp(-t)*exp(-exp(-t))/x0(t)**2, t)"
      ]
     },
     "execution_count": 13,
     "metadata": {},
     "output_type": "execute_result"
    }
   ],
   "source": [
    "v_sol_1 = v_sol.subs(\n",
    "    {(a, 1),\n",
    "     (v_r, -1),\n",
    "     (tau, 1)\n",
    "    }).doit()"
   ]
  },
  {
   "cell_type": "code",
   "execution_count": 14,
   "metadata": {},
   "outputs": [],
   "source": [
    "x0, y0 = symbols(\"x0, y0\", cls=Function)"
   ]
  },
  {
   "cell_type": "markdown",
   "metadata": {},
   "source": [
    "$x_0(t)$ is a new unknown function.\n",
    "\n",
    "We only have $y_0(0)$ (and not $y_0(t)$) in the solution for $v$, so $y_0(0)$ is simply a new free constant."
   ]
  },
  {
   "cell_type": "markdown",
   "metadata": {},
   "source": [
    "Set both to a constant:"
   ]
  },
  {
   "cell_type": "code",
   "execution_count": 15,
   "metadata": {},
   "outputs": [
    {
     "data": {
      "text/latex": [
       "$\\displaystyle -2 + e e^{- e^{- t}}$"
      ],
      "text/plain": [
       "-2 + E*exp(-exp(-t))"
      ]
     },
     "execution_count": 15,
     "metadata": {},
     "output_type": "execute_result"
    }
   ],
   "source": [
    "%%time\n",
    "v_sol_1_x0_ct = v_sol_1.subs(\n",
    "    {(x0(0), 1),\n",
    "     (x0(t), 1),\n",
    "     (y0(0), -1)\n",
    "    }).simplify()"
   ]
  },
  {
   "cell_type": "markdown",
   "metadata": {},
   "source": [
    "Evaluate and plot for a range of $t$'s:"
   ]
  },
  {
   "cell_type": "code",
   "execution_count": 16,
   "metadata": {},
   "outputs": [
    {
     "data": {
      "image/png": "[encoded data removed]",
      "text/plain": [
       "<Figure size 500x310 with 1 Axes>"
      ]
     },
     "metadata": {
      "image/png": {
       "height": 294,
       "width": 470
      }
     },
     "output_type": "display_data"
    }
   ],
   "source": [
    "f = lambdify(t, v_sol_1_x0_ct)\n",
    "ts = np.linspace(0, 10)\n",
    "fig, ax = plt.subplots()\n",
    "ax.plot(ts, f(ts))\n",
    "ax.set(xlabel=\"t\", ylabel=\"v(t)\");"
   ]
  },
  {
   "cell_type": "markdown",
   "metadata": {},
   "source": [
    "Not our PSP shape yet, so $x_0(t)$ is not a constant 1 :)\n"
   ]
  },
  {
   "cell_type": "markdown",
   "metadata": {},
   "source": [
    "Choosing a function of $t$ for $x_0$ results in an expression that needs to be integrated numerically to be plotted:"
   ]
  },
  {
   "cell_type": "code",
   "execution_count": 17,
   "metadata": {},
   "outputs": [
    {
     "data": {
      "text/latex": [
       "$\\displaystyle - \\left(- e \\int e^{t} e^{- e^{- t}}\\, dt + e \\int\\limits^{0} e^{t} e^{- e^{- t}}\\, dt + 1\\right) e^{- t}$"
      ],
      "text/plain": [
       "-(-E*Integral(exp(t)*exp(-exp(-t)), t) + E*Integral(exp(t)*exp(-exp(-t)), (t, 0)) + 1)*exp(-t)"
      ]
     },
     "execution_count": 17,
     "metadata": {},
     "output_type": "execute_result"
    }
   ],
   "source": [
    "%%time\n",
    "v_sol_1_x0_exp = v_sol_1.subs(\n",
    "    {(x0(0), 1),\n",
    "     (x0(t), exp(-t)),\n",
    "     (y0(0), -1)\n",
    "    }).simplify()"
   ]
  },
  {
   "cell_type": "markdown",
   "metadata": {},
   "source": [
    "[WolframAlpha evaluation & plot](https://www.wolframalpha.com/input/?i=e%5E%28-t%29+*+%28%28int+e%5E%28t-e%5E%28-t%29%29%29+-+1%29)\n",
    "(assuming that integral with 0 at the top is 0):"
   ]
  },
  {
   "cell_type": "markdown",
   "metadata": {},
   "source": [
    "![](images/wolfram_alpha_PSP.png)"
   ]
  },
  {
   "cell_type": "markdown",
   "metadata": {},
   "source": [
    "This is also not our PSP shape."
   ]
  },
  {
   "attachments": {},
   "cell_type": "markdown",
   "metadata": {},
   "source": [
    "(the exponential integral:)\n",
    "![](images/exponential_integral.png)"
   ]
  },
  {
   "cell_type": "markdown",
   "metadata": {},
   "source": [
    "## Reproducibility info"
   ]
  },
  {
   "cell_type": "code",
   "execution_count": 18,
   "metadata": {},
   "outputs": [
    {
     "data": {
      "text/markdown": [
       "This cell was last run on **Mon 16 Nov** 2020, at 13:42 (UTC+0100),<br>by `tfiers` on `yoga`."
      ]
     },
     "metadata": {},
     "output_type": "display_data"
    },
    {
     "data": {
      "text/markdown": [
       "[Last git commit](https://github.com/tfiers/voltage-to-wiring-sim/tree/85b90e8f70a70d1c38a583b536ebc665af845e14\n",
       ") (Fri 13 Nov 2020, 13:31)."
      ]
     },
     "metadata": {},
     "output_type": "display_data"
    },
    {
     "data": {
      "text/markdown": [
       "Uncommited changes to:\n",
       "```\n",
       "AM notebooks/2020-11-11__unitlib.ipynb\n",
       "?? notebooks/2020-11-16__no_analytical_PSP.ipynb\n",
       "```"
      ]
     },
     "metadata": {},
     "output_type": "display_data"
    },
    {
     "data": {
      "text/markdown": [
       "Platform:"
      ]
     },
     "metadata": {},
     "output_type": "display_data"
    },
    {
     "name": "stdout",
     "output_type": "stream",
     "text": [
      "CPython 3.8.3\n",
      "Windows-10\n",
      "Intel(R) Core(TM) i7-10510U CPU @ 1.80GHz\n"
     ]
    },
    {
     "data": {
      "text/markdown": [
       "Dependencies of `voltage_to_wiring_sim` and their installed versions:"
      ]
     },
     "metadata": {},
     "output_type": "display_data"
    },
    {
     "name": "stdout",
     "output_type": "stream",
     "text": [
      "numpy                1.19.2\n",
      "matplotlib           3.3.2\n",
      "numba                0.51.2\n",
      "unitlib              0.3.post22+dirty\n",
      "joblib               0.17.0\n",
      "preload              2.1\n",
      "py-cpuinfo           7.0.0\n"
     ]
    }
   ],
   "source": [
    "vtws.print_reproducibility_info(verbose=True)"
   ]
  },
  {
   "cell_type": "code",
   "execution_count": 19,
   "metadata": {},
   "outputs": [
    {
     "data": {
      "text/plain": [
       "'1.6.2'"
      ]
     },
     "execution_count": 19,
     "metadata": {},
     "output_type": "execute_result"
    }
   ],
   "source": [
    "import sympy\n",
    "sympy.__version__"
   ]
  }
 ],
 "metadata": {
  "kernelspec": {
   "display_name": "Python 3",
   "language": "python",
   "name": "python3"
  },
  "language_info": {
   "codemirror_mode": {
    "name": "ipython",
    "version": 3
   },
   "file_extension": ".py",
   "mimetype": "text/x-python",
   "name": "python",
   "nbconvert_exporter": "python",
   "pygments_lexer": "ipython3",
   "version": "3.8.5"
  },
  "toc": {
   "base_numbering": 1,
   "nav_menu": {},
   "number_sections": true,
   "sideBar": true,
   "skip_h1_title": true,
   "title_cell": "Table of Contents",
   "title_sidebar": "Contents",
   "toc_cell": false,
   "toc_position": {
    "height": "47.6px",
    "left": "46px",
    "top": "82px",
    "width": "212px"
   },
   "toc_section_display": true,
   "toc_window_display": true
  }
 },
 "nbformat": 4,
 "nbformat_minor": 4
}
