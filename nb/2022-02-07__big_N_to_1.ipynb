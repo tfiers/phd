{
 "cells": [
  {
   "cell_type": "markdown",
   "metadata": {},
   "source": [
    "# 2022-02-07 • Big-N-to-1 simulation"
   ]
  },
  {
   "cell_type": "code",
   "execution_count": 1,
   "metadata": {},
   "outputs": [],
   "source": [
    "# Pkg.resolve()"
   ]
  },
  {
   "cell_type": "code",
   "execution_count": 2,
   "metadata": {},
   "outputs": [
    {
     "name": "stdout",
     "output_type": "stream",
     "text": [
      "\u001b[36m\u001b[1m[ \u001b[22m\u001b[39m\u001b[36m\u001b[1mInfo: \u001b[22m\u001b[39musing Revise\n",
      "\u001b[36m\u001b[1m[ \u001b[22m\u001b[39m\u001b[36m\u001b[1mInfo: \u001b[22m\u001b[39mimport Distributions\n",
      "\u001b[36m\u001b[1m[ \u001b[22m\u001b[39m\u001b[36m\u001b[1mInfo: \u001b[22m\u001b[39mimport PyPlot\n",
      "\u001b[36m\u001b[1m[ \u001b[22m\u001b[39m\u001b[36m\u001b[1mInfo: \u001b[22m\u001b[39mimport DataFrames, PrettyTables\n",
      "\u001b[36m\u001b[1m[ \u001b[22m\u001b[39m\u001b[36m\u001b[1mInfo: \u001b[22m\u001b[39mimport MyToolbox, Sciplotlib\n",
      "\u001b[36m\u001b[1m[ \u001b[22m\u001b[39m\u001b[36m\u001b[1mInfo: \u001b[22m\u001b[39musing VoltageToMap\n"
     ]
    }
   ],
   "source": [
    "include(\"nb_init.jl\")"
   ]
  },
  {
   "cell_type": "code",
   "execution_count": 3,
   "metadata": {},
   "outputs": [],
   "source": [
    "using Parameters, ComponentArrays\n",
    "@alias CVec = ComponentVector;"
   ]
  },
  {
   "cell_type": "code",
   "execution_count": 4,
   "metadata": {},
   "outputs": [],
   "source": [
    "save(fname) = savefig(fname, subdir=\"methods\");"
   ]
  },
  {
   "cell_type": "markdown",
   "metadata": {},
   "source": [
    "## Parameters"
   ]
  },
  {
   "cell_type": "code",
   "execution_count": 5,
   "metadata": {},
   "outputs": [],
   "source": [
    "sim_duration = 2 * seconds\n",
    "Δt           = 0.1 * ms;   # Size of first step only, given that solver has adaptive timestep."
   ]
  },
  {
   "cell_type": "markdown",
   "metadata": {},
   "source": [
    "### Input spikers"
   ]
  },
  {
   "cell_type": "code",
   "execution_count": 6,
   "metadata": {},
   "outputs": [
    {
     "data": {
      "text/plain": [
       "200"
      ]
     },
     "execution_count": 6,
     "metadata": {},
     "output_type": "execute_result"
    }
   ],
   "source": [
    "N_unconn = 100\n",
    "N_exc    = 5200\n",
    "N_inh    = N_exc ÷ 4\n",
    "\n",
    "N_unconn = 100\n",
    "N_exc    = 800\n",
    "N_inh    = N_exc ÷ 4"
   ]
  },
  {
   "cell_type": "code",
   "execution_count": 7,
   "metadata": {
    "scrolled": true
   },
   "outputs": [
    {
     "data": {
      "text/plain": [
       "1000"
      ]
     },
     "execution_count": 7,
     "metadata": {},
     "output_type": "execute_result"
    }
   ],
   "source": [
    "N_conn = N_inh + N_exc"
   ]
  },
  {
   "cell_type": "code",
   "execution_count": 8,
   "metadata": {},
   "outputs": [
    {
     "data": {
      "text/plain": [
       "1100"
      ]
     },
     "execution_count": 8,
     "metadata": {},
     "output_type": "execute_result"
    }
   ],
   "source": [
    "N = N_conn + N_unconn"
   ]
  },
  {
   "cell_type": "code",
   "execution_count": 9,
   "metadata": {},
   "outputs": [
    {
     "data": {
      "text/plain": [
       "LogNormal{Float64}(μ=1.0862943611198905, σ=0.7745966692414834)"
      ]
     },
     "execution_count": 9,
     "metadata": {},
     "output_type": "execute_result"
    }
   ],
   "source": [
    "input_spike_rate = LogNormal_with_mean(4Hz, √0.6)  # See the previous notebook"
   ]
  },
  {
   "cell_type": "markdown",
   "metadata": {},
   "source": [
    "### Synapses"
   ]
  },
  {
   "cell_type": "markdown",
   "metadata": {},
   "source": [
    "Reversal potential at excitatory and inhibitory synapses,\n",
    "as in the report [`2021-11-11__synaptic_conductance_ratio.pdf`](https://github.com/tfiers/phd-thesis/blob/main/reports/2021-11-11__synaptic_conductance_ratio.pdf):"
   ]
  },
  {
   "cell_type": "code",
   "execution_count": 10,
   "metadata": {},
   "outputs": [],
   "source": [
    "v_exc =   0 * mV\n",
    "v_inh = -65 * mV;"
   ]
  },
  {
   "cell_type": "markdown",
   "metadata": {},
   "source": [
    "Synaptic conductances `g` at `t = 0`:"
   ]
  },
  {
   "cell_type": "code",
   "execution_count": 11,
   "metadata": {},
   "outputs": [],
   "source": [
    "g0 = 0 * nS;"
   ]
  },
  {
   "cell_type": "markdown",
   "metadata": {},
   "source": [
    "Exponential decay time constant of synaptic conductance, $τ_{s}$ (`s` for \"synaptic\"):"
   ]
  },
  {
   "cell_type": "code",
   "execution_count": 12,
   "metadata": {},
   "outputs": [],
   "source": [
    "τ_s = 7 * ms;"
   ]
  },
  {
   "cell_type": "markdown",
   "metadata": {},
   "source": [
    "Increase in synaptic conductance on a presynaptic spike."
   ]
  },
  {
   "cell_type": "code",
   "execution_count": 13,
   "metadata": {},
   "outputs": [],
   "source": [
    "Δg_exc = 0.1 * nS\n",
    "Δg_inh = 0.4 * nS;"
   ]
  },
  {
   "cell_type": "markdown",
   "metadata": {},
   "source": [
    "### Izhikevich neuron"
   ]
  },
  {
   "cell_type": "markdown",
   "metadata": {},
   "source": [
    "Membrane potential `v` and adaptation variable `u` at `t = 0`:"
   ]
  },
  {
   "cell_type": "code",
   "execution_count": 14,
   "metadata": {},
   "outputs": [],
   "source": [
    "v0    = -80 * mV\n",
    "u0    =   0 * pA;"
   ]
  },
  {
   "cell_type": "markdown",
   "metadata": {},
   "source": [
    "Parameters for a cortical regular spiking neuron:"
   ]
  },
  {
   "cell_type": "code",
   "execution_count": 15,
   "metadata": {},
   "outputs": [],
   "source": [
    "@with_kw struct IzhikevichParams\n",
    "    C      = 100 * pF\n",
    "    k      = 0.7 * (nS/mV)\n",
    "    b      = -2 * nS\n",
    "    v_r    = -60 * mV\n",
    "    v_t    = -40 * mV\n",
    "    v_peak =  35 * mV\n",
    "    c      = -50 * mV       # reset voltage.\n",
    "    a      = 0.03 / ms      # 1 / time constant of `u`\n",
    "    d      = 100 * pA       # `u` increase on spike. Free parameter.\n",
    "end\n",
    "\n",
    "cortical_RS = IzhikevichParams()\n",
    "\n",
    "# Fix these params globally for now.\n",
    "@unpack C, k, b, v_r, v_t, v_peak, c, a, d = cortical_RS;"
   ]
  },
  {
   "cell_type": "markdown",
   "metadata": {},
   "source": [
    "## Neurons & synapses"
   ]
  },
  {
   "cell_type": "markdown",
   "metadata": {},
   "source": [
    "IDs and mappings are simple here for the N-to-1 case: only input 'neurons' get an ID, and there is only one synapse for every (connected) neuron."
   ]
  },
  {
   "cell_type": "code",
   "execution_count": 16,
   "metadata": {},
   "outputs": [],
   "source": [
    "@alias NeuronID = Int\n",
    "@alias SynapseID = Int;"
   ]
  },
  {
   "cell_type": "markdown",
   "metadata": {},
   "source": [
    "See below for the behaviour of this utility function."
   ]
  },
  {
   "cell_type": "code",
   "execution_count": 17,
   "metadata": {},
   "outputs": [],
   "source": [
    "\"\"\"Given group names and numbers, build a CVec with these group names and a unique ID for each element.\"\"\"\n",
    "function ID_CVec(; kw...)\n",
    "    transform(val::Number) = fill(-1, val)\n",
    "    transform(val::CVec) = val  # allow nested ID_CVecs.\n",
    "    cvec = CVec(; (key => transform(val) for (key, val) in kw)...)\n",
    "    cvec .= 1:length(cvec)\n",
    "    return cvec\n",
    "end;"
   ]
  },
  {
   "cell_type": "markdown",
   "metadata": {},
   "source": [
    "### Neuron IDs"
   ]
  },
  {
   "cell_type": "code",
   "execution_count": 18,
   "metadata": {},
   "outputs": [
    {
     "data": {
      "text/plain": [
       "\u001b[0mComponentVector{Int64}(conn = (exc = [1, 2, 3, 4, 5, 6, 7, 8, 9, 10  …  791, 792, 793, 794, 795, 796, 797, 798, 799, 800], inh = [801, 802, 803, 804, 805, 806, 807, 808, 809, 810  …  991, 992, 993, 994, 995, 996, 997, 998, 999, 1000]), unconn = [1001, 1002, 1003, 1004, 1005, 1006, 1007, 1008, 1009, 1010  …  1091, 1092, 1093, 1094, 1095, 1096, 1097, 1098, 1099, 1100])"
      ]
     },
     "execution_count": 18,
     "metadata": {},
     "output_type": "execute_result"
    }
   ],
   "source": [
    "neuron_ids = ID_CVec(conn = ID_CVec(exc = N_exc, inh = N_inh), unconn = N_unconn)"
   ]
  },
  {
   "cell_type": "markdown",
   "metadata": {},
   "source": [
    "Example usage:"
   ]
  },
  {
   "cell_type": "code",
   "execution_count": 19,
   "metadata": {},
   "outputs": [
    {
     "data": {
      "text/plain": [
       "(802, true, \"conn.inh[2]\")"
      ]
     },
     "execution_count": 19,
     "metadata": {},
     "output_type": "execute_result"
    }
   ],
   "source": [
    "id = N_exc + 2\n",
    "id, id == neuron_ids[id] == neuron_ids.conn.inh[2], labels(neuron_ids)[id]"
   ]
  },
  {
   "cell_type": "markdown",
   "metadata": {},
   "source": [
    "### Synapses"
   ]
  },
  {
   "cell_type": "code",
   "execution_count": 20,
   "metadata": {},
   "outputs": [
    {
     "data": {
      "text/plain": [
       "\u001b[0mComponentVector{Int64}(exc = [1, 2, 3, 4, 5, 6, 7, 8, 9, 10  …  791, 792, 793, 794, 795, 796, 797, 798, 799, 800], inh = [801, 802, 803, 804, 805, 806, 807, 808, 809, 810  …  991, 992, 993, 994, 995, 996, 997, 998, 999, 1000])"
      ]
     },
     "execution_count": 20,
     "metadata": {},
     "output_type": "execute_result"
    }
   ],
   "source": [
    "synapse_ids = ID_CVec(exc = N_exc, inh = N_inh)"
   ]
  },
  {
   "cell_type": "code",
   "execution_count": 21,
   "metadata": {},
   "outputs": [],
   "source": [
    "g0_vec = similar(synapse_ids, Float64)\n",
    "g0_vec .= g0\n",
    "Δg = similar(g0_vec)\n",
    "Δg.exc .= Δg_exc\n",
    "Δg.inh .= Δg_inh;"
   ]
  },
  {
   "cell_type": "markdown",
   "metadata": {},
   "source": [
    "$E$, the reversal potential at each synapse."
   ]
  },
  {
   "cell_type": "code",
   "execution_count": 22,
   "metadata": {},
   "outputs": [
    {
     "data": {
      "text/plain": [
       "\u001b[0mComponentVector{Float64}(exc = [0.0, 0.0, 0.0, 0.0, 0.0, 0.0, 0.0, 0.0, 0.0, 0.0  …  0.0, 0.0, 0.0, 0.0, 0.0, 0.0, 0.0, 0.0, 0.0, 0.0], inh = [-0.065, -0.065, -0.065, -0.065, -0.065, -0.065, -0.065, -0.065, -0.065, -0.065  …  -0.065, -0.065, -0.065, -0.065, -0.065, -0.065, -0.065, -0.065, -0.065, -0.065])"
      ]
     },
     "execution_count": 22,
     "metadata": {},
     "output_type": "execute_result"
    }
   ],
   "source": [
    "E = similar(g0_vec)\n",
    "E.exc .= v_exc\n",
    "E.inh .= v_inh\n",
    "E"
   ]
  },
  {
   "cell_type": "markdown",
   "metadata": {},
   "source": [
    "### Connections"
   ]
  },
  {
   "cell_type": "code",
   "execution_count": 23,
   "metadata": {},
   "outputs": [],
   "source": [
    "postsynapses = Dict{NeuronID, Vector{SynapseID}}()\n",
    "\n",
    "for (n,s) in zip(neuron_ids.conn, synapse_ids)\n",
    "    postsynapses[n] = [s]\n",
    "end\n",
    "for n in neuron_ids.unconn\n",
    "    postsynapses[n] = []\n",
    "end"
   ]
  },
  {
   "cell_type": "markdown",
   "metadata": {},
   "source": [
    "## Sim"
   ]
  },
  {
   "cell_type": "markdown",
   "metadata": {},
   "source": [
    "### ISI distributions"
   ]
  },
  {
   "cell_type": "markdown",
   "metadata": {},
   "source": [
    "Generate firing rates $λ$ by sampling from the input spike rate distribution."
   ]
  },
  {
   "cell_type": "code",
   "execution_count": 24,
   "metadata": {},
   "outputs": [
    {
     "name": "stdout",
     "output_type": "stream",
     "text": [
      "1100-element Vector{Float64}:\n",
      "    1: 4.628826007327454\n",
      "    2: 1.9344063864708823\n",
      "    ⋮\n",
      "  109: 2.2705807812043237\n",
      "    ⋮\n",
      " 1027: 2.379919163447606\n",
      "    ⋮\n",
      " 1099: 4.906572087058904\n",
      " 1100: 2.540831771557534\n"
     ]
    }
   ],
   "source": [
    "λ = rand(input_spike_rate, N)\n",
    "showsome(λ)"
   ]
  },
  {
   "cell_type": "markdown",
   "metadata": {},
   "source": [
    "`Distributions.jl` uses alternative Exp parametrisation with scale $β$ = 1 / rate."
   ]
  },
  {
   "cell_type": "code",
   "execution_count": 25,
   "metadata": {},
   "outputs": [],
   "source": [
    "β = 1 ./ λ\n",
    "ISI_distributions = Exponential.(β);\n",
    "#   This uses julia's broadcasting `.` syntax: make an `Exponential` distribution for every value in the β vector"
   ]
  },
  {
   "cell_type": "markdown",
   "metadata": {},
   "source": [
    "### Init spike times"
   ]
  },
  {
   "cell_type": "markdown",
   "metadata": {},
   "source": [
    "Generate the first spike time for every input neuron by sampling once from its ISI distribution."
   ]
  },
  {
   "cell_type": "code",
   "execution_count": 26,
   "metadata": {},
   "outputs": [],
   "source": [
    "first_spiketimes = rand.(ISI_distributions);"
   ]
  },
  {
   "cell_type": "markdown",
   "metadata": {},
   "source": [
    "Sort these initial spike times by building a priority queue."
   ]
  },
  {
   "cell_type": "code",
   "execution_count": 27,
   "metadata": {},
   "outputs": [],
   "source": [
    "upcoming_input_spikes = PriorityQueue{NeuronID, Float64}()\n",
    "\n",
    "for (neuron_ID, t) in enumerate(first_spiketimes)\n",
    "    enqueue!(upcoming_input_spikes, neuron_ID => t)\n",
    "end"
   ]
  },
  {
   "cell_type": "markdown",
   "metadata": {},
   "source": [
    "Check the top of the heap to find the first spiker."
   ]
  },
  {
   "cell_type": "code",
   "execution_count": 28,
   "metadata": {
    "scrolled": true
   },
   "outputs": [
    {
     "data": {
      "text/plain": [
       "661 => 0.00020980782128926102"
      ]
     },
     "execution_count": 28,
     "metadata": {},
     "output_type": "execute_result"
    }
   ],
   "source": [
    "_, next_input_spike_time = peek(upcoming_input_spikes)\n",
    "    # We `peek`, and not `dequeue_pair!`, to make this cell idempotent."
   ]
  },
  {
   "cell_type": "markdown",
   "metadata": {},
   "source": [
    "### Differential equations"
   ]
  },
  {
   "cell_type": "code",
   "execution_count": 29,
   "metadata": {},
   "outputs": [],
   "source": [
    "using OrdinaryDiffEq"
   ]
  },
  {
   "cell_type": "markdown",
   "metadata": {},
   "source": [
    "The derivative function that defines the continuous differential equations:"
   ]
  },
  {
   "cell_type": "code",
   "execution_count": 30,
   "metadata": {},
   "outputs": [],
   "source": [
    "function f(D, vars, _, _)\n",
    "    @unpack v, u, g = vars\n",
    "    I_s = sum(g .* (v .- E))\n",
    "    D.v = (k * (v - v_r) * (v - v_t) - u - I_s) / C\n",
    "    D.u = a * (b * (v - v_r) - u)\n",
    "    D.g = -g ./ τ_s_vec\n",
    "    return nothing\n",
    "end;"
   ]
  },
  {
   "cell_type": "markdown",
   "metadata": {},
   "source": [
    "For the sum of synaptic currents, $I_s$, note that membrane current is by convention positive\n",
    "if positive charges are flowing out of the cell.\n",
    "For *e.g.* v = $-80$ mV and E = $0$ mV (excitatory synapse), we get negative $I_s$, i.e. charges flowing in ✅."
   ]
  },
  {
   "cell_type": "markdown",
   "metadata": {},
   "source": [
    "The below are optimisations after profiling."
   ]
  },
  {
   "cell_type": "code",
   "execution_count": 31,
   "metadata": {},
   "outputs": [],
   "source": [
    "τ_s_vec = fill(τ_s, N_conn);"
   ]
  },
  {
   "cell_type": "markdown",
   "metadata": {},
   "source": [
    "### Events"
   ]
  },
  {
   "cell_type": "code",
   "execution_count": 32,
   "metadata": {},
   "outputs": [],
   "source": [
    "events = (\n",
    "    thr_crossing          = 1,\n",
    "    input_spike_generated = 2,\n",
    ")\n",
    "\n",
    "function update_distance_to_next_event(distance, vars, t, integrator)\n",
    "    v = vars.v\n",
    "    p = integrator.p  # params\n",
    "    distance[events.thr_crossing]          = v - v_peak\n",
    "    distance[events.input_spike_generated] = t - p.next_input_spike_time\n",
    "end\n",
    "\n",
    "function on_event(integrator, event)\n",
    "    vars = integrator.u\n",
    "    @unpack p, t = integrator  # params, time\n",
    "\n",
    "    if event == events.thr_crossing\n",
    "        # The discontinuous LIF/Izhikevich/AdEx update\n",
    "        vars.v = c\n",
    "        vars.u += d\n",
    "\n",
    "    elseif event == events.input_spike_generated\n",
    "        # Process the neuron that just fired. Start by removing it from the queue.\n",
    "        fired_neuron = dequeue!(upcoming_input_spikes)\n",
    "        # Generate a new spike time, and add it to the queue.\n",
    "        new_spike_time = t + rand(ISI_distributions[fired_neuron])\n",
    "        enqueue!(upcoming_input_spikes, fired_neuron => new_spike_time)\n",
    "        # Update the downstream synapses (one or zero in the N-to-1 case).\n",
    "        # Also note: no tx delay.\n",
    "        for syn in postsynapses[fired_neuron]\n",
    "            vars.g[syn] += Δg[syn]\n",
    "        end\n",
    "        # Update params: retrieve the next earliest spike.\n",
    "        _, p.next_input_spike_time = peek(upcoming_input_spikes)\n",
    "    end\n",
    "end;"
   ]
  },
  {
   "cell_type": "markdown",
   "metadata": {},
   "source": [
    "### Run simulation"
   ]
  },
  {
   "cell_type": "markdown",
   "metadata": {},
   "source": [
    "Bring it all together (initial conditions, derivatives function, events) and solve."
   ]
  },
  {
   "cell_type": "code",
   "execution_count": 33,
   "metadata": {},
   "outputs": [
    {
     "data": {
      "text/plain": [
       "\u001b[0mComponentVector{Float64}(v = -0.08, u = 0.0, g = (exc = [0.0, 0.0, 0.0, 0.0, 0.0, 0.0, 0.0, 0.0, 0.0, 0.0  …  0.0, 0.0, 0.0, 0.0, 0.0, 0.0, 0.0, 0.0, 0.0, 0.0], inh = [0.0, 0.0, 0.0, 0.0, 0.0, 0.0, 0.0, 0.0, 0.0, 0.0  …  0.0, 0.0, 0.0, 0.0, 0.0, 0.0, 0.0, 0.0, 0.0, 0.0]))"
      ]
     },
     "execution_count": 33,
     "metadata": {},
     "output_type": "execute_result"
    }
   ],
   "source": [
    "vars_t0 = CVec{Float64}(v = v0, u = u0, g = g0_vec)\n",
    "    # Note the cast to float (which is btw recursive), so that vars are float during sim."
   ]
  },
  {
   "cell_type": "code",
   "execution_count": 34,
   "metadata": {},
   "outputs": [
    {
     "data": {
      "text/plain": [
       "\u001b[0mComponentVector{Float64}(next_input_spike_time = 0.00020980782128926102)"
      ]
     },
     "execution_count": 34,
     "metadata": {},
     "output_type": "execute_result"
    }
   ],
   "source": [
    "params = CVec(; next_input_spike_time)"
   ]
  },
  {
   "cell_type": "code",
   "execution_count": 35,
   "metadata": {},
   "outputs": [],
   "source": [
    "using ProfileView"
   ]
  },
  {
   "cell_type": "code",
   "execution_count": null,
   "metadata": {},
   "outputs": [],
   "source": [
    "prob = ODEProblem(f, vars_t0, float(sim_duration), params)\n",
    "    # Duration must be float too, so that `t` variable is float.\n",
    "\n",
    "solv() = solve(\n",
    "    prob,\n",
    "    Tsit5();          # The default and recommended solver. A Runge-Kutta method. Tsitouras 2011.\n",
    "    dt = Δt,          # Size of first step.\n",
    "    adaptive = true,  # Take larger steps when output is steady.\n",
    "    reltol = 1e-8,    # default: 1e-2\n",
    "    abstol = 1e-8,    # default: 1e-6\n",
    "    callback = VectorContinuousCallback(update_distance_to_next_event, on_event, length(events)),\n",
    "    save_idxs = [1,2],   # don't save all synapses\n",
    ")\n",
    "@profileview @time solv()\n",
    "# sol = @time solv();"
   ]
  },
  {
   "cell_type": "markdown",
   "metadata": {},
   "source": [
    "Tolerances are from https://diffeq.sciml.ai/stable/tutorials/ode_example/#Choosing-a-Solver-Algorithm and experimentation:\n",
    "Lower for either gives incorrect oscillations in steady state (non-todo: show this in a separate nb)."
   ]
  },
  {
   "cell_type": "code",
   "execution_count": 332,
   "metadata": {},
   "outputs": [],
   "source": [
    "using Sciplotlib"
   ]
  },
  {
   "cell_type": "code",
   "execution_count": 333,
   "metadata": {},
   "outputs": [
    {
     "data": {
      "image/png": "[encoded data removed]",
      "text/plain": [
       "PyPlot.Figure(PyObject <Figure size 800x480 with 1 Axes>)"
      ]
     },
     "metadata": {
      "image/png": {
       "height": 240,
       "width": 400
      }
     },
     "output_type": "display_data"
    }
   ],
   "source": [
    "tzoom = sol.t[[1,end]]\n",
    "# tzoom = [200, 600] .* ms\n",
    "zoom = first(tzoom) .< sol.t .< last(tzoom)\n",
    "plot(sol.t[zoom]/ms, sol[1,zoom]/mV, clip_on=false);"
   ]
  },
  {
   "cell_type": "code",
   "execution_count": null,
   "metadata": {},
   "outputs": [],
   "source": []
  }
 ],
 "metadata": {
  "jupytext": {
   "encoding": "# -*- coding: utf-8 -*-",
   "formats": "ipynb,jl:light"
  },
  "kernelspec": {
   "display_name": "Julia 1.7.1",
   "language": "julia",
   "name": "julia-1.7"
  },
  "language_info": {
   "file_extension": ".jl",
   "mimetype": "application/julia",
   "name": "julia",
   "version": "1.7.1"
  },
  "toc": {
   "base_numbering": 1,
   "nav_menu": {},
   "number_sections": false,
   "sideBar": true,
   "skip_h1_title": true,
   "title_cell": "Table of Contents",
   "title_sidebar": "Contents",
   "toc_cell": false,
   "toc_position": {
    "height": "439.33px",
    "left": "27px",
    "top": "29.5568px",
    "width": "181px"
   },
   "toc_section_display": true,
   "toc_window_display": true
  }
 },
 "nbformat": 4,
 "nbformat_minor": 4
}
