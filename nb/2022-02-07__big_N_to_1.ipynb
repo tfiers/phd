{
 "cells": [
  {
   "cell_type": "markdown",
   "id": "57ab3994",
   "metadata": {},
   "source": [
    "# 2022-02-07 • Big-N-to-1 simulation"
   ]
  },
  {
   "cell_type": "markdown",
   "metadata": {},
   "source": [
    "## Setup"
   ]
  },
  {
   "cell_type": "code",
   "execution_count": 163,
   "id": "e8899c91",
   "metadata": {},
   "outputs": [],
   "source": [
    "# Pkg.resolve()"
   ]
  },
  {
   "cell_type": "code",
   "execution_count": 164,
   "id": "87685370",
   "metadata": {
    "scrolled": true
   },
   "outputs": [
    {
     "name": "stdout",
     "output_type": "stream",
     "text": [
      "\u001b[36m\u001b[1m[ \u001b[22m\u001b[39m\u001b[36m\u001b[1mInfo: \u001b[22m\u001b[39musing Revise\n",
      "\u001b[36m\u001b[1m[ \u001b[22m\u001b[39m\u001b[36m\u001b[1mInfo: \u001b[22m\u001b[39mimport Distributions\n",
      "\u001b[36m\u001b[1m[ \u001b[22m\u001b[39m\u001b[36m\u001b[1mInfo: \u001b[22m\u001b[39mimport MyToolbox\n",
      "\u001b[36m\u001b[1m[ \u001b[22m\u001b[39m\u001b[36m\u001b[1mInfo: \u001b[22m\u001b[39musing VoltageToMap\n"
     ]
    }
   ],
   "source": [
    "include(\"nb_init.jl\")"
   ]
  },
  {
   "cell_type": "code",
   "execution_count": 165,
   "id": "f91aa092",
   "metadata": {},
   "outputs": [],
   "source": [
    "using Parameters, ComponentArrays\n",
    "@alias CVec = ComponentVector;"
   ]
  },
  {
   "cell_type": "markdown",
   "id": "9de0f05e",
   "metadata": {},
   "source": [
    "## Parameters"
   ]
  },
  {
   "cell_type": "markdown",
   "metadata": {},
   "source": [
    "### Simulation duration"
   ]
  },
  {
   "cell_type": "code",
   "execution_count": 166,
   "metadata": {},
   "outputs": [],
   "source": [
    "sim_duration = 1.2 * seconds;"
   ]
  },
  {
   "cell_type": "markdown",
   "id": "fe9b00fd",
   "metadata": {},
   "source": [
    "### Input spike trains"
   ]
  },
  {
   "cell_type": "code",
   "execution_count": 167,
   "metadata": {},
   "outputs": [
    {
     "data": {
      "text/plain": [
       "200"
      ]
     },
     "execution_count": 167,
     "metadata": {},
     "output_type": "execute_result"
    }
   ],
   "source": [
    "N_unconn = 100\n",
    "N_exc    = 800\n",
    "# N_exc    = 5200\n",
    "N_inh    = N_exc ÷ 4"
   ]
  },
  {
   "cell_type": "code",
   "execution_count": 168,
   "id": "d20af118",
   "metadata": {},
   "outputs": [
    {
     "data": {
      "text/plain": [
       "1000"
      ]
     },
     "execution_count": 168,
     "metadata": {},
     "output_type": "execute_result"
    }
   ],
   "source": [
    "N_conn = N_inh + N_exc"
   ]
  },
  {
   "cell_type": "code",
   "execution_count": 169,
   "id": "f4ef6c40",
   "metadata": {},
   "outputs": [
    {
     "data": {
      "text/plain": [
       "1100"
      ]
     },
     "execution_count": 169,
     "metadata": {},
     "output_type": "execute_result"
    }
   ],
   "source": [
    "N = N_conn + N_unconn"
   ]
  },
  {
   "cell_type": "code",
   "execution_count": 170,
   "id": "7abaf6cd",
   "metadata": {},
   "outputs": [
    {
     "data": {
      "text/plain": [
       "LogNormal{Float64}(μ=1.0862943611198905, σ=0.7745966692414834)"
      ]
     },
     "execution_count": 170,
     "metadata": {},
     "output_type": "execute_result"
    }
   ],
   "source": [
    "input_spike_rate = LogNormal_with_mean(4Hz, √0.6)  # See the previous notebook"
   ]
  },
  {
   "cell_type": "markdown",
   "id": "32e10fe4",
   "metadata": {},
   "source": [
    "### Synapses"
   ]
  },
  {
   "cell_type": "markdown",
   "id": "388fa39a",
   "metadata": {},
   "source": [
    "Reversal potential at excitatory and inhibitory synapses,\n",
    "as in the report [`2021-11-11__synaptic_conductance_ratio.pdf`](https://github.com/tfiers/phd-thesis/blob/main/reports/2021-11-11__synaptic_conductance_ratio.pdf):"
   ]
  },
  {
   "cell_type": "code",
   "execution_count": 171,
   "id": "642d4520",
   "metadata": {},
   "outputs": [],
   "source": [
    "E_exc =   0 * mV\n",
    "E_inh = -65 * mV;"
   ]
  },
  {
   "cell_type": "markdown",
   "id": "fe1bb8a3",
   "metadata": {},
   "source": [
    "Synaptic conductances `g` at `t = 0`"
   ]
  },
  {
   "cell_type": "code",
   "execution_count": 172,
   "id": "0e74fd47",
   "metadata": {},
   "outputs": [],
   "source": [
    "g_t0 = 0 * nS;"
   ]
  },
  {
   "cell_type": "markdown",
   "id": "36f1bbd3",
   "metadata": {},
   "source": [
    "Exponential decay time constant of synaptic conductance, $τ_{s}$ (`s` for \"synaptic\")"
   ]
  },
  {
   "cell_type": "code",
   "execution_count": 173,
   "id": "09eea508",
   "metadata": {},
   "outputs": [],
   "source": [
    "τ_s = 7 * ms;"
   ]
  },
  {
   "cell_type": "markdown",
   "id": "1e767fb0",
   "metadata": {},
   "source": [
    "Increase in synaptic conductance on a presynaptic spike"
   ]
  },
  {
   "cell_type": "code",
   "execution_count": 174,
   "id": "ac83741d",
   "metadata": {},
   "outputs": [],
   "source": [
    "Δg_exc = 0.1 * nS\n",
    "Δg_inh = 0.4 * nS;"
   ]
  },
  {
   "cell_type": "markdown",
   "id": "4e135c5c",
   "metadata": {},
   "source": [
    "### Izhikevich neuron"
   ]
  },
  {
   "cell_type": "markdown",
   "id": "e02dc031",
   "metadata": {},
   "source": [
    "Initial membrane potential `v` and adaptation variable `u` values"
   ]
  },
  {
   "cell_type": "code",
   "execution_count": 175,
   "id": "ffc8771e",
   "metadata": {},
   "outputs": [],
   "source": [
    "v_t0  = -80 * mV\n",
    "u_t0  =   0 * pA;"
   ]
  },
  {
   "cell_type": "markdown",
   "id": "608dfd37",
   "metadata": {},
   "source": [
    "Izhikevich's neuron model parameters for a cortical regular spiking neuron:"
   ]
  },
  {
   "cell_type": "code",
   "execution_count": 176,
   "id": "704fe985",
   "metadata": {},
   "outputs": [],
   "source": [
    "cortical_RS = CVec(\n",
    "    C      = 100 * pF,\n",
    "    k      = 0.7 * (nS/mV),  # steepness of dv/dt's parabola\n",
    "    vr     = -60 * mV,\n",
    "    vt     = -40 * mV,\n",
    "    a      = 0.03 / ms,      # 1 / time constant of `u`\n",
    "    b      = -2 * nS,        # how strongly `v` deviations from `vr` increase `u`.\n",
    "    v_peak =  35 * mV,\n",
    "    c      = -50 * mV,       # reset voltage.\n",
    "    d      = 100 * pA,       # `u` increase on spike. Free parameter.\n",
    ");"
   ]
  },
  {
   "cell_type": "markdown",
   "metadata": {},
   "source": [
    "### Numerics"
   ]
  },
  {
   "cell_type": "markdown",
   "metadata": {},
   "source": [
    "Whether to use a fixed (`false`) or [adaptive](https://www.wikiwand.com/en/Adaptive_step_size) timestep (`true`)."
   ]
  },
  {
   "cell_type": "code",
   "execution_count": 177,
   "metadata": {},
   "outputs": [],
   "source": [
    "adaptive = true;"
   ]
  },
  {
   "cell_type": "markdown",
   "metadata": {},
   "source": [
    "Timestep. If `adaptive`, size of first time step."
   ]
  },
  {
   "cell_type": "code",
   "execution_count": 178,
   "metadata": {},
   "outputs": [],
   "source": [
    "dt = 0.1 * ms;"
   ]
  },
  {
   "cell_type": "markdown",
   "metadata": {},
   "source": [
    "Error tolerances used for determining step size, if `adaptive`.\n",
    "\n",
    "The solver guarantees that the (estimated) difference between\n",
    "the numerical solution and the true solution at any time step\n",
    "is not larger than `abstol + reltol * |y|`\n",
    "(where `y` ≈ the numerical solution at that time step)."
   ]
  },
  {
   "cell_type": "code",
   "execution_count": 179,
   "metadata": {},
   "outputs": [],
   "source": [
    "abstol_v = 0.1 * mV\n",
    "abstol_u = 0.1 * pA\n",
    "abstol_g = 0.01 * nS;"
   ]
  },
  {
   "cell_type": "code",
   "execution_count": 180,
   "metadata": {},
   "outputs": [],
   "source": [
    "reltol = 1e-3;  # e.g. if true sol is -80 mV, then max error of 0.08 mV\n",
    "reltol = 1;     # only use abstol"
   ]
  },
  {
   "cell_type": "markdown",
   "metadata": {},
   "source": [
    "From the manual: \"These tolerances are local tolerances and thus are not global guarantees. However, a good rule of thumb is that the total solution accuracy is 1-2 digits less than the relative tolerances.\" [[1]](https://diffeq.sciml.ai/stable/basics/faq/#What-does-tolerance-mean-and-how-much-error-should-I-expect)"
   ]
  },
  {
   "cell_type": "code",
   "execution_count": 181,
   "metadata": {},
   "outputs": [],
   "source": [
    "tol_correction = 0.1;"
   ]
  },
  {
   "cell_type": "code",
   "execution_count": 182,
   "metadata": {},
   "outputs": [
    {
     "data": {
      "text/plain": [
       "(1.0e-5, 1.0000000000000002e-14, 1.0000000000000002e-12)"
      ]
     },
     "execution_count": 182,
     "metadata": {},
     "output_type": "execute_result"
    }
   ],
   "source": [
    "(abstol_v, abstol_u, abstol_g) .* tol_correction"
   ]
  },
  {
   "cell_type": "markdown",
   "metadata": {},
   "source": [
    "For comparison, the default tolerances for ODEs in DifferentialEquations.jl are\n",
    "- `reltol = 1e-2`\n",
    "- `abstol = 1e-6`."
   ]
  },
  {
   "cell_type": "markdown",
   "metadata": {},
   "source": [
    "Minimum and maximum stepsizes"
   ]
  },
  {
   "cell_type": "code",
   "execution_count": 183,
   "metadata": {},
   "outputs": [],
   "source": [
    "dtmax = 0.5 * ms;"
   ]
  },
  {
   "cell_type": "markdown",
   "id": "62ad293e",
   "metadata": {},
   "source": [
    "## IDs"
   ]
  },
  {
   "cell_type": "markdown",
   "metadata": {},
   "source": [
    "Neuron, synapse & simulated variable IDs."
   ]
  },
  {
   "cell_type": "markdown",
   "id": "f0ccb8c1",
   "metadata": {},
   "source": [
    "IDs and connections are simple here for the N-to-1 case: only input 'neurons' get an ID, and there is only one synapse for every (connected) neuron."
   ]
  },
  {
   "cell_type": "markdown",
   "id": "cd36d1a3",
   "metadata": {},
   "source": [
    "A utility function. See below for its usage."
   ]
  },
  {
   "cell_type": "code",
   "execution_count": 184,
   "id": "158714be",
   "metadata": {},
   "outputs": [],
   "source": [
    "\"\"\"\n",
    "    idvec(A = 4, B = 2, …)\n",
    "\n",
    "Build a `ComponentVector` (CVec) with the given group names and\n",
    "as many elements per group as specified. Each element gets a\n",
    "unique ID within the CVec, which is also its index in the CVec.\n",
    "I.e. the above call yields `CVec(A = [1,2,3,4], B = [5,6])`.\n",
    "\"\"\"\n",
    "function idvec(; kw...)\n",
    "    cvec = CVec(; (name => _expand(val) for (name, val) in kw)...)\n",
    "    cvec .= 1:length(cvec)\n",
    "    return cvec\n",
    "end;\n",
    "\n",
    "temp = -1  # value does not matter; they get overwritten by UnitRange\n",
    "_expand(val::Nothing) = temp\n",
    "_expand(val::Integer) = fill(temp, val)\n",
    "_expand(val::CVec)    = val              # allow nested idvecs\n",
    ";"
   ]
  },
  {
   "cell_type": "code",
   "execution_count": 185,
   "id": "6ad76f06",
   "metadata": {},
   "outputs": [
    {
     "data": {
      "text/plain": [
       "\u001b[0mComponentVector{Int64}(conn = (exc = [1, 2, 3, 4, 5, 6, 7, 8, 9, 10  …  791, 792, 793, 794, 795, 796, 797, 798, 799, 800], inh = [801, 802, 803, 804, 805, 806, 807, 808, 809, 810  …  991, 992, 993, 994, 995, 996, 997, 998, 999, 1000]), unconn = [1001, 1002, 1003, 1004, 1005, 1006, 1007, 1008, 1009, 1010  …  1091, 1092, 1093, 1094, 1095, 1096, 1097, 1098, 1099, 1100])"
      ]
     },
     "execution_count": 185,
     "metadata": {},
     "output_type": "execute_result"
    }
   ],
   "source": [
    "neurons = idvec(conn = idvec(exc = N_exc, inh = N_inh), unconn = N_unconn)"
   ]
  },
  {
   "cell_type": "code",
   "execution_count": 186,
   "id": "6a126c71",
   "metadata": {},
   "outputs": [
    {
     "data": {
      "text/plain": [
       "\u001b[0mComponentVector{Int64}(exc = [1, 2, 3, 4, 5, 6, 7, 8, 9, 10  …  791, 792, 793, 794, 795, 796, 797, 798, 799, 800], inh = [801, 802, 803, 804, 805, 806, 807, 808, 809, 810  …  991, 992, 993, 994, 995, 996, 997, 998, 999, 1000])"
      ]
     },
     "execution_count": 186,
     "metadata": {},
     "output_type": "execute_result"
    }
   ],
   "source": [
    "synapses = idvec(exc = N_exc, inh = N_inh)"
   ]
  },
  {
   "cell_type": "code",
   "execution_count": 187,
   "metadata": {},
   "outputs": [
    {
     "data": {
      "text/plain": [
       "\u001b[0mComponentVector{Int64}(v = 1, u = 2, g = (exc = [3, 4, 5, 6, 7, 8, 9, 10, 11, 12  …  793, 794, 795, 796, 797, 798, 799, 800, 801, 802], inh = [803, 804, 805, 806, 807, 808, 809, 810, 811, 812  …  993, 994, 995, 996, 997, 998, 999, 1000, 1001, 1002]))"
      ]
     },
     "execution_count": 187,
     "metadata": {},
     "output_type": "execute_result"
    }
   ],
   "source": [
    "simulated_vars = idvec(v = nothing, u = nothing, g = synapses)"
   ]
  },
  {
   "cell_type": "markdown",
   "id": "24778f43",
   "metadata": {},
   "source": [
    "Example usage of these objects:"
   ]
  },
  {
   "cell_type": "markdown",
   "metadata": {},
   "source": [
    "Pick some global neuron ID"
   ]
  },
  {
   "cell_type": "code",
   "execution_count": 188,
   "metadata": {},
   "outputs": [
    {
     "data": {
      "text/plain": [
       "802"
      ]
     },
     "execution_count": 188,
     "metadata": {},
     "output_type": "execute_result"
    }
   ],
   "source": [
    "neuron_ID = N_exc + 2"
   ]
  },
  {
   "cell_type": "markdown",
   "metadata": {},
   "source": [
    "We can index globally, or locally: we want the second inhibitory neuron"
   ]
  },
  {
   "cell_type": "code",
   "execution_count": 189,
   "metadata": {},
   "outputs": [
    {
     "data": {
      "text/plain": [
       "(802, 802)"
      ]
     },
     "execution_count": 189,
     "metadata": {},
     "output_type": "execute_result"
    }
   ],
   "source": [
    "neurons[neuron_ID], neurons.conn.inh[2]"
   ]
  },
  {
   "cell_type": "markdown",
   "metadata": {},
   "source": [
    "Some introspection, useful for printing & plotting:"
   ]
  },
  {
   "cell_type": "code",
   "execution_count": 190,
   "id": "08e9b3c8",
   "metadata": {},
   "outputs": [
    {
     "data": {
      "text/plain": [
       "\"conn.inh[2]\""
      ]
     },
     "execution_count": 190,
     "metadata": {},
     "output_type": "execute_result"
    }
   ],
   "source": [
    "labels(neurons)[neuron_ID]"
   ]
  },
  {
   "cell_type": "markdown",
   "id": "66502b1e",
   "metadata": {},
   "source": [
    "## Connections"
   ]
  },
  {
   "cell_type": "code",
   "execution_count": 191,
   "id": "62a6bdde",
   "metadata": {},
   "outputs": [],
   "source": [
    "postsynapses = Dict{Int, Vector{Int}}()  # neuron_ID => [synapse_IDs...]\n",
    "\n",
    "for (n, s) in zip(neurons.conn, synapses)\n",
    "    postsynapses[n] = [s]\n",
    "end\n",
    "for n in neurons.unconn\n",
    "    postsynapses[n] = []\n",
    "end"
   ]
  },
  {
   "cell_type": "markdown",
   "metadata": {},
   "source": [
    "## Broadcast parameters"
   ]
  },
  {
   "cell_type": "markdown",
   "metadata": {},
   "source": [
    "A bunch of synaptic parameters are given as scalars, but pertain to multiple synapses at once.\n",
    "Here we broadcast these scalars to vectors"
   ]
  },
  {
   "cell_type": "code",
   "execution_count": 192,
   "id": "26ef609e",
   "metadata": {},
   "outputs": [],
   "source": [
    "Δg = similar(synapses, Float64)\n",
    "Δg.exc .= Δg_exc\n",
    "Δg.inh .= Δg_inh;"
   ]
  },
  {
   "cell_type": "code",
   "execution_count": 193,
   "id": "5a36b6e5",
   "metadata": {},
   "outputs": [],
   "source": [
    "E = similar(synapses, Float64)\n",
    "E.exc .= E_exc\n",
    "E.inh .= E_inh;"
   ]
  },
  {
   "cell_type": "markdown",
   "metadata": {},
   "source": [
    "Initial conditions:"
   ]
  },
  {
   "cell_type": "code",
   "execution_count": 194,
   "metadata": {},
   "outputs": [],
   "source": [
    "vars_t0 = similar(simulated_vars, Float64)\n",
    "vars_t0.v = v_t0\n",
    "vars_t0.u = u_t0\n",
    "vars_t0.g .= g_t0;"
   ]
  },
  {
   "cell_type": "code",
   "execution_count": 195,
   "metadata": {},
   "outputs": [],
   "source": [
    "abstol = similar(simulated_vars, Float64)\n",
    "abstol.v = abstol_v\n",
    "abstol.u = abstol_u\n",
    "abstol.g .= abstol_g\n",
    "abstol = abstol .* tol_correction;"
   ]
  },
  {
   "cell_type": "markdown",
   "id": "4c111fa6",
   "metadata": {},
   "source": [
    "## Input spikes"
   ]
  },
  {
   "cell_type": "markdown",
   "id": "912807c0",
   "metadata": {},
   "source": [
    "Generate firing rates $λ$ by sampling from the input spike rate distribution."
   ]
  },
  {
   "cell_type": "code",
   "execution_count": 196,
   "id": "c0ee8051",
   "metadata": {},
   "outputs": [
    {
     "name": "stdout",
     "output_type": "stream",
     "text": [
      "1100-element Vector{Float64}:\n",
      "    1: 7.065203744002623\n",
      "    2: 4.513016795188093\n",
      "    ⋮\n",
      "   47: 5.401602866752907\n",
      "    ⋮\n",
      " 1026: 1.0363841275568344\n",
      "    ⋮\n",
      " 1099: 5.976848059928364\n",
      " 1100: 3.578659505485521\n"
     ]
    }
   ],
   "source": [
    "λ = rand(input_spike_rate, N)\n",
    "showsome(λ)"
   ]
  },
  {
   "cell_type": "markdown",
   "id": "da893593",
   "metadata": {},
   "source": [
    "`Distributions.jl` uses an alternative `Exp` parametrization, namely scale $β$ = 1 / rate."
   ]
  },
  {
   "cell_type": "code",
   "execution_count": 197,
   "id": "2ff447ce",
   "metadata": {},
   "outputs": [],
   "source": [
    "β = 1 ./ λ\n",
    "ISI_distributions = Exponential.(β);\n",
    "#   This uses julia's broadcasting `.` syntax: make an `Exponential` distribution for every value in the β vector"
   ]
  },
  {
   "cell_type": "markdown",
   "id": "954215e5",
   "metadata": {},
   "source": [
    "Generate the first spike time for every input neuron by sampling once from its ISI distribution."
   ]
  },
  {
   "cell_type": "code",
   "execution_count": 198,
   "id": "b21763fa",
   "metadata": {},
   "outputs": [],
   "source": [
    "first_spike_times = rand.(ISI_distributions);"
   ]
  },
  {
   "cell_type": "markdown",
   "id": "06625d12",
   "metadata": {},
   "source": [
    "Sort these initial spike times by building a priority queue."
   ]
  },
  {
   "cell_type": "code",
   "execution_count": 199,
   "id": "ea66d7cf",
   "metadata": {},
   "outputs": [],
   "source": [
    "upcoming_input_spikes = PriorityQueue{Int, Float64}()\n",
    "\n",
    "for (neuron, first_spike_time) in enumerate(first_spike_times)\n",
    "    enqueue!(upcoming_input_spikes, neuron => first_spike_time)\n",
    "end"
   ]
  },
  {
   "cell_type": "markdown",
   "id": "259dd291",
   "metadata": {},
   "source": [
    "Check the top of the heap to find the first spiker."
   ]
  },
  {
   "cell_type": "code",
   "execution_count": 200,
   "id": "4a265e5e",
   "metadata": {},
   "outputs": [
    {
     "data": {
      "text/plain": [
       "598 => 0.0005213237431659766"
      ]
     },
     "execution_count": 200,
     "metadata": {},
     "output_type": "execute_result"
    }
   ],
   "source": [
    "_, next_input_spike_time = peek(upcoming_input_spikes)\n",
    "    # We `peek`, and not `dequeue_pair!`, to make this cell idempotent."
   ]
  },
  {
   "cell_type": "markdown",
   "id": "0abd479a",
   "metadata": {},
   "source": [
    "## Differential equations"
   ]
  },
  {
   "cell_type": "code",
   "execution_count": 201,
   "id": "a51a2d28",
   "metadata": {},
   "outputs": [],
   "source": [
    "params = CVec(; E, τ_s, izh = cortical_RS, next_input_spike_time);"
   ]
  },
  {
   "cell_type": "markdown",
   "id": "bf84b46b",
   "metadata": {},
   "source": [
    "The derivative functions that defines the differential equations.\n",
    "\n",
    "Discontinuities are defined further down, under \"Events\"."
   ]
  },
  {
   "cell_type": "code",
   "execution_count": 202,
   "id": "4d22c924",
   "metadata": {},
   "outputs": [],
   "source": [
    "function f(D, vars, params, _)\n",
    "    @unpack v, u, g = vars\n",
    "    @unpack izh, E, τ_s = params\n",
    "    @unpack C, k, vr, vt, a, b = izh\n",
    "    I_s = 0.0\n",
    "    for (gi, Ei) in zip(g, E)\n",
    "        I_s += gi * (v - Ei)\n",
    "    end\n",
    "    D.v = (k * (v - vr) * (v - vt) - u - I_s) / C\n",
    "    D.u = a * (b * (v - vr) - u)\n",
    "    D.g .= .-g ./ τ_s\n",
    "    return nothing\n",
    "end;"
   ]
  },
  {
   "cell_type": "markdown",
   "metadata": {},
   "source": [
    "Applied performance optimizations:\n",
    "- No `I_s = sum(g .* (v .- E))`, which allocates a new array. Rather: an accumulating loop.\n",
    "- `D.g .= …`: elementwise assignment (instead of overwriting `D.g` with a new array that needs to be allocated).\n",
    "- Parameters via function argument, and not closure global variables: to speed up type inference (apparently)."
   ]
  },
  {
   "cell_type": "markdown",
   "id": "5b48eda3",
   "metadata": {},
   "source": [
    "For the synaptic currents $I_{s,i}$:\n",
    "membrane current is by convention positive\n",
    "if positive charges are flowing _out_ of the cell.\n",
    "\n",
    "For *e.g.* `v` = $-80$ mV and `Ei` = $0$ mV (an excitatory synapse),\n",
    "we get negative $I_s$, i.e. positive charges flowing in ✔."
   ]
  },
  {
   "cell_type": "markdown",
   "id": "70eb31c5",
   "metadata": {},
   "source": [
    "## Events"
   ]
  },
  {
   "cell_type": "code",
   "execution_count": 203,
   "id": "0ad0e4c4",
   "metadata": {},
   "outputs": [],
   "source": [
    "events = (\n",
    "    thr_crossing           = 1,\n",
    "    input_spike_generated  = 2,\n",
    ")\n",
    "\n",
    "function update_distance_to_next_event(distance, vars, t, integrator)\n",
    "    v = vars.v\n",
    "    p = integrator.p  # params\n",
    "    distance[events.thr_crossing]          = v - p.izh.v_peak\n",
    "    distance[events.input_spike_generated] = t - p.next_input_spike_time\n",
    "end\n",
    "\n",
    "function on_event(integrator, event)\n",
    "    vars = integrator.u\n",
    "    @unpack p, t = integrator  # params, time\n",
    "\n",
    "    if event == events.thr_crossing\n",
    "        # The discontinuous LIF/Izhikevich/AdEx update\n",
    "        vars.v = p.izh.c\n",
    "        vars.u += p.izh.d\n",
    "\n",
    "    elseif event == events.input_spike_generated\n",
    "        # Process the neuron that just fired. Start by removing it from the queue.\n",
    "        fired_neuron = dequeue!(upcoming_input_spikes)\n",
    "        # Generate a new spike time, and add it to the queue.\n",
    "        new_spike_time = t + rand(ISI_distributions[fired_neuron])\n",
    "        enqueue!(upcoming_input_spikes, fired_neuron => new_spike_time)\n",
    "        # Update the downstream synapses (one or zero in the N-to-1 case).\n",
    "        # Also note: no tx delay.\n",
    "        for syn in postsynapses[fired_neuron]\n",
    "            vars.g[syn] += Δg[syn]\n",
    "        end\n",
    "        # Update params: retrieve the next earliest spike.\n",
    "        _, p.next_input_spike_time = peek(upcoming_input_spikes)\n",
    "    end\n",
    "end;"
   ]
  },
  {
   "cell_type": "markdown",
   "id": "77b310aa",
   "metadata": {},
   "source": [
    "## diffeq.jl API"
   ]
  },
  {
   "cell_type": "markdown",
   "id": "f5db9d2a",
   "metadata": {},
   "source": [
    "Set-up problem and solution in DifferentialEquations.jl's API."
   ]
  },
  {
   "cell_type": "code",
   "execution_count": 204,
   "metadata": {},
   "outputs": [
    {
     "name": "stdout",
     "output_type": "stream",
     "text": [
      "  0.001588 seconds (347 allocations: 22.359 KiB)\n"
     ]
    }
   ],
   "source": [
    "@time using OrdinaryDiffEq"
   ]
  },
  {
   "cell_type": "code",
   "execution_count": 205,
   "metadata": {},
   "outputs": [
    {
     "data": {
      "text/plain": [
       "\u001b[36mODEProblem\u001b[0m with uType \u001b[36mComponentVector{Float64, Vector{Float64}, Tuple{Axis{(v = 1, u = 2, g = ViewAxis(3:1002, Axis(exc = 1:800, inh = 801:1000)))}}}\u001b[0m and tType \u001b[36mFloat64\u001b[0m. In-place: \u001b[36mtrue\u001b[0m\n",
       "timespan: (0.0, 1.2)\n",
       "u0: \u001b[0mComponentVector{Float64}(v = -0.08, u = 0.0, g = (exc = [0.0, 0.0, 0.0, 0.0, 0.0, 0.0, 0.0, 0.0, 0.0, 0.0  …  0.0, 0.0, 0.0, 0.0, 0.0, 0.0, 0.0, 0.0, 0.0, 0.0], inh = [0.0, 0.0, 0.0, 0.0, 0.0, 0.0, 0.0, 0.0, 0.0, 0.0  …  0.0, 0.0, 0.0, 0.0, 0.0, 0.0, 0.0, 0.0, 0.0, 0.0]))"
      ]
     },
     "execution_count": 205,
     "metadata": {},
     "output_type": "execute_result"
    }
   ],
   "source": [
    "prob = ODEProblem(f, vars_t0, float(sim_duration), params)\n",
    "    # Duration must be float too, so that `t` variable is float."
   ]
  },
  {
   "cell_type": "code",
   "execution_count": 206,
   "metadata": {},
   "outputs": [],
   "source": [
    "callback = VectorContinuousCallback(update_distance_to_next_event, on_event, length(events));"
   ]
  },
  {
   "cell_type": "markdown",
   "metadata": {},
   "source": [
    "The default and recommended solver. A Runge-Kutta method. Refers to Tsitouras 2011.\n",
    "See http://www.peterstone.name/Maplepgs/Maple/nmthds/RKcoeff/Runge_Kutta_schemes/RK5/RKcoeff5n_1.pdf"
   ]
  },
  {
   "cell_type": "code",
   "execution_count": 207,
   "metadata": {},
   "outputs": [
    {
     "data": {
      "text/plain": [
       "Tsit5(stage_limiter! = trivial_limiter!, step_limiter! = trivial_limiter!, thread = static(false))"
      ]
     },
     "execution_count": 207,
     "metadata": {},
     "output_type": "execute_result"
    }
   ],
   "source": [
    "solver = Tsit5()"
   ]
  },
  {
   "cell_type": "markdown",
   "metadata": {},
   "source": [
    "Don't save all the synaptic conductances, only save `v` and `u`."
   ]
  },
  {
   "cell_type": "code",
   "execution_count": 208,
   "metadata": {},
   "outputs": [],
   "source": [
    "save_idxs = [simulated_vars.v, simulated_vars.u];"
   ]
  },
  {
   "cell_type": "code",
   "execution_count": 209,
   "metadata": {},
   "outputs": [],
   "source": [
    "solve_() = solve(prob, solver; adaptive, dt, dtmax, abstol, reltol, callback);"
   ]
  },
  {
   "cell_type": "markdown",
   "metadata": {},
   "source": [
    "## Solve"
   ]
  },
  {
   "cell_type": "code",
   "execution_count": 210,
   "metadata": {
    "scrolled": true
   },
   "outputs": [
    {
     "name": "stdout",
     "output_type": "stream",
     "text": [
      "  4.105806 seconds (5.08 M allocations: 944.455 MiB, 3.84% gc time, 58.86% compilation time)\n"
     ]
    }
   ],
   "source": [
    "sol = @time solve_();"
   ]
  },
  {
   "cell_type": "markdown",
   "metadata": {},
   "source": [
    "start:   4.105806 seconds (5.08 M allocations: 944.455 MiB, 3.84% gc time, 58.86% compilation time)\n",
    "\n",
    "dtmin: "
   ]
  },
  {
   "cell_type": "code",
   "execution_count": null,
   "metadata": {},
   "outputs": [],
   "source": [
    "@time using ProfileView"
   ]
  },
  {
   "cell_type": "code",
   "execution_count": null,
   "metadata": {},
   "outputs": [],
   "source": [
    "@profview @time solve();"
   ]
  },
  {
   "cell_type": "markdown",
   "metadata": {},
   "source": [
    "## Plot"
   ]
  },
  {
   "cell_type": "code",
   "execution_count": 120,
   "metadata": {
    "scrolled": true
   },
   "outputs": [
    {
     "name": "stdout",
     "output_type": "stream",
     "text": [
      "  0.001552 seconds (347 allocations: 22.359 KiB)\n"
     ]
    }
   ],
   "source": [
    "@time import PyPlot\n",
    "using Sciplotlib"
   ]
  },
  {
   "cell_type": "code",
   "execution_count": 159,
   "metadata": {},
   "outputs": [],
   "source": [
    "\"\"\" tzoom = [200ms, 600ms] e.g. \"\"\"\n",
    "function Sciplotlib.plot(sol::ODESolution; tzoom = nothing)\n",
    "    isnothing(tzoom) && (tzoom = sol.t[[1,end]])\n",
    "    izoom = first(tzoom) .< sol.t .< last(tzoom)\n",
    "    plot(\n",
    "        sol.t[izoom]/ms,\n",
    "        sol[1,izoom]/mV,\n",
    "        clip_on = false,\n",
    "        marker = \".\", ms = 1.2, lw = 0.4,\n",
    "#         xlim = tzoom,  # haha lolwut, adding this causes fig to no longer display.\n",
    "    )\n",
    "end;"
   ]
  },
  {
   "cell_type": "code",
   "execution_count": 160,
   "metadata": {},
   "outputs": [
    {
     "data": {
      "image/png": "[encoded data removed]",
      "text/plain": [
       "PyPlot.Figure(PyObject <Figure size 800x480 with 1 Axes>)"
      ]
     },
     "metadata": {
      "image/png": {
       "height": 240,
       "width": 400
      }
     },
     "output_type": "display_data"
    }
   ],
   "source": [
    "plot(sol);"
   ]
  },
  {
   "cell_type": "code",
   "execution_count": 55,
   "metadata": {},
   "outputs": [
    {
     "data": {
      "image/png": "[encoded data removed]",
      "text/plain": [
       "PyPlot.Figure(PyObject <Figure size 800x480 with 1 Axes>)"
      ]
     },
     "metadata": {
      "image/png": {
       "height": 240,
       "width": 400
      }
     },
     "output_type": "display_data"
    }
   ],
   "source": [
    "plot(sol);"
   ]
  },
  {
   "cell_type": "code",
   "execution_count": null,
   "metadata": {},
   "outputs": [],
   "source": []
  },
  {
   "cell_type": "code",
   "execution_count": null,
   "metadata": {},
   "outputs": [],
   "source": []
  }
 ],
 "metadata": {
  "jupytext": {
   "encoding": "# -*- coding: utf-8 -*-",
   "formats": "ipynb,jl:light"
  },
  "kernelspec": {
   "display_name": "Julia 1.7.0",
   "language": "julia",
   "name": "julia-1.7"
  },
  "language_info": {
   "file_extension": ".jl",
   "mimetype": "application/julia",
   "name": "julia",
   "version": "1.7.0"
  },
  "toc": {
   "base_numbering": 1,
   "nav_menu": {},
   "number_sections": false,
   "sideBar": true,
   "skip_h1_title": true,
   "title_cell": "Table of Contents",
   "title_sidebar": "Contents",
   "toc_cell": false,
   "toc_position": {
    "height": "513.807px",
    "left": "25.3523px",
    "top": "123px",
    "width": "212px"
   },
   "toc_section_display": true,
   "toc_window_display": true
  }
 },
 "nbformat": 4,
 "nbformat_minor": 5
}
