{
 "cells": [
  {
   "cell_type": "markdown",
   "id": "57ab3994",
   "metadata": {},
   "source": [
    "# 2022-02-20 • Fixed timestep Euler solver in vanilla Julia"
   ]
  },
  {
   "cell_type": "markdown",
   "id": "0ad63872",
   "metadata": {},
   "source": [
    "i.e. no `DifferentialEquations.jl`.\n",
    "\n",
    "Hopefully this achieves better performance."
   ]
  },
  {
   "cell_type": "markdown",
   "id": "c99fa4fd",
   "metadata": {},
   "source": [
    "## Setup"
   ]
  },
  {
   "cell_type": "code",
   "execution_count": 1,
   "id": "799a518e",
   "metadata": {},
   "outputs": [],
   "source": [
    "# using Pkg; Pkg.resolve()"
   ]
  },
  {
   "cell_type": "code",
   "execution_count": 2,
   "id": "87685370",
   "metadata": {
    "scrolled": true
   },
   "outputs": [
    {
     "name": "stdout",
     "output_type": "stream",
     "text": [
      "start\n"
     ]
    }
   ],
   "source": [
    "println(\"start\"); flush(stdout)"
   ]
  },
  {
   "cell_type": "markdown",
   "id": "8787d338",
   "metadata": {},
   "source": [
    "using Revise"
   ]
  },
  {
   "cell_type": "code",
   "execution_count": 6,
   "id": "2520f9ad",
   "metadata": {},
   "outputs": [],
   "source": [
    "using Distributions"
   ]
  },
  {
   "cell_type": "code",
   "execution_count": 7,
   "id": "3a016087",
   "metadata": {},
   "outputs": [],
   "source": [
    "using MyToolbox"
   ]
  },
  {
   "cell_type": "code",
   "execution_count": 8,
   "id": "ba1f0cec",
   "metadata": {},
   "outputs": [],
   "source": [
    "using VoltageToMap"
   ]
  },
  {
   "cell_type": "code",
   "execution_count": 10,
   "id": "66d6820c",
   "metadata": {},
   "outputs": [
    {
     "name": "stdout",
     "output_type": "stream",
     "text": [
      "setup done\n"
     ]
    }
   ],
   "source": [
    "println(\"setup done\")  # feedback when running in terminal"
   ]
  },
  {
   "cell_type": "markdown",
   "id": "9de0f05e",
   "metadata": {},
   "source": [
    "## Parameters"
   ]
  },
  {
   "cell_type": "code",
   "execution_count": 11,
   "id": "28588404",
   "metadata": {
    "scrolled": true
   },
   "outputs": [
    {
     "data": {
      "text/plain": [
       "30"
      ]
     },
     "execution_count": 11,
     "metadata": {},
     "output_type": "execute_result"
    }
   ],
   "source": [
    "@kwdef struct PoissonInputParams\n",
    "    N_unconn  ::Int          = 100\n",
    "    N_exc     ::Int          = 5200\n",
    "    N_inh     ::Int          = N_exc ÷ 4\n",
    "    N_conn    ::Int          = N_inh + N_exc\n",
    "    N         ::Int          = N_conn + N_unconn\n",
    "    spike_rate::Distribution = LogNormal_with_mean(4Hz, √0.6)  # (μₓ, σ)\n",
    "end\n",
    "\n",
    "const realistic_input = PoissonInputParams()\n",
    "const slightly_smaller_input = PoissonInputParams(N_exc = 800)\n",
    "const small_N__as_in_Python_2021 = PoissonInputParams(N_unconn = 9, N_exc = 17)\n",
    "small_N__as_in_Python_2021.N"
   ]
  },
  {
   "cell_type": "code",
   "execution_count": 12,
   "id": "f4ac2c5a",
   "metadata": {},
   "outputs": [],
   "source": [
    "@kwdef struct SynapseParams\n",
    "    g_t0     ::Float64   =     0   * nS\n",
    "    τ_s      ::Float64   =     7   * ms\n",
    "    E_exc    ::Float64   =     0   * mV\n",
    "    E_inh    ::Float64   =  - 65   * mV\n",
    "    Δg_exc   ::Float64   =     0.4 * nS\n",
    "    Δg_inh   ::Float64   =     1.6 * nS\n",
    "end\n",
    "\n",
    "const semi_arbitrary_synaptic_params = SynapseParams();"
   ]
  },
  {
   "cell_type": "code",
   "execution_count": 13,
   "id": "62a6a81a",
   "metadata": {},
   "outputs": [],
   "source": [
    "@kwdef struct IzhNeuronParams\n",
    "    v_t0     ::Float64   = - 80    * mV\n",
    "    u_t0     ::Float64   =    0    * pA\n",
    "    C        ::Float64   =  100    * pF\n",
    "    k        ::Float64   =    0.7  * (nS/mV)     # steepness of dv/dt's parabola\n",
    "    vr       ::Float64   = - 60    * mV          # resting v\n",
    "    vt       ::Float64   = - 40    * mV          # ~spiking thr\n",
    "    a        ::Float64   =    0.03 / ms          # reciprocal of `u`'s time constant\n",
    "    b        ::Float64   = -  2    * nS          # how strongly `(v - vr)` increases `u`\n",
    "    v_peak   ::Float64   =   35    * mV          # cutoff to define spike\n",
    "    v_reset  ::Float64   = - 50    * mV          # ..on spike. `c` in Izh.\n",
    "    Δu       ::Float64   =  100    * pA          # ..on spike. `d` in Izh. Free parameter.\n",
    "end\n",
    "\n",
    "const cortical_RS = IzhNeuronParams();"
   ]
  },
  {
   "cell_type": "code",
   "execution_count": 14,
   "id": "6f7f4e25",
   "metadata": {
    "lines_to_next_cell": 2
   },
   "outputs": [],
   "source": [
    "Base.@kwdef struct SimParams\n",
    "    sim_duration  ::Float64            = 1.2 * seconds\n",
    "    Δt            ::Float64            = 0.1 * ms\n",
    "    poisson_input ::PoissonInputParams = realistic_input\n",
    "    synapses      ::SynapseParams      = semi_arbitrary_synaptic_params\n",
    "    izh_neuron    ::IzhNeuronParams    = cortical_RS\n",
    "    Δg_multiplier ::Float64            = 1.0      # Free parameter, fiddled with until medium number of output spikes.\n",
    "end;"
   ]
  },
  {
   "cell_type": "markdown",
   "id": "bd8add07",
   "metadata": {},
   "source": [
    "## Simulation"
   ]
  },
  {
   "cell_type": "code",
   "execution_count": 39,
   "id": "25409882",
   "metadata": {},
   "outputs": [
    {
     "data": {
      "text/plain": [
       "sim (generic function with 1 method)"
      ]
     },
     "execution_count": 39,
     "metadata": {},
     "output_type": "execute_result"
    }
   ],
   "source": [
    "function sim(params::SimParams)\n",
    "\n",
    "    @unpack sim_duration, Δt, Δg_multiplier                      = params\n",
    "    @unpack N_unconn, N_exc, N_inh, N_conn, N, spike_rate        = params.poisson_input\n",
    "    @unpack E_exc, E_inh, g_t0, τ_s, Δg_exc, Δg_inh              = params.synapses\n",
    "    @unpack v_t0, u_t0, C, k, vr, vt, a, b, v_peak, v_reset, Δu  = params.izh_neuron\n",
    "\n",
    "    input_neuron_IDs = idvec(conn = idvec(exc = N_exc, inh = N_inh), unconn = N_unconn)\n",
    "    synapse_IDs      = idvec(exc = N_exc, inh = N_inh)\n",
    "    simulated_vars   = idvec(t = nothing, v = nothing, u = nothing, g = similar(synapse_IDs))\n",
    "\n",
    "    # Connections\n",
    "    postsynapses = Dict{Int, Vector{Int}}()  # input_neuron_ID => [synapse_IDs...]\n",
    "    for (n, s) in zip(input_neuron_IDs.conn, synapse_IDs)\n",
    "        postsynapses[n] = [s]\n",
    "    end\n",
    "    for n in input_neuron_IDs.unconn\n",
    "        postsynapses[n] = []\n",
    "    end\n",
    "\n",
    "    # Broadcast scalar parameters\n",
    "    Δg = similar(synapse_IDs, Float64)\n",
    "    Δg.exc .= Δg_multiplier * Δg_exc\n",
    "    Δg.inh .= Δg_multiplier * Δg_inh\n",
    "    E = similar(synapse_IDs, Float64)\n",
    "    E.exc .= E_exc\n",
    "    E.inh .= E_inh\n",
    "\n",
    "    # Inter-spike—interval distributions\n",
    "    λ = similar(input_neuron_IDs, Float64)\n",
    "    λ .= rand(spike_rate, length(λ))\n",
    "    β = 1 ./ λ\n",
    "    ISI_distributions = Exponential.(β)\n",
    "    first_input_spike_t = rand.(ISI_distributions)\n",
    "    upcoming_input_spikes = PriorityQueue{Int, Float64}()\n",
    "    for (neuron_ID, spike_t) in zip(input_neuron_IDs, first_input_spike_t)\n",
    "        enqueue!(upcoming_input_spikes, neuron_ID => spike_t)\n",
    "    end\n",
    "    next_input_spike_t = peek(upcoming_input_spikes).second  # (`.first` is neuron ID).\n",
    "\n",
    "    # Initialize simulation vars and their derivatives\n",
    "    vars = similar(simulated_vars, Float64)\n",
    "    vars.t = zero(sim_duration)\n",
    "    vars.v = v_t0\n",
    "    vars.u = u_t0\n",
    "    vars.g .= g_t0\n",
    "    D = similar(vars)\n",
    "    D.t = 1\n",
    "\n",
    "    num_timesteps = round(Int, sim_duration / Δt)  # Fixed timestep\n",
    "    v_rec = Vector{Float64}(undef, num_timesteps)\n",
    "    input_spike_t_rec = similar(input_neuron_IDs, Vector{Float64})\n",
    "    for i in eachindex(input_spike_t_rec)\n",
    "        input_spike_t_rec[i] = Vector{Float64}()\n",
    "    end\n",
    "\n",
    "    # package it all up\n",
    "    p = (;\n",
    "        vars, D, Δt, E, τ_s, Δg, params, v_rec, input_spike_t_rec,\n",
    "        upcoming_input_spikes, ISI_distributions, postsynapses\n",
    "    )\n",
    "\n",
    "    @showprogress 200ms for i in 1:num_timesteps\n",
    "        step!(p)\n",
    "        v_rec[i] = vars.v\n",
    "    end\n",
    "\n",
    "    return (\n",
    "        t = linspace(zero(sim_duration), sim_duration, num_timesteps),\n",
    "        v = v_rec,\n",
    "        input_spikes = input_spike_t_rec\n",
    "    )\n",
    "end"
   ]
  },
  {
   "cell_type": "code",
   "execution_count": 40,
   "id": "b9be29e4",
   "metadata": {},
   "outputs": [
    {
     "data": {
      "text/plain": [
       "step! (generic function with 2 methods)"
      ]
     },
     "execution_count": 40,
     "metadata": {},
     "output_type": "execute_result"
    }
   ],
   "source": [
    "function step!(p)\n",
    "    @unpack vars, D, Δt, E, τ_s, Δg, input_spike_t_rec             = p\n",
    "    @unpack upcoming_input_spikes, ISI_distributions, postsynapses = p\n",
    "    @unpack t, v, u, g                                             = vars\n",
    "    @unpack C, k, vr, vt, a, b, v_peak, v_reset, Δu                = p.params.izh_neuron\n",
    "\n",
    "    # Sum synaptic currents\n",
    "    I_s = zero(u)\n",
    "    for (gi, Ei) in zip(g, E)\n",
    "        I_s += gi * (v - Ei)\n",
    "    end\n",
    "\n",
    "    # Differential equations\n",
    "    D.v = (k * (v - vr) * (v - vt) - u - I_s) / C\n",
    "    D.u = a * (b * (v - vr) - u)\n",
    "    for i in eachindex(g)\n",
    "        D.g[i] = -g[i] / τ_s\n",
    "    end\n",
    "\n",
    "    # Euler integration\n",
    "    @. vars += D * Δt\n",
    "\n",
    "    # Izhikevich neuron spiking threshold\n",
    "    if vars.v ≥ v_peak\n",
    "        vars.v = v_reset\n",
    "        vars.u += Δu\n",
    "    end\n",
    "\n",
    "    # Input spikes\n",
    "    next_input_spike_t = peek(upcoming_input_spikes).second\n",
    "    if t ≥ next_input_spike_t\n",
    "        fired_neuron = dequeue!(upcoming_input_spikes)\n",
    "        push!(input_spike_t_rec[fired_neuron], t)\n",
    "        for synapse in postsynapses[fired_neuron]\n",
    "            g[synapse] += Δg[synapse]\n",
    "        end\n",
    "        new_spike_time = t + rand(ISI_distributions[fired_neuron])\n",
    "        enqueue!(upcoming_input_spikes, fired_neuron => new_spike_time)\n",
    "    end\n",
    "end"
   ]
  },
  {
   "cell_type": "code",
   "execution_count": 41,
   "id": "b19f8fb9",
   "metadata": {},
   "outputs": [
    {
     "name": "stdout",
     "output_type": "stream",
     "text": [
      "defs done\n"
     ]
    }
   ],
   "source": [
    "println(\"defs done\")"
   ]
  },
  {
   "cell_type": "code",
   "execution_count": 47,
   "id": "e373cb26",
   "metadata": {
    "scrolled": true
   },
   "outputs": [
    {
     "name": "stderr",
     "output_type": "stream",
     "text": [
      "\u001b[32mProgress: 100%|█████████████████████████████████████████| Time: 0:00:00\u001b[39m\n"
     ]
    }
   ],
   "source": [
    "p = SimParams(poisson_input = small_N__as_in_Python_2021, Δg_multiplier = 7, sim_duration=1*minutes)\n",
    "sim(p);  # to trigger compilation"
   ]
  },
  {
   "cell_type": "code",
   "execution_count": 33,
   "id": "42522ace",
   "metadata": {},
   "outputs": [],
   "source": [
    "using Profile"
   ]
  },
  {
   "cell_type": "code",
   "execution_count": 93,
   "id": "b67e1164",
   "metadata": {},
   "outputs": [],
   "source": [
    "Profile.clear_malloc_data()"
   ]
  },
  {
   "cell_type": "code",
   "execution_count": 50,
   "id": "f4ff55ca",
   "metadata": {},
   "outputs": [
    {
     "name": "stdout",
     "output_type": "stream",
     "text": [
      "SimParams\n",
      "  sim_duration: Float64 60.0\n",
      "  Δt: Float64 0.0001\n",
      "  poisson_input: PoissonInputParams\n",
      "    N_unconn: Int64 100\n",
      "    N_exc: Int64 800\n",
      "    N_inh: Int64 200\n",
      "    N_conn: Int64 1000\n",
      "    N: Int64 1100\n",
      "    spike_rate: LogNormal{Float64}\n",
      "      μ: Float64 1.0862943611198905\n",
      "      σ: Float64 0.7745966692414834\n",
      "  synapses: SynapseParams\n",
      "    g_t0: Float64 0.0\n",
      "    τ_s: Float64 0.007\n",
      "    E_exc: Float64 0.0\n",
      "    E_inh: Float64 -0.065\n",
      "    Δg_exc: Float64 4.0000000000000007e-10\n",
      "    Δg_inh: Float64 1.6000000000000003e-9\n",
      "  izh_neuron: IzhNeuronParams\n",
      "    v_t0: Float64 -0.08\n",
      "    u_t0: Float64 0.0\n",
      "    C: Float64 1.0e-10\n",
      "    k: Float64 7.0e-7\n",
      "    vr: Float64 -0.06\n",
      "    vt: Float64 -0.04\n",
      "    a: Float64 30.0\n",
      "    b: Float64 -2.0e-9\n",
      "    v_peak: Float64 0.035\n",
      "    v_reset: Float64 -0.05\n",
      "    Δu: Float64 1.0e-10\n",
      "  Δg_multiplier: Float64 1.0\n"
     ]
    }
   ],
   "source": [
    "p = SimParams(poisson_input = slightly_smaller_input,     Δg_multiplier = 1, sim_duration = 1*minutes)\n",
    "dump(p)"
   ]
  },
  {
   "cell_type": "code",
   "execution_count": 51,
   "id": "ccef9660",
   "metadata": {},
   "outputs": [
    {
     "name": "stderr",
     "output_type": "stream",
     "text": [
      "\u001b[32mProgress: 100%|█████████████████████████████████████████| Time: 0:00:02\u001b[39m\n"
     ]
    },
    {
     "name": "stdout",
     "output_type": "stream",
     "text": [
      "  2.628588 seconds (2.11 M allocations: 68.386 MiB, 0.76% gc time)\n"
     ]
    }
   ],
   "source": [
    "t, v, input_spikes = @time sim(p);"
   ]
  },
  {
   "cell_type": "code",
   "execution_count": 97,
   "id": "6a313a5e",
   "metadata": {},
   "outputs": [
    {
     "data": {
      "text/plain": [
       "\u001b[0mComponentVector{Int64}(conn = (exc = [0, 0, 2, 0, 0, 0, 0, 1, 0, 2  …  0, 0, 0, 0, 0, 0, 0, 0, 0, 0], inh = [0, 1, 0, 1, 0, 1, 0, 1, 0, 1  …  0, 1, 0, 0, 1, 2, 0, 1, 1, 0]), unconn = [0, 1, 0, 2, 0, 0, 0, 0, 0, 1  …  0, 0, 0, 0, 0, 2, 0, 0, 0, 1])"
      ]
     },
     "execution_count": 97,
     "metadata": {},
     "output_type": "execute_result"
    }
   ],
   "source": [
    "num_spikes = length.(input_spikes)"
   ]
  },
  {
   "cell_type": "markdown",
   "id": "38eb6b6b",
   "metadata": {},
   "source": [
    "## Plot"
   ]
  },
  {
   "cell_type": "code",
   "execution_count": 75,
   "id": "326bef13",
   "metadata": {},
   "outputs": [],
   "source": [
    "# import PyPlot"
   ]
  },
  {
   "cell_type": "code",
   "execution_count": 76,
   "id": "c5184dfc",
   "metadata": {},
   "outputs": [],
   "source": [
    "# using Sciplotlib"
   ]
  },
  {
   "cell_type": "code",
   "execution_count": 77,
   "id": "2497fa0f",
   "metadata": {},
   "outputs": [],
   "source": [
    "\"\"\" tzoom = [200ms, 600ms] e.g. \"\"\"\n",
    "function plotsig(t, sig, tzoom = nothing)\n",
    "    isnothing(tzoom) && (tzoom = t[[1, end]])\n",
    "    izoom = first(tzoom) .≤ t .≤ last(tzoom)\n",
    "    plot(t[izoom], sig[izoom]; clip_on=false)\n",
    "end;"
   ]
  },
  {
   "cell_type": "code",
   "execution_count": 52,
   "id": "6eb2d121",
   "metadata": {},
   "outputs": [],
   "source": [
    "# plotsig(t, v / mV);"
   ]
  },
  {
   "cell_type": "code",
   "execution_count": 53,
   "id": "abb559f4",
   "metadata": {},
   "outputs": [],
   "source": [
    "# plotsig(t, v / mV, [200ms,400ms]);"
   ]
  }
 ],
 "metadata": {
  "jupytext": {
   "encoding": "# -*- coding: utf-8 -*-",
   "formats": "ipynb,jl:light"
  },
  "kernelspec": {
   "display_name": "Julia 1.7.0",
   "language": "julia",
   "name": "julia-1.7"
  },
  "language_info": {
   "file_extension": ".jl",
   "mimetype": "application/julia",
   "name": "julia",
   "version": "1.7.0"
  },
  "toc": {
   "base_numbering": 1,
   "nav_menu": {},
   "number_sections": false,
   "sideBar": true,
   "skip_h1_title": true,
   "title_cell": "Table of Contents",
   "title_sidebar": "Contents",
   "toc_cell": false,
   "toc_position": {
    "height": "47.7045px",
    "left": "539.182px",
    "top": "0px",
    "width": "212px"
   },
   "toc_section_display": true,
   "toc_window_display": true
  }
 },
 "nbformat": 4,
 "nbformat_minor": 5
}
