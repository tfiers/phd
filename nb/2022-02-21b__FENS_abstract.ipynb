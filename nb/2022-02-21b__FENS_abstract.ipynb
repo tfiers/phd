{
 "cells": [
  {
   "cell_type": "markdown",
   "id": "57ab3994",
   "metadata": {},
   "source": [
    "# 2022-02-21 • FENS 2022 Abstract"
   ]
  },
  {
   "cell_type": "markdown",
   "id": "ba7bbb9e",
   "metadata": {},
   "source": [
    "On this beautiful day of our lordess `22022022` (ddmmyyy)."
   ]
  },
  {
   "cell_type": "markdown",
   "id": "2386475e",
   "metadata": {},
   "source": [
    "As usually, the reusable code of the previous notebook \n",
    "has been added in [`pkg/VoltageToMap/src/`](https://github.com/tfiers/voltage-to-wiring-sim/tree/main/pkg/VoltageToMap/src),\n",
    "and is imported below."
   ]
  },
  {
   "cell_type": "markdown",
   "id": "c99fa4fd",
   "metadata": {},
   "source": [
    "## Setup"
   ]
  },
  {
   "cell_type": "code",
   "execution_count": 1,
   "id": "799a518e",
   "metadata": {},
   "outputs": [],
   "source": [
    "# "
   ]
  },
  {
   "cell_type": "code",
   "execution_count": 2,
   "id": "fcdca583",
   "metadata": {},
   "outputs": [],
   "source": [
    "using Revise  # Reloads src code without having to restart kernel"
   ]
  },
  {
   "cell_type": "code",
   "execution_count": 3,
   "id": "3a016087",
   "metadata": {},
   "outputs": [],
   "source": [
    "using MyToolbox"
   ]
  },
  {
   "cell_type": "code",
   "execution_count": 4,
   "id": "ba1f0cec",
   "metadata": {},
   "outputs": [],
   "source": [
    "using VoltageToMap"
   ]
  },
  {
   "cell_type": "markdown",
   "id": "2d2f3089",
   "metadata": {
    "lines_to_next_cell": 2
   },
   "source": [
    "## Params & sim"
   ]
  },
  {
   "cell_type": "markdown",
   "id": "ec1f2151",
   "metadata": {},
   "source": [
    "Short warm-up run. Get compilation out of the way."
   ]
  },
  {
   "cell_type": "code",
   "execution_count": 5,
   "id": "964763e1",
   "metadata": {},
   "outputs": [],
   "source": [
    "p0 = SimParams(\n",
    "    poisson_input = small_N__as_in_Python_2021,\n",
    "    sim_duration  = 1 * minutes,\n",
    ");"
   ]
  },
  {
   "cell_type": "code",
   "execution_count": 6,
   "id": "d6ba08db",
   "metadata": {},
   "outputs": [
    {
     "name": "stdout",
     "output_type": "stream",
     "text": [
      "\u001b[32mProgress: 100%|█████████████████████████████████████████| Time: 0:00:01\u001b[39m\n",
      "  3.767235 seconds (8.85 M allocations: 569.595 MiB, 5.44% gc time, 94.34% compilation time)\n"
     ]
    }
   ],
   "source": [
    "@time sim(p0);"
   ]
  },
  {
   "cell_type": "code",
   "execution_count": 7,
   "id": "8c75bb76",
   "metadata": {},
   "outputs": [
    {
     "name": "stdout",
     "output_type": "stream",
     "text": [
      "\u001b[90mSimParams\u001b[39m\n",
      "  sim_duration: \u001b[94m600.0\u001b[39m\n",
      "  Δt: \u001b[94m0.0001\u001b[39m\n",
      "  num_timesteps: \u001b[94m6000000\u001b[39m\n",
      "  poisson_input: \u001b[90mPoissonInputParams\u001b[39m\n",
      "    N_unconn: \u001b[94m100\u001b[39m\n",
      "    N_exc: \u001b[94m5200\u001b[39m\n",
      "    N_inh: \u001b[94m1300\u001b[39m\n",
      "    N_conn: \u001b[94m6500\u001b[39m\n",
      "    N: \u001b[94m6600\u001b[39m\n",
      "    spike_rate: \u001b[90mLogNormal\u001b[39m\n",
      "      μ: \u001b[94m1.08629\u001b[39m\n",
      "      σ: \u001b[94m0.774597\u001b[39m\n",
      "  synapses: \u001b[90mSynapseParams\u001b[39m\n",
      "    g_t0: \u001b[94m0.0\u001b[39m\n",
      "    τ_s: \u001b[94m0.007\u001b[39m\n",
      "    E_exc: \u001b[94m0.0\u001b[39m\n",
      "    E_inh: \u001b[94m-0.065\u001b[39m\n",
      "    Δg_exc: \u001b[94m4.0e-10\u001b[39m\n",
      "    Δg_inh: \u001b[94m1.6e-9\u001b[39m\n",
      "  izh_neuron: \u001b[90mIzhNeuronParams\u001b[39m\n",
      "    C: \u001b[94m1.0e-10\u001b[39m\n",
      "    k: \u001b[94m7.0e-7\u001b[39m\n",
      "    vr: \u001b[94m-0.06\u001b[39m\n",
      "    vt: \u001b[94m-0.04\u001b[39m\n",
      "    a: \u001b[94m30.0\u001b[39m\n",
      "    b: \u001b[94m-2.0e-9\u001b[39m\n",
      "    v_peak: \u001b[94m0.035\u001b[39m\n",
      "    v_reset: \u001b[94m-0.05\u001b[39m\n",
      "    Δu: \u001b[94m1.0e-10\u001b[39m\n",
      "    v_t0: \u001b[94m-0.06\u001b[39m\n",
      "    u_t0: \u001b[94m0.0\u001b[39m\n",
      "  Δg_multiplier: \u001b[94m0.066\u001b[39m\n",
      "  seed: \u001b[94m2022\u001b[39m\n"
     ]
    }
   ],
   "source": [
    "p = SimParams(\n",
    "    poisson_input = realistic_input,\n",
    "    sim_duration  = 10*minutes,\n",
    "    Δg_multiplier = 0.066,\n",
    ")\n",
    "dumpc(p)"
   ]
  },
  {
   "cell_type": "code",
   "execution_count": 8,
   "id": "d2d5a32c",
   "metadata": {},
   "outputs": [
    {
     "name": "stderr",
     "output_type": "stream",
     "text": [
      "\u001b[32mProgress: 100%|█████████████████████████████████████████| Time: 0:02:51\u001b[39mmmm9mmmm9mmmmm\n"
     ]
    },
    {
     "name": "stdout",
     "output_type": "stream",
     "text": [
      "173.195922 seconds (24.14 M allocations: 2.302 GiB, 0.28% gc time, 1.40% compilation time)\n"
     ]
    }
   ],
   "source": [
    "t, v, input_spikes = @time sim(p);"
   ]
  },
  {
   "cell_type": "code",
   "execution_count": 9,
   "id": "3869ed32",
   "metadata": {},
   "outputs": [
    {
     "data": {
      "text/plain": [
       "\u001b[0mComponentVector{Int64}(conn = (exc = [931, 526, 658, 1256, 1091, 381, 622, 356, 877, 854  …  1133, 621, 575, 861, 717, 654, 887, 1198, 849, 895], inh = [887, 898, 816, 637, 1227, 1076, 1096, 634, 538, 518  …  569, 1182, 721, 882, 1271, 984, 793, 769, 333, 1259]), unconn = [1404, 881, 992, 1227, 951, 632, 1242, 1004, 810, 716  …  518, 309, 1253, 617, 1221, 646, 1502, 1047, 693, 586])"
      ]
     },
     "execution_count": 9,
     "metadata": {},
     "output_type": "execute_result"
    }
   ],
   "source": [
    "num_spikes = length.(input_spikes)"
   ]
  },
  {
   "cell_type": "markdown",
   "id": "38eb6b6b",
   "metadata": {},
   "source": [
    "## Plot"
   ]
  },
  {
   "cell_type": "code",
   "execution_count": 14,
   "id": "326bef13",
   "metadata": {},
   "outputs": [],
   "source": [
    "import PyPlot\n",
    "using Sciplotlib"
   ]
  },
  {
   "cell_type": "code",
   "execution_count": 15,
   "id": "2497fa0f",
   "metadata": {},
   "outputs": [],
   "source": [
    "\"\"\" tzoom = [200ms, 600ms] e.g. \"\"\"\n",
    "function plotsig(t, sig, tzoom = nothing; ax = nothing, clip_on=false, kw...)\n",
    "    isnothing(tzoom) && (tzoom = t[[1, end]])\n",
    "    izoom = first(tzoom) .≤ t .≤ last(tzoom)\n",
    "    if isnothing(ax)\n",
    "        plot(t[izoom], sig[izoom]; clip_on, kw...)\n",
    "    else\n",
    "        plot(t[izoom], sig[izoom], ax; clip_on, kw...)\n",
    "    end\n",
    "end;"
   ]
  },
  {
   "cell_type": "code",
   "execution_count": null,
   "id": "119b6ea5",
   "metadata": {},
   "outputs": [],
   "source": [
    "plotsig(t, v/mV, [0s, 4seconds], xlabel=\"Time (s)\", hylabel=\"mV\");"
   ]
  },
  {
   "cell_type": "markdown",
   "id": "e036ad01",
   "metadata": {},
   "source": [
    "## Imaging noise"
   ]
  },
  {
   "cell_type": "code",
   "execution_count": 20,
   "id": "2015ba43",
   "metadata": {},
   "outputs": [],
   "source": [
    "izh_params = cortical_RS\n",
    "\n",
    "imaging_spike_SNR  #=::Float64=#  = 20\n",
    "spike_height       #=::Float64=#  = izh_params.v_peak - izh_params.vr\n",
    "σ_noise            #=::Float64=#  = spike_height / imaging_spike_SNR;"
   ]
  },
  {
   "cell_type": "code",
   "execution_count": 21,
   "id": "5fe0b189",
   "metadata": {},
   "outputs": [],
   "source": [
    "noise = randn(length(v)) * σ_noise\n",
    "vimsig = v + noise;"
   ]
  },
  {
   "cell_type": "code",
   "execution_count": null,
   "id": "abb559f4",
   "metadata": {
    "scrolled": true
   },
   "outputs": [],
   "source": [
    "ax = plotsig(t, vimsig / mV, [200ms,1200ms], xlabel=\"Time (s)\", hylabel=\"mV\", alpha=0.7);\n",
    "plotsig(t, v / mV, [200ms,1200ms], xlabel=\"Time (s)\", hylabel=\"mV\"; ax);"
   ]
  },
  {
   "cell_type": "markdown",
   "id": "b1fc3596",
   "metadata": {},
   "source": [
    "## Window"
   ]
  },
  {
   "cell_type": "code",
   "execution_count": 23,
   "id": "36716832",
   "metadata": {},
   "outputs": [],
   "source": [
    "window_duration    #=::Float64=#  = 100 * ms;"
   ]
  },
  {
   "cell_type": "code",
   "execution_count": 24,
   "id": "55025dae",
   "metadata": {},
   "outputs": [],
   "source": [
    "const Δt = p.Δt\n",
    "const win_size = round(Int, window_duration / Δt)\n",
    "const t_win = linspace(zero(window_duration), window_duration, win_size)\n",
    "\n",
    "function calc_STA(presynaptic_spikes)\n",
    "    STA = zeros(eltype(vimsig), win_size)\n",
    "    win_starts = round.(Int, presynaptic_spikes / Δt)\n",
    "    num_wins = 0\n",
    "    for a in win_starts\n",
    "        b = a + win_size - 1\n",
    "        if b ≤ lastindex(vimsig)\n",
    "            STA .+= @view vimsig[a:b]\n",
    "            num_wins += 1\n",
    "        end\n",
    "    end\n",
    "    STA ./= num_wins\n",
    "    return STA\n",
    "end;"
   ]
  },
  {
   "cell_type": "code",
   "execution_count": 25,
   "id": "d666973e",
   "metadata": {},
   "outputs": [],
   "source": [
    "function plotSTA(presynspikes)\n",
    "    STA = calc_STA(presynspikes)\n",
    "    plot(t_win/ms, STA/mV)\n",
    "end;"
   ]
  },
  {
   "cell_type": "code",
   "execution_count": null,
   "id": "9d6b31f5",
   "metadata": {},
   "outputs": [],
   "source": [
    "presynspikes = input_spikes.conn.exc[44]\n",
    "plotSTA(presynspikes);"
   ]
  },
  {
   "cell_type": "markdown",
   "id": "1bd9f2d2",
   "metadata": {},
   "source": [
    "## Test connection"
   ]
  },
  {
   "cell_type": "code",
   "execution_count": 27,
   "id": "0afe9418",
   "metadata": {},
   "outputs": [],
   "source": [
    "num_shuffles       #=::Int    =#  = 100;"
   ]
  },
  {
   "cell_type": "code",
   "execution_count": 28,
   "id": "94cfab6e",
   "metadata": {},
   "outputs": [
    {
     "data": {
      "text/plain": [
       "true"
      ]
     },
     "execution_count": 28,
     "metadata": {},
     "output_type": "execute_result"
    }
   ],
   "source": [
    "to_ISIs(spiketimes) = [first(spiketimes); diff(spiketimes)]  # copying\n",
    "to_spiketimes!(ISIs) = cumsum!(ISIs, ISIs)                   # in place\n",
    "\n",
    "(presynspikes |> to_ISIs |> to_spiketimes!) ≈ presynspikes   # test"
   ]
  },
  {
   "cell_type": "code",
   "execution_count": 29,
   "id": "ba58cff4",
   "metadata": {},
   "outputs": [],
   "source": [
    "shuffle_ISIs(spiketimes) = to_spiketimes!(shuffle!(to_ISIs(spiketimes)));"
   ]
  },
  {
   "cell_type": "code",
   "execution_count": 30,
   "id": "e34f859d",
   "metadata": {},
   "outputs": [],
   "source": [
    "test_statistic(spiketimes) = spiketimes |> calc_STA |> mean;"
   ]
  },
  {
   "cell_type": "markdown",
   "id": "7879be96",
   "metadata": {},
   "source": [
    "Note difference with 2021: there it was peak-to-peak (max - min). Here it is mean."
   ]
  },
  {
   "cell_type": "code",
   "execution_count": 31,
   "id": "642b4962",
   "metadata": {},
   "outputs": [],
   "source": [
    "function test_connection(presynspikes)\n",
    "    real_t = test_statistic(presynspikes)\n",
    "    shuffled_t = Vector{typeof(real_t)}(undef, num_shuffles)\n",
    "    for i in eachindex(shuffled_t)\n",
    "        shuffled_t[i] = test_statistic(shuffle_ISIs(presynspikes))\n",
    "    end\n",
    "    N_shuffled_larger = count(shuffled_t .> real_t)\n",
    "    return if N_shuffled_larger == 0\n",
    "        p_value = 1 / num_shuffles\n",
    "    else\n",
    "        p_value = N_shuffled_larger / num_shuffles\n",
    "    end\n",
    "end;"
   ]
  },
  {
   "cell_type": "markdown",
   "id": "524c9fc7",
   "metadata": {},
   "source": [
    "## Results"
   ]
  },
  {
   "cell_type": "code",
   "execution_count": 34,
   "id": "9a3d981e",
   "metadata": {},
   "outputs": [],
   "source": [
    "resetrng!(20220222);"
   ]
  },
  {
   "cell_type": "code",
   "execution_count": 35,
   "id": "f5bc531b",
   "metadata": {},
   "outputs": [
    {
     "name": "stdout",
     "output_type": "stream",
     "text": [
      "Average p(shuffled trains with higher mean).\n",
      "(N = 40 input spike trains per category)\n",
      "........................................  excitatory: 0.416\n",
      "........................................  inhibitory: 0.716\n",
      "........................................ unconnected: 0.508\n"
     ]
    }
   ],
   "source": [
    "num_trains = 40\n",
    "println(\"Average p(shuffled trains with higher STA mean).\")\n",
    "println(\"(N = $(num_trains) input spike trains per category)\")\n",
    "\n",
    "p_exc    = Float64[]\n",
    "p_inh    = Float64[]\n",
    "p_unconn = Float64[]\n",
    "\n",
    "for (groupname, spiketrains, pvals) in (\n",
    "        (\"excitatory\",    input_spikes.conn.exc, p_exc),\n",
    "        (\"inhibitory\",    input_spikes.conn.inh, p_inh),\n",
    "        (\"unconnected\",   input_spikes.unconn, p_unconn),\n",
    "    )\n",
    "    for spiketrain in spiketrains[1:num_trains]\n",
    "        push!(pvals, test_connection(spiketrain))\n",
    "        print(\".\"); flush(stdout)\n",
    "    end\n",
    "    @printf \"%12s: %.3g\\n\" groupname mean(pvals)\n",
    "end"
   ]
  },
  {
   "cell_type": "code",
   "execution_count": null,
   "id": "b1b53088",
   "metadata": {},
   "outputs": [],
   "source": [
    "fig, ax = plt.subplots(figsize=(3.4,3))\n",
    "function plotdot(y, x, c, jitter=0.28)\n",
    "    N = length(y)\n",
    "    x -= 0.35\n",
    "    plot(x*ones(N) + (rand(N).-0.5)*jitter, y, \"o\", color=c, ms=4.2, markerfacecolor=\"none\", clip_on=false)\n",
    "    plot(x+0.35, mean(y), \"k.\", ms=10)\n",
    "end\n",
    "plotdot(p_exc,    1, \"C2\"); ax.text(1-0.16, -0.1, \"excitatory\"; color=\"C2\", ha=\"center\")\n",
    "plotdot(p_unconn, 2, \"C0\"); ax.text(2-0.16, -0.1, \"unconnected\"; color=\"C0\", ha=\"center\")\n",
    "plotdot(p_inh,    3, \"C1\"); ax.text(3-0.16, -0.1, \"inhibitory\"; color=\"C1\", ha=\"center\")\n",
    "ax.boxplot([p_exc, p_unconn, p_inh], widths=0.2, medianprops=Dict(\"color\"=>\"black\"))\n",
    "set(ax, xlim=(0.33, 3.3), ylim=(0, 1), xaxis=:off)\n",
    "hylabel(ax, L\"p(\\, \\mathrm{shuffled\\ \\overline{STA}} \\ > \\ \\mathrm{actual\\ \\overline{STA}}\\, )\"; dy=10);"
   ]
  },
  {
   "cell_type": "markdown",
   "id": "ea262633",
   "metadata": {},
   "source": [
    "Proportion of shuffled spike trains for which `mean(STA)` is higher than the unshuffled spike train.\n",
    "\n",
    "Excitatory (green), unconnected (blue), and inhibitory (orange) input neurons.\n",
    "\n",
    "\n",
    "10-minute simulation with a total of 6500 connected input neurons."
   ]
  }
 ],
 "metadata": {
  "jupytext": {
   "encoding": "# -*- coding: utf-8 -*-",
   "formats": "ipynb,jl:light"
  },
  "kernelspec": {
   "display_name": "Julia 1.7.0",
   "language": "julia",
   "name": "julia-1.7"
  },
  "language_info": {
   "file_extension": ".jl",
   "mimetype": "application/julia",
   "name": "julia",
   "version": "1.7.0"
  },
  "toc": {
   "base_numbering": 1,
   "nav_menu": {},
   "number_sections": false,
   "sideBar": true,
   "skip_h1_title": true,
   "title_cell": "Table of Contents",
   "title_sidebar": "Contents",
   "toc_cell": false,
   "toc_position": {
    "height": "47.7045px",
    "left": "539.182px",
    "top": "0px",
    "width": "212px"
   },
   "toc_section_display": true,
   "toc_window_display": true
  }
 },
 "nbformat": 4,
 "nbformat_minor": 5
}
