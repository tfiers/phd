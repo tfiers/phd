{
 "cells": [
  {
   "cell_type": "markdown",
   "id": "57ab3994",
   "metadata": {},
   "source": [
    "# 2022-05-02• STA mean vs peak-to-peak"
   ]
  },
  {
   "cell_type": "markdown",
   "id": "0cd4a6e8",
   "metadata": {},
   "source": [
    "Peak-to-peak cannot distinguish excitatory vs inhibitory (it's just the height of the bump -- no matter whether it's upwards or downwards).\n",
    "\n",
    "To do that, we might instead use sth like \"either max-median or min-median, whatever's largest in absolute terms\".\n",
    "\n",
    "For now we don't try to detect this difference, and 'cheat' in our code (special-case the inhibitory / ptp case when comparing p-values with α)."
   ]
  },
  {
   "cell_type": "markdown",
   "id": "c99fa4fd",
   "metadata": {},
   "source": [
    "## Setup"
   ]
  },
  {
   "cell_type": "code",
   "execution_count": 1,
   "id": "799a518e",
   "metadata": {},
   "outputs": [],
   "source": [
    "#"
   ]
  },
  {
   "cell_type": "code",
   "execution_count": 2,
   "id": "fcdca583",
   "metadata": {},
   "outputs": [],
   "source": [
    "using Revise"
   ]
  },
  {
   "cell_type": "code",
   "execution_count": 3,
   "id": "3a016087",
   "metadata": {},
   "outputs": [],
   "source": [
    "using MyToolbox"
   ]
  },
  {
   "cell_type": "code",
   "execution_count": 4,
   "id": "ba1f0cec",
   "metadata": {},
   "outputs": [
    {
     "name": "stdout",
     "output_type": "stream",
     "text": [
      "\u001b[36m\u001b[1m[ \u001b[22m\u001b[39m\u001b[36m\u001b[1mInfo: \u001b[22m\u001b[39mPrecompiling VoltageToMap [b3b8fdc5-3c26-4000-a0c8-f17415fdf48e]\n"
     ]
    }
   ],
   "source": [
    "using VoltageToMap"
   ]
  },
  {
   "cell_type": "code",
   "execution_count": 5,
   "id": "20315df1",
   "metadata": {},
   "outputs": [
    {
     "name": "stdout",
     "output_type": "stream",
     "text": [
      "\u001b[36m\u001b[1m[ \u001b[22m\u001b[39m\u001b[36m\u001b[1mInfo: \u001b[22m\u001b[39mPrecompiling Sciplotlib [61be95e5-9550-4d5f-a203-92a5acbc3116]\n"
     ]
    }
   ],
   "source": [
    "using PyPlot\n",
    "using VoltageToMap.Plot"
   ]
  },
  {
   "cell_type": "markdown",
   "id": "4696dbcf",
   "metadata": {},
   "source": [
    "## Params"
   ]
  },
  {
   "cell_type": "code",
   "execution_count": 6,
   "id": "abb32120",
   "metadata": {},
   "outputs": [],
   "source": [
    "N_excs = [\n",
    "    4,   # => N_inh = 1\n",
    "    17,  # Same as in `previous_N_30_input`.\n",
    "    80,\n",
    "    320,\n",
    "    1280,\n",
    "    5200,  \n",
    "];"
   ]
  },
  {
   "cell_type": "code",
   "execution_count": 7,
   "id": "1fb98a0b",
   "metadata": {},
   "outputs": [],
   "source": [
    "rngseeds = [0, 1, 2, 3, 4];"
   ]
  },
  {
   "cell_type": "code",
   "execution_count": 30,
   "id": "59d76ad3",
   "metadata": {
    "scrolled": true
   },
   "outputs": [],
   "source": [
    "get_params((N_exc, rngseed, STA_test_statistic)) = ExperimentParams(\n",
    "    sim = SimParams(\n",
    "        duration = 10 * minutes,\n",
    "        imaging = get_VI_params_for(cortical_RS, spike_SNR = Inf),\n",
    "        input = PoissonInputParams(; N_exc);\n",
    "        rngseed,\n",
    "    ),\n",
    "    conntest = ConnTestParams(; STA_test_statistic, rngseed);\n",
    "    evaluation = EvaluationParams(; rngseed)\n",
    ");"
   ]
  },
  {
   "cell_type": "code",
   "execution_count": 31,
   "id": "39d604cb",
   "metadata": {},
   "outputs": [
    {
     "data": {
      "text/plain": [
       "6×5×2 Array{Tuple{Int64, Int64, String}, 3}:\n",
       "[:, :, 1] =\n",
       " (4, 0, \"ptp\")     (4, 1, \"ptp\")     …  (4, 3, \"ptp\")     (4, 4, \"ptp\")\n",
       " (17, 0, \"ptp\")    (17, 1, \"ptp\")       (17, 3, \"ptp\")    (17, 4, \"ptp\")\n",
       " (80, 0, \"ptp\")    (80, 1, \"ptp\")       (80, 3, \"ptp\")    (80, 4, \"ptp\")\n",
       " (320, 0, \"ptp\")   (320, 1, \"ptp\")      (320, 3, \"ptp\")   (320, 4, \"ptp\")\n",
       " (1280, 0, \"ptp\")  (1280, 1, \"ptp\")     (1280, 3, \"ptp\")  (1280, 4, \"ptp\")\n",
       " (5200, 0, \"ptp\")  (5200, 1, \"ptp\")  …  (5200, 3, \"ptp\")  (5200, 4, \"ptp\")\n",
       "\n",
       "[:, :, 2] =\n",
       " (4, 0, \"mean\")     (4, 1, \"mean\")     …  (4, 4, \"mean\")\n",
       " (17, 0, \"mean\")    (17, 1, \"mean\")       (17, 4, \"mean\")\n",
       " (80, 0, \"mean\")    (80, 1, \"mean\")       (80, 4, \"mean\")\n",
       " (320, 0, \"mean\")   (320, 1, \"mean\")      (320, 4, \"mean\")\n",
       " (1280, 0, \"mean\")  (1280, 1, \"mean\")     (1280, 4, \"mean\")\n",
       " (5200, 0, \"mean\")  (5200, 1, \"mean\")  …  (5200, 4, \"mean\")"
      ]
     },
     "execution_count": 31,
     "metadata": {},
     "output_type": "execute_result"
    }
   ],
   "source": [
    "variableparams = collect(product(N_excs, rngseeds, [\"ptp\", \"mean\"]))"
   ]
  },
  {
   "cell_type": "code",
   "execution_count": 32,
   "id": "5afd4a1a",
   "metadata": {
    "scrolled": true
   },
   "outputs": [
    {
     "name": "stdout",
     "output_type": "stream",
     "text": [
      "6×5×2 Array{ExperimentParams, 3}"
     ]
    }
   ],
   "source": [
    "paramsets = get_params.(variableparams);\n",
    "print(summary(paramsets))"
   ]
  },
  {
   "cell_type": "code",
   "execution_count": 33,
   "id": "636b0fb4",
   "metadata": {
    "scrolled": true
   },
   "outputs": [
    {
     "name": "stdout",
     "output_type": "stream",
     "text": [
      "\u001b[90mExperimentParams\u001b[39m\n",
      "  sim: \u001b[90mSimParams\u001b[39m\n",
      "    duration: \u001b[94m600.0\u001b[39m\n",
      "    Δt: \u001b[94m0.0001\u001b[39m\n",
      "    num_timesteps: \u001b[94m6000000\u001b[39m\n",
      "    rngseed: \u001b[94m0\u001b[39m\n",
      "    input: \u001b[90mPoissonInputParams\u001b[39m\n",
      "      N_unconn: \u001b[94m100\u001b[39m\n",
      "      N_exc: \u001b[94m4\u001b[39m\n",
      "      N_inh: \u001b[94m1\u001b[39m\n",
      "      N_conn: \u001b[94m5\u001b[39m\n",
      "      N: \u001b[94m105\u001b[39m\n",
      "      spike_rates: \u001b[90mLogNormal\u001b[39m\n",
      "        μ: \u001b[94m1.08629\u001b[39m\n",
      "        σ: \u001b[94m0.774597\u001b[39m\n",
      "    synapses: \u001b[90mSynapseParams\u001b[39m\n",
      "      avg_stim_rate_exc: \u001b[94m1.0e-10\u001b[39m\n",
      "      avg_stim_rate_inh: \u001b[94m4.0e-10\u001b[39m\n",
      "      E_exc: \u001b[94m0.0\u001b[39m\n",
      "      E_inh: \u001b[94m-0.065\u001b[39m\n",
      "      g_t0: \u001b[94m0.0\u001b[39m\n",
      "      τ: \u001b[94m0.007\u001b[39m\n",
      "    izh_neuron: \u001b[90mIzhikevichParams\u001b[39m\n",
      "      C: \u001b[94m1.0e-10\u001b[39m\n",
      "      k: \u001b[94m7.0e-7\u001b[39m\n",
      "      v_rest: \u001b[94m-0.06\u001b[39m\n",
      "      v_thr: \u001b[94m-0.04\u001b[39m\n",
      "      a: \u001b[94m30.0\u001b[39m\n",
      "      b: \u001b[94m-2.0e-9\u001b[39m\n",
      "      v_peak: \u001b[94m0.035\u001b[39m\n",
      "      v_reset: \u001b[94m-0.05\u001b[39m\n",
      "      Δu: \u001b[94m1.0e-10\u001b[39m\n",
      "      v_t0: \u001b[94m-0.06\u001b[39m\n",
      "      u_t0: \u001b[94m0.0\u001b[39m\n",
      "    imaging: \u001b[90mVoltageImagingParams\u001b[39m\n",
      "      spike_SNR: \u001b[94mInf\u001b[39m\n",
      "      spike_SNR_dB: \u001b[94mInf\u001b[39m\n",
      "      spike_height: \u001b[94m0.095\u001b[39m\n",
      "      σ_noise: \u001b[94m0.0\u001b[39m\n",
      "  conntest: \u001b[90mConnTestParams\u001b[39m\n",
      "    STA_window_length: \u001b[94m0.1\u001b[39m\n",
      "    num_shuffles: \u001b[94m100\u001b[39m\n",
      "    STA_test_statistic: \u001b[94mptp\u001b[39m\n",
      "    rngseed: \u001b[94m0\u001b[39m\n",
      "  evaluation: \u001b[90mEvaluationParams\u001b[39m\n",
      "    α: \u001b[94m0.05\u001b[39m\n",
      "    num_tested_neurons_per_group: \u001b[94m40\u001b[39m\n",
      "    rngseed: \u001b[94m0\u001b[39m\n"
     ]
    }
   ],
   "source": [
    "dumps(paramsets[1])"
   ]
  },
  {
   "cell_type": "markdown",
   "id": "d55915e0",
   "metadata": {},
   "source": [
    "## Run"
   ]
  },
  {
   "cell_type": "code",
   "execution_count": null,
   "id": "afef0b20",
   "metadata": {
    "scrolled": true
   },
   "outputs": [
    {
     "name": "stdout",
     "output_type": "stream",
     "text": [
      "(N_exc = 4, seed = 0, STA_test_statistic = \"ptp\") 1c6eb51735c61aa7.jld2\n",
      "(N_exc = 17, seed = 0, STA_test_statistic = \"ptp\") 84d27a020097a66c.jld2\n",
      "(N_exc = 80, seed = 0, STA_test_statistic = \"ptp\") 4f790c694d38d1ea.jld2\n",
      "(N_exc = 320, seed = 0, STA_test_statistic = \"ptp\") 12abb647d0323d89.jld2\n",
      "(N_exc = 1280, seed = 0, STA_test_statistic = \"ptp\") da749dd4f62b2c79.jld2\n",
      "(N_exc = 5200, seed = 0, STA_test_statistic = \"ptp\") 8d7b02d80d95564a.jld2\n",
      "(N_exc = 4, seed = 1, STA_test_statistic = \"ptp\") a4336b934de51319.jld2\n",
      "(N_exc = 17, seed = 1, STA_test_statistic = \"ptp\") bd9d2af9ae7399e7.jld2\n",
      "(N_exc = 80, seed = 1, STA_test_statistic = \"ptp\") 1b7dbae8b12724a9.jld2\n",
      "(N_exc = 320, seed = 1, STA_test_statistic = \"ptp\") 24eed4ff47bd2d9c.jld2\n",
      "(N_exc = 1280, seed = 1, STA_test_statistic = \"ptp\") bb7c4b6a0bafba5b.jld2\n",
      "(N_exc = 5200, seed = 1, STA_test_statistic = \"ptp\") 646d120436b18997.jld2\n",
      "(N_exc = 4, seed = 2, STA_test_statistic = \"ptp\") 389be050ca350439.jld2\n",
      "(N_exc = 17, seed = 2, STA_test_statistic = \"ptp\") 94c9a1583b31c3be.jld2\n",
      "(N_exc = 80, seed = 2, STA_test_statistic = \"ptp\") 53e941a41b28160.jld2\n",
      "(N_exc = 320, seed = 2, STA_test_statistic = \"ptp\") d10f806866bfbeb9.jld2\n",
      "(N_exc = 1280, seed = 2, STA_test_statistic = \"ptp\") 4c0a94fe429060d9.jld2\n",
      "(N_exc = 5200, seed = 2, STA_test_statistic = \"ptp\") 6dbf4ab9e8c19aa9.jld2\n",
      "(N_exc = 4, seed = 3, STA_test_statistic = \"ptp\") c46086d53caad71a.jld2\n",
      "(N_exc = 17, seed = 3, STA_test_statistic = \"ptp\") 73ea57aca6c97a03.jld2\n",
      "(N_exc = 80, seed = 3, STA_test_statistic = \"ptp\") ec69132cda395530.jld2\n",
      "(N_exc = 320, seed = 3, STA_test_statistic = \"ptp\") 1a08686771529f42.jld2\n",
      "(N_exc = 1280, seed = 3, STA_test_statistic = \"ptp\") 3280023361bf8411.jld2\n",
      "(N_exc = 5200, seed = 3, STA_test_statistic = \"ptp\") 4d82d214911f5f7a.jld2\n",
      "(N_exc = 4, seed = 4, STA_test_statistic = \"ptp\") 1a608aab98540cf5.jld2\n",
      "(N_exc = 17, seed = 4, STA_test_statistic = \"ptp\") 3f348a4118c4e31d.jld2\n",
      "(N_exc = 80, seed = 4, STA_test_statistic = \"ptp\") 4cb48bd54ad76bc6.jld2\n",
      "(N_exc = 320, seed = 4, STA_test_statistic = \"ptp\") 1477a19230cda77f.jld2\n",
      "(N_exc = 1280, seed = 4, STA_test_statistic = \"ptp\") eaec7a3177106c81.jld2\n",
      "(N_exc = 5200, seed = 4, STA_test_statistic = \"ptp\") 844b122c19d1454e.jld2\n",
      "(N_exc = 4, seed = 0, STA_test_statistic = \"mean\") 98aef5906551158d.jld2\n",
      "\u001b[32mTesting connections: 100%|██████████████████████████████| Time: 0:00:06\u001b[39m\n",
      "Saving output at `C:\\Users\\tfiers\\.phdcache\\sim_and_eval\\98aef5906551158d.jld2` …  done\n",
      "(N_exc = 17, seed = 0, STA_test_statistic = \"mean\") e09505929902859.jld2\n",
      "\u001b[32mTesting connections: 100%|██████████████████████████████| Time: 0:00:08\u001b[39m\n",
      "Saving output at `C:\\Users\\tfiers\\.phdcache\\sim_and_eval\\e09505929902859.jld2` …  done\n",
      "(N_exc = 80, seed = 0, STA_test_statistic = \"mean\") e5a08f23a78d9b89.jld2\n",
      "\u001b[32mTesting connections: 100%|██████████████████████████████| Time: 0:00:16\u001b[39m\n",
      "Saving output at `C:\\Users\\tfiers\\.phdcache\\sim_and_eval\\e5a08f23a78d9b89.jld2` …  done\n",
      "(N_exc = 320, seed = 0, STA_test_statistic = \"mean\") 86a16c083878a331.jld2\n",
      "\u001b[32mTesting connections: 100%|██████████████████████████████| Time: 0:00:18\u001b[39m\n",
      "Saving output at `C:\\Users\\tfiers\\.phdcache\\sim_and_eval\\86a16c083878a331.jld2` …  done\n",
      "(N_exc = 1280, seed = 0, STA_test_statistic = \"mean\") 87cc4349a8c01a11.jld2\n",
      "\u001b[32mTesting connections: 100%|██████████████████████████████| Time: 0:00:17\u001b[39m\n",
      "Saving output at `C:\\Users\\tfiers\\.phdcache\\sim_and_eval\\87cc4349a8c01a11.jld2` …  done\n",
      "(N_exc = 5200, seed = 0, STA_test_statistic = \"mean\") ad13ac4c291710c8.jld2\n",
      "\u001b[32mTesting connections: 100%|██████████████████████████████| Time: 0:00:09\u001b[39m\n",
      "Saving output at `C:\\Users\\tfiers\\.phdcache\\sim_and_eval\\ad13ac4c291710c8.jld2` …  done\n",
      "(N_exc = 4, seed = 1, STA_test_statistic = \"mean\") 71c47a42b41f287c.jld2\n",
      "\u001b[32mTesting connections: 100%|██████████████████████████████| Time: 0:00:08\u001b[39m\n",
      "Saving output at `C:\\Users\\tfiers\\.phdcache\\sim_and_eval\\71c47a42b41f287c.jld2` …  done\n",
      "(N_exc = 17, seed = 1, STA_test_statistic = \"mean\") 5004b53633e05b74.jld2\n",
      "\u001b[32mTesting connections: 100%|██████████████████████████████| Time: 0:00:09\u001b[39m\n",
      "Saving output at `C:\\Users\\tfiers\\.phdcache\\sim_and_eval\\5004b53633e05b74.jld2` …  done\n",
      "(N_exc = 80, seed = 1, STA_test_statistic = \"mean\") b7e1ee8a5f6f30c1.jld2\n",
      "\u001b[32mTesting connections: 100%|██████████████████████████████| Time: 0:00:16\u001b[39m\n",
      "Saving output at `C:\\Users\\tfiers\\.phdcache\\sim_and_eval\\b7e1ee8a5f6f30c1.jld2` …  done\n",
      "(N_exc = 320, seed = 1, STA_test_statistic = \"mean\") e07c59946213733.jld2\n",
      "\u001b[32mTesting connections: 100%|██████████████████████████████| Time: 0:00:23\u001b[39m\n",
      "Saving output at `C:\\Users\\tfiers\\.phdcache\\sim_and_eval\\e07c59946213733.jld2` …  done\n",
      "(N_exc = 1280, seed = 1, STA_test_statistic = \"mean\") 283e7407b07aa4ea.jld2\n",
      "\u001b[32mTesting connections: 100%|██████████████████████████████| Time: 0:00:19\u001b[39m\n",
      "Saving output at `C:\\Users\\tfiers\\.phdcache\\sim_and_eval\\283e7407b07aa4ea.jld2`"
     ]
    }
   ],
   "source": [
    "perfs = similar(paramsets, NamedTuple)\n",
    "for i in eachindex(paramsets)\n",
    "    (N_exc, seed, STA_test_statistic) = variableparams[i]\n",
    "    paramset = paramsets[i]\n",
    "    println((; N_exc, seed, STA_test_statistic), \" \", cachefilename(paramset))\n",
    "    perf = cached(sim_and_eval, [paramset])\n",
    "    perfs[i] = perf\n",
    "end"
   ]
  },
  {
   "cell_type": "markdown",
   "id": "2c58c5a6",
   "metadata": {},
   "source": [
    "- `sim` cache (10' x 6 N x 4 seeds): 3GB\n",
    "    - 95 à 142MB per 10' sim\n",
    "- `perf` cache: 0.3MB -- so that could go in git"
   ]
  },
  {
   "cell_type": "code",
   "execution_count": 13,
   "id": "53f7c2c4",
   "metadata": {},
   "outputs": [
    {
     "data": {
      "text/plain": [
       "6×5 Matrix{NamedTuple}:\n",
       " (TPR_exc = 1.0, TPR_inh = 1.0, FPR = 0.0)      …  (TPR_exc = 1.0, TPR_inh = 1.0, FPR = 0.05)\n",
       " (TPR_exc = 1.0, TPR_inh = 1.0, FPR = 0.05)        (TPR_exc = 1.0, TPR_inh = 1.0, FPR = 0.075)\n",
       " (TPR_exc = 1.0, TPR_inh = 1.0, FPR = 0.05)        (TPR_exc = 1.0, TPR_inh = 0.85, FPR = 0.0)\n",
       " (TPR_exc = 1.0, TPR_inh = 0.725, FPR = 0.05)      (TPR_exc = 1.0, TPR_inh = 0.7, FPR = 0.0)\n",
       " (TPR_exc = 0.775, TPR_inh = 0.5, FPR = 0.1)       (TPR_exc = 0.775, TPR_inh = 0.475, FPR = 0.075)\n",
       " (TPR_exc = 0.075, TPR_inh = 0.075, FPR = 0.1)  …  (TPR_exc = 0.025, TPR_inh = 0.05, FPR = 0.1)"
      ]
     },
     "execution_count": 13,
     "metadata": {},
     "output_type": "execute_result"
    }
   ],
   "source": [
    "perfs"
   ]
  },
  {
   "cell_type": "markdown",
   "id": "74634ac2",
   "metadata": {},
   "source": [
    "## Prepare plot"
   ]
  },
  {
   "cell_type": "markdown",
   "id": "d0a02a05",
   "metadata": {},
   "source": [
    "We want to plot dots.\n",
    "We can either have  \n",
    "`N = [5, 21]`  \n",
    "and `TPR_exc = [1 .9 1; .8 .7 .8]` (matrix notation. 3 seeds).  \n",
    "or  \n",
    "`N = [5, 5, 5, 21, 21, 21]` (i.e. repeat)  \n",
    "and `TPR_exc = [1, .9, 1, .8, .7, .8]`."
   ]
  },
  {
   "cell_type": "code",
   "execution_count": 14,
   "id": "66b0f88d",
   "metadata": {},
   "outputs": [],
   "source": [
    "\"\"\"\n",
    "Create an array of the same shape as the one given,\n",
    "but with just the values stored under `name`\n",
    "in each element of the given array.\n",
    "\"\"\"\n",
    "function extract(name::Symbol, arr #=an array of NamedTuples or structs =#)\n",
    "    getval(index) = getproperty(arr[index], name)\n",
    "    out = similar(arr, typeof(getval(firstindex(arr))))\n",
    "    for index in eachindex(arr)\n",
    "        out[index] = getval(index)\n",
    "    end\n",
    "    return out\n",
    "end;"
   ]
  },
  {
   "cell_type": "code",
   "execution_count": 15,
   "id": "f528ad5a",
   "metadata": {},
   "outputs": [
    {
     "data": {
      "text/plain": [
       "6×5 Matrix{Float64}:\n",
       " 1.0    1.0   1.0    1.0    1.0\n",
       " 1.0    1.0   1.0    1.0    1.0\n",
       " 1.0    1.0   1.0    1.0    1.0\n",
       " 1.0    1.0   1.0    1.0    1.0\n",
       " 0.775  0.8   0.825  0.725  0.775\n",
       " 0.075  0.05  0.05   0.075  0.025"
      ]
     },
     "execution_count": 15,
     "metadata": {},
     "output_type": "execute_result"
    }
   ],
   "source": [
    "extract(:TPR_exc, perfs)"
   ]
  },
  {
   "cell_type": "code",
   "execution_count": 16,
   "id": "eaca70ef",
   "metadata": {},
   "outputs": [],
   "source": [
    "import PyPlot"
   ]
  },
  {
   "cell_type": "code",
   "execution_count": 17,
   "id": "c39f0f78",
   "metadata": {},
   "outputs": [],
   "source": [
    "using VoltageToMap.Plot"
   ]
  },
  {
   "cell_type": "code",
   "execution_count": 18,
   "id": "b5e3411b",
   "metadata": {},
   "outputs": [],
   "source": [
    "function make_figure()\n",
    "    xticklabels = [p.sim.input.N_conn for p in paramsets[:,1]]\n",
    "    xs = [1:length(xticklabels);]\n",
    "    fig, ax = plt.subplots()\n",
    "    plot_detection_rate(rate; kw...) = plot_samples_and_means(xs, rate, ax; kw...)\n",
    "    plot_detection_rate(extract(:TPR_exc, perfs), label=\"for excitatory inputs\", c=color_exc)\n",
    "    plot_detection_rate(extract(:TPR_inh, perfs), label=\"for inhibitory inputs\", c=color_inh)\n",
    "    plot_detection_rate(extract(:FPR, perfs), label=\"for unconnected spikers\", c=color_unconn)\n",
    "    \n",
    "    set(ax; xtype=:categorical, ytype=:fraction, xticklabels, xlabel=\"Number of connected inputs\")\n",
    "    \n",
    "    add_α_line(ax, paramsets[1].evaluation.α)\n",
    "    \n",
    "    l = ax.legend(title=\"Detection rate\", ncol=2, loc=\"lower right\", bbox_to_anchor=(1.06, 1.1))\n",
    "    l._legend_box.align = \"left\"\n",
    "    return fig, ax\n",
    "end;"
   ]
  },
  {
   "cell_type": "markdown",
   "id": "29ff3d0f",
   "metadata": {},
   "source": [
    "## Plot"
   ]
  },
  {
   "cell_type": "code",
   "execution_count": 19,
   "id": "c5ee4932",
   "metadata": {},
   "outputs": [
    {
     "data": {
      "image/png": "[encoded data removed]",
      "text/plain": [
       "Figure(PyObject <Figure size 800x480 with 1 Axes>)"
      ]
     },
     "metadata": {
      "image/png": {
       "height": 240,
       "width": 400
      }
     },
     "output_type": "display_data"
    }
   ],
   "source": [
    "fig, ax = make_figure();"
   ]
  },
  {
   "cell_type": "code",
   "execution_count": null,
   "id": "1d9f15d1",
   "metadata": {},
   "outputs": [],
   "source": []
  }
 ],
 "metadata": {
  "jupytext": {
   "encoding": "# -*- coding: utf-8 -*-",
   "formats": "ipynb,jl:light"
  },
  "kernelspec": {
   "display_name": "Julia 1.7.0",
   "language": "julia",
   "name": "julia-1.7"
  },
  "language_info": {
   "file_extension": ".jl",
   "mimetype": "application/julia",
   "name": "julia",
   "version": "1.7.0"
  },
  "toc": {
   "base_numbering": 1,
   "nav_menu": {},
   "number_sections": false,
   "sideBar": true,
   "skip_h1_title": true,
   "title_cell": "Table of Contents",
   "title_sidebar": "Contents",
   "toc_cell": false,
   "toc_position": {
    "height": "47.6979px",
    "left": "61px",
    "top": "111.125px",
    "width": "212px"
   },
   "toc_section_display": true,
   "toc_window_display": true
  }
 },
 "nbformat": 4,
 "nbformat_minor": 5
}
