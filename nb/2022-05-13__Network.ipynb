{
 "cells": [
  {
   "cell_type": "markdown",
   "id": "57ab3994",
   "metadata": {},
   "source": [
    "# 2022-05-13 • A Network"
   ]
  },
  {
   "cell_type": "markdown",
   "id": "4ef04cd4",
   "metadata": {},
   "source": [
    "Every timestep, simulate a list of neurons."
   ]
  },
  {
   "cell_type": "markdown",
   "id": "c99fa4fd",
   "metadata": {},
   "source": [
    "## Imports"
   ]
  },
  {
   "cell_type": "code",
   "execution_count": 3,
   "id": "689ead26",
   "metadata": {},
   "outputs": [],
   "source": [
    "#"
   ]
  },
  {
   "cell_type": "code",
   "execution_count": 1,
   "id": "fcdca583",
   "metadata": {},
   "outputs": [],
   "source": [
    "using Revise"
   ]
  },
  {
   "cell_type": "code",
   "execution_count": 2,
   "id": "3a016087",
   "metadata": {},
   "outputs": [],
   "source": [
    "using MyToolbox"
   ]
  },
  {
   "cell_type": "code",
   "execution_count": 4,
   "id": "ba1f0cec",
   "metadata": {},
   "outputs": [],
   "source": [
    "using VoltageToMap"
   ]
  },
  {
   "cell_type": "markdown",
   "id": "4696dbcf",
   "metadata": {},
   "source": [
    "## Params"
   ]
  },
  {
   "cell_type": "markdown",
   "id": "5a82115f",
   "metadata": {},
   "source": [
    "We need to mark every variable as constant, otherwise simulation is slow. (See Julia manual > performance tips, first and second points)."
   ]
  },
  {
   "cell_type": "code",
   "execution_count": 5,
   "id": "58c212b2",
   "metadata": {
    "lines_to_next_cell": 2
   },
   "outputs": [],
   "source": [
    "const rngseed = 22022022;"
   ]
  },
  {
   "cell_type": "code",
   "execution_count": 6,
   "id": "fdd34426",
   "metadata": {},
   "outputs": [],
   "source": [
    "#  PoissonInputParams\n",
    "const N_unconn           = 100\n",
    "const N_exc              = 5200\n",
    "const N_inh              = N_exc ÷ 4\n",
    "const N_conn             = N_inh + N_exc\n",
    "const N                  = N_conn + N_unconn\n",
    "const spike_rates        = LogNormal_with_mean(4Hz, √0.6)  # (μₓ, σ);"
   ]
  },
  {
   "cell_type": "code",
   "execution_count": 7,
   "id": "86b50cdd",
   "metadata": {},
   "outputs": [],
   "source": [
    "#  SynapseParams\n",
    "const avg_stim_rate_exc  =    0.1 * nS / seconds\n",
    "    # Used to calculate the postsynaptic conductance increase per spike for all\n",
    "    # excitatory neurons, by dividing by the mean of the spike rate distribution\n",
    "    # (defined above).\n",
    "const avg_stim_rate_inh  =    0.4 * nS / seconds\n",
    "const E_exc              =    0   * mV   # Reversal potentials\n",
    "const E_inh              = - 65   * mV   #\n",
    "const g_t0               =    0   * nS   # Conductances at `t = 0`\n",
    "const τ                  =    7   * ms   # Time constant of exponential decay of conductances;"
   ]
  },
  {
   "cell_type": "code",
   "execution_count": 8,
   "id": "20601e48",
   "metadata": {},
   "outputs": [],
   "source": [
    "#  IzhikevichParams\n",
    "const C        =  100    * pF          # cell capacitance\n",
    "const k        =    0.7  * (nS/mV)     # steepness of dv/dt's parabola\n",
    "const v_rest   = - 60    * mV          # resting v\n",
    "const v_thr    = - 40    * mV          # ~spiking thr\n",
    "const a        =    0.03 / ms          # reciprocal of `u`'s time constant\n",
    "const b        = -  2    * nS          # how strongly `(v - v_rest)` increases `u`\n",
    "const v_peak   =   35    * mV          # cutoff to define spike\n",
    "const v_reset  = - 50    * mV          # Reset after spike. `c` in Izh.\n",
    "const Δu       =  100    * pA          # Increase on spike. `d` in Izh. Free parameter.\n",
    "const v_t0     = v_rest\n",
    "const u_t0     =    0    * pA;"
   ]
  },
  {
   "cell_type": "code",
   "execution_count": 9,
   "id": "20bcf151",
   "metadata": {},
   "outputs": [],
   "source": [
    "#  VoltageImagingParams\n",
    "const spike_SNR      = 10\n",
    "const spike_SNR_dB   = 20log10(spike_SNR)   # 1 ⇒ 0dB,  10 ⇒ 20dB,  100 ⇒ 40dB,  …\n",
    "const spike_height   = v_peak - v_rest\n",
    "const σ_noise        = spike_height / spike_SNR;"
   ]
  },
  {
   "cell_type": "code",
   "execution_count": 10,
   "id": "79e18cd4",
   "metadata": {},
   "outputs": [],
   "source": [
    "#  SimParams\n",
    "const duration       = 10 * seconds\n",
    "const Δt             = 0.1 * ms\n",
    "const num_timesteps  = round(Int, duration / Δt);"
   ]
  },
  {
   "cell_type": "code",
   "execution_count": 11,
   "id": "9fdbf3a4",
   "metadata": {},
   "outputs": [],
   "source": [
    "#  ConnTestParams\n",
    "const STA_window_length     = 100 * ms\n",
    "const num_shuffles          = 100\n",
    "const STA_test_statistic    = \"mean\";"
   ]
  },
  {
   "cell_type": "code",
   "execution_count": 12,
   "id": "634b65fd",
   "metadata": {},
   "outputs": [],
   "source": [
    "#  EvaluationParams\n",
    "const α = 0.05   # p-value threshold / false detection rate;"
   ]
  },
  {
   "cell_type": "markdown",
   "id": "d55915e0",
   "metadata": {},
   "source": [
    "## Init sim"
   ]
  },
  {
   "cell_type": "code",
   "execution_count": 13,
   "id": "a027a15d",
   "metadata": {},
   "outputs": [],
   "source": [
    "# IDs, subgroup names.\n",
    "const input_neuron_IDs = idvec(conn = idvec(exc = N_exc, inh = N_inh), unconn = N_unconn)\n",
    "const synapse_IDs      = idvec(exc = N_exc, inh = N_inh)\n",
    "const var_IDs          = idvec(t = nothing, v = nothing, u = nothing, g = similar(synapse_IDs));"
   ]
  },
  {
   "cell_type": "code",
   "execution_count": 14,
   "id": "5805605d",
   "metadata": {},
   "outputs": [],
   "source": [
    "resetrng!(rngseed);"
   ]
  },
  {
   "cell_type": "code",
   "execution_count": 21,
   "id": "a2048d51",
   "metadata": {},
   "outputs": [
    {
     "name": "stdout",
     "output_type": "stream",
     "text": [
      "WARNING: redefinition of constant λ. This may fail, cause incorrect answers, or produce other errors.\n",
      "WARNING: redefinition of constant β. This may fail, cause incorrect answers, or produce other errors.\n",
      "WARNING: redefinition of constant ISI_distributions. This may fail, cause incorrect answers, or produce other errors.\n"
     ]
    }
   ],
   "source": [
    "# Inter-spike—interval distributions\n",
    "const λ = similar(input_neuron_IDs, Float64)\n",
    "λ .= rand(spike_rates, length(λ))\n",
    "const β = 1 ./ λ\n",
    "const ISI_distributions = Exponential.(β);"
   ]
  },
  {
   "cell_type": "code",
   "execution_count": 18,
   "id": "58925684",
   "metadata": {},
   "outputs": [],
   "source": [
    "# Input spikes queue\n",
    "const first_input_spike_times = rand.(ISI_distributions)\n",
    "const upcoming_input_spikes   = PriorityQueue{Int, Float64}()\n",
    "for (n, t) in zip(input_neuron_IDs, first_input_spike_times)\n",
    "    enqueue!(upcoming_input_spikes, n => t)\n",
    "end;"
   ]
  },
  {
   "cell_type": "code",
   "execution_count": 22,
   "id": "da0a0bf1",
   "metadata": {},
   "outputs": [],
   "source": [
    "# Connections\n",
    "const postsynapses = Dict{Int, Vector{Int}}()  # input_neuron_ID => [synapse_IDs...]\n",
    "for (n, s) in zip(input_neuron_IDs.conn, synapse_IDs)\n",
    "    postsynapses[n] = [s]\n",
    "end\n",
    "for n in input_neuron_IDs.unconn\n",
    "    postsynapses[n] = []\n",
    "end;"
   ]
  },
  {
   "cell_type": "code",
   "execution_count": 23,
   "id": "d4882537",
   "metadata": {},
   "outputs": [],
   "source": [
    "# Broadcast scalar parameters\n",
    "const Δg = similar(synapse_IDs, Float64)\n",
    "Δg.exc .= avg_stim_rate_exc / mean(spike_rates)\n",
    "Δg.inh .= avg_stim_rate_inh / mean(spike_rates)\n",
    "const E = similar(synapse_IDs, Float64)\n",
    "E.exc .= E_exc\n",
    "E.inh .= E_inh;"
   ]
  },
  {
   "cell_type": "code",
   "execution_count": 24,
   "id": "52c0c4c0",
   "metadata": {},
   "outputs": [],
   "source": [
    "# Allocate memory to be overwritten every simulation step;\n",
    "# namely for the simulated variables and their time derivatives.\n",
    "const vars = similar(var_IDs, Float64)\n",
    "vars.t = zero(duration)\n",
    "vars.v = v_t0\n",
    "vars.u = u_t0\n",
    "vars.g .= g_t0\n",
    "const diff = similar(vars)  # = ∂x/∂t for every x in `vars`\n",
    "diff.t = 1 * s/s;"
   ]
  },
  {
   "cell_type": "code",
   "execution_count": 25,
   "id": "56cf2810",
   "metadata": {},
   "outputs": [],
   "source": [
    "# Where to record to\n",
    "const v_rec = Vector{Float64}(undef, num_timesteps)\n",
    "const input_spikes = similar(input_neuron_IDs, Vector{Float64})\n",
    "for i in eachindex(input_spikes)\n",
    "    input_spikes[i] = Vector{Float64}()\n",
    "end;"
   ]
  },
  {
   "cell_type": "markdown",
   "id": "29ff3d0f",
   "metadata": {},
   "source": [
    "## Run sim"
   ]
  },
  {
   "cell_type": "code",
   "execution_count": 26,
   "id": "6686c8e8",
   "metadata": {},
   "outputs": [],
   "source": [
    "function step_sim(i)\n",
    "\n",
    "    @unpack t, v, u, g = vars\n",
    "\n",
    "    # Sum synaptic currents\n",
    "    I_s = zero(u)\n",
    "    for (gi, Ei) in zip(g, E)\n",
    "        I_s += gi * (v - Ei)\n",
    "    end\n",
    "\n",
    "    # Differential equations\n",
    "    diff.v = (k * (v - v_rest) * (v - v_thr) - u - I_s) / C\n",
    "    diff.u = a * (b * (v - v_rest) - u)\n",
    "    for i in eachindex(g)\n",
    "        diff.g[i] = -g[i] / τ\n",
    "    end\n",
    "\n",
    "    # Euler integration\n",
    "    @. vars += diff * Δt\n",
    "\n",
    "    # Izhikevich neuron spiking threshold\n",
    "    if v ≥ v_peak\n",
    "        vars.v = v_reset\n",
    "        vars.u += Δu\n",
    "    end\n",
    "\n",
    "    # Record membrane voltage\n",
    "    v_rec[i] = v\n",
    "\n",
    "    # Input spikes\n",
    "    t_next_input_spike = peek(upcoming_input_spikes).second  # (.first is neuron ID).\n",
    "    if t ≥ t_next_input_spike\n",
    "        n = dequeue!(upcoming_input_spikes)  # ID of the fired input neuron\n",
    "        push!(input_spikes[n], t)\n",
    "        for s in postsynapses[n]\n",
    "            g[s] += Δg[s]\n",
    "        end\n",
    "        tn = t + rand(ISI_distributions[n])  # Next spike time for the fired neuron\n",
    "        enqueue!(upcoming_input_spikes, n => tn)\n",
    "    end\n",
    "    # Unhandled edge case: multiple spikes in the same time bin get processed with\n",
    "    # increasing delay. (This problem goes away when using diffeq.jl, `adaptive`).\n",
    "end;"
   ]
  },
  {
   "cell_type": "code",
   "execution_count": 28,
   "id": "3ee73615",
   "metadata": {},
   "outputs": [
    {
     "name": "stdout",
     "output_type": "stream",
     "text": [
      "\u001b[32mProgress: 100%|█████████████████████████████████████████| Time: 0:00:07\u001b[39m\n"
     ]
    }
   ],
   "source": [
    "x = progress_bar_update_interval = 400ms\n",
    "@showprogress x for i in 1:num_timesteps\n",
    "    step_sim(i)\n",
    "end;"
   ]
  },
  {
   "cell_type": "code",
   "execution_count": 28,
   "id": "815c1c02",
   "metadata": {},
   "outputs": [],
   "source": [
    "const t = linspace(zero(duration), duration, num_timesteps);"
   ]
  },
  {
   "cell_type": "code",
   "execution_count": 29,
   "id": "700387d5",
   "metadata": {
    "lines_to_next_cell": 2
   },
   "outputs": [],
   "source": [
    "const vi = v_rec + randn(length(v_rec)) * σ_noise;"
   ]
  },
  {
   "cell_type": "markdown",
   "id": "3f1215c3",
   "metadata": {
    "lines_to_next_cell": 2
   },
   "source": [
    "## Plot sim"
   ]
  },
  {
   "cell_type": "markdown",
   "id": "2b8269a8",
   "metadata": {},
   "source": [
    "## Conntest"
   ]
  }
 ],
 "metadata": {
  "jupytext": {
   "encoding": "# -*- coding: utf-8 -*-",
   "formats": "ipynb,jl:light"
  },
  "kernelspec": {
   "display_name": "Julia 1.7.0",
   "language": "julia",
   "name": "julia-1.7"
  },
  "language_info": {
   "file_extension": ".jl",
   "mimetype": "application/julia",
   "name": "julia",
   "version": "1.7.0"
  },
  "toc": {
   "base_numbering": 1,
   "nav_menu": {},
   "number_sections": false,
   "sideBar": true,
   "skip_h1_title": true,
   "title_cell": "Table of Contents",
   "title_sidebar": "Contents",
   "toc_cell": false,
   "toc_position": {
    "height": "47.6979px",
    "left": "61px",
    "top": "111.125px",
    "width": "212px"
   },
   "toc_section_display": true,
   "toc_window_display": true
  }
 },
 "nbformat": 4,
 "nbformat_minor": 5
}
