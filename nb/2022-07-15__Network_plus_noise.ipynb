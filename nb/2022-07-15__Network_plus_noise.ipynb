{
 "cells": [
  {
   "cell_type": "markdown",
   "id": "57ab3994",
   "metadata": {},
   "source": [
    "# 2022-07-15 • Network + VI Noise"
   ]
  },
  {
   "cell_type": "markdown",
   "id": "c99fa4fd",
   "metadata": {},
   "source": [
    "## Imports"
   ]
  },
  {
   "cell_type": "code",
   "execution_count": 1,
   "id": "744b0b5d",
   "metadata": {},
   "outputs": [],
   "source": [
    "#"
   ]
  },
  {
   "cell_type": "code",
   "execution_count": 2,
   "id": "fcdca583",
   "metadata": {},
   "outputs": [],
   "source": [
    "using Revise"
   ]
  },
  {
   "cell_type": "code",
   "execution_count": 3,
   "id": "3a016087",
   "metadata": {},
   "outputs": [],
   "source": [
    "using MyToolbox"
   ]
  },
  {
   "cell_type": "code",
   "execution_count": 4,
   "id": "ba1f0cec",
   "metadata": {},
   "outputs": [
    {
     "name": "stdout",
     "output_type": "stream",
     "text": [
      "\u001b[36m\u001b[1m[ \u001b[22m\u001b[39m\u001b[36m\u001b[1mInfo: \u001b[22m\u001b[39mPrecompiling VoltoMapSim [f713100b-c48c-421a-b480-5fcb4c589a9e]\n"
     ]
    }
   ],
   "source": [
    "using VoltoMapSim"
   ]
  },
  {
   "cell_type": "markdown",
   "id": "4696dbcf",
   "metadata": {},
   "source": [
    "## Params"
   ]
  },
  {
   "cell_type": "markdown",
   "id": "6c035dc9",
   "metadata": {},
   "source": [
    "Based on Roxin; same as previous nb's."
   ]
  },
  {
   "cell_type": "code",
   "execution_count": 5,
   "id": "247cc36c",
   "metadata": {
    "scrolled": true
   },
   "outputs": [
    {
     "name": "stdout",
     "output_type": "stream",
     "text": [
      "\u001b[90mExperimentParams\u001b[39m\n",
      "  sim: \u001b[90mNetworkSimParams\u001b[39m\n",
      "    general: \u001b[90mGeneralSimParams\u001b[39m\n",
      "      duration: \u001b[94m600\u001b[39m\n",
      "      Δt: \u001b[94m0.0001\u001b[39m\n",
      "      izh_neuron: \u001b[90mIzhikevichParams\u001b[39m\n",
      "        C: \u001b[94m1E-10\u001b[39m\n",
      "        k: \u001b[94m7E-07\u001b[39m\n",
      "        v_rest: \u001b[94m-0.06\u001b[39m\n",
      "        v_thr: \u001b[94m-0.04\u001b[39m\n",
      "        a: \u001b[94m30\u001b[39m\n",
      "        b: \u001b[94m-2E-09\u001b[39m\n",
      "        v_peak: \u001b[94m0.035\u001b[39m\n",
      "        v_reset: \u001b[94m-0.05\u001b[39m\n",
      "        Δu: \u001b[94m1E-10\u001b[39m\n",
      "        v_t0: \u001b[94m-0.06\u001b[39m\n",
      "        u_t0: \u001b[94m0\u001b[39m\n",
      "      synapses: \u001b[90mSynapseParams\u001b[39m\n",
      "        E_exc: \u001b[94m0\u001b[39m\n",
      "        E_inh: \u001b[94m-0.08\u001b[39m\n",
      "        g_t0: \u001b[94m0\u001b[39m\n",
      "        τ: \u001b[94m0.007\u001b[39m\n",
      "    network: \u001b[90mNetworkParams\u001b[39m\n",
      "      N: \u001b[94m1000\u001b[39m\n",
      "      EI_ratio: \u001b[94m4\u001b[39m\n",
      "      p_conn: \u001b[94m0.04\u001b[39m\n",
      "      syn_strengths: \u001b[90mLogNormal\u001b[39m\n",
      "        μ: \u001b[94m-18.2\u001b[39m\n",
      "        σ: \u001b[94m1\u001b[39m\n",
      "      g_EE: \u001b[94m0.167\u001b[39m\n",
      "      g_EI: \u001b[94m3\u001b[39m\n",
      "      g_IE: \u001b[94m6\u001b[39m\n",
      "      g_II: \u001b[94m5.17\u001b[39m\n",
      "      rngseed: \u001b[94m22022022\u001b[39m\n",
      "      tx_delay: \u001b[94m0.01\u001b[39m\n",
      "      to_record: \u001b[94m[1, 801]\u001b[39m\n",
      "    ext_current: \u001b[90mNormal\u001b[39m\n",
      "      μ: \u001b[94m-5E-13\u001b[39m\n",
      "      σ: \u001b[94m5E-12\u001b[39m\n",
      "    rngseed: \u001b[94m22022022\u001b[39m\n",
      "  imaging: \u001b[90mVoltageImagingParams\u001b[39m\n",
      "    spike_SNR: \u001b[94m10\u001b[39m\n",
      "    rngseed: \u001b[94m22022022\u001b[39m\n",
      "  conntest: \u001b[90mConnTestParams\u001b[39m\n",
      "    STA_window_length: \u001b[94m0.1\u001b[39m\n",
      "    num_shuffles: \u001b[94m100\u001b[39m\n",
      "    STA_test_statistic: \u001b[94mptp\u001b[39m\n",
      "    rngseed: \u001b[94m22022022\u001b[39m\n",
      "  evaluation: \u001b[90mEvaluationParams\u001b[39m\n",
      "    α: \u001b[94m0.05\u001b[39m\n",
      "    N_tested_postsyn: \u001b[94m1\u001b[39m\n",
      "    N_tested_presyn: \u001b[94m40\u001b[39m\n",
      "    rngseed: \u001b[94m22022022\u001b[39m\n"
     ]
    }
   ],
   "source": [
    "d = 6\n",
    "p = get_params(\n",
    "    duration = 10minutes,\n",
    "    p_conn = 0.04,\n",
    "    g_EE = 1   / d,\n",
    "    g_EI = 18  / d,\n",
    "    g_IE = 36  / d,\n",
    "    g_II = 31  / d,\n",
    "    ext_current = Normal(-0.5 * pA/√seconds, 5 * pA/√seconds),\n",
    "    E_inh = -80 * mV,\n",
    "    to_record = [1, 801],\n",
    ");\n",
    "dumps(p)"
   ]
  },
  {
   "cell_type": "markdown",
   "id": "8e8f044b",
   "metadata": {},
   "source": [
    "## Run sim"
   ]
  },
  {
   "cell_type": "code",
   "execution_count": 34,
   "id": "7dcad6f5",
   "metadata": {},
   "outputs": [],
   "source": [
    "s = cached(sim, [p.sim]);"
   ]
  },
  {
   "cell_type": "code",
   "execution_count": 35,
   "id": "6297f965",
   "metadata": {},
   "outputs": [],
   "source": [
    "s = augment_simdata(s, p);"
   ]
  },
  {
   "cell_type": "markdown",
   "id": "b547182c",
   "metadata": {},
   "source": [
    "## Add VI noise; eval conntest perf"
   ]
  },
  {
   "cell_type": "code",
   "execution_count": 38,
   "id": "a1c9df1c",
   "metadata": {},
   "outputs": [],
   "source": [
    "SNRs = [Inf, 10, 4, 1];"
   ]
  },
  {
   "cell_type": "code",
   "execution_count": 39,
   "id": "2ba01aad",
   "metadata": {},
   "outputs": [],
   "source": [
    "function f(m, title)\n",
    "    detrates = []\n",
    "    for SNR in SNRs\n",
    "        q = (@set p.imaging.spike_SNR = SNR)\n",
    "        vi = add_VI_noise(s.signals[m].v, q)\n",
    "        ii = get_input_info(m, s, q)\n",
    "        @show SNR\n",
    "        perf = cached(evaluate_conntest_perf, [vi, ii.spiketrains, q], key = [q, m])\n",
    "        println(perf.detection_rates, \"\\n\")\n",
    "        push!(detrates, perf.detection_rates)\n",
    "    end\n",
    "end;"
   ]
  },
  {
   "cell_type": "code",
   "execution_count": 40,
   "id": "fc6e0541",
   "metadata": {},
   "outputs": [
    {
     "name": "stdout",
     "output_type": "stream",
     "text": [
      "SNR = Inf\n",
      "(TPR_exc = 0.15, TPR_inh = 1.00, FPR = 0.15)\n",
      "\n",
      "SNR = 10.00\n",
      "(TPR_exc = 0.15, TPR_inh = 1.00, FPR = 0.12)\n",
      "\n",
      "SNR = 4.00\n",
      "\u001b[32mTesting connections: 100%|██████████████████████████████| Time: 0:00:23\u001b[39m\n",
      "Saving output at `C:\\Users\\tfiers\\.phdcache\\datamodel v2 (net)\\evaluate_conntest_perf\\55f0dc678d002b2d.jld2` … done\n",
      "(TPR_exc = 0.19, TPR_inh = 0.80, FPR = 0.07)\n",
      "\n",
      "SNR = 1.00\n",
      "(TPR_exc = 0.00, TPR_inh = 0.20, FPR = 0.07)\n",
      "\n"
     ]
    }
   ],
   "source": [
    "f(1, \"Excitatory neuron\")"
   ]
  },
  {
   "cell_type": "code",
   "execution_count": 8,
   "id": "9a85f7cb",
   "metadata": {
    "scrolled": false
   },
   "outputs": [],
   "source": [
    "import PyPlot"
   ]
  },
  {
   "cell_type": "code",
   "execution_count": 9,
   "id": "29461b58",
   "metadata": {},
   "outputs": [],
   "source": [
    "using VoltoMapSim.Plot"
   ]
  }
 ],
 "metadata": {
  "jupytext": {
   "encoding": "# -*- coding: utf-8 -*-",
   "formats": "ipynb,jl:light"
  },
  "kernelspec": {
   "display_name": "Julia 1.7.0",
   "language": "julia",
   "name": "julia-1.7"
  },
  "language_info": {
   "file_extension": ".jl",
   "mimetype": "application/julia",
   "name": "julia",
   "version": "1.7.0"
  },
  "toc": {
   "base_numbering": 1,
   "nav_menu": {},
   "number_sections": false,
   "sideBar": false,
   "skip_h1_title": true,
   "title_cell": "Table of Contents",
   "title_sidebar": "Contents",
   "toc_cell": false,
   "toc_position": {
    "height": "47.6875px",
    "left": "977px",
    "top": "34.125px",
    "width": "159px"
   },
   "toc_section_display": true,
   "toc_window_display": true
  }
 },
 "nbformat": 4,
 "nbformat_minor": 5
}
