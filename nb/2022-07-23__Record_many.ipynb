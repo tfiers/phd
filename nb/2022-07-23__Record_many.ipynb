{
 "cells": [
  {
   "cell_type": "markdown",
   "id": "57ab3994",
   "metadata": {},
   "source": [
    "# 2022-07-23 • Record many neurons"
   ]
  },
  {
   "cell_type": "markdown",
   "id": "c99fa4fd",
   "metadata": {},
   "source": [
    "## Imports"
   ]
  },
  {
   "cell_type": "code",
   "execution_count": 6,
   "id": "744b0b5d",
   "metadata": {},
   "outputs": [],
   "source": [
    "#"
   ]
  },
  {
   "cell_type": "code",
   "execution_count": 7,
   "id": "fcdca583",
   "metadata": {},
   "outputs": [],
   "source": [
    "using Revise"
   ]
  },
  {
   "cell_type": "code",
   "execution_count": 8,
   "id": "3a016087",
   "metadata": {},
   "outputs": [],
   "source": [
    "using MyToolbox"
   ]
  },
  {
   "cell_type": "code",
   "execution_count": 9,
   "id": "ba1f0cec",
   "metadata": {},
   "outputs": [],
   "source": [
    "using VoltoMapSim"
   ]
  },
  {
   "cell_type": "markdown",
   "id": "4696dbcf",
   "metadata": {},
   "source": [
    "## Params"
   ]
  },
  {
   "cell_type": "markdown",
   "id": "6c035dc9",
   "metadata": {},
   "source": [
    "Based on Roxin; same as previous nb's."
   ]
  },
  {
   "cell_type": "code",
   "execution_count": 10,
   "id": "247cc36c",
   "metadata": {
    "scrolled": true
   },
   "outputs": [],
   "source": [
    "d = 6\n",
    "p = get_params(\n",
    "    duration = 10minutes,\n",
    "    #duration = 10seconds,\n",
    "    p_conn = 0.04,\n",
    "    g_EE = 1   / d,\n",
    "    g_EI = 18  / d,\n",
    "    g_IE = 36  / d,\n",
    "    g_II = 31  / d,\n",
    "    ext_current = Normal(-0.5 * pA/√seconds, 5 * pA/√seconds),\n",
    "    E_inh = -80 * mV,\n",
    "    record_v = [1:40; 801:810;],\n",
    ");"
   ]
  },
  {
   "cell_type": "markdown",
   "id": "8e8f044b",
   "metadata": {},
   "source": [
    "## Run sim"
   ]
  },
  {
   "cell_type": "code",
   "execution_count": 11,
   "id": "7dcad6f5",
   "metadata": {
    "scrolled": true
   },
   "outputs": [],
   "source": [
    "s = cached(sim, [p.sim]);"
   ]
  },
  {
   "cell_type": "markdown",
   "id": "7a59c248",
   "metadata": {},
   "source": [
    "Takes ~11' on work pc."
   ]
  },
  {
   "cell_type": "code",
   "execution_count": 12,
   "id": "6297f965",
   "metadata": {},
   "outputs": [],
   "source": [
    "s = augment_simdata(s, p);"
   ]
  },
  {
   "cell_type": "markdown",
   "id": "421cc493",
   "metadata": {},
   "source": [
    "## Eval conntest perf for all v recorded"
   ]
  },
  {
   "cell_type": "code",
   "execution_count": 13,
   "id": "7113d023",
   "metadata": {},
   "outputs": [],
   "source": [
    "recorded = p.sim.network.record_v;"
   ]
  },
  {
   "cell_type": "code",
   "execution_count": 14,
   "id": "3fca671c",
   "metadata": {},
   "outputs": [],
   "source": [
    "# using Base.Threads"
   ]
  },
  {
   "cell_type": "code",
   "execution_count": 15,
   "id": "312fdf40",
   "metadata": {},
   "outputs": [],
   "source": [
    "detrates = Dict()\n",
    "\n",
    "# @threads for m in recorded\n",
    "for m in recorded\n",
    "    ii = get_input_info(m, s, p);\n",
    "    perf = cached(evaluate_conntest_perf, [ii.v, ii.spiketrains, p], key=[p, m])\n",
    "    detrates[m] = perf.detection_rates\n",
    "end;"
   ]
  },
  {
   "cell_type": "markdown",
   "id": "4b56c02f",
   "metadata": {},
   "source": [
    "Connection tests take ~1:20 per neuron.\n",
    "So for 50 neurons → 66'."
   ]
  },
  {
   "cell_type": "markdown",
   "id": "b4bf3967",
   "metadata": {},
   "source": [
    "Testing can happen multithreaded. So we'll set the JULIA_NUM_THREADS env var (to one less than the num logical cores).\n",
    "\n",
    "Ah seems you can use all cores, as it doesn't utilize fully, so there's left for you.\n",
    "\n",
    "With the threading it was sometimes up to 7:30 per neuron.."
   ]
  },
  {
   "cell_type": "markdown",
   "id": "6b155c0f",
   "metadata": {},
   "source": [
    "## Plot distributions"
   ]
  },
  {
   "cell_type": "code",
   "execution_count": 16,
   "id": "077d6377",
   "metadata": {},
   "outputs": [],
   "source": [
    "using PyPlot"
   ]
  },
  {
   "cell_type": "code",
   "execution_count": 17,
   "id": "95e0f1dd",
   "metadata": {},
   "outputs": [],
   "source": [
    "using VoltoMapSim.Plot"
   ]
  },
  {
   "cell_type": "code",
   "execution_count": 23,
   "id": "8fd2816d",
   "metadata": {},
   "outputs": [],
   "source": [
    "exc_rec = [1:40;]\n",
    "inh_rec = [801:810;];"
   ]
  },
  {
   "cell_type": "code",
   "execution_count": 192,
   "id": "14872d73",
   "metadata": {},
   "outputs": [],
   "source": [
    "function ydistplot(pairs...; setkw...)\n",
    "    labels = [p[1] for p in pairs]\n",
    "    datas = [p[2] for p in pairs]\n",
    "    fig, ax = plt.subplots()\n",
    "    for (x, ys) in enumerate(datas)\n",
    "        xs = x .- 0.15 .+ 0.1*rand(length(ys))\n",
    "        ax.plot(xs, ys, \"k.\", clip_on=false, alpha=0.4)\n",
    "        ax.boxplot(\n",
    "            ys, whis=(5,95), positions=[x+0.1], showfliers=false, showmeans=true,\n",
    "            medianprops=Dict(:color=>\"black\"),\n",
    "            meanprops=Dict(:marker=>\"D\", :ms=>3, :mfc=>\"black\", :mec=>\"none\")\n",
    "        )\n",
    "    end\n",
    "    N = length(labels)\n",
    "    set(ax; xtype=:categorical, xlim=[0.5, N+0.5], setkw...)\n",
    "    ax.set_xticks(1:N)  # can't use `set` as that sets xticks\n",
    "    ax.set_xticklabels(labels)\n",
    "    return ax\n",
    "end;"
   ]
  },
  {
   "cell_type": "code",
   "execution_count": 193,
   "id": "8870a4ec",
   "metadata": {},
   "outputs": [],
   "source": [
    "function detplot(coll, name)\n",
    "    N = length(coll)\n",
    "    ax = ydistplot(\n",
    "        \"Exc. inputs\" => [detrates[n].TPR_exc for n in coll],\n",
    "        \"Inh. inputs\" => [detrates[n].TPR_inh for n in coll],\n",
    "        \"Unconn.\" => [detrates[n].FPR for n in coll],\n",
    "        ylim = [0,1],\n",
    "        hylabel = \"Detection rates for $(name) neurons (n = $N)\",\n",
    "    )\n",
    "    add_α_line(ax, p.evaluation.α)\n",
    "    return nothing\n",
    "end;"
   ]
  },
  {
   "cell_type": "code",
   "execution_count": null,
   "id": "fe9ebc75",
   "metadata": {
    "scrolled": true
   },
   "outputs": [],
   "source": [
    "detplot(exc_rec, \"excitatory\")"
   ]
  },
  {
   "cell_type": "code",
   "execution_count": 150,
   "id": "460153a2",
   "metadata": {},
   "outputs": [
    {
     "data": {
      "image/png": "[encoded data removed]",
      "text/plain": [
       "Figure(PyObject <Figure size 800x480 with 1 Axes>)"
      ]
     },
     "metadata": {
      "image/png": {
       "height": 240,
       "width": 400
      }
     },
     "output_type": "display_data"
    }
   ],
   "source": [
    "detplot(inh_rec, \"inhibitory\")"
   ]
  },
  {
   "cell_type": "code",
   "execution_count": null,
   "id": "bd8774a9",
   "metadata": {},
   "outputs": [],
   "source": [
    "plt.boxplot()"
   ]
  },
  {
   "cell_type": "code",
   "execution_count": null,
   "id": "65a426ac",
   "metadata": {},
   "outputs": [],
   "source": []
  }
 ],
 "metadata": {
  "jupytext": {
   "encoding": "# -*- coding: utf-8 -*-",
   "formats": "ipynb,jl:light"
  },
  "kernelspec": {
   "display_name": "Julia 1.7.1",
   "language": "julia",
   "name": "julia-1.7"
  },
  "language_info": {
   "file_extension": ".jl",
   "mimetype": "application/julia",
   "name": "julia",
   "version": "1.7.1"
  },
  "toc": {
   "base_numbering": 1,
   "nav_menu": {},
   "number_sections": false,
   "sideBar": false,
   "skip_h1_title": true,
   "title_cell": "Table of Contents",
   "title_sidebar": "Contents",
   "toc_cell": false,
   "toc_position": {
    "height": "47.6818px",
    "left": "1237.36px",
    "top": "0px",
    "width": "159px"
   },
   "toc_section_display": true,
   "toc_window_display": true
  }
 },
 "nbformat": 4,
 "nbformat_minor": 5
}
