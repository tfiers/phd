{
 "cells": [
  {
   "cell_type": "markdown",
   "id": "57ab3994",
   "metadata": {},
   "source": [
    "# 2022-08-05 • Spiketrain correlations (of unconnected-but-detected)"
   ]
  },
  {
   "cell_type": "markdown",
   "id": "c99fa4fd",
   "metadata": {},
   "source": [
    "## Imports"
   ]
  },
  {
   "cell_type": "code",
   "execution_count": 1,
   "id": "744b0b5d",
   "metadata": {},
   "outputs": [],
   "source": [
    "#"
   ]
  },
  {
   "cell_type": "code",
   "execution_count": 2,
   "id": "fcdca583",
   "metadata": {},
   "outputs": [],
   "source": [
    "using Revise"
   ]
  },
  {
   "cell_type": "code",
   "execution_count": 3,
   "id": "3a016087",
   "metadata": {},
   "outputs": [],
   "source": [
    "using MyToolbox"
   ]
  },
  {
   "cell_type": "code",
   "execution_count": 4,
   "id": "ba1f0cec",
   "metadata": {},
   "outputs": [
    {
     "name": "stdout",
     "output_type": "stream",
     "text": [
      "\u001b[36m\u001b[1m[ \u001b[22m\u001b[39m\u001b[36m\u001b[1mInfo: \u001b[22m\u001b[39mPrecompiling VoltoMapSim [f713100b-c48c-421a-b480-5fcb4c589a9e]\n"
     ]
    }
   ],
   "source": [
    "using VoltoMapSim"
   ]
  },
  {
   "cell_type": "markdown",
   "id": "4696dbcf",
   "metadata": {},
   "source": [
    "## Params"
   ]
  },
  {
   "cell_type": "markdown",
   "id": "6c035dc9",
   "metadata": {},
   "source": [
    "Based on Roxin; same as previous nb's."
   ]
  },
  {
   "cell_type": "code",
   "execution_count": 6,
   "id": "247cc36c",
   "metadata": {
    "scrolled": true
   },
   "outputs": [],
   "source": [
    "d = 6\n",
    "p = get_params(\n",
    "    duration = 10minutes,\n",
    "    p_conn = 0.04,\n",
    "    g_EE = 1   / d,\n",
    "    g_EI = 18  / d,\n",
    "    g_IE = 36  / d,\n",
    "    g_II = 31  / d,\n",
    "    ext_current = Normal(-0.5 * pA/√seconds, 5 * pA/√seconds),\n",
    "    E_inh = -80 * mV,\n",
    "    record_v = [1, 801],\n",
    ");"
   ]
  },
  {
   "cell_type": "markdown",
   "id": "8e8f044b",
   "metadata": {},
   "source": [
    "## Run sim"
   ]
  },
  {
   "cell_type": "code",
   "execution_count": 7,
   "id": "7dcad6f5",
   "metadata": {
    "scrolled": true
   },
   "outputs": [
    {
     "name": "stdout",
     "output_type": "stream",
     "text": [
      "\u001b[32mRunning simulation: 100%|███████████████████████████████| Time: 0:11:16\u001b[39m[39mmmmm\n",
      "Saving output at `C:\\Users\\tfiers\\.phdcache\\datamodel v2 (net)\\sim\\ebefdc43edf54e31.jld2` … done (29.6 s)\n"
     ]
    }
   ],
   "source": [
    "s = cached(sim, [p.sim]);"
   ]
  },
  {
   "cell_type": "code",
   "execution_count": 8,
   "id": "6297f965",
   "metadata": {},
   "outputs": [],
   "source": [
    "s = augment_simdata(s, p);"
   ]
  },
  {
   "cell_type": "markdown",
   "id": "421cc493",
   "metadata": {},
   "source": [
    "## Bin spiketrains"
   ]
  },
  {
   "cell_type": "code",
   "execution_count": 17,
   "id": "0d4df1a0",
   "metadata": {},
   "outputs": [],
   "source": [
    "function bin(events, binsize, duration)\n",
    "    # `events` is a list of times, assumed sorted.\n",
    "    # `duration` is of the events signal and determines the number of bins.\n",
    "    num_bins = ceil(Int, duration / binsize)\n",
    "    counts = fill(0, num_bins)\n",
    "    i_event = 1\n",
    "    bin_end = binsize\n",
    "    for b in 1:num_bins\n",
    "        while events[i_event] < bin_end\n",
    "            counts[b] += 1\n",
    "            i_event += 1\n",
    "            if i_event > length(events)\n",
    "                return counts\n",
    "            end\n",
    "        end\n",
    "        bin_end += binsize\n",
    "    end\n",
    "end;"
   ]
  },
  {
   "cell_type": "markdown",
   "id": "3aef29f6",
   "metadata": {},
   "source": [
    "### Test"
   ]
  },
  {
   "cell_type": "code",
   "execution_count": 56,
   "id": "2313354a",
   "metadata": {},
   "outputs": [
    {
     "name": "stdout",
     "output_type": "stream",
     "text": [
      "[0.685, 1.9, 2.8, 6.86, 8.55, 8.65, 13.4, 15.3, 16.9, 17.1]"
     ]
    }
   ],
   "source": [
    "events = s.spike_times[1][1:10]\n",
    "show(events)"
   ]
  },
  {
   "cell_type": "code",
   "execution_count": 59,
   "id": "5dacf898",
   "metadata": {},
   "outputs": [
    {
     "name": "stdout",
     "output_type": "stream",
     "text": [
      "[2, 1, 0, 1, 2, 0, 1, 1, 2, 0]"
     ]
    }
   ],
   "source": [
    "show(bin(events, 2, 20))"
   ]
  },
  {
   "cell_type": "markdown",
   "id": "10c9b097",
   "metadata": {},
   "source": [
    "Looks good"
   ]
  },
  {
   "cell_type": "markdown",
   "id": "e353768d",
   "metadata": {},
   "source": [
    "### Use"
   ]
  },
  {
   "cell_type": "code",
   "execution_count": 19,
   "id": "93e0c01d",
   "metadata": {},
   "outputs": [],
   "source": [
    "binned_spikes = [bin(s.spike_times[n], 100ms, 10minutes) for n in s.neuron_IDs];"
   ]
  },
  {
   "cell_type": "markdown",
   "id": "019dd8c2",
   "metadata": {},
   "source": [
    "## Correlation with recorded neuron"
   ]
  },
  {
   "cell_type": "code",
   "execution_count": 21,
   "id": "133c4140",
   "metadata": {},
   "outputs": [],
   "source": [
    "m = 1;  # analyzed neuron"
   ]
  },
  {
   "cell_type": "code",
   "execution_count": 25,
   "id": "15c374af",
   "metadata": {},
   "outputs": [],
   "source": [
    "cors = [cor(binned_spikes[m], binned_spikes[n]) for n in s.neuron_IDs];  # Pearson corr"
   ]
  },
  {
   "cell_type": "markdown",
   "id": "fc9a5a3c",
   "metadata": {},
   "source": [
    "## Split neurons by type"
   ]
  },
  {
   "cell_type": "code",
   "execution_count": 28,
   "id": "e0099bb7",
   "metadata": {},
   "outputs": [
    {
     "data": {
      "text/plain": [
       "(exc = 26, inh = 10)"
      ]
     },
     "execution_count": 28,
     "metadata": {},
     "output_type": "execute_result"
    }
   ],
   "source": [
    "v = s.signals[m].v\n",
    "ii = get_input_info(m, s, p);\n",
    "ii.num_inputs"
   ]
  },
  {
   "cell_type": "code",
   "execution_count": 29,
   "id": "51b6b159",
   "metadata": {},
   "outputs": [
    {
     "name": "stdout",
     "output_type": "stream",
     "text": [
      "\u001b[32mTesting connections: 100%|██████████████████████████████| Time: 0:01:12\u001b[39m\n"
     ]
    }
   ],
   "source": [
    "perf = evaluate_conntest_perf(v, ii.spiketrains, p);"
   ]
  },
  {
   "cell_type": "code",
   "execution_count": 30,
   "id": "bb7d6ea8",
   "metadata": {},
   "outputs": [
    {
     "data": {
      "text/plain": [
       "(TPR_exc = 0.154, TPR_inh = 1, FPR = 0.15)"
      ]
     },
     "execution_count": 30,
     "metadata": {},
     "output_type": "execute_result"
    }
   ],
   "source": [
    "perf.detection_rates"
   ]
  },
  {
   "cell_type": "code",
   "execution_count": 61,
   "id": "388eb21d",
   "metadata": {},
   "outputs": [],
   "source": [
    "signif_unconn = ii.unconnected_neurons[findall(perf.p_values.unconn .< p.evaluation.α)];\n",
    "tested_unconn = ii.unconnected_neurons[1:p.evaluation.N_tested_presyn]\n",
    "insignif_unconn = [n for n in tested_unconn if n ∉ signif_unconn];"
   ]
  },
  {
   "cell_type": "code",
   "execution_count": 63,
   "id": "8e79a0a5",
   "metadata": {},
   "outputs": [
    {
     "data": {
      "text/plain": [
       "(6, 34)"
      ]
     },
     "execution_count": 63,
     "metadata": {},
     "output_type": "execute_result"
    }
   ],
   "source": [
    "length(signif_unconn), length(insignif_unconn)"
   ]
  },
  {
   "cell_type": "markdown",
   "id": "3dd2cc6f",
   "metadata": {},
   "source": [
    "## Plot"
   ]
  },
  {
   "cell_type": "code",
   "execution_count": 26,
   "id": "733de1aa",
   "metadata": {},
   "outputs": [],
   "source": [
    "using PyPlot"
   ]
  },
  {
   "cell_type": "code",
   "execution_count": 27,
   "id": "329afde2",
   "metadata": {},
   "outputs": [],
   "source": [
    "using VoltoMapSim.Plot"
   ]
  },
  {
   "cell_type": "code",
   "execution_count": 45,
   "id": "da7d1ac6",
   "metadata": {},
   "outputs": [
    {
     "data": {
      "image/png": "[encoded data removed]",
      "text/plain": [
       "Figure(PyObject <Figure size 1200x600 with 1 Axes>)"
      ]
     },
     "metadata": {
      "image/png": {
       "height": 300,
       "width": 600
      }
     },
     "output_type": "display_data"
    }
   ],
   "source": [
    "ydistplot(\n",
    "    \"Exc inputs\" => cors[ii.exc_inputs],\n",
    "    \"Inh inputs\" => cors[ii.inh_inputs],\n",
    "    \"Unconnected\\nbut detected\" => cors[signif_unconn],\n",
    "    \"Unconnected,\\nnot detected\" => cors[insignif_unconn],\n",
    "    figsize = (6, 3),\n",
    "    hylabel = \"Binned spiketrain correlations to neuron $m  (binsize = 100 ms)\",\n",
    "    ylabel = \"Pearson correlation\",\n",
    "    ylim = [-0.04, ]\n",
    ");"
   ]
  },
  {
   "cell_type": "code",
   "execution_count": null,
   "id": "e4e45693",
   "metadata": {},
   "outputs": [],
   "source": []
  }
 ],
 "metadata": {
  "jupytext": {
   "encoding": "# -*- coding: utf-8 -*-",
   "formats": "ipynb,jl:light"
  },
  "kernelspec": {
   "display_name": "Julia 1.7.0",
   "language": "julia",
   "name": "julia-1.7"
  },
  "language_info": {
   "file_extension": ".jl",
   "mimetype": "application/julia",
   "name": "julia",
   "version": "1.7.0"
  },
  "toc": {
   "base_numbering": 1,
   "nav_menu": {},
   "number_sections": false,
   "sideBar": false,
   "skip_h1_title": true,
   "title_cell": "Table of Contents",
   "title_sidebar": "Contents",
   "toc_cell": false,
   "toc_position": {
    "height": "47.6818px",
    "left": "1237.36px",
    "top": "0px",
    "width": "159px"
   },
   "toc_section_display": true,
   "toc_window_display": true
  }
 },
 "nbformat": 4,
 "nbformat_minor": 5
}
