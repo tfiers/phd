{
 "cells": [
  {
   "cell_type": "markdown",
   "id": "57ab3994",
   "metadata": {},
   "source": [
    "# 2022-09-11 • Fit function to STA"
   ]
  },
  {
   "cell_type": "markdown",
   "id": "c99fa4fd",
   "metadata": {},
   "source": [
    "## Imports"
   ]
  },
  {
   "cell_type": "code",
   "execution_count": 1,
   "id": "744b0b5d",
   "metadata": {},
   "outputs": [],
   "source": [
    "#"
   ]
  },
  {
   "cell_type": "code",
   "execution_count": 2,
   "id": "fcdca583",
   "metadata": {},
   "outputs": [],
   "source": [
    "using Revise"
   ]
  },
  {
   "cell_type": "code",
   "execution_count": 3,
   "id": "3a016087",
   "metadata": {},
   "outputs": [],
   "source": [
    "using MyToolbox"
   ]
  },
  {
   "cell_type": "code",
   "execution_count": 4,
   "id": "ba1f0cec",
   "metadata": {},
   "outputs": [
    {
     "name": "stdout",
     "output_type": "stream",
     "text": [
      "\u001b[36m\u001b[1m[ \u001b[22m\u001b[39m\u001b[36m\u001b[1mInfo: \u001b[22m\u001b[39mPrecompiling VoltoMapSim [f713100b-c48c-421a-b480-5fcb4c589a9e]\n"
     ]
    }
   ],
   "source": [
    "using VoltoMapSim"
   ]
  },
  {
   "cell_type": "markdown",
   "id": "4696dbcf",
   "metadata": {},
   "source": [
    "## Params"
   ]
  },
  {
   "cell_type": "code",
   "execution_count": 5,
   "id": "247cc36c",
   "metadata": {
    "scrolled": true
   },
   "outputs": [],
   "source": [
    "p = get_params(\n",
    "    duration = 10minutes,\n",
    "    p_conn = 0.04,\n",
    "    g_EE = 1,\n",
    "    g_EI = 1,\n",
    "    g_IE = 4,\n",
    "    g_II = 4,\n",
    "    ext_current = Normal(-0.5 * pA/√seconds, 5 * pA/√seconds),\n",
    "    E_inh = -80 * mV,\n",
    "    record_v = [1:40; 801:810],\n",
    ");"
   ]
  },
  {
   "cell_type": "markdown",
   "id": "8e8f044b",
   "metadata": {},
   "source": [
    "## Run sim"
   ]
  },
  {
   "cell_type": "code",
   "execution_count": 6,
   "id": "7dcad6f5",
   "metadata": {
    "scrolled": false
   },
   "outputs": [],
   "source": [
    "s = cached(sim, [p.sim]);"
   ]
  },
  {
   "cell_type": "code",
   "execution_count": 7,
   "id": "11d56741",
   "metadata": {},
   "outputs": [],
   "source": [
    "s = augment(s, p);"
   ]
  },
  {
   "cell_type": "markdown",
   "id": "d19b54cc",
   "metadata": {},
   "source": [
    "## ..."
   ]
  },
  {
   "cell_type": "markdown",
   "id": "692f3841",
   "metadata": {},
   "source": [
    "From previous notebook, median input detection rates, for both our old connection test technique (peak-to-peak and area-over-start for exc/inh decision) and the new one, where we cheated with info of the average E→E STA:\n",
    "\n",
    "```\n",
    "            ptp-area  corr-with-avgSTA \n",
    "──────────────────────────────────────\n",
    " exc → exc      0.57              0.79\n",
    " exc → inh      0.57              0.82\n",
    " inh → exc      0.88              1.00\n",
    " inh → inh      0.81              0.96\n",
    "```"
   ]
  },
  {
   "cell_type": "markdown",
   "id": "753f170d",
   "metadata": {},
   "source": [
    "If we don't cheat, but still use the \"template\"- or \"canonical STA shape\"-matching idea, can we still beat the `ptp-area` detection rates?"
   ]
  },
  {
   "cell_type": "markdown",
   "id": "d518bba6",
   "metadata": {},
   "source": [
    "From the \"Model PSP\" section [here](https://tfiers.github.io/phd/nb/2022-09-05__Why-not-detected.html#model-psp), we have a functional form for a PSP.\n",
    "\n",
    "..But not for an STA, which shows an additional dimple.  \n",
    "\n",
    "Let's not research additional theoretical justification for the STA shape (something to do with spike shape and postsynaptic firing probabilities...), but rather make a guess at an empirical function.\n",
    "\n",
    "For now, we just try to emulate the STA dimple by subtracting a gaussian dip from our exponential model of the PSP."
   ]
  },
  {
   "cell_type": "code",
   "execution_count": 26,
   "id": "df6ee759",
   "metadata": {},
   "outputs": [
    {
     "name": "stdout",
     "output_type": "stream",
     "text": [
      "  4.951323 seconds (16.24 k allocations: 132.874 MiB, 0.42% gc time)\n"
     ]
    }
   ],
   "source": [
    "# @time calc_avg_STA(s, p, postsyn_neurons = 1:40, inputs = s.exc_inputs);\n",
    "@time calc_avg_STA(s, p, 1:40, s.exc_inputs);"
   ]
  },
  {
   "cell_type": "code",
   "execution_count": 27,
   "id": "66813268",
   "metadata": {},
   "outputs": [
    {
     "name": "stdout",
     "output_type": "stream",
     "text": [
      "  4.732793 seconds (53.34 k allocations: 134.654 MiB, 0.35% gc time, 2.02% compilation time)\n"
     ]
    }
   ],
   "source": [
    "@time calc_avg_STA_v2(s, p, 1:40, s.exc_inputs);"
   ]
  },
  {
   "cell_type": "code",
   "execution_count": 28,
   "id": "fbc867c2",
   "metadata": {},
   "outputs": [
    {
     "name": "stdout",
     "output_type": "stream",
     "text": [
      "  4.827092 seconds (131.30 k allocations: 148.661 MiB, 0.72% gc time, 1.68% compilation time)\n"
     ]
    }
   ],
   "source": [
    "STAs = (calc_STA(m => n, s, p) for n in 1:40 for m in s.exc_inputs[n]);\n",
    "@time mean(STAs);"
   ]
  },
  {
   "cell_type": "code",
   "execution_count": 23,
   "id": "141c5f8e",
   "metadata": {},
   "outputs": [
    {
     "name": "stdout",
     "output_type": "stream",
     "text": [
      "MethodInstance for VoltoMapSim.calc_avg_STA(::SimData, ::ExperimentParams, ::UnitRange{Int64}, ::\u001b[0mComponentVector{Vector{Int64}})\n",
      "  from calc_avg_STA(s::SimData, p::ExperimentParams, postsyn_neurons, inputs) in VoltoMapSim at C:\\Users\\tfiers\\phd\\pkg\\VoltoMapSim\\src\\sim\\post.jl:47\n",
      "Arguments\n",
      "  #self#\u001b[36m::Core.Const(VoltoMapSim.calc_avg_STA)\u001b[39m\n",
      "  s\u001b[36m::SimData\u001b[39m\n",
      "  p\u001b[36m::ExperimentParams\u001b[39m\n",
      "  postsyn_neurons\u001b[36m::UnitRange{Int64}\u001b[39m\n",
      "  inputs\u001b[36m::ComponentVector{Vector{Int64}, Vector{Vector{Int64}}, Tuple{Axis{(exc = 1:800, inh = 801:1000)}}}\u001b[39m\n",
      "Locals\n",
      "  @_6\u001b[33m\u001b[1m::Union{Nothing, Tuple{Int64, Int64}}\u001b[22m\u001b[39m\n",
      "  avgSTA\u001b[91m\u001b[1m::Any\u001b[22m\u001b[39m\n",
      "  N\u001b[36m::Int64\u001b[39m\n",
      "  acc\u001b[33m\u001b[1m::Union{Nothing, Array}\u001b[22m\u001b[39m\n",
      "  @_10\u001b[33m\u001b[1m::Union{Nothing, Tuple{Int64, Int64}}\u001b[22m\u001b[39m\n",
      "  n\u001b[36m::Int64\u001b[39m\n",
      "  m\u001b[36m::Int64\u001b[39m\n",
      "  STA\u001b[91m\u001b[1m::Union{Vector, Matrix{Float64}}\u001b[22m\u001b[39m\n",
      "Body\u001b[91m\u001b[1m::Any\u001b[22m\u001b[39m\n",
      "\u001b[90m1 ──\u001b[39m       Core.NewvarNode(:(avgSTA))\n",
      "\u001b[90m│   \u001b[39m       (acc = VoltoMapSim.nothing)\n",
      "\u001b[90m│   \u001b[39m       (N = 0)\n",
      "\u001b[90m│   \u001b[39m %4  = postsyn_neurons\u001b[36m::UnitRange{Int64}\u001b[39m\n",
      "\u001b[90m│   \u001b[39m       (@_6 = Base.iterate(%4))\n",
      "\u001b[90m│   \u001b[39m %6  = (@_6 === nothing)\u001b[36m::Bool\u001b[39m\n",
      "\u001b[90m│   \u001b[39m %7  = Base.not_int(%6)\u001b[36m::Bool\u001b[39m\n",
      "\u001b[90m└───\u001b[39m       goto #10 if not %7\n",
      "\u001b[90m2 ┄─\u001b[39m %9  = @_6\u001b[36m::Tuple{Int64, Int64}\u001b[39m\n",
      "\u001b[90m│   \u001b[39m       (n = Core.getfield(%9, 1))\n",
      "\u001b[90m│   \u001b[39m %11 = Core.getfield(%9, 2)\u001b[36m::Int64\u001b[39m\n",
      "\u001b[90m│   \u001b[39m %12 = Base.getindex(inputs, n)\u001b[36m::Vector{Int64}\u001b[39m\n",
      "\u001b[90m│   \u001b[39m       (@_10 = Base.iterate(%12))\n",
      "\u001b[90m│   \u001b[39m %14 = (@_10 === nothing)\u001b[36m::Bool\u001b[39m\n",
      "\u001b[90m│   \u001b[39m %15 = Base.not_int(%14)\u001b[36m::Bool\u001b[39m\n",
      "\u001b[90m└───\u001b[39m       goto #8 if not %15\n",
      "\u001b[90m3 ┄─\u001b[39m %17 = @_10\u001b[36m::Tuple{Int64, Int64}\u001b[39m\n",
      "\u001b[90m│   \u001b[39m       (m = Core.getfield(%17, 1))\n",
      "\u001b[90m│   \u001b[39m %19 = Core.getfield(%17, 2)\u001b[36m::Int64\u001b[39m\n",
      "\u001b[90m│   \u001b[39m %20 = (m => n)\u001b[36m::Pair{Int64, Int64}\u001b[39m\n",
      "\u001b[90m│   \u001b[39m       (STA = VoltoMapSim.calc_STA(%20, s, p))\n",
      "\u001b[90m│   \u001b[39m %22 = VoltoMapSim.isnothing(acc)\u001b[36m::Bool\u001b[39m\n",
      "\u001b[90m└───\u001b[39m       goto #5 if not %22\n",
      "\u001b[90m4 ──\u001b[39m       (acc = STA)\n",
      "\u001b[90m└───\u001b[39m       goto #6\n",
      "\u001b[90m5 ──\u001b[39m %26 = acc\u001b[91m\u001b[1m::Array\u001b[22m\u001b[39m\n",
      "\u001b[90m│   \u001b[39m %27 = Base.broadcasted(VoltoMapSim.:+, acc::Array, STA)\u001b[91m\u001b[1m::Base.Broadcast.Broadcasted{_A, Nothing, typeof(+)} where _A<:Union{Nothing, Base.Broadcast.BroadcastStyle}\u001b[22m\u001b[39m\n",
      "\u001b[90m└───\u001b[39m       Base.materialize!(%26, %27)\n",
      "\u001b[90m6 ┄─\u001b[39m       (N = N + 1)\n",
      "\u001b[90m│   \u001b[39m       (@_10 = Base.iterate(%12, %19))\n",
      "\u001b[90m│   \u001b[39m %31 = (@_10 === nothing)\u001b[36m::Bool\u001b[39m\n",
      "\u001b[90m│   \u001b[39m %32 = Base.not_int(%31)\u001b[36m::Bool\u001b[39m\n",
      "\u001b[90m└───\u001b[39m       goto #8 if not %32\n",
      "\u001b[90m7 ──\u001b[39m       goto #3\n",
      "\u001b[90m8 ┄─\u001b[39m       (@_6 = Base.iterate(%4, %11))\n",
      "\u001b[90m│   \u001b[39m %36 = (@_6 === nothing)\u001b[36m::Bool\u001b[39m\n",
      "\u001b[90m│   \u001b[39m %37 = Base.not_int(%36)\u001b[36m::Bool\u001b[39m\n",
      "\u001b[90m└───\u001b[39m       goto #10 if not %37\n",
      "\u001b[90m9 ──\u001b[39m       goto #2\n",
      "\u001b[90m10 ┄\u001b[39m %40 = Base.broadcasted(VoltoMapSim.:/, acc, N)\u001b[91m\u001b[1m::Base.Broadcast.Broadcasted{_A, Nothing, typeof(/)} where _A<:Union{Nothing, Base.Broadcast.BroadcastStyle}\u001b[22m\u001b[39m\n",
      "\u001b[90m│   \u001b[39m %41 = Base.materialize(%40)\u001b[91m\u001b[1m::Any\u001b[22m\u001b[39m\n",
      "\u001b[90m│   \u001b[39m       (avgSTA = %41)\n",
      "\u001b[90m└───\u001b[39m       return %41\n",
      "\n"
     ]
    }
   ],
   "source": [
    "@code_warntype calc_avg_STA(s, p, 1:40, s.exc_inputs);"
   ]
  },
  {
   "cell_type": "code",
   "execution_count": null,
   "id": "b02aa2f1",
   "metadata": {},
   "outputs": [],
   "source": []
  },
  {
   "cell_type": "code",
   "execution_count": 29,
   "id": "10a0d049",
   "metadata": {},
   "outputs": [
    {
     "name": "stdout",
     "output_type": "stream",
     "text": [
      "MethodInstance for VoltoMapSim.calc_STA(::Pair{Int64, Int64}, ::SimData, ::ExperimentParams)\n",
      "  from calc_STA(::Pair{Int64, Int64}, s::SimData, p::ExperimentParams) in VoltoMapSim at C:\\Users\\tfiers\\phd\\pkg\\VoltoMapSim\\src\\conntest.jl:19\n",
      "Arguments\n",
      "  #self#\u001b[36m::Core.Const(VoltoMapSim.calc_STA)\u001b[39m\n",
      "  @_2\u001b[36m::Pair{Int64, Int64}\u001b[39m\n",
      "  s\u001b[36m::SimData\u001b[39m\n",
      "  p\u001b[36m::ExperimentParams\u001b[39m\n",
      "Locals\n",
      "  @_5\u001b[36m::Int64\u001b[39m\n",
      "  to\u001b[36m::Int64\u001b[39m\n",
      "  from\u001b[36m::Int64\u001b[39m\n",
      "Body\u001b[91m\u001b[1m::Union{Vector, Matrix{Float64}}\u001b[22m\u001b[39m\n",
      "\u001b[90m1 ─\u001b[39m %1  = Base.indexed_iterate(@_2, 1)\u001b[36m::Core.PartialStruct(Tuple{Int64, Int64}, Any[Int64, Core.Const(2)])\u001b[39m\n",
      "\u001b[90m│  \u001b[39m       (from = Core.getfield(%1, 1))\n",
      "\u001b[90m│  \u001b[39m       (@_5 = Core.getfield(%1, 2))\n",
      "\u001b[90m│  \u001b[39m %4  = Base.indexed_iterate(@_2, 2, @_5::Core.Const(2))\u001b[36m::Core.PartialStruct(Tuple{Int64, Int64}, Any[Int64, Core.Const(3)])\u001b[39m\n",
      "\u001b[90m│  \u001b[39m       (to = Core.getfield(%4, 1))\n",
      "\u001b[90m│  \u001b[39m %6  = Base.getproperty(s, :signals)\u001b[91m\u001b[1m::Any\u001b[22m\u001b[39m\n",
      "\u001b[90m│  \u001b[39m %7  = Base.getindex(%6, to)\u001b[91m\u001b[1m::Any\u001b[22m\u001b[39m\n",
      "\u001b[90m│  \u001b[39m %8  = Base.getproperty(%7, :v)\u001b[91m\u001b[1m::Any\u001b[22m\u001b[39m\n",
      "\u001b[90m│  \u001b[39m %9  = Base.getproperty(s, :spike_times)\u001b[91m\u001b[1m::Any\u001b[22m\u001b[39m\n",
      "\u001b[90m│  \u001b[39m %10 = Base.getindex(%9, from)\u001b[91m\u001b[1m::Any\u001b[22m\u001b[39m\n",
      "\u001b[90m│  \u001b[39m %11 = VoltoMapSim.calc_STA(%8, %10, p)\u001b[91m\u001b[1m::Union{Vector, Matrix{Float64}}\u001b[22m\u001b[39m\n",
      "\u001b[90m└──\u001b[39m       return %11\n",
      "\n"
     ]
    }
   ],
   "source": [
    "@code_warntype calc_STA(1 => 1, s, p)"
   ]
  },
  {
   "cell_type": "code",
   "execution_count": 30,
   "id": "4c5ffe62",
   "metadata": {},
   "outputs": [
    {
     "name": "stdout",
     "output_type": "stream",
     "text": [
      "MethodInstance for VoltoMapSim.calc_STA(::Vector{Float64}, ::Vector{Float64}, ::ExperimentParams)\n",
      "  from calc_STA(VI_sig, presynaptic_spikes, p::ExperimentParams) in VoltoMapSim at C:\\Users\\tfiers\\phd\\pkg\\VoltoMapSim\\src\\conntest.jl:2\n",
      "Arguments\n",
      "  #self#\u001b[36m::Core.Const(VoltoMapSim.calc_STA)\u001b[39m\n",
      "  VI_sig\u001b[36m::Vector{Float64}\u001b[39m\n",
      "  presynaptic_spikes\u001b[36m::Vector{Float64}\u001b[39m\n",
      "  p\u001b[36m::ExperimentParams\u001b[39m\n",
      "Locals\n",
      "  @_5\u001b[33m\u001b[1m::Union{Nothing, Tuple{Int64, Int64}}\u001b[22m\u001b[39m\n",
      "  num_wins\u001b[36m::Int64\u001b[39m\n",
      "  win_starts\u001b[36m::Vector{Int64}\u001b[39m\n",
      "  STA\u001b[36m::Vector{Float64}\u001b[39m\n",
      "  win_size\u001b[36m::Int64\u001b[39m\n",
      "  Δt\u001b[36m::Float64\u001b[39m\n",
      "  a\u001b[36m::Int64\u001b[39m\n",
      "  b\u001b[36m::Int64\u001b[39m\n",
      "  @_13\u001b[36m::SubArray{Float64, 1, Vector{Float64}, Tuple{UnitRange{Int64}}, true}\u001b[39m\n",
      "Body\u001b[36m::Vector{Float64}\u001b[39m\n",
      "\u001b[90m1 ─\u001b[39m %1  = Base.getproperty(p, :sim)\u001b[91m\u001b[1m::VoltoMapSim.SimParams\u001b[22m\u001b[39m\n",
      "\u001b[90m│  \u001b[39m %2  = Base.getproperty(%1, :general)\u001b[91m\u001b[1m::Any\u001b[22m\u001b[39m\n",
      "\u001b[90m│  \u001b[39m %3  = Base.getproperty(%2, :Δt)\u001b[91m\u001b[1m::Any\u001b[22m\u001b[39m\n",
      "\u001b[90m│  \u001b[39m %4  = Base.convert(VoltoMapSim.Float64, %3)\u001b[91m\u001b[1m::Any\u001b[22m\u001b[39m\n",
      "\u001b[90m│  \u001b[39m       (Δt = Core.typeassert(%4, VoltoMapSim.Float64))\n",
      "\u001b[90m│  \u001b[39m %6  = Base.getproperty(p, :conntest)\u001b[36m::VoltoMapSim.ConnTestParams\u001b[39m\n",
      "\u001b[90m│  \u001b[39m %7  = Base.getproperty(%6, :STA_window_length)\u001b[36m::Float64\u001b[39m\n",
      "\u001b[90m│  \u001b[39m %8  = (%7 / Δt)\u001b[36m::Float64\u001b[39m\n",
      "\u001b[90m│  \u001b[39m       (win_size = VoltoMapSim.round(VoltoMapSim.Int, %8))\n",
      "\u001b[90m│  \u001b[39m %10 = VoltoMapSim.eltype(VI_sig)\u001b[36m::Core.Const(Float64)\u001b[39m\n",
      "\u001b[90m│  \u001b[39m       (STA = VoltoMapSim.zeros(%10, win_size))\n",
      "\u001b[90m│  \u001b[39m %12 = (presynaptic_spikes / Δt)\u001b[36m::Vector{Float64}\u001b[39m\n",
      "\u001b[90m│  \u001b[39m %13 = Base.broadcasted(VoltoMapSim.round, VoltoMapSim.Int, %12)\u001b[36m::Base.Broadcast.Broadcasted{Base.Broadcast.DefaultArrayStyle{1}, Nothing, typeof(round), Tuple{Base.RefValue{Type{Int64}}, Vector{Float64}}}\u001b[39m\n",
      "\u001b[90m│  \u001b[39m       (win_starts = Base.materialize(%13))\n",
      "\u001b[90m│  \u001b[39m       (num_wins = 0)\n",
      "\u001b[90m│  \u001b[39m %16 = win_starts\u001b[36m::Vector{Int64}\u001b[39m\n",
      "\u001b[90m│  \u001b[39m       (@_5 = Base.iterate(%16))\n",
      "\u001b[90m│  \u001b[39m %18 = (@_5 === nothing)\u001b[36m::Bool\u001b[39m\n",
      "\u001b[90m│  \u001b[39m %19 = Base.not_int(%18)\u001b[36m::Bool\u001b[39m\n",
      "\u001b[90m└──\u001b[39m       goto #8 if not %19\n",
      "\u001b[90m2 ┄\u001b[39m %21 = @_5\u001b[36m::Tuple{Int64, Int64}\u001b[39m\n",
      "\u001b[90m│  \u001b[39m       (a = Core.getfield(%21, 1))\n",
      "\u001b[90m│  \u001b[39m %23 = Core.getfield(%21, 2)\u001b[36m::Int64\u001b[39m\n",
      "\u001b[90m│  \u001b[39m %24 = (a + win_size)\u001b[36m::Int64\u001b[39m\n",
      "\u001b[90m│  \u001b[39m       (b = %24 - 1)\n",
      "\u001b[90m│  \u001b[39m %26 = b\u001b[36m::Int64\u001b[39m\n",
      "\u001b[90m│  \u001b[39m %27 = VoltoMapSim.lastindex(VI_sig)\u001b[36m::Int64\u001b[39m\n",
      "\u001b[90m│  \u001b[39m %28 = (%26 ≤ %27)\u001b[36m::Bool\u001b[39m\n",
      "\u001b[90m└──\u001b[39m       goto #6 if not %28\n",
      "\u001b[90m3 ─\u001b[39m %30 = STA\u001b[36m::Vector{Float64}\u001b[39m\n",
      "\u001b[90m│  \u001b[39m %31 = STA\u001b[36m::Vector{Float64}\u001b[39m\n",
      "\u001b[90m│  \u001b[39m       Core.typeassert(true, Core.Bool)\n",
      "\u001b[90m│  \u001b[39m %33 = (a:b)\u001b[36m::UnitRange{Int64}\u001b[39m\n",
      "\u001b[90m│  \u001b[39m       (@_13 = (view)(VI_sig, %33))\n",
      "\u001b[90m└──\u001b[39m       goto #5\n",
      "\u001b[90m4 ─\u001b[39m       Core.Const(:(@_13 = false))\n",
      "\u001b[90m5 ┄\u001b[39m %37 = @_13\u001b[36m::Core.PartialStruct(SubArray{Float64, 1, Vector{Float64}, Tuple{UnitRange{Int64}}, true}, Any[Vector{Float64}, Tuple{UnitRange{Int64}}, Int64, Core.Const(1)])\u001b[39m\n",
      "\u001b[90m│  \u001b[39m %38 = Base.broadcasted(VoltoMapSim.:+, %31, %37)\u001b[36m::Core.PartialStruct(Base.Broadcast.Broadcasted{Base.Broadcast.DefaultArrayStyle{1}, Nothing, typeof(+), Tuple{Vector{Float64}, SubArray{Float64, 1, Vector{Float64}, Tuple{UnitRange{Int64}}, true}}}, Any[Core.Const(+), Core.PartialStruct(Tuple{Vector{Float64}, SubArray{Float64, 1, Vector{Float64}, Tuple{UnitRange{Int64}}, true}}, Any[Vector{Float64}, Core.PartialStruct(SubArray{Float64, 1, Vector{Float64}, Tuple{UnitRange{Int64}}, true}, Any[Vector{Float64}, Tuple{UnitRange{Int64}}, Int64, Core.Const(1)])]), Core.Const(nothing)])\u001b[39m\n",
      "\u001b[90m│  \u001b[39m       Base.materialize!(%30, %38)\n",
      "\u001b[90m└──\u001b[39m       (num_wins = num_wins + 1)\n",
      "\u001b[90m6 ┄\u001b[39m       (@_5 = Base.iterate(%16, %23))\n",
      "\u001b[90m│  \u001b[39m %42 = (@_5 === nothing)\u001b[36m::Bool\u001b[39m\n",
      "\u001b[90m│  \u001b[39m %43 = Base.not_int(%42)\u001b[36m::Bool\u001b[39m\n",
      "\u001b[90m└──\u001b[39m       goto #8 if not %43\n",
      "\u001b[90m7 ─\u001b[39m       goto #2\n",
      "\u001b[90m8 ┄\u001b[39m %46 = STA\u001b[36m::Vector{Float64}\u001b[39m\n",
      "\u001b[90m│  \u001b[39m %47 = Base.broadcasted(VoltoMapSim.:/, STA, num_wins)\u001b[36m::Base.Broadcast.Broadcasted{Base.Broadcast.DefaultArrayStyle{1}, Nothing, typeof(/), Tuple{Vector{Float64}, Int64}}\u001b[39m\n",
      "\u001b[90m│  \u001b[39m       Base.materialize!(%46, %47)\n",
      "\u001b[90m└──\u001b[39m       return STA\n",
      "\n"
     ]
    }
   ],
   "source": [
    "@code_warntype calc_STA(s.signals[1].v, s.spike_times[2], p)"
   ]
  },
  {
   "cell_type": "code",
   "execution_count": 22,
   "id": "39029125",
   "metadata": {},
   "outputs": [
    {
     "name": "stdout",
     "output_type": "stream",
     "text": [
      "MethodInstance for VoltoMapSim.calc_avg_STA_v2(::SimData, ::ExperimentParams, ::UnitRange{Int64}, ::\u001b[0mComponentVector{Vector{Int64}})\n",
      "  from calc_avg_STA_v2(s::SimData, p::ExperimentParams, postsyn_neurons, inputs) in VoltoMapSim at C:\\Users\\tfiers\\phd\\pkg\\VoltoMapSim\\src\\sim\\post.jl:63\n",
      "Arguments\n",
      "  #self#\u001b[36m::Core.Const(VoltoMapSim.calc_avg_STA_v2)\u001b[39m\n",
      "  s\u001b[36m::SimData\u001b[39m\n",
      "  p\u001b[36m::ExperimentParams\u001b[39m\n",
      "  postsyn_neurons\u001b[36m::UnitRange{Int64}\u001b[39m\n",
      "  inputs\u001b[36m::ComponentVector{Vector{Int64}, Vector{Vector{Int64}}, Tuple{Axis{(exc = 1:800, inh = 801:1000)}}}\u001b[39m\n",
      "Locals\n",
      "  @_6\u001b[33m\u001b[1m::Union{Nothing, Tuple{Int64, Int64}}\u001b[22m\u001b[39m\n",
      "  avgSTA\u001b[36m::Vector{Float64}\u001b[39m\n",
      "  N\u001b[36m::Int64\u001b[39m\n",
      "  acc\u001b[36m::Vector{Float64}\u001b[39m\n",
      "  win_size\u001b[36m::Int64\u001b[39m\n",
      "  Δt\u001b[36m::Float64\u001b[39m\n",
      "  @_12\u001b[33m\u001b[1m::Union{Nothing, Tuple{Int64, Int64}}\u001b[22m\u001b[39m\n",
      "  n\u001b[36m::Int64\u001b[39m\n",
      "  m\u001b[36m::Int64\u001b[39m\n",
      "  STA\u001b[91m\u001b[1m::Union{Vector, Matrix{Float64}}\u001b[22m\u001b[39m\n",
      "Body\u001b[36m::Vector{Float64}\u001b[39m\n",
      "\u001b[90m1 ─\u001b[39m       Core.NewvarNode(:(avgSTA))\n",
      "\u001b[90m│  \u001b[39m %2  = Base.getproperty(p, :sim)\u001b[91m\u001b[1m::VoltoMapSim.SimParams\u001b[22m\u001b[39m\n",
      "\u001b[90m│  \u001b[39m %3  = Base.getproperty(%2, :general)\u001b[91m\u001b[1m::Any\u001b[22m\u001b[39m\n",
      "\u001b[90m│  \u001b[39m %4  = Base.getproperty(%3, :Δt)\u001b[91m\u001b[1m::Any\u001b[22m\u001b[39m\n",
      "\u001b[90m│  \u001b[39m %5  = Base.convert(VoltoMapSim.Float64, %4)\u001b[91m\u001b[1m::Any\u001b[22m\u001b[39m\n",
      "\u001b[90m│  \u001b[39m       (Δt = Core.typeassert(%5, VoltoMapSim.Float64))\n",
      "\u001b[90m│  \u001b[39m %7  = Base.getproperty(p, :conntest)\u001b[36m::VoltoMapSim.ConnTestParams\u001b[39m\n",
      "\u001b[90m│  \u001b[39m %8  = Base.getproperty(%7, :STA_window_length)\u001b[36m::Float64\u001b[39m\n",
      "\u001b[90m│  \u001b[39m %9  = (%8 / Δt)\u001b[36m::Float64\u001b[39m\n",
      "\u001b[90m│  \u001b[39m       (win_size = VoltoMapSim.round(VoltoMapSim.Int, %9))\n",
      "\u001b[90m│  \u001b[39m       (acc = VoltoMapSim.zeros(VoltoMapSim.Float64, win_size))\n",
      "\u001b[90m│  \u001b[39m       (N = 0)\n",
      "\u001b[90m│  \u001b[39m %13 = postsyn_neurons\u001b[36m::UnitRange{Int64}\u001b[39m\n",
      "\u001b[90m│  \u001b[39m       (@_6 = Base.iterate(%13))\n",
      "\u001b[90m│  \u001b[39m %15 = (@_6 === nothing)\u001b[36m::Bool\u001b[39m\n",
      "\u001b[90m│  \u001b[39m %16 = Base.not_int(%15)\u001b[36m::Bool\u001b[39m\n",
      "\u001b[90m└──\u001b[39m       goto #7 if not %16\n",
      "\u001b[90m2 ┄\u001b[39m %18 = @_6\u001b[36m::Tuple{Int64, Int64}\u001b[39m\n",
      "\u001b[90m│  \u001b[39m       (n = Core.getfield(%18, 1))\n",
      "\u001b[90m│  \u001b[39m %20 = Core.getfield(%18, 2)\u001b[36m::Int64\u001b[39m\n",
      "\u001b[90m│  \u001b[39m %21 = Base.getindex(inputs, n)\u001b[36m::Vector{Int64}\u001b[39m\n",
      "\u001b[90m│  \u001b[39m       (@_12 = Base.iterate(%21))\n",
      "\u001b[90m│  \u001b[39m %23 = (@_12 === nothing)\u001b[36m::Bool\u001b[39m\n",
      "\u001b[90m│  \u001b[39m %24 = Base.not_int(%23)\u001b[36m::Bool\u001b[39m\n",
      "\u001b[90m└──\u001b[39m       goto #5 if not %24\n",
      "\u001b[90m3 ┄\u001b[39m %26 = @_12\u001b[36m::Tuple{Int64, Int64}\u001b[39m\n",
      "\u001b[90m│  \u001b[39m       (m = Core.getfield(%26, 1))\n",
      "\u001b[90m│  \u001b[39m %28 = Core.getfield(%26, 2)\u001b[36m::Int64\u001b[39m\n",
      "\u001b[90m│  \u001b[39m %29 = (m => n)\u001b[36m::Pair{Int64, Int64}\u001b[39m\n",
      "\u001b[90m│  \u001b[39m       (STA = VoltoMapSim.calc_STA(%29, s, p))\n",
      "\u001b[90m│  \u001b[39m %31 = acc\u001b[36m::Vector{Float64}\u001b[39m\n",
      "\u001b[90m│  \u001b[39m %32 = Base.broadcasted(VoltoMapSim.:+, acc, STA)\u001b[91m\u001b[1m::Union{Base.Broadcast.Broadcasted{Base.Broadcast.DefaultArrayStyle{2}, Nothing, typeof(+), Tuple{Vector{Float64}, Matrix{Float64}}}, Base.Broadcast.Broadcasted{Base.Broadcast.DefaultArrayStyle{1}, Nothing, typeof(+)}}\u001b[22m\u001b[39m\n",
      "\u001b[90m│  \u001b[39m       Base.materialize!(%31, %32)\n",
      "\u001b[90m│  \u001b[39m       (N = N + 1)\n",
      "\u001b[90m│  \u001b[39m       (@_12 = Base.iterate(%21, %28))\n",
      "\u001b[90m│  \u001b[39m %36 = (@_12 === nothing)\u001b[36m::Bool\u001b[39m\n",
      "\u001b[90m│  \u001b[39m %37 = Base.not_int(%36)\u001b[36m::Bool\u001b[39m\n",
      "\u001b[90m└──\u001b[39m       goto #5 if not %37\n",
      "\u001b[90m4 ─\u001b[39m       goto #3\n",
      "\u001b[90m5 ┄\u001b[39m       (@_6 = Base.iterate(%13, %20))\n",
      "\u001b[90m│  \u001b[39m %41 = (@_6 === nothing)\u001b[36m::Bool\u001b[39m\n",
      "\u001b[90m│  \u001b[39m %42 = Base.not_int(%41)\u001b[36m::Bool\u001b[39m\n",
      "\u001b[90m└──\u001b[39m       goto #7 if not %42\n",
      "\u001b[90m6 ─\u001b[39m       goto #2\n",
      "\u001b[90m7 ┄\u001b[39m %45 = Base.broadcasted(VoltoMapSim.:/, acc, N)\u001b[36m::Base.Broadcast.Broadcasted{Base.Broadcast.DefaultArrayStyle{1}, Nothing, typeof(/), Tuple{Vector{Float64}, Int64}}\u001b[39m\n",
      "\u001b[90m│  \u001b[39m %46 = Base.materialize(%45)\u001b[36m::Vector{Float64}\u001b[39m\n",
      "\u001b[90m│  \u001b[39m       (avgSTA = %46)\n",
      "\u001b[90m└──\u001b[39m       return %46\n",
      "\n"
     ]
    }
   ],
   "source": [
    "# @code_warntype VoltoMapSim.calc_avg_STA_v2(s, p, postsyn_neurons = 1:40, inputs = s.exc_inputs);\n",
    "@code_warntype VoltoMapSim.calc_avg_STA_v2(s, p, 1:40, s.exc_inputs);"
   ]
  },
  {
   "cell_type": "code",
   "execution_count": null,
   "id": "f597f51e",
   "metadata": {},
   "outputs": [],
   "source": []
  }
 ],
 "metadata": {
  "jupytext": {
   "encoding": "# -*- coding: utf-8 -*-",
   "formats": "ipynb,jl:light"
  },
  "kernelspec": {
   "display_name": "Julia 1.7.0",
   "language": "julia",
   "name": "julia-1.7"
  },
  "language_info": {
   "file_extension": ".jl",
   "mimetype": "application/julia",
   "name": "julia",
   "version": "1.7.0"
  },
  "toc": {
   "base_numbering": 1,
   "nav_menu": {},
   "number_sections": false,
   "sideBar": true,
   "skip_h1_title": true,
   "title_cell": "Table of Contents",
   "title_sidebar": "Contents",
   "toc_cell": false,
   "toc_position": {
    "height": "406.667px",
    "left": "1230.28px",
    "top": "0px",
    "width": "191.933px"
   },
   "toc_section_display": true,
   "toc_window_display": true
  }
 },
 "nbformat": 4,
 "nbformat_minor": 5
}
