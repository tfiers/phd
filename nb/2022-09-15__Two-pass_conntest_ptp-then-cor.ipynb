{
 "cells": [
  {
   "cell_type": "markdown",
   "id": "57ab3994",
   "metadata": {},
   "source": [
    "# 2022-09-15 • Two-pass connection test: ptp, then corr with found avg"
   ]
  },
  {
   "cell_type": "markdown",
   "id": "9d08a6ac",
   "metadata": {},
   "source": [
    "Two-pass connection test: peak-to-peak, then correlation with found average"
   ]
  },
  {
   "cell_type": "markdown",
   "id": "c99fa4fd",
   "metadata": {},
   "source": [
    "## Imports"
   ]
  },
  {
   "cell_type": "code",
   "execution_count": 1,
   "id": "e8eabfaa",
   "metadata": {},
   "outputs": [],
   "source": [
    "#"
   ]
  },
  {
   "cell_type": "code",
   "execution_count": 2,
   "id": "3a016087",
   "metadata": {},
   "outputs": [],
   "source": [
    "using MyToolbox"
   ]
  },
  {
   "cell_type": "code",
   "execution_count": 3,
   "id": "ba1f0cec",
   "metadata": {
    "scrolled": false
   },
   "outputs": [
    {
     "name": "stdout",
     "output_type": "stream",
     "text": [
      "\u001b[36m\u001b[1m[ \u001b[22m\u001b[39m\u001b[36m\u001b[1mInfo: \u001b[22m\u001b[39mPrecompiling VoltoMapSim [f713100b-c48c-421a-b480-5fcb4c589a9e]\n",
      "\u001b[36m\u001b[1m[ \u001b[22m\u001b[39m\u001b[36m\u001b[1mInfo: \u001b[22m\u001b[39mSkipping precompilation since __precompile__(false). Importing VoltoMapSim [f713100b-c48c-421a-b480-5fcb4c589a9e].\n",
      "\u001b[36m\u001b[1m[ \u001b[22m\u001b[39m\u001b[36m\u001b[1mInfo: \u001b[22m\u001b[39mPrecompiling Sciplotlib [61be95e5-9550-4d5f-a203-92a5acbc3116]\n"
     ]
    }
   ],
   "source": [
    "using VoltoMapSim"
   ]
  },
  {
   "cell_type": "markdown",
   "id": "4696dbcf",
   "metadata": {},
   "source": [
    "## Params"
   ]
  },
  {
   "cell_type": "code",
   "execution_count": 4,
   "id": "daa847e7",
   "metadata": {},
   "outputs": [],
   "source": [
    "p = get_params(\n",
    "    duration = 10minutes,\n",
    "    p_conn = 0.04,\n",
    "    g_EE = 1,\n",
    "    g_EI = 1,\n",
    "    g_IE = 4,\n",
    "    g_II = 4,\n",
    "    ext_current = Normal(-0.5 * pA/√seconds, 5 * pA/√seconds),\n",
    "    E_inh = -80 * mV,\n",
    "    record_v = [1:40; 801:810],\n",
    ");"
   ]
  },
  {
   "cell_type": "markdown",
   "id": "8e8f044b",
   "metadata": {},
   "source": [
    "## Run sim"
   ]
  },
  {
   "cell_type": "code",
   "execution_count": 5,
   "id": "af42d809",
   "metadata": {
    "scrolled": false
   },
   "outputs": [
    {
     "name": "stdout",
     "output_type": "stream",
     "text": [
      "  9.931489 seconds (14.15 M allocations: 3.174 GiB, 11.45% gc time, 67.93% compilation time)\n"
     ]
    }
   ],
   "source": [
    "@time s = cached(sim, [p.sim]);"
   ]
  },
  {
   "cell_type": "markdown",
   "id": "1e9f39a2",
   "metadata": {},
   "source": [
    "(To speed this up (precompile this further): investigate with SnoopCompile or JET. Not now)."
   ]
  },
  {
   "cell_type": "code",
   "execution_count": 6,
   "id": "6297f965",
   "metadata": {},
   "outputs": [],
   "source": [
    "s = augment(s, p);"
   ]
  },
  {
   "cell_type": "markdown",
   "id": "9bc73355",
   "metadata": {},
   "source": [
    "## First pass: peak-to-peak"
   ]
  },
  {
   "cell_type": "markdown",
   "id": "2b4c0308",
   "metadata": {},
   "source": [
    "Let's start with just neuron 1 as postsyn."
   ]
  },
  {
   "cell_type": "code",
   "execution_count": 9,
   "id": "ee0b7433",
   "metadata": {},
   "outputs": [],
   "source": [
    "m = 1;"
   ]
  },
  {
   "cell_type": "code",
   "execution_count": 10,
   "id": "16409b9a",
   "metadata": {},
   "outputs": [],
   "source": [
    "perf = cached_conntest_eval(s,m,p);"
   ]
  },
  {
   "cell_type": "code",
   "execution_count": 12,
   "id": "23721462",
   "metadata": {},
   "outputs": [
    {
     "data": {
      "text/plain": [
       "\"ptp\""
      ]
     },
     "execution_count": 12,
     "metadata": {},
     "output_type": "execute_result"
    }
   ],
   "source": [
    "p.conntest.STA_test_statistic"
   ]
  },
  {
   "cell_type": "code",
   "execution_count": 21,
   "id": "268dd91a",
   "metadata": {},
   "outputs": [
    {
     "data": {
      "text/html": [
       "<div class=\"data-frame\"><p>76 rows × 5 columns</p><table class=\"data-frame\"><thead><tr><th></th><th>input_neuron_ID</th><th>real_type</th><th>predicted_type</th><th>pval</th><th>area_over_start</th></tr><tr><th></th><th title=\"Int64\">Int64</th><th title=\"Symbol\">Symbol</th><th title=\"Symbol\">Symbol</th><th title=\"Float64\">Float64</th><th title=\"Float64\">Float64</th></tr></thead><tbody><tr><th>1</th><td>139</td><td>exc</td><td>exc</td><td>0.01</td><td>17</td></tr><tr><th>2</th><td>681</td><td>exc</td><td>inh</td><td>0.01</td><td>-4</td></tr><tr><th>3</th><td>11</td><td>exc</td><td>exc</td><td>0.01</td><td>18</td></tr><tr><th>4</th><td>766</td><td>exc</td><td>exc</td><td>0.01</td><td>52</td></tr><tr><th>&vellip;</th><td>&vellip;</td><td>&vellip;</td><td>&vellip;</td><td>&vellip;</td><td>&vellip;</td></tr></tbody></table></div>"
      ],
      "text/latex": [
       "\\begin{tabular}{r|ccccc}\n",
       "\t& input\\_neuron\\_ID & real\\_type & predicted\\_type & pval & area\\_over\\_start\\\\\n",
       "\t\\hline\n",
       "\t& Int64 & Symbol & Symbol & Float64 & Float64\\\\\n",
       "\t\\hline\n",
       "\t1 & 139 & exc & exc & 0.01 & 17 \\\\\n",
       "\t2 & 681 & exc & inh & 0.01 & -4 \\\\\n",
       "\t3 & 11 & exc & exc & 0.01 & 18 \\\\\n",
       "\t4 & 766 & exc & exc & 0.01 & 52 \\\\\n",
       "\t$\\dots$ & $\\dots$ & $\\dots$ & $\\dots$ & $\\dots$ & $\\dots$ \\\\\n",
       "\\end{tabular}\n"
      ],
      "text/plain": [
       "\u001b[1m76×5 DataFrame\u001b[0m\n",
       "\u001b[1m Row \u001b[0m│\u001b[1m input_neuron_ID \u001b[0m\u001b[1m real_type \u001b[0m\u001b[1m predicted_type \u001b[0m\u001b[1m pval    \u001b[0m\u001b[1m area_over_start \u001b[0m\n",
       "\u001b[1m     \u001b[0m│\u001b[90m Int64           \u001b[0m\u001b[90m Symbol    \u001b[0m\u001b[90m Symbol         \u001b[0m\u001b[90m Float64 \u001b[0m\u001b[90m Float64         \u001b[0m\n",
       "─────┼──────────────────────────────────────────────────────────────────────\n",
       "  ⋮  │        ⋮             ⋮            ⋮            ⋮            ⋮\n",
       "\u001b[36m                                                             76 rows omitted\u001b[0m"
      ]
     },
     "execution_count": 21,
     "metadata": {},
     "output_type": "execute_result"
    }
   ],
   "source": [
    "ENV[\"LINES\"] = 4\n",
    "perf.tested_neurons"
   ]
  },
  {
   "cell_type": "markdown",
   "id": "a25554e7",
   "metadata": {},
   "source": [
    "We take all inputs with `predicted_type` :exc.\n",
    "\n",
    "Current pval threshold is 0.05.  \n",
    "We could be stricter.\n",
    "\n",
    "It'll be tradeoff: stricter threshold gives less STAs to average to build our template;\n",
    "but there will be less noisy STAs mixed in (or even wrong STAs, i.e. of non-inputs)."
   ]
  },
  {
   "cell_type": "code",
   "execution_count": 17,
   "id": "9a545872",
   "metadata": {},
   "outputs": [],
   "source": [
    "#= implementation note: \n",
    "it's a two stage process, so maybe split dataframe.\n",
    "namely:\n",
    "\n",
    "(inputID, postsynID) -> (pval, area_over_start) -> predicted_type\n",
    "\n",
    "first step depends on 'test statistics' used (ptp, corr-with-some-template).\n",
    "second step depends on α.\n",
    "\n",
    "(between first and second data, there's a \"-> STA ->\" step.\n",
    "But we don't save that STA in dataframe, too large. it's implicit).\n",
    "\n",
    "The large work btw is the first step: the shuffles, and for each calculating STA.\n",
    "So.. we could indeed store these shuffled STAs.. it's just 1000 samples per.\n",
    "=#"
   ]
  },
  {
   "cell_type": "code",
   "execution_count": null,
   "id": "8b7e118c",
   "metadata": {},
   "outputs": [],
   "source": []
  }
 ],
 "metadata": {
  "jupytext": {
   "encoding": "# -*- coding: utf-8 -*-",
   "formats": "ipynb,jl:light"
  },
  "kernelspec": {
   "display_name": "Julia-preloaded 1.7.0",
   "language": "julia",
   "name": "julia-preloaded-1.7"
  },
  "language_info": {
   "file_extension": ".jl",
   "mimetype": "application/julia",
   "name": "julia",
   "version": "1.7.0"
  },
  "toc": {
   "base_numbering": 1,
   "nav_menu": {},
   "number_sections": false,
   "sideBar": true,
   "skip_h1_title": true,
   "title_cell": "Table of Contents",
   "title_sidebar": "Contents",
   "toc_cell": false,
   "toc_position": {
    "height": "406.667px",
    "left": "1230.28px",
    "top": "0px",
    "width": "191.938px"
   },
   "toc_section_display": true,
   "toc_window_display": true
  }
 },
 "nbformat": 4,
 "nbformat_minor": 5
}
