{
 "cells": [
  {
   "cell_type": "markdown",
   "id": "57ab3994",
   "metadata": {},
   "source": [
    "# 2022-09-15 • Two-pass connection test: ptp, then corr with found avg"
   ]
  },
  {
   "cell_type": "markdown",
   "id": "b1507681",
   "metadata": {},
   "source": [
    "Two-pass connection test: peak-to-peak, then correlation with found average"
   ]
  },
  {
   "cell_type": "markdown",
   "id": "c99fa4fd",
   "metadata": {},
   "source": [
    "## Imports"
   ]
  },
  {
   "cell_type": "code",
   "execution_count": 6,
   "id": "1a27acb6",
   "metadata": {},
   "outputs": [],
   "source": [
    "#"
   ]
  },
  {
   "cell_type": "code",
   "execution_count": 7,
   "id": "3a016087",
   "metadata": {},
   "outputs": [],
   "source": [
    "using MyToolbox"
   ]
  },
  {
   "cell_type": "code",
   "execution_count": 8,
   "id": "ba1f0cec",
   "metadata": {
    "scrolled": false
   },
   "outputs": [],
   "source": [
    "using VoltoMapSim"
   ]
  },
  {
   "cell_type": "markdown",
   "id": "4696dbcf",
   "metadata": {},
   "source": [
    "## Params"
   ]
  },
  {
   "cell_type": "code",
   "execution_count": 9,
   "id": "daa847e7",
   "metadata": {},
   "outputs": [],
   "source": [
    "p = get_params(\n",
    "    duration = 10minutes,\n",
    "    p_conn = 0.04,\n",
    "    g_EE = 1,\n",
    "    g_EI = 1,\n",
    "    g_IE = 4,\n",
    "    g_II = 4,\n",
    "    ext_current = Normal(-0.5 * pA/√seconds, 5 * pA/√seconds),\n",
    "    E_inh = -80 * mV,\n",
    "    record_v = [1:40; 801:810],\n",
    ");"
   ]
  },
  {
   "cell_type": "markdown",
   "id": "8e8f044b",
   "metadata": {},
   "source": [
    "## Run sim"
   ]
  },
  {
   "cell_type": "code",
   "execution_count": 14,
   "id": "89a2ffe4",
   "metadata": {
    "scrolled": false
   },
   "outputs": [
    {
     "name": "stdout",
     "output_type": "stream",
     "text": [
      "Loading cached output from `C:\\Users\\tfiers\\.phdcache\\datamodel v2 (net)\\sim\\ce5e30aee45561ed.jld2` … done (1.8 s)\n",
      "  1.799546 seconds (458.43 k allocations: 2.439 GiB, 28.60% gc time, 3.96% compilation time: 19% of which was recompilation)\n"
     ]
    }
   ],
   "source": [
    "@time s = cached(sim, [p.sim]);"
   ]
  },
  {
   "cell_type": "code",
   "execution_count": 13,
   "id": "c27a5c3e",
   "metadata": {},
   "outputs": [],
   "source": [
    "s"
   ]
  },
  {
   "cell_type": "code",
   "execution_count": 17,
   "id": "6297f965",
   "metadata": {},
   "outputs": [
    {
     "name": "stdout",
     "output_type": "stream",
     "text": [
      "  0.054799 seconds (19.16 k allocations: 25.912 MiB)\n"
     ]
    }
   ],
   "source": [
    "@time s = augment(s, p);"
   ]
  },
  {
   "cell_type": "markdown",
   "id": "0c755c58",
   "metadata": {},
   "source": [
    "## First pass: peak-to-peak"
   ]
  },
  {
   "cell_type": "markdown",
   "id": "bf6cdb2d",
   "metadata": {},
   "source": [
    "Let's start with just neuron 1 as postsyn."
   ]
  },
  {
   "cell_type": "code",
   "execution_count": 9,
   "id": "7683c9ca",
   "metadata": {},
   "outputs": [],
   "source": [
    "m = 1;"
   ]
  },
  {
   "cell_type": "code",
   "execution_count": 10,
   "id": "e19ebaf6",
   "metadata": {},
   "outputs": [],
   "source": [
    "perf = cached_conntest_eval(s,m,p);"
   ]
  },
  {
   "cell_type": "code",
   "execution_count": 12,
   "id": "075d319f",
   "metadata": {},
   "outputs": [
    {
     "data": {
      "text/plain": [
       "\"ptp\""
      ]
     },
     "execution_count": 12,
     "metadata": {},
     "output_type": "execute_result"
    }
   ],
   "source": [
    "p.conntest.STA_test_statistic"
   ]
  },
  {
   "cell_type": "code",
   "execution_count": 21,
   "id": "5aabc8be",
   "metadata": {},
   "outputs": [
    {
     "data": {
      "text/html": [
       "<div class=\"data-frame\"><p>76 rows × 5 columns</p><table class=\"data-frame\"><thead><tr><th></th><th>input_neuron_ID</th><th>real_type</th><th>predicted_type</th><th>pval</th><th>area_over_start</th></tr><tr><th></th><th title=\"Int64\">Int64</th><th title=\"Symbol\">Symbol</th><th title=\"Symbol\">Symbol</th><th title=\"Float64\">Float64</th><th title=\"Float64\">Float64</th></tr></thead><tbody><tr><th>1</th><td>139</td><td>exc</td><td>exc</td><td>0.01</td><td>17</td></tr><tr><th>2</th><td>681</td><td>exc</td><td>inh</td><td>0.01</td><td>-4</td></tr><tr><th>3</th><td>11</td><td>exc</td><td>exc</td><td>0.01</td><td>18</td></tr><tr><th>4</th><td>766</td><td>exc</td><td>exc</td><td>0.01</td><td>52</td></tr><tr><th>&vellip;</th><td>&vellip;</td><td>&vellip;</td><td>&vellip;</td><td>&vellip;</td><td>&vellip;</td></tr></tbody></table></div>"
      ],
      "text/latex": [
       "\\begin{tabular}{r|ccccc}\n",
       "\t& input\\_neuron\\_ID & real\\_type & predicted\\_type & pval & area\\_over\\_start\\\\\n",
       "\t\\hline\n",
       "\t& Int64 & Symbol & Symbol & Float64 & Float64\\\\\n",
       "\t\\hline\n",
       "\t1 & 139 & exc & exc & 0.01 & 17 \\\\\n",
       "\t2 & 681 & exc & inh & 0.01 & -4 \\\\\n",
       "\t3 & 11 & exc & exc & 0.01 & 18 \\\\\n",
       "\t4 & 766 & exc & exc & 0.01 & 52 \\\\\n",
       "\t$\\dots$ & $\\dots$ & $\\dots$ & $\\dots$ & $\\dots$ & $\\dots$ \\\\\n",
       "\\end{tabular}\n"
      ],
      "text/plain": [
       "\u001b[1m76×5 DataFrame\u001b[0m\n",
       "\u001b[1m Row \u001b[0m│\u001b[1m input_neuron_ID \u001b[0m\u001b[1m real_type \u001b[0m\u001b[1m predicted_type \u001b[0m\u001b[1m pval    \u001b[0m\u001b[1m area_over_start \u001b[0m\n",
       "\u001b[1m     \u001b[0m│\u001b[90m Int64           \u001b[0m\u001b[90m Symbol    \u001b[0m\u001b[90m Symbol         \u001b[0m\u001b[90m Float64 \u001b[0m\u001b[90m Float64         \u001b[0m\n",
       "─────┼──────────────────────────────────────────────────────────────────────\n",
       "  ⋮  │        ⋮             ⋮            ⋮            ⋮            ⋮\n",
       "\u001b[36m                                                             76 rows omitted\u001b[0m"
      ]
     },
     "execution_count": 21,
     "metadata": {},
     "output_type": "execute_result"
    }
   ],
   "source": [
    "ENV[\"LINES\"] = 4\n",
    "perf.tested_neurons"
   ]
  },
  {
   "cell_type": "markdown",
   "id": "41e29f57",
   "metadata": {},
   "source": [
    "We take all inputs with `predicted_type` :exc.\n",
    "\n",
    "Current pval threshold is 0.05.  \n",
    "We could be stricter.\n",
    "\n",
    "It'll be tradeoff: stricter threshold gives less STAs to average to build our template;\n",
    "but there will be less noisy STAs mixed in (or even wrong STAs, i.e. of non-inputs)."
   ]
  },
  {
   "cell_type": "markdown",
   "id": "7bd1e675",
   "metadata": {},
   "source": [
    "Now\n",
    "- Get the :exc input detections for neuron 1\n",
    "- Average their STA\n",
    "- Apply this template to STAs of all inputs"
   ]
  },
  {
   "cell_type": "code",
   "execution_count": 22,
   "id": "f03e241e",
   "metadata": {
    "lines_to_next_cell": 0
   },
   "outputs": [],
   "source": [
    "# But first: cache STAs :)"
   ]
  },
  {
   "cell_type": "code",
   "execution_count": 18,
   "id": "1ed7e5de",
   "metadata": {},
   "outputs": [],
   "source": [
    "SimData = typeof(s);"
   ]
  },
  {
   "cell_type": "code",
   "execution_count": 19,
   "id": "7705d1c1",
   "metadata": {},
   "outputs": [
    {
     "data": {
      "text/html": [
       "<div class=\"data-frame\"><p>3,906 rows × 4 columns</p><table class=\"data-frame\"><thead><tr><th></th><th>post</th><th>pre</th><th>conntype</th><th>posttype</th></tr><tr><th></th><th title=\"Int64\">Int64</th><th title=\"Int64\">Int64</th><th title=\"Symbol\">Symbol</th><th title=\"Symbol\">Symbol</th></tr></thead><tbody><tr><th>1</th><td>1</td><td>139</td><td>exc</td><td>exc</td></tr><tr><th>2</th><td>1</td><td>681</td><td>exc</td><td>exc</td></tr><tr><th>3</th><td>1</td><td>11</td><td>exc</td><td>exc</td></tr><tr><th>&vellip;</th><td>&vellip;</td><td>&vellip;</td><td>&vellip;</td><td>&vellip;</td></tr></tbody></table></div>"
      ],
      "text/latex": [
       "\\begin{tabular}{r|cccc}\n",
       "\t& post & pre & conntype & posttype\\\\\n",
       "\t\\hline\n",
       "\t& Int64 & Int64 & Symbol & Symbol\\\\\n",
       "\t\\hline\n",
       "\t1 & 1 & 139 & exc & exc \\\\\n",
       "\t2 & 1 & 681 & exc & exc \\\\\n",
       "\t3 & 1 & 11 & exc & exc \\\\\n",
       "\t$\\dots$ & $\\dots$ & $\\dots$ & $\\dots$ & $\\dots$ \\\\\n",
       "\\end{tabular}\n"
      ],
      "text/plain": [
       "\u001b[1m3906×4 DataFrame\u001b[0m\n",
       "\u001b[1m  Row \u001b[0m│\u001b[1m post  \u001b[0m\u001b[1m pre   \u001b[0m\u001b[1m conntype \u001b[0m\u001b[1m posttype \u001b[0m\n",
       "\u001b[1m      \u001b[0m│\u001b[90m Int64 \u001b[0m\u001b[90m Int64 \u001b[0m\u001b[90m Symbol   \u001b[0m\u001b[90m Symbol   \u001b[0m\n",
       "──────┼──────────────────────────────────\n",
       "  ⋮   │   ⋮      ⋮       ⋮         ⋮\n",
       "\u001b[36m                        3906 rows omitted\u001b[0m"
      ]
     },
     "metadata": {},
     "output_type": "display_data"
    }
   ],
   "source": [
    "function get_tested_connections(s::SimData, p::ExpParams)\n",
    "    # We do not test all N x N connections (that's too much).\n",
    "    # The connections we do test are determined by which neurons\n",
    "    # we record the voltage off, and the `N_tested_presyn` parameter.\n",
    "    \n",
    "    tested_connections = DataFrame(\n",
    "        post     = Int[],     # neuron ID  \n",
    "        pre      = Int[],     # neuron ID\n",
    "        conntype = Symbol[],  # :exc or :inh or :unconn\n",
    "        posttype = Symbol[],  # :exc or :inh\n",
    "    )\n",
    "    \n",
    "    @unpack N_tested_presyn, rngseed = p.conntest\n",
    "    \n",
    "    resetrng!(rngseed)\n",
    "    \n",
    "    function get_labelled_sample(input_neurons, conntype)\n",
    "        # Example output: `[(3, :exc), (5, :exc), (12, :exc), …]`.\n",
    "        N = min(length(input_neurons), N_tested_presyn)\n",
    "        inputs_sample = sample(input_neurons, N, replace = false, ordered = true)\n",
    "        zip(inputs_sample, fill(conntype, N))\n",
    "    end\n",
    "    \n",
    "    recorded_neurons = keys(s.v) |> collect |> sort!\n",
    "    \n",
    "    for post in recorded_neurons\n",
    "        \n",
    "        posttype = s.neuron_type[post]\n",
    "        \n",
    "        inputs_to_test = chain(\n",
    "            get_labelled_sample(s.exc_inputs[post], :exc),\n",
    "            get_labelled_sample(s.inh_inputs[post], :inh),\n",
    "            get_labelled_sample(s.non_inputs[post], :unconn),\n",
    "        ) |> collect\n",
    "        \n",
    "        for (pre, conntype) in inputs_to_test\n",
    "            push!(tested_connections, (; post, pre, conntype, posttype))\n",
    "        end\n",
    "    end\n",
    "    \n",
    "    return tested_connections\n",
    "end\n",
    "\n",
    "tc = get_tested_connections(s, p)\n",
    "\n",
    "disp(tc, 3)"
   ]
  },
  {
   "cell_type": "code",
   "execution_count": 83,
   "id": "e5b58689",
   "metadata": {},
   "outputs": [
    {
     "data": {
      "text/plain": [
       "calc_all_STAs (generic function with 1 method)"
      ]
     },
     "execution_count": 83,
     "metadata": {},
     "output_type": "execute_result"
    }
   ],
   "source": [
    "using Base.Threads\n",
    "\n",
    "function calc_all_STAs(s::SimData, p::ExpParams)\n",
    "    # Multi-threaded calculation of the real and shuffled STAs of all tested connections.\n",
    "    #\n",
    "    # We use a Channel to gather calculations,\n",
    "    # as inserting items into a Dict is not thread-safe.\n",
    "    @unpack rngseed, num_shuffles = p.conntest\n",
    "    tc = tested_connections = get_tested_connections(s, p)\n",
    "    recorded_neurons = unique(tested_connections.post)\n",
    "    ch = Channel(Inf)  # `Inf` size, so no blocking on insert\n",
    "    pbar = Progress(nrow(tested_connections), desc = \"Calculating STAs: \")\n",
    "    @info \"Using $(nthreads()) threads\"\n",
    "    @threads(\n",
    "    for m in recorded_neurons\n",
    "        v = s.v[m]\n",
    "        inputs_to_test = tc.pre[tc.post .== m]\n",
    "        for n in inputs_to_test\n",
    "            spikes = s.spike_times[n]\n",
    "            real_STA = calc_STA(v, spikes, p)\n",
    "            shuffled_STAz = Vector(undef, num_shuffles)  # [1]\n",
    "            resetrng!(rngseed)\n",
    "            for i in 1:num_shuffles\n",
    "                shuffled_spikes = shuffle_ISIs(spikes)\n",
    "                shuffled_STAz[i] = calc_STA(v, shuffled_spikes, p)\n",
    "            end\n",
    "            put!(ch, ((n => m), real_STA, shuffled_STAz))\n",
    "            next!(pbar)\n",
    "        end\n",
    "    end)\n",
    "    # Empty the channel, into the output dicts\n",
    "    STAs          = Dict{Pair{Int, Int}, Vector{Float64}}()\n",
    "    shuffled_STAs = Dict{Pair{Int, Int}, Vector{Vector{Float64}}}()\n",
    "    while !isempty(ch)\n",
    "        conn, real, shuffleds = take!(ch)\n",
    "        STAs[conn]          = real\n",
    "        shuffled_STAs[conn] = shuffleds\n",
    "    end\n",
    "    close(ch)\n",
    "    \n",
    "    return (; tested_connections, STAs, shuffled_STAs)\n",
    "end\n",
    "\n",
    "# [1] Giving this the same name as the output dict, in combination with `@threads`,\n",
    "# confuses type inference and infers `Any` for the `shuffled_STAs` output dict."
   ]
  },
  {
   "cell_type": "code",
   "execution_count": 12,
   "id": "c60092fa",
   "metadata": {},
   "outputs": [],
   "source": [
    "# For 4000 connections tested (0.4% of all) and 100 shuffles,\n",
    "# we get 404_000 STAs.\n",
    "# At 1000 Float64 samples per STA, that is 3.2 GB."
   ]
  },
  {
   "cell_type": "code",
   "execution_count": 11,
   "id": "0253b734",
   "metadata": {
    "scrolled": true
   },
   "outputs": [
    {
     "name": "stdout",
     "output_type": "stream",
     "text": [
      "\u001b[36m\u001b[1m[ \u001b[22m\u001b[39m\u001b[36m\u001b[1mInfo: \u001b[22m\u001b[39mUsing 7 threads\n",
      "\u001b[32mCalculating STAs: 100%|█████████████████████████████████| Time: 0:16:23\u001b[39m\n",
      "Saving output at `C:\\Users\\tfiers\\.phdcache\\datamodel v2 (net)\\calc_all_STAs\\b9353bdd11d8b8cb.jld2` … done (11.5 s)\n"
     ]
    }
   ],
   "source": [
    "out = cached(calc_all_STAs, [s,p], key=[p.sim, p.conntest]);"
   ]
  },
  {
   "cell_type": "code",
   "execution_count": 25,
   "id": "4e79728c",
   "metadata": {},
   "outputs": [
    {
     "data": {
      "image/png": "[encoded data removed]",
      "text/plain": [
       "PyPlot.Figure(PyObject <Figure size 800x480 with 1 Axes>)"
      ]
     },
     "metadata": {
      "image/png": {
       "height": 240,
       "width": 400
      }
     },
     "output_type": "display_data"
    }
   ],
   "source": [
    "plotsig(out.STAs[139=>1] / mV, p);"
   ]
  }
 ],
 "metadata": {
  "jupytext": {
   "encoding": "# -*- coding: utf-8 -*-",
   "formats": "ipynb,jl:light"
  },
  "kernelspec": {
   "display_name": "Julia 1.8.1 mysys",
   "language": "julia",
   "name": "julia-1.8-mysys"
  },
  "language_info": {
   "file_extension": ".jl",
   "mimetype": "application/julia",
   "name": "julia",
   "version": "1.8.1"
  },
  "toc": {
   "base_numbering": 1,
   "nav_menu": {},
   "number_sections": false,
   "sideBar": true,
   "skip_h1_title": true,
   "title_cell": "Table of Contents",
   "title_sidebar": "Contents",
   "toc_cell": false,
   "toc_position": {
    "height": "406.667px",
    "left": "1230.28px",
    "top": "0px",
    "width": "191.938px"
   },
   "toc_section_display": true,
   "toc_window_display": true
  }
 },
 "nbformat": 4,
 "nbformat_minor": 5
}
