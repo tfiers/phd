{
 "cells": [
  {
   "cell_type": "markdown",
   "id": "57ab3994",
   "metadata": {},
   "source": [
    "# 2022-09-29 • Use parametric STA model for connection testing"
   ]
  },
  {
   "cell_type": "markdown",
   "id": "c99fa4fd",
   "metadata": {},
   "source": [
    "## Imports"
   ]
  },
  {
   "cell_type": "code",
   "execution_count": 3,
   "id": "1a27acb6",
   "metadata": {},
   "outputs": [],
   "source": [
    "#"
   ]
  },
  {
   "cell_type": "code",
   "execution_count": 4,
   "id": "3a016087",
   "metadata": {},
   "outputs": [],
   "source": [
    "using MyToolbox"
   ]
  },
  {
   "cell_type": "code",
   "execution_count": 6,
   "id": "ba1f0cec",
   "metadata": {
    "scrolled": false
   },
   "outputs": [
    {
     "name": "stdout",
     "output_type": "stream",
     "text": [
      "\u001b[36m\u001b[1m[ \u001b[22m\u001b[39m\u001b[36m\u001b[1mInfo: \u001b[22m\u001b[39mPrecompiling VoltoMapSim [f713100b-c48c-421a-b480-5fcb4c589a9e]\n"
     ]
    }
   ],
   "source": [
    "using VoltoMapSim"
   ]
  },
  {
   "cell_type": "markdown",
   "id": "5e889bcd",
   "metadata": {},
   "source": [
    "Note that we consolidated code from the previous notebook in the codebase (see github, `pkg/VoltoMapSim/src/`)"
   ]
  },
  {
   "cell_type": "markdown",
   "id": "4696dbcf",
   "metadata": {},
   "source": [
    "## Params"
   ]
  },
  {
   "cell_type": "code",
   "execution_count": 7,
   "id": "daa847e7",
   "metadata": {},
   "outputs": [],
   "source": [
    "p = get_params(\n",
    "    duration = 10minutes,\n",
    "    p_conn = 0.04,\n",
    "    g_EE = 1,\n",
    "    g_EI = 1,\n",
    "    g_IE = 4,\n",
    "    g_II = 4,\n",
    "    ext_current = Normal(-0.5 * pA/√seconds, 5 * pA/√seconds),\n",
    "    E_inh = -80 * mV,\n",
    "    record_v = [1:40; 801:810],\n",
    ");"
   ]
  },
  {
   "cell_type": "markdown",
   "id": "06464d37",
   "metadata": {},
   "source": [
    "## Load STA's"
   ]
  },
  {
   "cell_type": "markdown",
   "id": "de03595c",
   "metadata": {},
   "source": [
    "(They're precalculated)."
   ]
  },
  {
   "cell_type": "code",
   "execution_count": 51,
   "id": "8730d0bb",
   "metadata": {},
   "outputs": [
    {
     "name": "stdout",
     "output_type": "stream",
     "text": [
      "Loading cached output from `C:\\Users\\tfiers\\.phdcache\\calc_all_STAs\\b9353bdd11d8b8cb.jld2` … done (10.9 s)\n"
     ]
    }
   ],
   "source": [
    "out = cached_STAs(p);"
   ]
  },
  {
   "cell_type": "code",
   "execution_count": 60,
   "id": "15cc797d",
   "metadata": {},
   "outputs": [],
   "source": [
    "(conns, STAs, shuffled_STAs) = out;"
   ]
  },
  {
   "cell_type": "code",
   "execution_count": 59,
   "id": "654c50cd",
   "metadata": {
    "scrolled": true
   },
   "outputs": [
    {
     "data": {
      "text/plain": [
       "3.18"
      ]
     },
     "execution_count": 59,
     "metadata": {},
     "output_type": "execute_result"
    }
   ],
   "source": [
    "Base.summarysize(out) / GB"
   ]
  },
  {
   "cell_type": "code",
   "execution_count": 118,
   "id": "35e8d00f",
   "metadata": {},
   "outputs": [],
   "source": [
    "# Print info on output of `get_connection_to_test()`\n",
    "function summarize_conns_to_test(ctt)\n",
    "    n_post = length(unique(ctt.post))\n",
    "    println(\"We test $(nrow(ctt)) putative input connections to $(n_post) neurons.\")\n",
    "    n(typ) = count(ctt.conntype .== typ)\n",
    "    println(\"$(n(:exc)) of those connections are excitatory, $(n(:inh)) are inhibitory, \"*\n",
    "            \"and the remaining $(n(:unconn)) are non-connections.\")\n",
    "end;"
   ]
  },
  {
   "cell_type": "code",
   "execution_count": 119,
   "id": "def3fb08",
   "metadata": {},
   "outputs": [
    {
     "name": "stdout",
     "output_type": "stream",
     "text": [
      "We test 3906 putative input connections to 50 neurons.\n",
      "1515 of those connections are excitatory, 391 are inhibitory, and the remaining 2000 are non-connections.\n"
     ]
    }
   ],
   "source": [
    "summarize_conns_to_test(conns)"
   ]
  },
  {
   "cell_type": "code",
   "execution_count": 67,
   "id": "92dc2676",
   "metadata": {},
   "outputs": [],
   "source": [
    "testall(f; α) = test_conns(f, conns, STAs, shuffled_STAs; α);"
   ]
  },
  {
   "cell_type": "code",
   "execution_count": 69,
   "id": "249d5f57",
   "metadata": {},
   "outputs": [
    {
     "name": "stdout",
     "output_type": "stream",
     "text": [
      "\u001b[32mTesting connections: 100%|██████████████████████████████| Time: 0:00:01\u001b[39m\n"
     ]
    }
   ],
   "source": [
    "tc_ptp = testall(test_conn__ptp, α = 0.01);"
   ]
  },
  {
   "cell_type": "code",
   "execution_count": null,
   "id": "6593a565",
   "metadata": {},
   "outputs": [],
   "source": [
    "function summarize_test_results(tc, typpe)\n",
    "    pm = perfmeasures(tc)\n",
    "    i = findfirst(pm.conntypes[typpe])\n",
    "end"
   ]
  },
  {
   "cell_type": "code",
   "execution_count": 75,
   "id": "6ba4de92",
   "metadata": {},
   "outputs": [
    {
     "data": {
      "text/plain": [
       "(counts = [1843 576 56; 46 789 10; 111 150 325], sensitivities = Any[0.921, 0.521, 0.831], precisions = Any[0.745, 0.934, 0.555], conntypes = [:unconn, :exc, :inh], conntypes_matrix = [(:unconn, :unconn) (:unconn, :exc) (:unconn, :inh); (:exc, :unconn) (:exc, :exc) (:exc, :inh); (:inh, :unconn) (:inh, :exc) (:inh, :inh)])"
      ]
     },
     "execution_count": 75,
     "metadata": {},
     "output_type": "execute_result"
    }
   ],
   "source": [
    "pm = perfmeasures(tc_ptp)"
   ]
  },
  {
   "cell_type": "code",
   "execution_count": 64,
   "id": "02ed4718",
   "metadata": {
    "scrolled": true
   },
   "outputs": [
    {
     "data": {
      "text/html": [
       "<table><tr><th align=\"right\">Tested connections: 3906</th><th align=\"right\">&nbsp; &nbsp; &nbsp; &nbsp; &nbsp; &nbsp;</th><th align=\"right\">&nbsp; &nbsp; &nbsp; &nbsp; &nbsp; &nbsp; &nbsp; &nbsp;</th><th align=\"right\">&nbsp; &nbsp; &nbsp; &nbsp; &nbsp; &nbsp; &nbsp; &nbsp; &nbsp;</th><th align=\"right\">&nbsp; &nbsp; &nbsp; &nbsp; &nbsp; &nbsp; &nbsp; &nbsp;</th><th align=\"right\">&nbsp; &nbsp; &nbsp;</th><th align=\"right\">&nbsp; &nbsp; &nbsp; &nbsp; &nbsp; &nbsp; &nbsp; &nbsp; &nbsp;</th></tr><tr><td align=\"right\"></td><td align=\"right\"></td><td align=\"right\"><strong>┌───────</strong></td><td align=\"right\"><strong>Real type</strong></td><td align=\"right\"><strong>───────┐</strong></td><td align=\"right\"></td><td align=\"right\"><strong>Precision</strong></td></tr><tr><td align=\"right\"></td><td align=\"right\"></td><td align=\"right\"><code>unconn</code></td><td align=\"right\"><code>exc</code></td><td align=\"right\"><code>inh</code></td><td align=\"right\"></td><td align=\"right\"></td></tr><tr><td align=\"right\"><strong>┌</strong></td><td align=\"right\"><code>unconn</code></td><td align=\"right\">1843</td><td align=\"right\">576</td><td align=\"right\">56</td><td align=\"right\"></td><td align=\"right\">74&#37;</td></tr><tr><td align=\"right\"><strong>Predicted type</strong></td><td align=\"right\"><code>exc</code></td><td align=\"right\">46</td><td align=\"right\">789</td><td align=\"right\">10</td><td align=\"right\"></td><td align=\"right\">93&#37;</td></tr><tr><td align=\"right\"><strong>└</strong></td><td align=\"right\"><code>inh</code></td><td align=\"right\">111</td><td align=\"right\">150</td><td align=\"right\">325</td><td align=\"right\"></td><td align=\"right\">55&#37;</td></tr><tr><td align=\"right\"></td><td align=\"right\"></td><td align=\"right\"></td><td align=\"right\"></td><td align=\"right\"></td><td align=\"right\"></td><td align=\"right\"></td></tr><tr><td align=\"right\"><strong>Sensitivity</strong></td><td align=\"right\"></td><td align=\"right\">92&#37;</td><td align=\"right\">52&#37;</td><td align=\"right\">83&#37;</td><td align=\"right\"></td><td align=\"right\"></td></tr></table>\n"
      ],
      "text/markdown": [
       "|Tested connections: 3906|&nbsp; &nbsp; &nbsp; &nbsp; &nbsp; &nbsp; |&nbsp; &nbsp; &nbsp; &nbsp; &nbsp; &nbsp; &nbsp; &nbsp; |&nbsp; &nbsp; &nbsp; &nbsp; &nbsp; &nbsp; &nbsp; &nbsp; &nbsp; |&nbsp; &nbsp; &nbsp; &nbsp; &nbsp; &nbsp; &nbsp; &nbsp; |&nbsp; &nbsp; &nbsp; |&nbsp; &nbsp; &nbsp; &nbsp; &nbsp; &nbsp; &nbsp; &nbsp; &nbsp; |\n",
       "|------------------|--------|------------|-------------|------------|-------|-------------|\n",
       "|                  |        |**┌───────**|**Real type**|**───────┐**|       |**Precision**|\n",
       "|                  |        |    `unconn`|        `exc`|       `inh`|       |             |\n",
       "|             **┌**|`unconn`|        1843|          576|          56|       |          74%|\n",
       "|**Predicted type**|   `exc`|          46|          789|          10|       |          93%|\n",
       "|             **└**|   `inh`|         111|          150|         325|       |          55%|\n",
       "|                  |        |            |             |            |       |             |\n",
       "|   **Sensitivity**|        |         92%|          52%|         83%|       |             |\n"
      ],
      "text/plain": [
       "\u001b[0m\u001b[1mTested connections: 3906\u001b[22m\n",
       "\n",
       "\u001b[0m\u001b[1m               \u001b[22m\u001b[0m\u001b[1m       \u001b[22m\u001b[0m\u001b[1m ┌───────\u001b[22m\u001b[0m\u001b[1m Real type\u001b[22m\u001b[0m\u001b[1m ───────┐\u001b[22m\u001b[0m\u001b[1m   \u001b[22m\u001b[0m\u001b[1m Precision\u001b[22m\n",
       "\u001b[0m\u001b[1m               \u001b[22m\u001b[0m       \u001b[0m   unconn\u001b[0m       exc\u001b[0m      inh\u001b[0m   \u001b[0m          \n",
       "\u001b[0m\u001b[1m              ┌\u001b[22m\u001b[0m unconn\u001b[0m     1843\u001b[0m       576\u001b[0m       56\u001b[0m   \u001b[0m       74%\n",
       "\u001b[0m\u001b[1m Predicted type\u001b[22m\u001b[0m    exc\u001b[0m       46\u001b[0m       789\u001b[0m       10\u001b[0m   \u001b[0m       93%\n",
       "\u001b[0m\u001b[1m              └\u001b[22m\u001b[0m    inh\u001b[0m      111\u001b[0m       150\u001b[0m      325\u001b[0m   \u001b[0m       55%\n",
       "\u001b[0m\u001b[1m               \u001b[22m\u001b[0m       \u001b[0m         \u001b[0m          \u001b[0m         \u001b[0m   \u001b[0m          \n",
       "\u001b[0m\u001b[1m    Sensitivity\u001b[22m\u001b[0m       \u001b[0m      92%\u001b[0m       52%\u001b[0m      83%\u001b[0m   \u001b[0m          \n"
      ]
     },
     "execution_count": 64,
     "metadata": {},
     "output_type": "execute_result"
    }
   ],
   "source": [
    "perftable(tc_ptp)"
   ]
  },
  {
   "cell_type": "markdown",
   "id": "b7a160fc",
   "metadata": {},
   "source": [
    "```\n",
    "- 845 exc connections found.\n",
    "    - 93% of those are correct.\n",
    "    - 52% of all true exc connections were detected.\n",
    "```"
   ]
  },
  {
   "cell_type": "code",
   "execution_count": null,
   "id": "848282ba",
   "metadata": {},
   "outputs": [],
   "source": []
  },
  {
   "cell_type": "code",
   "execution_count": null,
   "id": "fcdbab56",
   "metadata": {},
   "outputs": [],
   "source": []
  },
  {
   "cell_type": "code",
   "execution_count": 74,
   "id": "dc40ddc5",
   "metadata": {},
   "outputs": [
    {
     "data": {
      "text/plain": [
       "50"
      ]
     },
     "execution_count": 74,
     "metadata": {},
     "output_type": "execute_result"
    }
   ],
   "source": [
    "length(unique(tc_ptp.post))"
   ]
  },
  {
   "cell_type": "code",
   "execution_count": null,
   "id": "20f280dc",
   "metadata": {},
   "outputs": [],
   "source": []
  }
 ],
 "metadata": {
  "jupytext": {
   "encoding": "# -*- coding: utf-8 -*-",
   "formats": "ipynb,jl:light"
  },
  "kernelspec": {
   "display_name": "Julia 1.8.1 mysys",
   "language": "julia",
   "name": "julia-1.8-mysys"
  },
  "language_info": {
   "file_extension": ".jl",
   "mimetype": "application/julia",
   "name": "julia",
   "version": "1.8.1"
  },
  "toc": {
   "base_numbering": 1,
   "nav_menu": {},
   "number_sections": false,
   "sideBar": true,
   "skip_h1_title": true,
   "title_cell": "Table of Contents",
   "title_sidebar": "Contents",
   "toc_cell": false,
   "toc_position": {
    "height": "406.667px",
    "left": "1230.28px",
    "top": "0px",
    "width": "186.938px"
   },
   "toc_section_display": true,
   "toc_window_display": true
  }
 },
 "nbformat": 4,
 "nbformat_minor": 5
}
