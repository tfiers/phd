{
 "cells": [
  {
   "cell_type": "markdown",
   "id": "57ab3994",
   "metadata": {},
   "source": [
    "# 2022-09-29 • Summary of two-pass conntest"
   ]
  },
  {
   "cell_type": "markdown",
   "id": "a86ffe66",
   "metadata": {},
   "source": [
    "This notebook is a summary of the previous one,\n",
    "where all its new code has consolidated in the codebase (see github, `pkg/VoltoMapSim/src/`)."
   ]
  },
  {
   "cell_type": "markdown",
   "id": "c99fa4fd",
   "metadata": {},
   "source": [
    "## Imports"
   ]
  },
  {
   "cell_type": "code",
   "execution_count": 3,
   "id": "1a27acb6",
   "metadata": {},
   "outputs": [],
   "source": [
    "#"
   ]
  },
  {
   "cell_type": "code",
   "execution_count": 4,
   "id": "3a016087",
   "metadata": {},
   "outputs": [],
   "source": [
    "using MyToolbox"
   ]
  },
  {
   "cell_type": "code",
   "execution_count": 6,
   "id": "ba1f0cec",
   "metadata": {
    "scrolled": false
   },
   "outputs": [
    {
     "name": "stdout",
     "output_type": "stream",
     "text": [
      "\u001b[36m\u001b[1m[ \u001b[22m\u001b[39m\u001b[36m\u001b[1mInfo: \u001b[22m\u001b[39mPrecompiling VoltoMapSim [f713100b-c48c-421a-b480-5fcb4c589a9e]\n"
     ]
    }
   ],
   "source": [
    "using VoltoMapSim"
   ]
  },
  {
   "cell_type": "markdown",
   "id": "4696dbcf",
   "metadata": {},
   "source": [
    "## Params"
   ]
  },
  {
   "cell_type": "code",
   "execution_count": 7,
   "id": "daa847e7",
   "metadata": {},
   "outputs": [],
   "source": [
    "p = get_params(\n",
    "    duration = 10minutes,\n",
    "    p_conn = 0.04,\n",
    "    g_EE = 1,\n",
    "    g_EI = 1,\n",
    "    g_IE = 4,\n",
    "    g_II = 4,\n",
    "    ext_current = Normal(-0.5 * pA/√seconds, 5 * pA/√seconds),\n",
    "    E_inh = -80 * mV,\n",
    "    record_v = [1:40; 801:810],\n",
    ");"
   ]
  },
  {
   "cell_type": "markdown",
   "id": "3b49debb",
   "metadata": {},
   "source": [
    "## Load STA's"
   ]
  },
  {
   "cell_type": "markdown",
   "id": "f0079351",
   "metadata": {},
   "source": [
    "(They're precalculated)."
   ]
  },
  {
   "cell_type": "code",
   "execution_count": 51,
   "id": "5364f631",
   "metadata": {},
   "outputs": [
    {
     "name": "stdout",
     "output_type": "stream",
     "text": [
      "Loading cached output from `C:\\Users\\tfiers\\.phdcache\\calc_all_STAs\\b9353bdd11d8b8cb.jld2` … done (10.9 s)\n"
     ]
    }
   ],
   "source": [
    "out = cached_STAs(p);"
   ]
  },
  {
   "cell_type": "code",
   "execution_count": 60,
   "id": "48ff9227",
   "metadata": {},
   "outputs": [],
   "source": [
    "(conns, STAs, shuffled_STAs) = out;"
   ]
  },
  {
   "cell_type": "code",
   "execution_count": 59,
   "id": "ae0bff9f",
   "metadata": {
    "scrolled": true
   },
   "outputs": [
    {
     "data": {
      "text/plain": [
       "3.18"
      ]
     },
     "execution_count": 59,
     "metadata": {},
     "output_type": "execute_result"
    }
   ],
   "source": [
    "Base.summarysize(out) / GB"
   ]
  },
  {
   "cell_type": "code",
   "execution_count": 304,
   "id": "4cc66a4d",
   "metadata": {},
   "outputs": [
    {
     "name": "stdout",
     "output_type": "stream",
     "text": [
      "We test 3906 putative input connections to 50 neurons.\n",
      "1515 of those connections are excitatory, 391 are inhibitory, and the remaining 2000 are non-connections.\n"
     ]
    }
   ],
   "source": [
    "# Print info on output of `get_connection_to_test()`\n",
    "function summarize_conns_to_test(ctt)\n",
    "    n_post = length(unique(ctt.post))\n",
    "    println(\"We test \", nrow(ctt), \" putative input connections to \", n_post, \" neurons.\")\n",
    "    n(typ) = count(ctt.conntype .== typ)\n",
    "    println(n(:exc), \" of those connections are excitatory, \", n(:inh), \" are inhibitory, \",\n",
    "            \"and the remaining \", n(:unconn), \" are non-connections.\")\n",
    "end\n",
    "\n",
    "summarize_conns_to_test(conns)"
   ]
  },
  {
   "cell_type": "markdown",
   "id": "855fd6a5",
   "metadata": {},
   "source": [
    "## Test"
   ]
  },
  {
   "cell_type": "markdown",
   "id": "20778cc0",
   "metadata": {},
   "source": [
    "First peak-to-peak, strict alpha of 0.01 (`tc_ptp`).\n",
    "\n",
    "Then correlate with found average exc STA, alpha 0.05 (`tc_corr`).\n",
    "\n",
    "---"
   ]
  },
  {
   "cell_type": "code",
   "execution_count": 67,
   "id": "5cee36f8",
   "metadata": {},
   "outputs": [],
   "source": [
    "testall(f; α) = test_conns(f, conns, STAs, shuffled_STAs; α);"
   ]
  },
  {
   "cell_type": "code",
   "execution_count": 69,
   "id": "7dfc51fc",
   "metadata": {},
   "outputs": [
    {
     "name": "stdout",
     "output_type": "stream",
     "text": [
      "\u001b[32mTesting connections: 100%|██████████████████████████████| Time: 0:00:01\u001b[39m\n"
     ]
    }
   ],
   "source": [
    "tc_ptp = testall(test_conn__ptp, α = 0.01);"
   ]
  },
  {
   "cell_type": "code",
   "execution_count": 314,
   "id": "2ba36e0c",
   "metadata": {},
   "outputs": [
    {
     "name": "stdout",
     "output_type": "stream",
     "text": [
      "845 exc connections found. 93% of those are correct.\n",
      "The correct exc detections make up 52% of all true exc connections.\n"
     ]
    }
   ],
   "source": [
    "function summarize_test_results(tc, typ)\n",
    "    pm = perfmeasures(tc)\n",
    "    println(pm.num_pred[typ], \" $typ connections found. \", fmt_pct(pm.precision[typ]), \" of those are correct.\")\n",
    "    println(\"The correct $typ detections make up \", fmt_pct(pm.sensitivity[typ]), \" of all true $typ connections.\")\n",
    "end\n",
    "\n",
    "summarize_test_results(tc_ptp, :exc)"
   ]
  },
  {
   "cell_type": "code",
   "execution_count": 308,
   "id": "c1c28a94",
   "metadata": {},
   "outputs": [],
   "source": [
    "avg_ptp_exc_STA = mean(STAs[conn.pre => conn.post] for conn in eachrow(tc_ptp) if conn.predtype == :exc);"
   ]
  },
  {
   "cell_type": "code",
   "execution_count": 309,
   "id": "8d5b7475",
   "metadata": {},
   "outputs": [
    {
     "name": "stdout",
     "output_type": "stream",
     "text": [
      "\u001b[32mTesting connections: 100%|██████████████████████████████| Time: 0:00:07\u001b[39m\n"
     ]
    }
   ],
   "source": [
    "tc_corr = testall(test_conn__corr $ (; template = avg_ptp_exc_STA), α = 0.05);"
   ]
  },
  {
   "cell_type": "code",
   "execution_count": 316,
   "id": "32808c52",
   "metadata": {},
   "outputs": [
    {
     "name": "stdout",
     "output_type": "stream",
     "text": [
      "1374 exc connections found. 90% of those are correct.\n",
      "The correct exc detections make up 82% of all true exc connections.\n",
      "\n",
      "529 inh connections found. 69% of those are correct.\n",
      "The correct inh detections make up 94% of all true inh connections.\n",
      "\n",
      "2003 unconn connections found. 85% of those are correct.\n",
      "The correct unconn detections make up 85% of all true unconn connections.\n"
     ]
    }
   ],
   "source": [
    "function summarize_test_results(tc)\n",
    "    summarize_test_results(tc, :exc)\n",
    "    println()\n",
    "    summarize_test_results(tc, :inh)\n",
    "    println()\n",
    "    summarize_test_results(tc, :unconn)\n",
    "end\n",
    "\n",
    "summarize_test_results(tc_corr)"
   ]
  },
  {
   "cell_type": "code",
   "execution_count": 312,
   "id": "37fea963",
   "metadata": {},
   "outputs": [
    {
     "data": {
      "text/html": [
       "<table><tr><th align=\"right\">Tested connections: 3906</th><th align=\"right\">&nbsp; &nbsp; &nbsp; &nbsp; &nbsp; &nbsp;</th><th align=\"right\">&nbsp; &nbsp; &nbsp; &nbsp; &nbsp; &nbsp; &nbsp; &nbsp;</th><th align=\"right\">&nbsp; &nbsp; &nbsp; &nbsp; &nbsp; &nbsp; &nbsp; &nbsp; &nbsp;</th><th align=\"right\">&nbsp; &nbsp; &nbsp; &nbsp; &nbsp; &nbsp; &nbsp; &nbsp;</th><th align=\"right\">&nbsp; &nbsp; &nbsp;</th><th align=\"right\">&nbsp; &nbsp; &nbsp; &nbsp; &nbsp; &nbsp; &nbsp; &nbsp; &nbsp;</th></tr><tr><td align=\"right\"></td><td align=\"right\"></td><td align=\"right\"><strong>┌───────</strong></td><td align=\"right\"><strong>Real type</strong></td><td align=\"right\"><strong>───────┐</strong></td><td align=\"right\"></td><td align=\"right\"><strong>Precision</strong></td></tr><tr><td align=\"right\"></td><td align=\"right\"></td><td align=\"right\"><code>unconn</code></td><td align=\"right\"><code>exc</code></td><td align=\"right\"><code>inh</code></td><td align=\"right\"></td><td align=\"right\"></td></tr><tr><td align=\"right\"><strong>┌</strong></td><td align=\"right\"><code>unconn</code></td><td align=\"right\">1704</td><td align=\"right\">274</td><td align=\"right\">25</td><td align=\"right\"></td><td align=\"right\">85&#37;</td></tr><tr><td align=\"right\"><strong>Predicted type</strong></td><td align=\"right\"><code>exc</code></td><td align=\"right\">139</td><td align=\"right\">1235</td><td align=\"right\">0</td><td align=\"right\"></td><td align=\"right\">90&#37;</td></tr><tr><td align=\"right\"><strong>└</strong></td><td align=\"right\"><code>inh</code></td><td align=\"right\">157</td><td align=\"right\">6</td><td align=\"right\">366</td><td align=\"right\"></td><td align=\"right\">69&#37;</td></tr><tr><td align=\"right\"></td><td align=\"right\"></td><td align=\"right\"></td><td align=\"right\"></td><td align=\"right\"></td><td align=\"right\"></td><td align=\"right\"></td></tr><tr><td align=\"right\"><strong>Sensitivity</strong></td><td align=\"right\"></td><td align=\"right\">85&#37;</td><td align=\"right\">82&#37;</td><td align=\"right\">94&#37;</td><td align=\"right\"></td><td align=\"right\"></td></tr></table>\n"
      ],
      "text/markdown": [
       "|Tested connections: 3906|&nbsp; &nbsp; &nbsp; &nbsp; &nbsp; &nbsp; |&nbsp; &nbsp; &nbsp; &nbsp; &nbsp; &nbsp; &nbsp; &nbsp; |&nbsp; &nbsp; &nbsp; &nbsp; &nbsp; &nbsp; &nbsp; &nbsp; &nbsp; |&nbsp; &nbsp; &nbsp; &nbsp; &nbsp; &nbsp; &nbsp; &nbsp; |&nbsp; &nbsp; &nbsp; |&nbsp; &nbsp; &nbsp; &nbsp; &nbsp; &nbsp; &nbsp; &nbsp; &nbsp; |\n",
       "|------------------|--------|------------|-------------|------------|-------|-------------|\n",
       "|                  |        |**┌───────**|**Real type**|**───────┐**|       |**Precision**|\n",
       "|                  |        |    `unconn`|        `exc`|       `inh`|       |             |\n",
       "|             **┌**|`unconn`|        1704|          274|          25|       |          85%|\n",
       "|**Predicted type**|   `exc`|         139|         1235|           0|       |          90%|\n",
       "|             **└**|   `inh`|         157|            6|         366|       |          69%|\n",
       "|                  |        |            |             |            |       |             |\n",
       "|   **Sensitivity**|        |         85%|          82%|         94%|       |             |\n"
      ],
      "text/plain": [
       "\u001b[0m\u001b[1mTested connections: 3906\u001b[22m\n",
       "\n",
       "\u001b[0m\u001b[1m               \u001b[22m\u001b[0m\u001b[1m       \u001b[22m\u001b[0m\u001b[1m ┌───────\u001b[22m\u001b[0m\u001b[1m Real type\u001b[22m\u001b[0m\u001b[1m ───────┐\u001b[22m\u001b[0m\u001b[1m   \u001b[22m\u001b[0m\u001b[1m Precision\u001b[22m\n",
       "\u001b[0m\u001b[1m               \u001b[22m\u001b[0m       \u001b[0m   unconn\u001b[0m       exc\u001b[0m      inh\u001b[0m   \u001b[0m          \n",
       "\u001b[0m\u001b[1m              ┌\u001b[22m\u001b[0m unconn\u001b[0m     1704\u001b[0m       274\u001b[0m       25\u001b[0m   \u001b[0m       85%\n",
       "\u001b[0m\u001b[1m Predicted type\u001b[22m\u001b[0m    exc\u001b[0m      139\u001b[0m      1235\u001b[0m        0\u001b[0m   \u001b[0m       90%\n",
       "\u001b[0m\u001b[1m              └\u001b[22m\u001b[0m    inh\u001b[0m      157\u001b[0m         6\u001b[0m      366\u001b[0m   \u001b[0m       69%\n",
       "\u001b[0m\u001b[1m               \u001b[22m\u001b[0m       \u001b[0m         \u001b[0m          \u001b[0m         \u001b[0m   \u001b[0m          \n",
       "\u001b[0m\u001b[1m    Sensitivity\u001b[22m\u001b[0m       \u001b[0m      85%\u001b[0m       82%\u001b[0m      94%\u001b[0m   \u001b[0m          \n"
      ]
     },
     "execution_count": 312,
     "metadata": {},
     "output_type": "execute_result"
    }
   ],
   "source": [
    "perftable(tc_corr)"
   ]
  }
 ],
 "metadata": {
  "jupytext": {
   "encoding": "# -*- coding: utf-8 -*-",
   "formats": "ipynb,jl:light"
  },
  "kernelspec": {
   "display_name": "Julia 1.8.1 mysys",
   "language": "julia",
   "name": "julia-1.8-mysys"
  },
  "language_info": {
   "file_extension": ".jl",
   "mimetype": "application/julia",
   "name": "julia",
   "version": "1.8.1"
  },
  "toc": {
   "base_numbering": 1,
   "nav_menu": {},
   "number_sections": false,
   "sideBar": true,
   "skip_h1_title": true,
   "title_cell": "Table of Contents",
   "title_sidebar": "Contents",
   "toc_cell": false,
   "toc_position": {
    "height": "406.667px",
    "left": "1230.28px",
    "top": "0px",
    "width": "186.938px"
   },
   "toc_section_display": true,
   "toc_window_display": true
  }
 },
 "nbformat": 4,
 "nbformat_minor": 5
}
