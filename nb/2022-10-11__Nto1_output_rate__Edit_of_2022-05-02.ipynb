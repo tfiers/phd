{
 "cells": [
  {
   "cell_type": "markdown",
   "id": "57ab3994",
   "metadata": {},
   "source": [
    "# 2022-10-11 • N-to-1 output rate (edit of '2022-05-02')"
   ]
  },
  {
   "cell_type": "markdown",
   "id": "3d27062f",
   "metadata": {},
   "source": [
    "I found an 'error' in the N-to-1 code (used in [2022-05-02 • STA mean vs peak-to-peak](https://tfiers.github.io/phd/nb/2022-05-02__STA_mean_vs_peak-to-peak.html) amongst others):\n",
    "the 'input per spike' (Δg) is not scaled with the total number of inputs.\n",
    "\n",
    "I.e, the more inputs, the stronger the one simulated neuron will spike.\\\n",
    "The worry is that in the high-N cases, the output will be constantly firing, making connection detection via STA's difficult (and that would be the reason for the observed poor performance in those cases).\n",
    "\n",
    "So I went back in time (downloading [old zips](https://github.com/tfiers/phd/tree/da6bc5bc1) of repo and its submodules) and re-ran this notebook, to check/confirm this issue.\n",
    "\n",
    "Conclusion:\n",
    "\n",
    "The error was indeed there.\n",
    "\n",
    "But the fear that the highest was drowning in spikes was not true. This is because the input in all the other cases (except N = 6400) was so low that the output did not spike at all.\n",
    "\n",
    "The breakdown really is cause too much inputs, so the STAs become very noisy (SNR: 'signal' stays same (no downscaling of input with many N here (the 'error') -- but noise goes up)."
   ]
  },
  {
   "cell_type": "markdown",
   "id": "c99fa4fd",
   "metadata": {},
   "source": [
    "## Setup"
   ]
  },
  {
   "cell_type": "markdown",
   "id": "7bd3bf92",
   "metadata": {},
   "source": [
    "https://github.com/tfiers/phd/tree/da6bc5/pkg/VoltageToMap/src"
   ]
  },
  {
   "cell_type": "code",
   "execution_count": 5,
   "id": "89d7064d",
   "metadata": {},
   "outputs": [
    {
     "name": "stderr",
     "output_type": "stream",
     "text": [
      "\u001b[32m\u001b[1m  Activating\u001b[22m\u001b[39m project at `C:\\Users\\tfiers\\phd-althist\\da6bc5`\n"
     ]
    }
   ],
   "source": [
    "] activate \"../../phd-althist/da6bc5\""
   ]
  },
  {
   "cell_type": "markdown",
   "id": "d5fb275d",
   "metadata": {},
   "source": [
    "I `instantiate`d old Manifest. Worked great."
   ]
  },
  {
   "cell_type": "code",
   "execution_count": 6,
   "id": "f7726d30",
   "metadata": {},
   "outputs": [
    {
     "name": "stdout",
     "output_type": "stream",
     "text": [
      "\u001b[32m\u001b[1mStatus\u001b[22m\u001b[39m `C:\\Users\\tfiers\\phd-althist\\da6bc5\\Project.toml`\n",
      "\u001b[32m⌃\u001b[39m\u001b[90m [a93c6f00] \u001b[39mDataFrames v1.3.2\n",
      "\u001b[32m⌃\u001b[39m\u001b[90m [48062228] \u001b[39mFilePathsBase v0.9.17\n",
      "\u001b[32m⌃\u001b[39m\u001b[90m [7073ff75] \u001b[39mIJulia v1.23.2\n",
      " \u001b[90m [54cd1024] \u001b[39mMyToolbox v0.1.0 `pkg\\MyToolbox`\n",
      "\u001b[32m⌃\u001b[39m\u001b[90m [d330b81b] \u001b[39mPyPlot v2.10.0\n",
      "\u001b[32m⌃\u001b[39m\u001b[90m [295af30f] \u001b[39mRevise v3.3.3\n",
      " \u001b[90m [61be95e5] \u001b[39mSciplotlib v0.1.0 `pkg\\Sciplotlib`\n",
      " \u001b[90m [fd094767] \u001b[39mSuppressor v0.2.1\n",
      "\u001b[32m⌃\u001b[39m\u001b[90m [5d786b92] \u001b[39mTerminalLoggers v0.1.5\n",
      " \u001b[90m [b3b8fdc5] \u001b[39mVoltageToMap v0.1.0 `pkg\\VoltageToMap`\n",
      " \u001b[90m [964570a8] \u001b[39mWhatIsHappening v0.1.0 `pkg\\WhatIsHappening`\n",
      "\u001b[36m\u001b[1mInfo\u001b[22m\u001b[39m Packages marked with \u001b[32m⌃\u001b[39m have new versions available\n"
     ]
    }
   ],
   "source": [
    "] st"
   ]
  },
  {
   "cell_type": "markdown",
   "id": "d2dccf62",
   "metadata": {},
   "source": [
    "i.e. we at https://hyp.is/8k1PvkjtEe2q8bOPbkntDA/tfiers.github.io/phd/nb/2022-05-02__STA_mean_vs_peak-to-peak.html"
   ]
  },
  {
   "cell_type": "code",
   "execution_count": 7,
   "id": "fcdca583",
   "metadata": {},
   "outputs": [],
   "source": [
    "# using Revise"
   ]
  },
  {
   "cell_type": "code",
   "execution_count": 8,
   "id": "3a016087",
   "metadata": {},
   "outputs": [
    {
     "name": "stderr",
     "output_type": "stream",
     "text": [
      "┌ Info: Precompiling MyToolbox [54cd1024-cafd-4d62-948d-ced4874502bf]\n",
      "└ @ Base loading.jl:1662\n"
     ]
    }
   ],
   "source": [
    "using MyToolbox"
   ]
  },
  {
   "cell_type": "code",
   "execution_count": 9,
   "id": "ba1f0cec",
   "metadata": {},
   "outputs": [
    {
     "name": "stdout",
     "output_type": "stream",
     "text": [
      "\u001b[36m\u001b[1m[ \u001b[22m\u001b[39m\u001b[36m\u001b[1mInfo: \u001b[22m\u001b[39mPrecompiling VoltageToMap [b3b8fdc5-3c26-4000-a0c8-f17415fdf48e]\n"
     ]
    }
   ],
   "source": [
    "using VoltageToMap"
   ]
  },
  {
   "cell_type": "code",
   "execution_count": 10,
   "id": "e080c817",
   "metadata": {},
   "outputs": [
    {
     "name": "stdout",
     "output_type": "stream",
     "text": [
      "\u001b[36m\u001b[1m[ \u001b[22m\u001b[39m\u001b[36m\u001b[1mInfo: \u001b[22m\u001b[39mPrecompiling PyPlot [d330b81b-6aea-500a-939a-2ce795aea3ee]\n",
      "\u001b[36m\u001b[1m[ \u001b[22m\u001b[39m\u001b[36m\u001b[1mInfo: \u001b[22m\u001b[39mPrecompiling Sciplotlib [61be95e5-9550-4d5f-a203-92a5acbc3116]\n"
     ]
    }
   ],
   "source": [
    "using PyPlot\n",
    "using VoltageToMap.Plot"
   ]
  },
  {
   "cell_type": "markdown",
   "id": "4696dbcf",
   "metadata": {},
   "source": [
    "## Params"
   ]
  },
  {
   "cell_type": "code",
   "execution_count": 11,
   "id": "abb32120",
   "metadata": {},
   "outputs": [],
   "source": [
    "N_excs = [\n",
    "    4,   # => N_inh = 1\n",
    "    17,  # Same as in `previous_N_30_input`.\n",
    "    80,\n",
    "    320,\n",
    "    1280,\n",
    "    5200,  \n",
    "];"
   ]
  },
  {
   "cell_type": "code",
   "execution_count": 12,
   "id": "1fb98a0b",
   "metadata": {},
   "outputs": [],
   "source": [
    "rngseeds = [0]; #, 1, 2, 3, 4];"
   ]
  },
  {
   "cell_type": "code",
   "execution_count": 13,
   "id": "59d76ad3",
   "metadata": {
    "scrolled": true
   },
   "outputs": [],
   "source": [
    "get_params((N_exc, rngseed, STA_test_statistic)) = ExperimentParams(\n",
    "    sim = SimParams(\n",
    "        duration = 10 * minutes,\n",
    "        imaging = get_VI_params_for(cortical_RS, spike_SNR = Inf),\n",
    "        input = PoissonInputParams(; N_exc);\n",
    "        rngseed,\n",
    "    ),\n",
    "    conntest = ConnTestParams(; STA_test_statistic, rngseed);\n",
    "    evaluation = EvaluationParams(; rngseed)\n",
    ");"
   ]
  },
  {
   "cell_type": "code",
   "execution_count": 14,
   "id": "39d604cb",
   "metadata": {},
   "outputs": [
    {
     "data": {
      "text/plain": [
       "6×1×1 Array{Tuple{Int64, Int64, String}, 3}:\n",
       "[:, :, 1] =\n",
       " (4, 0, \"ptp\")\n",
       " (17, 0, \"ptp\")\n",
       " (80, 0, \"ptp\")\n",
       " (320, 0, \"ptp\")\n",
       " (1280, 0, \"ptp\")\n",
       " (5200, 0, \"ptp\")"
      ]
     },
     "execution_count": 14,
     "metadata": {},
     "output_type": "execute_result"
    }
   ],
   "source": [
    "variableparams = collect(product(N_excs, rngseeds, [\"ptp\"])) #, \"mean\"]))"
   ]
  },
  {
   "cell_type": "code",
   "execution_count": 15,
   "id": "5afd4a1a",
   "metadata": {
    "scrolled": true
   },
   "outputs": [
    {
     "name": "stdout",
     "output_type": "stream",
     "text": [
      "6×1×1 Array{ExperimentParams, 3}"
     ]
    }
   ],
   "source": [
    "paramsets = get_params.(variableparams);\n",
    "print(summary(paramsets))"
   ]
  },
  {
   "cell_type": "code",
   "execution_count": 16,
   "id": "636b0fb4",
   "metadata": {
    "scrolled": true
   },
   "outputs": [
    {
     "name": "stdout",
     "output_type": "stream",
     "text": [
      "\u001b[90mExperimentParams\u001b[39m\n",
      "  sim: \u001b[90mSimParams\u001b[39m\n",
      "    duration: \u001b[94m600.0\u001b[39m\n",
      "    Δt: \u001b[94m0.0001\u001b[39m\n",
      "    num_timesteps: \u001b[94m6000000\u001b[39m\n",
      "    rngseed: \u001b[94m0\u001b[39m\n",
      "    input: \u001b[90mPoissonInputParams\u001b[39m\n",
      "      N_unconn: \u001b[94m100\u001b[39m\n",
      "      N_exc: \u001b[94m4\u001b[39m\n",
      "      N_inh: \u001b[94m1\u001b[39m\n",
      "      N_conn: \u001b[94m5\u001b[39m\n",
      "      N: \u001b[94m105\u001b[39m\n",
      "      spike_rates: \u001b[90mLogNormal\u001b[39m\n",
      "        μ: \u001b[94m1.08629\u001b[39m\n",
      "        σ: \u001b[94m0.774597\u001b[39m\n",
      "    synapses: \u001b[90mSynapseParams\u001b[39m\n",
      "      avg_stim_rate_exc: \u001b[94m1.0e-10\u001b[39m\n",
      "      avg_stim_rate_inh: \u001b[94m4.0e-10\u001b[39m\n",
      "      E_exc: \u001b[94m0.0\u001b[39m\n",
      "      E_inh: \u001b[94m-0.065\u001b[39m\n",
      "      g_t0: \u001b[94m0.0\u001b[39m\n",
      "      τ: \u001b[94m0.007\u001b[39m\n",
      "    izh_neuron: \u001b[90mIzhikevichParams\u001b[39m\n",
      "      C: \u001b[94m1.0e-10\u001b[39m\n",
      "      k: \u001b[94m7.0e-7\u001b[39m\n",
      "      v_rest: \u001b[94m-0.06\u001b[39m\n",
      "      v_thr: \u001b[94m-0.04\u001b[39m\n",
      "      a: \u001b[94m30.0\u001b[39m\n",
      "      b: \u001b[94m-2.0e-9\u001b[39m\n",
      "      v_peak: \u001b[94m0.035\u001b[39m\n",
      "      v_reset: \u001b[94m-0.05\u001b[39m\n",
      "      Δu: \u001b[94m1.0e-10\u001b[39m\n",
      "      v_t0: \u001b[94m-0.06\u001b[39m\n",
      "      u_t0: \u001b[94m0.0\u001b[39m\n",
      "    imaging: \u001b[90mVoltageImagingParams\u001b[39m\n",
      "      spike_SNR: \u001b[94mInf\u001b[39m\n",
      "      spike_SNR_dB: \u001b[94mInf\u001b[39m\n",
      "      spike_height: \u001b[94m0.095\u001b[39m\n",
      "      σ_noise: \u001b[94m0.0\u001b[39m\n",
      "  conntest: \u001b[90mConnTestParams\u001b[39m\n",
      "    STA_window_length: \u001b[94m0.1\u001b[39m\n",
      "    num_shuffles: \u001b[94m100\u001b[39m\n",
      "    STA_test_statistic: \u001b[94mptp\u001b[39m\n",
      "    rngseed: \u001b[94m0\u001b[39m\n",
      "  evaluation: \u001b[90mEvaluationParams\u001b[39m\n",
      "    α: \u001b[94m0.05\u001b[39m\n",
      "    num_tested_neurons_per_group: \u001b[94m40\u001b[39m\n",
      "    rngseed: \u001b[94m0\u001b[39m\n"
     ]
    }
   ],
   "source": [
    "dumps(paramsets[1])"
   ]
  },
  {
   "cell_type": "markdown",
   "id": "d55915e0",
   "metadata": {},
   "source": [
    "## Run"
   ]
  },
  {
   "cell_type": "code",
   "execution_count": 17,
   "id": "c9feb113",
   "metadata": {},
   "outputs": [],
   "source": [
    "# @edit cached(sim_and_eval, [paramsets[1]])"
   ]
  },
  {
   "cell_type": "markdown",
   "id": "7fab80e4",
   "metadata": {},
   "source": [
    "Note: the caching doesn't work here between sessions: I still used wrong implementation with naive `hash`."
   ]
  },
  {
   "cell_type": "code",
   "execution_count": 18,
   "id": "afef0b20",
   "metadata": {
    "scrolled": false
   },
   "outputs": [
    {
     "name": "stdout",
     "output_type": "stream",
     "text": [
      "(N_exc = 4, seed = 0, STA_test_statistic = \"ptp\") d597e9845d59167c.jld2\n",
      "\u001b[32mRunning simulation: 100%|███████████████████████████████| Time: 0:00:02\u001b[39m\n",
      "Saving output at `C:\\Users\\tfiers\\.phdcache\\sim\\7ee3bb860249ab23.jld2` … done (11.2 s)\n",
      "\u001b[32mTesting connections: 100%|██████████████████████████████| Time: 0:00:07\u001b[39m\n",
      "Saving output at `C:\\Users\\tfiers\\.phdcache\\sim_and_eval\\d597e9845d59167c.jld2` … done (0.9 s)\n",
      "\n",
      "(N_exc = 17, seed = 0, STA_test_statistic = \"ptp\") 4375a8fd3d519fa2.jld2\n",
      "\u001b[32mRunning simulation: 100%|███████████████████████████████| Time: 0:00:02\u001b[39m\n",
      "Saving output at `C:\\Users\\tfiers\\.phdcache\\sim\\d4c4c08c9216be57.jld2` … done (2.2 s)\n",
      "\u001b[32mTesting connections: 100%|██████████████████████████████| Time: 0:00:10\u001b[39m\n",
      "Saving output at `C:\\Users\\tfiers\\.phdcache\\sim_and_eval\\4375a8fd3d519fa2.jld2` … done\n",
      "\n",
      "(N_exc = 80, seed = 0, STA_test_statistic = \"ptp\") 164a7233f370837b.jld2\n",
      "\u001b[32mRunning simulation: 100%|███████████████████████████████| Time: 0:00:03\u001b[39m\n",
      "Saving output at `C:\\Users\\tfiers\\.phdcache\\sim\\df4c33888513643b.jld2` … done (2.1 s)\n",
      "\u001b[32mTesting connections: 100%|██████████████████████████████| Time: 0:00:16\u001b[39m\n",
      "Saving output at `C:\\Users\\tfiers\\.phdcache\\sim_and_eval\\164a7233f370837b.jld2` … done\n",
      "\n",
      "(N_exc = 320, seed = 0, STA_test_statistic = \"ptp\") 96e074504cde04fc.jld2\n",
      "\u001b[32mRunning simulation: 100%|███████████████████████████████| Time: 0:00:10\u001b[39m\n",
      "Saving output at `C:\\Users\\tfiers\\.phdcache\\sim\\1d3d36db4ce3bc06.jld2` … done (2.2 s)\n",
      "\u001b[32mTesting connections: 100%|██████████████████████████████| Time: 0:00:20\u001b[39m\n",
      "Saving output at `C:\\Users\\tfiers\\.phdcache\\sim_and_eval\\96e074504cde04fc.jld2` … done\n",
      "\n",
      "(N_exc = 1280, seed = 0, STA_test_statistic = \"ptp\") 3b39418f81f46f30.jld2\n",
      "\u001b[32mRunning simulation: 100%|███████████████████████████████| Time: 0:00:38\u001b[39m\n",
      "Saving output at `C:\\Users\\tfiers\\.phdcache\\sim\\2b004720f7fc3850.jld2` … done (2.0 s)\n",
      "\u001b[32mTesting connections: 100%|██████████████████████████████| Time: 0:00:17\u001b[39m\n",
      "Saving output at `C:\\Users\\tfiers\\.phdcache\\sim_and_eval\\3b39418f81f46f30.jld2` … done\n",
      "\n",
      "(N_exc = 5200, seed = 0, STA_test_statistic = \"ptp\") 164cd3deb12bfdf8.jld2\n",
      "\u001b[32mRunning simulation: 100%|███████████████████████████████| Time: 0:02:29\u001b[39m\n",
      "Saving output at `C:\\Users\\tfiers\\.phdcache\\sim\\10badb65c823d91.jld2` … done (2.0 s)\n",
      "\u001b[32mTesting connections: 100%|██████████████████████████████| Time: 0:00:10\u001b[39m\n",
      "Saving output at `C:\\Users\\tfiers\\.phdcache\\sim_and_eval\\164cd3deb12bfdf8.jld2` … done\n",
      "\n"
     ]
    }
   ],
   "source": [
    "perfs = similar(paramsets, NamedTuple)\n",
    "for i in eachindex(paramsets)\n",
    "    (N_exc, seed, STA_test_statistic) = variableparams[i]\n",
    "    paramset = paramsets[i]\n",
    "    println((; N_exc, seed, STA_test_statistic), \" \", cachefilename(paramset))\n",
    "    perf = cached(sim_and_eval, [paramset])\n",
    "    println()\n",
    "    perfs[i] = perf\n",
    "end"
   ]
  },
  {
   "cell_type": "code",
   "execution_count": 19,
   "id": "53f7c2c4",
   "metadata": {},
   "outputs": [
    {
     "data": {
      "text/plain": [
       "6×1×1 Array{NamedTuple, 3}:\n",
       "[:, :, 1] =\n",
       " (TPR_exc = 1.0, TPR_inh = 1.0, FPR = 0.0)\n",
       " (TPR_exc = 1.0, TPR_inh = 1.0, FPR = 0.050000000000000044)\n",
       " (TPR_exc = 1.0, TPR_inh = 1.0, FPR = 0.050000000000000044)\n",
       " (TPR_exc = 1.0, TPR_inh = 0.725, FPR = 0.050000000000000044)\n",
       " (TPR_exc = 0.775, TPR_inh = 0.5, FPR = 0.09999999999999998)\n",
       " (TPR_exc = 0.075, TPR_inh = 0.075, FPR = 0.09999999999999998)"
      ]
     },
     "execution_count": 19,
     "metadata": {},
     "output_type": "execute_result"
    }
   ],
   "source": [
    "perfs"
   ]
  },
  {
   "cell_type": "markdown",
   "id": "96f16e86",
   "metadata": {},
   "source": [
    "## (Addon)"
   ]
  },
  {
   "cell_type": "code",
   "execution_count": 89,
   "id": "29cfcf9a",
   "metadata": {},
   "outputs": [
    {
     "data": {
      "text/plain": [
       "0.3333"
      ]
     },
     "execution_count": 89,
     "metadata": {},
     "output_type": "execute_result"
    }
   ],
   "source": [
    "using Printf\n",
    "Base.show(io::IO, x::Float64) = @printf io \"%.4g\" x\n",
    "1/3"
   ]
  },
  {
   "cell_type": "markdown",
   "id": "c6e249bc",
   "metadata": {},
   "source": [
    "## Check if output rate increases"
   ]
  },
  {
   "cell_type": "markdown",
   "id": "f2cad57e",
   "metadata": {},
   "source": [
    "Hah there was not even output spike recording. Oops.\n",
    "\n",
    "I'll detect manually."
   ]
  },
  {
   "cell_type": "code",
   "execution_count": 21,
   "id": "237eb521",
   "metadata": {},
   "outputs": [
    {
     "name": "stdout",
     "output_type": "stream",
     "text": [
      "(N_conn = 5, num_spikes = 0, spike_rate = 0, time_between = Inf)\n",
      "(N_conn = 21, num_spikes = 0, spike_rate = 0, time_between = Inf)\n",
      "(N_conn = 100, num_spikes = 0, spike_rate = 0, time_between = Inf)\n",
      "(N_conn = 400, num_spikes = 0, spike_rate = 0, time_between = Inf)\n",
      "(N_conn = 1600, num_spikes = 0, spike_rate = 0, time_between = Inf)\n",
      "(N_conn = 6500, num_spikes = 95, spike_rate = 0.158, time_between = 6.32)\n"
     ]
    }
   ],
   "source": [
    "function f(p)\n",
    "    s = cached(sim, [p.sim]);\n",
    "    ot = s.v .> p.sim.izh_neuron.v_thr   # over thr\n",
    "    spike_ix = findall(diff(ot) .== +1)  # pos thr crossings\n",
    "    spiketimes = spike_ix * p.sim.Δt\n",
    "    num_spikes = length(spiketimes)\n",
    "    spike_rate = num_spikes / p.sim.duration * Hz\n",
    "    time_between = 1/spike_rate * seconds\n",
    "    return (; N_conn = p.sim.input.N_conn, num_spikes, spike_rate, time_between)\n",
    "end\n",
    "for p in paramsets\n",
    "    println(f(p))\n",
    "end"
   ]
  },
  {
   "cell_type": "markdown",
   "id": "9624ddc1",
   "metadata": {},
   "source": [
    "Ok.\n",
    "So the fear that the highest was drowning in spikes was not true.\n",
    "The breakdown really is cause too much inputs, so signal is less clear."
   ]
  },
  {
   "cell_type": "markdown",
   "id": "74634ac2",
   "metadata": {},
   "source": [
    "## Plot"
   ]
  },
  {
   "cell_type": "markdown",
   "id": "13fb7ef4",
   "metadata": {},
   "source": [
    "(Just the figure output, copied from older nb)"
   ]
  },
  {
   "cell_type": "markdown",
   "id": "40c7d091",
   "metadata": {},
   "source": [
    "### Peak-to-peak"
   ]
  },
  {
   "cell_type": "code",
   "execution_count": 46,
   "id": "c5ee4932",
   "metadata": {},
   "outputs": [
    {
     "data": {
      "image/png": "[encoded data removed]",
      "text/plain": [
       "Figure(PyObject <Figure size 800x480 with 1 Axes>)"
      ]
     },
     "metadata": {
      "image/png": {
       "height": 240,
       "width": 400
      }
     },
     "output_type": "display_data"
    }
   ],
   "source": [
    "fig, ax = make_figure(perfs[:,:,1]);"
   ]
  },
  {
   "cell_type": "markdown",
   "id": "d1d42cc0",
   "metadata": {},
   "source": [
    "## Inputs' Firing rates distribution"
   ]
  },
  {
   "cell_type": "markdown",
   "id": "d69f9240",
   "metadata": {},
   "source": [
    "I want to check something else suspicious.\n",
    "\n",
    "In this nb (a bit earlier), input firing rates are sampled from a LogNormal distr.\n",
    "But looking at this plot here: https://tfiers.github.io/phd/nb/2022-03-28__total_stimulation.html#total-stimulation\n",
    "-- where \"total stimulation\" is directly proportional to num spikes (every inh neuron has same Δg) -- the fr distributions look very un-lognormal to me.."
   ]
  },
  {
   "cell_type": "code",
   "execution_count": 23,
   "id": "fa6c9917",
   "metadata": {},
   "outputs": [
    {
     "data": {
      "text/plain": [
       "6500"
      ]
     },
     "execution_count": 23,
     "metadata": {},
     "output_type": "execute_result"
    }
   ],
   "source": [
    "p = paramsets[end]\n",
    "p.sim.input.N_conn"
   ]
  },
  {
   "cell_type": "code",
   "execution_count": 24,
   "id": "2935bbf9",
   "metadata": {},
   "outputs": [
    {
     "data": {
      "text/plain": [
       "LogNormal{Float64}(μ=1.09, σ=0.775)"
      ]
     },
     "execution_count": 24,
     "metadata": {},
     "output_type": "execute_result"
    }
   ],
   "source": [
    "p.sim.input.spike_rates"
   ]
  },
  {
   "cell_type": "markdown",
   "id": "2b644950",
   "metadata": {},
   "source": [
    "(Real mean of that is 4Hz)."
   ]
  },
  {
   "cell_type": "code",
   "execution_count": 25,
   "id": "f706b0d7",
   "metadata": {},
   "outputs": [],
   "source": [
    "s = cached(sim, [p.sim]);"
   ]
  },
  {
   "cell_type": "code",
   "execution_count": 175,
   "id": "90c67b0a",
   "metadata": {},
   "outputs": [
    {
     "data": {
      "image/png": "[encoded data removed]",
      "text/plain": [
       "Figure(PyObject <Figure size 800x480 with 1 Axes>)"
      ]
     },
     "metadata": {
      "image/png": {
       "height": 240,
       "width": 400
      }
     },
     "output_type": "display_data"
    }
   ],
   "source": [
    "mean_ISI = [d.θ for d in s.state.fixed_at_init.ISI_distributions]  # scale = β = θ = mean\n",
    "plt.hist(mean_ISI / seconds, bins=20);"
   ]
  },
  {
   "cell_type": "code",
   "execution_count": 173,
   "id": "1e71afe6",
   "metadata": {},
   "outputs": [
    {
     "data": {
      "image/png": "[encoded data removed]",
      "text/plain": [
       "Figure(PyObject <Figure size 800x480 with 1 Axes>)"
      ]
     },
     "metadata": {
      "image/png": {
       "height": 240,
       "width": 400
      }
     },
     "output_type": "display_data"
    }
   ],
   "source": [
    "mean_spikes_per_sec = 1 ./ mean_ISI  # λ = rate\n",
    "plt.hist(mean_spikes_per_sec / Hz, bins=20);"
   ]
  },
  {
   "cell_type": "markdown",
   "id": "27eb34ac",
   "metadata": {},
   "source": [
    "Ok that's not Normal, good"
   ]
  },
  {
   "cell_type": "code",
   "execution_count": 104,
   "id": "8d2d2f0b",
   "metadata": {},
   "outputs": [
    {
     "data": {
      "image/png": "[encoded data removed]",
      "text/plain": [
       "Figure(PyObject <Figure size 800x480 with 1 Axes>)"
      ]
     },
     "metadata": {
      "image/png": {
       "height": 240,
       "width": 400
      }
     },
     "output_type": "display_data"
    }
   ],
   "source": [
    "num_spikes = length.(s.input_spikes)\n",
    "plt.hist(num_spikes);"
   ]
  },
  {
   "cell_type": "markdown",
   "id": "87976355",
   "metadata": {},
   "source": [
    ".. and that is."
   ]
  },
  {
   "cell_type": "markdown",
   "id": "7e1b9c10",
   "metadata": {},
   "source": [
    "I must have made a reasoning error somewhere.\n",
    "Or a programming error (all sampled from same distr or sth)."
   ]
  },
  {
   "cell_type": "code",
   "execution_count": 37,
   "id": "20874e3a",
   "metadata": {},
   "outputs": [],
   "source": [
    "@unpack ISI_distributions, = s.state.fixed_at_init;"
   ]
  },
  {
   "cell_type": "code",
   "execution_count": 105,
   "id": "88d0c7ce",
   "metadata": {},
   "outputs": [
    {
     "data": {
      "text/plain": [
       "(56.98, 1862)"
      ]
     },
     "execution_count": 105,
     "metadata": {},
     "output_type": "execute_result"
    }
   ],
   "source": [
    "findmax(mean_spikes_per_sec)"
   ]
  },
  {
   "cell_type": "code",
   "execution_count": 106,
   "id": "a391e13f",
   "metadata": {},
   "outputs": [
    {
     "data": {
      "text/plain": [
       "(0.1305, 2613)"
      ]
     },
     "execution_count": 106,
     "metadata": {},
     "output_type": "execute_result"
    }
   ],
   "source": [
    "findmin(mean_spikes_per_sec)"
   ]
  },
  {
   "cell_type": "code",
   "execution_count": 113,
   "id": "259fcb44",
   "metadata": {},
   "outputs": [
    {
     "name": "stdout",
     "output_type": "stream",
     "text": [
      "[6.734, 0.3597, 5.217]"
     ]
    }
   ],
   "source": [
    "some_ISIs = rand(ISI_distributions[1862], 3) / ms  |> show"
   ]
  },
  {
   "cell_type": "code",
   "execution_count": 114,
   "id": "d9d0e148",
   "metadata": {},
   "outputs": [
    {
     "name": "stdout",
     "output_type": "stream",
     "text": [
      "[8215, 9845, 1695]"
     ]
    }
   ],
   "source": [
    "some_ISIs = rand(ISI_distributions[2613], 3) / ms  |> show"
   ]
  },
  {
   "cell_type": "markdown",
   "id": "a8a9d2b6",
   "metadata": {},
   "source": [
    "Ok, that's all good.\n",
    "\n",
    "So why do these input spikes look normal.\n",
    "\n",
    "Let's simulate ourselves, again."
   ]
  },
  {
   "cell_type": "code",
   "execution_count": 118,
   "id": "877dbd7e",
   "metadata": {},
   "outputs": [],
   "source": [
    "spikes = Dict()\n",
    "for (n, ISI_distr) in enumerate(ISI_distributions[1:1000])\n",
    "    t = 0.0\n",
    "    spikes[n] = Float64[]\n",
    "    while true\n",
    "        t += rand(ISI_distr)\n",
    "        if t ≥ p.sim.duration\n",
    "            break\n",
    "        end\n",
    "        push!(spikes[n], t)\n",
    "    end\n",
    "end"
   ]
  },
  {
   "cell_type": "code",
   "execution_count": 121,
   "id": "34d36747",
   "metadata": {},
   "outputs": [
    {
     "data": {
      "image/png": "[encoded data removed]",
      "text/plain": [
       "Figure(PyObject <Figure size 800x480 with 1 Axes>)"
      ]
     },
     "metadata": {
      "image/png": {
       "height": 240,
       "width": 400
      }
     },
     "output_type": "display_data"
    }
   ],
   "source": [
    "num_spikes = length.(values(spikes))\n",
    "plt.hist(num_spikes);"
   ]
  },
  {
   "cell_type": "markdown",
   "id": "437ddd16",
   "metadata": {},
   "source": [
    "Akkerdjie. Dit is wel lognormal.\n",
    "\n",
    "What's diff with sim code."
   ]
  },
  {
   "cell_type": "code",
   "execution_count": 165,
   "id": "11561996",
   "metadata": {},
   "outputs": [
    {
     "name": "stdout",
     "output_type": "stream",
     "text": [
      "\u001b[32mProgress: 100%|█████████████████████████████████████████| Time: 0:00:01\u001b[39m\n"
     ]
    }
   ],
   "source": [
    "function simstep(spikerec, upcoming_input_spikes, ISI_distributions, t)\n",
    "    t_next_input_spike = peek(upcoming_input_spikes).second  # (.first is neuron ID).\n",
    "    if t ≥ t_next_input_spike\n",
    "        n = dequeue!(upcoming_input_spikes)  # ID of the fired input neuron\n",
    "        push!(spikerec[n], t)\n",
    "        tn = t + rand(ISI_distributions[n])  # Next spike time for the fired neuron\n",
    "        enqueue!(upcoming_input_spikes, n => tn)\n",
    "    end\n",
    "end\n",
    "\n",
    "input_neuron_IDs = CVec(collect(1:length(ISI_distributions)), getaxes(ISI_distributions))\n",
    "\n",
    "@unpack upcoming_input_spikes = s.state.variable_in_time;\n",
    "\n",
    "first_input_spike_times = rand.(ISI_distributions)\n",
    "spikerec = Dict{Int, Vector{Float64}}()\n",
    "\n",
    "empty!(upcoming_input_spikes)\n",
    "for (n, t) in zip(input_neuron_IDs, first_input_spike_times)\n",
    "    enqueue!(upcoming_input_spikes, n => t)\n",
    "    spikerec[n] = []\n",
    "end\n",
    "\n",
    "# duration = p.sim.duration\n",
    "duration = 1minutes\n",
    "@showprogress for t in linspace(0, duration, round(Int, duration / p.sim.Δt))\n",
    "    simstep(spikerec, upcoming_input_spikes, ISI_distributions, t)\n",
    "end"
   ]
  },
  {
   "cell_type": "code",
   "execution_count": 166,
   "id": "81a9fd99",
   "metadata": {},
   "outputs": [
    {
     "data": {
      "image/png": "[encoded data removed]",
      "text/plain": [
       "Figure(PyObject <Figure size 800x480 with 1 Axes>)"
      ]
     },
     "metadata": {
      "image/png": {
       "height": 240,
       "width": 400
      }
     },
     "output_type": "display_data"
    }
   ],
   "source": [
    "num_spikes = length.(values(spikes))\n",
    "spikerates = num_spikes ./ duration\n",
    "plt.hist(spikerates);"
   ]
  },
  {
   "cell_type": "markdown",
   "id": "6cc98ea0",
   "metadata": {},
   "source": [
    "(Note that here we sim for all inputs but not all time; in previous plot we sim'ed for all time but not all inputs)."
   ]
  },
  {
   "cell_type": "markdown",
   "id": "76b0a7b0",
   "metadata": {},
   "source": [
    "Ma huh?\n",
    "This is almost exactly the code in `step_sim!`"
   ]
  },
  {
   "cell_type": "code",
   "execution_count": 159,
   "id": "d0e15249",
   "metadata": {},
   "outputs": [
    {
     "name": "stdout",
     "output_type": "stream",
     "text": [
      "function step_sim!(state, params::SimParams, rec, i)\r\n",
      "\r\n",
      "    @unpack ISI_distributions, postsynapses, Δg, E           = state.fixed_at_init\r\n",
      "    @unpack vars, diff, upcoming_input_spikes                = state.variable_in_time\r\n",
      "    @unpack t, v, u, g                                       = vars\r\n",
      "    @unpack Δt, synapses, izh_neuron                         = params\r\n",
      "    @unpack C, k, v_rest, v_thr, a, b, v_peak, v_reset, Δu   = izh_neuron\r\n",
      "\r\n",
      "    # Sum synaptic currents\r\n",
      "    I_s = zero(u)\r\n",
      "    for (gi, Ei) in zip(g, E)\r\n",
      "        I_s += gi * (v - Ei)\r\n",
      "    end\r\n",
      "\r\n",
      "    # Differential equations\r\n",
      "    diff.v = (k * (v - v_rest) * (v - v_thr) - u - I_s) / C\r\n",
      "    diff.u = a * (b * (v - v_rest) - u)\r\n",
      "    for i in eachindex(g)\r\n",
      "        diff.g[i] = -g[i] / synapses.τ\r\n",
      "    end\r\n",
      "\r\n",
      "    # Euler integration\r\n",
      "    @. vars += diff * Δt\r\n",
      "\r\n",
      "    # Izhikevich neuron spiking threshold\r\n",
      "    if v ≥ v_peak\r\n",
      "        vars.v = v_reset\r\n",
      "        vars.u += Δu\r\n",
      "    end\r\n",
      "\r\n",
      "    # Record membrane voltage\r\n",
      "    rec.v[i] = v\r\n",
      "\r\n",
      "    # Input spikes\r\n",
      "    t_next_input_spike = peek(upcoming_input_spikes).second  # (.first is neuron ID).\r\n",
      "    if t ≥ t_next_input_spike\r\n",
      "        n = dequeue!(upcoming_input_spikes)  # ID of the fired input neuron\r\n",
      "        push!(rec.input_spikes[n], t)\r\n",
      "        for s in postsynapses[n]\r\n",
      "            g[s] += Δg[s]\r\n",
      "        end\r\n",
      "        tn = t + rand(ISI_distributions[n])  # Next spike time for the fired neuron\r\n",
      "        enqueue!(upcoming_input_spikes, n => tn)\r\n",
      "    end\r\n",
      "    # Unhandled edge case: multiple spikes in the same time bin get processed with\r\n",
      "    # increasing delay. (This problem goes away when using diffeq.jl, `adaptive`).\r\n",
      "end\r\n"
     ]
    }
   ],
   "source": [
    "@less VoltageToMap.step_sim!(s, p.sim, [], 1)"
   ]
  },
  {
   "cell_type": "markdown",
   "id": "aa746f1d",
   "metadata": {},
   "source": [
    "(https://github.com/tfiers/phd/blob/da6bc5b/pkg/VoltageToMap/src/sim/step.jl)"
   ]
  },
  {
   "cell_type": "code",
   "execution_count": 185,
   "id": "d38b068c",
   "metadata": {},
   "outputs": [
    {
     "data": {
      "image/png": "[encoded data removed]",
      "text/plain": [
       "Figure(PyObject <Figure size 800x480 with 1 Axes>)"
      ]
     },
     "metadata": {
      "image/png": {
       "height": 240,
       "width": 400
      }
     },
     "output_type": "display_data"
    }
   ],
   "source": [
    "mean_ISIs_sim = mean.(VoltageToMap.to_ISIs.(s.input_spikes))\n",
    "plt.hist(mean_ISIs_sim / seconds, bins=20);"
   ]
  },
  {
   "cell_type": "markdown",
   "id": "9db09922",
   "metadata": {},
   "source": [
    "Wait what. The mean ISI distr does look lognormal i.e. correct.\n",
    "\n",
    "Then why doesn't the rate distr?"
   ]
  },
  {
   "cell_type": "code",
   "execution_count": 183,
   "id": "ebac585d",
   "metadata": {},
   "outputs": [
    {
     "data": {
      "image/png": "[encoded data removed]",
      "text/plain": [
       "Figure(PyObject <Figure size 800x480 with 1 Axes>)"
      ]
     },
     "metadata": {
      "image/png": {
       "height": 240,
       "width": 400
      }
     },
     "output_type": "display_data"
    }
   ],
   "source": [
    "plt.hist(length.(s.input_spikes) / p.sim.duration / Hz, bins=20);"
   ]
  },
  {
   "cell_type": "markdown",
   "id": "986864cc",
   "metadata": {},
   "source": [
    "Let's investigate two concrete neurons."
   ]
  },
  {
   "cell_type": "code",
   "execution_count": 199,
   "id": "77b724e2",
   "metadata": {},
   "outputs": [
    {
     "data": {
      "text/plain": [
       "((0.3444, 1862), (7.393, 5513))"
      ]
     },
     "execution_count": 199,
     "metadata": {},
     "output_type": "execute_result"
    }
   ],
   "source": [
    "findmin(mean_ISIs_sim), findmax(mean_ISIs_sim)"
   ]
  },
  {
   "cell_type": "code",
   "execution_count": 195,
   "id": "d45193f0",
   "metadata": {},
   "outputs": [
    {
     "data": {
      "text/plain": [
       "(1742, 81)"
      ]
     },
     "execution_count": 195,
     "metadata": {},
     "output_type": "execute_result"
    }
   ],
   "source": [
    "length(s.input_spikes[1862]), length(s.input_spikes[5513])"
   ]
  },
  {
   "cell_type": "markdown",
   "id": "654a1c71",
   "metadata": {},
   "source": [
    "Wut. (This is a great, expected spread)."
   ]
  },
  {
   "cell_type": "code",
   "execution_count": 197,
   "id": "460e3ad9",
   "metadata": {},
   "outputs": [
    {
     "data": {
      "text/plain": [
       "(2.903, 0.135)"
      ]
     },
     "execution_count": 197,
     "metadata": {},
     "output_type": "execute_result"
    }
   ],
   "source": [
    "1742/10minutes, 81/10minutes"
   ]
  },
  {
   "cell_type": "markdown",
   "id": "ae7faf1f",
   "metadata": {},
   "source": [
    "Ok so the normal diagram has correct values."
   ]
  },
  {
   "cell_type": "markdown",
   "id": "a727b80b",
   "metadata": {},
   "source": [
    "How does a normal simulated fr distr arise from lognormal mean ISIs."
   ]
  },
  {
   "cell_type": "code",
   "execution_count": null,
   "id": "88f1091c",
   "metadata": {},
   "outputs": [],
   "source": []
  },
  {
   "cell_type": "markdown",
   "id": "84cf015a",
   "metadata": {},
   "source": []
  },
  {
   "cell_type": "markdown",
   "id": "53ba2bc1",
   "metadata": {},
   "source": [
    "## Prez"
   ]
  },
  {
   "cell_type": "markdown",
   "id": "2f3c8ff5",
   "metadata": {},
   "source": [
    "$$\n",
    "v(t) = \n",
    "\\begin{cases}\n",
    "e^{-t/τ}                                                          & τ_1 = τ_2 \\\\\n",
    "\\frac{τ_1 τ_2}{τ_1 - τ_2} \\left(e^{-t/τ_1} - e^{-t/τ_2} \\right)   & τ_1 ≠ τ_2\n",
    "\\end{cases}\n",
    "$$\n",
    "<!-- for codecogs, only ascii:\n",
    "  \n",
    "v(t) = \n",
    "\\begin{cases}\n",
    "e^{-t/\\tau}                                                          & \\tau_1 = \\tau_2 \\\\\n",
    "\\frac{\\tau_1 \\tau_2}{\\tau_1 - \\tau_2} \\left(e^{-t/\\tau_1} - e^{-t/\\tau_2} \\right)   & \\tau_1 \\neq \\tau_2\n",
    "\\end{cases}\n",
    "\n",
    "-->"
   ]
  },
  {
   "cell_type": "code",
   "execution_count": null,
   "id": "0b6b6b60",
   "metadata": {},
   "outputs": [],
   "source": []
  }
 ],
 "metadata": {
  "jupytext": {
   "encoding": "# -*- coding: utf-8 -*-",
   "formats": "ipynb,jl:light"
  },
  "kernelspec": {
   "display_name": "Julia 1.8.1",
   "language": "julia",
   "name": "julia-1.8"
  },
  "language_info": {
   "file_extension": ".jl",
   "mimetype": "application/julia",
   "name": "julia",
   "version": "1.8.1"
  },
  "toc": {
   "base_numbering": 1,
   "nav_menu": {},
   "number_sections": false,
   "sideBar": true,
   "skip_h1_title": true,
   "title_cell": "Table of Contents",
   "title_sidebar": "Contents",
   "toc_cell": false,
   "toc_position": {
    "height": "47.6979px",
    "left": "61px",
    "top": "111.125px",
    "width": "212px"
   },
   "toc_section_display": true,
   "toc_window_display": true
  }
 },
 "nbformat": 4,
 "nbformat_minor": 5
}
