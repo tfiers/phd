{
 "cells": [
  {
   "cell_type": "markdown",
   "id": "57ab3994",
   "metadata": {},
   "source": [
    "# 2022-10-17 • General simulator software design"
   ]
  },
  {
   "cell_type": "markdown",
   "id": "6c92c581",
   "metadata": {},
   "source": [
    "In the previous notebook, the firing rate error in the N-to-1 simulations was fixed. We want to know re-run those simulations with actual lognormal Poisson inputs.\n",
    "\n",
    "When writing the network simulation code, the N-to-1 simulation code was copied and adapted.\n",
    "I.e. there is duplication in functionality, and divergence in their APIs.\n",
    "It's time for consolidation.\n",
    "Advantage: easier to also investigate LIF/EIF neurons, different neuron types, etc."
   ]
  },
  {
   "cell_type": "markdown",
   "id": "c99fa4fd",
   "metadata": {},
   "source": [
    "## Imports"
   ]
  },
  {
   "cell_type": "code",
   "execution_count": 1,
   "id": "1a27acb6",
   "metadata": {},
   "outputs": [],
   "source": [
    "#"
   ]
  },
  {
   "cell_type": "code",
   "execution_count": 2,
   "id": "3a016087",
   "metadata": {},
   "outputs": [],
   "source": [
    "using MyToolbox"
   ]
  },
  {
   "cell_type": "code",
   "execution_count": 3,
   "id": "c5f73e95",
   "metadata": {
    "scrolled": false
   },
   "outputs": [
    {
     "name": "stdout",
     "output_type": "stream",
     "text": [
      "\u001b[36m\u001b[1m[ \u001b[22m\u001b[39m\u001b[36m\u001b[1mInfo: \u001b[22m\u001b[39mPrecompiling VoltoMapSim [f713100b-c48c-421a-b480-5fcb4c589a9e]\n",
      "\u001b[36m\u001b[1m[ \u001b[22m\u001b[39m\u001b[36m\u001b[1mInfo: \u001b[22m\u001b[39mSkipping precompilation since __precompile__(false). Importing VoltoMapSim [f713100b-c48c-421a-b480-5fcb4c589a9e].\n",
      "\u001b[36m\u001b[1m[ \u001b[22m\u001b[39m\u001b[36m\u001b[1mInfo: \u001b[22m\u001b[39mPrecompiling SpikeLib [fe4ab31d-2284-4e18-9761-4109e720cf88]\n"
     ]
    }
   ],
   "source": [
    "using VoltoMapSim"
   ]
  },
  {
   "cell_type": "markdown",
   "id": "13713511",
   "metadata": {},
   "source": [
    "## ."
   ]
  },
  {
   "cell_type": "code",
   "execution_count": 9,
   "id": "98483a88",
   "metadata": {
    "scrolled": true
   },
   "outputs": [],
   "source": [
    "izh = @eqs begin\n",
    "    \n",
    "    dv/dt = (k*(v-vᵣ)*(v-vₜ) - u - I_syn + I_ext) / C\n",
    "    du/dt = a*(b*(v-vᵣ) - u)\n",
    "\n",
    "    I_syn = gₑ*(v-Eₑ) + gᵢ*(v-Eᵢ)\n",
    "\n",
    "    dgₑ/dt = -gₑ / τ  # Represents sum over all exc synapses\n",
    "    dgᵢ/dt = -gᵢ / τ\n",
    "end;"
   ]
  },
  {
   "cell_type": "code",
   "execution_count": 10,
   "id": "65632753",
   "metadata": {},
   "outputs": [
    {
     "data": {
      "text/plain": [
       "SpikeLib.Model\n",
       " with variables {v, u, I_syn, gₑ, gᵢ}\n",
       " and parameters {C, Eᵢ, Eₑ, I_ext, a, b, k, vᵣ, vₜ, τ}\n"
      ]
     },
     "execution_count": 10,
     "metadata": {},
     "output_type": "execute_result"
    }
   ],
   "source": [
    "izh"
   ]
  },
  {
   "cell_type": "code",
   "execution_count": 12,
   "id": "5b18d8d2",
   "metadata": {},
   "outputs": [
    {
     "data": {
      "text/plain": [
       ":((diff, vars, params)->begin\n",
       "          @unpack (v, u, I_syn, gₑ, gᵢ) = vars\n",
       "          @unpack (C, Eᵢ, Eₑ, I_ext, a, b, k, vᵣ, vₜ, τ) = params\n",
       "          diff.v = (((k * (v - vᵣ) * (v - vₜ) - u) - I_syn) + I_ext) / C\n",
       "          diff.u = a * (b * (v - vᵣ) - u)\n",
       "          vars.I_syn = gₑ * (v - Eₑ) + gᵢ * (v - Eᵢ)\n",
       "          diff.gₑ = -gₑ / τ\n",
       "          diff.gᵢ = -gᵢ / τ\n",
       "      end)"
      ]
     },
     "execution_count": 12,
     "metadata": {},
     "output_type": "execute_result"
    }
   ],
   "source": [
    "izh.generated_func"
   ]
  },
  {
   "cell_type": "code",
   "execution_count": 28,
   "id": "f5162719",
   "metadata": {},
   "outputs": [
    {
     "data": {
      "text/latex": [
       "\\begin{align} \n",
       "\\frac{\\mathrm{d}v}{\\mathrm{d}t} &= \\ \\left. \\left( {k \\left( v - v_r \\right) \\left( v - v_t \\right) - u - I_{syn} + I_{ext}} \\right)\\,\\middle/ \\,{C}\\right. \\\\ \n",
       "\\frac{\\mathrm{d}u}{\\mathrm{d}t} &= \\ a \\left( b \\left( v - v_r \\right) - u \\right)\\\\ \n",
       "I_{syn} &= \\ g_e \\left( v - E_e \\right) + g_i \\left( v - E_i \\right)\\\\ \n",
       "\\frac{\\mathrm{d}g_e}{\\mathrm{d}t} &= \\ \\left. \\left( { - g_e} \\right)\\,\\middle/ \\,{\\tau}\\right. \\\\ \n",
       "\\frac{\\mathrm{d}g_i}{\\mathrm{d}t} &= \\ \\left. \\left( { - g_i} \\right)\\,\\middle/ \\,{\\tau}\\right. \\\\ \n",
       "\\end{align}"
      ],
      "text/plain": [
       "L\"\\begin{align} \n",
       "\\frac{\\mathrm{d}v}{\\mathrm{d}t} &= \\ \\left. \\left( {k \\left( v - v_r \\right) \\left( v - v_t \\right) - u - I_{syn} + I_{ext}} \\right)\\,\\middle/ \\,{C}\\right. \\\\ \n",
       "\\frac{\\mathrm{d}u}{\\mathrm{d}t} &= \\ a \\left( b \\left( v - v_r \\right) - u \\right)\\\\ \n",
       "I_{syn} &= \\ g_e \\left( v - E_e \\right) + g_i \\left( v - E_i \\right)\\\\ \n",
       "\\frac{\\mathrm{d}g_e}{\\mathrm{d}t} &= \\ \\left. \\left( { - g_e} \\right)\\,\\middle/ \\,{\\tau}\\right. \\\\ \n",
       "\\frac{\\mathrm{d}g_i}{\\mathrm{d}t} &= \\ \\left. \\left( { - g_i} \\right)\\,\\middle/ \\,{\\tau}\\right. \\\\ \n",
       "\\end{align}\""
      ]
     },
     "execution_count": 28,
     "metadata": {},
     "output_type": "execute_result"
    }
   ],
   "source": [
    "show_eqs(izh)"
   ]
  },
  {
   "cell_type": "code",
   "execution_count": 25,
   "id": "1a829e4f",
   "metadata": {},
   "outputs": [
    {
     "data": {
      "text/plain": [
       "\u001b[0mComponentVector{Float64}(v = 2, u = -1, I_syn = 0, gₑ = -0, gᵢ = -0)"
      ]
     },
     "execution_count": 25,
     "metadata": {},
     "output_type": "execute_result"
    }
   ],
   "source": [
    "vars = CVec{Float64}(v=0, u=0, I_syn=0, gₑ=0, gᵢ=0)\n",
    "diff = similar(vars)\n",
    "params = idvec(:C, :Eᵢ, :Eₑ, :I_ext, :a, :b, :k, :vᵣ, :vₜ, :τ)\n",
    "params = similar(params, Float64)\n",
    "params .= 1\n",
    "izh.f(diff, vars, params)\n",
    "diff"
   ]
  },
  {
   "cell_type": "code",
   "execution_count": 27,
   "id": "4b320e37",
   "metadata": {},
   "outputs": [
    {
     "data": {
      "text/plain": [
       "\u001b[0mComponentVector{Float64}(v = 0.0002, u = -0.0001, I_syn = 0, gₑ = 0, gᵢ = 0)"
      ]
     },
     "execution_count": 27,
     "metadata": {},
     "output_type": "execute_result"
    }
   ],
   "source": [
    "vars .+= diff * 0.1ms"
   ]
  },
  {
   "cell_type": "code",
   "execution_count": 26,
   "id": "e114ed9f",
   "metadata": {},
   "outputs": [
    {
     "data": {
      "text/plain": [
       "\u001b[0mComponentVector{Float64}(v = 0, u = 0, I_syn = -0, gₑ = 0, gᵢ = 0)"
      ]
     },
     "execution_count": 26,
     "metadata": {},
     "output_type": "execute_result"
    }
   ],
   "source": [
    "vars"
   ]
  },
  {
   "cell_type": "code",
   "execution_count": 13,
   "id": "a64a372c",
   "metadata": {},
   "outputs": [
    {
     "ename": "LoadError",
     "evalue": "MethodError: no method matching (::var\"#5#6\")()\n\u001b[0mClosest candidates are:\n\u001b[0m  (::var\"#5#6\")(\u001b[91m::Any\u001b[39m, \u001b[91m::Any\u001b[39m, \u001b[91m::Any\u001b[39m) at none:0",
     "output_type": "error",
     "traceback": [
      "MethodError: no method matching (::var\"#5#6\")()\n\u001b[0mClosest candidates are:\n\u001b[0m  (::var\"#5#6\")(\u001b[91m::Any\u001b[39m, \u001b[91m::Any\u001b[39m, \u001b[91m::Any\u001b[39m) at none:0",
      "",
      "Stacktrace:",
      " [1] top-level scope",
      "   @ In[13]:1",
      " [2] eval",
      "   @ .\\boot.jl:368 [inlined]",
      " [3] include_string(mapexpr::typeof(REPL.softscope), mod::Module, code::String, filename::String)",
      "   @ Base .\\loading.jl:1428"
     ]
    }
   ],
   "source": [
    "izh.f()"
   ]
  },
  {
   "cell_type": "code",
   "execution_count": 32,
   "id": "43561f0b",
   "metadata": {},
   "outputs": [],
   "source": [
    "using Unitful: mV, nS"
   ]
  },
  {
   "cell_type": "code",
   "execution_count": 34,
   "id": "c727e773",
   "metadata": {},
   "outputs": [
    {
     "data": {
      "text/plain": [
       "3 mV"
      ]
     },
     "execution_count": 34,
     "metadata": {},
     "output_type": "execute_result"
    }
   ],
   "source": [
    "3mV"
   ]
  },
  {
   "cell_type": "code",
   "execution_count": null,
   "id": "5bdb5124",
   "metadata": {},
   "outputs": [],
   "source": []
  }
 ],
 "metadata": {
  "jupytext": {
   "encoding": "# -*- coding: utf-8 -*-",
   "formats": "ipynb,jl:light"
  },
  "kernelspec": {
   "display_name": "Julia 1.8.1 mysys",
   "language": "julia",
   "name": "julia-1.8-mysys"
  },
  "language_info": {
   "file_extension": ".jl",
   "mimetype": "application/julia",
   "name": "julia",
   "version": "1.8.1"
  },
  "toc": {
   "base_numbering": 1,
   "nav_menu": {},
   "number_sections": false,
   "sideBar": true,
   "skip_h1_title": true,
   "title_cell": "Table of Contents",
   "title_sidebar": "Contents",
   "toc_cell": false,
   "toc_position": {
    "height": "100px",
    "left": "48px",
    "top": "36.8333px",
    "width": "212px"
   },
   "toc_section_display": true,
   "toc_window_display": true
  }
 },
 "nbformat": 4,
 "nbformat_minor": 5
}
