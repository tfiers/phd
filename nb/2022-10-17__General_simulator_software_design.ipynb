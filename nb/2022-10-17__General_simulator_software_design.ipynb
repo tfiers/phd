{
 "cells": [
  {
   "cell_type": "markdown",
   "id": "57ab3994",
   "metadata": {},
   "source": [
    "# 2022-10-17 • General simulator software design"
   ]
  },
  {
   "cell_type": "markdown",
   "id": "6c92c581",
   "metadata": {},
   "source": [
    "In the previous notebook, the firing rate error in the N-to-1 simulations was fixed. We want to know re-run those simulations with actual lognormal Poisson inputs.\n",
    "\n",
    "When writing the network simulation code, the N-to-1 simulation code was copied and adapted.\n",
    "I.e. there is duplication in functionality, and divergence in their APIs.\n",
    "It's time for consolidation.\n",
    "Advantage: easier to also investigate LIF/EIF neurons, different neuron types, etc."
   ]
  },
  {
   "cell_type": "markdown",
   "id": "c99fa4fd",
   "metadata": {},
   "source": [
    "## Imports"
   ]
  },
  {
   "cell_type": "code",
   "execution_count": 1,
   "id": "1a27acb6",
   "metadata": {},
   "outputs": [],
   "source": [
    "#"
   ]
  },
  {
   "cell_type": "code",
   "execution_count": 2,
   "id": "3a016087",
   "metadata": {},
   "outputs": [],
   "source": [
    "using MyToolbox"
   ]
  },
  {
   "cell_type": "code",
   "execution_count": 4,
   "id": "c5f73e95",
   "metadata": {
    "scrolled": false
   },
   "outputs": [],
   "source": [
    "@time_imports using VoltoMapSim"
   ]
  },
  {
   "cell_type": "markdown",
   "id": "13713511",
   "metadata": {},
   "source": [
    "## Differential equations"
   ]
  },
  {
   "cell_type": "code",
   "execution_count": 16,
   "id": "6c65c3ff",
   "metadata": {},
   "outputs": [],
   "source": [
    "izh = @eqs begin\n",
    "    \n",
    "    dv/dt = (k*(v-vₗ)*(v-vₜ) - u - I_syn) / C\n",
    "    du/dt = a*(b*(v-vᵣ) - u)\n",
    "\n",
    "    I_syn = gₑ*(v-Eₑ) + gᵢ*(v-Eᵢ)\n",
    "\n",
    "    dgₑ/dt = -gₑ / τ  # Represents sum over all exc synapses\n",
    "    dgᵢ/dt = -gᵢ / τ\n",
    "end;"
   ]
  },
  {
   "cell_type": "code",
   "execution_count": 17,
   "id": "7817b294",
   "metadata": {
    "scrolled": false
   },
   "outputs": [
    {
     "data": {
      "text/plain": [
       "SpikeLab.Model_\n",
       " with variables {v, u, I_syn, gₑ, gᵢ}\n",
       " and parameters {C, Eᵢ, Eₑ, a, b, k, vᵣ, vₗ, vₜ, τ}\n"
      ]
     },
     "execution_count": 17,
     "metadata": {},
     "output_type": "execute_result"
    }
   ],
   "source": [
    "izh"
   ]
  },
  {
   "cell_type": "code",
   "execution_count": 18,
   "id": "8ed7fda5",
   "metadata": {},
   "outputs": [
    {
     "data": {
      "text/plain": [
       ":((diff, vars, params)->begin\n",
       "          @unpack (v, u, I_syn, gₑ, gᵢ) = vars\n",
       "          @unpack (C, Eᵢ, Eₑ, a, b, k, vᵣ, vₗ, vₜ, τ) = params\n",
       "          diff.v = ((k * (v - vₗ) * (v - vₜ) - u) - I_syn) / C\n",
       "          diff.u = a * (b * (v - vᵣ) - u)\n",
       "          vars.I_syn = gₑ * (v - Eₑ) + gᵢ * (v - Eᵢ)\n",
       "          diff.gₑ = -gₑ / τ\n",
       "          diff.gᵢ = -gᵢ / τ\n",
       "      end)"
      ]
     },
     "execution_count": 18,
     "metadata": {},
     "output_type": "execute_result"
    }
   ],
   "source": [
    "izh.generated_func"
   ]
  },
  {
   "cell_type": "markdown",
   "id": "f6decad4",
   "metadata": {},
   "source": [
    "## Initialize buffers"
   ]
  },
  {
   "cell_type": "code",
   "execution_count": 19,
   "id": "4ed8a015",
   "metadata": {},
   "outputs": [],
   "source": [
    "params = (\n",
    "    # Cortical regular spiking (same as always)\n",
    "    C  =  100    * pF,\n",
    "    k  =    0.7  * (nS/mV),\n",
    "    vₗ = - 60    * mV,\n",
    "    vₜ = - 40    * mV,\n",
    "    a  =    0.03 / ms,\n",
    "    b  = -  2    * nS,\n",
    "    # Not in model eqs above (yet)\n",
    "    vₛ =   35    * mV,  # spike\n",
    "    vᵣ = - 50    * mV,  # reset\n",
    "    Δu =  100    * pA,\n",
    "\n",
    "    # Synapses\n",
    "    Eₑ =   0 * mV,\n",
    "    Eᵢ = -80 * mV,  # Higher than Nto1 (was -65); same as nets.\n",
    "    τ  =   7 * ms,\n",
    ")\n",
    "\n",
    "init = (\n",
    "    v  = params.vᵣ,\n",
    "    u  = 0 * pA,\n",
    "    gₑ = 0 * nS,\n",
    "    gᵢ = 0 * nS,\n",
    "    I_syn = 0 * nA,\n",
    ");"
   ]
  },
  {
   "cell_type": "code",
   "execution_count": 20,
   "id": "0516b2ef",
   "metadata": {
    "lines_to_next_cell": 2
   },
   "outputs": [
    {
     "data": {
      "text/plain": [
       "\u001b[0mComponentVector{Float64}(v = 0, u = 0, gₑ = 0, gᵢ = 0, I_syn = 0)"
      ]
     },
     "execution_count": 20,
     "metadata": {},
     "output_type": "execute_result"
    }
   ],
   "source": [
    "vars = CVec{Float64}(init)\n",
    "diff = similar(vars)\n",
    "diff .= 0"
   ]
  },
  {
   "cell_type": "code",
   "execution_count": 31,
   "id": "6887b3c8",
   "metadata": {},
   "outputs": [
    {
     "data": {
      "text/plain": [
       "10000"
      ]
     },
     "execution_count": 31,
     "metadata": {},
     "output_type": "execute_result"
    }
   ],
   "source": [
    "duration = 1 * second\n",
    "Δt       = 0.1 * ms\n",
    "Nt = to_timesteps(duration, Δt)"
   ]
  },
  {
   "cell_type": "code",
   "execution_count": 33,
   "id": "94e7bf17",
   "metadata": {},
   "outputs": [],
   "source": [
    "for ti in 1:Nt\n",
    "    izh.f(diff, vars, params)\n",
    "    vars .+= diff .* Δt\n",
    "end"
   ]
  },
  {
   "cell_type": "code",
   "execution_count": null,
   "id": "b46f3e2c",
   "metadata": {},
   "outputs": [],
   "source": [
    "Revise.revise(SpikeLab);\n",
    "Revise.revise(VoltoMapSim);"
   ]
  },
  {
   "cell_type": "code",
   "execution_count": 46,
   "id": "06b4cd58",
   "metadata": {},
   "outputs": [
    {
     "data": {
      "text/plain": [
       "6086-element Vector{Float64}:\n",
       " 0.0584\n",
       " 0.246\n",
       " 0.264\n",
       " 0.304\n",
       " 0.318\n",
       " 0.369\n",
       " 0.445\n",
       " 0.821\n",
       " 0.9\n",
       " 1.04\n",
       " 1.28\n",
       " 1.31\n",
       " 1.35\n",
       " ⋮\n",
       " 1.2E+03\n",
       " 1.2E+03\n",
       " 1.2E+03\n",
       " 1.2E+03\n",
       " 1.2E+03\n",
       " 1.2E+03\n",
       " 1.2E+03\n",
       " 1.2E+03\n",
       " 1.2E+03\n",
       " 1.2E+03\n",
       " 1.2E+03\n",
       " 1.2E+03"
      ]
     },
     "execution_count": 46,
     "metadata": {},
     "output_type": "execute_result"
    },
    {
     "name": "stdout",
     "output_type": "stream",
     "text": [
      "\n",
      "(julia.exe:17984): Gdk-CRITICAL **: 13:16:50.068: gdk_seat_default_remove_tool: assertion 'tool != NULL' failed\n",
      "\n",
      "(julia.exe:17984): Gdk-CRITICAL **: 13:16:50.284: gdk_seat_default_remove_tool: assertion 'tool != NULL' failed\n",
      "\n",
      "(julia.exe:17984): Gdk-CRITICAL **: 13:16:50.420: gdk_seat_default_remove_tool: assertion 'tool != NULL' failed\n"
     ]
    }
   ],
   "source": [
    "poisson_spikes(5Hz, 20minutes)"
   ]
  },
  {
   "cell_type": "code",
   "execution_count": 57,
   "id": "3e4195f7",
   "metadata": {},
   "outputs": [
    {
     "name": "stdout",
     "output_type": "stream",
     "text": [
      "search: \u001b[0m\u001b[1mp\u001b[22m\u001b[0m\u001b[1mo\u001b[22m\u001b[0m\u001b[1mi\u001b[22m\u001b[0m\u001b[1ms\u001b[22m\u001b[0m\u001b[1ms\u001b[22m\u001b[0m\u001b[1mo\u001b[22m\u001b[0m\u001b[1mn\u001b[22m\u001b[0m\u001b[1m_\u001b[22m\u001b[0m\u001b[1ms\u001b[22m\u001b[0m\u001b[1mp\u001b[22m\u001b[0m\u001b[1mi\u001b[22m\u001b[0m\u001b[1mk\u001b[22m\u001b[0m\u001b[1me\u001b[22m\u001b[0m\u001b[1ms\u001b[22m gen_\u001b[0m\u001b[1mP\u001b[22m\u001b[0m\u001b[1mo\u001b[22m\u001b[0m\u001b[1mi\u001b[22m\u001b[0m\u001b[1ms\u001b[22m\u001b[0m\u001b[1ms\u001b[22m\u001b[0m\u001b[1mo\u001b[22m\u001b[0m\u001b[1mn\u001b[22m\u001b[0m\u001b[1m_\u001b[22m\u001b[0m\u001b[1ms\u001b[22m\u001b[0m\u001b[1mp\u001b[22m\u001b[0m\u001b[1mi\u001b[22m\u001b[0m\u001b[1mk\u001b[22m\u001b[0m\u001b[1me\u001b[22m\u001b[0m\u001b[1ms\u001b[22m\n",
      "\n"
     ]
    },
    {
     "data": {
      "text/html": [
       "<div class=\"markdown\"><pre><code>poisson_spikes&#40;r, T&#41;</code></pre>\n",
       "<p>Generate a Poisson spike train with firing rate &#36;r&#36; on the time interval &#36;&#91;0, T&#93;&#36;.</p>\n",
       "<p>More precisely, simulate a Poisson process by drawing inter-spike-intervals from an Exponential distribution with rate parameter &#36;r&#36;, accumulating them until &#36;T&#36; is reached. The number of spikes &#36;N&#36; in &#36;&#91;0, T&#93;&#36; will be Poisson-distributed, with mean &#61; &#36;rT&#36;.</p>\n",
       "<p>The output is a length-&#36;N&#36; &#40;i.e. variable length&#41; vector of spike times.</p>\n",
       "\n",
       "\n",
       "</div>"
      ],
      "text/latex": [
       "\\begin{verbatim}\n",
       "poisson_spikes(r, T)\n",
       "\\end{verbatim}\n",
       "Generate a Poisson spike train with firing rate $r$ on the time interval $[0, T]$.\n",
       "\n",
       "More precisely, simulate a Poisson process by drawing inter-spike-intervals from an Exponential distribution with rate parameter $r$, accumulating them until $T$ is reached. The number of spikes $N$ in $[0, T]$ will be Poisson-distributed, with mean = $rT$.\n",
       "\n",
       "The output is a length-$N$ (i.e. variable length) vector of spike times.\n",
       "\n"
      ],
      "text/markdown": [
       "```\n",
       "poisson_spikes(r, T)\n",
       "```\n",
       "\n",
       "Generate a Poisson spike train with firing rate $r$ on the time interval $[0, T]$.\n",
       "\n",
       "More precisely, simulate a Poisson process by drawing inter-spike-intervals from an Exponential distribution with rate parameter $r$, accumulating them until $T$ is reached. The number of spikes $N$ in $[0, T]$ will be Poisson-distributed, with mean = $rT$.\n",
       "\n",
       "The output is a length-$N$ (i.e. variable length) vector of spike times.\n"
      ],
      "text/plain": [
       "  \u001b[96mpoisson_spikes\u001b[0m(\u001b[0m\u001b[39mr\u001b[0m\u001b[39m,\u001b[0m \u001b[0m\u001b[39mT\u001b[0m\u001b[39m)\u001b[0m\u001b[39m\u001b[0m\n",
       "\n",
       "\n",
       "  Generate a Poisson spike train with firing rate \u001b[35mr\u001b[39m on the time interval \u001b[35m[0,\n",
       "  T]\u001b[39m.\n",
       "\n",
       "  More precisely, simulate a Poisson process by drawing inter-spike-intervals\n",
       "  from an Exponential distribution with rate parameter \u001b[35mr\u001b[39m, accumulating them\n",
       "  until \u001b[35mT\u001b[39m is reached. The number of spikes \u001b[35mN\u001b[39m in \u001b[35m[0, T]\u001b[39m will be\n",
       "  Poisson-distributed, with mean = \u001b[35mrT\u001b[39m.\n",
       "\n",
       "  The output is a length-\u001b[35mN\u001b[39m (i.e. variable length) vector of spike times."
      ]
     },
     "execution_count": 57,
     "metadata": {},
     "output_type": "execute_result"
    }
   ],
   "source": [
    "?poisson_spikes"
   ]
  },
  {
   "cell_type": "markdown",
   "id": "d3926505",
   "metadata": {},
   "source": [
    "Pause for now, and continue with the science."
   ]
  }
 ],
 "metadata": {
  "jupytext": {
   "encoding": "# -*- coding: utf-8 -*-",
   "formats": "ipynb,jl:light"
  },
  "kernelspec": {
   "display_name": "Julia 1.8.1 mysys",
   "language": "julia",
   "name": "julia-1.8-mysys"
  },
  "language_info": {
   "file_extension": ".jl",
   "mimetype": "application/julia",
   "name": "julia",
   "version": "1.8.1"
  },
  "toc": {
   "base_numbering": 1,
   "nav_menu": {},
   "number_sections": false,
   "sideBar": true,
   "skip_h1_title": true,
   "title_cell": "Table of Contents",
   "title_sidebar": "Contents",
   "toc_cell": false,
   "toc_position": {
    "height": "100px",
    "left": "48px",
    "top": "36.8333px",
    "width": "212px"
   },
   "toc_section_display": true,
   "toc_window_display": true
  }
 },
 "nbformat": 4,
 "nbformat_minor": 5
}
