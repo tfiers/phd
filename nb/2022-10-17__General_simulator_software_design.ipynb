{
 "cells": [
  {
   "cell_type": "markdown",
   "id": "57ab3994",
   "metadata": {},
   "source": [
    "# 2022-10-17 • General simulator software design"
   ]
  },
  {
   "cell_type": "markdown",
   "id": "6c92c581",
   "metadata": {},
   "source": [
    "In the previous notebook, the firing rate error in the N-to-1 simulations was fixed. We want to know re-run those simulations with actual lognormal Poisson inputs.\n",
    "\n",
    "When writing the network simulation code, the N-to-1 simulation code was copied and adapted.\n",
    "I.e. there is duplication in functionality, and divergence in their APIs.\n",
    "It's time for consolidation.\n",
    "Advantage: easier to also investigate LIF/EIF neurons, different neuron types, etc."
   ]
  },
  {
   "cell_type": "markdown",
   "id": "c99fa4fd",
   "metadata": {},
   "source": [
    "## Imports"
   ]
  },
  {
   "cell_type": "code",
   "execution_count": 1,
   "id": "1a27acb6",
   "metadata": {},
   "outputs": [],
   "source": [
    "#"
   ]
  },
  {
   "cell_type": "code",
   "execution_count": 2,
   "id": "3a016087",
   "metadata": {},
   "outputs": [],
   "source": [
    "using MyToolbox"
   ]
  },
  {
   "cell_type": "code",
   "execution_count": 4,
   "id": "c5f73e95",
   "metadata": {
    "scrolled": false
   },
   "outputs": [],
   "source": [
    "@time_imports using VoltoMapSim"
   ]
  },
  {
   "cell_type": "markdown",
   "id": "13713511",
   "metadata": {},
   "source": [
    "## Differential equations"
   ]
  },
  {
   "cell_type": "code",
   "execution_count": 16,
   "id": "6c65c3ff",
   "metadata": {},
   "outputs": [],
   "source": [
    "izh = @eqs begin\n",
    "    \n",
    "    dv/dt = (k*(v-vₗ)*(v-vₜ) - u - I_syn) / C\n",
    "    du/dt = a*(b*(v-vᵣ) - u)\n",
    "\n",
    "    I_syn = gₑ*(v-Eₑ) + gᵢ*(v-Eᵢ)\n",
    "\n",
    "    dgₑ/dt = -gₑ / τ  # Represents sum over all exc synapses\n",
    "    dgᵢ/dt = -gᵢ / τ\n",
    "end;"
   ]
  },
  {
   "cell_type": "code",
   "execution_count": 17,
   "id": "7817b294",
   "metadata": {
    "scrolled": false
   },
   "outputs": [
    {
     "data": {
      "text/plain": [
       "SpikeLab.Model_\n",
       " with variables {v, u, I_syn, gₑ, gᵢ}\n",
       " and parameters {C, Eᵢ, Eₑ, a, b, k, vᵣ, vₗ, vₜ, τ}\n"
      ]
     },
     "execution_count": 17,
     "metadata": {},
     "output_type": "execute_result"
    }
   ],
   "source": [
    "izh"
   ]
  },
  {
   "cell_type": "code",
   "execution_count": 18,
   "id": "8ed7fda5",
   "metadata": {},
   "outputs": [
    {
     "data": {
      "text/plain": [
       ":((diff, vars, params)->begin\n",
       "          @unpack (v, u, I_syn, gₑ, gᵢ) = vars\n",
       "          @unpack (C, Eᵢ, Eₑ, a, b, k, vᵣ, vₗ, vₜ, τ) = params\n",
       "          diff.v = ((k * (v - vₗ) * (v - vₜ) - u) - I_syn) / C\n",
       "          diff.u = a * (b * (v - vᵣ) - u)\n",
       "          vars.I_syn = gₑ * (v - Eₑ) + gᵢ * (v - Eᵢ)\n",
       "          diff.gₑ = -gₑ / τ\n",
       "          diff.gᵢ = -gᵢ / τ\n",
       "      end)"
      ]
     },
     "execution_count": 18,
     "metadata": {},
     "output_type": "execute_result"
    }
   ],
   "source": [
    "izh.generated_func"
   ]
  },
  {
   "cell_type": "markdown",
   "id": "f6decad4",
   "metadata": {},
   "source": [
    "## Initialize buffers"
   ]
  },
  {
   "cell_type": "code",
   "execution_count": 19,
   "id": "4ed8a015",
   "metadata": {},
   "outputs": [],
   "source": [
    "params = (\n",
    "    # Cortical regular spiking (same as always)\n",
    "    C  =  100    * pF,\n",
    "    k  =    0.7  * (nS/mV),\n",
    "    vₗ = - 60    * mV,\n",
    "    vₜ = - 40    * mV,\n",
    "    a  =    0.03 / ms,\n",
    "    b  = -  2    * nS,\n",
    "    # Not in model eqs above (yet)\n",
    "    vₛ =   35    * mV,  # spike\n",
    "    vᵣ = - 50    * mV,  # reset\n",
    "    Δu =  100    * pA,\n",
    "\n",
    "    # Synapses\n",
    "    Eₑ =   0 * mV,\n",
    "    Eᵢ = -80 * mV,  # Higher than Nto1 (was -65); same as nets.\n",
    "    τ  =   7 * ms,\n",
    ")\n",
    "\n",
    "init = (\n",
    "    v  = params.vᵣ,\n",
    "    u  = 0 * pA,\n",
    "    gₑ = 0 * nS,\n",
    "    gᵢ = 0 * nS,\n",
    "    I_syn = 0 * nA,\n",
    ");"
   ]
  },
  {
   "cell_type": "code",
   "execution_count": 20,
   "id": "0516b2ef",
   "metadata": {
    "lines_to_next_cell": 2
   },
   "outputs": [
    {
     "data": {
      "text/plain": [
       "\u001b[0mComponentVector{Float64}(v = 0, u = 0, gₑ = 0, gᵢ = 0, I_syn = 0)"
      ]
     },
     "execution_count": 20,
     "metadata": {},
     "output_type": "execute_result"
    }
   ],
   "source": [
    "vars = CVec{Float64}(init)\n",
    "diff = similar(vars)\n",
    "diff .= 0"
   ]
  },
  {
   "cell_type": "code",
   "execution_count": 136,
   "id": "dbfeae97",
   "metadata": {},
   "outputs": [
    {
     "name": "stdout",
     "output_type": "stream",
     "text": [
      "\u001b[32m\u001b[1m  No Changes\u001b[22m\u001b[39m to `C:\\Users\\tfiers\\phd\\Project.toml`\n",
      "\u001b[32m\u001b[1m  No Changes\u001b[22m\u001b[39m to `C:\\Users\\tfiers\\phd\\Manifest.toml`\n"
     ]
    }
   ],
   "source": [
    "]resolve"
   ]
  },
  {
   "cell_type": "code",
   "execution_count": 143,
   "id": "2f9c594a",
   "metadata": {},
   "outputs": [],
   "source": [
    "Revise.revise(SpikeLab);"
   ]
  },
  {
   "cell_type": "code",
   "execution_count": 144,
   "id": "a09fb4c6",
   "metadata": {},
   "outputs": [
    {
     "ename": "LoadError",
     "evalue": "UndefVarError: LogNormal not defined",
     "output_type": "error",
     "traceback": [
      "UndefVarError: LogNormal not defined",
      "",
      "Stacktrace:",
      " [1] getproperty(x::Module, f::Symbol)",
      "   @ Base .\\Base.jl:31",
      " [2] top-level scope",
      "   @ In[144]:1",
      " [3] eval",
      "   @ .\\boot.jl:368 [inlined]",
      " [4] include_string(mapexpr::typeof(REPL.softscope), mod::Module, code::String, filename::String)",
      "   @ Base .\\loading.jl:1428"
     ]
    }
   ],
   "source": [
    "SpikeLab.LogNormal(median=3,g=1)"
   ]
  },
  {
   "cell_type": "code",
   "execution_count": null,
   "id": "5fb1757a",
   "metadata": {},
   "outputs": [],
   "source": []
  },
  {
   "cell_type": "code",
   "execution_count": null,
   "id": "c5588caf",
   "metadata": {},
   "outputs": [],
   "source": []
  },
  {
   "cell_type": "code",
   "execution_count": null,
   "id": "5a3d293e",
   "metadata": {},
   "outputs": [],
   "source": [
    "duration = 1 * second\n",
    "Δt       = 0.1 * ms\n"
   ]
  },
  {
   "cell_type": "code",
   "execution_count": 125,
   "id": "3c54137f",
   "metadata": {},
   "outputs": [
    {
     "data": {
      "text/plain": [
       "\u001b[0mComponentVector{Float64}(v = -0.7, u = -0, gₑ = -0, gᵢ = -0, I_syn = 0)"
      ]
     },
     "execution_count": 125,
     "metadata": {},
     "output_type": "execute_result"
    }
   ],
   "source": [
    "izh.f(diff, vars, params)\n",
    "diff"
   ]
  },
  {
   "cell_type": "code",
   "execution_count": 12,
   "id": "84939713",
   "metadata": {},
   "outputs": [],
   "source": [
    "# Revise.revise(VoltoMapSim);"
   ]
  },
  {
   "cell_type": "code",
   "execution_count": 13,
   "id": "be4f8f71",
   "metadata": {},
   "outputs": [
    {
     "data": {
      "text/plain": [
       "\u001b[0mComponentVector{Float64}(v = 0.0002, u = -0.0001, I_syn = 8.15E-320, gₑ = 0, gᵢ = 0)"
      ]
     },
     "execution_count": 13,
     "metadata": {},
     "output_type": "execute_result"
    }
   ],
   "source": [
    "vars .+= diff * 0.1ms"
   ]
  },
  {
   "cell_type": "code",
   "execution_count": 14,
   "id": "256c9ef0",
   "metadata": {},
   "outputs": [
    {
     "data": {
      "text/plain": [
       "\u001b[0mComponentVector{Float64}(v = 0.0002, u = -0.0001, I_syn = 8.15E-320, gₑ = 0, gᵢ = 0)"
      ]
     },
     "execution_count": 14,
     "metadata": {},
     "output_type": "execute_result"
    }
   ],
   "source": [
    "vars"
   ]
  },
  {
   "cell_type": "code",
   "execution_count": null,
   "id": "9a01bb0b",
   "metadata": {},
   "outputs": [],
   "source": []
  }
 ],
 "metadata": {
  "jupytext": {
   "encoding": "# -*- coding: utf-8 -*-",
   "formats": "ipynb,jl:light"
  },
  "kernelspec": {
   "display_name": "Julia 1.8.1 mysys",
   "language": "julia",
   "name": "julia-1.8-mysys"
  },
  "language_info": {
   "file_extension": ".jl",
   "mimetype": "application/julia",
   "name": "julia",
   "version": "1.8.1"
  },
  "toc": {
   "base_numbering": 1,
   "nav_menu": {},
   "number_sections": false,
   "sideBar": true,
   "skip_h1_title": true,
   "title_cell": "Table of Contents",
   "title_sidebar": "Contents",
   "toc_cell": false,
   "toc_position": {
    "height": "100px",
    "left": "48px",
    "top": "36.8333px",
    "width": "212px"
   },
   "toc_section_display": true,
   "toc_window_display": true
  }
 },
 "nbformat": 4,
 "nbformat_minor": 5
}
