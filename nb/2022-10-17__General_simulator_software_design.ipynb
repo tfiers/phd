{
 "cells": [
  {
   "cell_type": "markdown",
   "id": "57ab3994",
   "metadata": {},
   "source": [
    "# 2022-10-17 • General simulator software design"
   ]
  },
  {
   "cell_type": "markdown",
   "id": "6c92c581",
   "metadata": {},
   "source": [
    "In the previous notebook, the firing rate error in the N-to-1 simulations was fixed. We want to know re-run those simulations with actual lognormal Poisson inputs.\n",
    "\n",
    "When writing the network simulation code, the N-to-1 simulation code was copied and adapted.\n",
    "I.e. there is duplication in functionality, and divergence in their APIs.\n",
    "It's time for consolidation.\n",
    "Advantage: easier to also investigate LIF/EIF neurons, different neuron types, etc."
   ]
  },
  {
   "cell_type": "markdown",
   "id": "c99fa4fd",
   "metadata": {},
   "source": [
    "## Imports"
   ]
  },
  {
   "cell_type": "code",
   "execution_count": 14,
   "id": "1a27acb6",
   "metadata": {},
   "outputs": [],
   "source": [
    "#"
   ]
  },
  {
   "cell_type": "code",
   "execution_count": 15,
   "id": "3a016087",
   "metadata": {},
   "outputs": [],
   "source": [
    "using MyToolbox"
   ]
  },
  {
   "cell_type": "code",
   "execution_count": 31,
   "id": "c5f73e95",
   "metadata": {
    "scrolled": false
   },
   "outputs": [],
   "source": [
    "using VoltoMapSim"
   ]
  },
  {
   "cell_type": "markdown",
   "id": "13713511",
   "metadata": {},
   "source": [
    "## ."
   ]
  },
  {
   "cell_type": "code",
   "execution_count": 18,
   "id": "a5b6685a",
   "metadata": {},
   "outputs": [],
   "source": [
    "izh = @eqs begin\n",
    "    \n",
    "    dv/dt = (k*(v-vᵣ)*(v-vₜ) - u - I_syn + I_ext) / C\n",
    "    du/dt = a*(b*(v-vᵣ) - u)\n",
    "\n",
    "    I_syn = gₑ*(v-Eₑ) + gᵢ*(v-Eᵢ)\n",
    "\n",
    "    dgₑ/dt = -gₑ / τ  # Represents sum over all exc synapses\n",
    "    dgᵢ/dt = -gᵢ / τ\n",
    "    \n",
    "    @spike if v > v_peak\n",
    "        v = v_reset\n",
    "        u += Δu\n",
    "    end\n",
    "end;"
   ]
  },
  {
   "cell_type": "code",
   "execution_count": 26,
   "id": "c2c56a8e",
   "metadata": {
    "scrolled": false
   },
   "outputs": [
    {
     "data": {
      "text/plain": [
       "SpikeLab.Model2\n",
       " with variables {v, u, I_syn, gₑ, gᵢ}\n",
       " and parameters {C, Eᵢ, Eₑ, I_ext, a, b, k, vᵣ, vₜ, τ}\n"
      ]
     },
     "execution_count": 26,
     "metadata": {},
     "output_type": "execute_result"
    }
   ],
   "source": [
    "izh"
   ]
  },
  {
   "cell_type": "code",
   "execution_count": 27,
   "id": "e746964c",
   "metadata": {},
   "outputs": [
    {
     "data": {
      "text/plain": [
       ":((diff, vars, params)->begin\n",
       "          @unpack (v, u, I_syn, gₑ, gᵢ) = vars\n",
       "          @unpack (C, Eᵢ, Eₑ, I_ext, a, b, k, vᵣ, vₜ, τ) = params\n",
       "          diff.v = (((k * (v - vᵣ) * (v - vₜ) - u) - I_syn) + I_ext) / C\n",
       "          diff.u = a * (b * (v - vᵣ) - u)\n",
       "          vars.I_syn = gₑ * (v - Eₑ) + gᵢ * (v - Eᵢ)\n",
       "          diff.gₑ = -gₑ / τ\n",
       "          diff.gᵢ = -gᵢ / τ\n",
       "      end)"
      ]
     },
     "execution_count": 27,
     "metadata": {},
     "output_type": "execute_result"
    }
   ],
   "source": [
    "izh.generated_func"
   ]
  },
  {
   "cell_type": "code",
   "execution_count": 28,
   "id": "8c093df5",
   "metadata": {},
   "outputs": [
    {
     "data": {
      "text/latex": [
       "\\begin{align} \n",
       "\\frac{\\mathrm{d}v}{\\mathrm{d}t} &= \\ \\left. \\left( {k \\left( v - v_r \\right) \\left( v - v_t \\right) - u - I_{syn} + I_{ext}} \\right)\\,\\middle/ \\,{C}\\right. \\\\ \n",
       "\\frac{\\mathrm{d}u}{\\mathrm{d}t} &= \\ a \\left( b \\left( v - v_r \\right) - u \\right)\\\\ \n",
       "I_{syn} &= \\ g_e \\left( v - E_e \\right) + g_i \\left( v - E_i \\right)\\\\ \n",
       "\\frac{\\mathrm{d}g_e}{\\mathrm{d}t} &= \\ \\left. \\left( { - g_e} \\right)\\,\\middle/ \\,{\\tau}\\right. \\\\ \n",
       "\\frac{\\mathrm{d}g_i}{\\mathrm{d}t} &= \\ \\left. \\left( { - g_i} \\right)\\,\\middle/ \\,{\\tau}\\right. \\\\ \n",
       "\\end{align}"
      ],
      "text/plain": [
       "L\"\\begin{align} \n",
       "\\frac{\\mathrm{d}v}{\\mathrm{d}t} &= \\ \\left. \\left( {k \\left( v - v_r \\right) \\left( v - v_t \\right) - u - I_{syn} + I_{ext}} \\right)\\,\\middle/ \\,{C}\\right. \\\\ \n",
       "\\frac{\\mathrm{d}u}{\\mathrm{d}t} &= \\ a \\left( b \\left( v - v_r \\right) - u \\right)\\\\ \n",
       "I_{syn} &= \\ g_e \\left( v - E_e \\right) + g_i \\left( v - E_i \\right)\\\\ \n",
       "\\frac{\\mathrm{d}g_e}{\\mathrm{d}t} &= \\ \\left. \\left( { - g_e} \\right)\\,\\middle/ \\,{\\tau}\\right. \\\\ \n",
       "\\frac{\\mathrm{d}g_i}{\\mathrm{d}t} &= \\ \\left. \\left( { - g_i} \\right)\\,\\middle/ \\,{\\tau}\\right. \\\\ \n",
       "\\end{align}\""
      ]
     },
     "execution_count": 28,
     "metadata": {},
     "output_type": "execute_result"
    }
   ],
   "source": [
    "show_eqs(izh)"
   ]
  },
  {
   "cell_type": "code",
   "execution_count": 29,
   "id": "9f295e95",
   "metadata": {},
   "outputs": [
    {
     "data": {
      "text/plain": [
       "\u001b[0mComponentVector{Float64}(v = 2.0, u = -1.0, I_syn = 1.3145426e-315, gₑ = -0.0, gᵢ = -0.0)"
      ]
     },
     "execution_count": 29,
     "metadata": {},
     "output_type": "execute_result"
    }
   ],
   "source": [
    "vars = CVec{Float64}(v=0, u=0, I_syn=0, gₑ=0, gᵢ=0)\n",
    "diff = similar(vars)\n",
    "params = idvec(:C, :Eᵢ, :Eₑ, :I_ext, :a, :b, :k, :vᵣ, :vₜ, :τ)\n",
    "params = similar(params, Float64)\n",
    "params .= 1\n",
    "izh.f(diff, vars, params)\n",
    "diff"
   ]
  },
  {
   "cell_type": "code",
   "execution_count": 38,
   "id": "364a204b",
   "metadata": {},
   "outputs": [
    {
     "data": {
      "text/plain": [
       "\u001b[0mComponentVector{Float64}(v = 0.2, u = -0.1, I_syn = 1.3145426e-316, gₑ = 0.0, gᵢ = 0.0)"
      ]
     },
     "execution_count": 38,
     "metadata": {},
     "output_type": "execute_result"
    }
   ],
   "source": [
    "vars .+= diff * 0.1 #ms"
   ]
  },
  {
   "cell_type": "code",
   "execution_count": 39,
   "id": "2df907b1",
   "metadata": {},
   "outputs": [
    {
     "data": {
      "text/plain": [
       "\u001b[0mComponentVector{Float64}(v = 0.2, u = -0.1, I_syn = 1.3145426e-316, gₑ = 0.0, gᵢ = 0.0)"
      ]
     },
     "execution_count": 39,
     "metadata": {},
     "output_type": "execute_result"
    }
   ],
   "source": [
    "vars"
   ]
  },
  {
   "cell_type": "code",
   "execution_count": 40,
   "id": "94b3d233",
   "metadata": {},
   "outputs": [
    {
     "ename": "LoadError",
     "evalue": "MethodError: no method matching (::var\"#7#8\")()\n\u001b[0mClosest candidates are:\n\u001b[0m  (::var\"#7#8\")(\u001b[91m::Any\u001b[39m, \u001b[91m::Any\u001b[39m, \u001b[91m::Any\u001b[39m) at C:\\Users\\tfiers\\phd\\pkg\\SpikeLab\\src\\eqparse.jl:61",
     "output_type": "error",
     "traceback": [
      "MethodError: no method matching (::var\"#7#8\")()\n\u001b[0mClosest candidates are:\n\u001b[0m  (::var\"#7#8\")(\u001b[91m::Any\u001b[39m, \u001b[91m::Any\u001b[39m, \u001b[91m::Any\u001b[39m) at C:\\Users\\tfiers\\phd\\pkg\\SpikeLab\\src\\eqparse.jl:61",
      "",
      "Stacktrace:",
      " [1] top-level scope",
      "   @ In[40]:1",
      " [2] eval",
      "   @ .\\boot.jl:368 [inlined]",
      " [3] include_string(mapexpr::typeof(REPL.softscope), mod::Module, code::String, filename::String)",
      "   @ Base .\\loading.jl:1428"
     ]
    }
   ],
   "source": [
    "izh.f()"
   ]
  },
  {
   "cell_type": "code",
   "execution_count": null,
   "id": "9f47b3aa",
   "metadata": {},
   "outputs": [],
   "source": [
    "params_any = similar(params, Any)\n",
    "params_any .= params\n",
    "params_any.C = \"wrongtype\"\n",
    "izh.f(diff, vars, params_any)"
   ]
  },
  {
   "cell_type": "code",
   "execution_count": 32,
   "id": "5128c363",
   "metadata": {},
   "outputs": [],
   "source": [
    "using Unitful: mV, nS"
   ]
  },
  {
   "cell_type": "code",
   "execution_count": 34,
   "id": "3ec58181",
   "metadata": {},
   "outputs": [
    {
     "data": {
      "text/plain": [
       "3 mV"
      ]
     },
     "execution_count": 34,
     "metadata": {},
     "output_type": "execute_result"
    }
   ],
   "source": [
    "3mV"
   ]
  }
 ],
 "metadata": {
  "jupytext": {
   "encoding": "# -*- coding: utf-8 -*-",
   "formats": "ipynb,jl:light"
  },
  "kernelspec": {
   "display_name": "Julia 1.8.1 mysys",
   "language": "julia",
   "name": "julia-1.8-mysys"
  },
  "language_info": {
   "file_extension": ".jl",
   "mimetype": "application/julia",
   "name": "julia",
   "version": "1.8.1"
  },
  "toc": {
   "base_numbering": 1,
   "nav_menu": {},
   "number_sections": false,
   "sideBar": true,
   "skip_h1_title": true,
   "title_cell": "Table of Contents",
   "title_sidebar": "Contents",
   "toc_cell": false,
   "toc_position": {
    "height": "100px",
    "left": "48px",
    "top": "36.8333px",
    "width": "212px"
   },
   "toc_section_display": true,
   "toc_window_display": true
  }
 },
 "nbformat": 4,
 "nbformat_minor": 5
}
