{
 "cells": [
  {
   "cell_type": "markdown",
   "id": "57ab3994",
   "metadata": {},
   "source": [
    "# 2022-10-17 • General simulator software design"
   ]
  },
  {
   "cell_type": "markdown",
   "id": "6c92c581",
   "metadata": {},
   "source": [
    "In the previous notebook, the firing rate error in the N-to-1 simulations was fixed. We want to know re-run those simulations with actual lognormal Poisson inputs.\n",
    "\n",
    "When writing the network simulation code, the N-to-1 simulation code was copied and adapted.\n",
    "I.e. there is duplication in functionality, and divergence in their APIs.\n",
    "It's time for consolidation.\n",
    "Advantage: easier to also investigate LIF/EIF neurons, different neuron types, etc."
   ]
  },
  {
   "cell_type": "markdown",
   "id": "c99fa4fd",
   "metadata": {},
   "source": [
    "## Imports"
   ]
  },
  {
   "cell_type": "code",
   "execution_count": 1,
   "id": "1a27acb6",
   "metadata": {},
   "outputs": [],
   "source": [
    "#"
   ]
  },
  {
   "cell_type": "code",
   "execution_count": null,
   "id": "3a016087",
   "metadata": {},
   "outputs": [
    {
     "name": "stderr",
     "output_type": "stream",
     "text": [
      "┌ Info: Precompiling MyToolbox [54cd1024-cafd-4d62-948d-ced4874502bf]\n",
      "└ @ Base loading.jl:1662\n"
     ]
    }
   ],
   "source": [
    "using MyToolbox"
   ]
  },
  {
   "cell_type": "code",
   "execution_count": null,
   "id": "c5f73e95",
   "metadata": {
    "scrolled": false
   },
   "outputs": [],
   "source": [
    "using VoltoMapSim"
   ]
  },
  {
   "cell_type": "markdown",
   "id": "3dab415c",
   "metadata": {},
   "source": [
    "## Poisson spikes"
   ]
  },
  {
   "cell_type": "code",
   "execution_count": 6,
   "id": "7c386c27",
   "metadata": {},
   "outputs": [],
   "source": [
    "\n",
    "function gen_Poisson_spikes(r, T)\n",
    "    # The number of spikes N in a time interval [0, T] is ~ Poisson(mean = rT)\n",
    "    # <--> Inter-spike-intervals ~ Exponential(rate = r).\n",
    "    # \n",
    "    # We simulate the Poisson process by drawing such ISIs, and accumulating them until we\n",
    "    # reach T. We cannot predict how many spikes we will have at that point. Hence, we\n",
    "    # allocate an array long enough to very likely fit all of them, and trim off the unused\n",
    "    # end upon reaching T.\n",
    "    # \n",
    "    max_N = cquantile(Poisson(r*T), 1e-14)  # complementary quantile. [1]\n",
    "    spikes = Vector{Float64}(undef, max_N)\n",
    "    ISI_distr = Exponential(inv(r))         # Parametrized by scale = 1 / rate\n",
    "    N = 0\n",
    "    t = rand(ISI_distr)\n",
    "    while t ≤ T\n",
    "        N += 1\n",
    "        spikes[N] = t\n",
    "        t += rand(ISI_distr)\n",
    "    end\n",
    "    resize!(spikes, N)\n",
    "end\n",
    "# [1] If the provided probability is smaller than ~1e15, we get an error (`Inf`):\n",
    "#     https://github.com/JuliaStats/Rmath-julia/blob/master/src/qpois.c#L86\n",
    "#     For an idea of the expected overhead of creating a roomy array: for r = 100 Hz and T =\n",
    "#     10 minutes, the expected N is 60000, and max_N is 61855.\n",
    "\n",
    "\n",
    "T = 10minutes\n",
    "gen_Poisson_spikes(100Hz, T);"
   ]
  },
  {
   "cell_type": "code",
   "execution_count": null,
   "id": "12694780",
   "metadata": {},
   "outputs": [],
   "source": [
    "function xloghist(x, nbins = 20; kw...)\n",
    "    fig, ax = plt.subplots()\n",
    "    a, b = extrema(x)\n",
    "    bins = 10 .^ range(log10(a), log10(b), nbins)\n",
    "    ax.hist(x; bins)\n",
    "    set(ax, xscale = :log; kw...)\n",
    "end\n",
    "\n",
    "function yloghist(x, nbins = 20; kw...)\n",
    "    fig, ax = plt.subplots()\n",
    "    ax.hist(x, bins = nbins, log = true)\n",
    "    set(ax; kw...)\n",
    "end\n",
    "\n",
    "input_fr = rand(λ_distr, 1000)\n",
    "xlabel = \"Firing rate (Hz)\"\n",
    "yloghist(input_fr; xlabel)\n",
    "xloghist(input_fr; xlabel)"
   ]
  },
  {
   "cell_type": "markdown",
   "id": "17205e71",
   "metadata": {},
   "source": [
    "^ that's desired firing rates.\n",
    "\n",
    "Now to sim the poisson process.."
   ]
  },
  {
   "cell_type": "code",
   "execution_count": null,
   "id": "3bfc7715",
   "metadata": {},
   "outputs": [],
   "source": [
    "actual_rates = [spikerate(gen_Poisson_spikes(λ, T)) for λ in input_fr]\n",
    "yloghist(actual_rates; xlabel)\n",
    "xloghist(actual_rates; xlabel)"
   ]
  },
  {
   "cell_type": "code",
   "execution_count": null,
   "id": "0d45d04f",
   "metadata": {},
   "outputs": [],
   "source": []
  }
 ],
 "metadata": {
  "jupytext": {
   "encoding": "# -*- coding: utf-8 -*-",
   "formats": "ipynb,jl:light"
  },
  "kernelspec": {
   "display_name": "Julia 1.8.1 mysys",
   "language": "julia",
   "name": "julia-1.8-mysys"
  },
  "language_info": {
   "file_extension": ".jl",
   "mimetype": "application/julia",
   "name": "julia",
   "version": "1.8.1"
  },
  "toc": {
   "base_numbering": 1,
   "nav_menu": {},
   "number_sections": false,
   "sideBar": true,
   "skip_h1_title": true,
   "title_cell": "Table of Contents",
   "title_sidebar": "Contents",
   "toc_cell": false,
   "toc_position": {
    "height": "100px",
    "left": "48px",
    "top": "36.8333px",
    "width": "212px"
   },
   "toc_section_display": true,
   "toc_window_display": true
  }
 },
 "nbformat": 4,
 "nbformat_minor": 5
}
