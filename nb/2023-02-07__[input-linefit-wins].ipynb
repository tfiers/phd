{
 "cells": [
  {
   "cell_type": "markdown",
   "id": "57ab3994",
   "metadata": {},
   "source": [
    "# 2023-02-07 • [input] to 'AdEx Nto1'"
   ]
  },
  {
   "cell_type": "markdown",
   "id": "367a748b-c270-4db3-9f8d-e702f34f7f77",
   "metadata": {},
   "source": [
    "Distilation of `2023-01-19 • Fit-a-line`."
   ]
  },
  {
   "cell_type": "markdown",
   "id": "1d87066a-c097-428e-b1ad-865995ff95ae",
   "metadata": {},
   "source": [
    "## Windows"
   ]
  },
  {
   "cell_type": "code",
   "execution_count": 28,
   "id": "86dede53-ac5d-4394-8cd7-f8f8164456a1",
   "metadata": {
    "lines_to_next_cell": 2
   },
   "outputs": [],
   "source": [
    "function windows(v, times, Δt, winsize)\n",
    "    # Assuming that times occur in [0, T)\n",
    "    win_starts = floor.(Int, times / Δt) .+ 1\n",
    "    wins = Vector{Vector{eltype(v)}}()\n",
    "    for a in win_starts\n",
    "        b = a + winsize - 1\n",
    "        if b ≤ lastindex(v)\n",
    "            push!(wins, v[a:b])\n",
    "        end\n",
    "    end\n",
    "    return wins\n",
    "end\n",
    "\n",
    "windows(i_sim, spiketimes) = windows(\n",
    "    vrec(sims[i_sim]),\n",
    "    spiketimes,\n",
    "    Δt,\n",
    "    winsize,\n",
    ")\n",
    "\n",
    "windows(i_sim, i_input::Int) = windows(i_sim, spiketimes(inps[i_sim].inputs[i_input]));"
   ]
  },
  {
   "cell_type": "code",
   "execution_count": 17,
   "id": "11a5c023-57da-47a0-a9e5-a2cdc72d3e7c",
   "metadata": {},
   "outputs": [],
   "source": [
    "# check for type inferrability\n",
    "# st = spiketimes(inp.inputs[1])\n",
    "# @code_warntype windows(vrec(sim), st, Δt, winsize)\n",
    "# ok ✔"
   ]
  },
  {
   "cell_type": "code",
   "execution_count": 3,
   "id": "215695d8-ca58-4db9-94d3-8c9e1b011e44",
   "metadata": {
    "lines_to_next_cell": 2
   },
   "outputs": [],
   "source": [
    "# @time wins = windows(1, 1);\n",
    "# println()\n",
    "# print(Base.summary(wins))"
   ]
  },
  {
   "cell_type": "markdown",
   "id": "4f99e457-f994-4925-8db5-ca392d97b6a5",
   "metadata": {},
   "source": [
    "Now to make the data matrix"
   ]
  },
  {
   "cell_type": "markdown",
   "id": "33776047-d2c4-46f0-9aad-df5c96099c52",
   "metadata": {},
   "source": [
    "## Data matrix"
   ]
  },
  {
   "cell_type": "markdown",
   "id": "68d36542-1a23-43ba-a84e-6eb529412785",
   "metadata": {},
   "source": [
    "We'll fit slope and intercept. So each datapoint, each row of X, is `[1, t]`"
   ]
  },
  {
   "cell_type": "code",
   "execution_count": 4,
   "id": "0a2851a4-5a47-4e70-a10e-13322c3e972e",
   "metadata": {},
   "outputs": [],
   "source": [
    "function build_Xy(windows, timepoints = 1:100)\n",
    "    T = eltype(eltype(windows))\n",
    "    N = length(windows) * length(timepoints)\n",
    "    X = Matrix{T}(undef, N, 2)\n",
    "    y = Vector{T}(undef, N)\n",
    "    i = 1\n",
    "    for win in windows\n",
    "        for (tᵢ, yᵢ) in zip(timepoints, win[timepoints])\n",
    "            X[i,:] .= [1, tᵢ]\n",
    "            y[i] = yᵢ\n",
    "            i += 1\n",
    "        end\n",
    "    end\n",
    "    @assert i == N + 1\n",
    "    return (X, y)\n",
    "end;\n",
    "\n",
    "\n",
    "# @time X, y = build_Xy(wins);"
   ]
  },
  {
   "cell_type": "code",
   "execution_count": 20,
   "id": "9add94d5-212b-40ba-b9e5-7ee506e278f0",
   "metadata": {},
   "outputs": [],
   "source": [
    "# check for type inferrability\n",
    "# @code_warntype build_Xy(wins, 1:100)\n",
    "# ok ✔"
   ]
  },
  {
   "cell_type": "code",
   "execution_count": 5,
   "id": "03973eae-a4ea-470a-b81e-f1279439d0c9",
   "metadata": {},
   "outputs": [],
   "source": [
    "# size(X)"
   ]
  },
  {
   "cell_type": "code",
   "execution_count": 6,
   "id": "56ab112a-0c97-40b8-804f-8d7cd0869f44",
   "metadata": {},
   "outputs": [],
   "source": [
    "# size(y)"
   ]
  },
  {
   "cell_type": "markdown",
   "id": "fb1f0049-607f-4432-8f82-ede90ede6ec5",
   "metadata": {},
   "source": [
    "## Plot some windows"
   ]
  },
  {
   "cell_type": "code",
   "execution_count": 7,
   "id": "3d0e3c0a-6d8b-4be5-bbb7-763ffbc6b8dd",
   "metadata": {},
   "outputs": [],
   "source": [
    "# ts = @view X[:,2]\n",
    "# sel = 1:10000\n",
    "\n",
    "# plot(ts[sel]*Δt/ms, y[sel]/mV, \".\", alpha=0.1);"
   ]
  },
  {
   "cell_type": "code",
   "execution_count": 8,
   "id": "48b20a7e-0f92-4b83-a68a-4cc6a32ccb1f",
   "metadata": {},
   "outputs": [],
   "source": [
    "# Ny = length(y)"
   ]
  },
  {
   "cell_type": "markdown",
   "id": "56fb7383-1900-43de-8523-986579e3764a",
   "metadata": {},
   "source": [
    "3M datapoints (one connection, 10 minutes recording)"
   ]
  },
  {
   "cell_type": "code",
   "execution_count": 9,
   "id": "4bdafaa6-e8df-4b70-aa30-3cbeab57522d",
   "metadata": {},
   "outputs": [],
   "source": [
    "# sel = 1:100_000\n",
    "\n",
    "# plot(\n",
    "#     ts[sel]*Δt/ms,\n",
    "#     y[sel]/mV,\n",
    "#     \".\";\n",
    "#     alpha = 0.01,\n",
    "#     ylim = [-50, -40],  # mV\n",
    "#     clip_on = true,\n",
    "# );"
   ]
  },
  {
   "cell_type": "markdown",
   "id": "cc194a0f-f69c-4097-a72b-fd38b5fb8f0f",
   "metadata": {},
   "source": [
    "(Not very informative)"
   ]
  },
  {
   "cell_type": "markdown",
   "id": "b340045b-7b36-4cef-884c-331f7a69614e",
   "metadata": {},
   "source": [
    "## Use as conntest"
   ]
  },
  {
   "cell_type": "code",
   "execution_count": 10,
   "id": "cc631c74-77a5-4d73-b309-480b4585bdde",
   "metadata": {},
   "outputs": [],
   "source": [
    "# inh_neurons = Nₑ+1:N"
   ]
  },
  {
   "cell_type": "code",
   "execution_count": 11,
   "id": "570171d4-cb5c-4f41-8688-b5884d1f12f8",
   "metadata": {},
   "outputs": [],
   "source": [
    "# niᵢ = Nₑ + argmax(actual_spike_rates[inh_neurons])"
   ]
  },
  {
   "cell_type": "code",
   "execution_count": 12,
   "id": "2e51f002-6734-43ec-a605-68c9148d8102",
   "metadata": {},
   "outputs": [],
   "source": [
    "# actual_spike_rates[niᵢ] / Hz"
   ]
  },
  {
   "cell_type": "code",
   "execution_count": 29,
   "id": "18b0d150-8f8e-4819-a1fa-faff75c8f41b",
   "metadata": {},
   "outputs": [],
   "source": [
    "\"\"\"\n",
    "Fit straight line to first 100 ms of\n",
    "windows cut out of output neuron's voltage signal,\n",
    "aligned to given times `z`\n",
    "(or spiketimes of input neuron w/ index `z`).\n",
    "(for simulation index iₛ)\n",
    "\"\"\"\n",
    "fitwins(z, iₛ=i) = begin\n",
    "    wins = windows(iₛ, z)\n",
    "    X, y = build_Xy(wins)\n",
    "    β̂ = vec(X \\ y)\n",
    "    ŷ = X * β̂\n",
    "    ε̂ = y .- ŷ\n",
    "    return (;\n",
    "        X, y, β̂,\n",
    "        intercept   = β̂[1] / mV,       # in mV\n",
    "        slope       = β̂[2] / mV / Δt,  # in mV/second\n",
    "        predictions = ŷ,\n",
    "        residuals   = ε̂,\n",
    "    )\n",
    "end;"
   ]
  },
  {
   "cell_type": "code",
   "execution_count": 37,
   "id": "b0daf458-b17c-4ccd-a3ff-23c620536a61",
   "metadata": {},
   "outputs": [],
   "source": [
    "# check for type inferrability\n",
    "# @code_warntype fitwins(niᵢ)\n",
    "# ok ✔"
   ]
  },
  {
   "cell_type": "code",
   "execution_count": 14,
   "id": "ba31218f-068d-4cae-b5aa-cb067f8a3a18",
   "metadata": {},
   "outputs": [],
   "source": [
    "# @time fitwins(niᵢ).slope"
   ]
  },
  {
   "cell_type": "code",
   "execution_count": 15,
   "id": "44ea5ee4-6bbb-41cd-89fe-d176b7187bcb",
   "metadata": {},
   "outputs": [],
   "source": [
    "# spiketimes(i::Int) = spiketimes(inp.inputs[i])\n",
    "\n",
    "# stₑ = spiketimes(niₑ)\n",
    "\n",
    "# @time fitwins(shuffle_ISIs(stₑ)).slope"
   ]
  },
  {
   "cell_type": "code",
   "execution_count": 16,
   "id": "04c76b90-8c36-464b-98a8-60a4bc934113",
   "metadata": {},
   "outputs": [],
   "source": [
    "using Distributions"
   ]
  },
  {
   "cell_type": "markdown",
   "id": "039d67ff-4631-4874-b665-08f678c011b2",
   "metadata": {},
   "source": [
    "### Summary"
   ]
  },
  {
   "cell_type": "code",
   "execution_count": 17,
   "id": "0c102b39-3092-485f-b153-c09c8ca4968c",
   "metadata": {},
   "outputs": [],
   "source": [
    "function htest(fit)\n",
    "    (; X, y, β̂) = fit\n",
    "    n = length(y)\n",
    "    p = 2  # Num params\n",
    "    dof = n - p\n",
    "    ε̂ = fit.residuals\n",
    "    s² = ε̂' * ε̂ / dof\n",
    "    Q = inv(X' * X)\n",
    "    σ̂β₂ = √(s² * Q[2,2])\n",
    "    t = β̂[2] / σ̂β₂\n",
    "    𝒩 = Normal(0, 1)\n",
    "    pval = cdf(𝒩, -abs(t)) + ccdf(𝒩, abs(t))\n",
    "    noise_mV = √s² / mV\n",
    "    return (; t, pval, noise_mV)\n",
    "end;"
   ]
  },
  {
   "cell_type": "code",
   "execution_count": 18,
   "id": "c6c56eb7-3ce8-4563-87f8-b297f2c67234",
   "metadata": {},
   "outputs": [],
   "source": [
    "# htest(fitt)"
   ]
  },
  {
   "cell_type": "code",
   "execution_count": 19,
   "id": "3e8f43b8-f56c-4842-8817-8375560d617a",
   "metadata": {},
   "outputs": [],
   "source": [
    "# @time htest(fitt);"
   ]
  },
  {
   "cell_type": "markdown",
   "id": "760c7fcd-be8c-42d5-8450-f59078b3ebee",
   "metadata": {},
   "source": [
    "That's fast :)"
   ]
  },
  {
   "cell_type": "code",
   "execution_count": 20,
   "id": "c6e6faf0-d765-47fc-86e1-4a43be4c4952",
   "metadata": {},
   "outputs": [],
   "source": [
    "function conntest(z; α = 0.05)\n",
    "    fit = fitwins(z)\n",
    "    test = htest(fit)\n",
    "    if test.pval < α\n",
    "        predtype = (fit.slope > 0 ? :exc : :inh)\n",
    "    else\n",
    "        predtype = :unconn\n",
    "    end\n",
    "    return (;\n",
    "        fit.slope,\n",
    "        test.pval,\n",
    "        predtype,\n",
    "    )\n",
    "end;"
   ]
  },
  {
   "cell_type": "code",
   "execution_count": 22,
   "id": "6d6e5dd8-6e89-4195-bc76-81af41e78a55",
   "metadata": {},
   "outputs": [],
   "source": [
    "# conntest(niₑ)"
   ]
  },
  {
   "cell_type": "code",
   "execution_count": 23,
   "id": "b0c848c6-bb3c-4dcf-8429-eb2279889fe0",
   "metadata": {},
   "outputs": [],
   "source": [
    "# conntest(niᵢ)"
   ]
  },
  {
   "cell_type": "markdown",
   "id": "b60236fd-34f8-42cc-bd5c-bc9b52d56056",
   "metadata": {},
   "source": [
    "Let's try on shuffled spiketrains"
   ]
  },
  {
   "cell_type": "code",
   "execution_count": 80,
   "id": "86852d0f-2afd-4cde-ba48-fd5fd376d193",
   "metadata": {},
   "outputs": [],
   "source": [
    "# shuffled(ni) = shuffle_ISIs(spiketimes(ni));"
   ]
  },
  {
   "cell_type": "code",
   "execution_count": 24,
   "id": "ad0405fe-4f57-4c1a-8441-e98f63aca3fb",
   "metadata": {},
   "outputs": [],
   "source": [
    "# conntest(shuffled(niₑ))"
   ]
  },
  {
   "cell_type": "markdown",
   "id": "415175a6-b65b-453d-898b-5c6d2056559a",
   "metadata": {},
   "source": [
    "## Eval"
   ]
  },
  {
   "cell_type": "code",
   "execution_count": 25,
   "id": "06a0bf3b-3823-4b91-8c07-d02528d9df11",
   "metadata": {},
   "outputs": [],
   "source": [
    "# DataFrame(conntest(shuffled(niₑ)) for _ in 1:10)"
   ]
  },
  {
   "cell_type": "markdown",
   "id": "6bd1ad21-e5d9-4acb-b8e5-2e7732adddd9",
   "metadata": {},
   "source": [
    "Ok this is similar as in prev instantiation of this notebook / prev sim.\n",
    "\n",
    "(The three unconns above were thus lucky)."
   ]
  },
  {
   "cell_type": "markdown",
   "id": "47a8d242-aef2-4a04-a8ac-3aaa367150ff",
   "metadata": {},
   "source": [
    "### Proper eval"
   ]
  },
  {
   "cell_type": "markdown",
   "id": "eb8e843a-4fa4-4ce2-bc11-cc143c2a8be0",
   "metadata": {},
   "source": [
    "I didn't sim a 100 unconnected spikers, as before.\\\n",
    "So we can't use that for an FPR estimate.\\\n",
    "But we can shuffle some real spiketrains to get sth similar.\\\n",
    "Let's draw from all, so there's a mix of spikerates."
   ]
  },
  {
   "cell_type": "code",
   "execution_count": 26,
   "id": "4183112a-e18d-4e06-9814-563af82b576b",
   "metadata": {},
   "outputs": [],
   "source": [
    "# ids = sample(1:N, 100, replace=true)\n",
    "# unconnected_trains = shuffle_ISIs.(spiketimes.(ids));"
   ]
  },
  {
   "cell_type": "markdown",
   "id": "423706dc-86a7-4535-974d-8ed1cdfca7ad",
   "metadata": {},
   "source": [
    "Our `perftable` expects a dataframe with :predtype and :conntype columns"
   ]
  },
  {
   "cell_type": "code",
   "execution_count": 103,
   "id": "500879bc-d4c0-4fd8-a90e-b37efdcec578",
   "metadata": {},
   "outputs": [
    {
     "data": {
      "text/plain": [
       "5201:6500"
      ]
     },
     "execution_count": 103,
     "metadata": {},
     "output_type": "execute_result"
    }
   ],
   "source": [
    "# inh_neurons"
   ]
  },
  {
   "cell_type": "code",
   "execution_count": 105,
   "id": "fc533f22-4a3a-4d96-b6f8-ff392d72031d",
   "metadata": {},
   "outputs": [],
   "source": [
    "# real_spiketrains = spiketimes.(1:N);"
   ]
  },
  {
   "cell_type": "code",
   "execution_count": 106,
   "id": "d0d28fdf-ed46-4e3e-a6f5-86f3d90992d1",
   "metadata": {},
   "outputs": [],
   "source": [
    "# all_spiketrains = [real_spiketrains; unconnected_trains];"
   ]
  },
  {
   "cell_type": "code",
   "execution_count": 27,
   "id": "0b5ef58e-a87f-4d61-b4bc-5b652e63a764",
   "metadata": {},
   "outputs": [],
   "source": [
    "conntype(i) = \n",
    "    if i < Nₑ\n",
    "        conntype = :exc\n",
    "    elseif i ≤ N\n",
    "        conntype = :inh\n",
    "    else\n",
    "        conntype = :unconn\n",
    "    end\n",
    "\n",
    "makerow(i; α=0.001) = begin\n",
    "    spikes = all_spiketrains[i]\n",
    "    test = conntest(spikes; α)\n",
    "    (; conntype = conntype(i), test...)\n",
    "end;"
   ]
  },
  {
   "cell_type": "code",
   "execution_count": 126,
   "id": "0086442f-6877-487e-ae8e-561cd44f6e0b",
   "metadata": {},
   "outputs": [
    {
     "name": "stdout",
     "output_type": "stream",
     "text": [
      "  0.075884 seconds (312.28 k allocations: 68.547 MiB)\n"
     ]
    },
    {
     "data": {
      "text/plain": [
       "(conntype = :exc, slope = 17.9, pval = 0.000771, predtype = :exc)"
      ]
     },
     "execution_count": 126,
     "metadata": {},
     "output_type": "execute_result"
    }
   ],
   "source": [
    "# @time makerow(1)"
   ]
  },
  {
   "cell_type": "code",
   "execution_count": 121,
   "id": "75bd569f-bbba-42f2-9c2c-235e60d169b9",
   "metadata": {},
   "outputs": [
    {
     "name": "stdout",
     "output_type": "stream",
     "text": [
      "  0.077716 seconds (236.50 k allocations: 51.938 MiB)\n"
     ]
    },
    {
     "data": {
      "text/plain": [
       "(conntype = :unconn, slope = 11.6, pval = 0.0702, predtype = :unconn)"
      ]
     },
     "execution_count": 121,
     "metadata": {},
     "output_type": "execute_result"
    }
   ],
   "source": [
    "# @time makerow(6600)"
   ]
  },
  {
   "cell_type": "code",
   "execution_count": null,
   "id": "ebac58ba-03de-4737-8c85-0a202a33d6dd",
   "metadata": {},
   "outputs": [],
   "source": [
    "conntest_all() = @showprogress map(makerow, eachindex(all_spiketrains));\n",
    "\n",
    "# rows = cached(conntest_all, [], key=\"2023-01-19__Fit-a-line\");"
   ]
  },
  {
   "cell_type": "code",
   "execution_count": 128,
   "id": "3712c4e7-1c2b-4d01-9f3e-315b8b8f8300",
   "metadata": {},
   "outputs": [
    {
     "data": {
      "text/html": [
       "<div><div style = \"float: left;\"><span>6600×4 DataFrame</span></div><div style = \"float: right;\"><span style = \"font-style: italic;\">6575 rows omitted</span></div><div style = \"clear: both;\"></div></div><div class = \"data-frame\" style = \"overflow-x: scroll;\"><table class = \"data-frame\" style = \"margin-bottom: 6px;\"><thead><tr class = \"header\"><th class = \"rowNumber\" style = \"font-weight: bold; text-align: right;\">Row</th><th style = \"text-align: left;\">conntype</th><th style = \"text-align: left;\">slope</th><th style = \"text-align: left;\">pval</th><th style = \"text-align: left;\">predtype</th></tr><tr class = \"subheader headerLastRow\"><th class = \"rowNumber\" style = \"font-weight: bold; text-align: right;\"></th><th title = \"Symbol\" style = \"text-align: left;\">Symbol</th><th title = \"Float64\" style = \"text-align: left;\">Float64</th><th title = \"Float64\" style = \"text-align: left;\">Float64</th><th title = \"Symbol\" style = \"text-align: left;\">Symbol</th></tr></thead><tbody><tr><td class = \"rowNumber\" style = \"font-weight: bold; text-align: right;\">1</td><td style = \"text-align: left;\">exc</td><td style = \"text-align: right;\">17.9</td><td style = \"text-align: right;\">0.000771</td><td style = \"text-align: left;\">exc</td></tr><tr><td class = \"rowNumber\" style = \"font-weight: bold; text-align: right;\">2</td><td style = \"text-align: left;\">exc</td><td style = \"text-align: right;\">32.2</td><td style = \"text-align: right;\">1.31E-08</td><td style = \"text-align: left;\">exc</td></tr><tr><td class = \"rowNumber\" style = \"font-weight: bold; text-align: right;\">3</td><td style = \"text-align: left;\">exc</td><td style = \"text-align: right;\">-18.1</td><td style = \"text-align: right;\">0.000375</td><td style = \"text-align: left;\">inh</td></tr><tr><td class = \"rowNumber\" style = \"font-weight: bold; text-align: right;\">4</td><td style = \"text-align: left;\">exc</td><td style = \"text-align: right;\">45.4</td><td style = \"text-align: right;\">5.06E-08</td><td style = \"text-align: left;\">exc</td></tr><tr><td class = \"rowNumber\" style = \"font-weight: bold; text-align: right;\">5</td><td style = \"text-align: left;\">exc</td><td style = \"text-align: right;\">-46.1</td><td style = \"text-align: right;\">4.47E-07</td><td style = \"text-align: left;\">inh</td></tr><tr><td class = \"rowNumber\" style = \"font-weight: bold; text-align: right;\">6</td><td style = \"text-align: left;\">exc</td><td style = \"text-align: right;\">-8.75</td><td style = \"text-align: right;\">0.0415</td><td style = \"text-align: left;\">unconn</td></tr><tr><td class = \"rowNumber\" style = \"font-weight: bold; text-align: right;\">7</td><td style = \"text-align: left;\">exc</td><td style = \"text-align: right;\">-28.8</td><td style = \"text-align: right;\">0.000224</td><td style = \"text-align: left;\">inh</td></tr><tr><td class = \"rowNumber\" style = \"font-weight: bold; text-align: right;\">8</td><td style = \"text-align: left;\">exc</td><td style = \"text-align: right;\">6.1</td><td style = \"text-align: right;\">0.279</td><td style = \"text-align: left;\">unconn</td></tr><tr><td class = \"rowNumber\" style = \"font-weight: bold; text-align: right;\">9</td><td style = \"text-align: left;\">exc</td><td style = \"text-align: right;\">10.1</td><td style = \"text-align: right;\">0.167</td><td style = \"text-align: left;\">unconn</td></tr><tr><td class = \"rowNumber\" style = \"font-weight: bold; text-align: right;\">10</td><td style = \"text-align: left;\">exc</td><td style = \"text-align: right;\">-25.8</td><td style = \"text-align: right;\">5.28E-06</td><td style = \"text-align: left;\">inh</td></tr><tr><td class = \"rowNumber\" style = \"font-weight: bold; text-align: right;\">11</td><td style = \"text-align: left;\">exc</td><td style = \"text-align: right;\">-11.8</td><td style = \"text-align: right;\">0.156</td><td style = \"text-align: left;\">unconn</td></tr><tr><td class = \"rowNumber\" style = \"font-weight: bold; text-align: right;\">12</td><td style = \"text-align: left;\">exc</td><td style = \"text-align: right;\">-19.1</td><td style = \"text-align: right;\">2.65E-09</td><td style = \"text-align: left;\">inh</td></tr><tr><td class = \"rowNumber\" style = \"font-weight: bold; text-align: right;\">13</td><td style = \"text-align: left;\">exc</td><td style = \"text-align: right;\">-10.7</td><td style = \"text-align: right;\">0.0209</td><td style = \"text-align: left;\">unconn</td></tr><tr><td style = \"text-align: right;\">&vellip;</td><td style = \"text-align: right;\">&vellip;</td><td style = \"text-align: right;\">&vellip;</td><td style = \"text-align: right;\">&vellip;</td><td style = \"text-align: right;\">&vellip;</td></tr><tr><td class = \"rowNumber\" style = \"font-weight: bold; text-align: right;\">6589</td><td style = \"text-align: left;\">unconn</td><td style = \"text-align: right;\">8.59</td><td style = \"text-align: right;\">0.144</td><td style = \"text-align: left;\">unconn</td></tr><tr><td class = \"rowNumber\" style = \"font-weight: bold; text-align: right;\">6590</td><td style = \"text-align: left;\">unconn</td><td style = \"text-align: right;\">-2.19</td><td style = \"text-align: right;\">0.727</td><td style = \"text-align: left;\">unconn</td></tr><tr><td class = \"rowNumber\" style = \"font-weight: bold; text-align: right;\">6591</td><td style = \"text-align: left;\">unconn</td><td style = \"text-align: right;\">-15</td><td style = \"text-align: right;\">0.0281</td><td style = \"text-align: left;\">unconn</td></tr><tr><td class = \"rowNumber\" style = \"font-weight: bold; text-align: right;\">6592</td><td style = \"text-align: left;\">unconn</td><td style = \"text-align: right;\">23.8</td><td style = \"text-align: right;\">1.56E-10</td><td style = \"text-align: left;\">exc</td></tr><tr><td class = \"rowNumber\" style = \"font-weight: bold; text-align: right;\">6593</td><td style = \"text-align: left;\">unconn</td><td style = \"text-align: right;\">24.4</td><td style = \"text-align: right;\">0.00157</td><td style = \"text-align: left;\">unconn</td></tr><tr><td class = \"rowNumber\" style = \"font-weight: bold; text-align: right;\">6594</td><td style = \"text-align: left;\">unconn</td><td style = \"text-align: right;\">9.96</td><td style = \"text-align: right;\">0.309</td><td style = \"text-align: left;\">unconn</td></tr><tr><td class = \"rowNumber\" style = \"font-weight: bold; text-align: right;\">6595</td><td style = \"text-align: left;\">unconn</td><td style = \"text-align: right;\">-4.63</td><td style = \"text-align: right;\">0.101</td><td style = \"text-align: left;\">unconn</td></tr><tr><td class = \"rowNumber\" style = \"font-weight: bold; text-align: right;\">6596</td><td style = \"text-align: left;\">unconn</td><td style = \"text-align: right;\">131</td><td style = \"text-align: right;\">1.65E-29</td><td style = \"text-align: left;\">exc</td></tr><tr><td class = \"rowNumber\" style = \"font-weight: bold; text-align: right;\">6597</td><td style = \"text-align: left;\">unconn</td><td style = \"text-align: right;\">-16.5</td><td style = \"text-align: right;\">1.81E-07</td><td style = \"text-align: left;\">inh</td></tr><tr><td class = \"rowNumber\" style = \"font-weight: bold; text-align: right;\">6598</td><td style = \"text-align: left;\">unconn</td><td style = \"text-align: right;\">-27.9</td><td style = \"text-align: right;\">1.36E-06</td><td style = \"text-align: left;\">inh</td></tr><tr><td class = \"rowNumber\" style = \"font-weight: bold; text-align: right;\">6599</td><td style = \"text-align: left;\">unconn</td><td style = \"text-align: right;\">0.594</td><td style = \"text-align: right;\">0.932</td><td style = \"text-align: left;\">unconn</td></tr><tr><td class = \"rowNumber\" style = \"font-weight: bold; text-align: right;\">6600</td><td style = \"text-align: left;\">unconn</td><td style = \"text-align: right;\">11.6</td><td style = \"text-align: right;\">0.0702</td><td style = \"text-align: left;\">unconn</td></tr></tbody></table></div>"
      ],
      "text/latex": [
       "\\begin{tabular}{r|cccc}\n",
       "\t& conntype & slope & pval & predtype\\\\\n",
       "\t\\hline\n",
       "\t& Symbol & Float64 & Float64 & Symbol\\\\\n",
       "\t\\hline\n",
       "\t1 & exc & 17.9 & 0.000771 & exc \\\\\n",
       "\t2 & exc & 32.2 & 1.31E-08 & exc \\\\\n",
       "\t3 & exc & -18.1 & 0.000375 & inh \\\\\n",
       "\t4 & exc & 45.4 & 5.06E-08 & exc \\\\\n",
       "\t5 & exc & -46.1 & 4.47E-07 & inh \\\\\n",
       "\t6 & exc & -8.75 & 0.0415 & unconn \\\\\n",
       "\t7 & exc & -28.8 & 0.000224 & inh \\\\\n",
       "\t8 & exc & 6.1 & 0.279 & unconn \\\\\n",
       "\t9 & exc & 10.1 & 0.167 & unconn \\\\\n",
       "\t10 & exc & -25.8 & 5.28E-06 & inh \\\\\n",
       "\t11 & exc & -11.8 & 0.156 & unconn \\\\\n",
       "\t12 & exc & -19.1 & 2.65E-09 & inh \\\\\n",
       "\t13 & exc & -10.7 & 0.0209 & unconn \\\\\n",
       "\t14 & exc & 13 & 0.0321 & unconn \\\\\n",
       "\t15 & exc & 10.2 & 0.286 & unconn \\\\\n",
       "\t16 & exc & 21.6 & 5.43E-05 & exc \\\\\n",
       "\t17 & exc & 22.2 & 3.82E-11 & exc \\\\\n",
       "\t18 & exc & 0.931 & 0.855 & unconn \\\\\n",
       "\t19 & exc & 11.2 & 0.0364 & unconn \\\\\n",
       "\t20 & exc & -14.4 & 0.0878 & unconn \\\\\n",
       "\t$\\dots$ & $\\dots$ & $\\dots$ & $\\dots$ & $\\dots$ \\\\\n",
       "\\end{tabular}\n"
      ],
      "text/plain": [
       "\u001b[1m6600×4 DataFrame\u001b[0m\n",
       "\u001b[1m  Row \u001b[0m│\u001b[1m conntype \u001b[0m\u001b[1m slope   \u001b[0m\u001b[1m pval     \u001b[0m\u001b[1m predtype \u001b[0m\n",
       "      │\u001b[90m Symbol   \u001b[0m\u001b[90m Float64 \u001b[0m\u001b[90m Float64  \u001b[0m\u001b[90m Symbol   \u001b[0m\n",
       "──────┼───────────────────────────────────────\n",
       "    1 │ exc        17.9    0.000771  exc\n",
       "    2 │ exc        32.2    1.31E-08  exc\n",
       "    3 │ exc       -18.1    0.000375  inh\n",
       "    4 │ exc        45.4    5.06E-08  exc\n",
       "    5 │ exc       -46.1    4.47E-07  inh\n",
       "    6 │ exc        -8.75   0.0415    unconn\n",
       "  ⋮   │    ⋮         ⋮        ⋮         ⋮\n",
       " 6596 │ unconn    131      1.65E-29  exc\n",
       " 6597 │ unconn    -16.5    1.81E-07  inh\n",
       " 6598 │ unconn    -27.9    1.36E-06  inh\n",
       " 6599 │ unconn      0.594  0.932     unconn\n",
       " 6600 │ unconn     11.6    0.0702    unconn\n",
       "\u001b[36m                             6589 rows omitted\u001b[0m"
      ]
     },
     "metadata": {},
     "output_type": "display_data"
    }
   ],
   "source": [
    "# df = DataFrame(rows)\n",
    "# df |> disp(20)"
   ]
  },
  {
   "cell_type": "code",
   "execution_count": 129,
   "id": "0562d281-dc07-4fa9-b542-4f27546d7a40",
   "metadata": {},
   "outputs": [
    {
     "data": {
      "text/html": [
       "<table><tr><th align=\"right\">Tested connections: 6600</th><th align=\"right\">&nbsp; &nbsp; &nbsp; &nbsp; &nbsp; &nbsp;</th><th align=\"right\">&nbsp; &nbsp; &nbsp; &nbsp; &nbsp; &nbsp; &nbsp; &nbsp;</th><th align=\"right\">&nbsp; &nbsp; &nbsp; &nbsp; &nbsp; &nbsp; &nbsp; &nbsp; &nbsp;</th><th align=\"right\">&nbsp; &nbsp; &nbsp; &nbsp; &nbsp; &nbsp; &nbsp; &nbsp;</th><th align=\"right\">&nbsp; &nbsp; &nbsp;</th><th align=\"right\">&nbsp; &nbsp; &nbsp; &nbsp; &nbsp; &nbsp; &nbsp; &nbsp; &nbsp;</th></tr><tr><td align=\"right\"></td><td align=\"right\"></td><td align=\"right\"><strong>┌───────</strong></td><td align=\"right\"><strong>Real type</strong></td><td align=\"right\"><strong>───────┐</strong></td><td align=\"right\"></td><td align=\"right\"><strong>Precision</strong></td></tr><tr><td align=\"right\"></td><td align=\"right\"></td><td align=\"right\"><code>unconn</code></td><td align=\"right\"><code>exc</code></td><td align=\"right\"><code>inh</code></td><td align=\"right\"></td><td align=\"right\"></td></tr><tr><td align=\"right\"><strong>┌</strong></td><td align=\"right\"><code>unconn</code></td><td align=\"right\">66</td><td align=\"right\">3177</td><td align=\"right\">706</td><td align=\"right\"></td><td align=\"right\">2&#37;</td></tr><tr><td align=\"right\"><strong>Predicted type</strong></td><td align=\"right\"><code>exc</code></td><td align=\"right\">20</td><td align=\"right\">1259</td><td align=\"right\">120</td><td align=\"right\"></td><td align=\"right\">90&#37;</td></tr><tr><td align=\"right\"><strong>└</strong></td><td align=\"right\"><code>inh</code></td><td align=\"right\">14</td><td align=\"right\">763</td><td align=\"right\">475</td><td align=\"right\"></td><td align=\"right\">38&#37;</td></tr><tr><td align=\"right\"></td><td align=\"right\"></td><td align=\"right\"></td><td align=\"right\"></td><td align=\"right\"></td><td align=\"right\"></td><td align=\"right\"></td></tr><tr><td align=\"right\"><strong>Sensitivity</strong></td><td align=\"right\"></td><td align=\"right\">66&#37;</td><td align=\"right\">24&#37;</td><td align=\"right\">37&#37;</td><td align=\"right\"></td><td align=\"right\"></td></tr></table>\n"
      ],
      "text/markdown": [
       "|Tested connections: 6600|&nbsp; &nbsp; &nbsp; &nbsp; &nbsp; &nbsp; |&nbsp; &nbsp; &nbsp; &nbsp; &nbsp; &nbsp; &nbsp; &nbsp; |&nbsp; &nbsp; &nbsp; &nbsp; &nbsp; &nbsp; &nbsp; &nbsp; &nbsp; |&nbsp; &nbsp; &nbsp; &nbsp; &nbsp; &nbsp; &nbsp; &nbsp; |&nbsp; &nbsp; &nbsp; |&nbsp; &nbsp; &nbsp; &nbsp; &nbsp; &nbsp; &nbsp; &nbsp; &nbsp; |\n",
       "|------------------|--------|------------|-------------|------------|-------|-------------|\n",
       "|                  |        |**┌───────**|**Real type**|**───────┐**|       |**Precision**|\n",
       "|                  |        |    `unconn`|        `exc`|       `inh`|       |             |\n",
       "|             **┌**|`unconn`|          66|         3177|         706|       |           2%|\n",
       "|**Predicted type**|   `exc`|          20|         1259|         120|       |          90%|\n",
       "|             **└**|   `inh`|          14|          763|         475|       |          38%|\n",
       "|                  |        |            |             |            |       |             |\n",
       "|   **Sensitivity**|        |         66%|          24%|         37%|       |             |\n"
      ],
      "text/plain": [
       "\u001b[0m\u001b[1mTested connections: 6600\u001b[22m\n",
       "\n",
       "\u001b[0m\u001b[1m               \u001b[22m\u001b[0m\u001b[1m       \u001b[22m\u001b[0m\u001b[1m ┌───────\u001b[22m\u001b[0m\u001b[1m Real type\u001b[22m\u001b[0m\u001b[1m ───────┐\u001b[22m\u001b[0m\u001b[1m   \u001b[22m\u001b[0m\u001b[1m Precision\u001b[22m\n",
       "\u001b[0m\u001b[1m               \u001b[22m\u001b[0m       \u001b[0m   unconn\u001b[0m       exc\u001b[0m      inh\u001b[0m   \u001b[0m          \n",
       "\u001b[0m\u001b[1m              ┌\u001b[22m\u001b[0m unconn\u001b[0m       66\u001b[0m      3177\u001b[0m      706\u001b[0m   \u001b[0m        2%\n",
       "\u001b[0m\u001b[1m Predicted type\u001b[22m\u001b[0m    exc\u001b[0m       20\u001b[0m      1259\u001b[0m      120\u001b[0m   \u001b[0m       90%\n",
       "\u001b[0m\u001b[1m              └\u001b[22m\u001b[0m    inh\u001b[0m       14\u001b[0m       763\u001b[0m      475\u001b[0m   \u001b[0m       38%\n",
       "\u001b[0m\u001b[1m               \u001b[22m\u001b[0m       \u001b[0m         \u001b[0m          \u001b[0m         \u001b[0m   \u001b[0m          \n",
       "\u001b[0m\u001b[1m    Sensitivity\u001b[22m\u001b[0m       \u001b[0m      66%\u001b[0m       24%\u001b[0m      37%\u001b[0m   \u001b[0m          \n"
      ]
     },
     "execution_count": 129,
     "metadata": {},
     "output_type": "execute_result"
    }
   ],
   "source": [
    "# perftable(df)"
   ]
  },
  {
   "cell_type": "markdown",
   "id": "254508e0-e4e3-405f-ac6d-507876e64aad",
   "metadata": {},
   "source": [
    "(Code should be written / dug up to sweep threshold i.e. get AUC scores etc, but):\n",
    "\n",
    "At this arbitrary 'α' = 0.001:\\\n",
    "FPR: 34%\\\n",
    "TPRₑ: 24%\\\n",
    "TPRᵢ: 37%"
   ]
  }
 ],
 "metadata": {
  "jupytext": {
   "encoding": "# -*- coding: utf-8 -*-",
   "formats": "ipynb,jl:light"
  },
  "kernelspec": {
   "display_name": "Julia 1.9.0-beta3",
   "language": "julia",
   "name": "julia-1.9"
  },
  "language_info": {
   "file_extension": ".jl",
   "mimetype": "application/julia",
   "name": "julia",
   "version": "1.9.0"
  },
  "toc": {
   "base_numbering": 1,
   "nav_menu": {},
   "number_sections": false,
   "sideBar": false,
   "skip_h1_title": true,
   "title_cell": "Table of Contents",
   "title_sidebar": "Contents",
   "toc_cell": false,
   "toc_position": {
    "height": "47.7px",
    "left": "951px",
    "top": "0px",
    "width": "67px"
   },
   "toc_section_display": true,
   "toc_window_display": false
  },
  "toc-autonumbering": false,
  "toc-showcode": false,
  "toc-showmarkdowntxt": false,
  "toc-showtags": false
 },
 "nbformat": 4,
 "nbformat_minor": 5
}
