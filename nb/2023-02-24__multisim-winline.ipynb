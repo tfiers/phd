{
 "cells": [
  {
   "cell_type": "markdown",
   "id": "435632c2",
   "metadata": {},
   "source": [
    "# 2023-02-24 • Multi-sim Window pool regression"
   ]
  },
  {
   "cell_type": "code",
   "execution_count": null,
   "id": "cf43aad4",
   "metadata": {},
   "outputs": [],
   "source": [
    "cd(joinpath(homedir(), \"phd\", \"pkg\" , \"SpikeWorks\"))\n",
    "run(`git switch metdeklak`)\n",
    "# ↪ Doing here and not in include, as multiprocs on same git repo crashes"
   ]
  },
  {
   "cell_type": "code",
   "execution_count": null,
   "id": "391dbf76",
   "metadata": {},
   "outputs": [],
   "source": [
    "cd(joinpath(homedir(), \"phd\"))\n",
    "Pkg.activate(\".\")\n",
    "# To paste in terminal, if you wanna run this whole file at once:\n",
    "# > include(\"nb/2023-02-24__multisim-winline.jl\")"
   ]
  },
  {
   "cell_type": "code",
   "execution_count": null,
   "id": "c8b6b920",
   "metadata": {},
   "outputs": [],
   "source": [
    "using WithFeedback\n",
    "@withfb using SpikeWorks.Units"
   ]
  },
  {
   "cell_type": "code",
   "execution_count": null,
   "id": "b87918a1",
   "metadata": {},
   "outputs": [],
   "source": [
    "# Num inputs list\n",
    "Ns_and_δs = [\n",
    "    (N=5,    δ_nS=5.00),   # => N_inh = 1\n",
    "    (N=20,   δ_nS=2.30),\n",
    "    (N=100,  δ_nS=0.75),\n",
    "    (N=400,  δ_nS=0.25),\n",
    "    (N=1600, δ_nS=0.08),\n",
    "    (N=6500, δ_nS=0.02),\n",
    "]\n",
    "# (from `2023-01-19__[input]`).\n",
    "# Formula for δ: 60 nS / (N * f)\n",
    "# with f the 'scaling's in the above notebook\n",
    "# (from 2.4 for N=5 to 0.5 for the biggest two N)."
   ]
  },
  {
   "cell_type": "code",
   "execution_count": null,
   "id": "735824c5",
   "metadata": {},
   "outputs": [],
   "source": [
    "seeds = 1:5\n",
    "# seeds = 1:3"
   ]
  },
  {
   "cell_type": "code",
   "execution_count": null,
   "id": "7138e113",
   "metadata": {},
   "outputs": [],
   "source": [
    "duration = 10minutes\n",
    "# duration = 30seconds"
   ]
  },
  {
   "cell_type": "code",
   "execution_count": null,
   "id": "f0990388",
   "metadata": {},
   "outputs": [],
   "source": [
    "simkeys = [\n",
    "    (; N, δ_nS, seed, duration)\n",
    "    for (N, δ_nS) in Ns_and_δs,\n",
    "        seed in seeds\n",
    "]"
   ]
  },
  {
   "cell_type": "code",
   "execution_count": null,
   "id": "2bca58b1",
   "metadata": {},
   "outputs": [],
   "source": [
    "using DistributedLoopMonitor"
   ]
  },
  {
   "cell_type": "code",
   "execution_count": null,
   "id": "c406ebf3",
   "metadata": {},
   "outputs": [],
   "source": [
    "kill_stray_worker_procs()"
   ]
  },
  {
   "cell_type": "markdown",
   "id": "c2313886",
   "metadata": {},
   "source": [
    "@start_workers 6"
   ]
  },
  {
   "cell_type": "code",
   "execution_count": null,
   "id": "90f2d49e",
   "metadata": {},
   "outputs": [],
   "source": [
    "warmup = false\n",
    "@everywhere include(\"2023-03-14__[setup]_Nto1_sim_AdEx.jl\")\n",
    "    # Path is always relative  to current file"
   ]
  },
  {
   "cell_type": "code",
   "execution_count": null,
   "id": "0b58d967",
   "metadata": {},
   "outputs": [],
   "source": [
    "@everywhere conntest_method_names = [\n",
    "    :fit_upstroke,\n",
    "    :STA_height,\n",
    "    :STA_corr_2pass,\n",
    "]"
   ]
  },
  {
   "cell_type": "code",
   "execution_count": null,
   "id": "0d1b269c",
   "metadata": {},
   "outputs": [],
   "source": [
    "@everywhere Nᵤ = 100  # Number of unconnected input spikers"
   ]
  },
  {
   "cell_type": "code",
   "execution_count": null,
   "id": "1ed6c71c",
   "metadata": {},
   "outputs": [],
   "source": [
    "for simkw in simkeys\n",
    "# distributed_foreach(simkeys) do simkw\n",
    "    t₀ = time()\n",
    "    for method in conntest_method_names\n",
    "        # (method != :fit_upstroke) && (simkw.seed != 5) && continue\n",
    "        conntest_tables(; simkw..., method, Nᵤ)\n",
    "    end\n",
    "    # Do some manual 'garbage collection', to hopefully avoid OOM crashes\n",
    "    rm_from_memcache!(sims; simkw...)\n",
    "    rm_from_memcache!(STA_sets; simkw..., Nᵤ)\n",
    "    if time() - t₀ > 10\n",
    "        @withfb GC.gc()\n",
    "    end\n",
    "end"
   ]
  },
  {
   "cell_type": "code",
   "execution_count": null,
   "id": "36e7b73f",
   "metadata": {},
   "outputs": [],
   "source": [
    "using ConnTestEval"
   ]
  },
  {
   "cell_type": "code",
   "execution_count": null,
   "id": "80115f9b",
   "metadata": {},
   "outputs": [],
   "source": [
    "sweeps = Dict()\n",
    "rows = []\n",
    "for (key, table) in conntest_tables.memcache\n",
    "    sweeps[key] = sweep = sweep_threshold(table)\n",
    "    table_at_5pct_FPR = at_FPR(sweep, 0.05)\n",
    "    detrates_at_5pct_FPR = ConnTestEval.detection_rates(table_at_5pct_FPR)\n",
    "    push!(rows, (;\n",
    "        key...,\n",
    "        detrates_at_5pct_FPR...,\n",
    "        calc_AUROCs(sweep)...,\n",
    "    ))\n",
    "end\n",
    "df = DataFrame(rows)\n",
    "sort!(df, [:N, :seed])"
   ]
  },
  {
   "cell_type": "code",
   "execution_count": null,
   "id": "9227d176",
   "metadata": {},
   "outputs": [],
   "source": [
    "mkpath(\"data\")\n",
    "@withfb using CSV\n",
    "@withfb CSV.write(\"data/Nto1_AdEx.csv\", df)"
   ]
  }
 ],
 "metadata": {
  "jupytext": {
   "encoding": "# -*- coding: utf-8 -*-",
   "formats": "ipynb,jl:light"
  },
  "kernelspec": {
   "display_name": "Julia 1.9.0-beta3",
   "language": "julia",
   "name": "julia-1.9"
  },
  "language_info": {
   "file_extension": ".jl",
   "mimetype": "application/julia",
   "name": "julia",
   "version": "1.9.0"
  },
  "toc": {
   "base_numbering": 1,
   "nav_menu": {},
   "number_sections": false,
   "sideBar": false,
   "skip_h1_title": true,
   "title_cell": "Table of Contents",
   "title_sidebar": "Contents",
   "toc_cell": false,
   "toc_position": {},
   "toc_section_display": true,
   "toc_window_display": false
  }
 },
 "nbformat": 4,
 "nbformat_minor": 5
}
