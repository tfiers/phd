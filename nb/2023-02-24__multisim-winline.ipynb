{
 "cells": [
  {
   "cell_type": "markdown",
   "id": "70d04638",
   "metadata": {},
   "source": [
    "# 2023-02-07 • Multi-sim Window regression"
   ]
  },
  {
   "cell_type": "code",
   "execution_count": null,
   "id": "399470e6",
   "metadata": {},
   "outputs": [],
   "source": [
    "cd(\"/root/phd/pkg/SpikeWorks\")\n",
    "run(`git switch metdeklak`);"
   ]
  },
  {
   "cell_type": "markdown",
   "id": "952fcdc2",
   "metadata": {},
   "source": [
    "## Imports"
   ]
  },
  {
   "cell_type": "code",
   "execution_count": null,
   "id": "245ccf96",
   "metadata": {
    "tags": []
   },
   "outputs": [],
   "source": [
    "#"
   ]
  },
  {
   "cell_type": "code",
   "execution_count": null,
   "id": "fa8180f7",
   "metadata": {},
   "outputs": [],
   "source": [
    "@showtime using Revise"
   ]
  },
  {
   "cell_type": "code",
   "execution_count": null,
   "id": "41c4cf6d",
   "metadata": {},
   "outputs": [],
   "source": [
    "@showtime using MyToolbox\n",
    "@showtime using SpikeWorks\n",
    "@showtime using Sciplotlib\n",
    "@showtime using VoltoMapSim"
   ]
  },
  {
   "cell_type": "markdown",
   "id": "9ac86445",
   "metadata": {},
   "source": [
    "## AdEx equations & params"
   ]
  },
  {
   "cell_type": "markdown",
   "id": "f6533f6a",
   "metadata": {},
   "source": [
    "This is a distillation of previous notebook."
   ]
  },
  {
   "cell_type": "markdown",
   "id": "53e72128",
   "metadata": {},
   "source": [
    "We base ourselves on"
   ]
  },
  {
   "cell_type": "markdown",
   "id": "1f3ad814",
   "metadata": {},
   "source": [
    "Richard Naud, Nicolas Marcille, Claudia Clopath, and Wulfram Gerstner,\\\n",
    "‘Firing patterns in the adaptive exponential integrate-and-fire model’,\\\n",
    "Biol Cybern, Nov. 2008, https://doi.org/10.1007/s00422-008-0264-7\n",
    "\n",
    "..and their cortical RS (regular spiking) neuron in table 1.\n"
   ]
  },
  {
   "cell_type": "markdown",
   "id": "d76e39db",
   "metadata": {},
   "source": [
    "### Param value comparison, for cortical RS neuron\n",
    "(Table repeted from prev notebook)\n",
    "\n",
    "| Naud 2008 AdEx | Val       | Val         | Izh / report  | What\n",
    "|---------------:|:----------|:------------|:--------------|:----\n",
    "| $C$            | 104 pF    | 100  pF     | $C$           |\n",
    "| $C/g_L$        | 24 ms     | ?           | ?             | Time constant of voltage\n",
    "|                |           | 0.14  ms·mV | $C/k$         | ?\n",
    "| -------------- | --------- | ------------| --------------|\n",
    "| $g_L$          | 4.3 nS    | 14  nS      | $k(v_t-v_r)$  | Slope of V̇(V) at rest\n",
    "| $E_L$          | -65 mV    | -60  mV     | $v_r$         | Rest (stable fixed point)\n",
    "| $V_T$          | -52 mV    | -50  mV     | $(v_t+v_r)/2$ | Minimum of V̇(V)\n",
    "|                | -49.6 mV  | -40  mV     | $v_t$         | Threshold (unstable fixed point)\n",
    "|                | 82 nS     | 14  nS      | $k(v_t-v_r)$  | Slope of V̇(V) at threshold\n",
    "| $Δ_T$          | 0.8 mV    |             |               |\n",
    "| -------------- | --------- | ------------| --------------|\n",
    "| $a$            | -0.8 nS   | -2  nS      | $b$           | Sensitivity of adapt. current\n",
    "| $τ_w$          | 88 ms     | 33 ms       | $a^{-1}$      | Time ct of adapt. current\n",
    "| $b$            | 65 pA     | 100  pA     | $d$           | Adapt. current bump after spike\n",
    "| $V_r$          | -53 mV    | -50  mV     | $c$           | Reset voltage after spike\n"
   ]
  },
  {
   "cell_type": "markdown",
   "id": "031b65e8",
   "metadata": {
    "tags": []
   },
   "source": [
    "### Start of code"
   ]
  },
  {
   "cell_type": "code",
   "execution_count": null,
   "id": "0424d0b9",
   "metadata": {
    "lines_to_next_cell": 0,
    "tags": []
   },
   "outputs": [],
   "source": [
    "@typed begin\n",
    "    # AdEx LIF neuron params (cortical RS)\n",
    "    C  = 104  * pF\n",
    "    gₗ = 4.3  * nS\n",
    "    Eₗ = -65  * mV\n",
    "    Vₜ = -52  * mV\n",
    "    Δₜ = 0.8  * mV\n",
    "    Vₛ =   0  * mV\n",
    "    Vᵣ = -53  * mV\n",
    "    a  = 0.8  * nS\n",
    "    b  =  65  * pA\n",
    "    τw =  88  * ms\n",
    "    # Conductance-based synapses\n",
    "    Eₑ =   0 * mV\n",
    "    Eᵢ = -80 * mV\n",
    "    τ  =   7 * ms\n",
    "end;"
   ]
  },
  {
   "cell_type": "markdown",
   "id": "fc6545cd",
   "metadata": {},
   "source": [
    "### Simulated variables and their initial values"
   ]
  },
  {
   "cell_type": "code",
   "execution_count": null,
   "id": "4cac0982",
   "metadata": {},
   "outputs": [],
   "source": [
    "x₀ = (\n",
    "    # AdEx variables\n",
    "    v   = Vᵣ,      # Membrane potential\n",
    "    w   = 0 * pA,  # Adaptation current\n",
    "    # Synaptic conductances g\n",
    "    gₑ  = 0 * nS,  # = Sum over all exc. synapses\n",
    "    gᵢ  = 0 * nS,  # = Sum over all inh. synapses\n",
    ");"
   ]
  },
  {
   "cell_type": "markdown",
   "id": "d6e61c9c",
   "metadata": {},
   "source": [
    "$$\n",
    "\\begin{align}\n",
    "C \\frac{dV}{dt}      &= -g_L (V - E_L) + g_L \\Delta_T \\exp \\left( \\frac{V - V_T}{\\Delta_T} \\right) + I - w\\\\\n",
    "\\tau_w \\frac{dw}{dt} &= a (V - E_L) - w\n",
    "\\end{align}\n",
    "$$\n",
    "\n",
    "if $V > 0$ mV, then\n",
    "\n",
    "$$\n",
    "\\begin{align}\n",
    "V &→ V_r\\\\\n",
    "w &→ w + b\n",
    "\\end{align}\n",
    "$$"
   ]
  },
  {
   "cell_type": "markdown",
   "id": "f65b53a8",
   "metadata": {},
   "source": [
    "### Differential equations:\n",
    "calculate time derivatives of simulated vars\n",
    "(and store them \"in-place\", in `Dₜ`)."
   ]
  },
  {
   "cell_type": "code",
   "execution_count": null,
   "id": "9aca4503",
   "metadata": {},
   "outputs": [],
   "source": [
    "function f!(Dₜ, vars)\n",
    "    v, w, gₑ, gᵢ = vars\n",
    "\n",
    "    # Conductance-based synaptic current\n",
    "    Iₛ = gₑ*(v-Eₑ) + gᵢ*(v-Eᵢ)\n",
    "\n",
    "    # AdEx 2D system\n",
    "    Dₜ.v = (-gₗ*(v-Eₗ) + gₗ*Δₜ*exp((v-Vₜ)/Δₜ) - Iₛ - w) / C\n",
    "    Dₜ.w = (a*(v-Eₗ) - w) / τw\n",
    "\n",
    "    # Synaptic conductance decay\n",
    "    Dₜ.gₑ = -gₑ / τ\n",
    "    Dₜ.gᵢ = -gᵢ / τ\n",
    "end;"
   ]
  },
  {
   "cell_type": "markdown",
   "id": "7c30501a",
   "metadata": {},
   "source": [
    "We correct the sign of `Iₛ`.\\\n",
    "From prev nb:\n",
    "> Positive charges flowing **out** of membrane: Iₘₑₘ pos.\\\n",
    "> Positive charges flowing from electrode **into** cell: Iₑₓₜ pos."
   ]
  },
  {
   "cell_type": "markdown",
   "id": "25fe4c2c",
   "metadata": {},
   "source": [
    "`v` is usually < `Eₑ`,\\\n",
    "so `(v-Eₑ)` will be negative.\\\n",
    "But it should be positive, if we want to have `+ Iₛ` in our `Dₜ.v` equation.\n",
    "\n",
    "Eh no, I'll keep as is.\\\n",
    "Consistency with Iₘₑₘ (but against convention, yes)."
   ]
  },
  {
   "cell_type": "markdown",
   "id": "a40c3be4",
   "metadata": {},
   "source": [
    "### Spike discontinuity"
   ]
  },
  {
   "cell_type": "code",
   "execution_count": null,
   "id": "8c1b6cd9",
   "metadata": {
    "tags": []
   },
   "outputs": [],
   "source": [
    "has_spiked(vars) = (vars.v > Vₛ)\n",
    "\n",
    "function on_self_spike!(vars)\n",
    "    vars.v = Vᵣ\n",
    "    vars.w += b\n",
    "end;"
   ]
  },
  {
   "cell_type": "markdown",
   "id": "4db1624f",
   "metadata": {},
   "source": [
    "### Conductance-based AdEx neuron"
   ]
  },
  {
   "cell_type": "code",
   "execution_count": null,
   "id": "d27f9dc3",
   "metadata": {},
   "outputs": [],
   "source": [
    "coba_adex_neuron = NeuronModel(x₀, f!; has_spiked, on_self_spike!);"
   ]
  },
  {
   "cell_type": "markdown",
   "id": "78edf948",
   "metadata": {},
   "source": [
    "---\n",
    "\n",
    "\n",
    "The rest (i.e. the Nto1 part, with E:I) is same"
   ]
  },
  {
   "cell_type": "markdown",
   "id": "4bfddec8",
   "metadata": {},
   "source": [
    "### More parameters, and input spikers"
   ]
  },
  {
   "cell_type": "code",
   "execution_count": null,
   "id": "73cb2a41",
   "metadata": {},
   "outputs": [],
   "source": [
    "using SpikeWorks.Units\n",
    "using SpikeWorks: LogNormal"
   ]
  },
  {
   "cell_type": "code",
   "execution_count": null,
   "id": "495375d3",
   "metadata": {},
   "outputs": [],
   "source": [
    "@typed begin\n",
    "    Δt = 0.1ms\n",
    "    sim_duration = 10minutes\n",
    "end"
   ]
  },
  {
   "cell_type": "markdown",
   "id": "d07f3684",
   "metadata": {},
   "source": [
    "Firing rates λ for the Poisson inputs"
   ]
  },
  {
   "cell_type": "code",
   "execution_count": null,
   "id": "c9ad95be",
   "metadata": {},
   "outputs": [],
   "source": [
    "fr_distr = LogNormal(median = 4Hz, g = 2)"
   ]
  },
  {
   "cell_type": "code",
   "execution_count": null,
   "id": "a4158043",
   "metadata": {},
   "outputs": [],
   "source": [
    "@enum NeuronType exc inh"
   ]
  },
  {
   "cell_type": "code",
   "execution_count": null,
   "id": "994ae87d",
   "metadata": {},
   "outputs": [],
   "source": [
    "input(;\n",
    "    N = 100,\n",
    "    EIratio = 4//1,\n",
    "    scaling = N,\n",
    ") = begin\n",
    "    firing_rates = rand(fr_distr, N)\n",
    "    input_IDs = 1:N\n",
    "    inputs = [\n",
    "        Nto1Input(ID, poisson_SpikeTrain(λ, sim_duration))\n",
    "        for (ID, λ) in zip(input_IDs, firing_rates)\n",
    "    ]\n",
    "    # Nₑ, Nᵢ = groupsizes(EIMix(N, EIratio))\n",
    "    EImix = EIMix(N, EIratio)\n",
    "    Nₑ = EImix.Nₑ\n",
    "    Nᵢ = EImix.Nᵢ\n",
    "    neuron_type(ID) = (ID ≤ Nₑ) ? exc : inh\n",
    "    Δgₑ = 60nS / scaling\n",
    "    Δgᵢ = 60nS / scaling * EIratio\n",
    "    on_spike_arrival!(vars, spike) =\n",
    "        if neuron_type(source(spike)) == exc\n",
    "            vars.gₑ += Δgₑ\n",
    "        else\n",
    "            vars.gᵢ += Δgᵢ\n",
    "        end\n",
    "    return (;\n",
    "        firing_rates,\n",
    "        inputs,\n",
    "        on_spike_arrival!,\n",
    "        Nₑ,\n",
    "    )\n",
    "end;"
   ]
  },
  {
   "cell_type": "code",
   "execution_count": null,
   "id": "0ac2a388",
   "metadata": {},
   "outputs": [],
   "source": [
    "using SpikeWorks: Simulation, step!, run!, unpack, newsim,\n",
    "                  get_new_spikes!, next_spike, index_of_next"
   ]
  },
  {
   "cell_type": "code",
   "execution_count": null,
   "id": "15df6a14",
   "metadata": {},
   "outputs": [],
   "source": [
    "new(; kw...) = begin\n",
    "    ip = input(; kw...)\n",
    "    s = newsim(coba_adex_neuron, ip.inputs, ip.on_spike_arrival!, Δt)\n",
    "    (sim=s, input=ip)\n",
    "end;"
   ]
  },
  {
   "cell_type": "markdown",
   "id": "8cc43493",
   "metadata": {},
   "source": [
    "## Multi sim"
   ]
  },
  {
   "cell_type": "markdown",
   "id": "c690b298",
   "metadata": {},
   "source": [
    "(These Ns are same as in e.g. https://tfiers.github.io/phd/nb/2022-10-11__Nto1_output_rate__Edit_of_2022-05-02.html)"
   ]
  },
  {
   "cell_type": "code",
   "execution_count": null,
   "id": "02f662a5",
   "metadata": {},
   "outputs": [],
   "source": [
    "using SpikeWorks: spikerate"
   ]
  },
  {
   "cell_type": "code",
   "execution_count": null,
   "id": "ad5549fd",
   "metadata": {},
   "outputs": [],
   "source": [
    "sim_duration/minutes"
   ]
  },
  {
   "cell_type": "code",
   "execution_count": null,
   "id": "9a615c3b",
   "metadata": {
    "tags": []
   },
   "outputs": [],
   "source": [
    "using Printf\n",
    "print_Δt(t0) = @printf(\"%.2G seconds\\n\", time()-t0)\n",
    "macro timeh(ex) :( t0=time(); $(esc(ex)); print_Δt(t0) ) end;"
   ]
  },
  {
   "cell_type": "code",
   "execution_count": null,
   "id": "60cf3c02",
   "metadata": {},
   "outputs": [],
   "source": [
    "Ns_and_scalings = [\n",
    "    (5,    2.4),   # => N_inh = 1\n",
    "    (20,   1.3),\n",
    "        # orig: 21.\n",
    "        # But: \"pₑ = 0.8 does not divide N = 21 into integer parts\"\n",
    "        # So voila\n",
    "    (100,  0.8),\n",
    "    (400,  0.6),\n",
    "    (1600, 0.5),\n",
    "    (6500, 0.5),\n",
    "];\n",
    "Ns = first.(Ns_and_scalings);"
   ]
  },
  {
   "cell_type": "code",
   "execution_count": null,
   "id": "38e0de51",
   "metadata": {},
   "outputs": [],
   "source": [
    "nbname = \"2023-02-07__AdEx_Nto1\"\n",
    "cachekey(N) = \"$(nbname)__N=$(N)__T=$(sim_duration)\";\n",
    "cachekey(Ns[end])"
   ]
  },
  {
   "cell_type": "code",
   "execution_count": null,
   "id": "1fc94421",
   "metadata": {},
   "outputs": [],
   "source": [
    "function runsim(N, scaling)\n",
    "    println()\n",
    "    (sim, inp) = new(; N, scaling)\n",
    "    @show N\n",
    "    @timeh run!(sim)\n",
    "    @show spikerate(sim)\n",
    "    return (; sim, input=inp)\n",
    "end\n",
    "\n",
    "simruns = []\n",
    "for (N, f) in Ns_and_scalings\n",
    "    scaling = f*N\n",
    "    simrun = cached(runsim, (N, scaling), key=cachekey(N))\n",
    "    push!(simruns, simrun)\n",
    "end"
   ]
  },
  {
   "cell_type": "code",
   "execution_count": null,
   "id": "1fa6ef70",
   "metadata": {},
   "outputs": [],
   "source": [
    "sims = first.(simruns)\n",
    "inps = last.(simruns);"
   ]
  },
  {
   "cell_type": "code",
   "execution_count": null,
   "id": "5aea36d5",
   "metadata": {},
   "outputs": [],
   "source": [
    "Base.summarysize(simruns[6]) / GB"
   ]
  },
  {
   "cell_type": "markdown",
   "id": "6e8f69ae",
   "metadata": {},
   "source": [
    "### Disentangle"
   ]
  },
  {
   "cell_type": "code",
   "execution_count": null,
   "id": "d6d30a7a",
   "metadata": {},
   "outputs": [],
   "source": [
    "spiketimes(input::Nto1Input) = input.train.spiketimes;"
   ]
  },
  {
   "cell_type": "code",
   "execution_count": null,
   "id": "8eacf3bc",
   "metadata": {},
   "outputs": [],
   "source": [
    "vrec(s::Simulation{<:Nto1System}) = s.rec.v;"
   ]
  },
  {
   "cell_type": "markdown",
   "id": "39e2453f",
   "metadata": {},
   "source": [
    "---\n",
    "\n",
    "/ end same"
   ]
  },
  {
   "cell_type": "markdown",
   "id": "3cbcb40b",
   "metadata": {
    "incorrectly_encoded_metadata": "tags=[] jp-MarkdownHeadingCollapsed=true"
   },
   "source": [
    "### Plot"
   ]
  },
  {
   "cell_type": "markdown",
   "id": "e879781d",
   "metadata": {},
   "source": [
    "Let's see what this AdEx guy looks like."
   ]
  },
  {
   "cell_type": "code",
   "execution_count": null,
   "id": "d9585dc8",
   "metadata": {},
   "outputs": [],
   "source": [
    "plot1(i) = begin\n",
    "    s = sims[i]\n",
    "    Nt = s.stepcounter.N\n",
    "    t = linspace(0, sim_duration, Nt)\n",
    "    plotsig(t, vrec(s) / mV; tlim=[0, 1seconds])\n",
    "end\n",
    "plot1(1)\n",
    "plot1(3)\n",
    "plot1(5)\n",
    "plot1(6);"
   ]
  },
  {
   "cell_type": "code",
   "execution_count": null,
   "id": "0ed7b3f6",
   "metadata": {},
   "outputs": [],
   "source": [
    "plot1(6);"
   ]
  },
  {
   "cell_type": "markdown",
   "id": "20a3ab5f",
   "metadata": {},
   "source": [
    "Now to recreate the plot of https://tfiers.github.io/phd/nb/2022-10-24__Nto1_with_fixed_lognormal_inputs.html#plot\n",
    "\n",
    "We'll add fake spikes up to our previous' spike cutoff."
   ]
  },
  {
   "cell_type": "code",
   "execution_count": null,
   "id": "25b80f93",
   "metadata": {},
   "outputs": [],
   "source": [
    "i = 6\n",
    "s = sims[i]\n",
    "v = copy(s.rec.v);\n",
    "v[to_timesteps.(s.rec.spiketimes, Δt)] .= 40mV\n",
    "Nt = s.stepcounter.N\n",
    "t = linspace(0, sim_duration, Nt)\n",
    "plotsig(t, v / mV; tlim=[0, 10seconds]);"
   ]
  },
  {
   "cell_type": "markdown",
   "id": "8585b946",
   "metadata": {
    "tags": []
   },
   "source": [
    "## Conntest pooled windows - linear regress 10 ms"
   ]
  },
  {
   "cell_type": "code",
   "execution_count": null,
   "id": "d306d980",
   "metadata": {},
   "outputs": [],
   "source": [
    "i = 6\n",
    "N = Ns[i]"
   ]
  },
  {
   "cell_type": "code",
   "execution_count": null,
   "id": "aec63bd0",
   "metadata": {},
   "outputs": [],
   "source": [
    "inp = inps[i];"
   ]
  },
  {
   "cell_type": "code",
   "execution_count": null,
   "id": "62cd12f8",
   "metadata": {},
   "outputs": [],
   "source": [
    "Nₑ = inp.Nₑ"
   ]
  },
  {
   "cell_type": "code",
   "execution_count": null,
   "id": "8f0fd4d0",
   "metadata": {},
   "outputs": [],
   "source": [
    "include(\"/root/phd/nb/2023-02-07__[input-linefit-wins].jl\");"
   ]
  },
  {
   "cell_type": "code",
   "execution_count": null,
   "id": "60bb4a9f",
   "metadata": {},
   "outputs": [],
   "source": [
    "wins = windows(6, 1);\n",
    "X, y = build_Xy(wins);"
   ]
  },
  {
   "cell_type": "code",
   "execution_count": null,
   "id": "a5d2ee06",
   "metadata": {},
   "outputs": [],
   "source": [
    "ts = @view X[:,2]\n",
    "sel = 1:10000\n",
    "\n",
    "Sciplotlib.plot(ts[sel]*Δt/ms, y[sel]/mV, \".\", alpha=0.1);"
   ]
  },
  {
   "cell_type": "markdown",
   "id": "31107c92",
   "metadata": {},
   "source": [
    "So we still see our ramp-ups; but much less so.\\\n",
    "(compare, https://tfiers.github.io/phd/nb/2023-01-19__Fit-a-line.html#plot-some-windows)"
   ]
  },
  {
   "cell_type": "markdown",
   "id": "2426bec5",
   "metadata": {},
   "source": [
    "Now the zoom-in"
   ]
  },
  {
   "cell_type": "code",
   "execution_count": null,
   "id": "b4d76637",
   "metadata": {},
   "outputs": [],
   "source": [
    "Ny = length(y)"
   ]
  },
  {
   "cell_type": "markdown",
   "id": "2a0d8494",
   "metadata": {},
   "source": [
    "(only 0.3M datapoints here; but in the other nb we used our highest-firing)."
   ]
  },
  {
   "cell_type": "code",
   "execution_count": null,
   "id": "0ec6264f",
   "metadata": {},
   "outputs": [],
   "source": [
    "sel = 1:100_000\n",
    "Sciplotlib.plot(\n",
    "    ts[sel]*Δt/ms,\n",
    "    y[sel]/mV,\n",
    "    \".\";\n",
    "    alpha = 0.01,\n",
    "    ylim = [-58, -50],  # mV\n",
    "    clip_on = true,\n",
    ");"
   ]
  },
  {
   "cell_type": "code",
   "execution_count": null,
   "id": "5706533a",
   "metadata": {},
   "outputs": [],
   "source": [
    "inh_neurons = Nₑ+1:N;"
   ]
  },
  {
   "cell_type": "code",
   "execution_count": null,
   "id": "32084bac",
   "metadata": {},
   "outputs": [],
   "source": [
    "spiketimes(i::Int) = spiketimes(inp.inputs[i]);"
   ]
  },
  {
   "cell_type": "code",
   "execution_count": null,
   "id": "447a3eb0",
   "metadata": {},
   "outputs": [],
   "source": [
    "shuffle_sources = sample(1:N, 100, replace=true)\n",
    "\n",
    "real_spiketrains = spiketimes.(1:N);\n",
    "unconnected_trains = shuffle_ISIs.(spiketimes.(shuffle_sources));"
   ]
  },
  {
   "cell_type": "code",
   "execution_count": null,
   "id": "4e05fed2",
   "metadata": {},
   "outputs": [],
   "source": [
    "all_spiketrains = [real_spiketrains; unconnected_trains];"
   ]
  },
  {
   "cell_type": "code",
   "execution_count": null,
   "id": "ef9edb54",
   "metadata": {},
   "outputs": [],
   "source": [
    "using Base.Threads: @threads"
   ]
  },
  {
   "cell_type": "code",
   "execution_count": null,
   "id": "b93240b6",
   "metadata": {},
   "outputs": [],
   "source": [
    "Nrows = length(all_spiketrains)"
   ]
  },
  {
   "cell_type": "markdown",
   "id": "80116a6c",
   "metadata": {},
   "source": [
    "(Below calc takes 3'25 on laptop, 7 threads)"
   ]
  },
  {
   "cell_type": "code",
   "execution_count": null,
   "id": "d7cbe45f",
   "metadata": {},
   "outputs": [],
   "source": [
    "makerows() = begin\n",
    "    rows = Vector(undef, Nrows)\n",
    "    p = Progress(Nrows)\n",
    "    @threads for r in 1:Nrows\n",
    "        rows[r] = makerow(r)\n",
    "        next!(p)\n",
    "    end\n",
    "    return rows\n",
    "end;\n",
    "\n",
    "rows = cached(makerows, (), key=cachekey(N));"
   ]
  },
  {
   "cell_type": "code",
   "execution_count": null,
   "id": "8f581c34",
   "metadata": {},
   "outputs": [],
   "source": [
    "df = DataFrame(rows)\n",
    "disp(df, 5)  # (huh, disp no work no more here)"
   ]
  },
  {
   "cell_type": "code",
   "execution_count": null,
   "id": "04cc8df3",
   "metadata": {},
   "outputs": [],
   "source": [
    "perftable(df)"
   ]
  },
  {
   "cell_type": "markdown",
   "id": "eaa28f4e",
   "metadata": {},
   "source": [
    "At this arbitrary ‘α’ = 0.001:\n",
    "- FPR: 14%\n",
    "- TPRₑ: 26%\n",
    "- TPRᵢ: 43%\n",
    "\n",
    "Comparing with the results with the Izh neuron:\\\n",
    "(https://tfiers.github.io/phd/nb/2023-01-19__Fit-a-line.html#proper-eval)\\\n",
    "- FPR: 34%\n",
    "- TPRₑ: 24%\n",
    "- TPRᵢ: 37%\n",
    "\n",
    "So, that seems like a def increase :)"
   ]
  },
  {
   "cell_type": "markdown",
   "id": "d7991d05",
   "metadata": {},
   "source": [
    "### Now with lower FPR / lower α"
   ]
  },
  {
   "cell_type": "code",
   "execution_count": null,
   "id": "855c2b88",
   "metadata": {},
   "outputs": [],
   "source": [
    "Nrows = length(all_spiketrains)\n",
    "# Nrows = 20"
   ]
  },
  {
   "cell_type": "code",
   "execution_count": null,
   "id": "c389716c",
   "metadata": {},
   "outputs": [],
   "source": [
    "α=0.0001;\n",
    "rows2 = Vector(undef, Nrows)\n",
    "p = Progress(Nrows)\n",
    "@threads for r in 1:Nrows\n",
    "    rows2[r] = makerow(r; α)\n",
    "    next!(p)\n",
    "end;\n",
    "df2 = DataFrame(rows2)\n",
    "perftable(df2)"
   ]
  },
  {
   "cell_type": "markdown",
   "id": "9a04b699",
   "metadata": {},
   "source": [
    "(FPR 16%)"
   ]
  },
  {
   "cell_type": "markdown",
   "id": "4d1f5af0",
   "metadata": {},
   "source": [
    "### Even lowerr\n",
    "\n",
    "It's dumb to recalculate; we have the p-values."
   ]
  },
  {
   "cell_type": "markdown",
   "id": "d97225dc",
   "metadata": {},
   "source": [
    "(Plus, there's some memory thing it seems: process dies halfway here)."
   ]
  },
  {
   "cell_type": "code",
   "execution_count": null,
   "id": "c487381c",
   "metadata": {},
   "outputs": [],
   "source": [
    "update_predtype(row::DataFrameRow; α) = begin\n",
    "    if row.pval < α\n",
    "        predtype = (row.slope > 0 ? :exc : :inh)\n",
    "    else\n",
    "        predtype = :unconn\n",
    "    end\n",
    "    row.predtype = predtype\n",
    "end;\n",
    "\n",
    "df3 = deepcopy(df)\n",
    "foreach(row -> update_predtype(row, α = 0.0000008), eachrow(df3))\n",
    "perftable(df3)"
   ]
  },
  {
   "cell_type": "markdown",
   "id": "8ff37b2e",
   "metadata": {},
   "source": [
    ":D"
   ]
  },
  {
   "cell_type": "markdown",
   "id": "72ac3538",
   "metadata": {
    "tags": []
   },
   "source": [
    "## Conntest STA"
   ]
  },
  {
   "cell_type": "code",
   "execution_count": null,
   "id": "707a99bb",
   "metadata": {},
   "outputs": [],
   "source": [
    "winsize = 1000\n",
    "\n",
    "calcSTA(sim, spiketimes) =\n",
    "    calc_STA(vrec(sim), spiketimes, sim.Δt, winsize);"
   ]
  },
  {
   "cell_type": "code",
   "execution_count": null,
   "id": "414c8b19",
   "metadata": {},
   "outputs": [],
   "source": [
    "# @code_warntype calc_STA(vrec(s), st1, s.Δt, winsize)\n",
    "# all good"
   ]
  },
  {
   "cell_type": "markdown",
   "id": "ce193e46",
   "metadata": {
    "tags": []
   },
   "source": [
    "### Cache STA calc"
   ]
  },
  {
   "cell_type": "code",
   "execution_count": null,
   "id": "9e0bf3f1",
   "metadata": {},
   "outputs": [],
   "source": [
    "using Base.Threads: @threads"
   ]
  },
  {
   "cell_type": "code",
   "execution_count": null,
   "id": "2dda8671",
   "metadata": {},
   "outputs": [],
   "source": [
    "function calc_STA_and_shufs(spiketimes, sim)\n",
    "    realSTA = calcSTA(sim, spiketimes)\n",
    "    shufs = [\n",
    "        calcSTA(sim, shuffle_ISIs(spiketimes))\n",
    "        for _ in 1:100\n",
    "    ]\n",
    "    (; realSTA, shufs)\n",
    "end\n",
    "\n",
    "\"calc_all_STAs_and_shufs\"\n",
    "function calc_all_STAz(inputs, sim)\n",
    "    f(input) = calc_STA_and_shufs(spiketimes(input), sim)\n",
    "    N = length(inputs)\n",
    "    res = Vector(undef, N)\n",
    "    p = Progress(N)\n",
    "    # @threads for i in 1:N\n",
    "    for i in 1:N\n",
    "        res[i] = f(inputs[i])\n",
    "        next!(p)\n",
    "    end\n",
    "    res\n",
    "end\n",
    "calc_all_STAz(simrun) = calc_all_STAz(unpakk(simrun)...);\n",
    "unpakk(simrun) = (; simrun.input.inputs, simrun.sim);\n",
    "\n",
    "# out = calc_all_STAz(simruns[1])\n",
    "# print(Base.summary(out))"
   ]
  },
  {
   "cell_type": "code",
   "execution_count": null,
   "id": "d76aae55",
   "metadata": {
    "tags": []
   },
   "outputs": [],
   "source": [
    "calc_all_cached(i) = cached(calc_all_STAz, [simruns[i]], key=cachekey(Ns[i]))\n",
    "\n",
    "out = []\n",
    "for i in eachindex(simruns)\n",
    "    push!(out, calc_all_cached(i))\n",
    "end;"
   ]
  },
  {
   "cell_type": "code",
   "execution_count": null,
   "id": "0f0058f6",
   "metadata": {},
   "outputs": [],
   "source": [
    "conntype_vec(i) = begin\n",
    "    sim, inp = simruns[i]\n",
    "    Nₑ = inp.Nₑ\n",
    "    N = Ns[i]\n",
    "    conntype = Vector{Symbol}(undef, N);\n",
    "    conntype[1:Nₑ]     .= :exc\n",
    "    conntype[Nₑ+1:end] .= :inh\n",
    "    conntype\n",
    "end;"
   ]
  },
  {
   "cell_type": "code",
   "execution_count": null,
   "id": "130b194f",
   "metadata": {},
   "outputs": [],
   "source": [
    "conntestresults(i, teststat = ptp_test; α = 0.05) = begin\n",
    "\n",
    "    f((sta, shufs)) = test_conn(teststat, sta, shufs; α)\n",
    "    res = @showprogress map(f, out[i])\n",
    "    df = DataFrame(res)\n",
    "    df[!, :conntype] = conntype_vec(i)\n",
    "    df\n",
    "end;\n",
    "\n",
    "# conntestresults(1)"
   ]
  },
  {
   "cell_type": "code",
   "execution_count": null,
   "id": "7587ea49",
   "metadata": {},
   "outputs": [],
   "source": [
    "using Sciplotlib: plot"
   ]
  },
  {
   "cell_type": "code",
   "execution_count": null,
   "id": "9b336b3e",
   "metadata": {},
   "outputs": [],
   "source": [
    "spikerate_(spiketimes) = length(spiketimes) / sim_duration;"
   ]
  },
  {
   "cell_type": "code",
   "execution_count": null,
   "id": "6bc0815d",
   "metadata": {},
   "outputs": [],
   "source": [
    "spikerate_(inp::Nto1Input) = spikerate_(spiketimes(inp));"
   ]
  },
  {
   "cell_type": "code",
   "execution_count": null,
   "id": "a3f8dff7",
   "metadata": {},
   "outputs": [],
   "source": [
    "firing_rates(i) = spikerate_.(spiketimes.(inps[i].inputs));"
   ]
  }
 ],
 "metadata": {
  "jupytext": {
   "encoding": "# -*- coding: utf-8 -*-",
   "formats": "ipynb,jl:light"
  },
  "kernelspec": {
   "display_name": "Julia 1.9.0-beta3",
   "language": "julia",
   "name": "julia-1.9"
  },
  "language_info": {
   "file_extension": ".jl",
   "mimetype": "application/julia",
   "name": "julia",
   "version": "1.9.0"
  }
 },
 "nbformat": 4,
 "nbformat_minor": 5
}
