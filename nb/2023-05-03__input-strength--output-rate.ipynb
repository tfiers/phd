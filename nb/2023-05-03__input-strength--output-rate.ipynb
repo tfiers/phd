{
 "cells": [
  {
   "cell_type": "markdown",
   "id": "e984ba51",
   "metadata": {},
   "source": [
    "# 2023-05-03 • Input strength → Output rate"
   ]
  },
  {
   "cell_type": "markdown",
   "id": "2872f4e9",
   "metadata": {},
   "source": [
    "To decide what input strengths (syn. cond. increase per spike, Δg) to use,\n",
    "for different number of inputs N."
   ]
  },
  {
   "cell_type": "markdown",
   "id": "0b73a00b",
   "metadata": {},
   "source": [
    "What is the effect on the output spike rate? And the mean voltage?\n",
    "(and ig, the STA/PSP shape)"
   ]
  },
  {
   "cell_type": "markdown",
   "id": "5d49b64f",
   "metadata": {},
   "source": [
    "For the former two, we only need short simulations (good, makes it faster and in-memory etc)"
   ]
  },
  {
   "cell_type": "code",
   "execution_count": null,
   "id": "ac0c100f",
   "metadata": {},
   "outputs": [],
   "source": []
  }
 ],
 "metadata": {
  "kernelspec": {
   "display_name": "Julia 1.9.0-beta3",
   "language": "julia",
   "name": "julia-1.9"
  },
  "language_info": {
   "file_extension": ".jl",
   "mimetype": "application/julia",
   "name": "julia",
   "version": "1.9.0"
  },
  "toc": {
   "base_numbering": 1,
   "nav_menu": {},
   "number_sections": false,
   "sideBar": false,
   "skip_h1_title": false,
   "title_cell": "Table of Contents",
   "title_sidebar": "Contents",
   "toc_cell": false,
   "toc_position": {
    "height": "199.2px",
    "left": "21px",
    "top": "167px",
    "width": "165px"
   },
   "toc_section_display": true,
   "toc_window_display": true
  }
 },
 "nbformat": 4,
 "nbformat_minor": 5
}
