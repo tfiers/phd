{
 "cells": [
  {
   "cell_type": "markdown",
   "id": "b3516034",
   "metadata": {},
   "source": [
    "# 2023-06-23__Vm_traces_AdEx_Izh__Brian"
   ]
  },
  {
   "cell_type": "code",
   "execution_count": 1,
   "id": "72647aeb",
   "metadata": {},
   "outputs": [],
   "source": [
    "from brian2 import *"
   ]
  },
  {
   "cell_type": "code",
   "execution_count": 2,
   "id": "1ea371af",
   "metadata": {},
   "outputs": [
    {
     "data": {
      "text/latex": [
       "$100.00000000000001\\,\\mathrm{\\mu}\\mathrm{s}$"
      ],
      "text/plain": [
       "100. * usecond"
      ]
     },
     "execution_count": 2,
     "metadata": {},
     "output_type": "execute_result"
    }
   ],
   "source": [
    "defaultclock.dt"
   ]
  },
  {
   "cell_type": "code",
   "execution_count": 3,
   "id": "d2a52ff1",
   "metadata": {},
   "outputs": [
    {
     "data": {
      "text/latex": [
       "$88.0\\,\\mathrm{m}\\mathrm{s}$"
      ],
      "text/plain": [
       "88. * msecond"
      ]
     },
     "execution_count": 3,
     "metadata": {},
     "output_type": "execute_result"
    }
   ],
   "source": [
    "# AdEx LIF neuron params (cortical RS from Naud 2008)\n",
    "C   = 104  * pF\n",
    "g_L = 4.3  * nS\n",
    "E_L = -65  * mV\n",
    "V_T = -52  * mV\n",
    "Δ_T = 0.8  * mV \n",
    "Vs  =  40  * mV\n",
    "Vr  = -53  * mV\n",
    "a   = 0.8  * nS\n",
    "b   =  65  * pA\n",
    "tau_w =  88  * ms"
   ]
  },
  {
   "cell_type": "code",
   "execution_count": 4,
   "id": "7ddc6e59",
   "metadata": {},
   "outputs": [],
   "source": [
    "from scipy.special import lambertw"
   ]
  },
  {
   "cell_type": "code",
   "execution_count": 5,
   "id": "fabf4b66",
   "metadata": {},
   "outputs": [
    {
     "data": {
      "text/latex": [
       "$-49.63585597104162\\,\\mathrm{m}\\mathrm{V}$"
      ],
      "text/plain": [
       "-49.63585597 * mvolt"
      ]
     },
     "execution_count": 5,
     "metadata": {},
     "output_type": "execute_result"
    }
   ],
   "source": [
    "E_T = E_L - Δ_T * real(lambertw(-exp((E_L-V_T)/Δ_T), -1))"
   ]
  },
  {
   "cell_type": "code",
   "execution_count": 6,
   "id": "f04ba9ad",
   "metadata": {},
   "outputs": [
    {
     "data": {
      "text/latex": [
       "$2.798724088953702e-07\\,m^{-4}\\,kg^{-2}\\,s^{6}\\,A^{3}$"
      ],
      "text/plain": [
       "2.79872409e-07 * metre ** -4 * kilogram ** -2 * second ** 6 * amp ** 3"
      ]
     },
     "execution_count": 6,
     "metadata": {},
     "output_type": "execute_result"
    }
   ],
   "source": [
    "k = g_L / (E_T - E_L)"
   ]
  },
  {
   "cell_type": "code",
   "execution_count": 10,
   "id": "26c9aa4b",
   "metadata": {},
   "outputs": [],
   "source": [
    "E_e = 0   * mV\n",
    "E_i = -80 * mV\n",
    "we = 8    * nS\n",
    "wi = 8    * nS\n",
    "tau = 7   * ms;"
   ]
  },
  {
   "cell_type": "markdown",
   "id": "0d334b7b",
   "metadata": {},
   "source": [
    "Input neurons:"
   ]
  },
  {
   "cell_type": "code",
   "execution_count": 63,
   "id": "ca54386b",
   "metadata": {},
   "outputs": [
    {
     "data": {
      "text/plain": [
       "1.0862943611198905"
      ]
     },
     "execution_count": 63,
     "metadata": {},
     "output_type": "execute_result"
    }
   ],
   "source": [
    "N = 6500\n",
    "# N = 500\n",
    "\n",
    "μₓ = 4 # Hz\n",
    "σ = sqrt(0.6)\n",
    "μ = log(μₓ) - σ**2 / 2"
   ]
  },
  {
   "cell_type": "code",
   "execution_count": 64,
   "id": "f3d1662d",
   "metadata": {},
   "outputs": [
    {
     "data": {
      "text/plain": [
       "5200"
      ]
     },
     "execution_count": 64,
     "metadata": {},
     "output_type": "execute_result"
    }
   ],
   "source": [
    "Ne = N * 4//5"
   ]
  },
  {
   "cell_type": "code",
   "execution_count": 65,
   "id": "d5680c8d",
   "metadata": {},
   "outputs": [],
   "source": [
    "izh = \"dV/dt = ( k*(V - E_L)*(V - E_T) -I -w) / C : volt\"\n",
    "adx = \"dV/dt = ( -g_L*(V - E_L) + g_L * Δ_T * exp((V-V_T)/Δ_T) -I ) / C : volt\"\n",
    "\n",
    "eqs = lambda F: f\"\"\"\n",
    "{F}\n",
    "dw/dt = (a*(V - E_L) - w) / tau_w : amp\n",
    "\n",
    "I = g_e * (V - E_e) + g_i * (V - E_i) : amp\n",
    "\n",
    "dg_e/dt = -g_e / tau : siemens\n",
    "dg_i/dt = -g_i / tau : siemens\n",
    "\"\"\"\n",
    "\n",
    "def network(F):\n",
    "    n = NeuronGroup(1, eqs(izh), threshold=\"V > Vs\", reset=\"V = Vr; w += b\", method='euler')\n",
    "    n.V = Vᵣ\n",
    "    n.w = 0 * nA\n",
    "    n.g_e = 0 * nS\n",
    "    n.g_i = 0 * nS\n",
    "    \n",
    "    rates = lognormal(μ, σ, N) * Hz;\n",
    "    P = PoissonGroup(N, rates)\n",
    "    \n",
    "    Se = Synapses(P, n, on_pre=\"g_e += we\")\n",
    "    Si = Synapses(P, n, on_pre=\"g_i += wi\")\n",
    "    Se.connect(\"i < Ne\")\n",
    "    Si.connect(\"i >= Ne\")\n",
    "    \n",
    "    M = StateMonitor(n, [\"V\", \"I\", \"w\"], record=0)\n",
    "    \n",
    "    objs = [n, P, Se, Si, M]\n",
    "    return *objs, Network(objs)"
   ]
  },
  {
   "cell_type": "code",
   "execution_count": 66,
   "id": "39dccef0",
   "metadata": {},
   "outputs": [],
   "source": [
    "n, P, Se, Si, M, net = network(izh)"
   ]
  },
  {
   "cell_type": "code",
   "execution_count": 67,
   "id": "80e1eb18",
   "metadata": {},
   "outputs": [
    {
     "data": {
      "text/html": [
       "NeuronGroup 'neurongroup_5' with 1 neurons.<br>\n",
       "<b>Model:</b><nr>\n",
       "\\begin{align*}I &= g_{e} \\left(- E_{e} + V\\right) + g_{i} \\left(- E_{i} + V\\right) && \\text{(unit of $I$: $\\mathrm{A}$)}\\\\\n",
       "\\frac{\\mathrm{d}V}{\\mathrm{d}t} &= \\frac{- I + k \\left(- E_{L} + V\\right) \\left(- E_{T} + V\\right) - w}{C} && \\text{(unit of $V$: $\\mathrm{V}$)}\\\\\n",
       "\\frac{\\mathrm{d}g_{e}}{\\mathrm{d}t} &= - \\frac{g_{e}}{\\tau} && \\text{(unit of $g_{e}$: $\\mathrm{S}$)}\\\\\n",
       "\\frac{\\mathrm{d}g_{i}}{\\mathrm{d}t} &= - \\frac{g_{i}}{\\tau} && \\text{(unit of $g_{i}$: $\\mathrm{S}$)}\\\\\n",
       "\\frac{\\mathrm{d}w}{\\mathrm{d}t} &= \\frac{a \\left(- E_{L} + V\\right) - w}{\\tau_{w}} && \\text{(unit of $w$: $\\mathrm{A}$)}\\end{align*}\n",
       "<b>Spiking behaviour:</b><ul style=\"list-style-type: none; margin-top: 0px;\">\n",
       "<li><i>Threshold condition: </i>\n",
       "<code>V > Vs</code></li>\n",
       "<li><i>Reset statement(s):</i>\n",
       "<code>V = Vr; w += b</code></li>\n",
       "</ul>"
      ],
      "text/plain": [
       "NeuronGroup(clock=Clock(dt=100. * usecond, name='defaultclock'), when=start, order=0, name='neurongroup_5')"
      ]
     },
     "execution_count": 67,
     "metadata": {},
     "output_type": "execute_result"
    }
   ],
   "source": [
    "n"
   ]
  },
  {
   "cell_type": "code",
   "execution_count": 68,
   "id": "80801655",
   "metadata": {},
   "outputs": [],
   "source": [
    "net.store()"
   ]
  },
  {
   "cell_type": "code",
   "execution_count": 85,
   "id": "27aea9d7",
   "metadata": {},
   "outputs": [
    {
     "name": "stdout",
     "output_type": "stream",
     "text": [
      "Starting simulation at t=0. s for a duration of 1. s\n",
      "1. s (100%) simulated in 1s\n"
     ]
    }
   ],
   "source": [
    "net.restore()\n",
    "\n",
    "we = 0.02   * nS\n",
    "wi = 0.08   * nS\n",
    "\n",
    "net.run(1000 * ms, report='text')"
   ]
  },
  {
   "cell_type": "code",
   "execution_count": 86,
   "id": "bfd2760f",
   "metadata": {},
   "outputs": [
    {
     "data": {
      "image/png": "[encoded data removed]",
      "text/plain": [
       "<Figure size 640x480 with 1 Axes>"
      ]
     },
     "metadata": {},
     "output_type": "display_data"
    }
   ],
   "source": [
    "plot(M.t / ms, M.V[0] / mV);"
   ]
  },
  {
   "cell_type": "code",
   "execution_count": null,
   "id": "dbef219a",
   "metadata": {},
   "outputs": [],
   "source": []
  },
  {
   "cell_type": "code",
   "execution_count": null,
   "id": "b8a0fb7f",
   "metadata": {},
   "outputs": [],
   "source": []
  }
 ],
 "metadata": {
  "kernelspec": {
   "display_name": "Python 3 (ipykernel)",
   "language": "python",
   "name": "python3"
  },
  "language_info": {
   "codemirror_mode": {
    "name": "ipython",
    "version": 3
   },
   "file_extension": ".py",
   "mimetype": "text/x-python",
   "name": "python",
   "nbconvert_exporter": "python",
   "pygments_lexer": "ipython3",
   "version": "3.11.0"
  },
  "toc": {
   "base_numbering": 1,
   "nav_menu": {},
   "number_sections": false,
   "sideBar": true,
   "skip_h1_title": false,
   "title_cell": "Table of Contents",
   "title_sidebar": "Contents",
   "toc_cell": false,
   "toc_position": {},
   "toc_section_display": true,
   "toc_window_display": false
  }
 },
 "nbformat": 4,
 "nbformat_minor": 5
}
