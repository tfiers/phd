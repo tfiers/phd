{
 "cells": [
  {
   "cell_type": "markdown",
   "id": "063319d1",
   "metadata": {},
   "source": [
    "# 2023-07-10__AdEx_Nto1_Brian_speedtest"
   ]
  },
  {
   "cell_type": "code",
   "execution_count": 1,
   "id": "9a6cf327",
   "metadata": {},
   "outputs": [
    {
     "name": "stdout",
     "output_type": "stream",
     "text": [
      "importing numpy, brian … ✔\n"
     ]
    }
   ],
   "source": [
    "%run lib/neuron.py"
   ]
  },
  {
   "cell_type": "markdown",
   "id": "a15a9712",
   "metadata": {},
   "source": [
    "We're gonna try a brian trick to try and speed up the simulation:\n",
    "instead of 6500 separate Poisson spike trains, simulate most of them (except a few that we want to use for conntesting) as **one** process. (One for exc and one for inh, to be precise)."
   ]
  },
  {
   "cell_type": "code",
   "execution_count": 2,
   "id": "6ebb7c74",
   "metadata": {},
   "outputs": [
    {
     "data": {
      "text/plain": [
       "1.0862943611198905"
      ]
     },
     "execution_count": 2,
     "metadata": {},
     "output_type": "execute_result"
    }
   ],
   "source": [
    "μₓ = 4 * Hz\n",
    "σ = sqrt(0.6)\n",
    "μ = log(μₓ / Hz) - σ**2 / 2"
   ]
  },
  {
   "cell_type": "markdown",
   "id": "1be20d99",
   "metadata": {},
   "source": [
    "## `PoissonGroup` only"
   ]
  },
  {
   "cell_type": "code",
   "execution_count": 3,
   "id": "3556dbe4",
   "metadata": {},
   "outputs": [],
   "source": [
    "def Nto1_all_simmed(N = 6500):\n",
    "    \n",
    "    Ne = N * 4//5\n",
    "    \n",
    "    n = COBA_AdEx_neuron()\n",
    "    \n",
    "    rates = lognormal(μ, σ, N) * Hz\n",
    "    P = PoissonGroup(N, rates)\n",
    "    \n",
    "    Se = Synapses(P, n, on_pre=\"ge += we\")\n",
    "    Si = Synapses(P, n, on_pre=\"gi += wi\")\n",
    "    Se.connect(\"i < Ne\")\n",
    "    Si.connect(\"i >= Ne\")\n",
    "    \n",
    "    M = StateMonitor(n, [\"V\"], record=[0])\n",
    "    S = SpikeMonitor(n)\n",
    "    SP = SpikeMonitor(P)\n",
    "    \n",
    "    objs = [n, P, Se, Si, M, S, SP]\n",
    "    return *objs, Network(objs)"
   ]
  },
  {
   "cell_type": "code",
   "execution_count": 4,
   "id": "0da285f3",
   "metadata": {},
   "outputs": [
    {
     "name": "stdout",
     "output_type": "stream",
     "text": [
      "CPU times: total: 438 ms\n",
      "Wall time: 776 ms\n"
     ]
    }
   ],
   "source": [
    "%%time\n",
    "*objs, net = Nto1_all_simmed();\n",
    "net.store()"
   ]
  },
  {
   "cell_type": "code",
   "execution_count": 5,
   "id": "d75170ae",
   "metadata": {},
   "outputs": [],
   "source": [
    "we = 14 * pS\n",
    "wi = 4 * we\n",
    "\n",
    "T = 10*second;"
   ]
  },
  {
   "cell_type": "code",
   "execution_count": 6,
   "id": "6c65b85b",
   "metadata": {},
   "outputs": [
    {
     "name": "stdout",
     "output_type": "stream",
     "text": [
      "Starting simulation at t=0. s for a duration of 10. s\n",
      "1.7002 s (17%) simulated in 10s, estimated 49s remaining.\n",
      "3.3176 s (33%) simulated in 20s, estimated 40s remaining.\n",
      "5.1558 s (51%) simulated in 30s, estimated 28s remaining.\n",
      "6.8499 s (68%) simulated in 40s, estimated 18s remaining.\n",
      "8.5327 s (85%) simulated in 50s, estimated 9s remaining.\n",
      "10. s (100%) simulated in 58s\n",
      "CPU times: total: 27.9 s\n",
      "Wall time: 59.2 s\n"
     ]
    }
   ],
   "source": [
    "%%time\n",
    "net.restore()\n",
    "net.run(T, report='text')"
   ]
  },
  {
   "cell_type": "markdown",
   "id": "b4542bb7",
   "metadata": {},
   "source": [
    "So, 19 s for the sim itself,  \n",
    "29 s for the whole thing, i.e. setup took 10 seconds (initial compilation, ig)."
   ]
  },
  {
   "cell_type": "markdown",
   "id": "878bb8d8",
   "metadata": {},
   "source": [
    "..that compil gets cached though. Second time: no init time at all.\n",
    "(Neither at `run` time or at the objs creation time)."
   ]
  },
  {
   "cell_type": "markdown",
   "id": "3da504c1",
   "metadata": {},
   "source": [
    "2nd try, other day: 51 s for whole sim.  \n",
    "(total of block: 53.5 s)."
   ]
  },
  {
   "cell_type": "markdown",
   "id": "1e615591",
   "metadata": {},
   "source": [
    "3rd try, this same day: 58 s for whole sim."
   ]
  },
  {
   "cell_type": "markdown",
   "id": "05992c22",
   "metadata": {},
   "source": [
    "(weird, nothin shoulda changed, why 2+ x slower)"
   ]
  },
  {
   "cell_type": "markdown",
   "id": "58207dff",
   "metadata": {},
   "source": [
    "## `PoissonGroup` + `PoissonInput`s (merged)"
   ]
  },
  {
   "cell_type": "code",
   "execution_count": 7,
   "id": "bec60813",
   "metadata": {},
   "outputs": [],
   "source": [
    "def Nto1_merged(N = 6500, Ne_simmed = 100):\n",
    "    \n",
    "    Ni_simmed = Ne_simmed\n",
    "\n",
    "    Ne = N * 4//5\n",
    "    Ni = N - Ne\n",
    "    Ne_merged = Ne - Ne_simmed\n",
    "    Ni_merged = Ni - Ni_simmed\n",
    "    N_simmed = Ne_simmed + Ni_simmed\n",
    "    print(f\"{Ne=}, {Ni=}, {N_simmed=}, {Ne_merged=}, {Ni_merged=}\")\n",
    "    \n",
    "    n = COBA_AdEx_neuron()\n",
    "\n",
    "    rates = lognormal(μ, σ, N_simmed) * Hz\n",
    "    P = PoissonGroup(N_simmed, rates)\n",
    "    Se = Synapses(P, n, on_pre=\"ge += we\")\n",
    "    Si = Synapses(P, n, on_pre=\"gi += wi\")\n",
    "    Se.connect(\"i < Ne_simmed\")\n",
    "    Si.connect(\"i >= Ne_simmed\")\n",
    "\n",
    "    PIe = PoissonInput(n, 'ge', Ne_merged, μₓ, we)\n",
    "    PIi = PoissonInput(n, 'gi', Ni_merged, μₓ, wi);\n",
    "\n",
    "    M = StateMonitor(n, [\"V\"], record=[0])\n",
    "    S = SpikeMonitor(n)\n",
    "    SP = SpikeMonitor(P)\n",
    "    \n",
    "    objs = [n, P, Se, Si, PIe, PIi, M, S, SP]\n",
    "    return *objs, Network(objs)"
   ]
  },
  {
   "cell_type": "code",
   "execution_count": 8,
   "id": "17a55cde",
   "metadata": {},
   "outputs": [
    {
     "name": "stdout",
     "output_type": "stream",
     "text": [
      "Ne=5200, Ni=1300, N_simmed=200, Ne_merged=5100, Ni_merged=1200\n",
      "CPU times: total: 219 ms\n",
      "Wall time: 312 ms\n"
     ]
    }
   ],
   "source": [
    "%%time\n",
    "*objs_m, net_m = Nto1_merged()\n",
    "net_m.store()"
   ]
  },
  {
   "cell_type": "code",
   "execution_count": 9,
   "id": "7dceb3f4",
   "metadata": {},
   "outputs": [
    {
     "name": "stdout",
     "output_type": "stream",
     "text": [
      "Starting simulation at t=0. s for a duration of 10. s\n",
      "3.3382 s (33%) simulated in 10s, estimated 20s remaining.\n",
      "7.3675 s (73%) simulated in 20s, estimated 7s remaining.\n",
      "10. s (100%) simulated in 27s\n",
      "CPU times: total: 13.8 s\n",
      "Wall time: 27.7 s\n"
     ]
    }
   ],
   "source": [
    "%%time\n",
    "net_m.restore()\n",
    "net_m.run(T, report='text')"
   ]
  },
  {
   "cell_type": "markdown",
   "id": "2a300b60",
   "metadata": {},
   "source": [
    "29 s for 10\".\n",
    "\n",
    "whole block: 64 sec."
   ]
  },
  {
   "cell_type": "markdown",
   "id": "84a9fe74",
   "metadata": {},
   "source": [
    "And again, this same other day: 27 s.\n",
    "\n",
    "So, speedup of that PInput:"
   ]
  },
  {
   "cell_type": "code",
   "execution_count": 11,
   "id": "e3456626",
   "metadata": {},
   "outputs": [
    {
     "data": {
      "text/plain": [
       "54.5"
      ]
     },
     "execution_count": 11,
     "metadata": {},
     "output_type": "execute_result"
    }
   ],
   "source": [
    "(51+58)/2"
   ]
  },
  {
   "cell_type": "code",
   "execution_count": 10,
   "id": "54488b11",
   "metadata": {},
   "outputs": [
    {
     "data": {
      "text/plain": [
       "1.9464285714285714"
      ]
     },
     "execution_count": 10,
     "metadata": {},
     "output_type": "execute_result"
    }
   ],
   "source": [
    "(51+58) / (27 + 29)"
   ]
  },
  {
   "cell_type": "markdown",
   "id": "8fa95c4f",
   "metadata": {},
   "source": [
    "2x. worth the extra complexity? eh, sure."
   ]
  },
  {
   "cell_type": "markdown",
   "id": "373aaded",
   "metadata": {},
   "source": [
    "Otoh, what do when less than 6500 inputs.\n",
    "Say, 100 inh, 400 exc.\n",
    "Or, 10 inh, 40 exc.\n",
    "(ok, sol is simple, you take max)"
   ]
  },
  {
   "cell_type": "markdown",
   "id": "6e839d9d",
   "metadata": {},
   "source": [
    "## "
   ]
  },
  {
   "cell_type": "markdown",
   "id": "cb969b5b",
   "metadata": {},
   "source": [
    "How 'bout Julia?"
   ]
  },
  {
   "cell_type": "markdown",
   "id": "0b8638d6",
   "metadata": {},
   "source": [
    "See notebook `2023-08-02__Julia_speedtest_AdEx_Nto1`.\\\n",
    "Simulating all 6500 inputs for 10 seconds, we have a sim time of 0.7 seconds.  \n",
    "(10 minutes takes 9 seconds).  \n",
    "I.e. 25x as fast as Brian2 w/ Cython (18 sec)."
   ]
  },
  {
   "cell_type": "markdown",
   "id": "603069c6",
   "metadata": {},
   "source": [
    "What about Brian's standalone mode? i.e. no python for main loop; generate a C++ proj."
   ]
  },
  {
   "cell_type": "markdown",
   "id": "cad1a4ac",
   "metadata": {},
   "source": [
    "(does that work with changing params in a loop? (i.e. seed, we))"
   ]
  },
  {
   "cell_type": "markdown",
   "id": "706746eb",
   "metadata": {},
   "source": [
    "See `2023-08-02__speedtest_brian_standalone_AdEx_Nto1`.  \\\n",
    "Also < 1 sec."
   ]
  },
  {
   "cell_type": "markdown",
   "id": "3d9879d1",
   "metadata": {},
   "source": [
    "With `time ./main.exe`: ~0.5 seconds."
   ]
  },
  {
   "cell_type": "markdown",
   "id": "9349c550",
   "metadata": {},
   "source": [
    "Note that that is the one w/ merged inputs.\n",
    "\n",
    "Without: 8 seconds. Interesting."
   ]
  },
  {
   "cell_type": "code",
   "execution_count": null,
   "id": "84075a78",
   "metadata": {},
   "outputs": [],
   "source": []
  }
 ],
 "metadata": {
  "jupytext": {
   "formats": "ipynb,py:light"
  },
  "kernelspec": {
   "display_name": "Python 3 (ipykernel)",
   "language": "python",
   "name": "python3"
  },
  "language_info": {
   "codemirror_mode": {
    "name": "ipython",
    "version": 3
   },
   "file_extension": ".py",
   "mimetype": "text/x-python",
   "name": "python",
   "nbconvert_exporter": "python",
   "pygments_lexer": "ipython3",
   "version": "3.11.0"
  },
  "toc": {
   "base_numbering": 1,
   "nav_menu": {},
   "number_sections": false,
   "sideBar": false,
   "skip_h1_title": true,
   "title_cell": "Table of Contents",
   "title_sidebar": "Contents",
   "toc_cell": false,
   "toc_position": {},
   "toc_section_display": true,
   "toc_window_display": false
  }
 },
 "nbformat": 4,
 "nbformat_minor": 5
}
