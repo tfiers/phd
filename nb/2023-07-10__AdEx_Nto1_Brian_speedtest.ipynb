{
 "cells": [
  {
   "cell_type": "markdown",
   "id": "d3b7c20e",
   "metadata": {},
   "source": [
    "# 2023-07-10__AdEx_Nto1_Brian_speedtest"
   ]
  },
  {
   "cell_type": "code",
   "execution_count": 1,
   "id": "8dcf30d6",
   "metadata": {
    "scrolled": true
   },
   "outputs": [
    {
     "name": "stdout",
     "output_type": "stream",
     "text": [
      "importing mpl … ✔\n",
      "importing brian … ✔\n",
      "importing pandas … ✔\n"
     ]
    }
   ],
   "source": [
    "%run lib/neuron.py"
   ]
  },
  {
   "cell_type": "code",
   "execution_count": 2,
   "id": "05c636e3",
   "metadata": {},
   "outputs": [],
   "source": [
    "clear_cache('cython')"
   ]
  },
  {
   "cell_type": "markdown",
   "id": "50ff3107",
   "metadata": {},
   "source": [
    "## Cython cache warmup"
   ]
  },
  {
   "cell_type": "code",
   "execution_count": 3,
   "id": "6f7449e1",
   "metadata": {},
   "outputs": [
    {
     "name": "stderr",
     "output_type": "stream",
     "text": [
      "INFO       No numerical integration method specified for group 'neurongroup', using method 'exact' (took 1.29s). [brian2.stateupdaters.base.method_choice]\n"
     ]
    },
    {
     "name": "stdout",
     "output_type": "stream",
     "text": [
      "CPU times: total: 2.62 s\n",
      "Wall time: 21.9 s\n"
     ]
    }
   ],
   "source": [
    "%%time\n",
    "# From tut nb 1\n",
    "start_scope()\n",
    "tau = 10*ms\n",
    "eqs = '''\n",
    "dv/dt = (1-v)/tau : 1\n",
    "'''\n",
    "G = NeuronGroup(1, eqs)\n",
    "run(100*ms)"
   ]
  },
  {
   "cell_type": "markdown",
   "id": "3d5335cb",
   "metadata": {},
   "source": [
    "---"
   ]
  },
  {
   "cell_type": "markdown",
   "id": "9a5415ab",
   "metadata": {},
   "source": [
    "We're gonna try a brian trick to try and speed up the simulation:\n",
    "instead of 6500 separate Poisson spike trains, simulate most of them (except a few that we want to use for conntesting) as **one** process. (One for exc and one for inh, to be precise)."
   ]
  },
  {
   "cell_type": "code",
   "execution_count": 3,
   "id": "312dd40b",
   "metadata": {},
   "outputs": [
    {
     "data": {
      "text/plain": [
       "1.0862943611198905"
      ]
     },
     "execution_count": 3,
     "metadata": {},
     "output_type": "execute_result"
    }
   ],
   "source": [
    "μₓ = 4 * Hz\n",
    "σ = sqrt(0.6)\n",
    "μ = log(μₓ / Hz) - σ**2 / 2"
   ]
  },
  {
   "cell_type": "code",
   "execution_count": 4,
   "id": "9ed034c0",
   "metadata": {},
   "outputs": [],
   "source": [
    "we = 14 * pS\n",
    "wi = 4 * we\n",
    "\n",
    "T = 10*second;"
   ]
  },
  {
   "cell_type": "markdown",
   "id": "b7eb2d1c",
   "metadata": {},
   "source": [
    "## `PoissonGroup` only"
   ]
  },
  {
   "cell_type": "code",
   "execution_count": 5,
   "id": "db2256ae",
   "metadata": {},
   "outputs": [],
   "source": [
    "def Nto1_all_simmed(N = 6500):\n",
    "    \n",
    "    Ne = N * 4//5\n",
    "    \n",
    "    n = COBA_AdEx_neuron()\n",
    "    \n",
    "    rates = lognormal(μ, σ, N) * Hz\n",
    "    P = PoissonGroup(N, rates)\n",
    "    \n",
    "    Se = Synapses(P, n, on_pre=\"ge += we\")\n",
    "    Si = Synapses(P, n, on_pre=\"gi += wi\")\n",
    "    Se.connect(\"i < Ne\")\n",
    "    Si.connect(\"i >= Ne\")\n",
    "    \n",
    "    M = StateMonitor(n, [\"V\"], record=[0])\n",
    "    S = SpikeMonitor(n)\n",
    "    SP = SpikeMonitor(P)\n",
    "    \n",
    "    objs = [n, P, Se, Si, M, S, SP]\n",
    "    return *objs, Network(objs)"
   ]
  },
  {
   "cell_type": "code",
   "execution_count": 6,
   "id": "f696198f",
   "metadata": {},
   "outputs": [
    {
     "name": "stdout",
     "output_type": "stream",
     "text": [
      "CPU times: total: 3.16 s\n",
      "Wall time: 13.4 s\n"
     ]
    }
   ],
   "source": [
    "%%time\n",
    "*objs, net = Nto1_all_simmed();\n",
    "net.store()"
   ]
  },
  {
   "cell_type": "code",
   "execution_count": 7,
   "id": "b61e3714",
   "metadata": {},
   "outputs": [
    {
     "name": "stdout",
     "output_type": "stream",
     "text": [
      "Starting simulation at t=0. s for a duration of 10. s\n",
      "8.7345 s (87%) simulated in 10s, estimated 1s remaining.\n",
      "10. s (100%) simulated in 11s\n",
      "CPU times: total: 16.6 s\n",
      "Wall time: 58.9 s\n"
     ]
    }
   ],
   "source": [
    "%%time\n",
    "net.restore()\n",
    "net.run(T, report='text')"
   ]
  },
  {
   "cell_type": "markdown",
   "id": "e3af0f33",
   "metadata": {},
   "source": [
    "(Most recent measurements later on, below)\n",
    "\n",
    "---"
   ]
  },
  {
   "cell_type": "markdown",
   "id": "5c8f000b",
   "metadata": {},
   "source": [
    "So, 19 s for the sim itself,  \n",
    "29 s for the whole thing, i.e. setup took 10 seconds (initial compilation, ig)."
   ]
  },
  {
   "cell_type": "markdown",
   "id": "05a11f15",
   "metadata": {},
   "source": [
    "..that compil gets cached though. Second time: no init time at all.\n",
    "(Neither at `run` time or at the objs creation time)."
   ]
  },
  {
   "cell_type": "markdown",
   "id": "91a59798",
   "metadata": {},
   "source": [
    "2nd try, other day: 51 s for whole sim.  \n",
    "(total of block: 53.5 s)."
   ]
  },
  {
   "cell_type": "markdown",
   "id": "4f6236ba",
   "metadata": {},
   "source": [
    "3rd try, this same day: 58 s for whole sim."
   ]
  },
  {
   "cell_type": "markdown",
   "id": "b58a2278",
   "metadata": {},
   "source": [
    "(weird, nothin shoulda changed, why 2+ x slower)"
   ]
  },
  {
   "cell_type": "markdown",
   "id": "0dc7afb4",
   "metadata": {},
   "source": [
    "---\n",
    "\n",
    "2023-08-14:\n",
    "- 1.32 s wall time for `Nto1_all_simmed()`\n",
    "- 41.3 s wall time for `restore` & `run`\n",
    "- 39 s reported sim time"
   ]
  },
  {
   "cell_type": "code",
   "execution_count": 7,
   "id": "0d61d2a9",
   "metadata": {},
   "outputs": [
    {
     "data": {
      "text/plain": [
       "3.6199999999999974"
      ]
     },
     "execution_count": 7,
     "metadata": {},
     "output_type": "execute_result"
    }
   ],
   "source": [
    "41.3 + 1.32 - 39"
   ]
  },
  {
   "cell_type": "markdown",
   "id": "5427c608",
   "metadata": {},
   "source": [
    "Ah, but that's with compilation cached."
   ]
  },
  {
   "cell_type": "code",
   "execution_count": 9,
   "id": "7badec31",
   "metadata": {},
   "outputs": [],
   "source": [
    "# clear_cache('cython')\n",
    "# We get\n",
    "# PermissionError: [WinError 5] Access is denied: 'C:\\\\Users\\\\tfiers\\\\.cython\\\\brian_extensions\\\\_cython_magic_0a4e0f53cb16102c85c1c560171fcda1.cp311-win_amd64.pyd'"
   ]
  },
  {
   "cell_type": "markdown",
   "id": "ace3c54a",
   "metadata": {},
   "source": [
    "So, deleting manually then.\n",
    "\n",
    "Ok the dir is in use by a python.exe process. Guess it's this one? Yep."
   ]
  },
  {
   "cell_type": "markdown",
   "id": "1e1c06eb",
   "metadata": {},
   "source": [
    "---\n",
    "\n",
    "2023-08-14, after clearing cython cache dir:\n",
    "- 49.3 s s wall time for `Nto1_all_simmed()` (and `store`)\n",
    "- 3min 25 s (205 s) wall time for `restore` & `run`\n",
    "- 41 s reported sim time"
   ]
  },
  {
   "cell_type": "code",
   "execution_count": 7,
   "id": "9cc4a5a6",
   "metadata": {},
   "outputs": [
    {
     "data": {
      "text/plain": [
       "213.3"
      ]
     },
     "execution_count": 7,
     "metadata": {},
     "output_type": "execute_result"
    }
   ],
   "source": [
    "205 + 49.3 - 41"
   ]
  },
  {
   "cell_type": "code",
   "execution_count": 6,
   "id": "767c8a4a",
   "metadata": {},
   "outputs": [],
   "source": [
    "# clear_cache('cython')\n",
    "# (Same permissionerror). Maybe after restarting nb? Yep, that works.\n",
    "# (It just rms entire ~/.cython/brian_extensions)"
   ]
  },
  {
   "cell_type": "markdown",
   "id": "cb4e55da",
   "metadata": {},
   "source": [
    "---\n",
    "2023-08-14, with clearing cython cache, but after the small cache warmup above (which took 21.9 wall time):\n",
    "- 38.4 s s wall time for `Nto1_all_simmed()` (and `store`)\n",
    "- 3min 25 s (205 s) wall time for `restore` & `run`  (yes, same)\n",
    "- 38 s reported sim time"
   ]
  },
  {
   "cell_type": "code",
   "execution_count": 9,
   "id": "16e14a7a",
   "metadata": {},
   "outputs": [
    {
     "data": {
      "text/plain": [
       "205.4"
      ]
     },
     "execution_count": 9,
     "metadata": {},
     "output_type": "execute_result"
    }
   ],
   "source": [
    "205 + 38.4 - 38"
   ]
  },
  {
   "cell_type": "markdown",
   "id": "359ef45a",
   "metadata": {},
   "source": [
    "Ok, so warmup didn't do lots!"
   ]
  },
  {
   "cell_type": "markdown",
   "id": "9e37f58a",
   "metadata": {},
   "source": [
    "What about, if we now run the below, with the current cache?"
   ]
  },
  {
   "cell_type": "markdown",
   "id": "93fbcc48",
   "metadata": {},
   "source": [
    "---\n",
    "2023-08-15 (w/ CPU in best performance mode (not battery saver). Cython cache cleared, no warmup net):\n",
    "- 13.4 s s wall time for `Nto1_all_simmed()` (and `store`)\n",
    "- 58.9 s wall time for `restore` & `run`\n",
    "- 11 s reported sim time"
   ]
  },
  {
   "cell_type": "code",
   "execution_count": 8,
   "id": "090a9afb",
   "metadata": {},
   "outputs": [
    {
     "data": {
      "text/plain": [
       "61.3"
      ]
     },
     "execution_count": 8,
     "metadata": {},
     "output_type": "execute_result"
    }
   ],
   "source": [
    "13.4+58.9-11"
   ]
  },
  {
   "cell_type": "markdown",
   "id": "bcb3fd79",
   "metadata": {},
   "source": [
    "---\n",
    "---"
   ]
  },
  {
   "cell_type": "markdown",
   "id": "d2b21dc8",
   "metadata": {},
   "source": [
    "## `PoissonGroup` + `PoissonInput`s (merged)"
   ]
  },
  {
   "cell_type": "code",
   "execution_count": 5,
   "id": "df0cadb1",
   "metadata": {},
   "outputs": [],
   "source": [
    "def Nto1_merged(N = 6500, Ne_simmed = 100):\n",
    "    \n",
    "    Ni_simmed = Ne_simmed\n",
    "\n",
    "    Ne = N * 4//5\n",
    "    Ni = N - Ne\n",
    "    Ne_merged = Ne - Ne_simmed\n",
    "    Ni_merged = Ni - Ni_simmed\n",
    "    N_simmed = Ne_simmed + Ni_simmed\n",
    "    print(f\"{Ne=}, {Ni=}, {N_simmed=}, {Ne_merged=}, {Ni_merged=}\")\n",
    "    \n",
    "    n = COBA_AdEx_neuron()\n",
    "\n",
    "    rates = lognormal(μ, σ, N_simmed) * Hz\n",
    "    P = PoissonGroup(N_simmed, rates)\n",
    "    Se = Synapses(P, n, on_pre=\"ge += we\")\n",
    "    Si = Synapses(P, n, on_pre=\"gi += wi\")\n",
    "    Se.connect(\"i < Ne_simmed\")\n",
    "    Si.connect(\"i >= Ne_simmed\")\n",
    "\n",
    "    PIe = PoissonInput(n, 'ge', Ne_merged, μₓ, we)\n",
    "    PIi = PoissonInput(n, 'gi', Ni_merged, μₓ, wi);\n",
    "\n",
    "    M = StateMonitor(n, [\"V\"], record=[0])\n",
    "    S = SpikeMonitor(n)\n",
    "    SP = SpikeMonitor(P)\n",
    "    \n",
    "    objs = [n, P, Se, Si, PIe, PIi, M, S, SP]\n",
    "    return *objs, Network(objs)"
   ]
  },
  {
   "cell_type": "code",
   "execution_count": 6,
   "id": "4bf8670a",
   "metadata": {},
   "outputs": [
    {
     "name": "stdout",
     "output_type": "stream",
     "text": [
      "Ne=5200, Ni=1300, N_simmed=200, Ne_merged=5100, Ni_merged=1200\n",
      "CPU times: total: 2.69 s\n",
      "Wall time: 12.9 s\n"
     ]
    }
   ],
   "source": [
    "%%time\n",
    "*objs_m, net_m = Nto1_merged()\n",
    "net_m.store()"
   ]
  },
  {
   "cell_type": "code",
   "execution_count": 7,
   "id": "9bc638ee",
   "metadata": {},
   "outputs": [
    {
     "name": "stdout",
     "output_type": "stream",
     "text": [
      "Starting simulation at t=0. s for a duration of 10. s\n",
      "7.0019 s (70%) simulated in 10s, estimated 4s remaining.\n",
      "10. s (100%) simulated in 11s\n",
      "CPU times: total: 20.3 s\n",
      "Wall time: 1min 24s\n"
     ]
    }
   ],
   "source": [
    "%%time\n",
    "net_m.restore()\n",
    "net_m.run(T, report='text')"
   ]
  },
  {
   "cell_type": "markdown",
   "id": "6a575111",
   "metadata": {},
   "source": [
    "---\n",
    "\n",
    "[old measurments]:"
   ]
  },
  {
   "cell_type": "markdown",
   "id": "75ece711",
   "metadata": {},
   "source": [
    "29 s for 10\".\n",
    "\n",
    "whole block: 64 sec."
   ]
  },
  {
   "cell_type": "markdown",
   "id": "d2419967",
   "metadata": {},
   "source": [
    "And again, this same other day: 27 s.\n",
    "\n",
    "So, speedup of that PInput:"
   ]
  },
  {
   "cell_type": "code",
   "execution_count": 11,
   "id": "72757f7c",
   "metadata": {},
   "outputs": [
    {
     "data": {
      "text/plain": [
       "54.5"
      ]
     },
     "execution_count": 11,
     "metadata": {},
     "output_type": "execute_result"
    }
   ],
   "source": [
    "(51+58)/2"
   ]
  },
  {
   "cell_type": "code",
   "execution_count": 10,
   "id": "62e8f76a",
   "metadata": {},
   "outputs": [
    {
     "data": {
      "text/plain": [
       "1.9464285714285714"
      ]
     },
     "execution_count": 10,
     "metadata": {},
     "output_type": "execute_result"
    }
   ],
   "source": [
    "(51+58) / (27 + 29)"
   ]
  },
  {
   "cell_type": "markdown",
   "id": "ea636050",
   "metadata": {},
   "source": [
    "2x. worth the extra complexity? eh, sure."
   ]
  },
  {
   "cell_type": "markdown",
   "id": "a033f287",
   "metadata": {},
   "source": [
    "Otoh, what do when less than 6500 inputs.\n",
    "Say, 100 inh, 400 exc.\n",
    "Or, 10 inh, 40 exc.\n",
    "(ok, sol is simple, you take max)"
   ]
  },
  {
   "cell_type": "markdown",
   "id": "bbad9b10",
   "metadata": {},
   "source": [
    "---\n",
    "\n",
    "2023-08-14, after clearing cython cache:\n",
    "- 47.2 s wall time for `Nto1_merged()` (and `store`)\n",
    "- 3 min 35 s (215 s) wall time for `restore` & `run`\n",
    "- 20 s reported sim time"
   ]
  },
  {
   "cell_type": "code",
   "execution_count": 8,
   "id": "bc55e275",
   "metadata": {},
   "outputs": [
    {
     "data": {
      "text/plain": [
       "242.2"
      ]
     },
     "execution_count": 8,
     "metadata": {},
     "output_type": "execute_result"
    }
   ],
   "source": [
    "215+47.2-20"
   ]
  },
  {
   "cell_type": "markdown",
   "id": "1f45c967",
   "metadata": {},
   "source": [
    "Maybe we should compile a small other network, to warm up that cython cache."
   ]
  },
  {
   "cell_type": "markdown",
   "id": "5d0cb9dd",
   "metadata": {},
   "source": [
    "(Did that for first network, see above)"
   ]
  },
  {
   "cell_type": "markdown",
   "id": "bba56fba",
   "metadata": {},
   "source": [
    "---\n",
    "2023-08-14, with above two nets (the warmup, and the all_simmed) in cache:\n",
    "- 38.1 s s wall time for `Nto1_merged()` (and `store`)\n",
    "- 3min 25 s (205 s) wall time for `restore` & `run` (yes, same, again)\n",
    "- 19 s reported sim time"
   ]
  },
  {
   "cell_type": "code",
   "execution_count": 13,
   "id": "c43bacca",
   "metadata": {},
   "outputs": [
    {
     "data": {
      "text/plain": [
       "224.1"
      ]
     },
     "execution_count": 13,
     "metadata": {},
     "output_type": "execute_result"
    }
   ],
   "source": [
    "38.1+205-19"
   ]
  },
  {
   "cell_type": "markdown",
   "id": "45e45c82",
   "metadata": {},
   "source": [
    "So again, having the other (all_simmed) net in cache, didn't help very much here."
   ]
  },
  {
   "cell_type": "markdown",
   "id": "94bc0d16",
   "metadata": {},
   "source": [
    "---\n",
    "2023-08-15 (w/ CPU in best performance mode (not battery saver). Cython cache cleared, no warmup net):\n",
    "- 12.9 s s wall time for `Nto1_merged()` (and `store`)\n",
    "- 84 s wall time for `restore` & `run`\n",
    "- 11 s reported sim time (yes same as all_simmed, now)"
   ]
  },
  {
   "cell_type": "code",
   "execution_count": 8,
   "id": "ff55557c",
   "metadata": {},
   "outputs": [
    {
     "data": {
      "text/plain": [
       "85.9"
      ]
     },
     "execution_count": 8,
     "metadata": {},
     "output_type": "execute_result"
    }
   ],
   "source": [
    "12.9+84-11"
   ]
  },
  {
   "cell_type": "markdown",
   "id": "eee3071f",
   "metadata": {},
   "source": [
    "## "
   ]
  },
  {
   "cell_type": "markdown",
   "id": "0b42fdda",
   "metadata": {},
   "source": [
    "---"
   ]
  },
  {
   "cell_type": "markdown",
   "id": "f16e10dc",
   "metadata": {},
   "source": [
    "How 'bout Julia?"
   ]
  },
  {
   "cell_type": "markdown",
   "id": "216af137",
   "metadata": {},
   "source": [
    "See notebook `2023-08-02__Julia_speedtest_AdEx_Nto1`.\\\n",
    "Simulating all 6500 inputs for 10 seconds, we have a sim time of 0.7 seconds.  \n",
    "(10 minutes takes 9 seconds).  \n",
    "I.e. 25x as fast as Brian2 w/ Cython (18 sec)."
   ]
  },
  {
   "cell_type": "markdown",
   "id": "88fa618f",
   "metadata": {},
   "source": [
    "What about Brian's standalone mode? i.e. no python for main loop; generate a C++ proj."
   ]
  },
  {
   "cell_type": "markdown",
   "id": "315fc392",
   "metadata": {},
   "source": [
    "(does that work with changing params in a loop? (i.e. seed, we))"
   ]
  },
  {
   "cell_type": "markdown",
   "id": "e56a67c1",
   "metadata": {},
   "source": [
    "See `2023-08-02__speedtest_brian_standalone_AdEx_Nto1`.  \\\n",
    "Also < 1 sec."
   ]
  },
  {
   "cell_type": "markdown",
   "id": "3a688fe4",
   "metadata": {},
   "source": [
    "With `time ./main.exe`: ~0.5 seconds."
   ]
  },
  {
   "cell_type": "markdown",
   "id": "74f8dec8",
   "metadata": {},
   "source": [
    "Note that that is the one w/ merged inputs.\n",
    "\n",
    "Without: 8 seconds. Interesting."
   ]
  },
  {
   "cell_type": "code",
   "execution_count": null,
   "id": "55c4bbf6",
   "metadata": {},
   "outputs": [],
   "source": []
  }
 ],
 "metadata": {
  "jupytext": {
   "formats": "ipynb,py:light"
  },
  "kernelspec": {
   "display_name": "Python 3 (ipykernel)",
   "language": "python",
   "name": "python3"
  },
  "language_info": {
   "codemirror_mode": {
    "name": "ipython",
    "version": 3
   },
   "file_extension": ".py",
   "mimetype": "text/x-python",
   "name": "python",
   "nbconvert_exporter": "python",
   "pygments_lexer": "ipython3",
   "version": "3.11.0"
  },
  "toc": {
   "base_numbering": 1,
   "nav_menu": {},
   "number_sections": false,
   "sideBar": false,
   "skip_h1_title": true,
   "title_cell": "Table of Contents",
   "title_sidebar": "Contents",
   "toc_cell": false,
   "toc_position": {},
   "toc_section_display": true,
   "toc_window_display": false
  }
 },
 "nbformat": 4,
 "nbformat_minor": 5
}
