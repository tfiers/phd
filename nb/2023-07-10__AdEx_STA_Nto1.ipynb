{
 "cells": [
  {
   "cell_type": "markdown",
   "id": "824a70ab",
   "metadata": {},
   "source": [
    "# 2023-07-10__AdEx_STA_Nto1"
   ]
  },
  {
   "cell_type": "code",
   "execution_count": 33,
   "id": "d1d1a0c8",
   "metadata": {},
   "outputs": [],
   "source": [
    "%run lib/neuron.py"
   ]
  },
  {
   "cell_type": "code",
   "execution_count": 34,
   "id": "2dad5644",
   "metadata": {},
   "outputs": [
    {
     "data": {
      "text/plain": [
       "1.0862943611198905"
      ]
     },
     "execution_count": 34,
     "metadata": {},
     "output_type": "execute_result"
    }
   ],
   "source": [
    "μₓ = 4 * Hz\n",
    "σ = sqrt(0.6)\n",
    "μ = log(μₓ / Hz) - σ**2 / 2"
   ]
  },
  {
   "cell_type": "code",
   "execution_count": 35,
   "id": "d459bc3e",
   "metadata": {},
   "outputs": [],
   "source": [
    "def Nto1(N = 6500):\n",
    "    \n",
    "    Ne = N * 4//5\n",
    "    \n",
    "    n = COBA_AdEx_neuron()\n",
    "    \n",
    "    rates = lognormal(μ, σ, N) * Hz;\n",
    "    P = PoissonGroup(N, rates)\n",
    "    \n",
    "    Se = Synapses(P, n, on_pre=\"ge += we\")\n",
    "    Si = Synapses(P, n, on_pre=\"gi += wi\")\n",
    "    Se.connect(\"i < Ne\")\n",
    "    Si.connect(\"i >= Ne\")\n",
    "    \n",
    "    M = StateMonitor(n, [\"V\"], record=[0])\n",
    "    S = SpikeMonitor(n)\n",
    "    SP = SpikeMonitor(P)\n",
    "    \n",
    "    objs = [n, P, Se, Si, M, S, SP]\n",
    "    return *objs, Network(objs)"
   ]
  },
  {
   "cell_type": "code",
   "execution_count": 36,
   "id": "6d8e2c63",
   "metadata": {},
   "outputs": [],
   "source": [
    "n, P, Se, Si, M, S, SP, net = Nto1()\n",
    "net.store()"
   ]
  },
  {
   "cell_type": "code",
   "execution_count": 59,
   "id": "ebe52564",
   "metadata": {},
   "outputs": [
    {
     "name": "stdout",
     "output_type": "stream",
     "text": [
      "Starting simulation at t=0. s for a duration of 10. s\n",
      "2.963 s (29%) simulated in 10s, estimated 24s remaining.\n",
      "6.449 s (64%) simulated in 20s, estimated 11s remaining.\n",
      "9.5836 s (95%) simulated in 30s, estimated 1s remaining.\n",
      "10. s (100%) simulated in 31s\n"
     ]
    }
   ],
   "source": [
    "net.restore()\n",
    "we = 14 * pS\n",
    "wi = 4 * we\n",
    "T = 10 * second\n",
    "net.run(T, report='text')"
   ]
  },
  {
   "cell_type": "code",
   "execution_count": 60,
   "id": "e3f0e419",
   "metadata": {},
   "outputs": [
    {
     "name": "stdout",
     "output_type": "stream",
     "text": [
      "Starting simulation at t=0. s for a duration of 1. s\n",
      "1. s (100%) simulated in 3s\n",
      "Starting simulation at t=0. s for a duration of 1. s\n",
      "1. s (100%) simulated in 3s\n",
      "Starting simulation at t=0. s for a duration of 1. s\n",
      "1. s (100%) simulated in 3s\n",
      "Starting simulation at t=0. s for a duration of 1. s\n",
      "1. s (100%) simulated in 2s\n"
     ]
    }
   ],
   "source": [
    "ws = [14 * pS, 20 * pS]\n",
    "\n",
    "T = 1 * second\n",
    "data = []\n",
    "for we in ws:\n",
    "    wi = 4 * we\n",
    "    for s in range(2):\n",
    "        seed(s)\n",
    "        net.restore()\n",
    "        net.run(T, report='text')\n",
    "        v = ceil_spikes(M, S)\n",
    "        d = dict(\n",
    "            we   = we,\n",
    "            seed = s,\n",
    "            median_Vm   = median(v),\n",
    "            output_rate = S.num_spikes / T,\n",
    "        )\n",
    "        data.append(d)"
   ]
  },
  {
   "cell_type": "code",
   "execution_count": 61,
   "id": "6b9fe138",
   "metadata": {},
   "outputs": [],
   "source": [
    "import pandas as pd"
   ]
  },
  {
   "cell_type": "code",
   "execution_count": 58,
   "id": "cccc7c51",
   "metadata": {},
   "outputs": [
    {
     "data": {
      "text/html": [
       "<div>\n",
       "<style scoped>\n",
       "    .dataframe tbody tr th:only-of-type {\n",
       "        vertical-align: middle;\n",
       "    }\n",
       "\n",
       "    .dataframe tbody tr th {\n",
       "        vertical-align: top;\n",
       "    }\n",
       "\n",
       "    .dataframe thead th {\n",
       "        text-align: right;\n",
       "    }\n",
       "</style>\n",
       "<table border=\"1\" class=\"dataframe\">\n",
       "  <thead>\n",
       "    <tr style=\"text-align: right;\">\n",
       "      <th></th>\n",
       "      <th>we</th>\n",
       "      <th>seed</th>\n",
       "      <th>median_Vm</th>\n",
       "      <th>output_rate</th>\n",
       "    </tr>\n",
       "  </thead>\n",
       "  <tbody>\n",
       "    <tr>\n",
       "      <th>0</th>\n",
       "      <td>14. pS</td>\n",
       "      <td>0</td>\n",
       "      <td>-53.67539721 mV</td>\n",
       "      <td>4. Hz</td>\n",
       "    </tr>\n",
       "    <tr>\n",
       "      <th>1</th>\n",
       "      <td>14. pS</td>\n",
       "      <td>1</td>\n",
       "      <td>-54.14036033 mV</td>\n",
       "      <td>4. Hz</td>\n",
       "    </tr>\n",
       "    <tr>\n",
       "      <th>2</th>\n",
       "      <td>20. pS</td>\n",
       "      <td>0</td>\n",
       "      <td>-53.75508981 mV</td>\n",
       "      <td>8. Hz</td>\n",
       "    </tr>\n",
       "    <tr>\n",
       "      <th>3</th>\n",
       "      <td>20. pS</td>\n",
       "      <td>1</td>\n",
       "      <td>-53.91442911 mV</td>\n",
       "      <td>8. Hz</td>\n",
       "    </tr>\n",
       "  </tbody>\n",
       "</table>\n",
       "</div>"
      ],
      "text/plain": [
       "       we  seed        median_Vm output_rate\n",
       "0  14. pS     0  -53.67539721 mV       4. Hz\n",
       "1  14. pS     1  -54.14036033 mV       4. Hz\n",
       "2  20. pS     0  -53.75508981 mV       8. Hz\n",
       "3  20. pS     1  -53.91442911 mV       8. Hz"
      ]
     },
     "execution_count": 58,
     "metadata": {},
     "output_type": "execute_result"
    }
   ],
   "source": [
    "df = pd.DataFrame(data)"
   ]
  },
  {
   "cell_type": "code",
   "execution_count": null,
   "id": "7a084070",
   "metadata": {},
   "outputs": [],
   "source": []
  },
  {
   "cell_type": "code",
   "execution_count": null,
   "id": "5e5f1976",
   "metadata": {},
   "outputs": [],
   "source": []
  },
  {
   "cell_type": "code",
   "execution_count": null,
   "id": "1d0ee7fa",
   "metadata": {},
   "outputs": [],
   "source": []
  },
  {
   "cell_type": "code",
   "execution_count": null,
   "id": "c2627094",
   "metadata": {},
   "outputs": [],
   "source": []
  },
  {
   "cell_type": "code",
   "execution_count": 14,
   "id": "52d30fb5",
   "metadata": {},
   "outputs": [],
   "source": [
    "from julia import Base"
   ]
  },
  {
   "cell_type": "code",
   "execution_count": 15,
   "id": "7ae4605e",
   "metadata": {},
   "outputs": [
    {
     "data": {
      "text/plain": [
       "0.9893582466233818"
      ]
     },
     "execution_count": 15,
     "metadata": {},
     "output_type": "execute_result"
    }
   ],
   "source": [
    "Base.sin(8)"
   ]
  },
  {
   "cell_type": "code",
   "execution_count": null,
   "id": "266e02a5",
   "metadata": {},
   "outputs": [],
   "source": []
  }
 ],
 "metadata": {
  "kernelspec": {
   "display_name": "Python 3 (ipykernel)",
   "language": "python",
   "name": "python3"
  },
  "language_info": {
   "codemirror_mode": {
    "name": "ipython",
    "version": 3
   },
   "file_extension": ".py",
   "mimetype": "text/x-python",
   "name": "python",
   "nbconvert_exporter": "python",
   "pygments_lexer": "ipython3",
   "version": "3.11.0"
  },
  "toc": {
   "base_numbering": 1,
   "nav_menu": {},
   "number_sections": false,
   "sideBar": false,
   "skip_h1_title": true,
   "title_cell": "Table of Contents",
   "title_sidebar": "Contents",
   "toc_cell": false,
   "toc_position": {},
   "toc_section_display": true,
   "toc_window_display": false
  }
 },
 "nbformat": 4,
 "nbformat_minor": 5
}
