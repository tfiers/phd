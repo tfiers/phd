{
 "cells": [
  {
   "cell_type": "markdown",
   "id": "758ab850",
   "metadata": {},
   "source": [
    "# 2023-08-02__Julia_speedtest_AdEx_Nto1"
   ]
  },
  {
   "cell_type": "markdown",
   "id": "ce905cb3",
   "metadata": {},
   "source": [
    "(We're reusing code from `2023-02-24__multisim-winline.jl` and `2023-03-14__[setup]_Nto1_sim_AdEx.jl`)."
   ]
  },
  {
   "cell_type": "code",
   "execution_count": 9,
   "id": "49cb61c6",
   "metadata": {},
   "outputs": [
    {
     "name": "stdout",
     "output_type": "stream",
     "text": [
      "Your branch is up to date with 'origin/metdeklak'.\n"
     ]
    },
    {
     "name": "stderr",
     "output_type": "stream",
     "text": [
      "Already on 'metdeklak'\n"
     ]
    }
   ],
   "source": [
    "cd(joinpath(homedir(), \"phd\", \"pkg\" , \"SpikeWorks\"))\n",
    "run(`git switch metdeklak`);"
   ]
  },
  {
   "cell_type": "code",
   "execution_count": 10,
   "id": "ea031c7b",
   "metadata": {},
   "outputs": [
    {
     "name": "stderr",
     "output_type": "stream",
     "text": [
      "\u001b[32m\u001b[1m  Activating\u001b[22m\u001b[39m project at `C:\\Users\\tfiers\\phd`\n"
     ]
    }
   ],
   "source": [
    "cd(joinpath(homedir(), \"phd\"))\n",
    "Pkg.activate(\".\")"
   ]
  },
  {
   "cell_type": "code",
   "execution_count": 11,
   "id": "8199bc24",
   "metadata": {
    "scrolled": true
   },
   "outputs": [
    {
     "name": "stdout",
     "output_type": "stream",
     "text": [
      "\u001b[32m\u001b[1mStatus\u001b[22m\u001b[39m `C:\\Users\\tfiers\\phd\\Project.toml`\n",
      "\u001b[32m⌃\u001b[39m \u001b[90m[1520ce14] \u001b[39mAbstractTrees v0.4.3\n",
      "\u001b[32m⌃\u001b[39m \u001b[90m[336ed68f] \u001b[39mCSV v0.10.9\n",
      "  \u001b[90m[8be319e6] \u001b[39mChain v0.5.0\n",
      "\u001b[32m⌃\u001b[39m \u001b[90m[da1fd8a2] \u001b[39mCodeTracking v1.2.0\n",
      "\u001b[32m⌃\u001b[39m \u001b[90m[b0b7db55] \u001b[39mComponentArrays v0.13.6\n",
      "\u001b[32m⌃\u001b[39m \u001b[90m[8f4d0f93] \u001b[39mConda v1.7.0\n",
      "  \u001b[90m[03fa6f02] \u001b[39mConnTestEval v0.1.0 `pkg\\ConnTestEval`\n",
      "  \u001b[90m[4ec9db02] \u001b[39mConnectionTests v0.1.0 `pkg\\ConnectionTests.jl`\n",
      "\u001b[32m⌃\u001b[39m \u001b[90m[f68482b8] \u001b[39mCthulhu v2.7.6\n",
      "\u001b[32m⌃\u001b[39m \u001b[90m[a93c6f00] \u001b[39mDataFrames v1.4.4\n",
      "\u001b[32m⌃\u001b[39m \u001b[90m[1313f7d8] \u001b[39mDataFramesMeta v0.12.0\n",
      "\u001b[32m⌃\u001b[39m \u001b[90m[864edb3b] \u001b[39mDataStructures v0.18.13\n",
      "  \u001b[90m[31a5f54b] \u001b[39mDebugger v0.7.8\n",
      "  \u001b[90m[019de50b] \u001b[39mDistributedLoopMonitor v0.1.0 `pkg\\DistributedLoopMonitor`\n",
      "\u001b[32m⌃\u001b[39m \u001b[90m[31c24e10] \u001b[39mDistributions v0.25.80\n",
      "  \u001b[90m[48062228] \u001b[39mFilePathsBase v0.9.20\n",
      "\u001b[32m⌃\u001b[39m \u001b[90m[f6369f11] \u001b[39mForwardDiff v0.10.34\n",
      "  \u001b[90m[4356e881] \u001b[39mGlobalMacros v0.1.0 `pkg\\GlobalMacros`\n",
      "  \u001b[90m[4c0ca9eb] \u001b[39mGtk v1.3.0\n",
      "\u001b[32m⌃\u001b[39m \u001b[90m[7073ff75] \u001b[39mIJulia v1.24.0\n",
      "\u001b[32m⌃\u001b[39m \u001b[90m[033835bb] \u001b[39mJLD2 v0.4.29\n",
      "  \u001b[90m[984bce1d] \u001b[39mLambertW v0.4.6\n",
      "\u001b[32m⌃\u001b[39m \u001b[90m[23fbe1c1] \u001b[39mLatexify v0.15.18\n",
      "  \u001b[90m[2fda8390] \u001b[39mLsqFit v0.13.0 `https://github.com/JuliaNLSolvers/LsqFit.jl#e9b9e8732`\n",
      "  \u001b[90m[1914dd2f] \u001b[39mMacroTools v0.5.10\n",
      "  \u001b[90m[40c6d27e] \u001b[39mMemDiskCache v0.1.0 `pkg\\MemDiskCache`\n",
      "\u001b[32m⌃\u001b[39m \u001b[90m[6fafb56a] \u001b[39mMemoization v0.2.0\n",
      "  \u001b[90m[54cd1024] \u001b[39mMyToolbox v0.1.0 `pkg\\MyToolbox`\n",
      "  \u001b[90m[d96e819e] \u001b[39mParameters v0.12.3\n",
      "  \u001b[90m[570af359] \u001b[39mPartialFunctions v1.1.1\n",
      "  \u001b[90m[3ec2fb83] \u001b[39mPhDPlots v0.1.0 `pkg\\PhDPlots`\n",
      "\u001b[32m⌃\u001b[39m \u001b[90m[08abe8d2] \u001b[39mPrettyTables v2.2.3\n",
      "\u001b[32m⌃\u001b[39m \u001b[90m[c46f51b8] \u001b[39mProfileView v1.5.2\n",
      "  \u001b[90m[92933f4c] \u001b[39mProgressMeter v1.7.2\n",
      "\u001b[32m⌃\u001b[39m \u001b[90m[438e738f] \u001b[39mPyCall v1.95.1\n",
      "\u001b[32m⌃\u001b[39m \u001b[90m[d330b81b] \u001b[39mPyPlot v2.11.0\n",
      "\u001b[32m⌃\u001b[39m \u001b[90m[295af30f] \u001b[39mRevise v3.5.0\n",
      "  \u001b[90m[61be95e5] \u001b[39mSciplotlib v0.1.0 `pkg\\Sciplotlib`\n",
      "\u001b[32m⌃\u001b[39m \u001b[90m[aa65fe97] \u001b[39mSnoopCompile v2.9.7\n",
      "\u001b[33m⌅\u001b[39m \u001b[90m[e2b509da] \u001b[39mSnoopCompileCore v2.9.0\n",
      "\u001b[32m⌃\u001b[39m \u001b[90m[66db9d55] \u001b[39mSnoopPrecompile v1.0.1\n",
      "  \u001b[90m[fe4ab31d] \u001b[39mSpikeWorks v0.1.0 `pkg\\SpikeWorks`\n",
      "\u001b[33m⌅\u001b[39m \u001b[90m[2913bbd2] \u001b[39mStatsBase v0.33.21\n",
      "\u001b[32m⌃\u001b[39m \u001b[90m[4c63d2b9] \u001b[39mStatsFuns v1.1.1\n",
      "\u001b[32m⌃\u001b[39m \u001b[90m[09ab397b] \u001b[39mStructArrays v0.6.14\n",
      "\u001b[32m⌃\u001b[39m \u001b[90m[fd094767] \u001b[39mSuppressor v0.2.1\n",
      "\u001b[32m⌃\u001b[39m \u001b[90m[bd369af6] \u001b[39mTables v1.10.0\n",
      "\u001b[32m⌃\u001b[39m \u001b[90m[5d786b92] \u001b[39mTerminalLoggers v0.1.6\n",
      "\u001b[32m⌃\u001b[39m \u001b[90m[4239201d] \u001b[39mThreadSafeDicts v0.1.0\n",
      "\u001b[32m⌃\u001b[39m \u001b[90m[b8865327] \u001b[39mUnicodePlots v3.4.1\n",
      "\u001b[32m⌃\u001b[39m \u001b[90m[1986cc42] \u001b[39mUnitful v1.12.2\n",
      "  \u001b[90m[5f9f03f5] \u001b[39mUnits v0.1.0 `pkg\\Units`\n",
      "  \u001b[90m[5e413c25] \u001b[39mWithFeedback v0.1.0 `pkg\\WithFeedback`\n",
      "\u001b[36m\u001b[1mInfo\u001b[22m\u001b[39m Packages marked with \u001b[32m⌃\u001b[39m and \u001b[33m⌅\u001b[39m have new versions available, but those with \u001b[33m⌅\u001b[39m are restricted by compatibility constraints from upgrading. To see why use `status --outdated`\n"
     ]
    }
   ],
   "source": [
    "]st"
   ]
  },
  {
   "cell_type": "code",
   "execution_count": 12,
   "id": "9fa26e35",
   "metadata": {},
   "outputs": [],
   "source": [
    "using WithFeedback"
   ]
  },
  {
   "cell_type": "code",
   "execution_count": 15,
   "id": "7ac04b42",
   "metadata": {},
   "outputs": [
    {
     "name": "stdout",
     "output_type": "stream",
     "text": [
      "using SpikeWorks … "
     ]
    },
    {
     "name": "stderr",
     "output_type": "stream",
     "text": [
      "\u001b[36m\u001b[1m[ \u001b[22m\u001b[39m\u001b[36m\u001b[1mInfo: \u001b[22m\u001b[39mPrecompiling SpikeWorks [fe4ab31d-2284-4e18-9761-4109e720cf88]\n"
     ]
    },
    {
     "name": "stdout",
     "output_type": "stream",
     "text": [
      "✔ (5.3 s)\n",
      "using SpikeWorks.Units … ✔ (1.5 s)\n"
     ]
    }
   ],
   "source": [
    "@withfb using SpikeWorks\n",
    "@withfb using SpikeWorks.Units"
   ]
  },
  {
   "cell_type": "code",
   "execution_count": 17,
   "id": "2e2e42fe",
   "metadata": {},
   "outputs": [],
   "source": [
    "@typed begin\n",
    "    # AdEx LIF neuron params (cortical RS)\n",
    "    C  = 104  * pF\n",
    "    gₗ = 4.3  * nS\n",
    "    Eₗ = -65  * mV\n",
    "    Vₜ = -52  * mV\n",
    "    Δₜ = 0.8  * mV\n",
    "    Vₛ =   0  * mV\n",
    "    Vᵣ = -53  * mV\n",
    "    a  = -0.8 * nS\n",
    "    b  =  65  * pA\n",
    "    τw =  88  * ms\n",
    "    # Conductance-based synapses\n",
    "    Eₑ =   0 * mV\n",
    "    Eᵢ = -80 * mV\n",
    "    τ  =   7 * ms\n",
    "end;"
   ]
  },
  {
   "cell_type": "markdown",
   "id": "c05ae6e8",
   "metadata": {},
   "source": [
    "### Simulated variables and their initial values"
   ]
  },
  {
   "cell_type": "code",
   "execution_count": 38,
   "id": "47f435a1",
   "metadata": {},
   "outputs": [
    {
     "data": {
      "text/plain": [
       "(v = -0.065, w = 0.0, gₑ = 0.0, gᵢ = 0.0)"
      ]
     },
     "execution_count": 38,
     "metadata": {},
     "output_type": "execute_result"
    }
   ],
   "source": [
    "const x₀ = (\n",
    "    # AdEx variables\n",
    "    v   = Eₗ,      # Membrane potential\n",
    "    w   = 0 * pA,  # Adaptation current\n",
    "    # Synaptic conductances g\n",
    "    gₑ  = 0 * nS,  # = Sum over all exc. synapses\n",
    "    gᵢ  = 0 * nS,  # = Sum over all inh. synapses\n",
    ")"
   ]
  },
  {
   "cell_type": "markdown",
   "id": "45204cee",
   "metadata": {},
   "source": [
    "### Differential equations:\n",
    "calculate time derivatives of simulated vars  \n",
    "(and store them \"in-place\", in `Dₜ`)."
   ]
  },
  {
   "cell_type": "code",
   "execution_count": 39,
   "id": "9e894e33",
   "metadata": {},
   "outputs": [],
   "source": [
    "function f!(Dₜ, vars)\n",
    "    v, w, gₑ, gᵢ = vars\n",
    "\n",
    "    # Conductance-based synaptic current\n",
    "    Iₛ = gₑ*(v-Eₑ) + gᵢ*(v-Eᵢ)\n",
    "\n",
    "    # AdEx 2D system\n",
    "    Dₜ.v = (-gₗ*(v-Eₗ) + gₗ*Δₜ*exp((v-Vₜ)/Δₜ) - Iₛ - w) / C\n",
    "    Dₜ.w = (a*(v-Eₗ) - w) / τw\n",
    "\n",
    "    # Synaptic conductance decay\n",
    "    Dₜ.gₑ = -gₑ / τ\n",
    "    Dₜ.gᵢ = -gᵢ / τ\n",
    "end;"
   ]
  },
  {
   "cell_type": "markdown",
   "id": "431279bf",
   "metadata": {},
   "source": [
    "### Spike discontinuity"
   ]
  },
  {
   "cell_type": "code",
   "execution_count": 40,
   "id": "2c5e1459",
   "metadata": {},
   "outputs": [],
   "source": [
    "has_spiked(vars) = (vars.v > Vₛ)\n",
    "\n",
    "function on_self_spike!(vars)\n",
    "    vars.v = Vᵣ\n",
    "    vars.w += b\n",
    "end;"
   ]
  },
  {
   "cell_type": "markdown",
   "id": "cd1ada3b",
   "metadata": {},
   "source": [
    "### Conductance-based AdEx neuron"
   ]
  },
  {
   "cell_type": "code",
   "execution_count": 41,
   "id": "336ca848",
   "metadata": {},
   "outputs": [],
   "source": [
    "const coba_adex_neuron = NeuronModel(x₀, f!; has_spiked, on_self_spike!);"
   ]
  },
  {
   "cell_type": "markdown",
   "id": "6630bc63",
   "metadata": {},
   "source": [
    "### More parameters, and input spikers"
   ]
  },
  {
   "cell_type": "code",
   "execution_count": 43,
   "id": "c04292e9",
   "metadata": {},
   "outputs": [],
   "source": [
    "using SpikeWorks: LogNormal\n",
    "\n",
    "# Firing rates λ for the Poisson inputs\n",
    "const fr_distr = LogNormal(median = 4Hz, g = 2)\n",
    "\n",
    "@typed begin\n",
    "    Δt = 0.1ms\n",
    "    EIratio = 4//1\n",
    "end;"
   ]
  },
  {
   "cell_type": "code",
   "execution_count": 44,
   "id": "845bbc18",
   "metadata": {},
   "outputs": [
    {
     "data": {
      "text/plain": [
       "EIMix of 6500 neurons\n",
       "- 5200 excitatory (80%)\n",
       "- 1300 inhibitory (20%)\n",
       "- 4:1 EI-ratio\n"
      ]
     },
     "execution_count": 44,
     "metadata": {},
     "output_type": "execute_result"
    }
   ],
   "source": [
    "N = 6500\n",
    "δ_nS = 0.02\n",
    "(; Nₑ, Nᵢ) = EIMix(N, EIratio)"
   ]
  },
  {
   "cell_type": "code",
   "execution_count": 45,
   "id": "9fe6ffb4",
   "metadata": {},
   "outputs": [
    {
     "data": {
      "text/plain": [
       "600.0"
      ]
     },
     "execution_count": 45,
     "metadata": {},
     "output_type": "execute_result"
    }
   ],
   "source": [
    "duration = 10*minutes"
   ]
  },
  {
   "cell_type": "code",
   "execution_count": 46,
   "id": "8f85ad68",
   "metadata": {},
   "outputs": [],
   "source": [
    "firing_rates = rand(fr_distr, N)\n",
    "input_IDs = 1:N\n",
    "inputs = [\n",
    "    Nto1Input(ID, poisson_SpikeTrain(λ, duration))\n",
    "    for (ID, λ) in zip(input_IDs, firing_rates)\n",
    "];"
   ]
  },
  {
   "cell_type": "code",
   "execution_count": 47,
   "id": "47c5dc56",
   "metadata": {},
   "outputs": [
    {
     "data": {
      "text/plain": [
       "8.000000000000001e-11"
      ]
     },
     "execution_count": 47,
     "metadata": {},
     "output_type": "execute_result"
    }
   ],
   "source": [
    "neuron_type(ID) = (ID ≤ Nₑ) ? :exc : :inh\n",
    "Δgₑ = δ_nS * nS\n",
    "Δgᵢ = δ_nS * nS * EIratio"
   ]
  },
  {
   "cell_type": "code",
   "execution_count": 48,
   "id": "c27e713c",
   "metadata": {},
   "outputs": [],
   "source": [
    "using Random\n",
    "Random.seed!(1);"
   ]
  },
  {
   "cell_type": "code",
   "execution_count": 49,
   "id": "df8a604e",
   "metadata": {},
   "outputs": [],
   "source": [
    "on_spike_arrival!(vars, spike) =\n",
    "    if neuron_type(source(spike)) == :exc\n",
    "        vars.gₑ += Δgₑ\n",
    "    else\n",
    "        vars.gᵢ += Δgᵢ\n",
    "    end;"
   ]
  },
  {
   "cell_type": "code",
   "execution_count": 55,
   "id": "94a2767b",
   "metadata": {},
   "outputs": [
    {
     "data": {
      "text/plain": []
     },
     "execution_count": 55,
     "metadata": {},
     "output_type": "execute_result"
    },
    {
     "name": "stdout",
     "output_type": "stream",
     "text": [
      "SpikeWorks.Simulation\u001b[90m{\u001b[39m\u001b[90mNto1System{NeuronModel{NamedTuple{(:v, :w, :gₑ, :gᵢ), NTuple{4, Float64}}, typeof(f!), typeof(has_spiked), typeof(on_self_spike!)}, typeof(on_spike_arrival!)}, CVec{(:v, :w, :gₑ, :gᵢ)}}\u001b[39m\n",
      "\u001b[90mSummary: \u001b[39mnot started\n",
      "\u001b[90mProperties: \u001b[39m\n",
      "       system: Nto1System, x₀: (v = -0.065, w = 0.0, gₑ = 0.0, gᵢ = 0.0), input feed: 0/19847270 spikes processed\n",
      "           Δt: 0.0001\n",
      "     duration: 600.0\n",
      "  stepcounter: 0/6000000\n",
      "        state: t = 0 seconds, neuron = \u001b[90mvars: \u001b[39m(\u001b[90mv: \u001b[39m-0.065, \u001b[90mw: \u001b[39m0.0, \u001b[90mgₑ: \u001b[39m0.0, \u001b[90mgᵢ: \u001b[39m0.0), \u001b[90mDₜvars: \u001b[39m(\u001b[90mv: \u001b[39m0.0, \u001b[90mw: \u001b[39m0.0, \u001b[90mgₑ: \u001b[39m0.0, \u001b[90mgᵢ: \u001b[39m0.0)\n",
      "          rec: \u001b[90mv: \u001b[39m[0.0, 0.0, 0.0, 0.0, 0.0, 0.0, 0.0, 0.0, 0.0, 0.0  …  0.0, 0.0, 0.0, 0.0, 0.0, 0.0, 0.0, 0.0, 0.0, 0.0], \u001b[90mspiketimes: \u001b[39mFloat64[]\n"
     ]
    }
   ],
   "source": [
    "using SpikeWorks: newsim, run!\n",
    "\n",
    "sim = newsim(coba_adex_neuron, inputs, on_spike_arrival!, Δt)"
   ]
  },
  {
   "cell_type": "code",
   "execution_count": 56,
   "id": "04a7dc54",
   "metadata": {},
   "outputs": [
    {
     "name": "stdout",
     "output_type": "stream",
     "text": [
      "  9.063747 seconds (95.55 M allocations: 2.854 GiB, 14.09% gc time)\n"
     ]
    },
    {
     "data": {
      "text/plain": []
     },
     "execution_count": 56,
     "metadata": {},
     "output_type": "execute_result"
    },
    {
     "name": "stdout",
     "output_type": "stream",
     "text": [
      "SpikeWorks.Simulation\u001b[90m{\u001b[39m\u001b[90mNto1System{NeuronModel{NamedTuple{(:v, :w, :gₑ, :gᵢ), NTuple{4, Float64}}, typeof(f!), typeof(has_spiked), typeof(on_self_spike!)}, typeof(on_spike_arrival!)}, CVec{(:v, :w, :gₑ, :gᵢ)}}\u001b[39m\n",
      "\u001b[90mSummary: \u001b[39mcompleted. 10 spikes/s\n",
      "\u001b[90mProperties: \u001b[39m\n",
      "       system: Nto1System, x₀: (v = -0.065, w = 0.0, gₑ = 0.0, gᵢ = 0.0), input feed: all 19847270 spikes processed\n",
      "           Δt: 0.0001\n",
      "     duration: 600.0\n",
      "  stepcounter: 6000000 (complete)\n",
      "        state: t = 600 seconds, neuron = \u001b[90mvars: \u001b[39m(\u001b[90mv: \u001b[39m-0.054943, \u001b[90mw: \u001b[39m6.43374e-11, \u001b[90mgₑ: \u001b[39m3.76597e-9, \u001b[90mgᵢ: \u001b[39m3.13911e-9), \u001b[90mDₜvars: \u001b[39m(\u001b[90mv: \u001b[39m0.21907, \u001b[90mw: \u001b[39m-8.2327e-10, \u001b[90mgₑ: \u001b[39m-5.45792e-7, \u001b[90mgᵢ: \u001b[39m-4.54944e-7)\n",
      "          rec: \u001b[90mv: \u001b[39m[-0.0649975, -0.0649912, -0.0649824, -0.0649724, -0.0649625, -0.0649466, -0.0649234, -0.0649006, -0.0648757, -0.0648524  …  -0.0551448, -0.0551268, -0.0551054, -0.0550817, -0.0550596, -0.05504, -0.055016, -0.0549895, -0.0549649, -0.054943], \u001b[90mspiketimes: \u001b[39m[0.0272, 0.0941, 0.1877, 0.2649, 0.3973, 0.5414, 0.6157, 0.7515, 0.8477, 0.9215  …  599.118, 599.236, 599.298, 599.398, 599.489, 599.605, 599.678, 599.773, 599.884, 599.975]\n"
     ]
    }
   ],
   "source": [
    "@time run!(sim)"
   ]
  },
  {
   "cell_type": "code",
   "execution_count": 58,
   "id": "53b2f8ea",
   "metadata": {},
   "outputs": [],
   "source": [
    "_spiketimes(input::Nto1Input) = input.train.spiketimes\n",
    "\n",
    "simdata = (;\n",
    "    spiketrains   = _spiketimes.(inputs),\n",
    "    voltsig       = sim.rec.v,\n",
    "    spikerate     = SpikeWorks.spikerate(sim),\n",
    "    input_types   = neuron_type.(input_IDs),\n",
    "    sim_duration  = duration,\n",
    "    firing_rates, input_IDs, N, δ_nS\n",
    ");"
   ]
  },
  {
   "cell_type": "code",
   "execution_count": null,
   "id": "fb389306",
   "metadata": {},
   "outputs": [],
   "source": []
  }
 ],
 "metadata": {
  "kernelspec": {
   "display_name": "Julia 1.9.0-beta3",
   "language": "julia",
   "name": "julia-1.9"
  },
  "language_info": {
   "file_extension": ".jl",
   "mimetype": "application/julia",
   "name": "julia",
   "version": "1.9.0"
  },
  "toc": {
   "base_numbering": 1,
   "nav_menu": {},
   "number_sections": false,
   "sideBar": false,
   "skip_h1_title": true,
   "title_cell": "Table of Contents",
   "title_sidebar": "Contents",
   "toc_cell": false,
   "toc_position": {},
   "toc_section_display": true,
   "toc_window_display": false
  }
 },
 "nbformat": 4,
 "nbformat_minor": 5
}
