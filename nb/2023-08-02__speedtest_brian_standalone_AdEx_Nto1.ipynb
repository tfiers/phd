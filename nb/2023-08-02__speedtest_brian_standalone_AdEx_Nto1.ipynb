{
 "cells": [
  {
   "cell_type": "markdown",
   "id": "a9daa7fd",
   "metadata": {},
   "source": [
    "# 2023-08-02__speedtest_brian_standalone_AdEx_Nto1"
   ]
  },
  {
   "cell_type": "code",
   "execution_count": 1,
   "id": "b67d4b2d",
   "metadata": {},
   "outputs": [],
   "source": [
    "from brian2 import *"
   ]
  },
  {
   "cell_type": "code",
   "execution_count": 2,
   "id": "9cf89b6d",
   "metadata": {},
   "outputs": [
    {
     "name": "stderr",
     "output_type": "stream",
     "text": [
      "A subdirectory or file cpp already exists.\n"
     ]
    }
   ],
   "source": [
    "!mkdir cpp"
   ]
  },
  {
   "cell_type": "code",
   "execution_count": 3,
   "id": "aca2e6ce",
   "metadata": {},
   "outputs": [],
   "source": [
    "set_device('cpp_standalone', directory='cpp/1')"
   ]
  },
  {
   "cell_type": "code",
   "execution_count": 4,
   "id": "a06abda6",
   "metadata": {},
   "outputs": [
    {
     "name": "stdout",
     "output_type": "stream",
     "text": [
      "importing numpy, brian … ✔\n"
     ]
    }
   ],
   "source": [
    "%run lib/neuron.py"
   ]
  },
  {
   "cell_type": "code",
   "execution_count": 5,
   "id": "a33d93c8",
   "metadata": {},
   "outputs": [
    {
     "data": {
      "text/plain": [
       "1.0862943611198905"
      ]
     },
     "execution_count": 5,
     "metadata": {},
     "output_type": "execute_result"
    }
   ],
   "source": [
    "μₓ = 4 * Hz\n",
    "σ = sqrt(0.6)\n",
    "μ = log(μₓ / Hz) - σ**2 / 2"
   ]
  },
  {
   "cell_type": "code",
   "execution_count": 6,
   "id": "95a3b0e4",
   "metadata": {},
   "outputs": [],
   "source": [
    "we = 14 * pS\n",
    "wi = 4 * we\n",
    "T = 10*second;"
   ]
  },
  {
   "cell_type": "code",
   "execution_count": 7,
   "id": "5bc8d192",
   "metadata": {},
   "outputs": [],
   "source": [
    "def Nto1_merged(N = 6500, Ne_simmed = 100, print_N=True):\n",
    "    \n",
    "    Ni_simmed = Ne_simmed\n",
    "\n",
    "    Ne = N * 4//5\n",
    "    Ni = N - Ne\n",
    "    Ne_merged = Ne - Ne_simmed\n",
    "    Ni_merged = Ni - Ni_simmed\n",
    "    N_simmed = Ne_simmed + Ni_simmed\n",
    "    if print_N:\n",
    "        print(f\"{Ne=}, {Ni=}, {N_simmed=}, {Ne_merged=}, {Ni_merged=}\")\n",
    "    \n",
    "    n = COBA_AdEx_neuron()\n",
    "\n",
    "    rates = lognormal(μ, σ, N_simmed) * Hz\n",
    "    P = PoissonGroup(N_simmed, rates)\n",
    "    Se = Synapses(P, n, on_pre=\"ge += we\")\n",
    "    Si = Synapses(P, n, on_pre=\"gi += wi\")\n",
    "    Se.connect(\"i < Ne_simmed\")\n",
    "    Si.connect(\"i >= Ne_simmed\")\n",
    "\n",
    "    PIe = PoissonInput(n, 'ge', Ne_merged, μₓ, we)\n",
    "    PIi = PoissonInput(n, 'gi', Ni_merged, μₓ, wi);\n",
    "\n",
    "    M = StateMonitor(n, [\"V\"], record=[0])\n",
    "    S = SpikeMonitor(n)\n",
    "    SP = SpikeMonitor(P)\n",
    "    \n",
    "    objs = [n, P, Se, Si, M, S, SP]\n",
    "    return *objs, Network(objs)"
   ]
  },
  {
   "cell_type": "code",
   "execution_count": 7,
   "id": "6139f98f",
   "metadata": {},
   "outputs": [
    {
     "name": "stdout",
     "output_type": "stream",
     "text": [
      "Ne=5200, Ni=1300, N_simmed=200, Ne_merged=5100, Ni_merged=1200\n",
      "CPU times: total: 141 ms\n",
      "Wall time: 739 ms\n"
     ]
    }
   ],
   "source": [
    "%%time\n",
    "*objs_m, net_m = Nto1_merged()"
   ]
  },
  {
   "cell_type": "code",
   "execution_count": 8,
   "id": "bc7643a7",
   "metadata": {},
   "outputs": [
    {
     "name": "stdout",
     "output_type": "stream",
     "text": [
      "CPU times: total: 219 ms\n",
      "Wall time: 22.2 s\n"
     ]
    }
   ],
   "source": [
    "%%time\n",
    "net_m.run(T, report='text')"
   ]
  },
  {
   "cell_type": "markdown",
   "id": "fa82aa1e",
   "metadata": {},
   "source": [
    "So, wall time of 23.4 seconds. That's generating all the C++ etc files in ./output/, and then running."
   ]
  },
  {
   "cell_type": "markdown",
   "id": "568fe7b1",
   "metadata": {},
   "source": [
    "We can get just the runtime by running the main ig (but that's not useful irl ig, cause can't change params w/o rebuilding (?))."
   ]
  },
  {
   "cell_type": "code",
   "execution_count": 14,
   "id": "45fc2462",
   "metadata": {},
   "outputs": [],
   "source": [
    "# ! output\\\\main.exe"
   ]
  },
  {
   "cell_type": "markdown",
   "id": "97f0c66b",
   "metadata": {},
   "source": [
    "(If run here, we get some IO errors).  \n",
    "But if run in sep terminal, we get no errors.  \n",
    "And.. \"10 seconds simulated in < 1s\". Impressive!"
   ]
  },
  {
   "cell_type": "markdown",
   "id": "d3ca3188",
   "metadata": {},
   "source": [
    "---\n",
    "\n",
    "Ah, we can actually change params w/o rebuilding everything:\\\n",
    "https://brian2.readthedocs.io/en/stable/examples/multiprocessing.02_using_standalone.html\n",
    "> you don’t need to recompile the entire project at each simulation. In the generated code, two consecutive simulations will only differ slightly (in this case only the tau parameter). The compiler will therefore only recompile the file that has changed and not the entire project"
   ]
  },
  {
   "cell_type": "markdown",
   "id": "8d447e6e",
   "metadata": {},
   "source": [
    "## w/o PoissonInput merging"
   ]
  },
  {
   "cell_type": "code",
   "execution_count": 7,
   "id": "1c5447c2",
   "metadata": {},
   "outputs": [],
   "source": [
    "set_device('cpp_standalone', directory='cpp/2')"
   ]
  },
  {
   "cell_type": "code",
   "execution_count": 8,
   "id": "e5b18784",
   "metadata": {},
   "outputs": [],
   "source": [
    "def Nto1_all_simmed(N = 6500):\n",
    "    \n",
    "    Ne = N * 4//5\n",
    "    \n",
    "    n = COBA_AdEx_neuron()\n",
    "    \n",
    "    rates = lognormal(μ, σ, N) * Hz\n",
    "    P = PoissonGroup(N, rates)\n",
    "    \n",
    "    Se = Synapses(P, n, on_pre=\"ge += we\")\n",
    "    Si = Synapses(P, n, on_pre=\"gi += wi\")\n",
    "    Se.connect(\"i < Ne\")\n",
    "    Si.connect(\"i >= Ne\")\n",
    "    \n",
    "    M = StateMonitor(n, [\"V\"], record=[0])\n",
    "    S = SpikeMonitor(n)\n",
    "    SP = SpikeMonitor(P)\n",
    "    \n",
    "    objs = [n, P, Se, Si, M, S, SP]\n",
    "    return *objs, Network(objs)"
   ]
  },
  {
   "cell_type": "code",
   "execution_count": 9,
   "id": "6692d5a8",
   "metadata": {},
   "outputs": [
    {
     "name": "stdout",
     "output_type": "stream",
     "text": [
      "CPU times: total: 109 ms\n",
      "Wall time: 311 ms\n"
     ]
    }
   ],
   "source": [
    "%%time\n",
    "*objs, net = Nto1_all_simmed()"
   ]
  },
  {
   "cell_type": "code",
   "execution_count": 10,
   "id": "9b42fb82",
   "metadata": {},
   "outputs": [
    {
     "name": "stdout",
     "output_type": "stream",
     "text": [
      "CPU times: total: 266 ms\n",
      "Wall time: 20.8 s\n"
     ]
    }
   ],
   "source": [
    "%%time\n",
    "net.run(T, report='text')"
   ]
  },
  {
   "cell_type": "markdown",
   "id": "da4e9109",
   "metadata": {},
   "source": [
    "## Multiple runs"
   ]
  },
  {
   "cell_type": "code",
   "execution_count": 8,
   "id": "4325f7d0",
   "metadata": {},
   "outputs": [],
   "source": [
    "set_device('cpp_standalone', directory='cpp/3')"
   ]
  },
  {
   "cell_type": "code",
   "execution_count": 9,
   "id": "0cf5f3cd",
   "metadata": {},
   "outputs": [],
   "source": [
    "from time import time"
   ]
  },
  {
   "cell_type": "code",
   "execution_count": 10,
   "id": "df2edad6",
   "metadata": {},
   "outputs": [
    {
     "name": "stdout",
     "output_type": "stream",
     "text": [
      "Run 1 … 23.1 s\n",
      "Run 2 … 18.7 s\n",
      "Run 3 … 24.5 s\n"
     ]
    }
   ],
   "source": [
    "for j, we in enumerate([8, 14, 20] * pS):\n",
    "    print(f\"Run {j+1} … \", end=\"\")\n",
    "    t0 = time()\n",
    "    device.reinit()\n",
    "    device.activate()\n",
    "    *objs, net = Nto1_merged(print_N=False)\n",
    "    net.run(T, report='text')\n",
    "    print(f\"{time() - t0:.1f} s\")"
   ]
  },
  {
   "cell_type": "markdown",
   "id": "1d89351e",
   "metadata": {},
   "source": [
    "So, no caching speedup.\n",
    "\n",
    "(Same conclusion when running https://brian2.readthedocs.io/en/stable/examples/multiprocessing.02_using_standalone.html: all all `run_sim` call take 12 à 15 seconds)."
   ]
  },
  {
   "cell_type": "markdown",
   "id": "46c37741",
   "metadata": {},
   "source": [
    "- ok, finally, to reconfirm, https://brian2.readthedocs.io/en/stable/examples/multiprocessing.02_using_standalone.html\n",
    "with one proc.\n",
    "    - (cause that text literally says: \"The compiler will\n",
    "therefore only recompile the file that has changed and not the entire project\")\n",
    "    - ye ok, there's lil speedup:\n",
    "    \n",
    "```\n",
    "8.6 s\n",
    "5.6\n",
    "5.2\n",
    "..\n",
    "5.2\n",
    "```"
   ]
  },
  {
   "cell_type": "code",
   "execution_count": null,
   "id": "6183f3e7",
   "metadata": {},
   "outputs": [],
   "source": []
  }
 ],
 "metadata": {
  "jupytext": {
   "formats": "ipynb,py:light"
  },
  "kernelspec": {
   "display_name": "Python 3 (ipykernel)",
   "language": "python",
   "name": "python3"
  },
  "language_info": {
   "codemirror_mode": {
    "name": "ipython",
    "version": 3
   },
   "file_extension": ".py",
   "mimetype": "text/x-python",
   "name": "python",
   "nbconvert_exporter": "python",
   "pygments_lexer": "ipython3",
   "version": "3.11.0"
  },
  "toc": {
   "base_numbering": 1,
   "nav_menu": {},
   "number_sections": false,
   "sideBar": false,
   "skip_h1_title": true,
   "title_cell": "Table of Contents",
   "title_sidebar": "Contents",
   "toc_cell": false,
   "toc_position": {},
   "toc_section_display": true,
   "toc_window_display": false
  }
 },
 "nbformat": 4,
 "nbformat_minor": 5
}
