{
 "cells": [
  {
   "cell_type": "markdown",
   "id": "1ea3eecf",
   "metadata": {},
   "source": [
    "# 2023-08-02__speedtest_brian_standalone_AdEx_Nto1"
   ]
  },
  {
   "cell_type": "code",
   "execution_count": 1,
   "id": "04cdcea3",
   "metadata": {},
   "outputs": [
    {
     "name": "stdout",
     "output_type": "stream",
     "text": [
      "CPU times: total: 875 ms\n",
      "Wall time: 2.03 s\n"
     ]
    }
   ],
   "source": [
    "%%time\n",
    "from brian2 import *"
   ]
  },
  {
   "cell_type": "code",
   "execution_count": 2,
   "id": "dade23ac",
   "metadata": {},
   "outputs": [
    {
     "name": "stderr",
     "output_type": "stream",
     "text": [
      "A subdirectory or file cpp already exists.\n"
     ]
    }
   ],
   "source": [
    "!mkdir cpp"
   ]
  },
  {
   "cell_type": "code",
   "execution_count": 3,
   "id": "449dbc0b",
   "metadata": {},
   "outputs": [],
   "source": [
    "set_device('cpp_standalone', directory='cpp/1')"
   ]
  },
  {
   "cell_type": "code",
   "execution_count": 4,
   "id": "77cc32b9",
   "metadata": {},
   "outputs": [
    {
     "name": "stdout",
     "output_type": "stream",
     "text": [
      "importing mpl … ✔\n",
      "importing brian … ✔\n",
      "importing pandas … ✔\n"
     ]
    }
   ],
   "source": [
    "%run lib/neuron.py"
   ]
  },
  {
   "cell_type": "code",
   "execution_count": 5,
   "id": "85b368cf",
   "metadata": {},
   "outputs": [
    {
     "data": {
      "text/plain": [
       "1.0862943611198905"
      ]
     },
     "execution_count": 5,
     "metadata": {},
     "output_type": "execute_result"
    }
   ],
   "source": [
    "μₓ = 4 * Hz\n",
    "σ = sqrt(0.6)\n",
    "μ = log(μₓ / Hz) - σ**2 / 2"
   ]
  },
  {
   "cell_type": "code",
   "execution_count": 6,
   "id": "fc922844",
   "metadata": {},
   "outputs": [],
   "source": [
    "we = 14 * pS\n",
    "wi = 4 * we\n",
    "T = 10*second;"
   ]
  },
  {
   "cell_type": "code",
   "execution_count": 7,
   "id": "08d3c021",
   "metadata": {},
   "outputs": [],
   "source": [
    "def Nto1_merged(N = 6500, Ne_simmed = 100, print_N=True):\n",
    "    \n",
    "    Ni_simmed = Ne_simmed\n",
    "\n",
    "    Ne = N * 4//5\n",
    "    Ni = N - Ne\n",
    "    Ne_merged = Ne - Ne_simmed\n",
    "    Ni_merged = Ni - Ni_simmed\n",
    "    N_simmed = Ne_simmed + Ni_simmed\n",
    "    if print_N:\n",
    "        print(f\"{Ne=}, {Ni=}, {N_simmed=}, {Ne_merged=}, {Ni_merged=}\")\n",
    "    \n",
    "    n = COBA_AdEx_neuron()\n",
    "\n",
    "    rates = lognormal(μ, σ, N_simmed) * Hz\n",
    "    P = PoissonGroup(N_simmed, rates)\n",
    "    Se = Synapses(P, n, on_pre=\"ge += we\")\n",
    "    Si = Synapses(P, n, on_pre=\"gi += wi\")\n",
    "    Se.connect(\"i < Ne_simmed\")\n",
    "    Si.connect(\"i >= Ne_simmed\")\n",
    "\n",
    "    PIe = PoissonInput(n, 'ge', Ne_merged, μₓ, we)\n",
    "    PIi = PoissonInput(n, 'gi', Ni_merged, μₓ, wi);\n",
    "\n",
    "    M = StateMonitor(n, [\"V\"], record=[0])\n",
    "    S = SpikeMonitor(n)\n",
    "    SP = SpikeMonitor(P)\n",
    "    \n",
    "    objs = [n, P, Se, Si, PIe, PIi, M, S, SP]\n",
    "    return *objs, Network(objs)"
   ]
  },
  {
   "cell_type": "code",
   "execution_count": 8,
   "id": "cf2d2cae",
   "metadata": {},
   "outputs": [
    {
     "name": "stdout",
     "output_type": "stream",
     "text": [
      "Ne=5200, Ni=1300, N_simmed=200, Ne_merged=5100, Ni_merged=1200\n",
      "CPU times: total: 46.9 ms\n",
      "Wall time: 376 ms\n"
     ]
    }
   ],
   "source": [
    "%%time\n",
    "*objs_m, net_m = Nto1_merged()"
   ]
  },
  {
   "cell_type": "code",
   "execution_count": 9,
   "id": "e5c08486",
   "metadata": {},
   "outputs": [
    {
     "name": "stdout",
     "output_type": "stream",
     "text": [
      "CPU times: total: 93.8 ms\n",
      "Wall time: 18.4 s\n"
     ]
    }
   ],
   "source": [
    "%%time\n",
    "net_m.run(T, report='text')"
   ]
  },
  {
   "cell_type": "markdown",
   "id": "11ed6000",
   "metadata": {},
   "source": [
    "So, wall time of 23.4 seconds. That's generating all the C++ etc files in ./output/, and then running."
   ]
  },
  {
   "cell_type": "markdown",
   "id": "a11bb1fd",
   "metadata": {},
   "source": [
    "We can get just the runtime by running the main ig (but that's not useful irl ig, cause can't change params w/o rebuilding (?))."
   ]
  },
  {
   "cell_type": "code",
   "execution_count": 14,
   "id": "b0c6a7de",
   "metadata": {},
   "outputs": [],
   "source": [
    "# ! output\\\\main.exe"
   ]
  },
  {
   "cell_type": "markdown",
   "id": "4d87f433",
   "metadata": {},
   "source": [
    "(If run here, we get some IO errors).  \n",
    "But if run in sep terminal, we get no errors.  \n",
    "And.. \"10 seconds simulated in < 1s\". Impressive!"
   ]
  },
  {
   "cell_type": "markdown",
   "id": "f178be38",
   "metadata": {},
   "source": [
    "---\n",
    "Now with PIe and i included in `net`:  \\\n",
    "total runtime 52.2 s.  \n",
    "main.exe: 1.9 seconds."
   ]
  },
  {
   "cell_type": "markdown",
   "id": "c22a1f54",
   "metadata": {},
   "source": [
    "---\n",
    "\n",
    "2023-08-14 (after deleting cpp/):\n",
    "- 1.6 wall time for `Nto1_merged()`\n",
    "- 61 s wall time for `run`\n",
    "- 0.898 s for `time ./main.exe`"
   ]
  },
  {
   "cell_type": "code",
   "execution_count": 13,
   "id": "1f329b14",
   "metadata": {},
   "outputs": [
    {
     "data": {
      "text/plain": [
       "61.702"
      ]
     },
     "execution_count": 13,
     "metadata": {},
     "output_type": "execute_result"
    }
   ],
   "source": [
    "61+1.6-0.898"
   ]
  },
  {
   "cell_type": "markdown",
   "id": "d6cb65c9",
   "metadata": {},
   "source": [
    "---\n",
    "\n",
    "2023-08-15 (after deleting cpp/, and w/ CPU in best performance mode (not battery saver)):\n",
    "- 0.376 wall time for `Nto1_merged()`\n",
    "- 18.4 s wall time for `run`\n",
    "- 0.353 s for `time ./main.exe`"
   ]
  },
  {
   "cell_type": "code",
   "execution_count": 12,
   "id": "04cb0a30",
   "metadata": {},
   "outputs": [
    {
     "data": {
      "text/plain": [
       "18.423"
      ]
     },
     "execution_count": 12,
     "metadata": {},
     "output_type": "execute_result"
    }
   ],
   "source": [
    "0.376+18.4-0.353"
   ]
  },
  {
   "cell_type": "markdown",
   "id": "3f6d931f",
   "metadata": {},
   "source": [
    "---\n",
    "---\n",
    "\n",
    "Ah, we can actually change params w/o rebuilding everything:\\\n",
    "https://brian2.readthedocs.io/en/stable/examples/multiprocessing.02_using_standalone.html\n",
    "> you don’t need to recompile the entire project at each simulation. In the generated code, two consecutive simulations will only differ slightly (in this case only the tau parameter). The compiler will therefore only recompile the file that has changed and not the entire project"
   ]
  },
  {
   "cell_type": "markdown",
   "id": "2d504f50",
   "metadata": {},
   "source": [
    "## w/o PoissonInput merging"
   ]
  },
  {
   "cell_type": "markdown",
   "id": "d776d000",
   "metadata": {},
   "source": [
    "(Restarting nb and re-importing brian)"
   ]
  },
  {
   "cell_type": "code",
   "execution_count": 7,
   "id": "c157a0d5",
   "metadata": {},
   "outputs": [],
   "source": [
    "set_device('cpp_standalone', directory='cpp/2')"
   ]
  },
  {
   "cell_type": "code",
   "execution_count": 8,
   "id": "68408acd",
   "metadata": {},
   "outputs": [],
   "source": [
    "def Nto1_all_simmed(N = 6500):\n",
    "    \n",
    "    Ne = N * 4//5\n",
    "    \n",
    "    n = COBA_AdEx_neuron()\n",
    "    \n",
    "    rates = lognormal(μ, σ, N) * Hz\n",
    "    P = PoissonGroup(N, rates)\n",
    "    \n",
    "    Se = Synapses(P, n, on_pre=\"ge += we\")\n",
    "    Si = Synapses(P, n, on_pre=\"gi += wi\")\n",
    "    Se.connect(\"i < Ne\")\n",
    "    Si.connect(\"i >= Ne\")\n",
    "    \n",
    "    M = StateMonitor(n, [\"V\"], record=[0])\n",
    "    S = SpikeMonitor(n)\n",
    "    SP = SpikeMonitor(P)\n",
    "    \n",
    "    objs = [n, P, Se, Si, M, S, SP]\n",
    "    return *objs, Network(objs)"
   ]
  },
  {
   "cell_type": "code",
   "execution_count": 9,
   "id": "b68204ff",
   "metadata": {},
   "outputs": [
    {
     "name": "stdout",
     "output_type": "stream",
     "text": [
      "CPU times: total: 93.8 ms\n",
      "Wall time: 123 ms\n"
     ]
    }
   ],
   "source": [
    "%%time\n",
    "*objs, net = Nto1_all_simmed()"
   ]
  },
  {
   "cell_type": "code",
   "execution_count": 10,
   "id": "0e67ac6a",
   "metadata": {},
   "outputs": [
    {
     "name": "stdout",
     "output_type": "stream",
     "text": [
      "CPU times: total: 125 ms\n",
      "Wall time: 21.7 s\n"
     ]
    }
   ],
   "source": [
    "%%time\n",
    "net.run(T, report='text')"
   ]
  },
  {
   "cell_type": "markdown",
   "id": "6dcd3eb9",
   "metadata": {},
   "source": [
    "New run: 42.2 s total.\n",
    "\n",
    "main.exe: 28.9 s (!)"
   ]
  },
  {
   "cell_type": "markdown",
   "id": "07168913",
   "metadata": {},
   "source": [
    "---\n",
    "\n",
    "2023-08-14 (after deleting cpp/):\n",
    "- 0.67 wall time for `Nto1_all_simmed()`\n",
    "- 70 s wall time for `run`\n",
    "- 21.43 s for `time ./main.exe`"
   ]
  },
  {
   "cell_type": "code",
   "execution_count": 12,
   "id": "0843c198",
   "metadata": {},
   "outputs": [
    {
     "data": {
      "text/plain": [
       "49.24"
      ]
     },
     "execution_count": 12,
     "metadata": {},
     "output_type": "execute_result"
    }
   ],
   "source": [
    "70+0.67-21.43"
   ]
  },
  {
   "cell_type": "markdown",
   "id": "492a6072",
   "metadata": {},
   "source": [
    "---\n",
    "\n",
    "2023-08-15 (after deleting cpp/, and w/ CPU in best performance mode (not battery saver)):\n",
    "- 0.123 wall time for `Nto1_all_simmed()`\n",
    "- 21.7 s wall time for `run`\n",
    "- 6.50 s for `time ./main.exe`"
   ]
  },
  {
   "cell_type": "code",
   "execution_count": 11,
   "id": "5d625a3c",
   "metadata": {},
   "outputs": [
    {
     "data": {
      "text/plain": [
       "15.323"
      ]
     },
     "execution_count": 11,
     "metadata": {},
     "output_type": "execute_result"
    }
   ],
   "source": [
    "0.123+21.7-6.5"
   ]
  },
  {
   "cell_type": "markdown",
   "id": "f321c539",
   "metadata": {},
   "source": [
    "## Multiple runs"
   ]
  },
  {
   "cell_type": "code",
   "execution_count": 8,
   "id": "e8d52a8e",
   "metadata": {},
   "outputs": [],
   "source": [
    "set_device('cpp_standalone', directory='cpp/3')"
   ]
  },
  {
   "cell_type": "code",
   "execution_count": 9,
   "id": "4d4318d8",
   "metadata": {},
   "outputs": [],
   "source": [
    "from time import time"
   ]
  },
  {
   "cell_type": "code",
   "execution_count": 10,
   "id": "987dfe5f",
   "metadata": {},
   "outputs": [
    {
     "name": "stdout",
     "output_type": "stream",
     "text": [
      "Run 1 … 23.1 s\n",
      "Run 2 … 18.7 s\n",
      "Run 3 … 24.5 s\n"
     ]
    }
   ],
   "source": [
    "for j, we in enumerate([8, 14, 20] * pS):\n",
    "    print(f\"Run {j+1} … \", end=\"\")\n",
    "    t0 = time()\n",
    "    device.reinit()\n",
    "    device.activate()\n",
    "    *objs, net = Nto1_merged(print_N=False)\n",
    "    net.run(T, report='text')\n",
    "    print(f\"{time() - t0:.1f} s\")"
   ]
  },
  {
   "cell_type": "markdown",
   "id": "dda4afb1",
   "metadata": {},
   "source": [
    "So, no caching speedup.\n",
    "\n",
    "(Same conclusion when running https://brian2.readthedocs.io/en/stable/examples/multiprocessing.02_using_standalone.html: all all `run_sim` call take 12 à 15 seconds)."
   ]
  },
  {
   "cell_type": "markdown",
   "id": "91425d03",
   "metadata": {},
   "source": [
    "- ok, finally, to reconfirm, https://brian2.readthedocs.io/en/stable/examples/multiprocessing.02_using_standalone.html\n",
    "with one proc.\n",
    "    - (cause that text literally says: \"The compiler will\n",
    "therefore only recompile the file that has changed and not the entire project\")\n",
    "    - ye ok, there's lil speedup:\n",
    "    \n",
    "```\n",
    "8.6 s\n",
    "5.6\n",
    "5.2\n",
    "..\n",
    "5.2\n",
    "```"
   ]
  },
  {
   "cell_type": "code",
   "execution_count": null,
   "id": "cdbccafa",
   "metadata": {},
   "outputs": [],
   "source": []
  }
 ],
 "metadata": {
  "jupytext": {
   "formats": "ipynb,py:light"
  },
  "kernelspec": {
   "display_name": "Python 3 (ipykernel)",
   "language": "python",
   "name": "python3"
  },
  "language_info": {
   "codemirror_mode": {
    "name": "ipython",
    "version": 3
   },
   "file_extension": ".py",
   "mimetype": "text/x-python",
   "name": "python",
   "nbconvert_exporter": "python",
   "pygments_lexer": "ipython3",
   "version": "3.11.0"
  },
  "toc": {
   "base_numbering": 1,
   "nav_menu": {},
   "number_sections": false,
   "sideBar": false,
   "skip_h1_title": true,
   "title_cell": "Table of Contents",
   "title_sidebar": "Contents",
   "toc_cell": false,
   "toc_position": {},
   "toc_section_display": true,
   "toc_window_display": false
  }
 },
 "nbformat": 4,
 "nbformat_minor": 5
}
