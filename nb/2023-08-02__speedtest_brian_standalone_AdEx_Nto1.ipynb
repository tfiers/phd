{
 "cells": [
  {
   "cell_type": "markdown",
   "id": "680a3934",
   "metadata": {},
   "source": [
    "# 2023-08-02__speedtest_brian_standalone_AdEx_Nto1"
   ]
  },
  {
   "cell_type": "code",
   "execution_count": 1,
   "id": "cb51d6a1",
   "metadata": {},
   "outputs": [],
   "source": [
    "from brian2 import *"
   ]
  },
  {
   "cell_type": "code",
   "execution_count": 2,
   "id": "e5fdd427",
   "metadata": {},
   "outputs": [],
   "source": [
    "set_device('cpp_standalone')"
   ]
  },
  {
   "cell_type": "code",
   "execution_count": 3,
   "id": "d4163fde",
   "metadata": {},
   "outputs": [
    {
     "name": "stdout",
     "output_type": "stream",
     "text": [
      "importing numpy, brian … ✔\n"
     ]
    }
   ],
   "source": [
    "%run lib/neuron.py"
   ]
  },
  {
   "cell_type": "code",
   "execution_count": 4,
   "id": "69eeb12e",
   "metadata": {},
   "outputs": [
    {
     "data": {
      "text/plain": [
       "1.0862943611198905"
      ]
     },
     "execution_count": 4,
     "metadata": {},
     "output_type": "execute_result"
    }
   ],
   "source": [
    "μₓ = 4 * Hz\n",
    "σ = sqrt(0.6)\n",
    "μ = log(μₓ / Hz) - σ**2 / 2"
   ]
  },
  {
   "cell_type": "code",
   "execution_count": 5,
   "id": "faf1808a",
   "metadata": {},
   "outputs": [],
   "source": [
    "we = 14 * pS\n",
    "wi = 4 * we\n",
    "T = 10*second;"
   ]
  },
  {
   "cell_type": "code",
   "execution_count": 6,
   "id": "59c70ae5",
   "metadata": {},
   "outputs": [],
   "source": [
    "def Nto1_merged(N = 6500, Ne_simmed = 100):\n",
    "    \n",
    "    Ni_simmed = Ne_simmed\n",
    "\n",
    "    Ne = N * 4//5\n",
    "    Ni = N - Ne\n",
    "    Ne_merged = Ne - Ne_simmed\n",
    "    Ni_merged = Ni - Ni_simmed\n",
    "    N_simmed = Ne_simmed + Ni_simmed\n",
    "    print(f\"{Ne=}, {Ni=}, {N_simmed=}, {Ne_merged=}, {Ni_merged=}\")\n",
    "    \n",
    "    n = COBA_AdEx_neuron()\n",
    "\n",
    "    rates = lognormal(μ, σ, N_simmed) * Hz\n",
    "    P = PoissonGroup(N_simmed, rates)\n",
    "    Se = Synapses(P, n, on_pre=\"ge += we\")\n",
    "    Si = Synapses(P, n, on_pre=\"gi += wi\")\n",
    "    Se.connect(\"i < Ne_simmed\")\n",
    "    Si.connect(\"i >= Ne_simmed\")\n",
    "\n",
    "    PIe = PoissonInput(n, 'ge', Ne_merged, μₓ, we)\n",
    "    PIi = PoissonInput(n, 'gi', Ni_merged, μₓ, wi);\n",
    "\n",
    "    M = StateMonitor(n, [\"V\"], record=[0])\n",
    "    S = SpikeMonitor(n)\n",
    "    SP = SpikeMonitor(P)\n",
    "    \n",
    "    objs = [n, P, Se, Si, M, S, SP]\n",
    "    return *objs, Network(objs)"
   ]
  },
  {
   "cell_type": "code",
   "execution_count": 7,
   "id": "bffce5f2",
   "metadata": {},
   "outputs": [
    {
     "name": "stdout",
     "output_type": "stream",
     "text": [
      "Ne=5200, Ni=1300, N_simmed=200, Ne_merged=5100, Ni_merged=1200\n",
      "CPU times: total: 156 ms\n",
      "Wall time: 257 ms\n"
     ]
    }
   ],
   "source": [
    "%%time\n",
    "*objs_m, net_m = Nto1_merged()"
   ]
  },
  {
   "cell_type": "code",
   "execution_count": 8,
   "id": "2e8f8ec8",
   "metadata": {},
   "outputs": [
    {
     "name": "stdout",
     "output_type": "stream",
     "text": [
      "CPU times: total: 125 ms\n",
      "Wall time: 190 ms\n"
     ]
    }
   ],
   "source": [
    "%%time\n",
    "net_m.run(T, report='text')"
   ]
  },
  {
   "cell_type": "markdown",
   "id": "569306db",
   "metadata": {},
   "source": [
    "So, wall time of 23.4 seconds. That's generating all the C++ etc files in ./output/, and then running."
   ]
  },
  {
   "cell_type": "markdown",
   "id": "6ac66bcb",
   "metadata": {},
   "source": [
    "We can get just the runtime by running the main ig (but that's not useful irl ig, cause can't change params w/o rebuilding (?))."
   ]
  },
  {
   "cell_type": "code",
   "execution_count": 14,
   "id": "06342384",
   "metadata": {},
   "outputs": [],
   "source": [
    "# ! output\\\\main.exe"
   ]
  },
  {
   "cell_type": "markdown",
   "id": "a73469bb",
   "metadata": {},
   "source": [
    "(If run here, we get some IO errors).  \n",
    "But if run in sep terminal, we get no errors.  \n",
    "And.. \"10 seconds simulated in < 1s\". Impressive!"
   ]
  },
  {
   "cell_type": "markdown",
   "id": "03f925e3",
   "metadata": {},
   "source": [
    "---\n",
    "\n",
    "Ah, we can actually change params w/o rebuilding everything:\\\n",
    "https://brian2.readthedocs.io/en/stable/examples/multiprocessing.02_using_standalone.html\n",
    "> you don’t need to recompile the entire project at each simulation. In the generated code, two consecutive simulations will only differ slightly (in this case only the tau parameter). The compiler will therefore only recompile the file that has changed and not the entire project"
   ]
  },
  {
   "cell_type": "code",
   "execution_count": null,
   "id": "c721f942",
   "metadata": {},
   "outputs": [],
   "source": []
  }
 ],
 "metadata": {
  "jupytext": {
   "formats": "ipynb,py:light"
  },
  "kernelspec": {
   "display_name": "Python 3 (ipykernel)",
   "language": "python",
   "name": "python3"
  },
  "language_info": {
   "codemirror_mode": {
    "name": "ipython",
    "version": 3
   },
   "file_extension": ".py",
   "mimetype": "text/x-python",
   "name": "python",
   "nbconvert_exporter": "python",
   "pygments_lexer": "ipython3",
   "version": "3.11.0"
  },
  "toc": {
   "base_numbering": 1,
   "nav_menu": {},
   "number_sections": false,
   "sideBar": false,
   "skip_h1_title": true,
   "title_cell": "Table of Contents",
   "title_sidebar": "Contents",
   "toc_cell": false,
   "toc_position": {},
   "toc_section_display": true,
   "toc_window_display": false
  }
 },
 "nbformat": 4,
 "nbformat_minor": 5
}
