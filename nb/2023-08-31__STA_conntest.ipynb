{
 "cells": [
  {
   "cell_type": "markdown",
   "id": "5dcc52f2",
   "metadata": {},
   "source": [
    "# 2023-08-31__STA_conntest"
   ]
  },
  {
   "cell_type": "markdown",
   "id": "9df5dd91",
   "metadata": {},
   "source": [
    "So, hi.\n",
    "copying from prev nb:\n",
    "\n",
    "So, for all 10 Ns;\\\n",
    "For 10 diff seeds;\n",
    "for both exc, inh, and unconn;\\\n",
    "we conntest (maximum) 100 input spike trains.\\\n",
    "(Each test is comprised of calculating 101 STAs: one real and the rest with shuffled ISIs)."
   ]
  },
  {
   "cell_type": "code",
   "execution_count": 18,
   "id": "54a995be",
   "metadata": {},
   "outputs": [
    {
     "name": "stdout",
     "output_type": "stream",
     "text": [
      "[IJulia init done]\n",
      "using Revise … ✔\n",
      "using Units … ✔\n",
      "using Nto1AdEx … ✔\n",
      "using ConnectionTests … ✔\n",
      "using ConnTestEval … ✔\n",
      "using StatsBase … ✔\n"
     ]
    }
   ],
   "source": [
    "include(\"lib/Nto1.jl\")"
   ]
  },
  {
   "cell_type": "code",
   "execution_count": 3,
   "id": "ad5d9277",
   "metadata": {},
   "outputs": [
    {
     "name": "stdout",
     "output_type": "stream",
     "text": [
      "  2.462874 seconds (1.14 M allocations: 987.502 MiB, 1.91% gc time, 30.60% compilation time)\n"
     ]
    }
   ],
   "source": [
    "duration = 10minutes\n",
    "N = 6500\n",
    "\n",
    "@time sim = Nto1AdEx.sim(N, duration);"
   ]
  },
  {
   "cell_type": "markdown",
   "id": "cd5106c3",
   "metadata": {},
   "source": [
    "(So even with native code caching in Julia 1.9, we still have 30% of time compilation here)."
   ]
  },
  {
   "cell_type": "markdown",
   "id": "2315bde6",
   "metadata": {},
   "source": [
    "We decided we'd pick the 100 highest firing (exc and inh).\\\n",
    "And then generate some unconnecteds too..\\\n",
    "What's their firing rate? Maybe sample from the real ones :) hehe, sure."
   ]
  },
  {
   "cell_type": "code",
   "execution_count": 21,
   "id": "c65f7437",
   "metadata": {},
   "outputs": [
    {
     "name": "stdout",
     "output_type": "stream",
     "text": [
      "200-element Vector{Float64}:\n",
      "   1: 97.5\n",
      "   2: 58.9\n",
      "   ⋮\n",
      "  75: 16.8\n",
      "   ⋮\n",
      " 146: 12.5\n",
      "   ⋮\n",
      " 199: 8.87\n",
      " 200: 8.86\n"
     ]
    }
   ],
   "source": [
    "exc = highest_firing(excitatory_inputs(sim))[1:100]\n",
    "inh = highest_firing(inhibitory_inputs(sim))[1:100]\n",
    "both = [exc..., inh...]\n",
    "fr = spikerate.(both)\n",
    "showsome(fr / Hz)"
   ]
  },
  {
   "cell_type": "code",
   "execution_count": null,
   "id": "ae3d6953",
   "metadata": {},
   "outputs": [],
   "source": []
  },
  {
   "cell_type": "code",
   "execution_count": null,
   "id": "6d40ec5c",
   "metadata": {},
   "outputs": [],
   "source": []
  },
  {
   "cell_type": "code",
   "execution_count": null,
   "id": "f2f03b45",
   "metadata": {},
   "outputs": [],
   "source": []
  },
  {
   "cell_type": "code",
   "execution_count": 7,
   "id": "333323b2",
   "metadata": {},
   "outputs": [
    {
     "name": "stdout",
     "output_type": "stream",
     "text": [
      "import PythonCall … ✔ (2.8 s)\n",
      "import PythonPlot … ✔ (5.5 s)\n",
      "using Sciplotlib … ✔ (0.8 s)\n",
      "using PhDPlots … ✔\n"
     ]
    }
   ],
   "source": [
    "include(\"lib\\\\plot.jl\")"
   ]
  }
 ],
 "metadata": {
  "jupytext": {
   "formats": "ipynb,auto:light"
  },
  "kernelspec": {
   "display_name": "Julia 1.9.0-beta3",
   "language": "julia",
   "name": "julia-1.9"
  },
  "language_info": {
   "file_extension": ".jl",
   "mimetype": "application/julia",
   "name": "julia",
   "version": "1.9.0"
  },
  "toc": {
   "base_numbering": 1,
   "nav_menu": {},
   "number_sections": false,
   "sideBar": false,
   "skip_h1_title": true,
   "title_cell": "Table of Contents",
   "title_sidebar": "Contents",
   "toc_cell": false,
   "toc_position": {},
   "toc_section_display": true,
   "toc_window_display": false
  }
 },
 "nbformat": 4,
 "nbformat_minor": 5
}
