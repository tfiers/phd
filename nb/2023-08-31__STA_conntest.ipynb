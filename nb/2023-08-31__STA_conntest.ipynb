{
 "cells": [
  {
   "cell_type": "markdown",
   "id": "fd2810db",
   "metadata": {},
   "source": [
    "# 2023-08-31__STA_conntest"
   ]
  },
  {
   "cell_type": "markdown",
   "id": "087d1932",
   "metadata": {},
   "source": [
    "So, hi.\n",
    "copying from prev nb:\n",
    "\n",
    "So, for all 10 Ns;\\\n",
    "For 10 diff seeds;\n",
    "for both exc, inh, and unconn;\\\n",
    "we conntest (maximum) 100 input spike trains.\\\n",
    "(Each test is comprised of calculating 101 STAs: one real and the rest with shuffled ISIs)."
   ]
  },
  {
   "cell_type": "code",
   "execution_count": 8,
   "id": "454f8ddb",
   "metadata": {},
   "outputs": [
    {
     "name": "stdout",
     "output_type": "stream",
     "text": [
      "using Revise … ✔\n",
      "using Units … ✔\n",
      "using Nto1AdEx … ✔\n",
      "using ConnectionTests … ✔ (0.1 s)\n",
      "using ConnTestEval … ✔\n"
     ]
    }
   ],
   "source": [
    "include(\"lib/Nto1.jl\")"
   ]
  },
  {
   "cell_type": "code",
   "execution_count": 3,
   "id": "5f8c929b",
   "metadata": {},
   "outputs": [
    {
     "name": "stdout",
     "output_type": "stream",
     "text": [
      "  1.744869 seconds (21.49 k allocations: 912.225 MiB, 5.99% gc time)\n"
     ]
    }
   ],
   "source": [
    "duration = 10 * minutes\n",
    "N = 6500\n",
    "\n",
    "@time sim = Nto1AdEx.sim(N, duration);"
   ]
  },
  {
   "cell_type": "code",
   "execution_count": null,
   "id": "7d10726f",
   "metadata": {},
   "outputs": [],
   "source": []
  },
  {
   "cell_type": "code",
   "execution_count": null,
   "id": "1409fe7a",
   "metadata": {},
   "outputs": [],
   "source": []
  },
  {
   "cell_type": "code",
   "execution_count": 7,
   "id": "30b873dd",
   "metadata": {},
   "outputs": [
    {
     "name": "stdout",
     "output_type": "stream",
     "text": [
      "import PythonCall … ✔ (2.8 s)\n",
      "import PythonPlot … ✔ (5.5 s)\n",
      "using Sciplotlib … ✔ (0.8 s)\n",
      "using PhDPlots … ✔\n"
     ]
    }
   ],
   "source": [
    "include(\"lib\\\\plot.jl\")"
   ]
  }
 ],
 "metadata": {
  "jupytext": {
   "formats": "ipynb,auto:light"
  },
  "kernelspec": {
   "display_name": "Julia 1.9.0-beta3",
   "language": "julia",
   "name": "julia-1.9"
  },
  "language_info": {
   "file_extension": ".jl",
   "mimetype": "application/julia",
   "name": "julia",
   "version": "1.9.0"
  },
  "toc": {
   "base_numbering": 1,
   "nav_menu": {},
   "number_sections": false,
   "sideBar": false,
   "skip_h1_title": true,
   "title_cell": "Table of Contents",
   "title_sidebar": "Contents",
   "toc_cell": false,
   "toc_position": {},
   "toc_section_display": true,
   "toc_window_display": false
  }
 },
 "nbformat": 4,
 "nbformat_minor": 5
}
