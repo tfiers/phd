{
 "cells": [
  {
   "cell_type": "markdown",
   "id": "4a8f5499",
   "metadata": {},
   "source": [
    "# 2023-09-05 · Inhibitory impulse response (PSP)"
   ]
  },
  {
   "cell_type": "markdown",
   "id": "c3ed0918",
   "metadata": {},
   "source": [
    "We've had excitatory (https://tfiers.github.io/phd/nb/2023-07-26__AdEx_Nto1_we_I_syn.html#impulse-response), \\\n",
    "but inh is interesting too: same syn strength, same PSP? Or no."
   ]
  },
  {
   "cell_type": "code",
   "execution_count": 1,
   "id": "54fd5fe8",
   "metadata": {},
   "outputs": [
    {
     "name": "stdout",
     "output_type": "stream",
     "text": [
      "using Revise … ✔ (0.3 s)\n",
      "using Units, Nto1AdEx, ConnectionTests, ConnTestEval … ✔\n",
      "using StatsBase … ✔ (0.2 s)\n"
     ]
    }
   ],
   "source": [
    "include(\"lib/Nto1.jl\")"
   ]
  },
  {
   "cell_type": "markdown",
   "id": "86c5663c",
   "metadata": {},
   "source": []
  }
 ],
 "metadata": {
  "kernelspec": {
   "display_name": "Julia 1.9.3",
   "language": "julia",
   "name": "julia-1.9"
  },
  "language_info": {
   "file_extension": ".jl",
   "mimetype": "application/julia",
   "name": "julia",
   "version": "1.9.3"
  },
  "toc": {
   "base_numbering": 1,
   "nav_menu": {},
   "number_sections": false,
   "sideBar": false,
   "skip_h1_title": true,
   "title_cell": "Table of Contents",
   "title_sidebar": "Contents",
   "toc_cell": false,
   "toc_position": {},
   "toc_section_display": true,
   "toc_window_display": false
  }
 },
 "nbformat": 4,
 "nbformat_minor": 5
}
