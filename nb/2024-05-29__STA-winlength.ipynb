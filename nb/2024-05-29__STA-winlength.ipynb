{
 "cells": [
  {
   "cell_type": "code",
   "execution_count": null,
   "id": "1ac36ca2-da7d-408a-80df-5da520b4bed2",
   "metadata": {},
   "outputs": [],
   "source": [
    "new_nb(\"2024-05-29__STA-winlength\")"
   ]
  },
  {
   "cell_type": "code",
   "execution_count": null,
   "id": "213e1c67-cc2f-43c2-966f-f4865c4b1946",
   "metadata": {},
   "outputs": [],
   "source": []
  },
  {
   "cell_type": "code",
   "execution_count": 1,
   "id": "fc5fef0d-e5b0-4fa4-a16a-f52c879d1a58",
   "metadata": {},
   "outputs": [
    {
     "name": "stdout",
     "output_type": "stream",
     "text": [
      "using Revise … ✔ (0.2 s)\n",
      "using Units, Nto1AdEx, ConnectionTests, ConnTestEval, MemDiskCache … ✔ (0.4 s)\n",
      "using StatsBase … ✔\n"
     ]
    }
   ],
   "source": [
    "include(\"lib/Nto1.jl\")"
   ]
  },
  {
   "cell_type": "code",
   "execution_count": 2,
   "id": "b2aeb860-8e7c-4242-8a00-c0f8ec4f469f",
   "metadata": {},
   "outputs": [
    {
     "data": {
      "text/plain": [
       "600"
      ]
     },
     "execution_count": 2,
     "metadata": {},
     "output_type": "execute_result"
    }
   ],
   "source": [
    "duration = 10minutes"
   ]
  },
  {
   "cell_type": "markdown",
   "id": "229f5c96-a39e-43de-bc00-7cd439879404",
   "metadata": {},
   "source": [
    "---"
   ]
  },
  {
   "cell_type": "code",
   "execution_count": 3,
   "id": "029045f2-b61d-4d86-ac2c-85847deb2090",
   "metadata": {},
   "outputs": [],
   "source": [
    "ConnectionTests.STA_length = 1000;"
   ]
  },
  {
   "cell_type": "code",
   "execution_count": 4,
   "id": "b020e284-5e45-437c-8014-bf77580ca455",
   "metadata": {},
   "outputs": [],
   "source": [
    "Ns = [5, 20, 100, 400, 1600, 6500]\n",
    "seeds = 1:5;"
   ]
  },
  {
   "cell_type": "code",
   "execution_count": 5,
   "id": "227b5471-7794-4b41-b9a8-0671945a4c85",
   "metadata": {},
   "outputs": [],
   "source": [
    "conntypes(inputs) = begin\n",
    "    conntypes = []\n",
    "    for (conntype, trains) in inputs\n",
    "        append!(conntypes, repeat([conntype], length(trains)))\n",
    "    end\n",
    "    conntypes\n",
    "end;"
   ]
  },
  {
   "cell_type": "code",
   "execution_count": 6,
   "id": "d3f2c95d-580d-4c82-bd7a-9e256c6253f0",
   "metadata": {},
   "outputs": [
    {
     "data": {
      "text/plain": [
       "\"C:\\\\Users\\\\tfiers\\\\.julia\\\\MemDiskCache.jl\\\\2024-05-26__Fix_template-based_method\""
      ]
     },
     "execution_count": 6,
     "metadata": {},
     "output_type": "execute_result"
    }
   ],
   "source": [
    "MemDiskCache.set_dir(\"2024-05-26__Fix_template-based_method\")"
   ]
  },
  {
   "cell_type": "code",
   "execution_count": 8,
   "id": "78393c86-b1bf-4c6a-b5fa-abd75bb81b33",
   "metadata": {
    "scrolled": true
   },
   "outputs": [
    {
     "name": "stdout",
     "output_type": "stream",
     "text": [
      "Running rows_STA_longwin() … \n",
      "N = 5\n",
      "seed = 1\n",
      "\u001b[32mProgress: 100%|█████████████████████████████████████████| Time: 0:00:03\u001b[39m\n",
      "N = 5\n",
      "seed = 2\n",
      "\u001b[32mProgress: 100%|█████████████████████████████████████████| Time: 0:00:01\u001b[39m\n",
      "N = 5\n",
      "seed = 3\n",
      "\u001b[32mProgress: 100%|█████████████████████████████████████████| Time: 0:00:01\u001b[39m\n",
      "N = 5\n",
      "seed = 4\n",
      "\u001b[32mProgress: 100%|█████████████████████████████████████████| Time: 0:00:01\u001b[39m\n",
      "N = 5\n",
      "seed = 5\n",
      "\u001b[32mProgress: 100%|█████████████████████████████████████████| Time: 0:00:01\u001b[39m\n",
      "N = 20\n",
      "seed = 1\n",
      "\u001b[32mProgress: 100%|█████████████████████████████████████████| Time: 0:00:04\u001b[39m\n",
      "N = 20\n",
      "seed = 2\n",
      "\u001b[32mProgress: 100%|█████████████████████████████████████████| Time: 0:00:03\u001b[39m\n",
      "N = 20\n",
      "seed = 3\n",
      "\u001b[32mProgress: 100%|█████████████████████████████████████████| Time: 0:00:04\u001b[39m\n",
      "N = 20\n",
      "seed = 4\n",
      "\u001b[32mProgress: 100%|█████████████████████████████████████████| Time: 0:00:05\u001b[39m\n",
      "N = 20\n",
      "seed = 5\n",
      "\u001b[32mProgress: 100%|█████████████████████████████████████████| Time: 0:00:05\u001b[39m\n",
      "N = 100\n",
      "seed = 1\n",
      "\u001b[32mProgress: 100%|█████████████████████████████████████████| Time: 0:00:22\u001b[39m\n",
      "N = 100\n",
      "seed = 2\n",
      "\u001b[32mProgress: 100%|█████████████████████████████████████████| Time: 0:00:21\u001b[39m\n",
      "N = 100\n",
      "seed = 3\n",
      "\u001b[32mProgress: 100%|█████████████████████████████████████████| Time: 0:00:23\u001b[39m\n",
      "N = 100\n",
      "seed = 4\n",
      "\u001b[32mProgress: 100%|█████████████████████████████████████████| Time: 0:00:25\u001b[39m\n",
      "N = 100\n",
      "seed = 5\n",
      "\u001b[32mProgress: 100%|█████████████████████████████████████████| Time: 0:00:26\u001b[39m\n",
      "N = 400\n",
      "seed = 1\n",
      "\u001b[32mProgress: 100%|█████████████████████████████████████████| Time: 0:01:29\u001b[39m\n",
      "N = 400\n",
      "seed = 2\n",
      "\u001b[32mProgress: 100%|█████████████████████████████████████████| Time: 0:01:33\u001b[39m\n",
      "N = 400\n",
      "seed = 3\n",
      "\u001b[32mProgress: 100%|█████████████████████████████████████████| Time: 0:01:26\u001b[39m\n",
      "N = 400\n",
      "seed = 4\n",
      "\u001b[32mProgress: 100%|█████████████████████████████████████████| Time: 0:01:27\u001b[39m\n",
      "N = 400\n",
      "seed = 5\n",
      "\u001b[32mProgress: 100%|█████████████████████████████████████████| Time: 0:01:40\u001b[39m\n",
      "N = 1600\n",
      "seed = 1\n",
      "\u001b[32mProgress: 100%|█████████████████████████████████████████| Time: 0:06:12\u001b[39m\n",
      "N = 1600\n",
      "seed = 2\n",
      "\u001b[32mProgress: 100%|█████████████████████████████████████████| Time: 0:06:22\u001b[39m\n",
      "N = 1600\n",
      "seed = 3\n",
      "\u001b[32mProgress: 100%|█████████████████████████████████████████| Time: 0:06:21\u001b[39m\n",
      "N = 1600\n",
      "seed = 4\n",
      "\u001b[32mProgress: 100%|█████████████████████████████████████████| Time: 0:06:15\u001b[39m\n",
      "N = 1600\n",
      "seed = 5\n",
      "\u001b[32mProgress: 100%|█████████████████████████████████████████| Time: 0:06:35\u001b[39m\n",
      "N = 6500\n",
      "seed = 1\n",
      "\u001b[32mProgress: 100%|█████████████████████████████████████████| Time: 0:28:55\u001b[39m\n",
      "N = 6500\n",
      "seed = 2\n",
      "\u001b[32mProgress: 100%|█████████████████████████████████████████| Time: 0:28:24\u001b[39m\n",
      "N = 6500\n",
      "seed = 3\n",
      "\u001b[32mProgress: 100%|█████████████████████████████████████████| Time: 0:27:15\u001b[39m\n",
      "N = 6500\n",
      "seed = 4\n",
      "\u001b[32mProgress: 100%|█████████████████████████████████████████| Time: 0:41:36\u001b[39m\n",
      "N = 6500\n",
      "seed = 5\n",
      "\u001b[32mProgress: 100%|█████████████████████████████████████████| Time: 0:29:05\u001b[39m\n",
      "Running rows_STA_longwin() ✔ (1.19E+04 s)\n",
      "Saving output at [C:\\Users\\tfiers\\.julia\\MemDiskCache.jl\\2024-05-26__Fix_template-based_method\\rows_STA_longwin().jld2] … ✔ (0.6 s)\n"
     ]
    },
    {
     "data": {
      "text/plain": [
       "30-element Vector{Any}:\n",
       " (N = 5, seed = 1, tvals = Any[0.99, 0.99, 0.99, 0.99, -0.99, -0.13, -0.8, -0.37, 0.28, 0.14], conntypes = Any[:exc, :exc, :exc, :exc, :inh, :unc, :unc, :unc, :unc, :unc])\n",
       " (N = 5, seed = 2, tvals = Any[0.99, 0.99, 0.99, 0.99, -0.99, 0.55, 0.27, 0.13, 0.43, 0.58], conntypes = Any[:exc, :exc, :exc, :exc, :inh, :unc, :unc, :unc, :unc, :unc])\n",
       " (N = 5, seed = 3, tvals = Any[0.99, 0.99, 0.99, 0.99, -0.99, -0.8, 0.45, 0.61, -0.19, 0.97], conntypes = Any[:exc, :exc, :exc, :exc, :inh, :unc, :unc, :unc, :unc, :unc])\n",
       " (N = 5, seed = 4, tvals = Any[0.99, 0.99, 0.99, 0.99, -0.99, 0.59, -0.45, 0.74, -0.54, -0.44], conntypes = Any[:exc, :exc, :exc, :exc, :inh, :unc, :unc, :unc, :unc, :unc])\n",
       " (N = 5, seed = 5, tvals = Any[0.99, 0.99, 0.99, 0.99, -0.99, 0.97, 0.87, 0.69, -0.49, -0.3], conntypes = Any[:exc, :exc, :exc, :exc, :inh, :unc, :unc, :unc, :unc, :unc])\n",
       " (N = 20, seed = 1, tvals = Any[0.99, 0.99, 0.99, 0.99, 0.99, 0.99, 0.99, 0.99, 0.99, 0.99  …  0.67, 0.71, 0.29, 0.1, 0.01, -0.47, 0.04, -0.21, 0.57, -0.74], conntypes = Any[:exc, :exc, :exc, :exc, :exc, :exc, :exc, :exc, :exc, :exc  …  :unc, :unc, :unc, :unc, :unc, :unc, :unc, :unc, :unc, :unc])\n",
       " (N = 20, seed = 2, tvals = Any[0.99, 0.99, 0.99, 0.99, 0.99, 0.99, 0.99, 0.99, 0.99, 0.99  …  -0.95, 0.27, -0.72, -0.81, -0.8, -0.71, 0.03, -0.8, -0, 0.3], conntypes = Any[:exc, :exc, :exc, :exc, :exc, :exc, :exc, :exc, :exc, :exc  …  :unc, :unc, :unc, :unc, :unc, :unc, :unc, :unc, :unc, :unc])\n",
       " (N = 20, seed = 3, tvals = Any[0.99, 0.99, 0.99, 0.99, 0.99, 0.99, 0.99, 0.99, 0.99, 0.99  …  0.44, 0.58, -0.84, 0.68, 0.86, 0.16, -0.39, -0.08, 0.58, -0.9], conntypes = Any[:exc, :exc, :exc, :exc, :exc, :exc, :exc, :exc, :exc, :exc  …  :unc, :unc, :unc, :unc, :unc, :unc, :unc, :unc, :unc, :unc])\n",
       " (N = 20, seed = 4, tvals = Any[0.99, 0.99, 0.99, 0.99, 0.99, 0.99, 0.99, 0.99, 0.99, 0.99  …  -0.76, 0.31, 0.88, -0.59, -0.62, -0.96, 0.22, 0.99, 0.04, 0.37], conntypes = Any[:exc, :exc, :exc, :exc, :exc, :exc, :exc, :exc, :exc, :exc  …  :unc, :unc, :unc, :unc, :unc, :unc, :unc, :unc, :unc, :unc])\n",
       " (N = 20, seed = 5, tvals = Any[0.99, 0.99, 0.99, 0.99, 0.99, 0.99, 0.99, 0.99, 0.99, 0.99  …  0.34, 0.91, -0.7, 0.03, -0.26, 0.63, 0.16, -0.04, -0.97, -0.3], conntypes = Any[:exc, :exc, :exc, :exc, :exc, :exc, :exc, :exc, :exc, :exc  …  :unc, :unc, :unc, :unc, :unc, :unc, :unc, :unc, :unc, :unc])\n",
       " (N = 100, seed = 1, tvals = Any[0.99, 0.99, 0.99, 0.99, 0.99, 0.99, 0.99, 0.99, 0.99, 0.99  …  0.67, 0.55, -0.43, -0.96, 0.91, -0.13, -0.03, 0.99, -0.42, -0.88], conntypes = Any[:exc, :exc, :exc, :exc, :exc, :exc, :exc, :exc, :exc, :exc  …  :unc, :unc, :unc, :unc, :unc, :unc, :unc, :unc, :unc, :unc])\n",
       " (N = 100, seed = 2, tvals = Any[0.99, 0.99, 0.99, 0.99, 0.99, 0.99, 0.99, 0.99, 0.99, 0.99  …  -0.95, 0.23, 0.48, -0.48, 0.76, 0.54, -0.61, 0.67, 0.2, 0.34], conntypes = Any[:exc, :exc, :exc, :exc, :exc, :exc, :exc, :exc, :exc, :exc  …  :unc, :unc, :unc, :unc, :unc, :unc, :unc, :unc, :unc, :unc])\n",
       " (N = 100, seed = 3, tvals = Any[0.99, 0.99, 0.99, 0.99, 0.99, 0.99, 0.99, 0.99, 0.99, 0.99  …  -0.61, 0.03, 0.7, 0.05, -0.26, 0.4, -0.91, 0.01, 0.99, 0.3], conntypes = Any[:exc, :exc, :exc, :exc, :exc, :exc, :exc, :exc, :exc, :exc  …  :unc, :unc, :unc, :unc, :unc, :unc, :unc, :unc, :unc, :unc])\n",
       " ⋮\n",
       " (N = 400, seed = 4, tvals = Any[-0.99, 0.99, 0.99, 0.99, 0.99, 0.99, 0.99, 0.99, 0.99, 0.99  …  0.35, 0.96, -0.75, -0.01, 0.5, 0.74, -0.49, 0.81, 0.87, 0.99], conntypes = Any[:exc, :exc, :exc, :exc, :exc, :exc, :exc, :exc, :exc, :exc  …  :unc, :unc, :unc, :unc, :unc, :unc, :unc, :unc, :unc, :unc])\n",
       " (N = 400, seed = 5, tvals = Any[0.99, 0.99, 0.99, -0.99, 0.99, 0.99, 0.99, 0.99, -0.99, 0.99  …  -0.05, 0.42, -0.39, -0.92, -0.23, -0.73, -0.67, 0.54, 0.96, -0.64], conntypes = Any[:exc, :exc, :exc, :exc, :exc, :exc, :exc, :exc, :exc, :exc  …  :unc, :unc, :unc, :unc, :unc, :unc, :unc, :unc, :unc, :unc])\n",
       " (N = 1600, seed = 1, tvals = Any[0.99, 0.99, -0.99, 0.99, 0.99, 0.99, -0.99, -0.99, 0.96, -0.99  …  -0.71, 0.4, -0.62, 0.35, 0.21, 0.9, -0.1, 0.26, 0.19, 0.7], conntypes = Any[:exc, :exc, :exc, :exc, :exc, :exc, :exc, :exc, :exc, :exc  …  :unc, :unc, :unc, :unc, :unc, :unc, :unc, :unc, :unc, :unc])\n",
       " (N = 1600, seed = 2, tvals = Any[-0.99, -0.99, -0.99, 0.99, -0.99, -0.99, 0.99, -0.99, 0.99, -0.99  …  -0.18, -0.42, -0.32, 0.33, -0.96, 0.5, -0.92, -0.29, 0.68, -0.57], conntypes = Any[:exc, :exc, :exc, :exc, :exc, :exc, :exc, :exc, :exc, :exc  …  :unc, :unc, :unc, :unc, :unc, :unc, :unc, :unc, :unc, :unc])\n",
       " (N = 1600, seed = 3, tvals = Any[-0.99, -0.99, 0.99, 0.99, -0.99, -0.99, -0.99, 0.99, 0.99, 0.94  …  -0.14, -0.71, -0.37, -0.39, -0.21, 0.23, -0.15, -0.77, 0.41, 0.7], conntypes = Any[:exc, :exc, :exc, :exc, :exc, :exc, :exc, :exc, :exc, :exc  …  :unc, :unc, :unc, :unc, :unc, :unc, :unc, :unc, :unc, :unc])\n",
       " (N = 1600, seed = 4, tvals = Any[0.99, 0.99, -0.99, -0.99, -0.99, -0.99, -0.99, -0.99, 0.96, -0.99  …  -0.01, 0.89, 0.34, -0.86, -0.37, -0.21, -0.44, 0.93, -0.26, 0.18], conntypes = Any[:exc, :exc, :exc, :exc, :exc, :exc, :exc, :exc, :exc, :exc  …  :unc, :unc, :unc, :unc, :unc, :unc, :unc, :unc, :unc, :unc])\n",
       " (N = 1600, seed = 5, tvals = Any[-0.99, 0.99, 0.99, 0.99, -0.99, -0.99, -0.99, -0.99, 0.99, -0.99  …  0.76, -0.57, 0.44, -0.94, -0.62, -0.53, -0.47, 0.49, -0.45, -0.98], conntypes = Any[:exc, :exc, :exc, :exc, :exc, :exc, :exc, :exc, :exc, :exc  …  :unc, :unc, :unc, :unc, :unc, :unc, :unc, :unc, :unc, :unc])\n",
       " (N = 6500, seed = 1, tvals = Any[-0.99, 0.96, 0.8, 0.37, 0.93, 0.95, 0, -0.94, 0.72, 0.9  …  0.79, -0.88, 0.14, -0.7, 0.23, 0.14, -0.28, 0.24, -0.51, -0.12], conntypes = Any[:exc, :exc, :exc, :exc, :exc, :exc, :exc, :exc, :exc, :exc  …  :unc, :unc, :unc, :unc, :unc, :unc, :unc, :unc, :unc, :unc])\n",
       " (N = 6500, seed = 2, tvals = Any[-0.98, -0.91, 0.89, -0.99, -0.99, -0.38, -0.97, 0.83, -0.45, -0.23  …  -0.79, 0.48, 0.75, -0.44, 0.18, 0.32, -0.84, -0.19, 0.08, 0.94], conntypes = Any[:exc, :exc, :exc, :exc, :exc, :exc, :exc, :exc, :exc, :exc  …  :unc, :unc, :unc, :unc, :unc, :unc, :unc, :unc, :unc, :unc])\n",
       " (N = 6500, seed = 3, tvals = Any[-0.98, -0.99, -0.95, 0.39, -0.92, -0.13, 0.59, -0.97, -0.75, 0.59  …  0.71, -0.7, 0.85, -0.99, 0.45, 0.7, 0.04, -0.83, -0.51, 0.97], conntypes = Any[:exc, :exc, :exc, :exc, :exc, :exc, :exc, :exc, :exc, :exc  …  :unc, :unc, :unc, :unc, :unc, :unc, :unc, :unc, :unc, :unc])\n",
       " (N = 6500, seed = 4, tvals = Any[0.7, 0.95, 0.61, -0.98, -0.98, -0.99, -0.72, 0.72, 0.59, -0.94  …  0.92, -0.5, -0.57, 0.79, 0.03, -0.71, 0.31, 0.8, -0.03, -0.82], conntypes = Any[:exc, :exc, :exc, :exc, :exc, :exc, :exc, :exc, :exc, :exc  …  :unc, :unc, :unc, :unc, :unc, :unc, :unc, :unc, :unc, :unc])\n",
       " (N = 6500, seed = 5, tvals = Any[-0.77, -0.47, -0.79, -0.75, -0.98, 0.95, -0.9, 0.9, -0.72, 0.64  …  0.78, -0, 0.33, -0.99, 0.93, -0, -0.58, -0.75, 0.24, 0.07], conntypes = Any[:exc, :exc, :exc, :exc, :exc, :exc, :exc, :exc, :exc, :exc  …  :unc, :unc, :unc, :unc, :unc, :unc, :unc, :unc, :unc, :unc])"
      ]
     },
     "execution_count": 8,
     "metadata": {},
     "output_type": "execute_result"
    }
   ],
   "source": [
    "rows_STA_longwin() = begin\n",
    "    rows = []\n",
    "    for N in Ns\n",
    "        for seed in seeds\n",
    "            @show N seed\n",
    "            sim = Nto1AdEx.sim(N, duration; seed);\n",
    "            ((_, exc),\n",
    "             (_, inh),\n",
    "             (_, unc)) = inputs = get_trains_to_test(sim, Nₜ = length(sim.trains));\n",
    "            all_trains = [exc; inh; unc]\n",
    "            tvals = []\n",
    "            @showprogress for train in all_trains\n",
    "                push!(tvals, STA_test(sim.V, train.times))\n",
    "            end\n",
    "            push!(rows, (; N, seed, tvals, conntypes=conntypes(inputs)))\n",
    "        end\n",
    "    end\n",
    "    rows\n",
    "end\n",
    "\n",
    "rows = @cached rows_STA_longwin()"
   ]
  },
  {
   "cell_type": "markdown",
   "id": "8d8432d1-d10a-4a37-9636-1817b07d1120",
   "metadata": {},
   "source": [
    "3h20, phew."
   ]
  },
  {
   "cell_type": "markdown",
   "id": "ee565bb7-658c-4bb3-85ae-21357d56f7cf",
   "metadata": {},
   "source": [
    "---"
   ]
  },
  {
   "cell_type": "code",
   "execution_count": 12,
   "id": "f55e6125-1ade-44ae-9b7d-c368129a22ee",
   "metadata": {},
   "outputs": [],
   "source": [
    "perfrows = []\n",
    "for row in rows\n",
    "    (; N, seed, tvals) = row\n",
    "    sweep = sweep_threshold(tvals, row.conntypes)\n",
    "    AUC = calc_AUROCs(sweep).AUC\n",
    "    F1max = maximum(skipnan(sweep.F1))\n",
    "    push!(perfrows, (; N, seed, method=\"STA-longwin\", AUC, F1max))\n",
    "end;"
   ]
  },
  {
   "cell_type": "code",
   "execution_count": 13,
   "id": "1db7ed10-6022-44bb-b8f8-ff443d9d4c0c",
   "metadata": {},
   "outputs": [
    {
     "name": "stdout",
     "output_type": "stream",
     "text": [
      "using DataFrames … ✔ (0.6 s)\n"
     ]
    }
   ],
   "source": [
    "include(\"lib/df.jl\")"
   ]
  },
  {
   "cell_type": "code",
   "execution_count": 24,
   "id": "f9ae0587-1e53-41c0-8641-a27142f4fbd5",
   "metadata": {},
   "outputs": [
    {
     "name": "stdout",
     "output_type": "stream",
     "text": [
      "Loading [C:\\Users\\tfiers\\.julia\\MemDiskCache.jl\\2024-05-26__Fix_template-based_method\\perfrows.jld2] … ✔ (3.3 s)\n"
     ]
    }
   ],
   "source": [
    "perfrows_prevnb = @cached \"perfrows\" blah;"
   ]
  },
  {
   "cell_type": "code",
   "execution_count": 25,
   "id": "b2ef249b-ce5b-4a9e-acc6-45f6480744b3",
   "metadata": {},
   "outputs": [],
   "source": [
    "perfrows_both = [perfrows; perfrows_prevnb];"
   ]
  },
  {
   "cell_type": "code",
   "execution_count": 34,
   "id": "aad8e4bf-5e44-4310-b427-b10d7677c805",
   "metadata": {},
   "outputs": [],
   "source": [
    "df = DataFrame(perfrows_both);"
   ]
  },
  {
   "cell_type": "code",
   "execution_count": 36,
   "id": "6e5dac4c-fce9-48b3-b32e-04bda989d446",
   "metadata": {},
   "outputs": [
    {
     "data": {
      "text/html": [
       "<div><div style = \"float: left;\"><span>6×4 DataFrame</span></div><div style = \"clear: both;\"></div></div><div class = \"data-frame\" style = \"overflow-x: scroll;\"><table class = \"data-frame\" style = \"margin-bottom: 6px;\"><thead><tr class = \"header\"><th class = \"rowNumber\" style = \"font-weight: bold; text-align: right;\">Row</th><th style = \"text-align: left;\">N</th><th style = \"text-align: left;\">num_seeds</th><th style = \"text-align: left;\">AUC_mean</th><th style = \"text-align: left;\">F1max_mean</th></tr><tr class = \"subheader headerLastRow\"><th class = \"rowNumber\" style = \"font-weight: bold; text-align: right;\"></th><th title = \"Int64\" style = \"text-align: left;\">Int64</th><th title = \"Int64\" style = \"text-align: left;\">Int64</th><th title = \"Float64\" style = \"text-align: left;\">Float64</th><th title = \"Float64\" style = \"text-align: left;\">Float64</th></tr></thead><tbody><tr><td class = \"rowNumber\" style = \"font-weight: bold; text-align: right;\">1</td><td style = \"text-align: right;\">5</td><td style = \"text-align: right;\">5</td><td style = \"text-align: right;\">1</td><td style = \"text-align: right;\">1</td></tr><tr><td class = \"rowNumber\" style = \"font-weight: bold; text-align: right;\">2</td><td style = \"text-align: right;\">20</td><td style = \"text-align: right;\">5</td><td style = \"text-align: right;\">0.965</td><td style = \"text-align: right;\">0.985</td></tr><tr><td class = \"rowNumber\" style = \"font-weight: bold; text-align: right;\">3</td><td style = \"text-align: right;\">100</td><td style = \"text-align: right;\">5</td><td style = \"text-align: right;\">0.908</td><td style = \"text-align: right;\">0.915</td></tr><tr><td class = \"rowNumber\" style = \"font-weight: bold; text-align: right;\">4</td><td style = \"text-align: right;\">400</td><td style = \"text-align: right;\">5</td><td style = \"text-align: right;\">0.581</td><td style = \"text-align: right;\">0.546</td></tr><tr><td class = \"rowNumber\" style = \"font-weight: bold; text-align: right;\">5</td><td style = \"text-align: right;\">1600</td><td style = \"text-align: right;\">5</td><td style = \"text-align: right;\">0.329</td><td style = \"text-align: right;\">0.328</td></tr><tr><td class = \"rowNumber\" style = \"font-weight: bold; text-align: right;\">6</td><td style = \"text-align: right;\">6500</td><td style = \"text-align: right;\">5</td><td style = \"text-align: right;\">0.242</td><td style = \"text-align: right;\">0.327</td></tr></tbody></table></div>"
      ],
      "text/latex": [
       "\\begin{tabular}{r|cccc}\n",
       "\t& N & num\\_seeds & AUC\\_mean & F1max\\_mean\\\\\n",
       "\t\\hline\n",
       "\t& Int64 & Int64 & Float64 & Float64\\\\\n",
       "\t\\hline\n",
       "\t1 & 5 & 5 & 1 & 1 \\\\\n",
       "\t2 & 20 & 5 & 0.965 & 0.985 \\\\\n",
       "\t3 & 100 & 5 & 0.908 & 0.915 \\\\\n",
       "\t4 & 400 & 5 & 0.581 & 0.546 \\\\\n",
       "\t5 & 1600 & 5 & 0.329 & 0.328 \\\\\n",
       "\t6 & 6500 & 5 & 0.242 & 0.327 \\\\\n",
       "\\end{tabular}\n"
      ],
      "text/plain": [
       "\u001b[1m6×4 DataFrame\u001b[0m\n",
       "\u001b[1m Row \u001b[0m│\u001b[1m N     \u001b[0m\u001b[1m num_seeds \u001b[0m\u001b[1m AUC_mean \u001b[0m\u001b[1m F1max_mean \u001b[0m\n",
       "     │\u001b[90m Int64 \u001b[0m\u001b[90m Int64     \u001b[0m\u001b[90m Float64  \u001b[0m\u001b[90m Float64    \u001b[0m\n",
       "─────┼────────────────────────────────────────\n",
       "   1 │     5          5     1           1\n",
       "   2 │    20          5     0.965       0.985\n",
       "   3 │   100          5     0.908       0.915\n",
       "   4 │   400          5     0.581       0.546\n",
       "   5 │  1600          5     0.329       0.328\n",
       "   6 │  6500          5     0.242       0.327"
      ]
     },
     "execution_count": 36,
     "metadata": {},
     "output_type": "execute_result"
    }
   ],
   "source": [
    "gdf = groupby(df[df.method.==\"STA-longwin\",:], :N)\n",
    "combine(gdf, nrow => :num_seeds, [:AUC, :F1max] .=> mean)"
   ]
  },
  {
   "cell_type": "code",
   "execution_count": 18,
   "id": "a651a21b-ba84-49f6-8140-c9c0f8effe19",
   "metadata": {},
   "outputs": [
    {
     "name": "stdout",
     "output_type": "stream",
     "text": [
      "import PythonCall … ✔\n",
      "import PythonPlot … ✔\n",
      "using Sciplotlib … ✔\n",
      "using PhDPlots … ✔\n"
     ]
    }
   ],
   "source": [
    "include(\"lib/plot.jl\")"
   ]
  },
  {
   "cell_type": "code",
   "execution_count": 20,
   "id": "21701abf-7fba-47b0-9c21-fb4d3bd12b82",
   "metadata": {},
   "outputs": [],
   "source": [
    "chance_AUC = 0.252;"
   ]
  },
  {
   "cell_type": "code",
   "execution_count": 41,
   "id": "d4bada14-7396-4076-9e4b-ddc7f79f7121",
   "metadata": {},
   "outputs": [
    {
     "name": "stdout",
     "output_type": "stream",
     "text": [
      "Saved at `../thesis/figs/perf-STA-winlength.pdf`"
     ]
    },
    {
     "data": {
      "image/png": "[encoded data removed]",
      "text/plain": [
       "PythonPlot.Figure(<py Figure size 800x480 with 1 Axes>)"
      ]
     },
     "metadata": {
      "image/png": {
       "height": 240,
       "width": 400
      }
     },
     "output_type": "display_data"
    }
   ],
   "source": [
    "ax = newax()\n",
    "plotAUC(ax, m; kw...) = begin\n",
    "    plot_dots_and_means(\n",
    "        df[df.method.==m, :], :N, :AUC;\n",
    "        ax,\n",
    "        xtype=:categorical, xticklabels=Ns,\n",
    "        ylim=[0,1],\n",
    "        xlabel = L\"Number of inputs $N$\",\n",
    "        kw...\n",
    "    )\n",
    "end\n",
    "add_chance_line(ax) = ax.axhline(chance_AUC, ls=\"--\", lw=1, color=\"gray\", label=\"Chance level\")\n",
    "add_chance_line(ax)\n",
    "plotAUC(ax, \"STA-longwin\", line_label=\"100 ms window\");\n",
    "plotAUC(ax, \"STA\", line_label=\"20 ms window\", color_means=C0);\n",
    "legend(ax, reorder=[1=>3])\n",
    "savefig_phd(\"perf-STA-winlength\");"
   ]
  },
  {
   "cell_type": "markdown",
   "id": "86cf91a3-3dc6-4c74-872c-33179f899ce6",
   "metadata": {},
   "source": [
    "---"
   ]
  },
  {
   "cell_type": "markdown",
   "id": "b4a57f1c-91c7-44e4-9ca6-47a77517e85a",
   "metadata": {},
   "source": [
    "\"Numerical fixed point\".\\\n",
    "Size of exponential term in eq 1."
   ]
  },
  {
   "cell_type": "code",
   "execution_count": 43,
   "id": "e89b4c92-ab87-43f0-9a1d-0a1186dbe819",
   "metadata": {},
   "outputs": [],
   "source": [
    "(; gₗ, Δₜ, Vₜ, Eₗ) = Nto1AdEx;"
   ]
  },
  {
   "cell_type": "code",
   "execution_count": 44,
   "id": "16923638-e1d5-48a1-8dd8-8c80e4125bf1",
   "metadata": {},
   "outputs": [
    {
     "data": {
      "text/plain": [
       "3.01E-19"
      ]
     },
     "execution_count": 44,
     "metadata": {},
     "output_type": "execute_result"
    }
   ],
   "source": [
    "exp_term(V) = gₗ*Δₜ*exp((V-Vₜ)/Δₜ)\n",
    "exp_term(Eₗ)"
   ]
  },
  {
   "cell_type": "markdown",
   "id": "6b4c9e30-5003-42da-84ad-424671df4272",
   "metadata": {},
   "source": [
    "Units are.. SI.\\\n",
    "Let's do in mV/ms eg.\\\n",
    "Will be same :)"
   ]
  },
  {
   "cell_type": "code",
   "execution_count": 45,
   "id": "e7cb02b4-9ef2-479b-9bad-f19d3ec20432",
   "metadata": {},
   "outputs": [
    {
     "data": {
      "text/plain": [
       "2.22E-16"
      ]
     },
     "execution_count": 45,
     "metadata": {},
     "output_type": "execute_result"
    }
   ],
   "source": [
    "eps(Float64)"
   ]
  }
 ],
 "metadata": {
  "kernelspec": {
   "display_name": "Julio 1.10.3",
   "language": "julia",
   "name": "julio-1.10"
  },
  "language_info": {
   "file_extension": ".jl",
   "mimetype": "application/julia",
   "name": "julia",
   "version": "1.10.3"
  }
 },
 "nbformat": 4,
 "nbformat_minor": 5
}
