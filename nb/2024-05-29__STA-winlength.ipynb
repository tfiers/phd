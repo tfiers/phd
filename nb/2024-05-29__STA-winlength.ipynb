{
 "cells": [
  {
   "cell_type": "code",
   "execution_count": null,
   "id": "1ac36ca2-da7d-408a-80df-5da520b4bed2",
   "metadata": {},
   "outputs": [],
   "source": [
    "new_nb(\"2024-05-29__STA-winlength\")"
   ]
  },
  {
   "cell_type": "code",
   "execution_count": null,
   "id": "213e1c67-cc2f-43c2-966f-f4865c4b1946",
   "metadata": {},
   "outputs": [],
   "source": []
  },
  {
   "cell_type": "code",
   "execution_count": 1,
   "id": "fc5fef0d-e5b0-4fa4-a16a-f52c879d1a58",
   "metadata": {},
   "outputs": [
    {
     "name": "stdout",
     "output_type": "stream",
     "text": [
      "using Revise … ✔ (0.2 s)\n",
      "using Units, Nto1AdEx, ConnectionTests, ConnTestEval, MemDiskCache … ✔ (0.4 s)\n",
      "using StatsBase … ✔\n"
     ]
    }
   ],
   "source": [
    "include(\"lib/Nto1.jl\")"
   ]
  },
  {
   "cell_type": "code",
   "execution_count": 2,
   "id": "b2aeb860-8e7c-4242-8a00-c0f8ec4f469f",
   "metadata": {},
   "outputs": [
    {
     "data": {
      "text/plain": [
       "600"
      ]
     },
     "execution_count": 2,
     "metadata": {},
     "output_type": "execute_result"
    }
   ],
   "source": [
    "duration = 10minutes"
   ]
  },
  {
   "cell_type": "markdown",
   "id": "229f5c96-a39e-43de-bc00-7cd439879404",
   "metadata": {},
   "source": [
    "---"
   ]
  },
  {
   "cell_type": "code",
   "execution_count": 3,
   "id": "029045f2-b61d-4d86-ac2c-85847deb2090",
   "metadata": {},
   "outputs": [],
   "source": [
    "ConnectionTests.STA_length = 1000;"
   ]
  },
  {
   "cell_type": "code",
   "execution_count": 4,
   "id": "b020e284-5e45-437c-8014-bf77580ca455",
   "metadata": {},
   "outputs": [],
   "source": [
    "Ns = [5, 20, 100, 400, 1600, 6500]\n",
    "seeds = 1:5;"
   ]
  },
  {
   "cell_type": "code",
   "execution_count": 5,
   "id": "227b5471-7794-4b41-b9a8-0671945a4c85",
   "metadata": {},
   "outputs": [],
   "source": [
    "conntypes(inputs) = begin\n",
    "    conntypes = []\n",
    "    for (conntype, trains) in inputs\n",
    "        append!(conntypes, repeat([conntype], length(trains)))\n",
    "    end\n",
    "    conntypes\n",
    "end;"
   ]
  },
  {
   "cell_type": "code",
   "execution_count": 6,
   "id": "d3f2c95d-580d-4c82-bd7a-9e256c6253f0",
   "metadata": {},
   "outputs": [
    {
     "data": {
      "text/plain": [
       "\"C:\\\\Users\\\\tfiers\\\\.julia\\\\MemDiskCache.jl\\\\2024-05-26__Fix_template-based_method\""
      ]
     },
     "execution_count": 6,
     "metadata": {},
     "output_type": "execute_result"
    }
   ],
   "source": [
    "MemDiskCache.set_dir(\"2024-05-26__Fix_template-based_method\")"
   ]
  },
  {
   "cell_type": "code",
   "execution_count": null,
   "id": "78393c86-b1bf-4c6a-b5fa-abd75bb81b33",
   "metadata": {},
   "outputs": [
    {
     "name": "stdout",
     "output_type": "stream",
     "text": [
      "Running rows_STA_longwin() … \n",
      "N = 5\n",
      "seed = 1\n",
      "\u001b[32mProgress: 100%|█████████████████████████████████████████| Time: 0:00:03\u001b[39m\n",
      "N = 5\n",
      "seed = 2\n",
      "\u001b[32mProgress: 100%|█████████████████████████████████████████| Time: 0:00:01\u001b[39m\n",
      "N = 5\n",
      "seed = 3\n",
      "\u001b[32mProgress: 100%|█████████████████████████████████████████| Time: 0:00:01\u001b[39m\n",
      "N = 5\n",
      "seed = 4\n",
      "\u001b[32mProgress: 100%|█████████████████████████████████████████| Time: 0:00:01\u001b[39m\n",
      "N = 5\n",
      "seed = 5\n",
      "\u001b[32mProgress: 100%|█████████████████████████████████████████| Time: 0:00:01\u001b[39m\n",
      "N = 20\n",
      "seed = 1\n",
      "\u001b[32mProgress: 100%|█████████████████████████████████████████| Time: 0:00:04\u001b[39m\n",
      "N = 20\n",
      "seed = 2\n",
      "\u001b[32mProgress: 100%|█████████████████████████████████████████| Time: 0:00:03\u001b[39m\n",
      "N = 20\n",
      "seed = 3\n",
      "\u001b[32mProgress: 100%|█████████████████████████████████████████| Time: 0:00:04\u001b[39m\n",
      "N = 20\n",
      "seed = 4\n",
      "\u001b[32mProgress: 100%|█████████████████████████████████████████| Time: 0:00:05\u001b[39m\n",
      "N = 20\n",
      "seed = 5\n",
      "\u001b[32mProgress: 100%|█████████████████████████████████████████| Time: 0:00:05\u001b[39m\n",
      "N = 100\n",
      "seed = 1\n",
      "\u001b[32mProgress: 100%|█████████████████████████████████████████| Time: 0:00:22\u001b[39m\n",
      "N = 100\n",
      "seed = 2\n",
      "\u001b[32mProgress: 100%|█████████████████████████████████████████| Time: 0:00:21\u001b[39m\n",
      "N = 100\n",
      "seed = 3\n",
      "\u001b[32mProgress: 100%|█████████████████████████████████████████| Time: 0:00:23\u001b[39m\n",
      "N = 100\n",
      "seed = 4\n",
      "\u001b[32mProgress: 100%|█████████████████████████████████████████| Time: 0:00:25\u001b[39m\n",
      "N = 100\n",
      "seed = 5\n",
      "\u001b[32mProgress: 100%|█████████████████████████████████████████| Time: 0:00:26\u001b[39m\n",
      "N = 400\n",
      "seed = 1\n",
      "\u001b[32mProgress: 100%|█████████████████████████████████████████| Time: 0:01:29\u001b[39m\n",
      "N = 400\n",
      "seed = 2\n",
      "\u001b[32mProgress: 100%|█████████████████████████████████████████| Time: 0:01:33\u001b[39m\n",
      "N = 400\n",
      "seed = 3\n",
      "\u001b[32mProgress: 100%|█████████████████████████████████████████| Time: 0:01:26\u001b[39m\n",
      "N = 400\n",
      "seed = 4\n",
      "\u001b[32mProgress: 100%|█████████████████████████████████████████| Time: 0:01:27\u001b[39m\n",
      "N = 400\n",
      "seed = 5\n",
      "\u001b[32mProgress: 100%|█████████████████████████████████████████| Time: 0:01:40\u001b[39m\n",
      "N = 1600\n",
      "seed = 1\n",
      "\u001b[32mProgress: 100%|█████████████████████████████████████████| Time: 0:06:12\u001b[39m\n",
      "N = 1600\n",
      "seed = 2\n",
      "\u001b[32mProgress: 100%|█████████████████████████████████████████| Time: 0:06:22\u001b[39m\n",
      "N = 1600\n",
      "seed = 3\n",
      "\u001b[32mProgress: 100%|█████████████████████████████████████████| Time: 0:06:21\u001b[39m\n",
      "N = 1600\n",
      "seed = 4\n",
      "\u001b[32mProgress: 100%|█████████████████████████████████████████| Time: 0:06:15\u001b[39m\n",
      "N = 1600\n",
      "seed = 5\n",
      "\u001b[32mProgress: 100%|█████████████████████████████████████████| Time: 0:06:35\u001b[39m\n",
      "N = 6500\n",
      "seed = 1\n",
      "\u001b[32mProgress: 100%|█████████████████████████████████████████| Time: 0:28:55\u001b[39m\n",
      "N = 6500\n",
      "seed = 2\n",
      "\u001b[32mProgress: 100%|█████████████████████████████████████████| Time: 0:28:24\u001b[39m\n",
      "N = 6500\n",
      "seed = 3\n",
      "\u001b[32mProgress:  99%|█████████████████████████████████████████|  ETA: 0:00:18\u001b[39m"
     ]
    }
   ],
   "source": [
    "rows_STA_longwin() = begin\n",
    "    rows = []\n",
    "    for N in Ns\n",
    "        for seed in seeds\n",
    "            @show N seed\n",
    "            sim = Nto1AdEx.sim(N, duration; seed);\n",
    "            ((_, exc),\n",
    "             (_, inh),\n",
    "             (_, unc)) = inputs = get_trains_to_test(sim, Nₜ = length(sim.trains));\n",
    "            all_trains = [exc; inh; unc]\n",
    "            tvals = []\n",
    "            @showprogress for train in all_trains\n",
    "                push!(tvals, STA_test(sim.V, train.times))\n",
    "            end\n",
    "            push!(rows, (; N, seed, tvals, conntypes=conntypes(inputs)))\n",
    "        end\n",
    "    end\n",
    "    rows\n",
    "end\n",
    "\n",
    "rows = @cached rows_STA_longwin()"
   ]
  },
  {
   "cell_type": "markdown",
   "id": "ee565bb7-658c-4bb3-85ae-21357d56f7cf",
   "metadata": {},
   "source": [
    "---"
   ]
  },
  {
   "cell_type": "code",
   "execution_count": 6,
   "id": "f55e6125-1ade-44ae-9b7d-c368129a22ee",
   "metadata": {},
   "outputs": [],
   "source": [
    "perfrows = []\n",
    "for row in rows\n",
    "    (; N, seed, tvals) = row\n",
    "    sweep = sweep_threshold(tvals, row.conntypes)\n",
    "    AUC = calc_AUROCs(sweep).AUC\n",
    "    F1max = maximum(skipnan(sweep.F1))\n",
    "    push!(perfrows, (; N, seed, method=\"STA-longwin\", AUC, F1max))\n",
    "end;"
   ]
  },
  {
   "cell_type": "code",
   "execution_count": 7,
   "id": "1db7ed10-6022-44bb-b8f8-ff443d9d4c0c",
   "metadata": {},
   "outputs": [
    {
     "name": "stdout",
     "output_type": "stream",
     "text": [
      "using DataFrames … ✔ (0.5 s)\n"
     ]
    }
   ],
   "source": [
    "include(\"lib/df.jl\")"
   ]
  },
  {
   "cell_type": "code",
   "execution_count": 8,
   "id": "aad8e4bf-5e44-4310-b427-b10d7677c805",
   "metadata": {},
   "outputs": [],
   "source": [
    "df = DataFrame(perfrows);"
   ]
  },
  {
   "cell_type": "code",
   "execution_count": 9,
   "id": "6e5dac4c-fce9-48b3-b32e-04bda989d446",
   "metadata": {},
   "outputs": [
    {
     "data": {
      "text/html": [
       "<div><div style = \"float: left;\"><span>6×4 DataFrame</span></div><div style = \"clear: both;\"></div></div><div class = \"data-frame\" style = \"overflow-x: scroll;\"><table class = \"data-frame\" style = \"margin-bottom: 6px;\"><thead><tr class = \"header\"><th class = \"rowNumber\" style = \"font-weight: bold; text-align: right;\">Row</th><th style = \"text-align: left;\">N</th><th style = \"text-align: left;\">num_seeds</th><th style = \"text-align: left;\">AUC_mean</th><th style = \"text-align: left;\">F1max_mean</th></tr><tr class = \"subheader headerLastRow\"><th class = \"rowNumber\" style = \"font-weight: bold; text-align: right;\"></th><th title = \"Int64\" style = \"text-align: left;\">Int64</th><th title = \"Int64\" style = \"text-align: left;\">Int64</th><th title = \"Float64\" style = \"text-align: left;\">Float64</th><th title = \"Float64\" style = \"text-align: left;\">Float64</th></tr></thead><tbody><tr><td class = \"rowNumber\" style = \"font-weight: bold; text-align: right;\">1</td><td style = \"text-align: right;\">5</td><td style = \"text-align: right;\">5</td><td style = \"text-align: right;\">0.98</td><td style = \"text-align: right;\">0.982</td></tr><tr><td class = \"rowNumber\" style = \"font-weight: bold; text-align: right;\">2</td><td style = \"text-align: right;\">20</td><td style = \"text-align: right;\">5</td><td style = \"text-align: right;\">0.985</td><td style = \"text-align: right;\">0.986</td></tr><tr><td class = \"rowNumber\" style = \"font-weight: bold; text-align: right;\">3</td><td style = \"text-align: right;\">100</td><td style = \"text-align: right;\">5</td><td style = \"text-align: right;\">0.975</td><td style = \"text-align: right;\">0.976</td></tr><tr><td class = \"rowNumber\" style = \"font-weight: bold; text-align: right;\">4</td><td style = \"text-align: right;\">400</td><td style = \"text-align: right;\">5</td><td style = \"text-align: right;\">0.977</td><td style = \"text-align: right;\">0.971</td></tr><tr><td class = \"rowNumber\" style = \"font-weight: bold; text-align: right;\">5</td><td style = \"text-align: right;\">1600</td><td style = \"text-align: right;\">5</td><td style = \"text-align: right;\">0.884</td><td style = \"text-align: right;\">0.83</td></tr><tr><td class = \"rowNumber\" style = \"font-weight: bold; text-align: right;\">6</td><td style = \"text-align: right;\">6500</td><td style = \"text-align: right;\">5</td><td style = \"text-align: right;\">0.511</td><td style = \"text-align: right;\">0.529</td></tr></tbody></table></div>"
      ],
      "text/latex": [
       "\\begin{tabular}{r|cccc}\n",
       "\t& N & num\\_seeds & AUC\\_mean & F1max\\_mean\\\\\n",
       "\t\\hline\n",
       "\t& Int64 & Int64 & Float64 & Float64\\\\\n",
       "\t\\hline\n",
       "\t1 & 5 & 5 & 0.98 & 0.982 \\\\\n",
       "\t2 & 20 & 5 & 0.985 & 0.986 \\\\\n",
       "\t3 & 100 & 5 & 0.975 & 0.976 \\\\\n",
       "\t4 & 400 & 5 & 0.977 & 0.971 \\\\\n",
       "\t5 & 1600 & 5 & 0.884 & 0.83 \\\\\n",
       "\t6 & 6500 & 5 & 0.511 & 0.529 \\\\\n",
       "\\end{tabular}\n"
      ],
      "text/plain": [
       "\u001b[1m6×4 DataFrame\u001b[0m\n",
       "\u001b[1m Row \u001b[0m│\u001b[1m N     \u001b[0m\u001b[1m num_seeds \u001b[0m\u001b[1m AUC_mean \u001b[0m\u001b[1m F1max_mean \u001b[0m\n",
       "     │\u001b[90m Int64 \u001b[0m\u001b[90m Int64     \u001b[0m\u001b[90m Float64  \u001b[0m\u001b[90m Float64    \u001b[0m\n",
       "─────┼────────────────────────────────────────\n",
       "   1 │     5          5     0.98        0.982\n",
       "   2 │    20          5     0.985       0.986\n",
       "   3 │   100          5     0.975       0.976\n",
       "   4 │   400          5     0.977       0.971\n",
       "   5 │  1600          5     0.884       0.83\n",
       "   6 │  6500          5     0.511       0.529"
      ]
     },
     "execution_count": 9,
     "metadata": {},
     "output_type": "execute_result"
    }
   ],
   "source": [
    "gdf = groupby(df, :N)\n",
    "combine(gdf, nrow => :num_seeds, [:AUC, :F1max] .=> mean)"
   ]
  }
 ],
 "metadata": {
  "kernelspec": {
   "display_name": "Julio 1.10.3",
   "language": "julia",
   "name": "julio-1.10"
  },
  "language_info": {
   "file_extension": ".jl",
   "mimetype": "application/julia",
   "name": "julia",
   "version": "1.10.3"
  }
 },
 "nbformat": 4,
 "nbformat_minor": 5
}
