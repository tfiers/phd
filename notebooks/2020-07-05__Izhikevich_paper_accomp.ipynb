{
 "cells": [
  {
   "cell_type": "markdown",
   "metadata": {
    "heading_collapsed": true
   },
   "source": [
    "## init"
   ]
  },
  {
   "cell_type": "code",
   "execution_count": 13,
   "metadata": {
    "hidden": true
   },
   "outputs": [],
   "source": [
    "%config InteractiveShell.ast_node_interactivity = 'last_expr_or_assign'"
   ]
  },
  {
   "cell_type": "code",
   "execution_count": 71,
   "metadata": {
    "hidden": true
   },
   "outputs": [],
   "source": [
    "import sympy as sym\n",
    "import numpy as np\n",
    "import matplotlib.pyplot as plt\n",
    "from ipywidgets import interact, interact_manual"
   ]
  },
  {
   "cell_type": "markdown",
   "metadata": {
    "heading_collapsed": true
   },
   "source": [
    "## n(t) for $\\dot{V}=0$ (testing SymPy)"
   ]
  },
  {
   "cell_type": "code",
   "execution_count": 22,
   "metadata": {
    "hidden": true
   },
   "outputs": [],
   "source": [
    "tau, n_inf, t = sym.symbols('τ, n_\\infty, t')"
   ]
  },
  {
   "cell_type": "code",
   "execution_count": 23,
   "metadata": {
    "hidden": true
   },
   "outputs": [
    {
     "data": {
      "text/latex": [
       "$\\displaystyle n{\\left(t \\right)}$"
      ],
      "text/plain": [
       "n(t)"
      ]
     },
     "execution_count": 23,
     "metadata": {},
     "output_type": "execute_result"
    }
   ],
   "source": [
    "n = sym.Function('n')(t)"
   ]
  },
  {
   "cell_type": "code",
   "execution_count": 24,
   "metadata": {
    "hidden": true
   },
   "outputs": [
    {
     "data": {
      "text/latex": [
       "$\\displaystyle \\frac{d}{d t} n{\\left(t \\right)}$"
      ],
      "text/plain": [
       "Derivative(n(t), t)"
      ]
     },
     "execution_count": 24,
     "metadata": {},
     "output_type": "execute_result"
    }
   ],
   "source": [
    "ndot = n.diff(t)"
   ]
  },
  {
   "cell_type": "code",
   "execution_count": 25,
   "metadata": {
    "hidden": true
   },
   "outputs": [
    {
     "data": {
      "text/latex": [
       "$\\displaystyle \\frac{d}{d t} n{\\left(t \\right)} = \\frac{n_\\infty - n{\\left(t \\right)}}{τ}$"
      ],
      "text/plain": [
       "Eq(Derivative(n(t), t), (n_\\infty - n(t))/τ)"
      ]
     },
     "execution_count": 25,
     "metadata": {},
     "output_type": "execute_result"
    }
   ],
   "source": [
    "V_nullcline__n = sym.Eq(ndot, (n_inf - n)/tau)"
   ]
  },
  {
   "cell_type": "code",
   "execution_count": 26,
   "metadata": {
    "hidden": true
   },
   "outputs": [
    {
     "data": {
      "text/latex": [
       "$\\displaystyle n{\\left(t \\right)} = C_{1} e^{- \\frac{t}{τ}} + n_\\infty$"
      ],
      "text/plain": [
       "Eq(n(t), C1*exp(-t/τ) + n_\\infty)"
      ]
     },
     "execution_count": 26,
     "metadata": {},
     "output_type": "execute_result"
    }
   ],
   "source": [
    "sym.dsolve(V_nullcline__n)"
   ]
  },
  {
   "cell_type": "markdown",
   "metadata": {
    "heading_collapsed": true
   },
   "source": [
    "## n(V) for $\\dot{V} = 0$"
   ]
  },
  {
   "cell_type": "code",
   "execution_count": 22,
   "metadata": {
    "hidden": true
   },
   "outputs": [],
   "source": [
    "def plot(V_1_2, k, I, g_L, E_L, g_Na, E_Na, g_K, E_K):\n",
    "    \n",
    "    def m_inf(V):\n",
    "        return 1/(1+np.exp((V_1_2-V)/k))\n",
    "\n",
    "    def n(V):\n",
    "        num = I - g_L*(V-E_L) - g_Na*m_inf(V)*(V-E_Na)\n",
    "        denom = g_K*(V-E_K)\n",
    "        return num/denom\n",
    "\n",
    "    V = np.linspace(-100, 70, 1000)\n",
    "    plt.plot(V, n(V))\n",
    "    plt.xlabel('V (mV)')\n",
    "    plt.ylabel('n')"
   ]
  },
  {
   "cell_type": "markdown",
   "metadata": {
    "hidden": true
   },
   "source": [
    "Units:\n",
    "- Voltages in mV\n",
    "- Conductances in mS\n"
   ]
  },
  {
   "cell_type": "code",
   "execution_count": 24,
   "metadata": {
    "hidden": true
   },
   "outputs": [
    {
     "data": {
      "application/vnd.jupyter.widget-view+json": {
       "model_id": "26766e5329b34d00aa3a4db3fe697d43",
       "version_major": 2,
       "version_minor": 0
      },
      "text/plain": [
       "interactive(children=(FloatSlider(value=1.5, description='V_1_2', max=4.5, min=-1.5), IntSlider(value=16, desc…"
      ]
     },
     "metadata": {},
     "output_type": "display_data"
    }
   ],
   "source": [
    "interact_manual(\n",
    "    plot,\n",
    "    V_1_2 = 1.5,\n",
    "    k = 16,\n",
    "    I = 0,\n",
    "    g_L = 19,\n",
    "    E_L = -67,\n",
    "    g_Na = 74,\n",
    "    E_Na = 80,  #60\n",
    "    g_K = 10,\n",
    "    E_K = -120,  #-90\n",
    ");"
   ]
  },
  {
   "cell_type": "markdown",
   "metadata": {
    "heading_collapsed": true
   },
   "source": [
    "## Simulate Izhikevich neuron"
   ]
  },
  {
   "cell_type": "markdown",
   "metadata": {
    "hidden": true
   },
   "source": [
    "Units are pF, mV, ms, and pA.  \n",
    "(a is in 1/ms)."
   ]
  },
  {
   "cell_type": "code",
   "execution_count": 63,
   "metadata": {
    "hidden": true
   },
   "outputs": [],
   "source": [
    "def izh_neuron(C, k, v_r, v_t, v_peak, a, b, c, d, I):\n",
    "    \n",
    "    dv_dt = lambda v,u: (k*(v-v_r)*(v-v_t) - u + I)/C\n",
    "    du_dt = lambda v,u: a*(b*(v-v_r) - u)\n",
    "\n",
    "    v_t0 = v_r\n",
    "    u_t0 = 0\n",
    "\n",
    "    T = 1000\n",
    "    dt = 0.1\n",
    "\n",
    "    N = round(T/dt)  # number of simulation steps\n",
    "    v = np.ones(N) * v_t0\n",
    "    u = np.ones(N) * u_t0\n",
    "    for i in range(N-1):\n",
    "        v[i+1] = v[i] + dt * dv_dt(v[i], u[i])\n",
    "        u[i+1] = u[i] + dt * du_dt(v[i], u[i])\n",
    "        if v[i+1] >= v_peak:\n",
    "            v[i] = v_peak\n",
    "            v[i+1] = c\n",
    "            u[i+1] = u[i+1] + d\n",
    "\n",
    "    t = np.linspace(0, T, N)\n",
    "    fig, ax = plt.subplots()\n",
    "    ax.plot(t, v);\n",
    "    ax.set(xlabel=\"t (ms)\", ylabel=\"V (mV)\", ylim=[-75, 30])"
   ]
  },
  {
   "cell_type": "code",
   "execution_count": 72,
   "metadata": {
    "hidden": true
   },
   "outputs": [
    {
     "data": {
      "application/vnd.jupyter.widget-view+json": {
       "model_id": "b38b98a4092142fead9a983a1f9ac21d",
       "version_major": 2,
       "version_minor": 0
      },
      "text/plain": [
       "interactive(children=(IntSlider(value=100, description='C', max=300, min=-100), FloatSlider(value=0.7, descrip…"
      ]
     },
     "metadata": {},
     "output_type": "display_data"
    }
   ],
   "source": [
    "cortical_RS = dict(C=100, k=0.7, v_r=-60, v_t=-40, v_peak=35, a=0.03, b=-2, c=-50, d=100)\n",
    "cortical_IB = dict(C=150, k=1.2, v_r=-75, v_t=-45, v_peak=35, a=0.01, b= 5, c=-56, d=130)\n",
    "cortical_CH = dict(C= 50, k=1.5, v_r=-60, v_t=-40, v_peak=25, a=0.03, b= 1, c=-40, d=150)\n",
    "\n",
    "interact(izh_neuron, I=60, **cortical_RS);"
   ]
  },
  {
   "cell_type": "code",
   "execution_count": null,
   "metadata": {
    "hidden": true
   },
   "outputs": [],
   "source": []
  }
 ],
 "metadata": {
  "kernelspec": {
   "display_name": "Python 3",
   "language": "python",
   "name": "python3"
  },
  "language_info": {
   "codemirror_mode": {
    "name": "ipython",
    "version": 3
   },
   "file_extension": ".py",
   "mimetype": "text/x-python",
   "name": "python",
   "nbconvert_exporter": "python",
   "pygments_lexer": "ipython3",
   "version": "3.8.3"
  }
 },
 "nbformat": 4,
 "nbformat_minor": 4
}
