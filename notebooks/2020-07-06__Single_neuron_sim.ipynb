{
 "cells": [
  {
   "cell_type": "markdown",
   "metadata": {
    "colab_type": "text",
    "id": "Veg1LZfYoPQn"
   },
   "source": [
    "## Introduction\n",
    "\n",
    "I want to test whether we can recover connections..\n",
    " - between simulated neurons\n",
    " - under 'realistic' voltage imaging conditions\n",
    " - using spike-triggered averages of subhtreshold voltages.\n",
    "\n",
    "Here we start by simulating a single neuron excited by an incoming spike train."
   ]
  },
  {
   "cell_type": "markdown",
   "metadata": {
    "colab_type": "text",
    "id": "C1Jc0S9moPQo"
   },
   "source": [
    "## Izhikevich neuron\n",
    "\n",
    "Model and parameters from Humphries 2006, \"Understanding and using Izhikevich's simple model neuron\".\n",
    "\n",
    "\n",
    "Integration by forward Euler."
   ]
  },
  {
   "cell_type": "markdown",
   "metadata": {
    "colab_type": "text",
    "id": "nE3FPDWh-K-L"
   },
   "source": [
    "Parameters for a cortical regular spiking (RS) neuron.\n",
    "\n",
    "Units are pF, mV, ms, and pA.  \n",
    "(`a` is in 1/ms)."
   ]
  },
  {
   "cell_type": "code",
   "execution_count": null,
   "metadata": {
    "colab": {},
    "colab_type": "code",
    "id": "pEyZHLZfoPQq"
   },
   "outputs": [],
   "source": [
    "C = 100; k = 0.7; v_r = -60; v_t = -40; v_peak = 35; a = 0.03; b = -2; c = -50; d = 100;"
   ]
  },
  {
   "cell_type": "code",
   "execution_count": null,
   "metadata": {
    "colab": {},
    "colab_type": "code",
    "id": "AXjooGc8oPQt"
   },
   "outputs": [],
   "source": [
    "T = 1000  # simulation duration\n",
    "dt = 0.1  # timestep\n",
    "N = round(T/dt)  # number of simulation steps"
   ]
  },
  {
   "cell_type": "code",
   "execution_count": null,
   "metadata": {
    "cellView": "both",
    "colab": {},
    "colab_type": "code",
    "id": "YZIk7tBKr2D-"
   },
   "outputs": [],
   "source": [
    "import numpy as np"
   ]
  },
  {
   "cell_type": "code",
   "execution_count": null,
   "metadata": {
    "colab": {},
    "colab_type": "code",
    "id": "_Sa1qgFDoPQz"
   },
   "outputs": [],
   "source": [
    "from numba import jit\n",
    "\n",
    "@jit\n",
    "def izh_neuron(I):\n",
    "    '''\n",
    "    Input I and output v: arrays of length N.\n",
    "    '''\n",
    "    \n",
    "    dv_dt = lambda v,u,i: (k*(v-v_r)*(v-v_t) - u + i)/C\n",
    "    du_dt = lambda v,u: a*(b*(v-v_r) - u)\n",
    "\n",
    "    v_t0 = v_r\n",
    "    u_t0 = 0\n",
    "\n",
    "    v = np.ones(N) * v_t0\n",
    "    u = np.ones(N) * u_t0\n",
    "    for i in range(N-1):\n",
    "        v[i+1] = v[i] + dt * dv_dt(v[i], u[i], I[i])\n",
    "        u[i+1] = u[i] + dt * du_dt(v[i], u[i])\n",
    "        if v[i+1] >= v_peak:\n",
    "            v[i] = v_peak\n",
    "            v[i+1] = c\n",
    "            u[i+1] = u[i+1] + d\n",
    "\n",
    "    return v"
   ]
  },
  {
   "cell_type": "markdown",
   "metadata": {
    "colab_type": "text",
    "id": "aDK9EauaoPQ6"
   },
   "source": [
    "Plotting function we'll reuse a few times."
   ]
  },
  {
   "cell_type": "code",
   "execution_count": null,
   "metadata": {
    "colab": {},
    "colab_type": "code",
    "id": "8ngmU58XtAnG"
   },
   "outputs": [],
   "source": [
    "import matplotlib.pyplot as plt\n",
    "\n",
    "def plot_signal(x, ylabel='', t=None):\n",
    "    fig, ax = plt.subplots()\n",
    "    if t is None:\n",
    "        N = len(x)\n",
    "        T = N*dt\n",
    "        t = np.linspace(0, T, N)\n",
    "    ax.plot(t, x);\n",
    "    ax.set(xlabel=\"t (ms)\", ylabel=ylabel)\n",
    "    return fig, ax"
   ]
  },
  {
   "cell_type": "markdown",
   "metadata": {
    "colab_type": "text",
    "id": "qb2kwmQ6uths"
   },
   "source": [
    "Test neuron model with constant current injection."
   ]
  },
  {
   "cell_type": "code",
   "execution_count": null,
   "metadata": {
    "colab": {
     "base_uri": "https://localhost:8080/",
     "height": 279
    },
    "colab_type": "code",
    "executionInfo": {
     "elapsed": 1267,
     "status": "ok",
     "timestamp": 1594049227489,
     "user": {
      "displayName": "Tomas Fiers",
      "photoUrl": "https://lh3.googleusercontent.com/a-/AOh14GjDjBs-I_nh79Ub6sazaDEG5-W9TPzydtjltxmkug=s64",
      "userId": "12525054181863774760"
     },
     "user_tz": -120
    },
    "id": "AjRwe_M3oPQ6",
    "outputId": "5246703f-c041-4d3a-c0be-25547ef5e72f"
   },
   "outputs": [
    {
     "data": {
      "image/png": "[encoded data removed]",
      "text/plain": [
       "<Figure size 432x288 with 1 Axes>"
      ]
     },
     "metadata": {
      "needs_background": "light",
      "tags": []
     },
     "output_type": "display_data"
    }
   ],
   "source": [
    "v = izh_neuron(I=60*np.ones(N));\n",
    "plot_signal(v, 'V (mV)');"
   ]
  },
  {
   "cell_type": "markdown",
   "metadata": {
    "colab_type": "text",
    "id": "tUqbxCZjoPQ_"
   },
   "source": [
    "## Presynaptic spikes\n",
    "\n",
    "We use the same approach as in eg Dayan & Abott to generate (approximate) Poisson spike times.  \n",
    "(Approximate Poisson because we ignore the possibility of a neuron spiking more than once in the same small timebin `dt`).\n"
   ]
  },
  {
   "cell_type": "code",
   "execution_count": null,
   "metadata": {
    "colab": {},
    "colab_type": "code",
    "id": "-yKiNeFLoPRA"
   },
   "outputs": [],
   "source": [
    "f_spike = 1/1000  # Hz/1000"
   ]
  },
  {
   "cell_type": "code",
   "execution_count": null,
   "metadata": {
    "colab": {},
    "colab_type": "code",
    "id": "W2CktkGyoPRC"
   },
   "outputs": [],
   "source": [
    "from numpy.random import seed, random\n",
    "\n",
    "seed(0)"
   ]
  },
  {
   "cell_type": "code",
   "execution_count": null,
   "metadata": {
    "colab": {},
    "colab_type": "code",
    "id": "MHr9nI9QoPRE"
   },
   "outputs": [],
   "source": [
    "def spikes():\n",
    "    spikes = np.zeros(N)\n",
    "    for i in range(N):\n",
    "        spikes[i] = f_spike * dt > random()\n",
    "    return spikes"
   ]
  },
  {
   "cell_type": "markdown",
   "metadata": {
    "colab_type": "text",
    "id": "5w_FCoR_oPRJ"
   },
   "source": [
    "Aggregate spikes for all incoming neurons\n"
   ]
  },
  {
   "cell_type": "code",
   "execution_count": null,
   "metadata": {
    "colab": {},
    "colab_type": "code",
    "id": "_vGpzVEIoPRK"
   },
   "outputs": [],
   "source": [
    "N_in = 20"
   ]
  },
  {
   "cell_type": "code",
   "execution_count": null,
   "metadata": {
    "colab": {},
    "colab_type": "code",
    "id": "8gv1WLDMoPRM"
   },
   "outputs": [],
   "source": [
    "all_spikes = sum([spikes() for incoming_neuron in range(N_in)])"
   ]
  },
  {
   "cell_type": "code",
   "execution_count": null,
   "metadata": {
    "colab": {
     "base_uri": "https://localhost:8080/",
     "height": 279
    },
    "colab_type": "code",
    "executionInfo": {
     "elapsed": 1593,
     "status": "ok",
     "timestamp": 1594049227871,
     "user": {
      "displayName": "Tomas Fiers",
      "photoUrl": "https://lh3.googleusercontent.com/a-/AOh14GjDjBs-I_nh79Ub6sazaDEG5-W9TPzydtjltxmkug=s64",
      "userId": "12525054181863774760"
     },
     "user_tz": -120
    },
    "id": "H4vwX4_BoPRO",
    "outputId": "cbe25366-a8a0-4d9e-aee8-305e1a1553d8"
   },
   "outputs": [
    {
     "data": {
      "image/png": "[encoded data removed]",
      "text/plain": [
       "<Figure size 432x288 with 1 Axes>"
      ]
     },
     "metadata": {
      "needs_background": "light",
      "tags": []
     },
     "output_type": "display_data"
    }
   ],
   "source": [
    "plot_signal(all_spikes);"
   ]
  },
  {
   "cell_type": "markdown",
   "metadata": {
    "colab_type": "text",
    "id": "6KSdn76moPRR"
   },
   "source": [
    "## EPSC's\n",
    "\n",
    "Simple step-and-exponential-decay impulse response.\n",
    "\n",
    "Parameters estimated from fig. 5.14 in Dayan & Abott."
   ]
  },
  {
   "cell_type": "code",
   "execution_count": null,
   "metadata": {
    "colab": {},
    "colab_type": "code",
    "id": "nxDk_Li3oPRS"
   },
   "outputs": [],
   "source": [
    "tau_EPSC = 7\n",
    "height_EPSC = 290"
   ]
  },
  {
   "cell_type": "code",
   "execution_count": null,
   "metadata": {
    "colab": {
     "base_uri": "https://localhost:8080/",
     "height": 280
    },
    "colab_type": "code",
    "executionInfo": {
     "elapsed": 2021,
     "status": "ok",
     "timestamp": 1594049228314,
     "user": {
      "displayName": "Tomas Fiers",
      "photoUrl": "https://lh3.googleusercontent.com/a-/AOh14GjDjBs-I_nh79Ub6sazaDEG5-W9TPzydtjltxmkug=s64",
      "userId": "12525054181863774760"
     },
     "user_tz": -120
    },
    "id": "3yXhZzIUoPRU",
    "outputId": "9dec9c63-32fe-4eb4-d344-e8411cc0c662"
   },
   "outputs": [
    {
     "data": {
      "image/png": "[encoded data removed]",
      "text/plain": [
       "<Figure size 432x288 with 1 Axes>"
      ]
     },
     "metadata": {
      "needs_background": "light",
      "tags": []
     },
     "output_type": "display_data"
    }
   ],
   "source": [
    "T_support = 10*tau_EPSC\n",
    "N_support = round(T_support/dt)\n",
    "t_support = np.linspace(0, T_support, N_support)\n",
    "\n",
    "EPSC = np.concatenate([\n",
    "    np.zeros(N_support),\n",
    "    np.exp(-t_support/tau_EPSC) * height_EPSC\n",
    "])\n",
    "\n",
    "plot_signal(EPSC, 'EPSC (pA)', t=np.concatenate([-t_support[::-1], t_support]));"
   ]
  },
  {
   "cell_type": "code",
   "execution_count": null,
   "metadata": {
    "colab": {
     "base_uri": "https://localhost:8080/",
     "height": 279
    },
    "colab_type": "code",
    "executionInfo": {
     "elapsed": 2016,
     "status": "ok",
     "timestamp": 1594049228316,
     "user": {
      "displayName": "Tomas Fiers",
      "photoUrl": "https://lh3.googleusercontent.com/a-/AOh14GjDjBs-I_nh79Ub6sazaDEG5-W9TPzydtjltxmkug=s64",
      "userId": "12525054181863774760"
     },
     "user_tz": -120
    },
    "id": "tp935OU3oPRX",
    "outputId": "5993a7e1-5013-4114-c52a-0a1d88b558fb"
   },
   "outputs": [
    {
     "data": {
      "image/png": "[encoded data removed]",
      "text/plain": [
       "<Figure size 432x288 with 1 Axes>"
      ]
     },
     "metadata": {
      "needs_background": "light",
      "tags": []
     },
     "output_type": "display_data"
    }
   ],
   "source": [
    "I = np.convolve(all_spikes, EPSC, mode='same')\n",
    "plot_signal(I, 'I (pA)');"
   ]
  },
  {
   "cell_type": "markdown",
   "metadata": {
    "colab_type": "text",
    "id": "qA2aImSQoPRa"
   },
   "source": [
    "## Apply input to neuron"
   ]
  },
  {
   "cell_type": "code",
   "execution_count": null,
   "metadata": {
    "colab": {
     "base_uri": "https://localhost:8080/",
     "height": 279
    },
    "colab_type": "code",
    "executionInfo": {
     "elapsed": 2364,
     "status": "ok",
     "timestamp": 1594049228667,
     "user": {
      "displayName": "Tomas Fiers",
      "photoUrl": "https://lh3.googleusercontent.com/a-/AOh14GjDjBs-I_nh79Ub6sazaDEG5-W9TPzydtjltxmkug=s64",
      "userId": "12525054181863774760"
     },
     "user_tz": -120
    },
    "id": "0vY9NGsGoPRb",
    "outputId": "185fb432-d1ab-48f2-819f-3925414e2323"
   },
   "outputs": [
    {
     "data": {
      "image/png": "[encoded data removed]",
      "text/plain": [
       "<Figure size 432x288 with 1 Axes>"
      ]
     },
     "metadata": {
      "needs_background": "light",
      "tags": []
     },
     "output_type": "display_data"
    }
   ],
   "source": [
    "v = izh_neuron(I)\n",
    "plot_signal(v, 'V (mV)');"
   ]
  },
  {
   "cell_type": "markdown",
   "metadata": {
    "colab_type": "text",
    "id": "cEHy9eQk6IYG"
   },
   "source": [
    "## Add voltage imaging noise\n",
    "\n",
    "Gaussian noise, with $\\sigma$ from:\n",
    "\n",
    "$\\text{SNR} = \\frac{ΔV_{spike}}{\\sigma_{noise}}$\n",
    "\n",
    "(see ['Fidelity' section](https://docs.google.com/document/d/16zLBpDEG6evpBZMKQ2yFTVTzE-ZHeeD41VwHWzcmtJ8/edit#heading=h.9kehw2hr8h67) from VI lit review)."
   ]
  },
  {
   "cell_type": "code",
   "execution_count": null,
   "metadata": {
    "colab": {
     "base_uri": "https://localhost:8080/",
     "height": 279
    },
    "colab_type": "code",
    "executionInfo": {
     "elapsed": 672,
     "status": "ok",
     "timestamp": 1594052813671,
     "user": {
      "displayName": "Tomas Fiers",
      "photoUrl": "https://lh3.googleusercontent.com/a-/AOh14GjDjBs-I_nh79Ub6sazaDEG5-W9TPzydtjltxmkug=s64",
      "userId": "12525054181863774760"
     },
     "user_tz": -120
    },
    "id": "5_pukYKj6MHf",
    "outputId": "bfb7af96-c086-47f3-9c72-b30f88e70679"
   },
   "outputs": [
    {
     "data": {
      "image/png": "[encoded data removed]",
      "text/plain": [
       "<Figure size 432x288 with 1 Axes>"
      ]
     },
     "metadata": {
      "needs_background": "light",
      "tags": []
     },
     "output_type": "display_data"
    }
   ],
   "source": [
    "SNR = 10\n",
    "spike_height = v_peak - v_r\n",
    "\n",
    "s_noise = spike_height / SNR\n",
    "noise = np.random.randn(N)*s_noise\n",
    "fig, ax = plot_signal(v+noise, 'F')\n",
    "ax.set_yticks([]);"
   ]
  }
 ],
 "metadata": {
  "colab": {
   "name": "2020-07-06 Single neuron sim.ipynb",
   "provenance": []
  },
  "kernelspec": {
   "display_name": "Python 3",
   "language": "python",
   "name": "python3"
  },
  "language_info": {
   "codemirror_mode": {
    "name": "ipython",
    "version": 3
   },
   "file_extension": ".py",
   "mimetype": "text/x-python",
   "name": "python",
   "nbconvert_exporter": "python",
   "pygments_lexer": "ipython3",
   "version": "3.8.3"
  }
 },
 "nbformat": 4,
 "nbformat_minor": 1
}
