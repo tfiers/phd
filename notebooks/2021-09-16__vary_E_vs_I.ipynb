{
 "cells": [
  {
   "cell_type": "markdown",
   "metadata": {},
   "source": [
    "# 2021-09-27 • Vary E/I proportion"
   ]
  },
  {
   "cell_type": "markdown",
   "metadata": {},
   "source": [
    "Previously we just plotted STA's of inhibitory inputs. Now we measure the STA height, and compare it to the STA height of shuffled input spike trains.\n",
    "\n",
    "Then we calculate separate true positive rates for inhibitory and excitatory connections, and we do this for a range of p_inhibitory."
   ]
  },
  {
   "cell_type": "markdown",
   "metadata": {},
   "source": [
    "## Prelude"
   ]
  },
  {
   "cell_type": "code",
   "execution_count": 1,
   "metadata": {},
   "outputs": [
    {
     "name": "stdout",
     "output_type": "stream",
     "text": [
      "Preloading: numpy, numba, matplotlib.pyplot, seaborn.\n",
      "Importing from submodules … ✔\n",
      "Imported `np`, `mpl`, `plt`, `sns`, `pd`\n",
      "Imported codebase (`voltage_to_wiring_sim`) as `v`\n",
      "Imported `*` from `v.support.units`\n",
      "Setup autoreload\n"
     ]
    }
   ],
   "source": [
    "from voltage_to_wiring_sim.notebook_init import *"
   ]
  },
  {
   "cell_type": "code",
   "execution_count": 2,
   "metadata": {},
   "outputs": [
    {
     "data": {
      "text/markdown": [
       "This cell was last run by `tfiers` on `yoga` on **Wed 27 Oct** 2021, at 16:34 (UTC+0100).<br>\n",
       "[Last git commit](https://github.com/tfiers/voltage-to-wiring-sim/tree/6765b0fd20b7c37cd4f0f9ff27aba199bac1dd61\n",
       ") (Wed 27 Oct 2021, 16:27).\n",
       "Uncommited changes to 3 files."
      ]
     },
     "metadata": {},
     "output_type": "display_data"
    }
   ],
   "source": [
    "v.print_reproducibility_info()"
   ]
  },
  {
   "cell_type": "markdown",
   "metadata": {},
   "source": [
    "## Run simulation & connection tests"
   ]
  },
  {
   "cell_type": "code",
   "execution_count": 3,
   "metadata": {},
   "outputs": [],
   "source": [
    "from voltage_to_wiring_sim.experiments.N_to_1_IE import Params, simulate_and_test_connections"
   ]
  },
  {
   "cell_type": "code",
   "execution_count": 4,
   "metadata": {},
   "outputs": [
    {
     "name": "stdout",
     "output_type": "stream",
     "text": [
      "Params\n",
      "------\n",
      "     sim_duration = 600\n",
      "         timestep = 0.0001\n",
      "       spike_rate = 20\n",
      "           Δg_syn = 8E-10\n",
      "            τ_syn = 0.007\n",
      "    neuron_params = {'C': 1e-10, 'a': 30.0, 'b': -2e-09, 'c': -0.05, ...}\n",
      "imaging_spike_SNR = 20\n",
      "          v_syn_E = 0\n",
      "          v_syn_I = -0.07\n",
      " num_spike_trains = 30\n",
      "     p_inhibitory = 0.6\n",
      "      p_connected = 0.6\n",
      "  window_duration = 0.1\n",
      "         rng_seed = None\n"
     ]
    }
   ],
   "source": [
    "v.pprint(Params())"
   ]
  },
  {
   "cell_type": "code",
   "execution_count": 5,
   "metadata": {},
   "outputs": [],
   "source": [
    "from voltage_to_wiring_sim.conntest.classification_IE import (\n",
    "    apply_threshold, evaluate_classification, sweep_threshold, calc_AUCs,\n",
    ")"
   ]
  },
  {
   "cell_type": "code",
   "execution_count": 6,
   "metadata": {
    "collapsed": true
   },
   "outputs": [
    {
     "name": "stderr",
     "output_type": "stream",
     "text": [
      "WARNING:root:[MemorizedFunc(func=<function simulate_and_test_connections at 0x0000021E0F7FC310>, location=.\\joblib)]: Clearing function cache identified by voltage_to_wiring_sim\\experiments\\N_to_1_IE\\simulate_and_test_connections\n"
     ]
    },
    {
     "name": "stdout",
     "output_type": "stream",
     "text": [
      "________________________________________________________________________________\n",
      "[Memory] Calling voltage_to_wiring_sim.experiments.N_to_1_IE.simulate_and_test_connections...\n",
      "simulate_and_test_connections(Params(sim_duration=600, timestep=0.0001, spike_rate=20.0, Δg_syn=8.000000000000001e-10, τ_syn=0.007, neuron_params=IzhikevichParams(C=1e-10, k=7e-07, v_r=-0.06, v_t=-0.04, v_peak=0.035, a=30.0, b=-2e-09, c=-0.05, d=1e-10), imaging_spike_SNR=20, v_syn_E=0.0, v_syn_I=-0.07, num_spike_trains=30, p_inhibitory=0.0, p_connected=0.6, window_duration=0.1, rng_seed=None))\n",
      "..............................___________________________________simulate_and_test_connections - 19.7s, 0.3min\n",
      "________________________________________________________________________________\n",
      "[Memory] Calling voltage_to_wiring_sim.experiments.N_to_1_IE.simulate_and_test_connections...\n",
      "simulate_and_test_connections(Params(sim_duration=600, timestep=0.0001, spike_rate=20.0, Δg_syn=8.000000000000001e-10, τ_syn=0.007, neuron_params=IzhikevichParams(C=1e-10, k=7e-07, v_r=-0.06, v_t=-0.04, v_peak=0.035, a=30.0, b=-2e-09, c=-0.05, d=1e-10), imaging_spike_SNR=20, v_syn_E=0.0, v_syn_I=-0.07, num_spike_trains=30, p_inhibitory=0.1, p_connected=0.6, window_duration=0.1, rng_seed=None))\n"
     ]
    },
    {
     "name": "stderr",
     "output_type": "stream",
     "text": [
      "c:\\users\\tfiers\\onedrive\\phd\\voltage-to-wiring-sim\\codebase\\voltage_to_wiring_sim\\conntest\\classification_IE.py:42: UserWarning: No connected inhibitory (pre,post)-pairs. TPR_inh is meaningless.\n",
      "  warn(\"No connected inhibitory (pre,post)-pairs. TPR_inh is meaningless.\")\n"
     ]
    },
    {
     "name": "stdout",
     "output_type": "stream",
     "text": [
      "..............................___________________________________simulate_and_test_connections - 17.4s, 0.3min\n",
      "________________________________________________________________________________\n",
      "[Memory] Calling voltage_to_wiring_sim.experiments.N_to_1_IE.simulate_and_test_connections...\n",
      "simulate_and_test_connections(Params(sim_duration=600, timestep=0.0001, spike_rate=20.0, Δg_syn=8.000000000000001e-10, τ_syn=0.007, neuron_params=IzhikevichParams(C=1e-10, k=7e-07, v_r=-0.06, v_t=-0.04, v_peak=0.035, a=30.0, b=-2e-09, c=-0.05, d=1e-10), imaging_spike_SNR=20, v_syn_E=0.0, v_syn_I=-0.07, num_spike_trains=30, p_inhibitory=0.2, p_connected=0.6, window_duration=0.1, rng_seed=None))\n",
      "..............................___________________________________simulate_and_test_connections - 17.7s, 0.3min\n",
      "________________________________________________________________________________\n",
      "[Memory] Calling voltage_to_wiring_sim.experiments.N_to_1_IE.simulate_and_test_connections...\n",
      "simulate_and_test_connections(Params(sim_duration=600, timestep=0.0001, spike_rate=20.0, Δg_syn=8.000000000000001e-10, τ_syn=0.007, neuron_params=IzhikevichParams(C=1e-10, k=7e-07, v_r=-0.06, v_t=-0.04, v_peak=0.035, a=30.0, b=-2e-09, c=-0.05, d=1e-10), imaging_spike_SNR=20, v_syn_E=0.0, v_syn_I=-0.07, num_spike_trains=30, p_inhibitory=0.30000000000000004, p_connected=0.6, window_duration=0.1, rng_seed=None))\n",
      "..............................___________________________________simulate_and_test_connections - 17.6s, 0.3min\n",
      "________________________________________________________________________________\n",
      "[Memory] Calling voltage_to_wiring_sim.experiments.N_to_1_IE.simulate_and_test_connections...\n",
      "simulate_and_test_connections(Params(sim_duration=600, timestep=0.0001, spike_rate=20.0, Δg_syn=8.000000000000001e-10, τ_syn=0.007, neuron_params=IzhikevichParams(C=1e-10, k=7e-07, v_r=-0.06, v_t=-0.04, v_peak=0.035, a=30.0, b=-2e-09, c=-0.05, d=1e-10), imaging_spike_SNR=20, v_syn_E=0.0, v_syn_I=-0.07, num_spike_trains=30, p_inhibitory=0.4, p_connected=0.6, window_duration=0.1, rng_seed=None))\n",
      "..............................___________________________________simulate_and_test_connections - 18.4s, 0.3min\n",
      "________________________________________________________________________________\n",
      "[Memory] Calling voltage_to_wiring_sim.experiments.N_to_1_IE.simulate_and_test_connections...\n",
      "simulate_and_test_connections(Params(sim_duration=600, timestep=0.0001, spike_rate=20.0, Δg_syn=8.000000000000001e-10, τ_syn=0.007, neuron_params=IzhikevichParams(C=1e-10, k=7e-07, v_r=-0.06, v_t=-0.04, v_peak=0.035, a=30.0, b=-2e-09, c=-0.05, d=1e-10), imaging_spike_SNR=20, v_syn_E=0.0, v_syn_I=-0.07, num_spike_trains=30, p_inhibitory=0.5, p_connected=0.6, window_duration=0.1, rng_seed=None))\n",
      "..............................___________________________________simulate_and_test_connections - 19.3s, 0.3min\n",
      "________________________________________________________________________________\n",
      "[Memory] Calling voltage_to_wiring_sim.experiments.N_to_1_IE.simulate_and_test_connections...\n",
      "simulate_and_test_connections(Params(sim_duration=600, timestep=0.0001, spike_rate=20.0, Δg_syn=8.000000000000001e-10, τ_syn=0.007, neuron_params=IzhikevichParams(C=1e-10, k=7e-07, v_r=-0.06, v_t=-0.04, v_peak=0.035, a=30.0, b=-2e-09, c=-0.05, d=1e-10), imaging_spike_SNR=20, v_syn_E=0.0, v_syn_I=-0.07, num_spike_trains=30, p_inhibitory=0.6000000000000001, p_connected=0.6, window_duration=0.1, rng_seed=None))\n",
      "..............................___________________________________simulate_and_test_connections - 23.3s, 0.4min\n",
      "________________________________________________________________________________\n",
      "[Memory] Calling voltage_to_wiring_sim.experiments.N_to_1_IE.simulate_and_test_connections...\n",
      "simulate_and_test_connections(Params(sim_duration=600, timestep=0.0001, spike_rate=20.0, Δg_syn=8.000000000000001e-10, τ_syn=0.007, neuron_params=IzhikevichParams(C=1e-10, k=7e-07, v_r=-0.06, v_t=-0.04, v_peak=0.035, a=30.0, b=-2e-09, c=-0.05, d=1e-10), imaging_spike_SNR=20, v_syn_E=0.0, v_syn_I=-0.07, num_spike_trains=30, p_inhibitory=0.7000000000000001, p_connected=0.6, window_duration=0.1, rng_seed=None))\n",
      "..............................___________________________________simulate_and_test_connections - 21.2s, 0.4min\n",
      "________________________________________________________________________________\n",
      "[Memory] Calling voltage_to_wiring_sim.experiments.N_to_1_IE.simulate_and_test_connections...\n",
      "simulate_and_test_connections(Params(sim_duration=600, timestep=0.0001, spike_rate=20.0, Δg_syn=8.000000000000001e-10, τ_syn=0.007, neuron_params=IzhikevichParams(C=1e-10, k=7e-07, v_r=-0.06, v_t=-0.04, v_peak=0.035, a=30.0, b=-2e-09, c=-0.05, d=1e-10), imaging_spike_SNR=20, v_syn_E=0.0, v_syn_I=-0.07, num_spike_trains=30, p_inhibitory=0.8, p_connected=0.6, window_duration=0.1, rng_seed=None))\n",
      "..............................___________________________________simulate_and_test_connections - 20.3s, 0.3min\n",
      "________________________________________________________________________________\n",
      "[Memory] Calling voltage_to_wiring_sim.experiments.N_to_1_IE.simulate_and_test_connections...\n",
      "simulate_and_test_connections(Params(sim_duration=600, timestep=0.0001, spike_rate=20.0, Δg_syn=8.000000000000001e-10, τ_syn=0.007, neuron_params=IzhikevichParams(C=1e-10, k=7e-07, v_r=-0.06, v_t=-0.04, v_peak=0.035, a=30.0, b=-2e-09, c=-0.05, d=1e-10), imaging_spike_SNR=20, v_syn_E=0.0, v_syn_I=-0.07, num_spike_trains=30, p_inhibitory=0.9, p_connected=0.6, window_duration=0.1, rng_seed=None))\n",
      "..............................___________________________________simulate_and_test_connections - 18.0s, 0.3min\n",
      "________________________________________________________________________________\n",
      "[Memory] Calling voltage_to_wiring_sim.experiments.N_to_1_IE.simulate_and_test_connections...\n",
      "simulate_and_test_connections(Params(sim_duration=600, timestep=0.0001, spike_rate=20.0, Δg_syn=8.000000000000001e-10, τ_syn=0.007, neuron_params=IzhikevichParams(C=1e-10, k=7e-07, v_r=-0.06, v_t=-0.04, v_peak=0.035, a=30.0, b=-2e-09, c=-0.05, d=1e-10), imaging_spike_SNR=20, v_syn_E=0.0, v_syn_I=-0.07, num_spike_trains=30, p_inhibitory=1.0, p_connected=0.6, window_duration=0.1, rng_seed=None))\n"
     ]
    },
    {
     "name": "stderr",
     "output_type": "stream",
     "text": [
      "c:\\users\\tfiers\\onedrive\\phd\\voltage-to-wiring-sim\\codebase\\voltage_to_wiring_sim\\conntest\\classification_IE.py:47: UserWarning: No connected excitatory (pre,post)-pairs. TPR_exc is meaningless.\n",
      "  warn(\"No connected excitatory (pre,post)-pairs. TPR_exc is meaningless.\")\n"
     ]
    },
    {
     "name": "stdout",
     "output_type": "stream",
     "text": [
      "..............................___________________________________simulate_and_test_connections - 21.5s, 0.4min\n"
     ]
    },
    {
     "name": "stderr",
     "output_type": "stream",
     "text": [
      "c:\\users\\tfiers\\onedrive\\phd\\voltage-to-wiring-sim\\codebase\\voltage_to_wiring_sim\\conntest\\classification_IE.py:47: UserWarning: No connected excitatory (pre,post)-pairs. TPR_exc is meaningless.\n",
      "  warn(\"No connected excitatory (pre,post)-pairs. TPR_exc is meaningless.\")\n"
     ]
    }
   ],
   "source": [
    "%%time\n",
    "\n",
    "p_inh = np.linspace(0, 1, num=11, endpoint=True)\n",
    "\n",
    "results = []\n",
    "\n",
    "for p_i in p_inh:\n",
    "    params = Params(p_inhibitory=p_i)\n",
    "    r = simulate_and_test_connections(params)\n",
    "    is_connected, is_inhibitory, test_summaries = r\n",
    "    \n",
    "    # Eval at fixed p_value threshold\n",
    "    is_classified_as_connected = apply_threshold(test_summaries, p_value_threshold=0.05)\n",
    "    evalu = evaluate_classification(is_classified_as_connected, is_connected, is_inhibitory)\n",
    "    \n",
    "    # Eval at all p_value thresholds\n",
    "    thr_sweep = sweep_threshold(test_summaries, is_connected, is_inhibitory)\n",
    "    AUC_inh, AUC_exc = calc_AUCs(thr_sweep)\n",
    "    \n",
    "    results.append((evalu.TPR_inh, evalu.TPR_exc, evalu.FPR, AUC_inh, AUC_exc))\n",
    "    \n",
    "\n",
    "TPR_inh, TPR_exc, FPR, AUC_inh, AUC_exc = zip(*results)"
   ]
  },
  {
   "cell_type": "markdown",
   "metadata": {},
   "source": [
    "^ This took ~19s per sim_and_test; times 11 so 3.5 minutes."
   ]
  },
  {
   "cell_type": "code",
   "execution_count": 7,
   "metadata": {},
   "outputs": [
    {
     "data": {
      "image/png": "[encoded data removed]",
      "text/plain": [
       "<Figure size 500x312 with 1 Axes>"
      ]
     },
     "metadata": {
      "image/png": {
       "height": 289,
       "width": 429
      }
     },
     "output_type": "display_data"
    }
   ],
   "source": [
    "fig, ax = plt.subplots()\n",
    "\n",
    "ax.plot(p_inh, TPR_inh, lw=3, label=\"TPR_inh\")\n",
    "ax.plot(p_inh, TPR_exc, label=\"TPR_exc\")\n",
    "ax.plot(p_inh, FPR, label=\"FPR\")\n",
    "ax.legend()\n",
    "ax.set_xlabel(\"p(inhibitory)\");"
   ]
  },
  {
   "cell_type": "code",
   "execution_count": 8,
   "metadata": {},
   "outputs": [
    {
     "data": {
      "image/png": "[encoded data removed]",
      "text/plain": [
       "<Figure size 500x312 with 1 Axes>"
      ]
     },
     "metadata": {
      "image/png": {
       "height": 289,
       "width": 429
      }
     },
     "output_type": "display_data"
    }
   ],
   "source": [
    "fig, ax = plt.subplots()\n",
    "\n",
    "ax.plot(p_inh, AUC_inh, lw=3, label=\"AUC_inh\")\n",
    "ax.plot(p_inh, AUC_exc, label=\"AUC_exc\")\n",
    "ax.legend()\n",
    "ax.set_ylim(0.5, 1.02)\n",
    "ax.set_xlabel(\"p(inhibitory)\");"
   ]
  },
  {
   "cell_type": "markdown",
   "metadata": {
    "heading_collapsed": true
   },
   "source": [
    "## Reproducibility"
   ]
  },
  {
   "cell_type": "code",
   "execution_count": 15,
   "metadata": {
    "hidden": true,
    "tags": [
     "output_scroll"
    ]
   },
   "outputs": [
    {
     "data": {
      "text/markdown": [
       "This cell was last run by `tfiers` on `yoga`<br>on **Mon 23 Aug** 2021, at 18:13 (UTC+0200)."
      ]
     },
     "metadata": {},
     "output_type": "display_data"
    },
    {
     "data": {
      "text/markdown": [
       "[Last git commit](https://github.com/tfiers/voltage-to-wiring-sim/tree/06aece7c804783047d4a1b6a4d84533bd7c8133d\n",
       ") (Fri 20 Aug 2021, 21:41)."
      ]
     },
     "metadata": {},
     "output_type": "display_data"
    },
    {
     "data": {
      "text/markdown": [
       "Uncommited changes to:\n",
       "```\n",
       " M codebase/tests/test_run_embedded_tests.py\n",
       " M codebase/voltage_to_wiring_sim/N_to_1_experiment.py\n",
       " M codebase/voltage_to_wiring_sim/__init__.py\n",
       " M codebase/voltage_to_wiring_sim/sim/__init__.py\n",
       " M codebase/voltage_to_wiring_sim/sim/izhikevich_neuron.py\n",
       " M codebase/voltage_to_wiring_sim/sim/neuron_params.py\n",
       "RM codebase/voltage_to_wiring_sim/sim/input_spike_trains.py -> codebase/voltage_to_wiring_sim/sim/poisson_spikes.py\n",
       " M codebase/voltage_to_wiring_sim/sim/synapses.py\n",
       " M notebooks/2021-07-30__inhibitory.ipynb\n",
       "```"
      ]
     },
     "metadata": {},
     "output_type": "display_data"
    },
    {
     "data": {
      "text/markdown": [
       "Platform:"
      ]
     },
     "metadata": {},
     "output_type": "display_data"
    },
    {
     "name": "stdout",
     "output_type": "stream",
     "text": [
      "Windows-10\n",
      "CPython 3.8.6 (C:\\conda\\python.exe)\n",
      "Intel(R) Core(TM) i7-10510U CPU @ 1.80GHz\n"
     ]
    },
    {
     "data": {
      "text/markdown": [
       "Dependencies of `voltage_to_wiring_sim` and their installed versions:"
      ]
     },
     "metadata": {},
     "output_type": "display_data"
    },
    {
     "name": "stdout",
     "output_type": "stream",
     "text": [
      "numpy                1.19.5\n",
      "matplotlib           3.3.4\n",
      "numba                0.52.0\n",
      "joblib               1.0.1\n",
      "seaborn              0.11.1\n",
      "scipy                1.6.0\n",
      "preload              2.2\n",
      "nptyping             1.4.0\n"
     ]
    },
    {
     "data": {
      "text/markdown": [
       "Full conda list:"
      ]
     },
     "metadata": {},
     "output_type": "display_data"
    },
    {
     "data": {
      "text/markdown": [
       "```\n",
       "# packages in environment at C:\\conda:\n",
       "#\n",
       "# Name                    Version                   Build  Channel\n",
       "anyio                     2.0.2            py38haa244fe_4    conda-forge\n",
       "appdirs                   1.4.4              pyh9f0ad1d_0    conda-forge\n",
       "argon2-cffi               20.1.0           py38h294d835_2    conda-forge\n",
       "async_generator           1.10                       py_0    conda-forge\n",
       "atomicwrites              1.4.0              pyh9f0ad1d_0    conda-forge\n",
       "attrs                     20.3.0             pyhd3deb0d_0    conda-forge\n",
       "babel                     2.9.0              pyhd3deb0d_0    conda-forge\n",
       "backcall                  0.2.0              pyh9f0ad1d_0    conda-forge\n",
       "backports                 1.0                        py_2    conda-forge\n",
       "backports.functools_lru_cache 1.6.1                      py_0    conda-forge\n",
       "black                     20.8b1                     py_1    conda-forge\n",
       "bleach                    3.3.0              pyh44b312d_0    conda-forge\n",
       "bokeh                     2.2.3            py38haa244fe_0    conda-forge\n",
       "brotlipy                  0.7.0           py38h294d835_1001    conda-forge\n",
       "bzip2                     1.0.8                h8ffe710_4    conda-forge\n",
       "ca-certificates           2020.12.5            h5b45459_0    conda-forge\n",
       "certifi                   2020.12.5        py38haa244fe_1    conda-forge\n",
       "cffi                      1.14.4           py38hd8c33c5_1    conda-forge\n",
       "chardet                   4.0.0            py38haa244fe_1    conda-forge\n",
       "click                     7.1.2              pyh9f0ad1d_0    conda-forge\n",
       "cloudpickle               1.6.0                      py_0    conda-forge\n",
       "colorama                  0.4.4              pyh9f0ad1d_0    conda-forge\n",
       "conda                     4.9.2            py38haa244fe_0    conda-forge\n",
       "conda-package-handling    1.7.2            py38h8934438_0    conda-forge\n",
       "console_shortcut          0.1.1                         4  \n",
       "cryptography              3.3.1            py38hd8c33c5_1    conda-forge\n",
       "cycler                    0.10.0                     py_2    conda-forge\n",
       "cytoolz                   0.11.0           py38h294d835_3    conda-forge\n",
       "dask                      2021.1.0           pyhd8ed1ab_0    conda-forge\n",
       "dask-core                 2021.1.0           pyhd8ed1ab_0    conda-forge\n",
       "dataclasses               0.7                pyhb2cacf7_7    conda-forge\n",
       "decorator                 4.4.2                      py_0    conda-forge\n",
       "defusedxml                0.6.0                      py_0    conda-forge\n",
       "distributed               2021.1.1         py38haa244fe_0    conda-forge\n",
       "docutils                  0.16                     pypi_0    pypi\n",
       "entrypoints               0.3             pyhd8ed1ab_1003    conda-forge\n",
       "freetype                  2.10.4               h546665d_1    conda-forge\n",
       "fsspec                    0.8.5              pyhd8ed1ab_0    conda-forge\n",
       "gitdb                     4.0.5              pyhd8ed1ab_1    conda-forge\n",
       "gitpython                 3.1.12             pyhd8ed1ab_0    conda-forge\n",
       "heapdict                  1.0.1                      py_0    conda-forge\n",
       "icu                       68.1                 h0e60522_0    conda-forge\n",
       "idna                      2.10               pyh9f0ad1d_0    conda-forge\n",
       "importlib-metadata        3.4.0            py38haa244fe_0    conda-forge\n",
       "importlib_metadata        3.4.0                hd8ed1ab_0    conda-forge\n",
       "iniconfig                 1.1.1              pyh9f0ad1d_0    conda-forge\n",
       "intel-openmp              2020.3             h57928b3_311    conda-forge\n",
       "ipykernel                 5.4.2            py38h7b7c402_0    conda-forge\n",
       "ipython                   7.20.0           py38hc5df569_1    conda-forge\n",
       "ipython_genutils          0.2.0                      py_1    conda-forge\n",
       "ipywidgets                7.6.3              pyhd3deb0d_0    conda-forge\n",
       "jedi                      0.18.0           py38haa244fe_2    conda-forge\n",
       "jinja2                    2.11.3             pyh44b312d_0    conda-forge\n",
       "joblib                    1.0.1                    pypi_0    pypi\n",
       "jpeg                      9d                   h8ffe710_0    conda-forge\n",
       "json5                     0.9.5              pyh9f0ad1d_0    conda-forge\n",
       "jsonschema                3.2.0                      py_2    conda-forge\n",
       "jupyter_client            6.1.11             pyhd8ed1ab_1    conda-forge\n",
       "jupyter_contrib_core      0.3.3                      py_2    conda-forge\n",
       "jupyter_contrib_nbextensions 0.5.1            py38h32f6830_1    conda-forge\n",
       "jupyter_core              4.7.1            py38haa244fe_0    conda-forge\n",
       "jupyter_highlight_selected_word 0.2.0           py38haa244fe_1002    conda-forge\n",
       "jupyter_latex_envs        1.4.6           py38h32f6830_1001    conda-forge\n",
       "jupyter_nbextensions_configurator 0.4.1            py38haa244fe_2    conda-forge\n",
       "jupyter_server            1.2.2            py38haa244fe_1    conda-forge\n",
       "jupyterlab                3.0.5              pyhd8ed1ab_0    conda-forge\n",
       "jupyterlab-classic        0.1.3              pyhd8ed1ab_0    conda-forge\n",
       "jupyterlab-sublime        0.4.1                    pypi_0    pypi\n",
       "jupyterlab_pygments       0.1.2              pyh9f0ad1d_0    conda-forge\n",
       "jupyterlab_server         2.1.4              pyhd8ed1ab_0    conda-forge\n",
       "jupyterlab_widgets        1.0.0              pyhd8ed1ab_1    conda-forge\n",
       "jupytext                  1.10.0             pyh44b312d_0    conda-forge\n",
       "jupytray                  0.7.post10+dirty           dev_0    <develop>\n",
       "keyring                   21.8.0                   pypi_0    pypi\n",
       "kiwisolver                1.3.1            py38hbd9d945_1    conda-forge\n",
       "krb5                      1.17.2               hbae68bd_0    conda-forge\n",
       "libarchive                3.5.1                h8686738_1    conda-forge\n",
       "libblas                   3.9.0                     8_mkl    conda-forge\n",
       "libcblas                  3.9.0                     8_mkl    conda-forge\n",
       "libclang                  11.0.1          default_h5c34c98_1    conda-forge\n",
       "libcurl                   7.71.1               h4b64cdc_8    conda-forge\n",
       "libiconv                  1.16                 he774522_0    conda-forge\n",
       "liblapack                 3.9.0                     8_mkl    conda-forge\n",
       "libpng                    1.6.37               h1d00b33_2    conda-forge\n",
       "libsodium                 1.0.18               h8d14728_1    conda-forge\n",
       "libsolv                   0.7.17               h7755175_0    conda-forge\n",
       "libssh2                   1.9.0                hb06d900_5    conda-forge\n",
       "libtiff                   4.2.0                hc10be44_0    conda-forge\n",
       "libxml2                   2.9.10               hf5bbc77_3    conda-forge\n",
       "libxslt                   1.1.33               h65864e5_2    conda-forge\n",
       "llvmlite                  0.35.0           py38h57a6900_1    conda-forge\n",
       "locket                    0.2.0                      py_2    conda-forge\n",
       "lxml                      4.6.2            py38h292cb97_1    conda-forge\n",
       "lz4-c                     1.9.3                h8ffe710_0    conda-forge\n",
       "lzo                       2.10              he774522_1000    conda-forge\n",
       "m2w64-gcc-libgfortran     5.3.0                         6    conda-forge\n",
       "m2w64-gcc-libs            5.3.0                         7    conda-forge\n",
       "m2w64-gcc-libs-core       5.3.0                         7    conda-forge\n",
       "m2w64-gmp                 6.1.0                         2    conda-forge\n",
       "m2w64-libwinpthread-git   5.0.0.4634.697f757               2    conda-forge\n",
       "mamba                     0.7.8            py38hdd88130_0    conda-forge\n",
       "markdown-it-py            0.6.2              pyhd8ed1ab_0    conda-forge\n",
       "markdown2                 2.4.0                    pypi_0    pypi\n",
       "markupsafe                1.1.1            py38h294d835_3    conda-forge\n",
       "matplotlib-base           3.3.4            py38h34ddff4_0    conda-forge\n",
       "mdit-py-plugins           0.2.5              pyhd8ed1ab_0    conda-forge\n",
       "menuinst                  1.4.16           py38he774522_1  \n",
       "mistune                   0.8.4           py38h294d835_1003    conda-forge\n",
       "mkl                       2020.4             hb70f87d_311    conda-forge\n",
       "more-itertools            8.6.0              pyhd8ed1ab_0    conda-forge\n",
       "mpmath                    1.1.0                      py_0    conda-forge\n",
       "msgpack-python            1.0.2            py38hbd9d945_1    conda-forge\n",
       "msys2-conda-epoch         20160418                      1    conda-forge\n",
       "multipledispatch          0.6.0                    pypi_0    pypi\n",
       "multitasking              0.0.9                    pypi_0    pypi\n",
       "mypy_extensions           0.4.3            py38haa244fe_3    conda-forge\n",
       "natsort                   7.1.1              pyhd8ed1ab_0    conda-forge\n",
       "nb_conda_kernels          2.3.1            py38haa244fe_0    conda-forge\n",
       "nbclassic                 0.2.6              pyhd8ed1ab_0    conda-forge\n",
       "nbclient                  0.5.1                      py_0    conda-forge\n",
       "nbconvert                 6.0.7            py38haa244fe_3    conda-forge\n",
       "nbdime                    2.1.0                      py_0    conda-forge\n",
       "nbformat                  5.0.8                      py_0    conda-forge\n",
       "nest-asyncio              1.4.3              pyhd8ed1ab_0    conda-forge\n",
       "notebook                  6.2.0            py38haa244fe_0    conda-forge\n",
       "nptyping                  1.4.0                    pypi_0    pypi\n",
       "numba                     0.52.0           py38h4c96930_0    conda-forge\n",
       "numpy                     1.19.5           py38h0cc643e_1    conda-forge\n",
       "oauthlib                  3.1.0                    pypi_0    pypi\n",
       "oboe                      0.2                      pypi_0    pypi\n",
       "olefile                   0.46               pyh9f0ad1d_1    conda-forge\n",
       "openssl                   1.1.1i               h8ffe710_0    conda-forge\n",
       "packaging                 20.8               pyhd3deb0d_0    conda-forge\n",
       "pandas                    1.2.1            py38h4c96930_0    conda-forge\n",
       "pandas-flavor             0.2.0                      py_0    conda-forge\n",
       "pandoc                    2.11.4               h8ffe710_0    conda-forge\n",
       "pandocfilters             1.4.2                      py_1    conda-forge\n",
       "parso                     0.8.1              pyhd8ed1ab_0    conda-forge\n",
       "partd                     1.1.0                      py_0    conda-forge\n",
       "pathspec                  0.8.1              pyhd3deb0d_0    conda-forge\n",
       "patsy                     0.5.1                      py_0    conda-forge\n",
       "pickleshare               0.7.5                   py_1003    conda-forge\n",
       "pillow                    8.1.0            py38hf7ce48b_1    conda-forge\n",
       "pip                       21.0.1             pyhd8ed1ab_0    conda-forge\n",
       "pkginfo                   1.6.1                    pypi_0    pypi\n",
       "pluggy                    0.13.1           py38haa244fe_4    conda-forge\n",
       "powershell_shortcut       0.0.1                         3  \n",
       "preload                   2.2                      pypi_0    pypi\n",
       "prometheus_client         0.9.0              pyhd3deb0d_0    conda-forge\n",
       "prompt-toolkit            3.0.14             pyha770c72_0    conda-forge\n",
       "psutil                    5.8.0            py38h294d835_1    conda-forge\n",
       "puprelease                1.8.1                     dev_0    <develop>\n",
       "py                        1.10.0             pyhd3deb0d_0    conda-forge\n",
       "pycosat                   0.6.3           py38h294d835_1006    conda-forge\n",
       "pycparser                 2.20               pyh9f0ad1d_2    conda-forge\n",
       "pygments                  2.7.4              pyhd8ed1ab_0    conda-forge\n",
       "pyopenssl                 20.0.1             pyhd8ed1ab_0    conda-forge\n",
       "pypandoc                  1.6.3                    pypi_0    pypi\n",
       "pyparsing                 2.4.7              pyh9f0ad1d_0    conda-forge\n",
       "pyqt                      5.12.3           py38haa244fe_7    conda-forge\n",
       "pyqt-impl                 5.12.3           py38h885f38d_7    conda-forge\n",
       "pyqt5-sip                 4.19.18          py38h885f38d_7    conda-forge\n",
       "pyqtchart                 5.12             py38h885f38d_7    conda-forge\n",
       "pyqtwebengine             5.12.1           py38h885f38d_7    conda-forge\n",
       "pyrsistent                0.17.3           py38h294d835_2    conda-forge\n",
       "pysocks                   1.7.1            py38haa244fe_3    conda-forge\n",
       "pytest                    6.2.1            py38haa244fe_1    conda-forge\n",
       "python                    3.8.6           h7840368_4_cpython    conda-forge\n",
       "python-dateutil           2.8.1                      py_0    conda-forge\n",
       "python_abi                3.8                      1_cp38    conda-forge\n",
       "pytz                      2021.1             pyhd8ed1ab_0    conda-forge\n",
       "pywin32                   300              py38h294d835_0    conda-forge\n",
       "pywin32-ctypes            0.2.0                    pypi_0    pypi\n",
       "pywinpty                  0.5.7            py38h32f6830_1    conda-forge\n",
       "pyyaml                    5.4.1            py38h294d835_0    conda-forge\n",
       "pyzmq                     22.0.1           py38h7a0e47e_0    conda-forge\n",
       "qt                        5.12.9               h5909a2a_3    conda-forge\n",
       "readme-renderer           28.0                     pypi_0    pypi\n",
       "regex                     2020.11.13       py38h294d835_1    conda-forge\n",
       "reproc                    14.2.1               h8ffe710_0    conda-forge\n",
       "reproc-cpp                14.2.1               h0e60522_0    conda-forge\n",
       "requests                  2.25.1             pyhd3deb0d_0    conda-forge\n",
       "requests-oauthlib         1.3.0                    pypi_0    pypi\n",
       "requests-toolbelt         0.9.1                    pypi_0    pypi\n",
       "rfc3986                   1.4.0                    pypi_0    pypi\n",
       "ruamel_yaml               0.15.80         py38h294d835_1004    conda-forge\n",
       "scikit-learn              0.24.1           py38ha09990b_0    conda-forge\n",
       "scipy                     1.6.0            py38h5f893b4_0    conda-forge\n",
       "seaborn                   0.11.1               h57928b3_0    conda-forge\n",
       "seaborn-base              0.11.1             pyhd8ed1ab_1    conda-forge\n",
       "send2trash                1.5.0                      py_0    conda-forge\n",
       "setuptools                49.6.0           py38haa244fe_3    conda-forge\n",
       "setuptools-scm            5.0.1                    pypi_0    pypi\n",
       "six                       1.15.0             pyh9f0ad1d_0    conda-forge\n",
       "smmap                     3.0.5              pyh44b312d_0    conda-forge\n",
       "snakeviz                  2.1.0              pyh9f0ad1d_0    conda-forge\n",
       "sniffio                   1.2.0            py38haa244fe_1    conda-forge\n",
       "sortedcontainers          2.3.0              pyhd8ed1ab_0    conda-forge\n",
       "sqlite                    3.34.0               h8ffe710_0    conda-forge\n",
       "statsmodels               0.12.2           py38h347fdf6_0    conda-forge\n",
       "sympy                     1.7.1            py38haa244fe_1    conda-forge\n",
       "tblib                     1.6.0                      py_0    conda-forge\n",
       "terminado                 0.9.2            py38haa244fe_0    conda-forge\n",
       "testpath                  0.4.4                      py_0    conda-forge\n",
       "tfiers                    0.3.2                     dev_0    <develop>\n",
       "threadpoolctl             2.1.0              pyh5ca1d4c_0    conda-forge\n",
       "tk                        8.6.10               h8ffe710_1    conda-forge\n",
       "toml                      0.10.2             pyhd8ed1ab_0    conda-forge\n",
       "toolz                     0.11.1                     py_0    conda-forge\n",
       "tornado                   6.1              py38h294d835_1    conda-forge\n",
       "tqdm                      4.56.0             pyhd8ed1ab_0    conda-forge\n",
       "traitlets                 5.0.5                      py_0    conda-forge\n",
       "tweepy                    3.10.0                   pypi_0    pypi\n",
       "twine                     3.3.0                    pypi_0    pypi\n",
       "typed-ast                 1.4.2            py38h294d835_0    conda-forge\n",
       "typing_extensions         3.7.4.3                    py_0    conda-forge\n",
       "typish                    1.9.1                    pypi_0    pypi\n",
       "unitlib                   0.3                      pypi_0    pypi\n",
       "unyt                      2.8.0                    pypi_0    pypi\n",
       "urllib3                   1.26.3             pyhd8ed1ab_0    conda-forge\n",
       "vc                        14.2                 hb210afc_2    conda-forge\n",
       "voltage-to-wiring-sim     0.1                       dev_0    <develop>\n",
       "vs2015_runtime            14.28.29325          h5e1d092_0    conda-forge\n",
       "wcwidth                   0.2.5              pyh9f0ad1d_2    conda-forge\n",
       "webencodings              0.5.1                      py_1    conda-forge\n",
       "wheel                     0.36.2             pyhd3deb0d_0    conda-forge\n",
       "widgetsnbextension        3.5.1            py38haa244fe_4    conda-forge\n",
       "win_inet_pton             1.1.0            py38haa244fe_2    conda-forge\n",
       "wincertstore              0.2             py38haa244fe_1006    conda-forge\n",
       "windows-curses            2.2.0                    pypi_0    pypi\n",
       "winpty                    0.4.3                         4    conda-forge\n",
       "winshell                  0.6                      pypi_0    pypi\n",
       "xarray                    0.16.2             pyhd8ed1ab_0    conda-forge\n",
       "xlrd                      2.0.1              pyhd8ed1ab_3    conda-forge\n",
       "xz                        5.2.5                h62dcd97_1    conda-forge\n",
       "yaml                      0.2.5                he774522_0    conda-forge\n",
       "yfinance                  0.1.55                   pypi_0    pypi\n",
       "zeromq                    4.3.3                h0e60522_3    conda-forge\n",
       "zict                      2.0.0                      py_0    conda-forge\n",
       "zipp                      3.4.0                      py_0    conda-forge\n",
       "zlib                      1.2.11            h62dcd97_1010    conda-forge\n",
       "zstd                      1.4.8                h4e2f164_1    conda-forge\n",
       "```"
      ]
     },
     "metadata": {},
     "output_type": "display_data"
    }
   ],
   "source": [
    "v.print_reproducibility_info(verbose=True)"
   ]
  },
  {
   "cell_type": "code",
   "execution_count": null,
   "metadata": {
    "hidden": true
   },
   "outputs": [],
   "source": []
  }
 ],
 "metadata": {
  "kernelspec": {
   "display_name": "Python 3",
   "language": "python",
   "name": "python3"
  },
  "language_info": {
   "codemirror_mode": {
    "name": "ipython",
    "version": 3
   },
   "file_extension": ".py",
   "mimetype": "text/x-python",
   "name": "python",
   "nbconvert_exporter": "python",
   "pygments_lexer": "ipython3",
   "version": "3.8.6"
  },
  "toc": {
   "base_numbering": 1,
   "nav_menu": {},
   "number_sections": false,
   "sideBar": true,
   "skip_h1_title": true,
   "title_cell": "Table of Contents",
   "title_sidebar": "Contents",
   "toc_cell": false,
   "toc_position": {
    "height": "270.594px",
    "left": "64px",
    "top": "58.5625px",
    "width": "243px"
   },
   "toc_section_display": true,
   "toc_window_display": true
  }
 },
 "nbformat": 4,
 "nbformat_minor": 4
}
