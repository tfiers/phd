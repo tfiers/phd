{
 "cells": [
  {
   "cell_type": "markdown",
   "metadata": {},
   "source": [
    "# 2022-01-04 • Hello Julia"
   ]
  },
  {
   "cell_type": "code",
   "execution_count": 5,
   "metadata": {},
   "outputs": [
    {
     "data": {
      "text/plain": [
       "1"
      ]
     },
     "metadata": {},
     "output_type": "display_data"
    }
   ],
   "source": [
    "1"
   ]
  },
  {
   "cell_type": "markdown",
   "metadata": {},
   "source": [
    "Time to evaluate this code cell after kernel restart: 14 à 21 seconds.  \n",
    "So restarting kernel is to be avoided..\n",
    "\n",
    "Also note, starting julia interpreter in terminal is faster, less than a second."
   ]
  },
  {
   "cell_type": "markdown",
   "metadata": {},
   "source": [
    "## Plots"
   ]
  },
  {
   "cell_type": "code",
   "execution_count": 2,
   "metadata": {},
   "outputs": [
    {
     "name": "stdout",
     "output_type": "stream",
     "text": [
      "  9.133000 seconds (8.27 M allocations: 572.587 MiB, 2.80% gc time, 8.71% compilation time)\n"
     ]
    }
   ],
   "source": [
    "@time using Plots"
   ]
  },
  {
   "cell_type": "code",
   "execution_count": 38,
   "metadata": {},
   "outputs": [
    {
     "data": {
      "text/plain": [
       "Plots.GRBackend()"
      ]
     },
     "execution_count": 38,
     "metadata": {},
     "output_type": "execute_result"
    }
   ],
   "source": [
    "gr()"
   ]
  },
  {
   "cell_type": "code",
   "execution_count": 39,
   "metadata": {
    "scrolled": true
   },
   "outputs": [],
   "source": [
    "default(legend=:none, size=(300,120))"
   ]
  },
  {
   "cell_type": "code",
   "execution_count": 40,
   "metadata": {},
   "outputs": [],
   "source": [
    "using Random"
   ]
  },
  {
   "cell_type": "code",
   "execution_count": 94,
   "metadata": {},
   "outputs": [],
   "source": [
    "Random.seed!(2022)\n",
    "\n",
    "x = randn(10);"
   ]
  },
  {
   "cell_type": "code",
   "execution_count": 42,
   "metadata": {},
   "outputs": [
    {
     "name": "stdout",
     "output_type": "stream",
     "text": [
      "  0.000854 seconds (1.29 k allocations: 74.836 KiB)\n"
     ]
    },
    {
     "data": {
      "image/svg+xml": "<?xml version=\"1.0\" encoding=\"utf-8\"?>\n<svg xmlns=\"http://www.w3.org/2000/svg\" xmlns:xlink=\"http://www.w3.org/1999/xlink\" width=\"300\" height=\"120\" viewBox=\"0 0 1200 480\">\n<defs>\n  <clipPath id=\"clip320\">\n    <rect x=\"0\" y=\"0\" width=\"1200\" height=\"480\"/>\n  </clipPath>\n</defs>\n<path clip-path=\"url(#clip320)\" d=\"\nM0 480 L1200 480 L1200 0 L0 0  Z\n  \" fill=\"#ffffff\" fill-rule=\"evenodd\" fill-opacity=\"1\"/>\n<defs>\n  <clipPath id=\"clip321\">\n    <rect x=\"240\" y=\"0\" width=\"841\" height=\"480\"/>\n  </clipPath>\n</defs>\n<path clip-path=\"url(#clip320)\" d=\"\nM181.936 391.472 L1152.76 391.472 L1152.76 47.2441 L181.936 47.2441  Z\n  \" fill=\"#ffffff\" fill-rule=\"evenodd\" fill-opacity=\"1\"/>\n<defs>\n  <clipPath id=\"clip322\">\n    <rect x=\"181\" y=\"47\" width=\"972\" height=\"345\"/>\n  </clipPath>\n</defs>\n<polyline clip-path=\"url(#clip322)\" style=\"stroke:#000000; stroke-linecap:butt; stroke-linejoin:round; stroke-width:2; stroke-opacity:0.1; fill:none\" points=\"\n  311.175,391.472 311.175,47.2441 \n  \"/>\n<polyline clip-path=\"url(#clip322)\" style=\"stroke:#000000; stroke-linecap:butt; stroke-linejoin:round; stroke-width:2; stroke-opacity:0.1; fill:none\" points=\"\n  514.701,391.472 514.701,47.2441 \n  \"/>\n<polyline clip-path=\"url(#clip322)\" style=\"stroke:#000000; stroke-linecap:butt; stroke-linejoin:round; stroke-width:2; stroke-opacity:0.1; fill:none\" points=\"\n  718.227,391.472 718.227,47.2441 \n  \"/>\n<polyline clip-path=\"url(#clip322)\" style=\"stroke:#000000; stroke-linecap:butt; stroke-linejoin:round; stroke-width:2; stroke-opacity:0.1; fill:none\" points=\"\n  921.754,391.472 921.754,47.2441 \n  \"/>\n<polyline clip-path=\"url(#clip322)\" style=\"stroke:#000000; stroke-linecap:butt; stroke-linejoin:round; stroke-width:2; stroke-opacity:0.1; fill:none\" points=\"\n  1125.28,391.472 1125.28,47.2441 \n  \"/>\n<polyline clip-path=\"url(#clip320)\" style=\"stroke:#000000; stroke-linecap:butt; stroke-linejoin:round; stroke-width:4; stroke-opacity:1; fill:none\" points=\"\n  181.936,391.472 1152.76,391.472 \n  \"/>\n<polyline clip-path=\"url(#clip320)\" style=\"stroke:#000000; stroke-linecap:butt; stroke-linejoin:round; stroke-width:4; stroke-opacity:1; fill:none\" points=\"\n  311.175,391.472 311.175,372.574 \n  \"/>\n<polyline clip-path=\"url(#clip320)\" style=\"stroke:#000000; stroke-linecap:butt; stroke-linejoin:round; stroke-width:4; stroke-opacity:1; fill:none\" points=\"\n  514.701,391.472 514.701,372.574 \n  \"/>\n<polyline clip-path=\"url(#clip320)\" style=\"stroke:#000000; stroke-linecap:butt; stroke-linejoin:round; stroke-width:4; stroke-opacity:1; fill:none\" points=\"\n  718.227,391.472 718.227,372.574 \n  \"/>\n<polyline clip-path=\"url(#clip320)\" style=\"stroke:#000000; stroke-linecap:butt; stroke-linejoin:round; stroke-width:4; stroke-opacity:1; fill:none\" points=\"\n  921.754,391.472 921.754,372.574 \n  \"/>\n<polyline clip-path=\"url(#clip320)\" style=\"stroke:#000000; stroke-linecap:butt; stroke-linejoin:round; stroke-width:4; stroke-opacity:1; fill:none\" points=\"\n  1125.28,391.472 1125.28,372.574 \n  \"/>\n<path clip-path=\"url(#clip320)\" d=\"M305.828 440.337 L322.147 440.337 L322.147 444.272 L300.203 444.272 L300.203 440.337 Q302.865 437.582 307.448 432.952 Q312.055 428.3 313.235 426.957 Q315.481 424.434 316.36 422.698 Q317.263 420.939 317.263 419.249 Q317.263 416.494 315.319 414.758 Q313.397 413.022 310.296 413.022 Q308.096 413.022 305.643 413.786 Q303.212 414.55 300.434 416.101 L300.434 411.379 Q303.259 410.244 305.712 409.666 Q308.166 409.087 310.203 409.087 Q315.573 409.087 318.768 411.772 Q321.962 414.457 321.962 418.948 Q321.962 421.078 321.152 422.999 Q320.365 424.897 318.258 427.49 Q317.68 428.161 314.578 431.378 Q311.476 434.573 305.828 440.337 Z\" fill=\"#000000\" fill-rule=\"evenodd\" fill-opacity=\"1\" /><path clip-path=\"url(#clip320)\" d=\"M517.711 413.786 L505.905 432.235 L517.711 432.235 L517.711 413.786 M516.484 409.712 L522.363 409.712 L522.363 432.235 L527.294 432.235 L527.294 436.124 L522.363 436.124 L522.363 444.272 L517.711 444.272 L517.711 436.124 L502.109 436.124 L502.109 431.61 L516.484 409.712 Z\" fill=\"#000000\" fill-rule=\"evenodd\" fill-opacity=\"1\" /><path clip-path=\"url(#clip320)\" d=\"M718.633 425.128 Q715.484 425.128 713.633 427.281 Q711.804 429.434 711.804 433.184 Q711.804 436.911 713.633 439.087 Q715.484 441.239 718.633 441.239 Q721.781 441.239 723.609 439.087 Q725.461 436.911 725.461 433.184 Q725.461 429.434 723.609 427.281 Q721.781 425.128 718.633 425.128 M727.915 410.476 L727.915 414.735 Q726.156 413.902 724.35 413.462 Q722.568 413.022 720.809 413.022 Q716.179 413.022 713.725 416.147 Q711.295 419.272 710.947 425.591 Q712.313 423.578 714.373 422.513 Q716.434 421.425 718.91 421.425 Q724.119 421.425 727.128 424.596 Q730.16 427.744 730.16 433.184 Q730.16 438.508 727.012 441.726 Q723.864 444.943 718.633 444.943 Q712.637 444.943 709.466 440.36 Q706.295 435.753 706.295 427.027 Q706.295 418.832 710.184 413.971 Q714.072 409.087 720.623 409.087 Q722.383 409.087 724.165 409.434 Q725.971 409.781 727.915 410.476 Z\" fill=\"#000000\" fill-rule=\"evenodd\" fill-opacity=\"1\" /><path clip-path=\"url(#clip320)\" d=\"M921.754 427.86 Q918.42 427.86 916.499 429.642 Q914.601 431.425 914.601 434.55 Q914.601 437.675 916.499 439.457 Q918.42 441.239 921.754 441.239 Q925.087 441.239 927.008 439.457 Q928.93 437.652 928.93 434.55 Q928.93 431.425 927.008 429.642 Q925.11 427.86 921.754 427.86 M917.078 425.869 Q914.069 425.128 912.379 423.068 Q910.712 421.008 910.712 418.045 Q910.712 413.902 913.652 411.494 Q916.615 409.087 921.754 409.087 Q926.916 409.087 929.855 411.494 Q932.795 413.902 932.795 418.045 Q932.795 421.008 931.105 423.068 Q929.439 425.128 926.453 425.869 Q929.832 426.656 931.707 428.948 Q933.605 431.24 933.605 434.55 Q933.605 439.573 930.527 442.258 Q927.471 444.943 921.754 444.943 Q916.036 444.943 912.957 442.258 Q909.902 439.573 909.902 434.55 Q909.902 431.24 911.8 428.948 Q913.698 426.656 917.078 425.869 M915.365 418.485 Q915.365 421.17 917.031 422.675 Q918.721 424.179 921.754 424.179 Q924.763 424.179 926.453 422.675 Q928.166 421.17 928.166 418.485 Q928.166 415.8 926.453 414.295 Q924.763 412.791 921.754 412.791 Q918.721 412.791 917.031 414.295 Q915.365 415.8 915.365 418.485 Z\" fill=\"#000000\" fill-rule=\"evenodd\" fill-opacity=\"1\" /><path clip-path=\"url(#clip320)\" d=\"M1099.97 440.337 L1107.61 440.337 L1107.61 413.971 L1099.3 415.638 L1099.3 411.379 L1107.56 409.712 L1112.24 409.712 L1112.24 440.337 L1119.87 440.337 L1119.87 444.272 L1099.97 444.272 L1099.97 440.337 Z\" fill=\"#000000\" fill-rule=\"evenodd\" fill-opacity=\"1\" /><path clip-path=\"url(#clip320)\" d=\"M1139.32 412.791 Q1135.71 412.791 1133.88 416.355 Q1132.07 419.897 1132.07 427.027 Q1132.07 434.133 1133.88 437.698 Q1135.71 441.239 1139.32 441.239 Q1142.95 441.239 1144.76 437.698 Q1146.59 434.133 1146.59 427.027 Q1146.59 419.897 1144.76 416.355 Q1142.95 412.791 1139.32 412.791 M1139.32 409.087 Q1145.13 409.087 1148.18 413.693 Q1151.26 418.277 1151.26 427.027 Q1151.26 435.753 1148.18 440.36 Q1145.13 444.943 1139.32 444.943 Q1133.51 444.943 1130.43 440.36 Q1127.37 435.753 1127.37 427.027 Q1127.37 418.277 1130.43 413.693 Q1133.51 409.087 1139.32 409.087 Z\" fill=\"#000000\" fill-rule=\"evenodd\" fill-opacity=\"1\" /><polyline clip-path=\"url(#clip322)\" style=\"stroke:#000000; stroke-linecap:butt; stroke-linejoin:round; stroke-width:2; stroke-opacity:0.1; fill:none\" points=\"\n  181.936,360.918 1152.76,360.918 \n  \"/>\n<polyline clip-path=\"url(#clip322)\" style=\"stroke:#000000; stroke-linecap:butt; stroke-linejoin:round; stroke-width:2; stroke-opacity:0.1; fill:none\" points=\"\n  181.936,313.08 1152.76,313.08 \n  \"/>\n<polyline clip-path=\"url(#clip322)\" style=\"stroke:#000000; stroke-linecap:butt; stroke-linejoin:round; stroke-width:2; stroke-opacity:0.1; fill:none\" points=\"\n  181.936,265.243 1152.76,265.243 \n  \"/>\n<polyline clip-path=\"url(#clip322)\" style=\"stroke:#000000; stroke-linecap:butt; stroke-linejoin:round; stroke-width:2; stroke-opacity:0.1; fill:none\" points=\"\n  181.936,217.406 1152.76,217.406 \n  \"/>\n<polyline clip-path=\"url(#clip322)\" style=\"stroke:#000000; stroke-linecap:butt; stroke-linejoin:round; stroke-width:2; stroke-opacity:0.1; fill:none\" points=\"\n  181.936,169.568 1152.76,169.568 \n  \"/>\n<polyline clip-path=\"url(#clip322)\" style=\"stroke:#000000; stroke-linecap:butt; stroke-linejoin:round; stroke-width:2; stroke-opacity:0.1; fill:none\" points=\"\n  181.936,121.731 1152.76,121.731 \n  \"/>\n<polyline clip-path=\"url(#clip322)\" style=\"stroke:#000000; stroke-linecap:butt; stroke-linejoin:round; stroke-width:2; stroke-opacity:0.1; fill:none\" points=\"\n  181.936,73.8935 1152.76,73.8935 \n  \"/>\n<polyline clip-path=\"url(#clip320)\" style=\"stroke:#000000; stroke-linecap:butt; stroke-linejoin:round; stroke-width:4; stroke-opacity:1; fill:none\" points=\"\n  181.936,391.472 181.936,47.2441 \n  \"/>\n<polyline clip-path=\"url(#clip320)\" style=\"stroke:#000000; stroke-linecap:butt; stroke-linejoin:round; stroke-width:4; stroke-opacity:1; fill:none\" points=\"\n  181.936,360.918 200.834,360.918 \n  \"/>\n<polyline clip-path=\"url(#clip320)\" style=\"stroke:#000000; stroke-linecap:butt; stroke-linejoin:round; stroke-width:4; stroke-opacity:1; fill:none\" points=\"\n  181.936,313.08 200.834,313.08 \n  \"/>\n<polyline clip-path=\"url(#clip320)\" style=\"stroke:#000000; stroke-linecap:butt; stroke-linejoin:round; stroke-width:4; stroke-opacity:1; fill:none\" points=\"\n  181.936,265.243 200.834,265.243 \n  \"/>\n<polyline clip-path=\"url(#clip320)\" style=\"stroke:#000000; stroke-linecap:butt; stroke-linejoin:round; stroke-width:4; stroke-opacity:1; fill:none\" points=\"\n  181.936,217.406 200.834,217.406 \n  \"/>\n<polyline clip-path=\"url(#clip320)\" style=\"stroke:#000000; stroke-linecap:butt; stroke-linejoin:round; stroke-width:4; stroke-opacity:1; fill:none\" points=\"\n  181.936,169.568 200.834,169.568 \n  \"/>\n<polyline clip-path=\"url(#clip320)\" style=\"stroke:#000000; stroke-linecap:butt; stroke-linejoin:round; stroke-width:4; stroke-opacity:1; fill:none\" points=\"\n  181.936,121.731 200.834,121.731 \n  \"/>\n<polyline clip-path=\"url(#clip320)\" style=\"stroke:#000000; stroke-linecap:butt; stroke-linejoin:round; stroke-width:4; stroke-opacity:1; fill:none\" points=\"\n  181.936,73.8935 200.834,73.8935 \n  \"/>\n<path clip-path=\"url(#clip320)\" d=\"M57.9875 361.369 L87.6633 361.369 L87.6633 365.304 L57.9875 365.304 L57.9875 361.369 Z\" fill=\"#000000\" fill-rule=\"evenodd\" fill-opacity=\"1\" /><path clip-path=\"url(#clip320)\" d=\"M98.566 374.263 L106.205 374.263 L106.205 347.897 L97.8947 349.564 L97.8947 345.304 L106.159 343.638 L110.834 343.638 L110.834 374.263 L118.473 374.263 L118.473 378.198 L98.566 378.198 L98.566 374.263 Z\" fill=\"#000000\" fill-rule=\"evenodd\" fill-opacity=\"1\" /><path clip-path=\"url(#clip320)\" d=\"M127.918 372.318 L132.802 372.318 L132.802 378.198 L127.918 378.198 L127.918 372.318 Z\" fill=\"#000000\" fill-rule=\"evenodd\" fill-opacity=\"1\" /><path clip-path=\"url(#clip320)\" d=\"M143.033 343.638 L161.39 343.638 L161.39 347.573 L147.316 347.573 L147.316 356.045 Q148.334 355.698 149.353 355.536 Q150.371 355.351 151.39 355.351 Q157.177 355.351 160.556 358.522 Q163.936 361.693 163.936 367.11 Q163.936 372.688 160.464 375.79 Q156.992 378.869 150.672 378.869 Q148.496 378.869 146.228 378.499 Q143.982 378.128 141.575 377.388 L141.575 372.688 Q143.658 373.823 145.881 374.378 Q148.103 374.934 150.58 374.934 Q154.584 374.934 156.922 372.827 Q159.26 370.721 159.26 367.11 Q159.26 363.499 156.922 361.392 Q154.584 359.286 150.58 359.286 Q148.705 359.286 146.83 359.702 Q144.978 360.119 143.033 360.999 L143.033 343.638 Z\" fill=\"#000000\" fill-rule=\"evenodd\" fill-opacity=\"1\" /><path clip-path=\"url(#clip320)\" d=\"M56.9921 313.532 L86.6679 313.532 L86.6679 317.467 L56.9921 317.467 L56.9921 313.532 Z\" fill=\"#000000\" fill-rule=\"evenodd\" fill-opacity=\"1\" /><path clip-path=\"url(#clip320)\" d=\"M97.5706 326.425 L105.209 326.425 L105.209 300.06 L96.8993 301.726 L96.8993 297.467 L105.163 295.8 L109.839 295.8 L109.839 326.425 L117.478 326.425 L117.478 330.36 L97.5706 330.36 L97.5706 326.425 Z\" fill=\"#000000\" fill-rule=\"evenodd\" fill-opacity=\"1\" /><path clip-path=\"url(#clip320)\" d=\"M126.922 324.481 L131.807 324.481 L131.807 330.36 L126.922 330.36 L126.922 324.481 Z\" fill=\"#000000\" fill-rule=\"evenodd\" fill-opacity=\"1\" /><path clip-path=\"url(#clip320)\" d=\"M151.992 298.879 Q148.381 298.879 146.552 302.444 Q144.746 305.985 144.746 313.115 Q144.746 320.222 146.552 323.786 Q148.381 327.328 151.992 327.328 Q155.626 327.328 157.431 323.786 Q159.26 320.222 159.26 313.115 Q159.26 305.985 157.431 302.444 Q155.626 298.879 151.992 298.879 M151.992 295.175 Q157.802 295.175 160.857 299.782 Q163.936 304.365 163.936 313.115 Q163.936 321.842 160.857 326.448 Q157.802 331.032 151.992 331.032 Q146.181 331.032 143.103 326.448 Q140.047 321.842 140.047 313.115 Q140.047 304.365 143.103 299.782 Q146.181 295.175 151.992 295.175 Z\" fill=\"#000000\" fill-rule=\"evenodd\" fill-opacity=\"1\" /><path clip-path=\"url(#clip320)\" d=\"M57.9875 265.694 L87.6633 265.694 L87.6633 269.63 L57.9875 269.63 L57.9875 265.694 Z\" fill=\"#000000\" fill-rule=\"evenodd\" fill-opacity=\"1\" /><path clip-path=\"url(#clip320)\" d=\"M107.756 251.042 Q104.145 251.042 102.316 254.606 Q100.51 258.148 100.51 265.278 Q100.51 272.384 102.316 275.949 Q104.145 279.491 107.756 279.491 Q111.39 279.491 113.196 275.949 Q115.024 272.384 115.024 265.278 Q115.024 258.148 113.196 254.606 Q111.39 251.042 107.756 251.042 M107.756 247.338 Q113.566 247.338 116.621 251.944 Q119.7 256.528 119.7 265.278 Q119.7 274.005 116.621 278.611 Q113.566 283.194 107.756 283.194 Q101.946 283.194 98.8669 278.611 Q95.8114 274.005 95.8114 265.278 Q95.8114 256.528 98.8669 251.944 Q101.946 247.338 107.756 247.338 Z\" fill=\"#000000\" fill-rule=\"evenodd\" fill-opacity=\"1\" /><path clip-path=\"url(#clip320)\" d=\"M127.918 276.643 L132.802 276.643 L132.802 282.523 L127.918 282.523 L127.918 276.643 Z\" fill=\"#000000\" fill-rule=\"evenodd\" fill-opacity=\"1\" /><path clip-path=\"url(#clip320)\" d=\"M143.033 247.963 L161.39 247.963 L161.39 251.898 L147.316 251.898 L147.316 260.37 Q148.334 260.023 149.353 259.861 Q150.371 259.676 151.39 259.676 Q157.177 259.676 160.556 262.847 Q163.936 266.018 163.936 271.435 Q163.936 277.014 160.464 280.116 Q156.992 283.194 150.672 283.194 Q148.496 283.194 146.228 282.824 Q143.982 282.454 141.575 281.713 L141.575 277.014 Q143.658 278.148 145.881 278.704 Q148.103 279.259 150.58 279.259 Q154.584 279.259 156.922 277.153 Q159.26 275.046 159.26 271.435 Q159.26 267.824 156.922 265.718 Q154.584 263.611 150.58 263.611 Q148.705 263.611 146.83 264.028 Q144.978 264.444 143.033 265.324 L143.033 247.963 Z\" fill=\"#000000\" fill-rule=\"evenodd\" fill-opacity=\"1\" /><path clip-path=\"url(#clip320)\" d=\"M106.76 203.204 Q103.149 203.204 101.321 206.769 Q99.515 210.311 99.515 217.44 Q99.515 224.547 101.321 228.112 Q103.149 231.653 106.76 231.653 Q110.395 231.653 112.2 228.112 Q114.029 224.547 114.029 217.44 Q114.029 210.311 112.2 206.769 Q110.395 203.204 106.76 203.204 M106.76 199.501 Q112.571 199.501 115.626 204.107 Q118.705 208.69 118.705 217.44 Q118.705 226.167 115.626 230.774 Q112.571 235.357 106.76 235.357 Q100.95 235.357 97.8715 230.774 Q94.816 226.167 94.816 217.44 Q94.816 208.69 97.8715 204.107 Q100.95 199.501 106.76 199.501 Z\" fill=\"#000000\" fill-rule=\"evenodd\" fill-opacity=\"1\" /><path clip-path=\"url(#clip320)\" d=\"M126.922 228.806 L131.807 228.806 L131.807 234.686 L126.922 234.686 L126.922 228.806 Z\" fill=\"#000000\" fill-rule=\"evenodd\" fill-opacity=\"1\" /><path clip-path=\"url(#clip320)\" d=\"M151.992 203.204 Q148.381 203.204 146.552 206.769 Q144.746 210.311 144.746 217.44 Q144.746 224.547 146.552 228.112 Q148.381 231.653 151.992 231.653 Q155.626 231.653 157.431 228.112 Q159.26 224.547 159.26 217.44 Q159.26 210.311 157.431 206.769 Q155.626 203.204 151.992 203.204 M151.992 199.501 Q157.802 199.501 160.857 204.107 Q163.936 208.69 163.936 217.44 Q163.936 226.167 160.857 230.774 Q157.802 235.357 151.992 235.357 Q146.181 235.357 143.103 230.774 Q140.047 226.167 140.047 217.44 Q140.047 208.69 143.103 204.107 Q146.181 199.501 151.992 199.501 Z\" fill=\"#000000\" fill-rule=\"evenodd\" fill-opacity=\"1\" /><path clip-path=\"url(#clip320)\" d=\"M107.756 155.367 Q104.145 155.367 102.316 158.932 Q100.51 162.473 100.51 169.603 Q100.51 176.709 102.316 180.274 Q104.145 183.816 107.756 183.816 Q111.39 183.816 113.196 180.274 Q115.024 176.709 115.024 169.603 Q115.024 162.473 113.196 158.932 Q111.39 155.367 107.756 155.367 M107.756 151.663 Q113.566 151.663 116.621 156.27 Q119.7 160.853 119.7 169.603 Q119.7 178.33 116.621 182.936 Q113.566 187.52 107.756 187.52 Q101.946 187.52 98.8669 182.936 Q95.8114 178.33 95.8114 169.603 Q95.8114 160.853 98.8669 156.27 Q101.946 151.663 107.756 151.663 Z\" fill=\"#000000\" fill-rule=\"evenodd\" fill-opacity=\"1\" /><path clip-path=\"url(#clip320)\" d=\"M127.918 180.969 L132.802 180.969 L132.802 186.848 L127.918 186.848 L127.918 180.969 Z\" fill=\"#000000\" fill-rule=\"evenodd\" fill-opacity=\"1\" /><path clip-path=\"url(#clip320)\" d=\"M143.033 152.288 L161.39 152.288 L161.39 156.223 L147.316 156.223 L147.316 164.696 Q148.334 164.348 149.353 164.186 Q150.371 164.001 151.39 164.001 Q157.177 164.001 160.556 167.172 Q163.936 170.344 163.936 175.76 Q163.936 181.339 160.464 184.441 Q156.992 187.52 150.672 187.52 Q148.496 187.52 146.228 187.149 Q143.982 186.779 141.575 186.038 L141.575 181.339 Q143.658 182.473 145.881 183.029 Q148.103 183.584 150.58 183.584 Q154.584 183.584 156.922 181.478 Q159.26 179.371 159.26 175.76 Q159.26 172.149 156.922 170.043 Q154.584 167.936 150.58 167.936 Q148.705 167.936 146.83 168.353 Q144.978 168.77 143.033 169.649 L143.033 152.288 Z\" fill=\"#000000\" fill-rule=\"evenodd\" fill-opacity=\"1\" /><path clip-path=\"url(#clip320)\" d=\"M97.5706 135.076 L105.209 135.076 L105.209 108.71 L96.8993 110.377 L96.8993 106.118 L105.163 104.451 L109.839 104.451 L109.839 135.076 L117.478 135.076 L117.478 139.011 L97.5706 139.011 L97.5706 135.076 Z\" fill=\"#000000\" fill-rule=\"evenodd\" fill-opacity=\"1\" /><path clip-path=\"url(#clip320)\" d=\"M126.922 133.131 L131.807 133.131 L131.807 139.011 L126.922 139.011 L126.922 133.131 Z\" fill=\"#000000\" fill-rule=\"evenodd\" fill-opacity=\"1\" /><path clip-path=\"url(#clip320)\" d=\"M151.992 107.53 Q148.381 107.53 146.552 111.094 Q144.746 114.636 144.746 121.766 Q144.746 128.872 146.552 132.437 Q148.381 135.979 151.992 135.979 Q155.626 135.979 157.431 132.437 Q159.26 128.872 159.26 121.766 Q159.26 114.636 157.431 111.094 Q155.626 107.53 151.992 107.53 M151.992 103.826 Q157.802 103.826 160.857 108.432 Q163.936 113.016 163.936 121.766 Q163.936 130.492 160.857 135.099 Q157.802 139.682 151.992 139.682 Q146.181 139.682 143.103 135.099 Q140.047 130.492 140.047 121.766 Q140.047 113.016 143.103 108.432 Q146.181 103.826 151.992 103.826 Z\" fill=\"#000000\" fill-rule=\"evenodd\" fill-opacity=\"1\" /><path clip-path=\"url(#clip320)\" d=\"M98.566 87.2384 L106.205 87.2384 L106.205 60.8728 L97.8947 62.5394 L97.8947 58.2802 L106.159 56.6135 L110.834 56.6135 L110.834 87.2384 L118.473 87.2384 L118.473 91.1735 L98.566 91.1735 L98.566 87.2384 Z\" fill=\"#000000\" fill-rule=\"evenodd\" fill-opacity=\"1\" /><path clip-path=\"url(#clip320)\" d=\"M127.918 85.2939 L132.802 85.2939 L132.802 91.1735 L127.918 91.1735 L127.918 85.2939 Z\" fill=\"#000000\" fill-rule=\"evenodd\" fill-opacity=\"1\" /><path clip-path=\"url(#clip320)\" d=\"M143.033 56.6135 L161.39 56.6135 L161.39 60.5487 L147.316 60.5487 L147.316 69.0209 Q148.334 68.6737 149.353 68.5116 Q150.371 68.3264 151.39 68.3264 Q157.177 68.3264 160.556 71.4977 Q163.936 74.669 163.936 80.0856 Q163.936 85.6643 160.464 88.7661 Q156.992 91.8448 150.672 91.8448 Q148.496 91.8448 146.228 91.4745 Q143.982 91.1041 141.575 90.3634 L141.575 85.6643 Q143.658 86.7986 145.881 87.3541 Q148.103 87.9097 150.58 87.9097 Q154.584 87.9097 156.922 85.8032 Q159.26 83.6967 159.26 80.0856 Q159.26 76.4745 156.922 74.3681 Q154.584 72.2616 150.58 72.2616 Q148.705 72.2616 146.83 72.6783 Q144.978 73.0949 143.033 73.9746 L143.033 56.6135 Z\" fill=\"#000000\" fill-rule=\"evenodd\" fill-opacity=\"1\" /><polyline clip-path=\"url(#clip322)\" style=\"stroke:#009af9; stroke-linecap:butt; stroke-linejoin:round; stroke-width:4; stroke-opacity:1; fill:none\" points=\"\n  209.412,246.935 311.175,56.9864 412.938,250.619 514.701,139.08 616.464,381.73 718.227,240.266 819.991,150.248 921.754,233.301 1023.52,260.4 1125.28,188.447 \n  \n  \"/>\n</svg>\n"
     },
     "execution_count": 42,
     "metadata": {},
     "output_type": "execute_result"
    }
   ],
   "source": [
    "@time plot(x)"
   ]
  },
  {
   "cell_type": "code",
   "execution_count": 43,
   "metadata": {},
   "outputs": [
    {
     "name": "stdout",
     "output_type": "stream",
     "text": [
      "  0.000031 seconds (6 allocations: 576 bytes)\n"
     ]
    },
    {
     "data": {
      "text/plain": [
       "Plots.PyPlotBackend()"
      ]
     },
     "execution_count": 43,
     "metadata": {},
     "output_type": "execute_result"
    }
   ],
   "source": [
    "@time pyplot()"
   ]
  },
  {
   "cell_type": "markdown",
   "metadata": {},
   "source": [
    "Can set default with `ENV[\"PLOTS_DEFAULT_BACKEND\"] = \"pyplot\"`"
   ]
  },
  {
   "cell_type": "code",
   "execution_count": 45,
   "metadata": {},
   "outputs": [
    {
     "data": {
      "image/png": "[encoded data removed]"
     },
     "execution_count": 45,
     "metadata": {},
     "output_type": "execute_result"
    }
   ],
   "source": [
    "p = plot(x)"
   ]
  },
  {
   "cell_type": "code",
   "execution_count": 117,
   "metadata": {},
   "outputs": [],
   "source": [
    "import PyPlot: matplotlib, subplots, version"
   ]
  },
  {
   "cell_type": "code",
   "execution_count": 105,
   "metadata": {},
   "outputs": [
    {
     "data": {
      "image/png": "[encoded data removed]",
      "text/plain": [
       "Figure(PyObject <Figure size 400x300 with 4 Axes>)"
      ]
     },
     "metadata": {},
     "output_type": "display_data"
    },
    {
     "data": {
      "text/plain": [
       "PyObject <matplotlib.lines.Line2D object at 0x0000000096C6FD00>"
      ]
     },
     "execution_count": 105,
     "metadata": {},
     "output_type": "execute_result"
    }
   ],
   "source": [
    "fig, ax = subplots(2,2, figsize=(4,3))\n",
    "fig.suptitle(\"Hello ♥ Matplotlib\")\n",
    "fig.tight_layout()\n",
    "ax[1,1].stairs(x)\n",
    "ax[1,2].stem(x)\n",
    "ax[2,2].axhline(0.5)"
   ]
  },
  {
   "cell_type": "code",
   "execution_count": 62,
   "metadata": {},
   "outputs": [
    {
     "data": {
      "text/plain": [
       "PyObject <matplotlib.transforms.Affine2D object at 0x0000000084780520>"
      ]
     },
     "execution_count": 62,
     "metadata": {},
     "output_type": "execute_result"
    }
   ],
   "source": [
    "fig.dpi_scale_trans"
   ]
  },
  {
   "cell_type": "markdown",
   "metadata": {},
   "source": [
    "Amazing. We have access to the _entirety_ of matplotlib (and an up-to-date version too)."
   ]
  },
  {
   "cell_type": "code",
   "execution_count": 118,
   "metadata": {},
   "outputs": [
    {
     "name": "stdout",
     "output_type": "stream",
     "text": [
      "mpl version 3.5.1"
     ]
    }
   ],
   "source": [
    "print(\"mpl version $version\")"
   ]
  },
  {
   "cell_type": "markdown",
   "metadata": {},
   "source": [
    "## Units "
   ]
  },
  {
   "cell_type": "code",
   "execution_count": 1,
   "metadata": {},
   "outputs": [
    {
     "name": "stdout",
     "output_type": "stream",
     "text": [
      "  0.397959 seconds (710.74 k allocations: 45.410 MiB, 0.77% compilation time)\n"
     ]
    }
   ],
   "source": [
    "@time using Unitful, UnitfulRecipes"
   ]
  },
  {
   "cell_type": "code",
   "execution_count": 2,
   "metadata": {},
   "outputs": [],
   "source": [
    "using Unitful.DefaultSymbols  # m, cm, …"
   ]
  },
  {
   "cell_type": "code",
   "execution_count": 59,
   "metadata": {},
   "outputs": [
    {
     "data": {
      "text/plain": [
       "true"
      ]
     },
     "execution_count": 59,
     "metadata": {},
     "output_type": "execute_result"
    }
   ],
   "source": [
    "ENV[\"UNITFUL_FANCY_EXPONENTS\"] = true"
   ]
  },
  {
   "cell_type": "code",
   "execution_count": 4,
   "metadata": {},
   "outputs": [
    {
     "data": {
      "text/plain": [
       "7 cm s⁻¹"
      ]
     },
     "execution_count": 4,
     "metadata": {},
     "output_type": "execute_result"
    }
   ],
   "source": [
    "x = 7cm/s"
   ]
  },
  {
   "cell_type": "code",
   "execution_count": 5,
   "metadata": {},
   "outputs": [
    {
     "data": {
      "text/plain": [
       "Quantity{Int64, 𝐋 𝐓⁻¹, Unitful.FreeUnits{(cm, s⁻¹), 𝐋 𝐓⁻¹, nothing}}"
      ]
     },
     "execution_count": 5,
     "metadata": {},
     "output_type": "execute_result"
    }
   ],
   "source": [
    "typeof(x)"
   ]
  },
  {
   "cell_type": "code",
   "execution_count": 6,
   "metadata": {},
   "outputs": [
    {
     "data": {
      "text/plain": [
       "3-element Vector{Quantity{Float64, 𝐋, Unitful.FreeUnits{(m,), 𝐋, nothing}}}:\n",
       "    1.0 m\n",
       "   0.02 m\n",
       " 3000.0 m"
      ]
     },
     "execution_count": 6,
     "metadata": {},
     "output_type": "execute_result"
    }
   ],
   "source": [
    "[1.0m, 2.0*cm, 3.0 * km]"
   ]
  },
  {
   "cell_type": "code",
   "execution_count": 7,
   "metadata": {},
   "outputs": [
    {
     "data": {
      "text/plain": [
       "4-element Vector{Quantity{Int64, 𝐌, Unitful.FreeUnits{(kg,), 𝐌, nothing}}}:\n",
       " 2 kg\n",
       " 3 kg\n",
       " 4 kg\n",
       " 5 kg"
      ]
     },
     "execution_count": 7,
     "metadata": {},
     "output_type": "execute_result"
    }
   ],
   "source": [
    "[2:5;] * kg"
   ]
  },
  {
   "cell_type": "markdown",
   "metadata": {},
   "source": [
    "## Numeric processing performance of unitful arrays"
   ]
  },
  {
   "cell_type": "code",
   "execution_count": 255,
   "metadata": {},
   "outputs": [],
   "source": [
    "using BenchmarkTools"
   ]
  },
  {
   "cell_type": "code",
   "execution_count": 272,
   "metadata": {},
   "outputs": [],
   "source": [
    "z, q = randn(2000); randn(2000);"
   ]
  },
  {
   "cell_type": "code",
   "execution_count": 276,
   "metadata": {},
   "outputs": [],
   "source": [
    "zz, qq = z*kg, q*mV/s;"
   ]
  },
  {
   "cell_type": "code",
   "execution_count": 277,
   "metadata": {},
   "outputs": [
    {
     "data": {
      "text/plain": [
       "BenchmarkTools.Trial: 10000 samples with 9 evaluations.\n",
       " Range \u001b[90m(\u001b[39m\u001b[36m\u001b[1mmin\u001b[22m\u001b[39m … \u001b[35mmax\u001b[39m\u001b[90m):  \u001b[39m\u001b[36m\u001b[1m1.844 μs\u001b[22m\u001b[39m … \u001b[35m253.278 μs\u001b[39m  \u001b[90m┊\u001b[39m GC \u001b[90m(\u001b[39mmin … max\u001b[90m): \u001b[39m 0.00% … 95.76%\n",
       " Time  \u001b[90m(\u001b[39m\u001b[34m\u001b[1mmedian\u001b[22m\u001b[39m\u001b[90m):     \u001b[39m\u001b[34m\u001b[1m3.267 μs               \u001b[22m\u001b[39m\u001b[90m┊\u001b[39m GC \u001b[90m(\u001b[39mmedian\u001b[90m):    \u001b[39m 0.00%\n",
       " Time  \u001b[90m(\u001b[39m\u001b[32m\u001b[1mmean\u001b[22m\u001b[39m ± \u001b[32mσ\u001b[39m\u001b[90m):   \u001b[39m\u001b[32m\u001b[1m4.136 μs\u001b[22m\u001b[39m ± \u001b[32m 11.771 μs\u001b[39m  \u001b[90m┊\u001b[39m GC \u001b[90m(\u001b[39mmean ± σ\u001b[90m):  \u001b[39m15.04% ±  5.24%\n",
       "\n",
       "  \u001b[39m \u001b[39m \u001b[39m \u001b[39m \u001b[39m▂\u001b[39m \u001b[39m \u001b[39m \u001b[39m█\u001b[39m▃\u001b[39m \u001b[34m \u001b[39m\u001b[39m▁\u001b[39m \u001b[39m \u001b[39m \u001b[39m \u001b[39m \u001b[32m \u001b[39m\u001b[39m \u001b[39m \u001b[39m \u001b[39m \u001b[39m \u001b[39m \u001b[39m \u001b[39m \u001b[39m \u001b[39m \u001b[39m \u001b[39m \u001b[39m \u001b[39m \u001b[39m \u001b[39m \u001b[39m \u001b[39m \u001b[39m \u001b[39m \u001b[39m \u001b[39m \u001b[39m \u001b[39m \u001b[39m \u001b[39m \u001b[39m \u001b[39m \u001b[39m \u001b[39m \u001b[39m \u001b[39m \u001b[39m \u001b[39m \u001b[39m \u001b[39m \u001b[39m \u001b[39m \u001b[39m \u001b[39m \u001b[39m \u001b[39m \n",
       "  \u001b[39m▂\u001b[39m▃\u001b[39m▃\u001b[39m▄\u001b[39m█\u001b[39m▇\u001b[39m▇\u001b[39m▇\u001b[39m█\u001b[39m█\u001b[39m▇\u001b[34m▆\u001b[39m\u001b[39m█\u001b[39m█\u001b[39m▇\u001b[39m▅\u001b[39m▅\u001b[39m▆\u001b[32m█\u001b[39m\u001b[39m▇\u001b[39m▅\u001b[39m▄\u001b[39m▃\u001b[39m▂\u001b[39m▂\u001b[39m▂\u001b[39m▂\u001b[39m▁\u001b[39m▁\u001b[39m▁\u001b[39m▁\u001b[39m▁\u001b[39m▁\u001b[39m▁\u001b[39m▁\u001b[39m▁\u001b[39m▁\u001b[39m▁\u001b[39m▁\u001b[39m▁\u001b[39m▁\u001b[39m▁\u001b[39m▁\u001b[39m▁\u001b[39m▁\u001b[39m▁\u001b[39m▁\u001b[39m▁\u001b[39m▁\u001b[39m▁\u001b[39m▁\u001b[39m▁\u001b[39m▁\u001b[39m▁\u001b[39m▁\u001b[39m▁\u001b[39m▁\u001b[39m▁\u001b[39m▁\u001b[39m \u001b[39m▂\n",
       "  1.84 μs\u001b[90m         Histogram: frequency by time\u001b[39m        9.41 μs \u001b[0m\u001b[1m<\u001b[22m\n",
       "\n",
       " Memory estimate\u001b[90m: \u001b[39m\u001b[33m15.81 KiB\u001b[39m, allocs estimate\u001b[90m: \u001b[39m\u001b[33m3\u001b[39m."
      ]
     },
     "execution_count": 277,
     "metadata": {},
     "output_type": "execute_result"
    }
   ],
   "source": [
    "@benchmark zz ./ qq"
   ]
  },
  {
   "cell_type": "code",
   "execution_count": 278,
   "metadata": {},
   "outputs": [
    {
     "data": {
      "text/plain": [
       "BenchmarkTools.Trial: 10000 samples with 9 evaluations.\n",
       " Range \u001b[90m(\u001b[39m\u001b[36m\u001b[1mmin\u001b[22m\u001b[39m … \u001b[35mmax\u001b[39m\u001b[90m):  \u001b[39m\u001b[36m\u001b[1m2.744 μs\u001b[22m\u001b[39m … \u001b[35m794.422 μs\u001b[39m  \u001b[90m┊\u001b[39m GC \u001b[90m(\u001b[39mmin … max\u001b[90m): \u001b[39m 0.00% … 98.60%\n",
       " Time  \u001b[90m(\u001b[39m\u001b[34m\u001b[1mmedian\u001b[22m\u001b[39m\u001b[90m):     \u001b[39m\u001b[34m\u001b[1m4.289 μs               \u001b[22m\u001b[39m\u001b[90m┊\u001b[39m GC \u001b[90m(\u001b[39mmedian\u001b[90m):    \u001b[39m 0.00%\n",
       " Time  \u001b[90m(\u001b[39m\u001b[32m\u001b[1mmean\u001b[22m\u001b[39m ± \u001b[32mσ\u001b[39m\u001b[90m):   \u001b[39m\u001b[32m\u001b[1m5.606 μs\u001b[22m\u001b[39m ± \u001b[32m 17.058 μs\u001b[39m  \u001b[90m┊\u001b[39m GC \u001b[90m(\u001b[39mmean ± σ\u001b[90m):  \u001b[39m14.77% ±  5.25%\n",
       "\n",
       "  \u001b[39m▆\u001b[39m▂\u001b[39m \u001b[39m▇\u001b[39m \u001b[39m \u001b[39m▃\u001b[39m█\u001b[34m▂\u001b[39m\u001b[39m▃\u001b[39m \u001b[39m \u001b[39m \u001b[39m \u001b[32m \u001b[39m\u001b[39m \u001b[39m \u001b[39m \u001b[39m \u001b[39m \u001b[39m \u001b[39m \u001b[39m \u001b[39m \u001b[39m \u001b[39m \u001b[39m \u001b[39m \u001b[39m \u001b[39m \u001b[39m \u001b[39m \u001b[39m \u001b[39m \u001b[39m \u001b[39m \u001b[39m \u001b[39m \u001b[39m \u001b[39m \u001b[39m \u001b[39m \u001b[39m \u001b[39m \u001b[39m \u001b[39m \u001b[39m \u001b[39m \u001b[39m \u001b[39m \u001b[39m \u001b[39m \u001b[39m \u001b[39m \u001b[39m \u001b[39m \u001b[39m \u001b[39m \u001b[39m \u001b[39m \u001b[39m \n",
       "  \u001b[39m█\u001b[39m█\u001b[39m▇\u001b[39m█\u001b[39m▅\u001b[39m▆\u001b[39m█\u001b[39m█\u001b[34m█\u001b[39m\u001b[39m█\u001b[39m█\u001b[39m▇\u001b[39m▄\u001b[39m▃\u001b[32m▃\u001b[39m\u001b[39m▄\u001b[39m▄\u001b[39m▄\u001b[39m▄\u001b[39m▃\u001b[39m▃\u001b[39m▂\u001b[39m▂\u001b[39m▂\u001b[39m▁\u001b[39m▁\u001b[39m▁\u001b[39m▁\u001b[39m▁\u001b[39m▂\u001b[39m▁\u001b[39m▁\u001b[39m▁\u001b[39m▁\u001b[39m▁\u001b[39m▁\u001b[39m▁\u001b[39m▁\u001b[39m▁\u001b[39m▁\u001b[39m▁\u001b[39m▁\u001b[39m▁\u001b[39m▁\u001b[39m▁\u001b[39m▁\u001b[39m▁\u001b[39m▁\u001b[39m▁\u001b[39m▁\u001b[39m▁\u001b[39m▁\u001b[39m▁\u001b[39m▁\u001b[39m▁\u001b[39m▁\u001b[39m▁\u001b[39m▁\u001b[39m▁\u001b[39m \u001b[39m▂\n",
       "  2.74 μs\u001b[90m         Histogram: frequency by time\u001b[39m        14.6 μs \u001b[0m\u001b[1m<\u001b[22m\n",
       "\n",
       " Memory estimate\u001b[90m: \u001b[39m\u001b[33m15.81 KiB\u001b[39m, allocs estimate\u001b[90m: \u001b[39m\u001b[33m3\u001b[39m."
      ]
     },
     "execution_count": 278,
     "metadata": {},
     "output_type": "execute_result"
    }
   ],
   "source": [
    "@benchmark z ./ q"
   ]
  },
  {
   "cell_type": "markdown",
   "metadata": {},
   "source": [
    "Unitful array math just as fast as plain float array math 🤯  \n",
    "Thanks to it doing the unit calculations at compile time. Gives verbose types, but fast speedy numerics."
   ]
  },
  {
   "cell_type": "markdown",
   "metadata": {},
   "source": [
    "## Array wrapper"
   ]
  },
  {
   "cell_type": "code",
   "execution_count": 3,
   "metadata": {},
   "outputs": [],
   "source": [
    "using Unitful\n",
    "import Unitful: kg, s, ms, mV, Hz"
   ]
  },
  {
   "cell_type": "code",
   "execution_count": 42,
   "metadata": {},
   "outputs": [
    {
     "name": "stderr",
     "output_type": "stream",
     "text": [
      "WARNING: replacing module Shorthands.\n"
     ]
    }
   ],
   "source": [
    "module Shorthands\n",
    "const Float = Float64\n",
    "const Optional{T} = Union{T,Nothing} where T\n",
    "const mime_multiline = MIME(\"text/plain\")\n",
    "export Float, Optional, mime_multiline\n",
    "end\n",
    "using .Shorthands"
   ]
  },
  {
   "cell_type": "code",
   "execution_count": 130,
   "metadata": {},
   "outputs": [],
   "source": [
    "\"\"\"Add `IOContext` settings to an `IO` object if they have not been set yet.\"\"\"\n",
    "function add_defaults(io::IO, defaults::Pair...)::IO\n",
    "    settings = merge(Dict(defaults), IOContext(io).dict)\n",
    "    IOContext(io, settings...)\n",
    "end;"
   ]
  },
  {
   "cell_type": "code",
   "execution_count": 10,
   "metadata": {},
   "outputs": [],
   "source": [
    "Base.show(io::IO, x::Float) = \n",
    "    Base.@invoke show(add_defaults(io, :compact=>true)::IO, x::Union{Float16,Float32,Float64})\n",
    "    # this works (i.e. is non-recursive) because we only define it for Float64, not the Union"
   ]
  },
  {
   "cell_type": "code",
   "execution_count": 11,
   "metadata": {},
   "outputs": [],
   "source": [
    "Base.show(io::IO, ::MIME\"text/plain\", x::Quantity) =\n",
    "    Base.@invoke show(add_defaults(io, :fancy_exponent=>true)::IO, x::Quantity)\n",
    "    # this works because Unitful defined a `show` for both with and without mime; we invoke the without here."
   ]
  },
  {
   "cell_type": "code",
   "execution_count": 12,
   "metadata": {},
   "outputs": [
    {
     "data": {
      "text/plain": [
       "0.3 mV ms⁻¹"
      ]
     },
     "execution_count": 12,
     "metadata": {},
     "output_type": "execute_result"
    }
   ],
   "source": [
    "0.1*3 * mV/ms"
   ]
  },
  {
   "cell_type": "code",
   "execution_count": 240,
   "metadata": {},
   "outputs": [],
   "source": [
    "#=\n",
    "`showarg` is called by `summary`, which is in turn called by `show`.\n",
    "It is the \"Vector{ElType}\" part in \"300-element Vector{Eltype}: …\"\n",
    "=#\n",
    "\"\"\"Show summary of the type of a unitful array.\"\"\"\n",
    "function Base.showarg(io::IO, x::AbstractArray{<:Quantity}, toplevel)\n",
    "    print(io, x isa Vector ? \"Vector\" : \n",
    "              x isa Matrix ? \"Matrix\" :\n",
    "              nameof(typeof(x)))\n",
    "    el = first(x)\n",
    "    io = add_defaults(io, :fancy_exponent=>true)  # m² instead of m^2\n",
    "    print(io, \"{\", typeof(el.val), \", \", unit(el), \"}\")\n",
    "    # if integrating in Unitful, a todo: handle heterogeneous arrays.\n",
    "end;"
   ]
  },
  {
   "cell_type": "code",
   "execution_count": 241,
   "metadata": {},
   "outputs": [],
   "source": [
    "function Base.show(io::IO, ::MIME\"text/plain\", x::AbstractArray{<:Quantity})\n",
    "    summary(io, x)\n",
    "    println(io, \":\")\n",
    "    Base.print_array(io, ustrip(x))\n",
    "end"
   ]
  },
  {
   "cell_type": "code",
   "execution_count": 242,
   "metadata": {},
   "outputs": [
    {
     "data": {
      "text/plain": [
       "4-element Vector{Int8, kg s⁻¹}:\n",
       "   20\n",
       "  -39\n",
       " -115\n",
       "   91"
      ]
     },
     "execution_count": 242,
     "metadata": {},
     "output_type": "execute_result"
    }
   ],
   "source": [
    "rand(Int8, 4)kg/s"
   ]
  },
  {
   "cell_type": "code",
   "execution_count": 244,
   "metadata": {},
   "outputs": [],
   "source": [
    "# use ctrl-enter"
   ]
  },
  {
   "cell_type": "code",
   "execution_count": 280,
   "metadata": {},
   "outputs": [
    {
     "name": "stderr",
     "output_type": "stream",
     "text": [
      "WARNING: replacing module S.\n"
     ]
    }
   ],
   "source": [
    "module S\n",
    "\n",
    "import Unitful: Time, Quantity, unit, ustrip, numtype\n",
    "using Base.Iterators\n",
    "using PyFormattedStrings\n",
    "using ..Shorthands\n",
    "using .Main\n",
    "\n",
    "\"\"\"An array where one dimension represents evenly spaced samples in time.\"\"\"\n",
    "struct Signal{T,N} <: AbstractArray{T,N}\n",
    "    \n",
    "    data::AbstractArray{T,N}\n",
    "    \n",
    "    \"\"\"Time between two samples. Reciprocal of sampling frequency.\"\"\"\n",
    "    Δt::Time\n",
    "    \n",
    "    \"\"\"Optional description of the values in `data`. E.g. \"Membrane potential\".\"\"\"\n",
    "    description::Optional{AbstractString}\n",
    "    \n",
    "    \"\"\"Time dimension of the array. Defaults to `1`.\"\"\"\n",
    "    tdim::Int\n",
    "end\n",
    "\n",
    "# Allow `description` and `tdim` as optional keywords.\n",
    "# non-todo: macro this (`Base.@kwdef` or Parameters.jl no good: can't have mix of kw and non-kw).\n",
    "Signal(d, Δt, description; tdim=1) = Signal(d, Δt, description, tdim)\n",
    "Signal(d, Δt; description=nothing, tdim=1) = Signal(d, Δt, description, tdim)\n",
    "\n",
    "Base.size(x::Signal) = size(x.data)\n",
    "Base.getindex(x::Signal{T,N}, I::Vararg{Int, N}) where {T,N} = x.data[I...]\n",
    "Base.setindex!(x::Signal{T,N}, v, I::Vararg{Int, N}) where {T,N} = (x.data[I...] = v)\n",
    "\n",
    "duration(x::Signal) = size(x, x.tdim) * x.Δt\n",
    "\n",
    "function Base.summary(io::IO, x::Signal)\n",
    "    print(io, Base.dims2string(size(x)), ' ')\n",
    "    isnothing(x.description) || print(io, '\"', x.description, '\"', ' ')\n",
    "    Base.showarg(io, x, true)\n",
    "    print(io, \", duration \", duration(x))\n",
    "end\n",
    "\n",
    "function Base.show(io::IO, ::MIME\"text/plain\", x::Signal)\n",
    "    print(io, Base.dims2string(size(x)))\n",
    "    isnothing(x.description) || print(io, ' ', '\"', x.description, '\"')\n",
    "    println(io, \" Signal:\\n\")\n",
    "    el = first(x)\n",
    "    isunitful = (el isa Quantity)\n",
    "    isunitful && (io = Main.add_defaults(io, :fancy_exponent=>true))  # m² instead of m^2\n",
    "    Base.print_array(io, isunitful ? ustrip(x) : x)\n",
    "    println(io, \"\\n\")\n",
    "    printrow(key, val) = println(io, lpad(key, 9), \": \", val)\n",
    "    isunitful && printrow(\"units\", unit(el))\n",
    "    printrow(\"duration\", f\"{duration(x)} (Δt: {x.Δt})\")\n",
    "    printrow(\"dtype\", isunitful ? typeof(el.val) : typeof(el))\n",
    "end\n",
    "\n",
    "end;"
   ]
  },
  {
   "cell_type": "code",
   "execution_count": 259,
   "metadata": {},
   "outputs": [],
   "source": [
    "# use ctrl-enter"
   ]
  },
  {
   "cell_type": "code",
   "execution_count": 260,
   "metadata": {},
   "outputs": [
    {
     "data": {
      "text/plain": [
       "2000-element \"Membrane potential\" Signal:\n",
       "\n",
       " -0.53508\n",
       " -1.05966\n",
       "  0.200328\n",
       " -2.70706\n",
       " -0.538937\n",
       " -0.63484\n",
       "  0.507051\n",
       "  0.627075\n",
       " -0.663051\n",
       "  0.662328\n",
       " -1.96189\n",
       "  0.441242\n",
       "  0.408328\n",
       "  ⋮\n",
       " -0.222719\n",
       " -0.934877\n",
       "  0.431609\n",
       "  0.0725057\n",
       " -1.36245\n",
       "  2.13669\n",
       "  1.75368\n",
       "  1.04932\n",
       " -0.999424\n",
       "  0.154111\n",
       " -1.05527\n",
       " -0.999598\n",
       "\n",
       "    units: mV ms⁻¹\n",
       " duration: 200.0 ms (Δt: 0.1 ms)\n",
       "    dtype: Float64\n"
      ]
     },
     "execution_count": 260,
     "metadata": {},
     "output_type": "execute_result"
    }
   ],
   "source": [
    "x = S.Signal(randn(2000)*mV/ms, 0.1*ms, \"Membrane potential\")\n",
    "x"
   ]
  },
  {
   "cell_type": "code",
   "execution_count": 202,
   "metadata": {},
   "outputs": [
    {
     "name": "stdout",
     "output_type": "stream",
     "text": [
      "2000-element \"Membrane potential\" Signal(Float64, mV ms⁻¹), duration 200.0 ms"
     ]
    }
   ],
   "source": [
    "print(summary(x))"
   ]
  },
  {
   "cell_type": "code",
   "execution_count": 151,
   "metadata": {},
   "outputs": [
    {
     "data": {
      "text/plain": [
       "3×90 Signal:\n",
       "\n",
       "  0.119297   0.109232  -0.380801  …  -0.350973   1.73712   -0.798376\n",
       " -0.307181  -0.422936   0.912106      0.975326  -1.27965    1.26854\n",
       " -0.502739   1.14168    0.899721     -0.52512    0.583211   1.34904\n",
       "\n",
       " duration: 45.0 ms (Δt: 0.5 ms)\n",
       "    dtype: Float64\n"
      ]
     },
     "execution_count": 151,
     "metadata": {},
     "output_type": "execute_result"
    }
   ],
   "source": [
    "y = S.Signal(randn(3,90), 0.5ms, tdim=2)"
   ]
  },
  {
   "cell_type": "code",
   "execution_count": 153,
   "metadata": {},
   "outputs": [
    {
     "data": {
      "text/plain": [
       "Main.S.Signal{Float64, 2}"
      ]
     },
     "execution_count": 153,
     "metadata": {},
     "output_type": "execute_result"
    }
   ],
   "source": [
    "typeof(y)"
   ]
  },
  {
   "cell_type": "code",
   "execution_count": 154,
   "metadata": {},
   "outputs": [
    {
     "data": {
      "text/plain": [
       "Main.S.Signal{Quantity{Float64, 𝐋^2 𝐌 𝐈^-1 𝐓^-4, Unitful.FreeUnits{(ms^-1, mV), 𝐋^2 𝐌 𝐈^-1 𝐓^-4, nothing}}, 1}"
      ]
     },
     "execution_count": 154,
     "metadata": {},
     "output_type": "execute_result"
    }
   ],
   "source": [
    "typeof(x)"
   ]
  },
  {
   "cell_type": "code",
   "execution_count": 18,
   "metadata": {},
   "outputs": [],
   "source": [
    "import Unitful: Voltage, Time, Current"
   ]
  },
  {
   "cell_type": "code",
   "execution_count": 19,
   "metadata": {},
   "outputs": [
    {
     "data": {
      "text/plain": [
       "Union{Quantity{T, 𝐋^2 𝐌 𝐈^-1 𝐓^-3, U}, Level{L, S, Quantity{T, 𝐋^2 𝐌 𝐈^-1 𝐓^-3, U}} where {L, S}} where {T, U}"
      ]
     },
     "execution_count": 19,
     "metadata": {},
     "output_type": "execute_result"
    }
   ],
   "source": [
    "Voltage"
   ]
  },
  {
   "cell_type": "code",
   "execution_count": 20,
   "metadata": {},
   "outputs": [
    {
     "data": {
      "text/plain": [
       "Union{Quantity{T, 𝐓, U}, Level{L, S, Quantity{T, 𝐓, U}} where {L, S}} where {T, U}"
      ]
     },
     "execution_count": 20,
     "metadata": {},
     "output_type": "execute_result"
    }
   ],
   "source": [
    "Time"
   ]
  }
 ],
 "metadata": {
  "kernelspec": {
   "display_name": "Julia 1.7.0",
   "language": "julia",
   "name": "julia-1.7"
  },
  "language_info": {
   "file_extension": ".jl",
   "mimetype": "application/julia",
   "name": "julia",
   "version": "1.7.0"
  },
  "toc": {
   "base_numbering": 1,
   "nav_menu": {},
   "number_sections": false,
   "sideBar": false,
   "skip_h1_title": true,
   "title_cell": "Table of Contents",
   "title_sidebar": "Contents",
   "toc_cell": false,
   "toc_position": {
    "height": "439.333px",
    "left": "144px",
    "top": "32.562px",
    "width": "256px"
   },
   "toc_section_display": false,
   "toc_window_display": false
  }
 },
 "nbformat": 4,
 "nbformat_minor": 4
}
