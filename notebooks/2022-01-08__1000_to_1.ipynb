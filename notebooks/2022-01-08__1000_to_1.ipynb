{
 "cells": [
  {
   "cell_type": "markdown",
   "metadata": {},
   "source": [
    "# 2022-01-08 • 1000-to-1"
   ]
  },
  {
   "cell_type": "code",
   "execution_count": 1,
   "metadata": {
    "scrolled": true
   },
   "outputs": [
    {
     "name": "stdout",
     "output_type": "stream",
     "text": [
      "using Revise\n",
      "using Distributions\n",
      "using DataFrames, PrettyTables\n",
      "using PartialFunctions: $\n",
      "using PyFormattedStrings, LaTeXStrings, FilePaths, Colors\n",
      "using Unitful: mV, Hz, ms, s as second, minute\n",
      "using PyPlot: PyPlot as plt, matplotlib as mpl\n",
      "using VoltageToMap\n"
     ]
    },
    {
     "name": "stderr",
     "output_type": "stream",
     "text": [
      "┌ Warning: `vendor()` is deprecated, use `BLAS.get_config()` and inspect the output instead\n",
      "│   caller = npyinitialize() at numpy.jl:67\n",
      "└ @ PyCall C:\\Users\\tfiers\\.julia\\packages\\PyCall\\L0fLP\\src\\numpy.jl:67\n"
     ]
    }
   ],
   "source": [
    "include(\"nb_init.jl\");"
   ]
  },
  {
   "cell_type": "code",
   "execution_count": 2,
   "metadata": {},
   "outputs": [],
   "source": [
    "save(fname) = savefig(fname, subdir=\"methods\");"
   ]
  },
  {
   "cell_type": "markdown",
   "metadata": {},
   "source": [
    "## Firing rates"
   ]
  },
  {
   "cell_type": "markdown",
   "metadata": {},
   "source": [
    "We want Poisson firing, i.e. ISIs with an exponential distribution.  \n",
    "Firing rates lognormally distributed (instead of all the same, as before)."
   ]
  },
  {
   "cell_type": "code",
   "execution_count": 3,
   "metadata": {},
   "outputs": [],
   "source": [
    "\"\"\"\n",
    "`μ` and `σ` are mean and standard deviation of the underlying Gaussian.\n",
    "`μₓ` is the mean of the log of the Gaussian.\n",
    "\"\"\"\n",
    "function LogNormal_with_mean(μₓ, σ)\n",
    "    μ = log(μₓ / unit(μₓ)) - σ^2 / 2\n",
    "    LogNormal(μ, σ)\n",
    "end;"
   ]
  },
  {
   "cell_type": "code",
   "execution_count": 4,
   "metadata": {},
   "outputs": [
    {
     "data": {
      "text/plain": [
       "LogNormal{Float64}(μ=1.0862943611198905, σ=0.7745966692414834)"
      ]
     },
     "execution_count": 4,
     "metadata": {},
     "output_type": "execute_result"
    }
   ],
   "source": [
    "# Mean and variance from Roxin2011 (cross checked with its refs Hromádka, O'Connor).\n",
    "input_spike_rate = LogNormal_with_mean(4Hz, √0.6)"
   ]
  },
  {
   "cell_type": "code",
   "execution_count": 5,
   "metadata": {},
   "outputs": [
    {
     "data": {
      "text/plain": [
       "LogNormal{Float64}(μ=1.0894379124341003, σ=1.019803902718557)"
      ]
     },
     "execution_count": 5,
     "metadata": {},
     "output_type": "execute_result"
    }
   ],
   "source": [
    "roxin = LogNormal_with_mean(5Hz, √1.04)"
   ]
  },
  {
   "cell_type": "code",
   "execution_count": 6,
   "metadata": {
    "scrolled": true
   },
   "outputs": [
    {
     "data": {
      "text/plain": [
       "0.296337"
      ]
     },
     "execution_count": 6,
     "metadata": {},
     "output_type": "execute_result"
    }
   ],
   "source": [
    "gauss_variance = σ² = (σ_X, μ_X) -> log(1 + σ_X^2 / μ_X^2)\n",
    "gauss_variance(7.4Hz, 12.6Hz)  # for oconnor"
   ]
  },
  {
   "cell_type": "code",
   "execution_count": 7,
   "metadata": {},
   "outputs": [
    {
     "data": {
      "text/plain": [
       "LogNormal{Float64}(μ=1.8514800002101244, σ=0.5477225575051661)"
      ]
     },
     "execution_count": 7,
     "metadata": {},
     "output_type": "execute_result"
    }
   ],
   "source": [
    "oconnor = LogNormal_with_mean(7.4Hz, √0.3)"
   ]
  },
  {
   "cell_type": "code",
   "execution_count": 8,
   "metadata": {
    "scrolled": false
   },
   "outputs": [
    {
     "ename": "LoadError",
     "evalue": "MethodError: no method matching pdf(::LogNormal{Float64}, ::Quantity{Float64, 𝐓^-1, Unitful.FreeUnits{(Hz,), 𝐓^-1, nothing}})\n\u001b[0mClosest candidates are:\n\u001b[0m  pdf(::LogNormal, \u001b[91m::Real\u001b[39m) at C:\\Users\\tfiers\\OneDrive\\PhD\\voltage-to-wiring-sim\\codebase\\julia\\dev\\Distributions\\src\\univariate\\continuous\\lognormal.jl:94\n\u001b[0m  pdf(::Distribution{ArrayLikeVariate{N}}, \u001b[91m::AbstractArray{<:Real, N}\u001b[39m) where N at C:\\Users\\tfiers\\OneDrive\\PhD\\voltage-to-wiring-sim\\codebase\\julia\\dev\\Distributions\\src\\common.jl:188\n\u001b[0m  pdf(::Distribution{ArrayLikeVariate{N}}, \u001b[91m::AbstractArray{<:AbstractArray{<:Real, N}}\u001b[39m) where N at C:\\Users\\tfiers\\OneDrive\\PhD\\voltage-to-wiring-sim\\codebase\\julia\\dev\\Distributions\\src\\common.jl:243\n\u001b[0m  ...",
     "output_type": "error",
     "traceback": [
      "MethodError: no method matching pdf(::LogNormal{Float64}, ::Quantity{Float64, 𝐓^-1, Unitful.FreeUnits{(Hz,), 𝐓^-1, nothing}})\n\u001b[0mClosest candidates are:\n\u001b[0m  pdf(::LogNormal, \u001b[91m::Real\u001b[39m) at C:\\Users\\tfiers\\OneDrive\\PhD\\voltage-to-wiring-sim\\codebase\\julia\\dev\\Distributions\\src\\univariate\\continuous\\lognormal.jl:94\n\u001b[0m  pdf(::Distribution{ArrayLikeVariate{N}}, \u001b[91m::AbstractArray{<:Real, N}\u001b[39m) where N at C:\\Users\\tfiers\\OneDrive\\PhD\\voltage-to-wiring-sim\\codebase\\julia\\dev\\Distributions\\src\\common.jl:188\n\u001b[0m  pdf(::Distribution{ArrayLikeVariate{N}}, \u001b[91m::AbstractArray{<:AbstractArray{<:Real, N}}\u001b[39m) where N at C:\\Users\\tfiers\\OneDrive\\PhD\\voltage-to-wiring-sim\\codebase\\julia\\dev\\Distributions\\src\\common.jl:243\n\u001b[0m  ...",
      "",
      "Stacktrace:",
      " [1] _broadcast_getindex_evalf",
      "   @ .\\broadcast.jl:670 [inlined]",
      " [2] _broadcast_getindex",
      "   @ .\\broadcast.jl:643 [inlined]",
      " [3] getindex",
      "   @ .\\broadcast.jl:597 [inlined]",
      " [4] copy",
      "   @ .\\broadcast.jl:899 [inlined]",
      " [5] materialize(bc::Base.Broadcast.Broadcasted{Base.Broadcast.DefaultArrayStyle{1}, Nothing, typeof(pdf), Tuple{Base.RefValue{LogNormal{Float64}}, StepRangeLen{Quantity{Float64, 𝐓^-1, Unitful.FreeUnits{(Hz,), 𝐓^-1, nothing}}, Base.TwicePrecision{Quantity{Float64, 𝐓^-1, Unitful.FreeUnits{(Hz,), 𝐓^-1, nothing}}}, Base.TwicePrecision{Quantity{Float64, 𝐓^-1, Unitful.FreeUnits{(Hz,), 𝐓^-1, nothing}}}, Int64}}})",
      "   @ Base.Broadcast .\\broadcast.jl:860",
      " [6] plot_firing_rate_distr(distr::LogNormal{Float64}; kw::Base.Pairs{Symbol, Any, Tuple{Symbol, Symbol}, NamedTuple{(:label, :c), Tuple{String, RGB{FixedPointNumbers.N0f8}}}})",
      "   @ Main .\\In[8]:6",
      " [7] top-level scope",
      "   @ In[8]:11",
      " [8] eval",
      "   @ .\\boot.jl:373 [inlined]",
      " [9] include_string(mapexpr::typeof(REPL.softscope), mod::Module, code::String, filename::String)",
      "   @ Base .\\loading.jl:1196"
     ]
    }
   ],
   "source": [
    "fig, (ax1, ax2, ax3) = plt.subplots(ncols=3, figsize=(8, 2.2))\n",
    "\n",
    "rlin = (0:0.01:15)Hz\n",
    "rlog = exp10.(log10(0.04):0.01:log10(41))Hz\n",
    "function plot_firing_rate_distr(distr; kw...)\n",
    "    plot(rlin, pdf.(distr, rlin), ax1; clip_on=false, kw...)\n",
    "    plot(rlog, pdf.(distr, rlog), ax2; clip_on=false, xscale=\"log\", kw...)\n",
    "    plot(rlin, cdf.(distr, rlin), ax3; clip_on=false, ylim=(0,1), kw...)\n",
    "end\n",
    "\n",
    "plot_firing_rate_distr(roxin, label=\"Roxin\", c=lighten(C2, 0.4))\n",
    "plot_firing_rate_distr(oconnor, label=\"O'Connor\", c=lighten(C1, 0.4))\n",
    "plot_firing_rate_distr(input_spike_rate, label=\"This study\", c=C0, lw=2.7)\n",
    "\n",
    "set(ax1; xlabel=\"Input firing rate\", ytickstyle=:range, hylabel=\"Probability density\")\n",
    "set(ax2; xlabel=(\"(log scale)\", :loc=>:center), yaxis=:off)\n",
    "set(ax3; hylabel=\"Cumulative probability\")\n",
    "deemph(:yaxis, ax1)\n",
    "legend(ax2, loc=\"center\", bbox_to_anchor=(-0.14, 0.7), reorder=[3=>1])\n",
    "ax2.get_legend().set_in_layout(false)\n",
    "plt.tight_layout(w_pad=1)\n",
    "\n",
    "save(\"log-normal.pdf\")"
   ]
  },
  {
   "cell_type": "code",
   "execution_count": 196,
   "metadata": {},
   "outputs": [
    {
     "name": "stdout",
     "output_type": "stream",
     "text": [
      "\u001b[1m name       \u001b[0m\u001b[1m σ     \u001b[0m\u001b[1m mean \u001b[0m\u001b[1m median \u001b[0m\u001b[1m std  \u001b[0m\u001b[1m var  \u001b[0m\n",
      "─────────────────────────────────────────────\n",
      " oconnor     0.548   7.4    6.37  4.38  19.2\n",
      " roxin       1.02    5      2.97  6.76  45.7\n",
      " this study  0.775   4      2.96  3.63  13.2"
     ]
    }
   ],
   "source": [
    "distrs = [oconnor, roxin, input_spike_rate]\n",
    "DataFrame(\n",
    "    name=[\"oconnor\", \"roxin\", \"this study\"],\n",
    "    σ=getfield.(distrs, :σ),\n",
    "    mean=mean.(distrs),\n",
    "    median=median.(distrs),\n",
    "    std=std.(distrs),\n",
    "    var=var.(distrs),\n",
    ") |> printsimple"
   ]
  },
  {
   "cell_type": "markdown",
   "metadata": {},
   "source": [
    "## ."
   ]
  },
  {
   "cell_type": "code",
   "execution_count": 42,
   "metadata": {},
   "outputs": [
    {
     "data": {
      "text/plain": [
       "1300"
      ]
     },
     "execution_count": 42,
     "metadata": {},
     "output_type": "execute_result"
    }
   ],
   "source": [
    "Nunconn = 100\n",
    "Nexc    = 5200\n",
    "Ninh    = Nexc ÷ 4"
   ]
  },
  {
   "cell_type": "code",
   "execution_count": 43,
   "metadata": {},
   "outputs": [
    {
     "data": {
      "text/plain": [
       "6500"
      ]
     },
     "execution_count": 43,
     "metadata": {},
     "output_type": "execute_result"
    }
   ],
   "source": [
    "Ninh + Nexc"
   ]
  },
  {
   "cell_type": "code",
   "execution_count": 44,
   "metadata": {},
   "outputs": [],
   "source": [
    "using DataStructures: PriorityQueue\n",
    "using Unitful: Time"
   ]
  },
  {
   "cell_type": "code",
   "execution_count": 55,
   "metadata": {},
   "outputs": [
    {
     "ename": "LoadError",
     "evalue": "MethodError: no method matching Exponential(::Float64)\n\u001b[0mClosest candidates are:\n\u001b[0m  Exponential(\u001b[91m::Quantity\u001b[39m) at C:\\Users\\tfiers\\OneDrive\\PhD\\voltage-to-wiring-sim\\src\\unitfuldistributions.jl:22",
     "output_type": "error",
     "traceback": [
      "MethodError: no method matching Exponential(::Float64)\n\u001b[0mClosest candidates are:\n\u001b[0m  Exponential(\u001b[91m::Quantity\u001b[39m) at C:\\Users\\tfiers\\OneDrive\\PhD\\voltage-to-wiring-sim\\src\\unitfuldistributions.jl:22",
      "",
      "Stacktrace:",
      " [1] _broadcast_getindex_evalf",
      "   @ .\\broadcast.jl:670 [inlined]",
      " [2] _broadcast_getindex",
      "   @ .\\broadcast.jl:643 [inlined]",
      " [3] getindex",
      "   @ .\\broadcast.jl:597 [inlined]",
      " [4] copy",
      "   @ .\\broadcast.jl:899 [inlined]",
      " [5] materialize(bc::Base.Broadcast.Broadcasted{Base.Broadcast.DefaultArrayStyle{1}, Nothing, Type{Exponential}, Tuple{Vector{Float64}}})",
      "   @ Base.Broadcast .\\broadcast.jl:860",
      " [6] top-level scope",
      "   @ In[55]:2",
      " [7] eval",
      "   @ .\\boot.jl:373 [inlined]",
      " [8] include_string(mapexpr::typeof(REPL.softscope), mod::Module, code::String, filename::String)",
      "   @ Base .\\loading.jl:1196"
     ]
    }
   ],
   "source": [
    "λ = rand(input_spike_rate, Nexc)  # Hz\n",
    "exps = Exponential.(λ)  # Hz\n",
    "first_spiketimes = rand.(exps) * second\n",
    "\n",
    "pq = PriorityQueue{Int, Time}()\n",
    "for (i, t) in enumerate(first_spiketimes)\n",
    "    enqueue!(pq, i => t)\n",
    "end\n",
    "\n",
    "sim_duration = 10*second;\n",
    "t = 0.0*second\n",
    "while t < sim_duration\n",
    "    i, t = dequeue_pair!(pq)  # earliest spike\n",
    "    new_ISI = rand(exps[i]) * second\n",
    "    enqueue!(pq, i => t + new_ISI)\n",
    "end"
   ]
  },
  {
   "cell_type": "code",
   "execution_count": 535,
   "metadata": {},
   "outputs": [],
   "source": [
    "using OrdinaryDiffEq\n",
    "using ComponentArrays\n",
    "using Parameters\n",
    "using Unitful: nS, pF, pA"
   ]
  },
  {
   "cell_type": "code",
   "execution_count": 523,
   "metadata": {},
   "outputs": [],
   "source": [
    "@with_kw struct IzhikevichParams\n",
    "    C = 100 * pF\n",
    "    k = 0.7 * (nS/mV)\n",
    "    b = -2 * nS\n",
    "    v_r    = -60 * mV\n",
    "    v_t    = -40 * mV\n",
    "    v_peak =  35 * mV\n",
    "    c      = -50 * mV\n",
    "    a = 0.03 / ms\n",
    "    d = 100 * pA\n",
    "end\n",
    "cortical_RS = IzhikevichParams();\n",
    "\n",
    "τ_syn = 7 * ms;"
   ]
  },
  {
   "cell_type": "code",
   "execution_count": 590,
   "metadata": {},
   "outputs": [
    {
     "data": {
      "text/plain": [
       "t: 0.0 s\n",
       "u: \u001b[0mComponentVector{Quantity{Float64}}(v = -80.0 mV, u = 0.0 pA)"
      ]
     },
     "execution_count": 590,
     "metadata": {},
     "output_type": "execute_result"
    }
   ],
   "source": [
    "function f(D, vars, params, t)\n",
    "    @unpack C, k, b, v_r, v_t, v_peak, c, a, d = params\n",
    "    @unpack v, u = vars\n",
    "    D.v = (k * (v - v_r) * (v - v_t) - u) / C\n",
    "    D.u = a * (b * (v - v_r) - u)\n",
    "    D.g = -g / τ_syn\n",
    "    return nothing\n",
    "end\n",
    "\n",
    "x0 = ComponentArray(v = -80.0mV, u = 0.0pA)\n",
    "prob = ODEProblem(f, x0, float(sim_duration), cortical_RS)\n",
    "Δt = 0.1ms\n",
    "integrator = init(prob, Tsit5(); Δt, adaptive=true)"
   ]
  },
  {
   "cell_type": "code",
   "execution_count": 617,
   "metadata": {},
   "outputs": [
    {
     "data": {
      "image/png": "[encoded data removed]",
      "text/plain": [
       "PyPlot.Figure(PyObject <Figure size 800x480 with 1 Axes>)"
      ]
     },
     "metadata": {
      "image/png": {
       "height": 240,
       "width": 400
      }
     },
     "output_type": "display_data"
    }
   ],
   "source": [
    "t = 0ms:0.1ms:sim_duration\n",
    "v = t -> sol(t).v / mV |> NoUnits\n",
    "plot(t, v.(t));"
   ]
  }
 ],
 "metadata": {
  "jupytext": {
   "encoding": "# -*- coding: utf-8 -*-",
   "formats": "ipynb,jl:light"
  },
  "kernelspec": {
   "display_name": "Julia 1.7.0",
   "language": "julia",
   "name": "julia-1.7"
  },
  "language_info": {
   "file_extension": ".jl",
   "mimetype": "application/julia",
   "name": "julia",
   "version": "1.7.0"
  },
  "toc": {
   "base_numbering": 1,
   "nav_menu": {},
   "number_sections": false,
   "sideBar": false,
   "skip_h1_title": true,
   "title_cell": "Table of Contents",
   "title_sidebar": "Contents",
   "toc_cell": false,
   "toc_position": {
    "height": "439.333px",
    "left": "144px",
    "top": "32.562px",
    "width": "256px"
   },
   "toc_section_display": false,
   "toc_window_display": false
  }
 },
 "nbformat": 4,
 "nbformat_minor": 4
}
