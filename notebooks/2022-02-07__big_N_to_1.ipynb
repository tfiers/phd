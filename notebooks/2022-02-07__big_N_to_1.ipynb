{
 "cells": [
  {
   "cell_type": "markdown",
   "metadata": {},
   "source": [
    "# 2022-02-07 • Big-N-to-1 simulation"
   ]
  },
  {
   "cell_type": "code",
   "execution_count": 1,
   "metadata": {},
   "outputs": [],
   "source": [
    "# Pkg.resolve()"
   ]
  },
  {
   "cell_type": "code",
   "execution_count": 4,
   "metadata": {},
   "outputs": [
    {
     "name": "stdout",
     "output_type": "stream",
     "text": [
      "\u001b[36m\u001b[1m[ \u001b[22m\u001b[39m\u001b[36m\u001b[1mInfo: \u001b[22m\u001b[39musing Revise\n",
      "\u001b[36m\u001b[1m[ \u001b[22m\u001b[39m\u001b[36m\u001b[1mInfo: \u001b[22m\u001b[39mimport Distributions\n",
      "\u001b[36m\u001b[1m[ \u001b[22m\u001b[39m\u001b[36m\u001b[1mInfo: \u001b[22m\u001b[39mimport PyPlot\n",
      "\u001b[36m\u001b[1m[ \u001b[22m\u001b[39m\u001b[36m\u001b[1mInfo: \u001b[22m\u001b[39mimport DataFrames, PrettyTables\n",
      "\u001b[36m\u001b[1m[ \u001b[22m\u001b[39m\u001b[36m\u001b[1mInfo: \u001b[22m\u001b[39mimport MyToolbox\n",
      "\u001b[36m\u001b[1m[ \u001b[22m\u001b[39m\u001b[36m\u001b[1mInfo: \u001b[22m\u001b[39musing VoltageToMap\n"
     ]
    }
   ],
   "source": [
    "include(\"nb_init.jl\")"
   ]
  },
  {
   "cell_type": "code",
   "execution_count": 29,
   "metadata": {},
   "outputs": [],
   "source": [
    "using Parameters, ComponentArrays\n",
    "\n",
    "@alias CArray = ComponentArray;"
   ]
  },
  {
   "cell_type": "code",
   "execution_count": 6,
   "metadata": {},
   "outputs": [],
   "source": [
    "save(fname) = savefig(fname, subdir=\"methods\");"
   ]
  },
  {
   "cell_type": "markdown",
   "metadata": {},
   "source": [
    "## Parameters"
   ]
  },
  {
   "cell_type": "code",
   "execution_count": 8,
   "metadata": {},
   "outputs": [],
   "source": [
    "sim_duration = 10 * seconds\n",
    "Δt = 0.1 * ms;"
   ]
  },
  {
   "cell_type": "markdown",
   "metadata": {},
   "source": [
    "### Input spikers"
   ]
  },
  {
   "cell_type": "code",
   "execution_count": 9,
   "metadata": {},
   "outputs": [
    {
     "data": {
      "text/plain": [
       "1300"
      ]
     },
     "execution_count": 9,
     "metadata": {},
     "output_type": "execute_result"
    }
   ],
   "source": [
    "N_unconn = 100\n",
    "N_exc    = 5200\n",
    "N_inh    = N_exc ÷ 4"
   ]
  },
  {
   "cell_type": "code",
   "execution_count": 10,
   "metadata": {
    "scrolled": true
   },
   "outputs": [
    {
     "data": {
      "text/plain": [
       "6500"
      ]
     },
     "execution_count": 10,
     "metadata": {},
     "output_type": "execute_result"
    }
   ],
   "source": [
    "N_conn = N_inh + N_exc"
   ]
  },
  {
   "cell_type": "code",
   "execution_count": 11,
   "metadata": {},
   "outputs": [
    {
     "data": {
      "text/plain": [
       "6600"
      ]
     },
     "execution_count": 11,
     "metadata": {},
     "output_type": "execute_result"
    }
   ],
   "source": [
    "N = N_conn + N_unconn"
   ]
  },
  {
   "cell_type": "code",
   "execution_count": 12,
   "metadata": {},
   "outputs": [
    {
     "data": {
      "text/plain": [
       "LogNormal{Float64}(μ=1.0862943611198905, σ=0.7745966692414834)"
      ]
     },
     "execution_count": 12,
     "metadata": {},
     "output_type": "execute_result"
    }
   ],
   "source": [
    "input_spike_rate = LogNormal_with_mean(4Hz, √0.6)  # See the previous notebook"
   ]
  },
  {
   "cell_type": "markdown",
   "metadata": {},
   "source": [
    "### Synapses"
   ]
  },
  {
   "cell_type": "markdown",
   "metadata": {},
   "source": [
    "Reversal potential at excitatory and inhibitory synapses,  \n",
    "as in the report [`2021-11-11__synaptic_conductance_ratio.pdf`](https://github.com/tfiers/phd-thesis/blob/main/reports/2021-11-11__synaptic_conductance_ratio.pdf):"
   ]
  },
  {
   "cell_type": "code",
   "execution_count": 13,
   "metadata": {},
   "outputs": [],
   "source": [
    "v_exc =   0 * mV\n",
    "v_inh = -65 * mV;"
   ]
  },
  {
   "cell_type": "markdown",
   "metadata": {},
   "source": [
    "Exponential decay time constant of synaptic conductance `g`, $τ_{s}$ (`s` for \"synaptic\"):"
   ]
  },
  {
   "cell_type": "code",
   "execution_count": 14,
   "metadata": {},
   "outputs": [],
   "source": [
    "τs =   7 * ms;"
   ]
  },
  {
   "cell_type": "markdown",
   "metadata": {},
   "source": [
    "### Izhikevich neuron"
   ]
  },
  {
   "cell_type": "markdown",
   "metadata": {},
   "source": [
    "Membrane potential `v` and adaptation variable `u` at `t = 0`:"
   ]
  },
  {
   "cell_type": "code",
   "execution_count": 15,
   "metadata": {},
   "outputs": [],
   "source": [
    "v0    = -80 * mV\n",
    "u0    =   0 * pA;"
   ]
  },
  {
   "cell_type": "markdown",
   "metadata": {},
   "source": [
    "Parameters for a cortical regular spiking neuron:"
   ]
  },
  {
   "cell_type": "code",
   "execution_count": 16,
   "metadata": {},
   "outputs": [],
   "source": [
    "@with_kw struct IzhikevichParams\n",
    "    C      = 100 * pF\n",
    "    k      = 0.7 * (nS/mV)\n",
    "    b      = -2 * nS\n",
    "    v_r    = -60 * mV\n",
    "    v_t    = -40 * mV\n",
    "    v_peak =  35 * mV\n",
    "    c      = -50 * mV\n",
    "    a      = 0.03 / ms\n",
    "    d      = 100 * pA\n",
    "end\n",
    "\n",
    "cortical_RS = IzhikevichParams();"
   ]
  },
  {
   "cell_type": "markdown",
   "metadata": {},
   "source": [
    "## Neuron IDs"
   ]
  },
  {
   "cell_type": "code",
   "execution_count": 17,
   "metadata": {},
   "outputs": [
    {
     "data": {
      "text/plain": [
       "\u001b[0mComponentVector{Int64}(exc = [1, 2, 3, 4, 5, 6, 7, 8, 9, 10  …  5191, 5192, 5193, 5194, 5195, 5196, 5197, 5198, 5199, 5200], inh = [1, 2, 3, 4, 5, 6, 7, 8, 9, 10  …  1291, 1292, 1293, 1294, 1295, 1296, 1297, 1298, 1299, 1300], unconn = [1, 2, 3, 4, 5, 6, 7, 8, 9, 10  …  91, 92, 93, 94, 95, 96, 97, 98, 99, 100])"
      ]
     },
     "execution_count": 17,
     "metadata": {},
     "output_type": "execute_result"
    }
   ],
   "source": [
    "neuron_ids = CArray(exc = 1:N_exc, inh = 1:N_inh, unconn = 1:N_unconn)"
   ]
  },
  {
   "cell_type": "code",
   "execution_count": 18,
   "metadata": {},
   "outputs": [
    {
     "data": {
      "text/plain": [
       "Axis(exc = 1:5200, inh = 5201:6500, unconn = 6501:6600)"
      ]
     },
     "execution_count": 18,
     "metadata": {},
     "output_type": "execute_result"
    }
   ],
   "source": [
    "only(getaxes(neuron_ids))"
   ]
  },
  {
   "cell_type": "code",
   "execution_count": 19,
   "metadata": {},
   "outputs": [
    {
     "name": "stdout",
     "output_type": "stream",
     "text": [
      "6600-element Vector{String}:\n",
      "    1: \"exc[1]\"\n",
      "    2: \"exc[2]\"\n",
      "    ⋮\n",
      " 2838: \"exc[2838]\"\n",
      "    ⋮\n",
      " 4479: \"exc[4479]\"\n",
      "    ⋮\n",
      " 6599: \"unconn[99]\"\n",
      " 6600: \"unconn[100]\"\n"
     ]
    }
   ],
   "source": [
    "showsome(labels(neuron_ids))"
   ]
  },
  {
   "cell_type": "markdown",
   "metadata": {},
   "source": [
    "i.e. a neuron's **global** ID = its index into the [ComponentVector](https://github.com/jonniedie/ComponentArrays.jl) \"`neuron_ids`\"."
   ]
  },
  {
   "cell_type": "markdown",
   "metadata": {},
   "source": [
    "## Inputs"
   ]
  },
  {
   "cell_type": "code",
   "execution_count": 21,
   "metadata": {},
   "outputs": [],
   "source": [
    "λ = rand(input_spike_rate, N)  # sample firing rates, one for every input neuron\n",
    "β = 1 ./ λ                     # alternative Exp parametrisation: scale (= 1 / rate)\n",
    "ISI_distributions = Exponential.(β);\n",
    "#   This uses julia's broadcasting `.` syntax: make an `Expontential` distribution for every value in the β vector"
   ]
  },
  {
   "cell_type": "code",
   "execution_count": 23,
   "metadata": {},
   "outputs": [
    {
     "data": {
      "text/plain": [
       "\u001b[0mComponentVector{Float64}(E = [0.0, 0.0, 0.0, 0.0, 0.0, 0.0, 0.0, 0.0, 0.0, 0.0  …  0.0, 0.0, 0.0, 0.0, 0.0, 0.0, 0.0, 0.0, 0.0, 0.0], I = [-0.065, -0.065, -0.065, -0.065, -0.065, -0.065, -0.065, -0.065, -0.065, -0.065  …  -0.065, -0.065, -0.065, -0.065, -0.065, -0.065, -0.065, -0.065, -0.065, -0.065])"
      ]
     },
     "execution_count": 23,
     "metadata": {},
     "output_type": "execute_result"
    }
   ],
   "source": [
    "# Create v_syn vector: for each neuron, the reversal potential at its downstream synapses.\n",
    "vs = CArray(E=fill(v_exc, N_exc), I=fill(v_inh, N_inh))"
   ]
  },
  {
   "cell_type": "markdown",
   "metadata": {},
   "source": [
    "## Sim"
   ]
  },
  {
   "cell_type": "markdown",
   "metadata": {},
   "source": [
    "Proof of concept of spike generation using a priority queue."
   ]
  },
  {
   "cell_type": "code",
   "execution_count": 26,
   "metadata": {},
   "outputs": [],
   "source": [
    "using DataStructures\n",
    "\n",
    "first_spiketimes = rand.(ISI_distributions)\n",
    "\n",
    "pq = PriorityQueue{Int, Float64}()\n",
    "for (input_neuron, t) in enumerate(first_spiketimes)\n",
    "    enqueue!(pq, input_neuron => t)\n",
    "end\n",
    "\n",
    "t = 0s\n",
    "while t < sim_duration\n",
    "    input_neuron, t = dequeue_pair!(pq)  # earliest spike\n",
    "    new_ISI = rand(ISI_distributions[input_neuron])\n",
    "    enqueue!(pq, input_neuron => t + new_ISI)\n",
    "end"
   ]
  },
  {
   "cell_type": "markdown",
   "metadata": {},
   "source": [
    "Superfast."
   ]
  },
  {
   "cell_type": "code",
   "execution_count": 31,
   "metadata": {},
   "outputs": [],
   "source": [
    "using OrdinaryDiffEq"
   ]
  },
  {
   "cell_type": "code",
   "execution_count": 32,
   "metadata": {},
   "outputs": [
    {
     "data": {
      "text/plain": [
       "\u001b[36mODEProblem\u001b[0m with uType \u001b[36mComponentVector{Float64, Vector{Float64}, Tuple{Axis{(v = 1, u = 2)}}}\u001b[0m and tType \u001b[36mFloat64\u001b[0m. In-place: \u001b[36mtrue\u001b[0m\n",
       "timespan: (0.0, 10.0)\n",
       "u0: \u001b[0mComponentVector{Float64}(v = -0.08, u = 0.0)"
      ]
     },
     "execution_count": 32,
     "metadata": {},
     "output_type": "execute_result"
    }
   ],
   "source": [
    "function f(D, vars, params, t)\n",
    "    @unpack C, k, b, v_r, v_t, v_peak, c, a, d = params\n",
    "    @unpack v, u = vars\n",
    "    D.v = (k * (v - v_r) * (v - v_t) - u) / C\n",
    "    D.u = a * (b * (v - v_r) - u)\n",
    "    D.g = -g / τ_syn\n",
    "    return nothing\n",
    "end\n",
    "\n",
    "x0 = ComponentArray{Float64}(v = v0, u = u0)  # note eltype cast to float\n",
    "prob = ODEProblem(f, x0, float(sim_duration), cortical_RS)\n",
    "# integrator = init(prob, Tsit5(); Δt, adaptive=true)"
   ]
  },
  {
   "cell_type": "code",
   "execution_count": null,
   "metadata": {},
   "outputs": [],
   "source": [
    "t = 0ms:0.1ms:sim_duration\n",
    "v = t -> sol(t).v / mV\n",
    "plot(t, v.(t));"
   ]
  }
 ],
 "metadata": {
  "jupytext": {
   "encoding": "# -*- coding: utf-8 -*-",
   "formats": "ipynb,jl:light"
  },
  "kernelspec": {
   "display_name": "Julia 1.7.1",
   "language": "julia",
   "name": "julia-1.7"
  },
  "language_info": {
   "file_extension": ".jl",
   "mimetype": "application/julia",
   "name": "julia",
   "version": "1.7.1"
  },
  "toc": {
   "base_numbering": 1,
   "nav_menu": {},
   "number_sections": false,
   "sideBar": false,
   "skip_h1_title": true,
   "title_cell": "Table of Contents",
   "title_sidebar": "Contents",
   "toc_cell": false,
   "toc_position": {
    "height": "439.333px",
    "left": "144px",
    "top": "32.562px",
    "width": "256px"
   },
   "toc_section_display": false,
   "toc_window_display": false
  }
 },
 "nbformat": 4,
 "nbformat_minor": 4
}
