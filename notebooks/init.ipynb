{
 "cells": [
  {
   "cell_type": "markdown",
   "metadata": {},
   "source": [
    "# Initialization notebook"
   ]
  },
  {
   "cell_type": "code",
   "execution_count": null,
   "metadata": {},
   "outputs": [],
   "source": [
    "print(\"Importing np, mpl, plt\", end=\" … \")\n",
    "import numpy as np\n",
    "import matplotlib as mpl\n",
    "import matplotlib.pyplot as plt\n",
    "print(\"✔\")"
   ]
  },
  {
   "cell_type": "code",
   "execution_count": null,
   "metadata": {},
   "outputs": [],
   "source": [
    "print(\"Importing unyt\", end=\" … \")\n",
    "import unyt\n",
    "print(\"✔\")"
   ]
  },
  {
   "cell_type": "code",
   "execution_count": null,
   "metadata": {},
   "outputs": [],
   "source": [
    "print(\"Importing code package (voltage_to_wiring_sim), as `v`\", end=\" … \")\n",
    "import voltage_to_wiring_sim as v\n",
    "print(\"✔\")"
   ]
  },
  {
   "cell_type": "code",
   "execution_count": null,
   "metadata": {},
   "outputs": [],
   "source": [
    "from voltage_to_wiring_sim.units import *\n",
    "print(\"Imported * from v.units\")"
   ]
  },
  {
   "cell_type": "code",
   "execution_count": null,
   "metadata": {},
   "outputs": [],
   "source": [
    "%load_ext voltage_to_wiring_sim.auto_reload_package"
   ]
  },
  {
   "cell_type": "markdown",
   "metadata": {},
   "source": [
    "Double resolution plots (without taking up twice as much screen space)."
   ]
  },
  {
   "cell_type": "code",
   "execution_count": null,
   "metadata": {},
   "outputs": [],
   "source": [
    "from IPython.display import set_matplotlib_formats\n",
    "set_matplotlib_formats('retina')"
   ]
  },
  {
   "cell_type": "markdown",
   "metadata": {},
   "source": [
    "Floating point precision. (`%precision` supposedly also configures NumPy, but no dice. So we do it manually)."
   ]
  },
  {
   "cell_type": "code",
   "execution_count": null,
   "metadata": {},
   "outputs": [],
   "source": [
    "%precision %.4G\n",
    "\n",
    "def set_np_precision(digits=4):\n",
    "    np.set_printoptions(formatter={\n",
    "        'float_kind': lambda x: format(x, f'.{digits}G'),\n",
    "    })\n",
    "\n",
    "set_np_precision(4)"
   ]
  },
  {
   "cell_type": "code",
   "execution_count": null,
   "metadata": {},
   "outputs": [],
   "source": [
    "print(\"\"\"\n",
    "To see the source code responsible for this notebook:\n",
    "\n",
    "- Go to\n",
    "  https://github.com/tfiers/voltage-to-wiring-sim/tree/master/notebooks\n",
    "\n",
    "- In the file listing, click the commit message \n",
    "  next to this notebook's name\n",
    "\n",
    "- Click the \"Browse files\" button.\n",
    "\n",
    "This shows the entire repository as it was \n",
    "when this notebook was last modified.\"\"\")"
   ]
  }
 ],
 "metadata": {
  "kernelspec": {
   "display_name": "Python 3",
   "language": "python",
   "name": "python3"
  },
  "language_info": {
   "codemirror_mode": {
    "name": "ipython",
    "version": 3
   },
   "file_extension": ".py",
   "mimetype": "text/x-python",
   "name": "python",
   "nbconvert_exporter": "python",
   "pygments_lexer": "ipython3",
   "version": "3.8.3"
  },
  "toc": {
   "base_numbering": 1,
   "nav_menu": {},
   "number_sections": true,
   "sideBar": true,
   "skip_h1_title": false,
   "title_cell": "Table of Contents",
   "title_sidebar": "Contents",
   "toc_cell": false,
   "toc_position": {},
   "toc_section_display": true,
   "toc_window_display": false
  }
 },
 "nbformat": 4,
 "nbformat_minor": 4
}
