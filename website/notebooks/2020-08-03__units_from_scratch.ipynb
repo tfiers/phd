{
 "cells": [
  {
   "cell_type": "markdown",
   "metadata": {},
   "source": [
    "# 2020-08-03 • Signal API prototype: units from scratch"
   ]
  },
  {
   "cell_type": "code",
   "execution_count": 55,
   "metadata": {},
   "outputs": [],
   "source": [
    "import numpy as np\n",
    "from dataclasses import dataclass\n",
    "from IPython.lib.pretty import PrettyPrinter\n",
    "from typing import Optional"
   ]
  },
  {
   "cell_type": "markdown",
   "metadata": {},
   "source": [
    "## Unit"
   ]
  },
  {
   "cell_type": "code",
   "execution_count": 145,
   "metadata": {},
   "outputs": [],
   "source": [
    "@dataclass\n",
    "class Unit:\n",
    "    name: str\n",
    "    base_unit: Optional[Unit] = None\n",
    "    factor: int = 1  # With what to multiply a value in `self` units to get value in `base_unit`.\n",
    "\n",
    "    #\n",
    "    # Text representation in IPython/Jupyter\n",
    "    #\n",
    "    def _repr_pretty_(self, p: PrettyPrinter, cycle: bool):\n",
    "        p.text(self.name)\n",
    "\n",
    "    #\n",
    "    # Derived units convenience methods\n",
    "    #\n",
    "    @property\n",
    "    def milli(self) -> Unit:\n",
    "        return self._get_prefix_unit('m', 1e-3)\n",
    "    \n",
    "    @property\n",
    "    def micro(self) -> Unit:\n",
    "        return self._get_prefix_unit('μ', 1e-6)\n",
    "    \n",
    "    @property\n",
    "    def nano(self) -> Unit:\n",
    "        return self._get_prefix_unit('n', 1e-9)\n",
    "    \n",
    "    @property\n",
    "    def pico(self) -> Unit:\n",
    "        return self._get_prefix_unit('p', 1e-12)\n",
    "    \n",
    "    def _get_prefix_unit(self, prefix: str, factor: float):\n",
    "        return Unit(f'{prefix}{self.name}', base_unit=self, factor=factor)\n",
    "    \n",
    "    \n",
    "    \n",
    "    # self * other\n",
    "    def __rmul__(self, other):\n",
    "        return Array(other, unit=self)"
   ]
  },
  {
   "cell_type": "markdown",
   "metadata": {},
   "source": [
    "## Array"
   ]
  },
  {
   "cell_type": "code",
   "execution_count": 169,
   "metadata": {},
   "outputs": [],
   "source": [
    "from numbers import Number\n",
    "\n",
    "class Array:\n",
    "    def __init__(self, array, unit: Unit):\n",
    "        self.data = np.asarray(array) * unit.factor\n",
    "        self.unit = unit\n",
    "        \n",
    "    def _repr_pretty_(self, p: PrettyPrinter, cycle: bool):\n",
    "        display_value = self.data / self.unit.factor\n",
    "        arr_str = np.array2string(display_value,\n",
    "                                  formatter={'float_kind': lambda x: format(x, f'.4G')})\n",
    "        p.text(f\"{arr_str} \")\n",
    "        p.pretty(self.unit)"
   ]
  },
  {
   "cell_type": "code",
   "execution_count": 197,
   "metadata": {
    "scrolled": true
   },
   "outputs": [
    {
     "data": {
      "text/plain": [
       "[3 1 5] nV"
      ]
     },
     "execution_count": 197,
     "metadata": {},
     "output_type": "execute_result"
    }
   ],
   "source": [
    "volt = Unit('V')\n",
    "mV = volt.milli\n",
    "nV = volt.nano\n",
    "\n",
    "v = 3 * mV\n",
    "v\n",
    "\n",
    "va = [3,1,5] * nV\n",
    "va"
   ]
  }
 ],
 "metadata": {
  "kernelspec": {
   "display_name": "Python 3",
   "language": "python",
   "name": "python3"
  },
  "language_info": {
   "codemirror_mode": {
    "name": "ipython",
    "version": 3
   },
   "file_extension": ".py",
   "mimetype": "text/x-python",
   "name": "python",
   "nbconvert_exporter": "python",
   "pygments_lexer": "ipython3",
   "version": "3.8.3"
  },
  "toc": {
   "base_numbering": 1,
   "nav_menu": {},
   "number_sections": false,
   "sideBar": false,
   "skip_h1_title": false,
   "title_cell": "Table of Contents",
   "title_sidebar": "Contents",
   "toc_cell": false,
   "toc_position": {
    "height": "47.6px",
    "left": "1123.4px",
    "top": "0px",
    "width": "159px"
   },
   "toc_section_display": false,
   "toc_window_display": true
  }
 },
 "nbformat": 4,
 "nbformat_minor": 4
}
