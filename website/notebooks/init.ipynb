{
 "cells": [
  {
   "cell_type": "markdown",
   "metadata": {},
   "source": [
    "# Initialization notebook"
   ]
  },
  {
   "cell_type": "markdown",
   "metadata": {},
   "source": [
    "This is what is run when you see `%run ../init.ipynb` at the top of a notebook."
   ]
  },
  {
   "cell_type": "code",
   "execution_count": 1,
   "metadata": {},
   "outputs": [
    {
     "name": "stdout",
     "output_type": "stream",
     "text": [
      "Importing np, mpl, plt … ✔\n"
     ]
    }
   ],
   "source": [
    "print(\"Importing np, mpl, plt\", end=\" … \")\n",
    "import numpy as np\n",
    "import matplotlib as mpl\n",
    "import matplotlib.pyplot as plt\n",
    "print(\"✔\")"
   ]
  },
  {
   "cell_type": "code",
   "execution_count": 2,
   "metadata": {},
   "outputs": [
    {
     "name": "stdout",
     "output_type": "stream",
     "text": [
      "Importing unyt … ✔\n"
     ]
    }
   ],
   "source": [
    "print(\"Importing unyt\", end=\" … \")\n",
    "import unyt\n",
    "print(\"✔\")"
   ]
  },
  {
   "cell_type": "code",
   "execution_count": 3,
   "metadata": {},
   "outputs": [
    {
     "name": "stdout",
     "output_type": "stream",
     "text": [
      "Importing code package (voltage_to_wiring_sim), as `v` … ✔\n"
     ]
    }
   ],
   "source": [
    "print(\"Importing code package (voltage_to_wiring_sim), as `v`\", end=\" … \")\n",
    "import voltage_to_wiring_sim as v\n",
    "print(\"✔\")"
   ]
  },
  {
   "cell_type": "code",
   "execution_count": 4,
   "metadata": {},
   "outputs": [
    {
     "name": "stdout",
     "output_type": "stream",
     "text": [
      "Imported * from v.units\n"
     ]
    }
   ],
   "source": [
    "from voltage_to_wiring_sim.util import *\n",
    "from voltage_to_wiring_sim.units import *\n",
    "print(\"Imported * from v.util and from v.units\")"
   ]
  },
  {
   "cell_type": "code",
   "execution_count": null,
   "metadata": {},
   "outputs": [],
   "source": [
    "%reload_ext voltage_to_wiring_sim.auto_reload_package"
   ]
  },
  {
   "cell_type": "markdown",
   "metadata": {},
   "source": [
    "Double resolution plots (without taking up twice as much screen space)."
   ]
  },
  {
   "cell_type": "code",
   "execution_count": null,
   "metadata": {},
   "outputs": [],
   "source": [
    "from IPython.display import set_matplotlib_formats\n",
    "set_matplotlib_formats('retina')"
   ]
  },
  {
   "cell_type": "markdown",
   "metadata": {},
   "source": [
    "Print precision for (floating point) numbers."
   ]
  },
  {
   "cell_type": "code",
   "execution_count": null,
   "metadata": {},
   "outputs": [],
   "source": [
    "%precision %.4G\n",
    "\n",
    "def set_np_precision(digits=4):\n",
    "    # This allows eg `array([1000, 1E+05, 0.111])`\n",
    "    np.set_printoptions(formatter={\n",
    "        'float_kind': lambda x: format(x, f'.{digits}G'),\n",
    "    })\n",
    "\n",
    "set_np_precision(4)"
   ]
  }
 ],
 "metadata": {
  "kernelspec": {
   "display_name": "Python 3",
   "language": "python",
   "name": "python3"
  },
  "language_info": {
   "codemirror_mode": {
    "name": "ipython",
    "version": 3
   },
   "file_extension": ".py",
   "mimetype": "text/x-python",
   "name": "python",
   "nbconvert_exporter": "python",
   "pygments_lexer": "ipython3",
   "version": "3.8.3"
  },
  "toc": {
   "base_numbering": 1,
   "nav_menu": {},
   "number_sections": true,
   "sideBar": true,
   "skip_h1_title": false,
   "title_cell": "Table of Contents",
   "title_sidebar": "Contents",
   "toc_cell": false,
   "toc_position": {},
   "toc_section_display": true,
   "toc_window_display": false
  }
 },
 "nbformat": 4,
 "nbformat_minor": 4
}
